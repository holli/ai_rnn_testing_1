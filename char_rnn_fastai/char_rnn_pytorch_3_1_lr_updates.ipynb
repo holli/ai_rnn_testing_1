{
 "cells": [
  {
   "cell_type": "markdown",
   "metadata": {},
   "source": [
    "https://github.com/fastai/courses/blob/master/deeplearning1/nbs/char-rnn.ipynb"
   ]
  },
  {
   "cell_type": "code",
   "execution_count": 1,
   "metadata": {
    "collapsed": true
   },
   "outputs": [],
   "source": [
    "from IPython.core.interactiveshell import InteractiveShell\n",
    "InteractiveShell.ast_node_interactivity = \"all\""
   ]
  },
  {
   "cell_type": "code",
   "execution_count": null,
   "metadata": {
    "collapsed": true
   },
   "outputs": [],
   "source": []
  },
  {
   "cell_type": "code",
   "execution_count": 2,
   "metadata": {
    "collapsed": true
   },
   "outputs": [],
   "source": [
    "%matplotlib inline\n",
    "import importlib\n",
    "import matplotlib.pyplot as plt\n",
    "import matplotlib.ticker\n",
    "import numpy as np\n",
    "import random\n",
    "import time\n",
    "import os\n",
    "import pandas as pd\n",
    "import csv\n",
    "import math\n",
    "import bcolz\n",
    "import pickle\n",
    "import re\n",
    "import pathlib\n",
    "import datetime\n",
    "\n",
    "import torch\n",
    "import torch.nn as nn\n",
    "import torch.nn.functional as F\n",
    "import torch.optim as optim\n",
    "from torch.autograd import Variable\n",
    "\n",
    "SOS_TOKEN = '<SOS>' # Start Of Word"
   ]
  },
  {
   "cell_type": "markdown",
   "metadata": {
    "collapsed": true
   },
   "source": [
    "# Data setup"
   ]
  },
  {
   "cell_type": "code",
   "execution_count": 3,
   "metadata": {
    "collapsed": true
   },
   "outputs": [],
   "source": [
    "# importing keras might cause problems with cudann version etc\n",
    "# import keras # some good utils in here\n",
    "# path = keras.utils.data_utils.get_file('nietzsche.txt', origin=\"https://s3.amazonaws.com/text-datasets/nietzsche.txt\")"
   ]
  },
  {
   "cell_type": "code",
   "execution_count": 4,
   "metadata": {},
   "outputs": [
    {
     "data": {
      "text/plain": [
       "'/home/ohu/.keras/datasets/nietzsche.txt'"
      ]
     },
     "execution_count": 4,
     "metadata": {},
     "output_type": "execute_result"
    },
    {
     "name": "stdout",
     "output_type": "stream",
     "text": [
      "corpus length: 600893\n"
     ]
    }
   ],
   "source": [
    "path = '/home/ohu/.keras/datasets/nietzsche.txt'\n",
    "text = open(path).read().lower()\n",
    "path\n",
    "print('corpus length:', len(text))"
   ]
  },
  {
   "cell_type": "code",
   "execution_count": 5,
   "metadata": {},
   "outputs": [
    {
     "name": "stdout",
     "output_type": "stream",
     "text": [
      "not to be regarded as a pure type. Knowledge and science--as far as they\r\n",
      "existed--and superiority to the rest of mankind by logical discipline\r\n",
      "and training of the intellectual powers were insisted upon by the\r\n",
      "Buddhists as essential to sanctity, just as they were denounced by the\r\n",
      "christian world as the indications of sinfulness."
     ]
    }
   ],
   "source": [
    "!tail {path} -n5"
   ]
  },
  {
   "cell_type": "code",
   "execution_count": 6,
   "metadata": {},
   "outputs": [
    {
     "name": "stdout",
     "output_type": "stream",
     "text": [
      "total chars: 57\n"
     ]
    },
    {
     "data": {
      "text/plain": [
       "'\\n !\"\\'(),-.0123456789:;=?[]_abcdefghijklmnopqrstuvwxyzäæéë'"
      ]
     },
     "execution_count": 6,
     "metadata": {},
     "output_type": "execute_result"
    }
   ],
   "source": [
    "chars = sorted(list(set(text)))\n",
    "print('total chars:', len(chars))\n",
    "''.join(chars)"
   ]
  },
  {
   "cell_type": "code",
   "execution_count": 7,
   "metadata": {},
   "outputs": [
    {
     "data": {
      "text/plain": [
       "0"
      ]
     },
     "execution_count": 7,
     "metadata": {},
     "output_type": "execute_result"
    }
   ],
   "source": [
    "char_indices = dict((c, i) for i, c in enumerate(chars))\n",
    "char_indices['\\n']"
   ]
  },
  {
   "cell_type": "markdown",
   "metadata": {},
   "source": [
    "# Utils"
   ]
  },
  {
   "cell_type": "code",
   "execution_count": 8,
   "metadata": {},
   "outputs": [
    {
     "data": {
      "text/plain": [
       "torch.Size([1, 5, 57])"
      ]
     },
     "execution_count": 8,
     "metadata": {},
     "output_type": "execute_result"
    }
   ],
   "source": [
    "def string_to_tensor(in_str, chars_index=char_indices, as_variable=True):\n",
    "    \"\"\"Onehot encoded tensor of string\"\"\"\n",
    "    tensor_length = len(in_str)\n",
    "    tensor = torch.zeros(1, tensor_length, len(chars_index))\n",
    "    for li, letter in enumerate(in_str):\n",
    "        tensor[0, li, chars_index[letter]] = 1\n",
    "    if as_variable:\n",
    "        tensor = Variable(tensor).cuda()\n",
    "    return tensor\n",
    "\n",
    "string_to_tensor('hello', as_variable=False).size()"
   ]
  },
  {
   "cell_type": "code",
   "execution_count": 9,
   "metadata": {
    "collapsed": true
   },
   "outputs": [],
   "source": [
    "def time_since(since):\n",
    "    now = time.time()\n",
    "    s = now - since\n",
    "    m = math.floor(s / 60)\n",
    "    s -= m * 60\n",
    "    return '%dm %ds' % (m, s)"
   ]
  },
  {
   "cell_type": "markdown",
   "metadata": {},
   "source": [
    "# Char Rnn"
   ]
  },
  {
   "cell_type": "code",
   "execution_count": 10,
   "metadata": {},
   "outputs": [
    {
     "data": {
      "text/plain": [
       "CharRNN (\n",
       "  (rnn): GRU(57, 512, batch_first=True)\n",
       "  (lin_output): Linear (512 -> 57)\n",
       ")"
      ]
     },
     "execution_count": 10,
     "metadata": {},
     "output_type": "execute_result"
    }
   ],
   "source": [
    "class CharRNN(nn.Module):\n",
    "    def __init__(self, input_size, hidden_size):\n",
    "        super(CharRNN, self).__init__()\n",
    "        \n",
    "        self.input_size = input_size\n",
    "        self.hidden_size = hidden_size\n",
    "        self.layers = 1\n",
    "        \n",
    "        self.rnn = nn.GRU(input_size, hidden_size, batch_first=True)\n",
    "        self.lin_output = nn.Linear(hidden_size, input_size)\n",
    "        \n",
    "        \n",
    "    def forward(self, input_char_vs, hidden = None):\n",
    "        if hidden is None:\n",
    "            hidden = self.init_hidden()\n",
    "        \n",
    "        rnn_outputs, hidden = self.rnn(input_char_vs, hidden)\n",
    "        \n",
    "        output = self.lin_output(hidden)\n",
    "        output = F.log_softmax(output[0])\n",
    "       \n",
    "        return output, hidden\n",
    "\n",
    "    def init_hidden(self):\n",
    "        return Variable(torch.zeros(self.layers, 1, self.hidden_size)).cuda()\n",
    "    \n",
    "model = CharRNN(len(chars), 512).cuda()\n",
    "model"
   ]
  },
  {
   "cell_type": "code",
   "execution_count": 11,
   "metadata": {},
   "outputs": [
    {
     "data": {
      "text/plain": [
       "57"
      ]
     },
     "execution_count": 11,
     "metadata": {},
     "output_type": "execute_result"
    },
    {
     "data": {
      "text/plain": [
       "torch.Size([1, 1, 512])"
      ]
     },
     "execution_count": 11,
     "metadata": {},
     "output_type": "execute_result"
    }
   ],
   "source": [
    "#tmp = Variable(torch.FloatTensor([2]).view(1,1,-1)).cuda()\n",
    "#tmp = Variable(string_to_tensor('hello')).cuda()\n",
    "tmp = model(string_to_tensor('hello'))\n",
    "len(tmp[0][0])\n",
    "tmp[1].size()\n",
    "#chars[tmp[0].topk(1)[1].data[0][0]]"
   ]
  },
  {
   "cell_type": "code",
   "execution_count": 12,
   "metadata": {},
   "outputs": [
    {
     "data": {
      "text/plain": [
       "29"
      ]
     },
     "execution_count": 12,
     "metadata": {},
     "output_type": "execute_result"
    }
   ],
   "source": [
    "tmp[0][0].topk(1)[1].data[0]"
   ]
  },
  {
   "cell_type": "markdown",
   "metadata": {
    "collapsed": true
   },
   "source": [
    "# Eval"
   ]
  },
  {
   "cell_type": "code",
   "execution_count": 13,
   "metadata": {},
   "outputs": [
    {
     "name": "stdout",
     "output_type": "stream",
     "text": [
      "ethics is a basic foundation of all thatéééééééééééééééééééééééééééééééééééééééé\n"
     ]
    }
   ],
   "source": [
    "def print_example(iters=320, choice=True):\n",
    "    seed_string=\"ethics is a basic foundation of all that\"\n",
    "    for i in range(iters):\n",
    "        #x=np.array([char_indices[c] for c in seed_string[-40:]])[np.newaxis,:]\n",
    "        x = string_to_tensor(seed_string)\n",
    "        output, hidden = model(x)\n",
    "        if choice:\n",
    "            next_char = np.random.choice(chars, p=F.softmax(output)[0].data.cpu().numpy())\n",
    "        else:\n",
    "            next_char_idx = output.topk(1)[1].data[0][0]\n",
    "            next_char = chars[next_char_idx]\n",
    "        # return next_char\n",
    "        seed_string = seed_string + next_char\n",
    "    print(seed_string)\n",
    "#tmp = print_example(choice=False)\n",
    "tmp = print_example(iters=40, choice=False)\n",
    "tmp"
   ]
  },
  {
   "cell_type": "markdown",
   "metadata": {},
   "source": [
    "# Samples"
   ]
  },
  {
   "cell_type": "code",
   "execution_count": 14,
   "metadata": {},
   "outputs": [
    {
     "data": {
      "text/plain": [
       "'progress must _necessarily_ take place: b'"
      ]
     },
     "execution_count": 14,
     "metadata": {},
     "output_type": "execute_result"
    }
   ],
   "source": [
    "def get_random_sample_string(length=41):\n",
    "    sample_place = random.randint(0, len(text)-length-1)\n",
    "    sample = text[sample_place:sample_place+length]\n",
    "    return sample\n",
    "get_random_sample_string()"
   ]
  },
  {
   "cell_type": "code",
   "execution_count": 15,
   "metadata": {
    "collapsed": true
   },
   "outputs": [],
   "source": [
    "sample_size = 50000\n",
    "\n",
    "sample_sentence_size = 40\n",
    "sample_data = torch.zeros(sample_size, sample_sentence_size, len(chars)) # .cuda()\n",
    "#sample_target = torch.zeros((sample_size, sample_sentence_size, 1), torch.LongTensor)\n",
    "sample_target = torch.LongTensor(sample_size, sample_sentence_size, 1).zero_() # .cuda()\n",
    "for i in range(sample_size):\n",
    "    sample = get_random_sample_string(sample_sentence_size+1)\n",
    "    sample = [char_indices[c] for c in sample]\n",
    "    for j in range(sample_sentence_size):\n",
    "        sample_data[i][j][sample[j]] = 1\n",
    "        sample_target[i][j] = sample[j+1]"
   ]
  },
  {
   "cell_type": "code",
   "execution_count": 16,
   "metadata": {},
   "outputs": [
    {
     "data": {
      "text/plain": [
       "True"
      ]
     },
     "execution_count": 16,
     "metadata": {},
     "output_type": "execute_result"
    },
    {
     "data": {
      "text/plain": [
       "'riority: whereas here, no less than in t'"
      ]
     },
     "execution_count": 16,
     "metadata": {},
     "output_type": "execute_result"
    }
   ],
   "source": [
    "i = 5\n",
    "j = 10\n",
    "sample_data[i].topk(1)[1][j][0] == sample_target[i][j-1][0]\n",
    "''.join([chars[c[0]] for c in sample_data[i].topk(1)[1]])"
   ]
  },
  {
   "cell_type": "code",
   "execution_count": 17,
   "metadata": {},
   "outputs": [
    {
     "data": {
      "text/plain": [
       "('\"\"ggcggc99999999999999999999999999999999', 3.9511882502858233)"
      ]
     },
     "execution_count": 17,
     "metadata": {},
     "output_type": "execute_result"
    },
    {
     "data": {
      "text/plain": [
       "('gégg9gg9cé9cgcgcécé9c\"g\"\"\"\"gggc9ccccé9cc', 3.9489061309070124)"
      ]
     },
     "execution_count": 17,
     "metadata": {},
     "output_type": "execute_result"
    }
   ],
   "source": [
    "clip_parameters_value = 0.25\n",
    "\n",
    "def train_single(optimizer, loss_function, use_teacher_forcing):\n",
    "    model.zero_grad()\n",
    "    loss = 0\n",
    "    \n",
    "    sample_i = random.randint(0, len(sample_data)-1)\n",
    "    x = sample_data[sample_i]\n",
    "    y = sample_target[sample_i]\n",
    "    \n",
    "    input_char = x[0]\n",
    "    target = Variable(y).cuda()\n",
    "    \n",
    "    output_line = []\n",
    "    hidden = model.init_hidden()\n",
    "    \n",
    "    for i in range(len(x)):\n",
    "        if use_teacher_forcing:\n",
    "            input_char = x[i] # replace input with right target\n",
    "        \n",
    "        input_char = Variable(input_char).cuda().view(1,1,-1)\n",
    "        output, hidden = model(input_char, hidden)\n",
    "        loss += loss_function(output, target[i])\n",
    "\n",
    "        char_idx = output.topk(1)[1].data[0][0]\n",
    "        output_line.append(chars[char_idx])\n",
    "        \n",
    "        input_char = torch.zeros(1,1,len(chars))\n",
    "        input_char[0,0,char_idx] = 1\n",
    "            \n",
    "    if clip_parameters_value:\n",
    "        torch.nn.utils.clip_grad_norm(model.parameters(), clip_parameters_value)\n",
    "    \n",
    "    loss.backward()\n",
    "    optimizer.step()\n",
    "\n",
    "    return ''.join(output_line), loss.data[0] / len(sample)\n",
    "\n",
    "#tmp = get_random_sample(20)\n",
    "train_single(torch.optim.Adam(model.parameters(), lr=0.0001), nn.NLLLoss(), use_teacher_forcing=False)\n",
    "train_single(torch.optim.Adam(model.parameters(), lr=0.0001), nn.NLLLoss(), use_teacher_forcing=True)\n",
    "#tmp = train_single(tmp, torch.optim.Adam(model.parameters(), lr=0.0001), nn.NLLLoss(), use_teacher_forcing=True)\n",
    "\n",
    "#tmp.topk(1)[1].data[0][0]"
   ]
  },
  {
   "cell_type": "code",
   "execution_count": 18,
   "metadata": {
    "collapsed": true
   },
   "outputs": [],
   "source": [
    "def train_iterations(n_iters=100000, lr=0.001, teacher_forcing_ratio=0.5,\n",
    "                     print_every=10000, plot_every=1000):\n",
    "    global optimizer\n",
    "    optimizer = torch.optim.Adam(model.parameters(), lr=lr)\n",
    "    \n",
    "    start = time.time()\n",
    "    model.train()\n",
    "\n",
    "    current_loss = 0\n",
    "    current_loss_iter = 0\n",
    "    \n",
    "    for iteration in range(1, n_iters + 1):\n",
    "        model_training.iterations += 1\n",
    "        \n",
    "        use_teacher_forcing = random.random() < teacher_forcing_ratio\n",
    "        \n",
    "        result, loss = train_single(optimizer=optimizer, loss_function=nn.NLLLoss(),\n",
    "                                    use_teacher_forcing=use_teacher_forcing)\n",
    "        \n",
    "        current_loss += loss\n",
    "        current_loss_iter += 1\n",
    "\n",
    "        # Print iter number, loss, name and guess\n",
    "        if iteration % print_every == 0:\n",
    "            teacher_forcing_str = \"\"\n",
    "            if use_teacher_forcing:\n",
    "                teacher_forcing_str = \"(forcing)\"\n",
    "            #correct = '✓' if result == s_string else \"✗: {}\".format(s_string)\n",
    "            \n",
    "            print(\"{:>6d} {:>4.0%} ({:>8}) {:>7.3f}   | {:>6.2f}: {} {}\".format(\n",
    "                      model_training.iterations, iteration/n_iters, time_since(start),\n",
    "                      current_loss/current_loss_iter, loss, result, teacher_forcing_str))\n",
    "\n",
    "        # Add current loss avg to list of losses\n",
    "        if iteration % plot_every == 0:\n",
    "            model_training.losses.append(current_loss / plot_every)\n",
    "            model_training.learning_rates.append(lr)\n",
    "            current_loss = 0\n",
    "            current_loss_iter = 0\n",
    "            \n",
    "        #if model_training.iterations % 50000 == 0 or model_training.iterations == 10:\n",
    "        #    model_training.save_models()\n",
    "        #    acc = test_model_accuracy(encoder_rnn, test_model_single_sample)\n",
    "        #    model_training.accuracy.append(acc)\n",
    "    \n",
    "    # test_model_accuracy(model, n_sample=10000)"
   ]
  },
  {
   "cell_type": "code",
   "execution_count": 19,
   "metadata": {},
   "outputs": [
    {
     "name": "stdout",
     "output_type": "stream",
     "text": [
      "Pytorch utils oh: pytorch_utils_oh_3.py\n",
      "Pytorch: 0.2.0_4\n"
     ]
    }
   ],
   "source": [
    "from pytorch_utils_oh_3 import ModelTraining\n",
    "MODEL_SAVE_PATH = 'char_rnn_fast_ai_testing_2'"
   ]
  },
  {
   "cell_type": "code",
   "execution_count": 20,
   "metadata": {},
   "outputs": [
    {
     "name": "stdout",
     "output_type": "stream",
     "text": [
      "Save path: data/models/char_rnn_fast_ai_testing_2\n"
     ]
    }
   ],
   "source": [
    "model_training = ModelTraining(MODEL_SAVE_PATH, [model])"
   ]
  },
  {
   "cell_type": "code",
   "execution_count": 21,
   "metadata": {},
   "outputs": [
    {
     "name": "stdout",
     "output_type": "stream",
     "text": [
      "     5  50% (   0m 0s)   3.871   |   3.77: t                                        \n",
      "    10 100% (   0m 0s)   3.602   |   3.05: t                     e   ee         e   (forcing)\n"
     ]
    }
   ],
   "source": [
    "train_iterations(n_iters=10, print_every=5)"
   ]
  },
  {
   "cell_type": "code",
   "execution_count": null,
   "metadata": {
    "collapsed": true
   },
   "outputs": [],
   "source": []
  },
  {
   "cell_type": "markdown",
   "metadata": {},
   "source": [
    "### WITHOUT TEACHER FORCING"
   ]
  },
  {
   "cell_type": "code",
   "execution_count": 22,
   "metadata": {},
   "outputs": [
    {
     "name": "stdout",
     "output_type": "stream",
     "text": [
      "Save path: data/models/char_rnn_fast_ai_testing_2\n"
     ]
    }
   ],
   "source": [
    "model = CharRNN(len(chars), 512).cuda()\n",
    "model_training = ModelTraining(MODEL_SAVE_PATH, [model])\n",
    "lr = 0.0001"
   ]
  },
  {
   "cell_type": "code",
   "execution_count": 23,
   "metadata": {},
   "outputs": [
    {
     "name": "stdout",
     "output_type": "stream",
     "text": [
      "  1000  10% (  0m 59s)   3.054   |   3.13:                                          \n",
      "  2000  20% (   2m 1s)   2.982   |   2.90:                                          \n",
      "  3000  30% (  2m 58s)   2.968   |   3.03:                                          \n",
      "  4000  40% (  3m 55s)   2.960   |   2.96:                                          \n",
      "  5000  50% (  4m 53s)   2.956   |   2.62:                                          \n",
      "  6000  60% (  5m 51s)   2.943   |   2.97:                                          \n",
      "  7000  70% (  6m 48s)   2.958   |   3.02:                                          \n",
      "  8000  80% (  7m 45s)   2.952   |   2.87:                                          \n",
      "  9000  90% (  8m 42s)   2.957   |   2.98:                                          \n",
      " 10000 100% (  9m 39s)   2.951   |   3.37:                                          \n"
     ]
    }
   ],
   "source": [
    "train_iterations(n_iters=10000, print_every=1000, teacher_forcing_ratio=0, lr=lr)"
   ]
  },
  {
   "cell_type": "code",
   "execution_count": 24,
   "metadata": {},
   "outputs": [
    {
     "name": "stdout",
     "output_type": "stream",
     "text": [
      "ethics is a basic foundation of all thatnm nse gs\n",
      "e-ptlsr  t,nfsoaepaaedstdcet hentsat e\n",
      "niforoe ensnoohysr d\n",
      "eatnsssioi ec ait drvx oounufseudra fom  loneihsu  t n encie r  va ue gehrwillicmoda \"tisinoeychletre\n",
      "e  uoeto ste hoe utiheooh to  dil d  usehinyld a\"detd,re cthnn fnt eo\n",
      "e \"nphenphgacpsp    iedl a msfsn\n",
      "=tuyhanreot r\n",
      "hucer  oarm uanem ttn iacsl vlw\n"
     ]
    }
   ],
   "source": [
    "print_example()"
   ]
  },
  {
   "cell_type": "code",
   "execution_count": 25,
   "metadata": {},
   "outputs": [
    {
     "name": "stdout",
     "output_type": "stream",
     "text": [
      "ethics is a basic foundation of all thattrmlnu els . hhea llytesteasa tt s  nd oiomeutth t e r not  aote ssm neteeehchiugis - pfa vel noihr  ni   tae j u anlstuye ayu   ovdtb  va\n",
      " ts\n",
      "\"weeneheise atus\"aeioctnlowi sce o ts   yaop \"gyh  ana o\n",
      "o lihdtlefe  -upnw od h\n",
      "reast\n",
      "sew    em eodeso rp .l oke \n",
      " oddrao itse   eiasitoalorettnemnmente\n",
      "\n",
      "e xo tses  ,ft l  eoet\n"
     ]
    }
   ],
   "source": [
    "print_example()"
   ]
  },
  {
   "cell_type": "code",
   "execution_count": 26,
   "metadata": {},
   "outputs": [
    {
     "name": "stdout",
     "output_type": "stream",
     "text": [
      " 11000  10% (  0m 57s)   2.981   |   2.93:                                          \n",
      " 12000  20% (  1m 54s)   2.971   |   3.14: an                                       \n",
      " 13000  30% (  2m 51s)   2.967   |   2.86: n                                        \n",
      " 14000  40% (  3m 48s)   2.965   |   2.89:  th                                      \n",
      " 15000  50% (  4m 45s)   2.956   |   3.08:  t                                       \n",
      " 16000  60% (  5m 42s)   2.962   |   3.07: to                                       \n",
      " 17000  70% (  6m 39s)   2.949   |   2.92: he                                       \n",
      " 18000  80% (  7m 37s)   2.956   |   3.02: ao                                       \n",
      " 19000  90% (  8m 34s)   2.952   |   3.56: he                                       \n",
      " 20000 100% (  9m 31s)   2.948   |   3.06:                                          \n"
     ]
    }
   ],
   "source": [
    "train_iterations(n_iters=10000, print_every=1000, teacher_forcing_ratio=0, lr=lr*5)"
   ]
  },
  {
   "cell_type": "code",
   "execution_count": 27,
   "metadata": {},
   "outputs": [
    {
     "name": "stdout",
     "output_type": "stream",
     "text": [
      "ethics is a basic foundation of all thats atnscnoi outnl oc   en ,  e esah\n",
      "eentoodiiaca eu\n",
      "evoepoelf tee,   r  ect\n",
      ", , heldr ctainasveueetdel  h segeitimenecm\n",
      "aocinlr  s rs,,t  b\n",
      "ss  t he natrutsy s  enr , leoein veor oseptn,   eondgs  . , or  t   oasacn whceo ns n l. erslu ances opfceireashes   er onl of  cereneun, eeeti , of  ssed lrt , \n",
      "lt-c  rtotfehaofun\n"
     ]
    }
   ],
   "source": [
    "print_example()"
   ]
  },
  {
   "cell_type": "code",
   "execution_count": 28,
   "metadata": {},
   "outputs": [
    {
     "name": "stdout",
     "output_type": "stream",
     "text": [
      "ethics is a basic foundation of all thatand, eeonos\n",
      " t e  ido plelohio upee n ttii sseanedn  sonens tlpsg es feh  \n",
      " veianes aheieite llhindot  nlheas e aveeltotsf ee p we,\n",
      "ptnwa e lleborhe ersheesu ruhtensi whs  ua an  imsf cannthifce e ea hminneu e s,herussv eh eeritrlel\n",
      "ip orteb r lotebnn, o  uinn e fd-= necflr .slgeomly  e  tuns e ntuof n runtoume o nveon\n"
     ]
    }
   ],
   "source": [
    "print_example()"
   ]
  },
  {
   "cell_type": "code",
   "execution_count": 29,
   "metadata": {},
   "outputs": [
    {
     "name": "stdout",
     "output_type": "stream",
     "text": [
      " 21000  10% (  0m 57s)   2.933   |   2.94: n                                        \n",
      " 22000  20% (  1m 54s)   2.941   |   2.84: eee                                      \n",
      " 23000  30% (  2m 51s)   2.931   |   2.90: he                                       \n",
      " 24000  40% (  3m 48s)   2.937   |   2.82: e                                        \n",
      " 25000  50% (  4m 46s)   2.936   |   3.01: th                                       \n",
      " 26000  60% (  5m 43s)   2.923   |   2.97: e                                        \n",
      " 27000  70% (  6m 41s)   2.946   |   2.72:                                          \n",
      " 28000  80% (  7m 39s)   2.934   |   3.00: n                                        \n",
      " 29000  90% (  8m 36s)   2.929   |   2.93: he                                       \n",
      " 30000 100% (  9m 33s)   2.936   |   3.12: e e                                      \n"
     ]
    }
   ],
   "source": [
    "train_iterations(n_iters=10000, print_every=1000, teacher_forcing_ratio=0, lr=lr)"
   ]
  },
  {
   "cell_type": "code",
   "execution_count": 30,
   "metadata": {},
   "outputs": [
    {
     "name": "stdout",
     "output_type": "stream",
     "text": [
      "ethics is a basic foundation of all thatsnea rse f esu e aatachstseteopd -ah e tamlltouiththin ha a \n",
      "-  r,eos,  ae d   sel  otr eds ndfopndepret rsthit  -ule estaicscelieo    yinsre n stretuaieusyd mof r aiapdn tl ino  erosan r l,t, lthca\n",
      "ttltpid dericmr aollt\n",
      " \n",
      "a,s s nstirif  gss it uoem is mitlcidahehotlete ryy  mor lhel we  rm   h tat\n",
      "e eof     i ekh  ndh\n"
     ]
    }
   ],
   "source": [
    "print_example()"
   ]
  },
  {
   "cell_type": "code",
   "execution_count": 31,
   "metadata": {},
   "outputs": [
    {
     "name": "stdout",
     "output_type": "stream",
     "text": [
      "ethics is a basic foundation of all thatr  w; the  rn sn si e \n",
      " -ent\n",
      "e dvn fptr mos ts ros  deate ie i antte in tt lil gacilr th hes va, odsty olaiunsws\n",
      " o r  a, theeue mstibss i \n",
      "ys gt d\n",
      "iagnernpe-\n",
      "ofrleaha r ruo  hrss ten  t  yis ot e\n",
      "he esr  erovpis s theceste o mtemadelar ee ti ob s m h t crdeotro g  ell .ewholnl st des t he  are cs  ce fe ereegdoauatreo\n"
     ]
    }
   ],
   "source": [
    "print_example()"
   ]
  },
  {
   "cell_type": "code",
   "execution_count": 32,
   "metadata": {},
   "outputs": [
    {
     "name": "stdout",
     "output_type": "stream",
     "text": [
      " 31000  10% (  0m 56s)   2.933   |   2.83: the                                      \n",
      " 32000  20% (  1m 52s)   2.933   |   2.92: the                                      \n",
      " 33000  30% (  2m 48s)   2.928   |   3.79: he                                       \n",
      " 34000  40% (  3m 45s)   2.929   |   3.04:   o                                      \n",
      " 35000  50% (  4m 41s)   2.929   |   2.96:                                          \n",
      " 36000  60% (  5m 37s)   2.938   |   2.83: th                                       \n",
      " 37000  70% (  6m 33s)   2.935   |   3.25: tn                                       \n",
      " 38000  80% (  7m 30s)   2.930   |   2.84:  an                                      \n",
      " 39000  90% (  8m 26s)   2.929   |   2.85: e                                        \n",
      " 40000 100% (  9m 23s)   2.929   |   2.98: he                                       \n"
     ]
    }
   ],
   "source": [
    "train_iterations(n_iters=10000, print_every=1000, teacher_forcing_ratio=0, lr=lr)"
   ]
  },
  {
   "cell_type": "code",
   "execution_count": 33,
   "metadata": {},
   "outputs": [
    {
     "name": "stdout",
     "output_type": "stream",
     "text": [
      "ethics is a basic foundation of all that, hit sa iwan\n",
      " hei, ei st)intt   ioffisiedo i  tad nn miseeanig  eneelisiln  ricssceth of  a uns r ndinof  e t to lias omisnnpn \n",
      "deosa hh poirineboors\n",
      "nd t ror agoosn-s r g bees fe instmes, tiosfpfof hearer co, ne hit ng e\n",
      "sactai iotrou ss ua,e s f tsineirmcath in\n",
      "ssoed,  hde \n",
      "poerir , hetileisttun e e hel -ysa -s heeo\n"
     ]
    }
   ],
   "source": [
    "print_example()"
   ]
  },
  {
   "cell_type": "code",
   "execution_count": 34,
   "metadata": {},
   "outputs": [
    {
     "name": "stdout",
     "output_type": "stream",
     "text": [
      "ethics is a basic foundation of all thatienl hipol s  e\"re einlind oneg b aed\n",
      "bueore hh eirisarut t ce s ninnte  y,  diswof g o w  i nieh tos oue n  reen yn-eo n  n utretaos poen .is fmiaoorctne  ir s  \n",
      "lihellway st sts  t 8it ,  ulethveugrw  ctyiee inserea, rns  aall,te gscoith d ste d  aanimst w ts e,   lheeismil\n",
      "our\n",
      " ssall  ress o nrigge td alee,r  at nui\n"
     ]
    }
   ],
   "source": [
    "print_example()"
   ]
  },
  {
   "cell_type": "code",
   "execution_count": 35,
   "metadata": {},
   "outputs": [
    {
     "name": "stdout",
     "output_type": "stream",
     "text": [
      " 41000  10% (  0m 56s)   2.932   |   3.06: re                                       \n",
      " 42000  20% (  1m 53s)   2.930   |   2.81: e e                                      \n",
      " 43000  30% (  2m 49s)   2.929   |   2.87:  th                                      \n",
      " 44000  40% (  3m 46s)   2.927   |   2.84: th                                       \n",
      " 45000  50% (  4m 43s)   2.923   |   2.96: th                                       \n",
      " 46000  60% (  5m 40s)   2.937   |   2.78: n                                        \n",
      " 47000  70% (  6m 37s)   2.936   |   3.04: n                                        \n",
      " 48000  80% (  7m 33s)   2.932   |   2.77: re                                       \n",
      " 49000  90% (  8m 30s)   2.934   |   2.95:                                          \n",
      " 50000 100% (  9m 26s)   2.930   |   2.96: n                                        \n"
     ]
    }
   ],
   "source": [
    "train_iterations(n_iters=10000, print_every=1000, teacher_forcing_ratio=0, lr=lr)"
   ]
  },
  {
   "cell_type": "code",
   "execution_count": 36,
   "metadata": {},
   "outputs": [
    {
     "name": "stdout",
     "output_type": "stream",
     "text": [
      "ethics is a basic foundation of all thate  f , dch gon  se   ereerin le a  eount nicrcess  oaovautgiinounc  a tohi gaseda naca oetas tir\"he \n",
      " ar\" rthow ft higr e c-ithio rion ed h tbeepiei  d clye whce    ns  . s  souebe atos stoeaicieseevotem ies n r iedgacime ng g\n",
      "nshehed  rordh s oa ieice slc ealeonmetiege t   rm is e s e cnad tarewin sed\n",
      " ed  aru  ie mes\n"
     ]
    }
   ],
   "source": [
    "print_example()"
   ]
  },
  {
   "cell_type": "code",
   "execution_count": 37,
   "metadata": {},
   "outputs": [
    {
     "name": "stdout",
     "output_type": "stream",
     "text": [
      "ethics is a basic foundation of all thatae  ve co h  tsita  ebsitie ,  aowine s hxtred wgh ini aldeu , m\n",
      "n lnl    as sphsstd hoit b ule tk  gciatca h\n",
      "fii beconl    dogunbidy tr, eriveboutmrr eh t refood nri eisorieh,\n",
      "ofn,   mt tie  enitouior iinteofarrs unanl la oinli sn nd  n hm\n",
      "ly  uost s ahisle \n",
      "hpreciglereglid o s, t yceings seenisgb had he n igr \n",
      "cancte\n"
     ]
    }
   ],
   "source": [
    "print_example()"
   ]
  },
  {
   "cell_type": "code",
   "execution_count": 38,
   "metadata": {},
   "outputs": [
    {
     "name": "stdout",
     "output_type": "stream",
     "text": [
      " 60000  20% (  9m 23s)   2.924   |   3.21:   a                                      \n",
      " 70000  40% ( 18m 45s)   2.928   |   2.73:  to                                      \n",
      " 80000  60% (  28m 5s)   2.924   |   2.72:  ah                                      \n",
      " 90000  80% ( 37m 26s)   2.928   |   3.27: e                                        \n",
      "100000 100% ( 46m 48s)   2.924   |   2.96:  rh                                      \n"
     ]
    }
   ],
   "source": [
    "train_iterations(n_iters=50000, print_every=10000, teacher_forcing_ratio=0, lr=lr)"
   ]
  },
  {
   "cell_type": "code",
   "execution_count": 39,
   "metadata": {},
   "outputs": [
    {
     "name": "stdout",
     "output_type": "stream",
     "text": [
      "ethics is a basic foundation of all thath aenn theeght o a n-es   , eis erosm ty \n",
      "ey \n",
      "veeke ofsy dig t  ed  ofent neeg mo a itmrpe,\n",
      " oneil dosannli ent mete rtt d  itsk  hseresem  t \n",
      "alooerenwiteon, ,e    ison rthen s lio l phhss  ass  mensef  v  io so\" ltaieceateb rf oe eed-t o\n",
      "ileto \n",
      "t is, eld netsicnyi eidan  anhedgeyerr   s pea pr\n",
      "ryss  ceearur  l, ;att \n"
     ]
    }
   ],
   "source": [
    "print_example()"
   ]
  },
  {
   "cell_type": "code",
   "execution_count": 40,
   "metadata": {},
   "outputs": [
    {
     "name": "stdout",
     "output_type": "stream",
     "text": [
      "ethics is a basic foundation of all that  acfse n  s toered,t :\n",
      "gedeareoiemlg\n",
      "t, h\n",
      "tmr  o es rsusoveo tampech msa, nt a (e of on oo \n",
      "sta   ine atisf oa i anbsfet are,\n",
      "s i cemim tus\n",
      "le nd eateunesusr hemoy .\n",
      " s  nt y lr n linde\n",
      "et s  eiscevie lneeo ,  ta er  gi  yo sy inewe a t  legilyko seo n de; nuto  etse usls eeseceamistits n gh hendin  2t ne f itr .!  s \n"
     ]
    }
   ],
   "source": [
    "print_example()"
   ]
  },
  {
   "cell_type": "code",
   "execution_count": 41,
   "metadata": {},
   "outputs": [
    {
     "name": "stdout",
     "output_type": "stream",
     "text": [
      "ethics is a basic foundation of all that s, g eesptftued afio iscamsrtecty r pente t eicivys f ns rteole ci,ous htes ue, erin,\n",
      "t 'e s ess   \n",
      "\n",
      "atepeeecicercetir \n",
      "isecod\n",
      "tee nweenpe fios te heepoarpaulo \n",
      "dserwecoreisiog\n",
      "h nt  arpall r ie t thae\n",
      "r ledsteit, lla mco, \n",
      "esd toeits, rhte ir  ey peeay usld s  eebr ,a \n",
      " fh sair s  toncillinanry s e  s e rhephisserhie\n"
     ]
    }
   ],
   "source": [
    "print_example()"
   ]
  },
  {
   "cell_type": "code",
   "execution_count": 42,
   "metadata": {},
   "outputs": [
    {
     "name": "stdout",
     "output_type": "stream",
     "text": [
      "110000  20% (  9m 18s)   2.937   |   2.99:   o                                      \n",
      "120000  40% ( 18m 38s)   2.928   |   3.26:   oe                                     \n",
      "130000  60% ( 27m 58s)   2.926   |   2.73: th                                       \n",
      "140000  80% ( 37m 18s)   2.926   |   2.89: th                                       \n",
      "150000 100% ( 46m 39s)   2.928   |   2.74: th                                       \n"
     ]
    }
   ],
   "source": [
    "train_iterations(n_iters=50000, print_every=10000, teacher_forcing_ratio=0, lr=lr)"
   ]
  },
  {
   "cell_type": "code",
   "execution_count": 43,
   "metadata": {},
   "outputs": [
    {
     "name": "stdout",
     "output_type": "stream",
     "text": [
      "ethics is a basic foundation of all that , f\n",
      "raa ras d ty onyt blhalit dal\n",
      "de n or fdene  t heo n  cevle dtar ,  e  nmsesunst yd g  ieuanitd rglef lico ue e, ethlieh\n",
      "gofeiphtr alorc ilde ehlall t e ty allerahreaioe\n",
      " rt e s  hef mn   d7ie  n  y   poiy heid rseeeets brehys  cnec, aldraheol  deods e ssca meo g   rloa tdait   o ofucceth l\n",
      "ledse eense(n. ta rs ie\n"
     ]
    }
   ],
   "source": [
    "print_example()"
   ]
  },
  {
   "cell_type": "code",
   "execution_count": 44,
   "metadata": {},
   "outputs": [
    {
     "name": "stdout",
     "output_type": "stream",
     "text": [
      "ethics is a basic foundation of all that wone ndty ed inedd,  ustenye,, h, sen seaccoofe  ocbchteo ot thwemus,\n",
      "ro ng oan thet end s oyt  eshe ed , atyn r  e is farne ico\n",
      "fa rgescitikhonatid t ingf d, rn, s a d  as  -ttr se\n",
      "sa santodn isbet  icthe sy yss t ; iielishrte uley. bueda eeend  cse\n",
      "g al  s t e  use tmsoen   e, oa e theec  n h  e henos diorryenetanve\n"
     ]
    }
   ],
   "source": [
    "print_example()"
   ]
  },
  {
   "cell_type": "code",
   "execution_count": 45,
   "metadata": {},
   "outputs": [
    {
     "name": "stdout",
     "output_type": "stream",
     "text": [
      "ethics is a basic foundation of all thatnansse t, rrt lee in , h bt,  iisar  \n",
      "ntrypre  ivinon ie- welitl  lles.  sulet ukacn  y y \n",
      " s whah, su ihsf t a keo 1s  en e ys fi y  n  wgrikme  lviroot  onser , aoyssosn og et  oterall eedamy  ofenaetro had  so   onndmeiadennha ity. ubtor me  ebyiof ,at d\n",
      "ddre ngi, oieqiiroe on rlucaene, t,, ie  enn ho  fit  nane\"eno\n"
     ]
    }
   ],
   "source": [
    "print_example()"
   ]
  },
  {
   "cell_type": "code",
   "execution_count": 46,
   "metadata": {
    "collapsed": true
   },
   "outputs": [],
   "source": [
    "model_no_teach = [model, model_training]"
   ]
  },
  {
   "cell_type": "code",
   "execution_count": null,
   "metadata": {
    "collapsed": true
   },
   "outputs": [],
   "source": []
  },
  {
   "cell_type": "code",
   "execution_count": null,
   "metadata": {
    "collapsed": true
   },
   "outputs": [],
   "source": []
  },
  {
   "cell_type": "markdown",
   "metadata": {},
   "source": [
    "### WITH TEACHER FORCING"
   ]
  },
  {
   "cell_type": "code",
   "execution_count": 47,
   "metadata": {},
   "outputs": [
    {
     "name": "stdout",
     "output_type": "stream",
     "text": [
      "Save path: data/models/char_rnn_fast_ai_testing_2\n"
     ]
    }
   ],
   "source": [
    "model = CharRNN(len(chars), 512).cuda()\n",
    "model_training = ModelTraining(MODEL_SAVE_PATH, [model])\n",
    "lr = 0.0001"
   ]
  },
  {
   "cell_type": "code",
   "execution_count": null,
   "metadata": {
    "collapsed": true
   },
   "outputs": [],
   "source": []
  },
  {
   "cell_type": "code",
   "execution_count": 48,
   "metadata": {},
   "outputs": [
    {
     "name": "stdout",
     "output_type": "stream",
     "text": [
      "  1000  10% (  0m 56s)   3.040   |   3.07:                                          \n",
      "  2000  20% (  1m 53s)   2.928   |   2.69: e          e         ee  e e    n        (forcing)\n",
      "  3000  30% (  2m 49s)   2.829   |   2.96: the   on  on  on  on  on  on  on  on  on \n",
      "  4000  40% (  3m 46s)   2.781   |   3.12: the e  e  e  e  e  e  e  e  e  e  e  e   \n",
      "  5000  50% (  4m 42s)   2.772   |   2.43: tenhen  ene  e ae ens  te n tg   an  te  (forcing)\n",
      "  6000  60% (  5m 39s)   2.746   |   2.48: n  ane  ie teen en ao     t reahe  e n   (forcing)\n",
      "  7000  70% (  6m 36s)   2.722   |   2.47: e   t thet th  an tnd  e etn   ne e thet (forcing)\n",
      "  8000  80% (  7m 33s)   2.717   |   2.42:   n   eahe       r eaf the   enn  n th   (forcing)\n",
      "  9000  90% (  8m 29s)   2.671   |   2.05: nete enn an the  e eendt  an ahe    ene  (forcing)\n",
      " 10000 100% (  9m 26s)   2.653   |   2.43: e  re tn   ahreeng o  the  hen en ao   n (forcing)\n"
     ]
    }
   ],
   "source": [
    "train_iterations(n_iters=10000, print_every=1000, teacher_forcing_ratio=0.5, lr=lr)"
   ]
  },
  {
   "cell_type": "code",
   "execution_count": 49,
   "metadata": {},
   "outputs": [
    {
     "name": "stdout",
     "output_type": "stream",
     "text": [
      "ethics is a basic foundation of all thath\n",
      "wallg batt cale anrots\n",
      "aonde ioco aivedinh callat copek cedcacferore ind \n",
      "enpas ingons  in  at  tthely\n",
      "hee is\n",
      "torpaasithisnenredaccnces ion rrecid, dopireanebcs, or  afmas anrer es io the  in t memend\n",
      "stythimase tinm.zty h  es, theha-ingf,ery th manathy seaclust tamt of\"uw enitht be)-itn cime torweabi;nsitan w  ad is\n"
     ]
    }
   ],
   "source": [
    "print_example()"
   ]
  },
  {
   "cell_type": "code",
   "execution_count": 50,
   "metadata": {},
   "outputs": [
    {
     "name": "stdout",
     "output_type": "stream",
     "text": [
      "ethics is a basic foundation of all thatetcoesefrsatewhand themeso thrimng(intttustpinnt othis:yof ho  ung oust, su heolingomathace\"-ttat or ame iis maver os eim rale,  aves yheg phet\n",
      "eon\n",
      ",-\n",
      "nh end et ounelatstind thse tinnt w nareiqs, si ndewintoso gee the t redhlics ie aid yd\n",
      "inthehstivd endhatle d an for sheoigpeid fen audenosving in : eb wtofpals, ouek\n",
      "a\n"
     ]
    }
   ],
   "source": [
    "print_example()"
   ]
  },
  {
   "cell_type": "code",
   "execution_count": 51,
   "metadata": {},
   "outputs": [
    {
     "name": "stdout",
     "output_type": "stream",
     "text": [
      " 11000  10% (  0m 56s)   2.686   |   2.11: n  tnen nn  iheth ih tneerenn e tn the   (forcing)\n",
      " 12000  20% (  1m 53s)   2.633   |   2.19: eth tndere tor  tetns ooitetyoow  aot to (forcing)\n",
      " 13000  30% (  2m 49s)   2.542   |   2.04: e   tf tf  s af ttot re  ahet teirsos  t (forcing)\n",
      " 14000  40% (  3m 45s)   2.568   |   2.41: eue ndioslere  an eafer sg toi  aot ihen (forcing)\n",
      " 15000  50% (  4m 42s)   2.546   |   2.00: e aoeuith l   andersahe pnsoesdte of trr (forcing)\n",
      " 16000  60% (  5m 38s)   2.502   |   1.65: heng  ah e tesieas of mheth  tet ihit in (forcing)\n",
      " 17000  70% (  6m 34s)   2.464   |   3.15:  the                                     \n",
      " 18000  80% (  7m 31s)   2.460   |   3.13: itis and the                             \n",
      " 19000  90% (  8m 28s)   2.413   |   3.10: e                                        \n",
      " 20000 100% (  9m 24s)   2.425   |   3.55: e a                                      \n"
     ]
    }
   ],
   "source": [
    "train_iterations(n_iters=10000, print_every=1000, teacher_forcing_ratio=0.5, lr=lr*5)"
   ]
  },
  {
   "cell_type": "code",
   "execution_count": 52,
   "metadata": {},
   "outputs": [
    {
     "name": "stdout",
     "output_type": "stream",
     "text": [
      "ethics is a basic foundation of all that hes aul the rpasios, bere m8-thiske to of thesrechs: therechenge y wele\n",
      "thereking the\n",
      "ut os r selfecred. in\n",
      "sellems, as ascessinrust\n",
      "wion\"--whe hewer, in\n",
      "owe thes chele empors hith oor mare\n",
      "thimmed, as ofd barkictive,\n",
      "which moye pruaseror baldes of gveres goig thoughtre thing!\n",
      "\n",
      "\n",
      "4. this oon wi5h that is a constomy and\n"
     ]
    }
   ],
   "source": [
    "print_example()"
   ]
  },
  {
   "cell_type": "code",
   "execution_count": 53,
   "metadata": {},
   "outputs": [
    {
     "name": "stdout",
     "output_type": "stream",
     "text": [
      "ethics is a basic foundation of all that awherestation the ecolitute, and whel bus  e wainratirn wnowherse--hull--if to theol mednatres efreding of like must in and thus ictine thearthoubem--hy these thera hage belies;\"\n",
      "in  he kiphe the freetsuce earers as realat is o\" . just, which pose felf--remattous shilks and that the resimevilaltedoby, wave not asmavee\n"
     ]
    }
   ],
   "source": [
    "print_example()"
   ]
  },
  {
   "cell_type": "code",
   "execution_count": 54,
   "metadata": {},
   "outputs": [
    {
     "name": "stdout",
     "output_type": "stream",
     "text": [
      " 21000  10% (  0m 56s)   2.621   |   1.55: etity aashert   --tn is ahe eonet ovenin (forcing)\n",
      " 22000  20% (  1m 53s)   2.583   |   2.93: e the                                    \n",
      " 23000  30% (  2m 49s)   2.637   |   3.18: e                                        \n",
      " 24000  40% (  3m 46s)   2.585   |   2.74: he                                       \n",
      " 25000  50% (  4m 42s)   2.623   |   1.59:   n tot eng thet ies tonse  tonth tan ni (forcing)\n",
      " 26000  60% (  5m 39s)   2.594   |   2.79: the                                      \n",
      " 27000  70% (  6m 36s)   2.616   |   3.01: n                                        \n",
      " 28000  80% (  7m 33s)   2.542   |   2.97:  reall to                                \n",
      " 29000  90% (  8m 29s)   2.584   |   1.59: ne ohet ifer nnce ais be n aort areceice (forcing)\n",
      " 30000 100% (  9m 26s)   2.570   |   1.72: hreon  afr aifeteteon  afr aeilediny  \n",
      "n (forcing)\n"
     ]
    }
   ],
   "source": [
    "train_iterations(n_iters=10000, print_every=1000, teacher_forcing_ratio=0.3, lr=lr)"
   ]
  },
  {
   "cell_type": "code",
   "execution_count": 55,
   "metadata": {},
   "outputs": [
    {
     "name": "stdout",
     "output_type": "stream",
     "text": [
      "ethics is a basic foundation of all that andvelves ppicianmesthe stopt, redition that an. are jeing an the urfuchrevalis? instretd,\n",
      "and tiemtis \"bud chalay destinctic is yse bo dais,\n",
      "resail instirld, with every\n",
      "to howher--in atd most altueder of there ane hisself\n",
      "almost\n",
      "s\n",
      "in of in. in the to this to the beverour every -endy stalles, hapstation (fich, letout \n"
     ]
    }
   ],
   "source": [
    "print_example()"
   ]
  },
  {
   "cell_type": "code",
   "execution_count": 56,
   "metadata": {},
   "outputs": [
    {
     "name": "stdout",
     "output_type": "stream",
     "text": [
      "ethics is a basic foundation of all that serfoundsy er.---s chase interunge pracfulaited becro witlome\n",
      "muth diffan intgates of recandres and al our fon the relngrous of\n",
      "him in the his conng(ingoud antamblez-digmation, by mereat him utorialite the ranufess felte an free hast--gonden, and can invelttence on reans of dinderen amable\n",
      "berpiceral the helkgrelves o\n"
     ]
    }
   ],
   "source": [
    "print_example()"
   ]
  },
  {
   "cell_type": "code",
   "execution_count": 57,
   "metadata": {},
   "outputs": [
    {
     "name": "stdout",
     "output_type": "stream",
     "text": [
      " 31000  10% (  0m 56s)   2.698   |   1.76:  tonlrre af tistreati tf ng th testrrii  (forcing)\n",
      " 32000  20% (  1m 53s)   2.694   |   2.97:  to the                                  \n",
      " 33000  30% (  2m 49s)   2.686   |   2.81: e st a                                   \n",
      " 34000  40% (  3m 46s)   2.693   |   2.85: th                                       \n",
      " 35000  50% (  4m 43s)   2.695   |   2.71: he                                       \n",
      " 36000  60% (  5m 39s)   2.712   |   2.87:                                          \n",
      " 37000  70% (  6m 35s)   2.689   |   2.79: th                                       \n",
      " 38000  80% (  7m 32s)   2.679   |   2.91: e                                        \n",
      " 39000  90% (  8m 28s)   2.703   |   3.19: nd                                       \n",
      " 40000 100% (  9m 25s)   2.702   |   1.51: sllthi  tor the sone tf teesenteng tisse (forcing)\n"
     ]
    }
   ],
   "source": [
    "train_iterations(n_iters=10000, print_every=1000, teacher_forcing_ratio=0.2, lr=lr)"
   ]
  },
  {
   "cell_type": "code",
   "execution_count": 58,
   "metadata": {},
   "outputs": [
    {
     "name": "stdout",
     "output_type": "stream",
     "text": [
      "ethics is a basic foundation of all that rend--if,\n",
      "would ashemony relagion, and casse he dlessoas shata to to semplay wat very coss mankeal syes of ourged hement, or aversong ass aelirety\n",
      "ene's of ever the have way prove oneys i te fortupod he han coutredirar lisely of conthile his odrylise, themecolackes, more anwind verother wored. nes he inst\"uct of hor o\n"
     ]
    }
   ],
   "source": [
    "print_example()"
   ]
  },
  {
   "cell_type": "code",
   "execution_count": 59,
   "metadata": {},
   "outputs": [
    {
     "name": "stdout",
     "output_type": "stream",
     "text": [
      "ethics is a basic foundation of all that be lirenc some of all the bass, condry,\n",
      "and the consci acling his own of the\n",
      "actom\n",
      "that mouald relager of at nelle imitin, not onus in thour, led past? in\n",
      "whated; hy cempory--sim; to atobiticals in axpriedsity.d were here ha  fould sianes (somethat lofe the hisher mage it sf wiral masure but deding to gros.\n",
      "prasitiesa\n"
     ]
    }
   ],
   "source": [
    "print_example()"
   ]
  },
  {
   "cell_type": "code",
   "execution_count": 60,
   "metadata": {},
   "outputs": [
    {
     "name": "stdout",
     "output_type": "stream",
     "text": [
      " 41000  10% (  0m 55s)   2.817   |   1.57: tot te oseuinte on the seatientid torte  (forcing)\n",
      " 42000  20% (  1m 51s)   2.816   |   1.71: st   e  et  eet lost an erpnian treer th (forcing)\n",
      " 43000  30% (  2m 47s)   2.809   |   3.12:  eaine                                   \n",
      " 44000  40% (  3m 43s)   2.835   |   2.98: e te                                     \n",
      " 45000  50% (  4m 39s)   2.799   |   2.95: nd                                       \n",
      " 46000  60% (  5m 35s)   2.839   |   2.84: et                                       \n",
      " 47000  70% (  6m 31s)   2.801   |   2.83: e ee                                     \n",
      " 48000  80% (  7m 27s)   2.801   |   3.04:  ea                                      \n",
      " 49000  90% (  8m 23s)   2.811   |   3.14: n                                        \n",
      " 50000 100% (  9m 19s)   2.832   |   2.76: he                                       \n"
     ]
    }
   ],
   "source": [
    "train_iterations(n_iters=10000, print_every=1000, teacher_forcing_ratio=0.1, lr=lr)"
   ]
  },
  {
   "cell_type": "code",
   "execution_count": 61,
   "metadata": {},
   "outputs": [
    {
     "name": "stdout",
     "output_type": "stream",
     "text": [
      "ethics is a basic foundation of all that\n",
      "so imans-ant and-nitfured bat atisel him.\n",
      "\n",
      "284. great endases now resuges soun-saduse curforurnceming we spact. not meraided with\n",
      "ceatain perssiin priphing nothers deed tints! in feal thates and theis mataiving, pristimanly be,y\n",
      "has apbees for hewith tieses acest the altoreading thein syund would blan gradber, smartie\n"
     ]
    }
   ],
   "source": [
    "print_example()"
   ]
  },
  {
   "cell_type": "code",
   "execution_count": 62,
   "metadata": {},
   "outputs": [
    {
     "name": "stdout",
     "output_type": "stream",
     "text": [
      "ethics is a basic foundation of all that ot the inrepaons of\n",
      "t is suce a seepant. a\n",
      "matake: to the thachthen betoregon. dagnestos banging falicobyity, of\n",
      "which the ever of pliotians, is anf ict as moralizes, be all a that who have bempertory is wo\n",
      "ld all as over? he\n",
      "douch in the toustt forger but may no to commuly. nhaures ordee is the corrament.\" an the to \n"
     ]
    }
   ],
   "source": [
    "print_example()"
   ]
  },
  {
   "cell_type": "code",
   "execution_count": 63,
   "metadata": {},
   "outputs": [
    {
     "name": "stdout",
     "output_type": "stream",
     "text": [
      " 60000  20% (  9m 24s)   2.926   |   2.96: e se                                     \n",
      " 70000  40% ( 18m 48s)   2.930   |   3.18:                                          \n",
      " 80000  60% ( 28m 12s)   2.926   |   2.81: he                                       \n",
      " 90000  80% ( 37m 36s)   2.928   |   3.02:                                          \n",
      "100000 100% ( 46m 58s)   2.927   |   2.86:                                          \n"
     ]
    }
   ],
   "source": [
    "train_iterations(n_iters=50000, print_every=10000, teacher_forcing_ratio=0, lr=lr)"
   ]
  },
  {
   "cell_type": "code",
   "execution_count": 64,
   "metadata": {},
   "outputs": [
    {
     "name": "stdout",
     "output_type": "stream",
     "text": [
      "ethics is a basic foundation of all that a foshige more horthared undauthoug centas priape nacious and a deto ee humbel in?;\n",
      "tleo teghing rek is y iar proan forrasion a keuader of the de h in\n",
      "prsed in sectetsos.\n",
      "213..-ho\n",
      " too beribed us eaved to thing au wongrnd astaake such-anari5),\n",
      "ampious desplbeings tole, noblenselver itgherly hinden ir de eoire the ciem\n"
     ]
    }
   ],
   "source": [
    "print_example()"
   ]
  },
  {
   "cell_type": "code",
   "execution_count": 65,
   "metadata": {},
   "outputs": [
    {
     "name": "stdout",
     "output_type": "stream",
     "text": [
      "ethics is a basic foundation of all that ther igse had and hildich wh e gehnar bed\n",
      "dols live, he poprebo n toherquisply reconjeys--eele prejure he hid andi  malofit\n",
      "it if ory reaverte polus be possionisecluseoft..\n",
      "2]verelai-g ent, woranious--to trken instluth ofterviisuce.--bus pregssaid\" ir that of gron the  pee; prods we pricamand anmonth\"ar of the godl in\n"
     ]
    }
   ],
   "source": [
    "print_example()"
   ]
  },
  {
   "cell_type": "code",
   "execution_count": 66,
   "metadata": {},
   "outputs": [
    {
     "name": "stdout",
     "output_type": "stream",
     "text": [
      "ethics is a basic foundation of all that thengy\n",
      "as picioupeermother ngouble befo are wemprubudisi_ally foresion eed an taeipass ale the is astert onetldonght\n",
      "becoeitling, he hag=--ofayy mer;\n",
      "all a perictianiy iepoomansy, (he veryother leom, thr irct sim er for enes ofciy of thattiinelsertistndandinicurt,\n",
      "os.. t165.\n",
      "iei tier  tdetneert ew hectoceat do in opes\n"
     ]
    }
   ],
   "source": [
    "print_example()"
   ]
  },
  {
   "cell_type": "code",
   "execution_count": 67,
   "metadata": {},
   "outputs": [
    {
     "name": "stdout",
     "output_type": "stream",
     "text": [
      "110000  20% (  9m 22s)   2.923   |   2.90: n                                        \n",
      "120000  40% ( 18m 44s)   2.933   |   2.85:                                          \n",
      "130000  60% (  28m 7s)   2.924   |   3.26: re                                       \n",
      "140000  80% ( 37m 33s)   2.923   |   2.95: the  e                                   \n",
      "150000 100% ( 46m 57s)   2.930   |   2.79: n                                        \n"
     ]
    }
   ],
   "source": [
    "train_iterations(n_iters=50000, print_every=10000, teacher_forcing_ratio=0, lr=lr)"
   ]
  },
  {
   "cell_type": "code",
   "execution_count": 68,
   "metadata": {},
   "outputs": [
    {
     "name": "stdout",
     "output_type": "stream",
     "text": [
      "ethics is a basic foundation of all that er cheferbig\n",
      "than--acreors onls snculi,\n",
      "beschen,\n",
      "bum as, mselferer permscoriit exaly!--n13 thaull gned part has ofter  head on  spespo, had seace ly wastuch toble d\n",
      "beiour\n",
      "ore to ele n ?\n",
      "phaie of tede seldhing hid\n",
      "vanuasel whund , as n: i incuanticat cincimen efel,\" as\n",
      "cort anething fang treh is prongoi th toelw lfode\n"
     ]
    }
   ],
   "source": [
    "print_example()"
   ]
  },
  {
   "cell_type": "code",
   "execution_count": 69,
   "metadata": {},
   "outputs": [
    {
     "name": "stdout",
     "output_type": "stream",
     "text": [
      "ethics is a basic foundation of all thato gceifags, tys efe dixtaitly\n",
      "whrmecerman le. theis thes erthenc apfer  cpoth bee\n",
      "meytth, and\n",
      "ging-worghthen we leniun wighs d y arosival,.=-hhur sery ond, noe  sadoand a tiner allofd takeooreulesel womane: to chrnefnin werm. anl hempo, uper uama in, we fry beniracomy\"'hy whece ofas ampoweth wandne fregith nerusinyt na\n"
     ]
    }
   ],
   "source": [
    "print_example()"
   ]
  },
  {
   "cell_type": "code",
   "execution_count": 70,
   "metadata": {},
   "outputs": [
    {
     "name": "stdout",
     "output_type": "stream",
     "text": [
      "ethics is a basic foundation of all thatere?\n",
      "\n",
      "16horovigian o t raage ofit nothen anlishell, ho gleglest--by one, th tiger peou4, do stepoe omtillle\n",
      "f,\"g\n",
      "to moet pessicutee\n",
      "grean of cell'gercon in whwtr almogading te dom\n",
      "even hiawer re ir then o ntble sould,\"-he mevel thlys in man for and lence sell.\"dimper umome fa sulftheveraby,\n",
      "and t eurhen ferscegs and si\n"
     ]
    }
   ],
   "source": [
    "print_example()"
   ]
  },
  {
   "cell_type": "code",
   "execution_count": null,
   "metadata": {
    "collapsed": true
   },
   "outputs": [],
   "source": []
  },
  {
   "cell_type": "code",
   "execution_count": null,
   "metadata": {
    "collapsed": true
   },
   "outputs": [],
   "source": []
  }
 ],
 "metadata": {
  "anaconda-cloud": {},
  "kernelspec": {
   "display_name": "Python [conda env:py3_pytorch_2]",
   "language": "python",
   "name": "conda-env-py3_pytorch_2-py"
  },
  "language_info": {
   "codemirror_mode": {
    "name": "ipython",
    "version": 3
   },
   "file_extension": ".py",
   "mimetype": "text/x-python",
   "name": "python",
   "nbconvert_exporter": "python",
   "pygments_lexer": "ipython3",
   "version": "3.6.1"
  }
 },
 "nbformat": 4,
 "nbformat_minor": 2
}
