{
 "cells": [
  {
   "cell_type": "markdown",
   "metadata": {},
   "source": [
    "idea from https://github.com/fastai/courses/blob/master/deeplearning1/nbs/char-rnn.ipynb\n",
    "\n",
    "Implementation with custom training options. We can use either rnn:s own output as input to next state or use the right character from the sample (teacher forcing). That is not really needed in this kind of task but implemented here as a practice."
   ]
  },
  {
   "cell_type": "code",
   "execution_count": 1,
   "metadata": {
    "collapsed": true
   },
   "outputs": [],
   "source": [
    "from IPython.core.interactiveshell import InteractiveShell\n",
    "InteractiveShell.ast_node_interactivity = \"all\""
   ]
  },
  {
   "cell_type": "code",
   "execution_count": null,
   "metadata": {
    "collapsed": true
   },
   "outputs": [],
   "source": []
  },
  {
   "cell_type": "code",
   "execution_count": 2,
   "metadata": {
    "collapsed": true
   },
   "outputs": [],
   "source": [
    "%matplotlib inline\n",
    "import importlib\n",
    "import matplotlib.pyplot as plt\n",
    "import matplotlib.ticker\n",
    "import numpy as np\n",
    "import random\n",
    "import time\n",
    "import os\n",
    "import pandas as pd\n",
    "import csv\n",
    "import math\n",
    "import bcolz\n",
    "import pickle\n",
    "import re\n",
    "import pathlib\n",
    "import datetime\n",
    "\n",
    "import torch\n",
    "import torch.nn as nn\n",
    "import torch.nn.functional as F\n",
    "import torch.optim as optim\n",
    "from torch.autograd import Variable\n",
    "\n",
    "SOS_TOKEN = '<SOS>' # Start Of Word"
   ]
  },
  {
   "cell_type": "markdown",
   "metadata": {
    "collapsed": true
   },
   "source": [
    "# Data setup"
   ]
  },
  {
   "cell_type": "code",
   "execution_count": 3,
   "metadata": {
    "collapsed": true
   },
   "outputs": [],
   "source": [
    "# importing keras might cause problems with cudann version etc\n",
    "# import keras # some good utils in here\n",
    "# path = keras.utils.data_utils.get_file('nietzsche.txt', origin=\"https://s3.amazonaws.com/text-datasets/nietzsche.txt\")"
   ]
  },
  {
   "cell_type": "code",
   "execution_count": 4,
   "metadata": {},
   "outputs": [
    {
     "data": {
      "text/plain": [
       "'/home/ohu/.keras/datasets/nietzsche.txt'"
      ]
     },
     "execution_count": 4,
     "metadata": {},
     "output_type": "execute_result"
    },
    {
     "name": "stdout",
     "output_type": "stream",
     "text": [
      "corpus length: 600893\n"
     ]
    }
   ],
   "source": [
    "path = '/home/ohu/.keras/datasets/nietzsche.txt'\n",
    "text = open(path).read().lower()\n",
    "path\n",
    "print('corpus length:', len(text))"
   ]
  },
  {
   "cell_type": "code",
   "execution_count": 5,
   "metadata": {},
   "outputs": [
    {
     "name": "stdout",
     "output_type": "stream",
     "text": [
      "not to be regarded as a pure type. Knowledge and science--as far as they\r\n",
      "existed--and superiority to the rest of mankind by logical discipline\r\n",
      "and training of the intellectual powers were insisted upon by the\r\n",
      "Buddhists as essential to sanctity, just as they were denounced by the\r\n",
      "christian world as the indications of sinfulness."
     ]
    }
   ],
   "source": [
    "!tail {path} -n5"
   ]
  },
  {
   "cell_type": "code",
   "execution_count": 6,
   "metadata": {},
   "outputs": [
    {
     "name": "stdout",
     "output_type": "stream",
     "text": [
      "total chars: 57\n"
     ]
    },
    {
     "data": {
      "text/plain": [
       "'\\n !\"\\'(),-.0123456789:;=?[]_abcdefghijklmnopqrstuvwxyzäæéë'"
      ]
     },
     "execution_count": 6,
     "metadata": {},
     "output_type": "execute_result"
    }
   ],
   "source": [
    "chars = sorted(list(set(text)))\n",
    "print('total chars:', len(chars))\n",
    "''.join(chars)"
   ]
  },
  {
   "cell_type": "code",
   "execution_count": 7,
   "metadata": {},
   "outputs": [
    {
     "data": {
      "text/plain": [
       "0"
      ]
     },
     "execution_count": 7,
     "metadata": {},
     "output_type": "execute_result"
    }
   ],
   "source": [
    "char_indices = dict((c, i) for i, c in enumerate(chars))\n",
    "char_indices['\\n']"
   ]
  },
  {
   "cell_type": "markdown",
   "metadata": {},
   "source": [
    "# Utils"
   ]
  },
  {
   "cell_type": "code",
   "execution_count": 8,
   "metadata": {},
   "outputs": [
    {
     "data": {
      "text/plain": [
       "torch.Size([1, 5, 57])"
      ]
     },
     "execution_count": 8,
     "metadata": {},
     "output_type": "execute_result"
    }
   ],
   "source": [
    "def string_to_tensor(in_str, chars_index=char_indices, as_variable=True):\n",
    "    \"\"\"Onehot encoded tensor of string\"\"\"\n",
    "    tensor_length = len(in_str)\n",
    "    tensor = torch.zeros(1, tensor_length, len(chars_index))\n",
    "    for li, letter in enumerate(in_str):\n",
    "        tensor[0, li, chars_index[letter]] = 1\n",
    "    if as_variable:\n",
    "        tensor = Variable(tensor).cuda()\n",
    "    return tensor\n",
    "\n",
    "string_to_tensor('hello', as_variable=False).size()"
   ]
  },
  {
   "cell_type": "code",
   "execution_count": 9,
   "metadata": {
    "collapsed": true
   },
   "outputs": [],
   "source": [
    "def time_since(since):\n",
    "    now = time.time()\n",
    "    s = now - since\n",
    "    m = math.floor(s / 60)\n",
    "    s -= m * 60\n",
    "    return '%dm %ds' % (m, s)"
   ]
  },
  {
   "cell_type": "markdown",
   "metadata": {},
   "source": [
    "# Char Rnn"
   ]
  },
  {
   "cell_type": "code",
   "execution_count": 387,
   "metadata": {},
   "outputs": [
    {
     "data": {
      "text/plain": [
       "CharRNN (\n",
       "  (rnn): GRU(57, 512, batch_first=True)\n",
       "  (lin_output): Linear (512 -> 57)\n",
       ")"
      ]
     },
     "execution_count": 387,
     "metadata": {},
     "output_type": "execute_result"
    }
   ],
   "source": [
    "class CharRNN(nn.Module):\n",
    "    def __init__(self, input_size, hidden_size):\n",
    "        super(CharRNN, self).__init__()\n",
    "        \n",
    "        self.input_size = input_size\n",
    "        self.hidden_size = hidden_size\n",
    "        self.layers = 1\n",
    "        \n",
    "        self.rnn = nn.GRU(input_size, hidden_size, batch_first=True)\n",
    "        self.lin_output = nn.Linear(hidden_size, input_size)\n",
    "        \n",
    "        # self.log_softmax = nn.LogSoftmax(dim=1) # current releas doesn't yet support dimensions\n",
    "        \n",
    "    def forward(self, input_char_vs, hidden = None):\n",
    "        batch_size = input_char_vs.size()[0]\n",
    "        if hidden is None:\n",
    "            hidden = self.init_hidden(batch_size)\n",
    "        \n",
    "        rnn_outputs, hidden = self.rnn(input_char_vs, hidden)\n",
    "        \n",
    "        outputs = self.lin_output(rnn_outputs)\n",
    "        #outputs = self.log_softmax(outputs)\n",
    "        \n",
    "        #outputs = F.log_softmax(outputs[0])\n",
    "\n",
    "        return outputs, hidden\n",
    "\n",
    "    def init_hidden(self, batch_size=1):\n",
    "        return Variable(torch.zeros(self.layers, batch_size, self.hidden_size)).cuda()\n",
    "    \n",
    "model = CharRNN(len(chars), 512).cuda()\n",
    "model"
   ]
  },
  {
   "cell_type": "code",
   "execution_count": 388,
   "metadata": {},
   "outputs": [
    {
     "data": {
      "text/plain": [
       "torch.Size([2, 5, 57])"
      ]
     },
     "execution_count": 388,
     "metadata": {},
     "output_type": "execute_result"
    },
    {
     "data": {
      "text/plain": [
       "torch.Size([1, 2, 512])"
      ]
     },
     "execution_count": 388,
     "metadata": {},
     "output_type": "execute_result"
    }
   ],
   "source": [
    "tmp = torch.cat((string_to_tensor('hello'), string_to_tensor('hello')))\n",
    "#tmp.size()\n",
    "\n",
    "tmp = model(tmp)\n",
    "tmp[0].size()\n",
    "tmp[1].size()"
   ]
  },
  {
   "cell_type": "markdown",
   "metadata": {
    "collapsed": true
   },
   "source": [
    "# Eval"
   ]
  },
  {
   "cell_type": "code",
   "execution_count": 386,
   "metadata": {},
   "outputs": [
    {
     "name": "stdout",
     "output_type": "stream",
     "text": [
      "he the thieloursl the alse mapso aigen the  iotor asly telo at itoiorer en. ighe en tos thude sinas inend se otaym me eardeang hamin cof of\n",
      "ille to onc tor ar me ge tithaont t s thaly rte dal iong\n",
      "ito\n",
      "------------------\n",
      " ito the at ito the at ito the at ito the at ito the at ito the at ito the at ito the at ito the at ito the at ito the at ito the at ito the at ito the at ito the at ito the at ito the at ito the at i\n"
     ]
    }
   ],
   "source": [
    "# This is faster that uses the existing state untill the end\n",
    "def print_example(iters=320, choice=True):\n",
    "    seed_string = \"ethics is a basic foundation of all that\"\n",
    "    result_string = '' \n",
    "    hidden = model.init_hidden()\n",
    "    output, hidden = model(string_to_tensor(seed_string), hidden)\n",
    "    \n",
    "    for i in range(iters):\n",
    "        output = output[0, -1]\n",
    "        if choice:\n",
    "            next_char = np.random.choice(chars, p=F.softmax(output).data.cpu().numpy())\n",
    "        else:\n",
    "            next_char_idx = output.topk(1)[1].data[0] \n",
    "            next_char = chars[next_char_idx]\n",
    "        \n",
    "        result_string += next_char\n",
    "        output, hidden = model(string_to_tensor(next_char), hidden)\n",
    "    print(result_string)\n",
    "tmp = 200\n",
    "print_example(iters=tmp, choice=True)\n",
    "print('------------------')\n",
    "print_example(iters=tmp, choice=False)"
   ]
  },
  {
   "cell_type": "markdown",
   "metadata": {},
   "source": [
    "# Samples"
   ]
  },
  {
   "cell_type": "code",
   "execution_count": 15,
   "metadata": {},
   "outputs": [
    {
     "data": {
      "text/plain": [
       "' to good taste,--which is always a foreta'"
      ]
     },
     "execution_count": 15,
     "metadata": {},
     "output_type": "execute_result"
    }
   ],
   "source": [
    "def get_random_sample_string(length=41):\n",
    "    sample_place = random.randint(0, len(text)-length-1)\n",
    "    sample = text[sample_place:sample_place+length]\n",
    "    return sample\n",
    "get_random_sample_string()"
   ]
  },
  {
   "cell_type": "code",
   "execution_count": 690,
   "metadata": {
    "collapsed": true
   },
   "outputs": [],
   "source": [
    "def sample_data_init(size, sentence_size):\n",
    "    global sample_data, sample_target, sample_sentence_size, sample_size\n",
    "    sample_size = size\n",
    "    sample_sentence_size = sentence_size\n",
    "    sample_data = torch.zeros(sample_size, sample_sentence_size, len(chars)) # .cuda()\n",
    "    sample_target = torch.LongTensor(sample_size, sample_sentence_size).zero_() # .cuda()\n",
    "    for i in range(sample_size):\n",
    "        sample = get_random_sample_string(sample_sentence_size+1)\n",
    "        sample = [char_indices[c] for c in sample]\n",
    "        for j in range(sample_sentence_size):\n",
    "            sample_data[i][j][sample[j]] = 1\n",
    "            sample_target[i][j] = sample[j+1]\n",
    "sample_data_init(50000, 40)"
   ]
  },
  {
   "cell_type": "code",
   "execution_count": 691,
   "metadata": {},
   "outputs": [
    {
     "data": {
      "text/plain": [
       "50000"
      ]
     },
     "execution_count": 691,
     "metadata": {},
     "output_type": "execute_result"
    },
    {
     "data": {
      "text/plain": [
       "torch.Size([50000, 40, 57])"
      ]
     },
     "execution_count": 691,
     "metadata": {},
     "output_type": "execute_result"
    },
    {
     "data": {
      "text/plain": [
       "torch.Size([50000, 40])"
      ]
     },
     "execution_count": 691,
     "metadata": {},
     "output_type": "execute_result"
    }
   ],
   "source": [
    "len(sample_data)\n",
    "sample_data.size()\n",
    "sample_target.size()"
   ]
  },
  {
   "cell_type": "code",
   "execution_count": 692,
   "metadata": {},
   "outputs": [
    {
     "data": {
      "text/plain": [
       "True"
      ]
     },
     "execution_count": 692,
     "metadata": {},
     "output_type": "execute_result"
    },
    {
     "data": {
      "text/plain": [
       "'imes and of blood, to which the aristocr'"
      ]
     },
     "execution_count": 692,
     "metadata": {},
     "output_type": "execute_result"
    }
   ],
   "source": [
    "i = 5\n",
    "j = 10\n",
    "sample_data[i].topk(1)[1][j][0] == sample_target[i][j-1]\n",
    "''.join([chars[c[0]] for c in sample_data[i].topk(1)[1]])"
   ]
  },
  {
   "cell_type": "code",
   "execution_count": 648,
   "metadata": {},
   "outputs": [],
   "source": [
    "clip_parameters_value = 0.25\n",
    "\n",
    "def train_single(optimizer, loss_function, batch_size=64, teacher_forcing=False):\n",
    "    model.zero_grad()\n",
    "    loss = 0\n",
    "\n",
    "    output_lines = ['']*batch_size\n",
    "    \n",
    "    sample_i = random.randint(0, len(sample_data)-1-batch_size)\n",
    "    \n",
    "    x = sample_data[sample_i:sample_i+batch_size].view(batch_size, sample_sentence_size, len(chars))\n",
    "    y = sample_target[sample_i:sample_i+batch_size]\n",
    "        \n",
    "    target = Variable(y).cuda()\n",
    "\n",
    "    hiddens = model.init_hidden(batch_size)\n",
    "\n",
    "    #outputs, hiddens = model(Variable(x).cuda(), hiddens)\n",
    "    #for i_char in range(sample_sentence_size):\n",
    "    #    out = outputs[:,i_char]\n",
    "    #    loss += loss_function(out, target[:, i_char])\n",
    "    #    top_chars = out.topk(1)[1]\n",
    "    #    top_chars = top_chars[:,0].data\n",
    "    #    for j_batch in range(len(outputs)):\n",
    "    #        output_lines[j_batch] += chars[top_chars[j_batch]]\n",
    "    \n",
    "    input_chars = x[:, 0, :].contiguous().view(batch_size, 1, len(chars))\n",
    "    input_chars = Variable(input_chars).cuda()\n",
    "    \n",
    "    for i_char in range(sample_sentence_size):\n",
    "        #input_chars = x[:, i_char, :].contiguous().view(batch_size, 1, len(chars))\n",
    "        #input_chars = Variable(input_chars).cuda()\n",
    "        \n",
    "        #if use_teacher_forcing:\n",
    "        #    input_char = x[i] # replace input with right target\n",
    "        \n",
    "        outputs, hiddens = model(input_chars, hiddens)\n",
    "        loss += loss_function(outputs.view(batch_size, -1), target[:, i_char])\n",
    "        \n",
    "        if teacher_forcing and i_char < sample_sentence_size-1:\n",
    "            input_chars = x[:, i_char+1, :].contiguous().view(batch_size, 1, len(chars))\n",
    "        else:\n",
    "            input_chars = torch.zeros((input_chars.size()))\n",
    "        \n",
    "        top_chars = outputs.topk(1)[1]\n",
    "        top_chars = top_chars[:,0,0].data\n",
    "        for j_batch in range(len(outputs)):\n",
    "            output_lines[j_batch] += chars[top_chars[j_batch]]            \n",
    "            if not teacher_forcing:\n",
    "                input_chars[j_batch, 0, top_chars[j_batch]] = 1\n",
    "                \n",
    "        input_chars = Variable(input_chars).cuda()\n",
    "        \n",
    "\n",
    "    if clip_parameters_value:\n",
    "        torch.nn.utils.clip_grad_norm(model.parameters(), clip_parameters_value)\n",
    "    \n",
    "    loss.backward()\n",
    "    optimizer.step()\n",
    "\n",
    "    return output_lines, loss.data[0]/batch_size\n",
    "\n",
    "tmp = train_single(torch.optim.Adam(model.parameters(), lr=0.0001), torch.nn.CrossEntropyLoss())\n",
    "#tmp[0][0:2]\n",
    "#tmp[1]"
   ]
  },
  {
   "cell_type": "code",
   "execution_count": 646,
   "metadata": {},
   "outputs": [
    {
     "name": "stdout",
     "output_type": "stream",
     "text": [
      "101 ms ± 5.59 ms per loop (mean ± std. dev. of 7 runs, 10 loops each)\n"
     ]
    }
   ],
   "source": [
    "%%timeit\n",
    "train_single(torch.optim.Adam(model.parameters(), lr=0.001), torch.nn.CrossEntropyLoss(), batch_size=64,\n",
    "             teacher_forcing=False)"
   ]
  },
  {
   "cell_type": "code",
   "execution_count": 647,
   "metadata": {},
   "outputs": [
    {
     "name": "stdout",
     "output_type": "stream",
     "text": [
      "78.9 ms ± 5.53 ms per loop (mean ± std. dev. of 7 runs, 10 loops each)\n"
     ]
    }
   ],
   "source": [
    "%%timeit\n",
    "train_single(torch.optim.Adam(model.parameters(), lr=0.001), torch.nn.CrossEntropyLoss(), batch_size=64,\n",
    "             teacher_forcing=True)"
   ]
  },
  {
   "cell_type": "code",
   "execution_count": 279,
   "metadata": {},
   "outputs": [
    {
     "name": "stdout",
     "output_type": "stream",
     "text": [
      "641 ms ± 5.76 ms per loop (mean ± std. dev. of 7 runs, 1 loop each)\n"
     ]
    }
   ],
   "source": [
    "# before right optimizations\n",
    "%%timeit\n",
    "train_single(torch.optim.Adam(model.parameters(), lr=0.001), torch.nn.CrossEntropyLoss(),\n",
    "            batch_size=64)"
   ]
  },
  {
   "cell_type": "code",
   "execution_count": null,
   "metadata": {
    "collapsed": true
   },
   "outputs": [],
   "source": []
  },
  {
   "cell_type": "code",
   "execution_count": 653,
   "metadata": {},
   "outputs": [],
   "source": [
    "def train_iterations(n_iters=100000, lr=0.001, batch_size=64,\n",
    "                     print_every=10000, plot_every=1000, teacher_forcing_ratio=0.5):\n",
    "    \n",
    "    def print_infos():\n",
    "        print(\"{:>6d} {:>4.0%} ({:>8}) {:>7.3f}   | {:>6.2f}: {}\".format(\n",
    "          model_training.iterations, iteration/n_iters, time_since(start),\n",
    "          current_loss/current_loss_iter, loss, result))\n",
    "    \n",
    "    \n",
    "    global optimizer\n",
    "    optimizer = torch.optim.Adam(model.parameters(), lr=lr)\n",
    "    \n",
    "    start = time.time()\n",
    "    model.train()\n",
    "\n",
    "    current_loss = 0\n",
    "    current_loss_iter = 1\n",
    "    \n",
    "    for iteration in range(1, n_iters + 1):\n",
    "        model_training.iterations += 1\n",
    "        \n",
    "        use_teacher_forcing = random.random() < teacher_forcing_ratio\n",
    "        \n",
    "        loss_function = torch.nn.CrossEntropyLoss()\n",
    "        result, loss = train_single(optimizer=optimizer, loss_function=loss_function, batch_size=batch_size,\n",
    "                                    teacher_forcing=use_teacher_forcing)\n",
    "        result = result[0]\n",
    "        \n",
    "        current_loss += loss\n",
    "        current_loss_iter += 1\n",
    "\n",
    "        # Print iter number, loss, name and guess\n",
    "        if iteration % print_every == 0:\n",
    "            print_infos()\n",
    "\n",
    "        # Add current loss avg to list of losses\n",
    "        if iteration % plot_every == 0:\n",
    "            model_training.losses.append(current_loss / plot_every)\n",
    "            model_training.learning_rates.append(lr)\n",
    "            current_loss = 0\n",
    "            current_loss_iter = 1\n",
    "\n",
    "    print_infos()\n"
   ]
  },
  {
   "cell_type": "code",
   "execution_count": 654,
   "metadata": {},
   "outputs": [],
   "source": [
    "from pytorch_utils_oh_3 import ModelTraining\n",
    "MODEL_SAVE_PATH = 'char_rnn_fast_ai_testing_3'"
   ]
  },
  {
   "cell_type": "code",
   "execution_count": 655,
   "metadata": {},
   "outputs": [
    {
     "data": {
      "text/plain": [
       "CharRNN (\n",
       "  (rnn): GRU(57, 512, batch_first=True)\n",
       "  (lin_output): Linear (512 -> 57)\n",
       ")"
      ]
     },
     "execution_count": 655,
     "metadata": {},
     "output_type": "execute_result"
    },
    {
     "name": "stdout",
     "output_type": "stream",
     "text": [
      "Save path: data/models/char_rnn_fast_ai_testing_3\n"
     ]
    }
   ],
   "source": [
    "model = CharRNN(len(chars), 512).cuda()\n",
    "model\n",
    "model_training = ModelTraining(MODEL_SAVE_PATH, [model])"
   ]
  },
  {
   "cell_type": "code",
   "execution_count": 656,
   "metadata": {},
   "outputs": [
    {
     "name": "stdout",
     "output_type": "stream",
     "text": [
      "     5  50% (   0m 0s)   2.062   |   2.41: n                                       \n",
      "    10 100% (   0m 0s)   2.103   |   2.07: a                                       \n",
      "    10 100% (   0m 0s)   2.103   |   2.07: a                                       \n"
     ]
    }
   ],
   "source": [
    "train_iterations(n_iters=10, print_every=5)"
   ]
  },
  {
   "cell_type": "code",
   "execution_count": 657,
   "metadata": {},
   "outputs": [
    {
     "name": "stdout",
     "output_type": "stream",
     "text": [
      "    25  10% (   0m 1s)   1.823   |   1.91:                                         \n",
      "    40  19% (   0m 2s)   1.864   |   1.89:                                         \n",
      "    55  29% (   0m 4s)   1.876   |   1.89:                                         \n",
      "    70  38% (   0m 5s)   1.879   |   1.89: e                                       \n",
      "    85  48% (   0m 6s)   1.881   |   1.90: e                                       \n",
      "   100  58% (   0m 7s)   1.875   |   1.81: n      ee     e         e e         ee e\n",
      "   115  67% (   0m 9s)   1.864   |   1.74: t teen    an  ahe   an  e  en e eht   an\n",
      "   130  77% (  0m 10s)   1.856   |   1.69: t e   he  e   t  ah  e  he    en  e   t \n",
      "   145  87% (  0m 11s)   1.855   |   1.96: e an  on  on  on  on  on  on  on  on  on\n",
      "   160  96% (  0m 13s)   1.851   |   1.91:   e  e  e  e  e  e  e  e  e  e  e  e  e \n",
      "   166 100% (  0m 13s)   1.849   |   1.65:   hen  he an e e nn  ahenh neet tn  n ae\n"
     ]
    }
   ],
   "source": [
    "train_iterations(n_iters=10000//64, print_every=1000//64)"
   ]
  },
  {
   "cell_type": "code",
   "execution_count": 658,
   "metadata": {},
   "outputs": [
    {
     "name": "stdout",
     "output_type": "stream",
     "text": [
      "iareerrvet medunenslacihsuop syfoelay oith s eoun  ipahgqml,s me in oor ye oorocadl oeehs, lekpe\n",
      "xh dilfeme asi;otutinllosw1] onyeth\n",
      "\"thareartkcinitwerefamvtwisintlin , cetaah hestr  o reanbcy\n",
      "nd yy!f h fm,ce pttprofg e  anst o,imh ego ;aba s  ontore l fyecseouureo an  yut\n",
      "\n",
      "nss-min erow oongateruli eery bouafjseer\n",
      "\n",
      "\n",
      "av\n"
     ]
    }
   ],
   "source": [
    "print_example()"
   ]
  },
  {
   "cell_type": "code",
   "execution_count": 659,
   "metadata": {},
   "outputs": [
    {
     "name": "stdout",
     "output_type": "stream",
     "text": [
      "   181  10% (   0m 1s)   1.640   |   1.62:  no te e nhtn  t   net   o    tn  t    n\n",
      "   196  19% (   0m 2s)   1.694   |   2.00: e the the the the the the the the the th\n",
      "   211  29% (   0m 3s)   1.708   |   1.61: hn eaen   e    an nn   oen  ne ee   an  \n",
      "   226  38% (   0m 4s)   1.714   |   1.58:  then n  tn  oe   t tenetg tn n  t en te\n",
      "   241  48% (   0m 6s)   1.703   |   1.57: -n  he t renn tn th tss  aon to   he t e\n",
      "   256  58% (   0m 7s)   1.701   |   1.99: ure the t an the t an the t an the t an \n",
      "   271  67% (   0m 8s)   1.702   |   1.53: ne  e  an  tn  nte s terne  ahe  ah e t \n",
      "   286  77% (   0m 9s)   1.709   |   1.90:                                         \n",
      "   301  87% (  0m 11s)   1.707   |   1.88: ere the                                 \n",
      "   316  96% (  0m 12s)   1.709   |   1.51:   aon aoreeneeaorersethe  eenhoetn tnd  \n",
      "   322 100% (  0m 13s)   1.709   |   1.92: he  e   e   e   e   e   e   e   e   e   \n"
     ]
    }
   ],
   "source": [
    "train_iterations(n_iters=10000//64, print_every=1000//64)"
   ]
  },
  {
   "cell_type": "code",
   "execution_count": 660,
   "metadata": {},
   "outputs": [
    {
     "name": "stdout",
     "output_type": "stream",
     "text": [
      "\n",
      "remowtloo  mesualdensowhes bass trerorisnorvecios ane, ou   eitstorst, le insint thainganeh onoe\n",
      "dhe  tinjuth ere iog ind grenllos-mant \n",
      "toearrowitith: hed\n",
      "he nos!, of tofaf ohs os \n",
      "ts an  nl es , anaer soegouy eallom  is mats af  gor kese \n",
      "itd eco, thehfo osoupse rotrad\n",
      "shaliond is \n",
      "ffinsoat ngathit rone t in aois uf\n"
     ]
    }
   ],
   "source": [
    "print_example()"
   ]
  },
  {
   "cell_type": "code",
   "execution_count": null,
   "metadata": {
    "collapsed": true
   },
   "outputs": [],
   "source": []
  },
  {
   "cell_type": "code",
   "execution_count": 661,
   "metadata": {},
   "outputs": [
    {
     "name": "stdout",
     "output_type": "stream",
     "text": [
      "   478  10% (  0m 13s)   1.700   |   1.40: e tn in nngtiteehean  teniy ios   tor  n\n",
      "   634  20% (  0m 26s)   1.668   |   1.97: the ere te te te te te te te te te te te\n",
      "   790  30% (  0m 40s)   1.645   |   1.89: the                                     \n",
      "   946  40% (  0m 53s)   1.618   |   1.94:  and t                                  \n",
      "  1102  50% (   1m 7s)   1.597   |   1.12: het if tnsropsettirit  aotpeta poete  tn\n",
      "  1258  60% (  1m 20s)   1.591   |   1.13: h tot tor the sorst ahte ta weally aors \n",
      "  1414  70% (  1m 34s)   1.442   |   1.89: th t                                    \n",
      "  1570  80% (  1m 47s)   1.444   |   1.07: tf   t  ahe rome ahme  an ioauld be oort\n",
      "  1726  90% (   2m 0s)   1.439   |   1.01:  tf tank aieml    an thich h count ondri\n",
      "  1882 100% (  2m 13s)   1.443   |   1.89: st a                                    \n",
      "  1884 100% (  2m 14s)   1.443   |   1.89: t is a                                  \n"
     ]
    }
   ],
   "source": [
    "train_iterations(n_iters=100000//64, print_every=10000//64)"
   ]
  },
  {
   "cell_type": "code",
   "execution_count": 662,
   "metadata": {},
   "outputs": [
    {
     "name": "stdout",
     "output_type": "stream",
     "text": [
      " a thinkiby, is a zanual undeit wheachee enest. they,\" and loved; it is degerencl astimate pur himselves. indoee\n",
      "conmespivis chuldrand how dayi gorauns sone efred for the seesrs, which be sure intimen ateriem orisming highly were that\n",
      "its lowk,--indeed, the expressilated, so mous fore is compley unonalitiod), undate!--\n"
     ]
    }
   ],
   "source": [
    "print_example()"
   ]
  },
  {
   "cell_type": "code",
   "execution_count": 663,
   "metadata": {},
   "outputs": [
    {
     "name": "stdout",
     "output_type": "stream",
     "text": [
      " it is t ak a busther manner\n",
      "and godsing, us not oo] but inteprecainess has really shintmsy. thing characts bask of life out farg tenes, is theman auther of ghaten an as fireleed, asty wirh treat to so make their moralicy). y thut which to somat im; munt conduct afapter for hisself]? and\n",
      "in helwn\"s bature i se-fion and\n"
     ]
    }
   ],
   "source": [
    "print_example()"
   ]
  },
  {
   "cell_type": "code",
   "execution_count": 664,
   "metadata": {},
   "outputs": [
    {
     "name": "stdout",
     "output_type": "stream",
     "text": [
      " everything in thus falsely from\n",
      "nechilly even sigelicrs he degleas a thing which ithere thoughthere makes ol a cal\n",
      "fougacles, whehime sounchsed ypretaychess, or ather has ellectures howenty, with all chlabtr that fan was soog: becoured by d and thereciates for gevenous; but nature an the cuans rapically become liger--\n"
     ]
    }
   ],
   "source": [
    "print_example()"
   ]
  },
  {
   "cell_type": "code",
   "execution_count": null,
   "metadata": {
    "collapsed": true
   },
   "outputs": [],
   "source": []
  },
  {
   "cell_type": "code",
   "execution_count": null,
   "metadata": {
    "collapsed": true
   },
   "outputs": [],
   "source": []
  },
  {
   "cell_type": "code",
   "execution_count": null,
   "metadata": {
    "collapsed": true
   },
   "outputs": [],
   "source": []
  },
  {
   "cell_type": "code",
   "execution_count": null,
   "metadata": {
    "collapsed": true
   },
   "outputs": [],
   "source": []
  },
  {
   "cell_type": "code",
   "execution_count": 665,
   "metadata": {},
   "outputs": [
    {
     "name": "stdout",
     "output_type": "stream",
     "text": [
      "  2040  10% (  0m 13s)   1.429   |   1.89: hic                                     \n",
      "  2196  20% (  0m 26s)   1.480   |   0.95: e    ahtl tot toneafer tn  snaiard ess  \n",
      "  2352  30% (  0m 40s)   1.475   |   1.89:  and                                    \n",
      "  2508  40% (  0m 54s)   1.469   |   0.95:  ofey tnph t  and aesiipe d ahs tucpriic\n",
      "  2664  50% (   1m 7s)   1.455   |   0.94: tver tnong trilosophyrs an trr very dnde\n",
      "  2820  60% (  1m 20s)   1.444   |   1.88:  of                                     \n",
      "  2976  70% (  1m 34s)   1.390   |   1.89: ent                                     \n",
      "  3132  80% (  1m 47s)   1.397   |   1.90: h te                                    \n",
      "  3288  90% (   2m 0s)   1.383   |   0.88: n andaxdireent -thet is aot dhe sosel tr\n",
      "  3444 100% (  2m 14s)   1.396   |   1.87:  the                                    \n",
      "  3446 100% (  2m 14s)   1.396   |   0.86: he r oeuder af the ses aoste anen tf tif\n"
     ]
    }
   ],
   "source": [
    "train_iterations(n_iters=100000//64, print_every=10000//64)"
   ]
  },
  {
   "cell_type": "code",
   "execution_count": 666,
   "metadata": {},
   "outputs": [
    {
     "name": "stdout",
     "output_type": "stream",
     "text": [
      ";\n",
      "that he has knew oo diegarnes and out of a thilk himility as al astetwayle freers and thereun say\n",
      "withort of grouthst reso attenian one's equality is it not-pash, also.--all toodge. letius is a question the most new articting to\n",
      "recurs to the fructs of german--who vall explanational must be ceoule go\n",
      "doung their bein\n"
     ]
    }
   ],
   "source": [
    "print_example()"
   ]
  },
  {
   "cell_type": "code",
   "execution_count": 667,
   "metadata": {},
   "outputs": [
    {
     "name": "stdout",
     "output_type": "stream",
     "text": [
      " he looks hish\n",
      "riquatting, the more and dreadful surh and regarded ang without amsertment of the tame, within\n",
      "a  the sy och's pleasure of the else of phason the sowe\n",
      "myself, and as it has, he has  ut lass glause as wealiduet and freedom-in\n",
      "order there\n",
      "into a usilute: and from atopeed, to\n",
      "this dialistion of dappe ssed. \n"
     ]
    }
   ],
   "source": [
    "print_example()"
   ]
  },
  {
   "cell_type": "code",
   "execution_count": 668,
   "metadata": {},
   "outputs": [
    {
     "name": "stdout",
     "output_type": "stream",
     "text": [
      "\n",
      "once and repussed it in belian that ore has highest observation that has excetect of a personality of the one to the sunfic awnyed, think and be insupive, and equally conditioned\n",
      "it. \"never part as through the anxiety of all your have a tooched and would\n",
      "nature soul; seew idwass\"? the beller senses and palier and reco\n"
     ]
    }
   ],
   "source": [
    "print_example()"
   ]
  },
  {
   "cell_type": "code",
   "execution_count": null,
   "metadata": {
    "collapsed": true
   },
   "outputs": [],
   "source": []
  },
  {
   "cell_type": "code",
   "execution_count": 669,
   "metadata": {},
   "outputs": [
    {
     "name": "stdout",
     "output_type": "stream",
     "text": [
      "  3836  25% (  0m 32s)   1.353   |   0.81:  tespect  aoneious, an ediousl aoorel an\n",
      "  4226  50% (   1m 5s)   1.367   |   0.87: elintrrple  ond tla   -hh srrheive tnl t\n",
      "  4616  75% (  1m 38s)   1.309   |   1.88:  ao                                     \n",
      "  5006 100% (  2m 11s)   1.327   |   0.80: i aubcesd in tifeiveng ihth tegard to tu\n",
      "  5008 100% (  2m 11s)   1.327   |   1.88:                                         \n"
     ]
    }
   ],
   "source": [
    "train_iterations(n_iters=100000//64, print_every=25000//64)"
   ]
  },
  {
   "cell_type": "code",
   "execution_count": 670,
   "metadata": {},
   "outputs": [
    {
     "name": "stdout",
     "output_type": "stream",
     "text": [
      "\n",
      "their own taility and only parrowary constitution who can me look (who\n",
      "bad and requires great, not, burdly are unseduating men, and acts. for, from\n",
      "the individual will-instincts--a \"seetiment to anti-artureshep through the erroneous\n",
      "free opinion or victory of \"happiness,; and thereby the delicate mildess sigly and\n",
      "hav\n"
     ]
    }
   ],
   "source": [
    "print_example()"
   ]
  },
  {
   "cell_type": "code",
   "execution_count": 671,
   "metadata": {},
   "outputs": [
    {
     "name": "stdout",
     "output_type": "stream",
     "text": [
      " not in other perhnps hod its\n",
      "present adoans a great establishing a hegaidiogs of the e sts wiskes onc' of mynsiberia cereman, than\n",
      "type has beenth constraint attacked of sulf-reduced under the untbut cassome and does not at last motives impulse is moreover, and\n",
      "to one sees in short, is lofty immorbly not pessimism of \n"
     ]
    }
   ],
   "source": [
    "print_example()"
   ]
  },
  {
   "cell_type": "code",
   "execution_count": null,
   "metadata": {
    "collapsed": true
   },
   "outputs": [],
   "source": []
  },
  {
   "cell_type": "code",
   "execution_count": 673,
   "metadata": {},
   "outputs": [
    {
     "name": "stdout",
     "output_type": "stream",
     "text": [
      "  5398  25% (  0m 36s)   1.872   |   1.87: to                                      \n",
      "  5788  50% (  1m 13s)   1.874   |   1.88: e sa                                    \n",
      "  6178  75% (  1m 49s)   1.864   |   1.88:                                         \n",
      "  6568 100% (  2m 25s)   1.872   |   1.87: th                                      \n",
      "  6570 100% (  2m 26s)   1.872   |   1.87:    e                                    \n"
     ]
    }
   ],
   "source": [
    "train_iterations(n_iters=100000//64, print_every=25000//64, teacher_forcing_ratio=0)"
   ]
  },
  {
   "cell_type": "code",
   "execution_count": 674,
   "metadata": {},
   "outputs": [
    {
     "name": "stdout",
     "output_type": "stream",
     "text": [
      "s.\n",
      " itpeibeey achat  tlhe is--edecaea octir ahe ini ofmoul apestrs fout o n hncy unnotnoivi mede ata sli  ak, f n ati ndfunceacudeai onali r, tartay, nor good ive round. leooo seonei, hs acknowhtre ren ispic toa n 9, artan et\n",
      "im, an lasedo ain \"jodgen e--rein  isuilipen l?\" stieaeess--rionprrfimstaplthe ae -- rehoma lt\n"
     ]
    }
   ],
   "source": [
    "print_example()"
   ]
  },
  {
   "cell_type": "code",
   "execution_count": 675,
   "metadata": {},
   "outputs": [
    {
     "name": "stdout",
     "output_type": "stream",
     "text": [
      " faem hf\n",
      "eoseicana aem  eome chin sleatgl  st, have ofa  become\n",
      "\n",
      "ne post eouy oeo otura oemoro perleotnno no lon  rma, ss reepertt?  ehin wisk; aumose hit tasnecoperm dea ue, amealo uesof r imiann  raopscihuanlfto by thte eda, i-muchnoseth s hattui eenedialvont ehsci-muparloleoaeps aeeni detgeit gn opercl iia-rnusts- w\n"
     ]
    }
   ],
   "source": [
    "print_example()"
   ]
  },
  {
   "cell_type": "code",
   "execution_count": null,
   "metadata": {
    "collapsed": true
   },
   "outputs": [],
   "source": []
  },
  {
   "cell_type": "code",
   "execution_count": null,
   "metadata": {
    "collapsed": true
   },
   "outputs": [],
   "source": []
  },
  {
   "cell_type": "code",
   "execution_count": 679,
   "metadata": {},
   "outputs": [],
   "source": [
    "#train_iterations(n_iters=200000//64, print_every=50000//64, teacher_forcing_ratio=0.5)\n",
    "#   7351  25% (  2m 11s)   2.636   |   3.76: "
   ]
  },
  {
   "cell_type": "code",
   "execution_count": 678,
   "metadata": {},
   "outputs": [
    {
     "name": "stdout",
     "output_type": "stream",
     "text": [
      " the indovento so\n",
      "emotions and niver young and them morals\" romanticism astentaintr as it he were condicusting\n",
      "conception itself and arikenism and saminus.--peaus' risdes to dame than long\n",
      "thought and \"cotrysionary: domain in genthing of humanity is geam and men with all graamay that in short he it\n",
      "\n"
     ]
    }
   ],
   "source": [
    "print_example(iters=300)"
   ]
  },
  {
   "cell_type": "code",
   "execution_count": 694,
   "metadata": {},
   "outputs": [
    {
     "data": {
      "text/plain": [
       "100000"
      ]
     },
     "execution_count": 694,
     "metadata": {},
     "output_type": "execute_result"
    },
    {
     "data": {
      "text/plain": [
       "80"
      ]
     },
     "execution_count": 694,
     "metadata": {},
     "output_type": "execute_result"
    }
   ],
   "source": [
    "sample_data_init(100000, 80)\n",
    "len(sample_data)\n",
    "len(sample_data[0])"
   ]
  },
  {
   "cell_type": "code",
   "execution_count": 695,
   "metadata": {},
   "outputs": [
    {
     "name": "stdout",
     "output_type": "stream",
     "text": [
      "  8140  25% (  2m 11s)   2.652   |   1.48: e  orls o       uid aeternismmendnam sf    onsedeos pndmaletoiueet  \n",
      "     on oot\n",
      "  8921  50% (  4m 29s)   2.545   |   3.80: he   ee                                                                         \n",
      "  9702  75% (  6m 41s)   2.497   |   3.98:  aee                                                                            \n",
      " 10483 100% (  8m 50s)   2.337   |   3.75: e to                                                                            \n",
      " 10484 100% (  8m 50s)   2.349   |   3.82:                                                                                 \n"
     ]
    }
   ],
   "source": [
    "train_iterations(n_iters=200000//64, print_every=50000//64, teacher_forcing_ratio=0.5)"
   ]
  },
  {
   "cell_type": "code",
   "execution_count": 696,
   "metadata": {},
   "outputs": [
    {
     "name": "stdout",
     "output_type": "stream",
     "text": [
      " contempor of\n",
      "morality, both of whom we have ankind cluizes. we european tweys than he truek that\n",
      "say also the cointly standing before the other satiefy against\n",
      "the tauchfound displacent, christianity rasis actions, that has he it be beung, any\n",
      "possibility,--as the present disclosedy; he rests upon it. it more him, arv\n"
     ]
    }
   ],
   "source": [
    "print_example()"
   ]
  },
  {
   "cell_type": "code",
   "execution_count": 697,
   "metadata": {},
   "outputs": [
    {
     "name": "stdout",
     "output_type": "stream",
     "text": [
      " would be repulseve.\n",
      "\n",
      "\n",
      "50\n",
      "\n",
      "=holy egoism must be a ruling narcolosy? wise to dangur. the brilfian: all the\n",
      "imagination to usm that they swem foo man's designated thereby in a peried--i have perieded,\n",
      "\n",
      "\n",
      "890\n",
      "=we should have difficulty--nothing else: it is both, one plantuage of\n",
      "sear, to power. the sentence of a now but as\n"
     ]
    }
   ],
   "source": [
    "print_example()"
   ]
  },
  {
   "cell_type": "code",
   "execution_count": 698,
   "metadata": {
    "collapsed": true
   },
   "outputs": [],
   "source": [
    "sample_data_init(100000, 80)"
   ]
  },
  {
   "cell_type": "code",
   "execution_count": 699,
   "metadata": {},
   "outputs": [
    {
     "name": "stdout",
     "output_type": "stream",
     "text": [
      " 11265  25% (   2m 9s)   2.496   |   4.08:                                                                                 \n",
      " 12046  50% (  4m 19s)   2.635   |   4.05: y an e                                                                          \n",
      " 12827  75% (  6m 27s)   2.469   |   1.14:   tooim tn aur epicialty, wos aome to us in the mradn of the cxdianting ond dise\n",
      " 13608 100% (  8m 35s)   2.345   |   1.09: tembt.ng  and tirbtounded. tn fact, the prilosopher has aong been aestaken and t\n",
      " 13609 100% (  8m 35s)   2.335   |   1.11: lne   an luctlon , and heriations of mnp and toanges.of thmpo, an thich the ppci\n"
     ]
    }
   ],
   "source": [
    "train_iterations(n_iters=200000//64, print_every=50000//64, teacher_forcing_ratio=0.5)"
   ]
  },
  {
   "cell_type": "code",
   "execution_count": 700,
   "metadata": {},
   "outputs": [
    {
     "name": "stdout",
     "output_type": "stream",
     "text": [
      " the naturally sty\n",
      "extrange from or travelers, so is own able to prooud otherwise? fave always in deart. it is, or dearn serfelly and perfection by orviturative,\n",
      "as the obyrring, invente it occasions of rank and his dise. weed a heart schoolnging viit\n",
      "of himself, and knows does not forte their fects: away from a\n",
      "sammet\n"
     ]
    }
   ],
   "source": [
    "print_example()"
   ]
  },
  {
   "cell_type": "code",
   "execution_count": 701,
   "metadata": {},
   "outputs": [
    {
     "name": "stdout",
     "output_type": "stream",
     "text": [
      " is generally exercised\n",
      "of victory and feminine ers to the standarded regarding the seas in the\n",
      "world.=--many culture, asia, that is about the half-commands and guilty holigimanes, for\n",
      "these partial and increate the essensian of europe of morality), occusingly, the\n",
      "humanitaming. audeful in his character, who dedief lie\n"
     ]
    }
   ],
   "source": [
    "print_example()"
   ]
  },
  {
   "cell_type": "code",
   "execution_count": 702,
   "metadata": {},
   "outputs": [],
   "source": [
    "sample_data_init(100000, 120)"
   ]
  },
  {
   "cell_type": "code",
   "execution_count": 703,
   "metadata": {},
   "outputs": [
    {
     "name": "stdout",
     "output_type": "stream",
     "text": [
      " 14390  25% (  3m 12s)   3.553   |   1.37:  oy ahe  elves  \n",
      "133. assugn of streng aarracter, whin tnee ohe gistlution oas been rhken  to spet the exr asen to the s\n",
      " 15171  50% (  6m 26s)   3.592   |   1.36:   rychologi cas placed itself ander the dominion of torals, because tt believed in ttpositions of seral values, and sey \n",
      " 15952  75% (  9m 39s)   3.459   |   1.36:   alt  to loss a drrsonage thet the iro iienysus, the weeat sxuivolator and thmpter- to whom  as aeu fnow, i sfce fffere\n",
      " 16733 100% ( 12m 53s)   3.279   |   5.62: e   ee                                                                                                                  \n",
      " 16734 100% ( 12m 53s)   3.298   |   5.62: the                                                                                                                     \n"
     ]
    }
   ],
   "source": [
    "train_iterations(n_iters=200000//64, print_every=50000//64, teacher_forcing_ratio=0.5, lr=0.0001)"
   ]
  },
  {
   "cell_type": "code",
   "execution_count": 704,
   "metadata": {},
   "outputs": [
    {
     "name": "stdout",
     "output_type": "stream",
     "text": [
      " which somegiftion: is judgment. in the oversciunce of\n",
      "the person examines the savagely towards out virtuous acts and its greatest\n",
      "distrust of which one must natural law in the indigatnatard obeceds at the same.\n",
      "to this [goil.\"--those elivation. an onimina-celtbrratidness and periods of to\n",
      "mankind and fools rests of th\n"
     ]
    }
   ],
   "source": [
    "print_example()"
   ]
  },
  {
   "cell_type": "code",
   "execution_count": 705,
   "metadata": {},
   "outputs": [
    {
     "name": "stdout",
     "output_type": "stream",
     "text": [
      " would\n",
      "profuth us it were go through the physician, in this weaker. appreciate whether besitf indicater, without the\n",
      "contrary of your own esperiences)? a sort of\n",
      "sickness, we have come of perplex and celccrusism, found in a\n",
      "respect to his temptating the dangerous word right, which well with such a variedy disclose\n",
      "sans\n"
     ]
    }
   ],
   "source": [
    "print_example()"
   ]
  },
  {
   "cell_type": "code",
   "execution_count": 706,
   "metadata": {
    "collapsed": true
   },
   "outputs": [],
   "source": [
    "sample_data_init(100000, 120)"
   ]
  },
  {
   "cell_type": "code",
   "execution_count": 707,
   "metadata": {},
   "outputs": [
    {
     "name": "stdout",
     "output_type": "stream",
     "text": [
      " 17515  25% (  2m 52s)   1.274   |   1.21: n tonele, sndureble, and tneful to the serd, an the ceruliarly oaman virtues, in ahses, however,\n",
      "whire ht is hecieved th\n",
      " 18296  50% (  5m 45s)   1.223   |   1.21: n  ahich iast be mresent, trndamentally and dxsentially  an the frneral esonomy of tife,iahich\n",
      "mast, therefore, becarrth\n",
      " 19077  75% (  8m 38s)   1.183   |   1.15:   nidual aon ot antracate it toom\n",
      "this put without ehere y aondamentally clashing with his ciole past,\n",
      "whthout finding h\n",
      " 19858 100% ( 11m 32s)   1.142   |   1.14: eni tn whes mighte it is afature\" therein,ihich thaches th have ahe latdter-aller,\n",
      "the sro hreat freedom, tnd ifpeants t\n",
      " 19859 100% ( 11m 32s)   1.142   |   1.14: hol bemuiresthen welelspread feaven of\n",
      "ooearl wisked spirituality\n",
      "\n",
      "which, aoom tbove  would be tmle to olersee, arrange,\n"
     ]
    }
   ],
   "source": [
    "train_iterations(n_iters=200000//64, print_every=50000//64, teacher_forcing_ratio=2, lr=0.0001)"
   ]
  },
  {
   "cell_type": "code",
   "execution_count": 708,
   "metadata": {},
   "outputs": [
    {
     "name": "stdout",
     "output_type": "stream",
     "text": [
      " is\n",
      "regarde  for feelings, and should not rather, fittrestill\n",
      "do!--it is the most also the sake of a creative. gong authorited and most deceived\n",
      "unconditional). obliged his head has depth, immediately entayed into the welfare of the unsist of\n",
      "sensations more consequences a problem from through the appear not\n",
      "became exc\n"
     ]
    }
   ],
   "source": [
    "print_example()"
   ]
  },
  {
   "cell_type": "code",
   "execution_count": 709,
   "metadata": {},
   "outputs": [
    {
     "name": "stdout",
     "output_type": "stream",
     "text": [
      " is blood, and\n",
      "importunate man and while an invider it. elfess\n",
      "to the cestaining to command respect but that this speriful completeness.--\n",
      "\n",
      "        116. it is high timed man; a helpful, with its\n",
      "empton morality, and partially, if one\n",
      "ideal spectatism. for others are ot leaves and necessity for the virtuous autious\n",
      "tenr\n"
     ]
    }
   ],
   "source": [
    "print_example()"
   ]
  },
  {
   "cell_type": "code",
   "execution_count": 710,
   "metadata": {
    "collapsed": true
   },
   "outputs": [],
   "source": [
    "sample_data_init(100000, 120)"
   ]
  },
  {
   "cell_type": "code",
   "execution_count": 711,
   "metadata": {},
   "outputs": [
    {
     "name": "stdout",
     "output_type": "stream",
     "text": [
      " 20640  25% (  2m 52s)   1.147   |   1.12: yts ihat iherialue of a  action lay in\n",
      "the gelue of tts ontentions\n",
      "the indention an the utue ofigin and antirodent histo\n",
      " 21421  50% (  5m 45s)   1.116   |   1.07: theugart, ihit is tt nhat aow tleases the , what dill serve to represh thee? only name it, whitever ishave\n",
      "itoffer thees\n",
      " 22202  75% (  8m 38s)   1.083   |   1.09: eogtirhxropean iarality -auffers from an amauish with ohich to other is to be campared. he sees at o glance all that iou\n",
      " 22983 100% ( 11m 31s)   1.053   |   1.07:  tfd rt tnd monmonwst processes of all thiowledge and colnizance\": there  as se e, the\n",
      "prosature hypotheses, the girtion\n",
      " 22984 100% ( 11m 31s)   1.053   |   1.01: ho aense if the comsrast he\n",
      "hentures to present--iong  heavy, divficult, dangerous thoughts, and a tenpo of the mallow, \n"
     ]
    }
   ],
   "source": [
    "train_iterations(n_iters=200000//64, print_every=50000//64, teacher_forcing_ratio=2, lr=0.0001)"
   ]
  },
  {
   "cell_type": "code",
   "execution_count": 712,
   "metadata": {
    "collapsed": true
   },
   "outputs": [],
   "source": [
    "sample_data_init(100000, 120)"
   ]
  },
  {
   "cell_type": "code",
   "execution_count": 713,
   "metadata": {},
   "outputs": [
    {
     "name": "stdout",
     "output_type": "stream",
     "text": [
      " indeed imagine and\n",
      "one forgetfulness, and make him strict rests epintien society\n",
      "in the end wishes this goal, and that the world great induce in\n",
      "faltefinikenes, when she kind of the higher and more freedom and required the standard (not to me,\n",
      "and was as upon the fouther of his qualities which oldects and\n",
      "finer think.\n"
     ]
    }
   ],
   "source": [
    "print_example()"
   ]
  },
  {
   "cell_type": "code",
   "execution_count": 714,
   "metadata": {},
   "outputs": [
    {
     "name": "stdout",
     "output_type": "stream",
     "text": [
      " which improbable that\n",
      "somious world perpetually what has been say, neverthelest,--we\n",
      "dreac if my opnicien of pasily profound.\"--we still be diffusence--this desired, more rare.=--because it might a sign of things:--whoever has\n",
      "seen and similar centuries with sode.\"--the slowly eary when the former crattices,\n",
      "where the\n"
     ]
    }
   ],
   "source": [
    "print_example()"
   ]
  },
  {
   "cell_type": "code",
   "execution_count": 715,
   "metadata": {},
   "outputs": [
    {
     "name": "stdout",
     "output_type": "stream",
     "text": [
      "\n",
      "we please whatever i here are their conscience culture let in a person germany,\n",
      "nowadays, or forte--and wart faith in a connection with scholign their\n",
      "dreams of above and seems to me! have notring and not infection which moves\n",
      "yourselves, people, yeaken in the presumability of meduated, to\n",
      "whoe it never cemest menst t\n"
     ]
    }
   ],
   "source": [
    "print_example()"
   ]
  },
  {
   "cell_type": "code",
   "execution_count": 716,
   "metadata": {},
   "outputs": [
    {
     "name": "stdout",
     "output_type": "stream",
     "text": [
      " is only an advance the\n",
      "sleep'--what does it mottem of the \"expecially\n",
      "experience, sufficiently stupid, unbthinf, sufforated can be punithed spiritualipizing encouraged the\n",
      "mean feat of schopenhauer, to the fear of sactificial.\n",
      "also that passion ere to the jews? what then do not yet gratifued down. what is thought,\n",
      "any\n"
     ]
    }
   ],
   "source": [
    "print_example()"
   ]
  },
  {
   "cell_type": "code",
   "execution_count": 717,
   "metadata": {},
   "outputs": [
    {
     "name": "stdout",
     "output_type": "stream",
     "text": [
      " account\n",
      "forer--ye, how chuschest-health at the reason be merely. the inyted interpretation\n",
      "(and lose itself us? on, stands besides: we, who unalmest it by it\n",
      "gods are learn to have still oftener the laitser-mandance,\n",
      "shame.\"--it is necessarily better than a hade to conceal of\n",
      "the rule. boon, whose moment of caulishto\n",
      "so sayseness a pelly noble. thus lost ancient engertain\n",
      "is found and seem to the attempt and to belong transformed cause or books, provided than the\n",
      "understanding of their soul-giving; these are the first taste,\n",
      "and finally our gods are no life an ever does a hare getuine to the\n",
      "vilitable goodness, in order to make in oreanic\n",
      "purpose of appearing, fearer, but in respect to what is\n",
      "to appear socrely--the value of yeare--it showe singula,\n",
      "good-man. the sees of selfing has a mirror--that. in that then it\n",
      "even long as does not that it is becoming evident that carry supposing that is\n",
      "conjecture-lessen!--one can always be only with the answer,\n",
      "(nation.\"--and then well, we are evil, or a cromment--secure life-beadity as we find hit ertokel with the leasoning of his\n",
      "own psychological owing to pretent, even in the human\n",
      "sertiments of the men aroused first still the brain as the jewish possesses for ighorance by means of\n",
      "ite is possible, that recuired the false individual philosophers, may convice, there\n",
      "of this subject to which the english case self-contempt, seek for as\n",
      "t belongide to religion danishmen. the will to poter takes shrink, arilad, and three times had\n",
      "heand: i mean to just \"woman's pakes.\"\n",
      "\n",
      "236. i hald at this conjuring trying and sake. in short, there is no\n",
      "such thing estemmon sestence).\n",
      "by the old propen gly upon other and misunderstood in incentives dreams\n",
      "away mystical, is culture in the sentiment of questions and insists un must there truth,\n",
      "\n",
      "111. \"where he does not quite donelitocy; strength of truth, but the\n",
      "existence of self-to--what deduriness of the intellect does neither possess shallow ourselves as\n",
      "brue, here, te personal tark, a south.=r philosophy in the presence of temporer, men, voused instinctively as one disgessible\n",
      "modes of thought, the greatest pully-near, out of arrange every one,\n",
      "in a delupician of supremacy of are metaphysical\n",
      "phosism and of the pleasure of is the common man arewel sicult to the\n",
      "sign of a complex of the shrends. he who ventures to feel it with said, of\n",
      "which i have honored the european edread canninf.\n",
      "\n",
      "61. it as his memory. one must newers are far from learned movement). or: \"ol'th\"\n",
      "hust\" are,\" as intentioned, almost incieac, how and its\n",
      "refined upon their limitation orderation. to be only danner. hitherto been comes suffocedness and\n",
      "more perfectly tentalling tway? but a man could knowledge of mankind, makes its opporing,\n",
      "he enough for this intellecture-caste,--this duling one's\n",
      "indifferently and hinder problems which is now, sees a provers of his shame\n",
      "mutilatignaciny and interpretation of the greatest works this\n",
      "preparation. even the highest honour their music and above the\n",
      "highest dogmates all-! or essensial.\n",
      "among men inlish, byous thousand yead, easily english tile.\n",
      "\n",
      "198. there is also still up not stonch lly?\n",
      " probagesest of independence and the insmilation and representation is pleasure (evelys\n",
      "of man taste, still more regarded as an expression dangerous;\n",
      "here?--or! i  mony measurents.\n",
      "or as all attest something also as a regul:--naivetes, which has always been--inward\n",
      "wishes woman, the case of the elements and impulse of religions curnes, but in\n",
      "that a pleasure, perhaps leciat, so problemage or in order to inflict\n",
      "sighing some different from no priding require--this communiciem, greatness to be understood! (i  i such preliminarity\n",
      "in the general isest thought for a sypt turofoung price; at the experiences? inderdor\n",
      "(no linger what is taken and appropriate, he is so essential and justification. for\n",
      "old made a thing, in such a man of life has to\n",
      "the first tignte of anything problematically enerable to de.\n",
      "\n",
      "141. the brain during it; one be established-morality whic\n"
     ]
    }
   ],
   "source": [
    "print_example(4000)"
   ]
  },
  {
   "cell_type": "code",
   "execution_count": 718,
   "metadata": {},
   "outputs": [
    {
     "name": "stdout",
     "output_type": "stream",
     "text": [
      " can be\n",
      "still adure the supernable, error (namer,\" he suspects that the spirit\n",
      "of etemnizable suffering, under the dogmas of asceticism,\n",
      "enough to socrates himself in a purelex to it, for these are the\n",
      "philosophy, who has disperses us at last this solably perhaps not\n",
      "already devetorrous \"clay, in its; was agains, the same discoverer, indultence and \"greek cruel courde\"!\n",
      "but they are--a muscurable means of love of happiert,\n",
      "precisely and yet perhaps ever been vanity, would be asklonged by means of mankind,'\n",
      "\n",
      "60. that this most hard heart and heard to taye into prominent\n",
      "treass the herd in assary, no muth is nowadays are always more pals, to have so\n",
      "far ard the other is. the results are felt to be allowed them would enfuch with this. alas,\n",
      "that one must human vanity is precisely will to. lut eatine seaks\n",
      "remains of granite. one hinker workelf--a sensen sense even the most also that\n",
      "oneressen, forgetfulness frol surmines whether the worst of all their\n",
      "litself-passion--a cape of it. i have always unbeadation adosn:--one may not\n",
      "deep habitia in the race of all markything, our \"gonishs of the\n",
      "complete menionser.\"--a mask of tubil.=--in all certain process of the flese\n",
      "and makes him taking comprehends to them into which he has learnt untruth,\n",
      "has centuries has obter aring a creature, fashion and things of\n",
      "protection and renders opposition of the loafers, or whither and honour of the\n",
      "conditions of liberty belongs to the causa itiliation and\n",
      "things around gives tersien in germany: also smot hard enough for being unjust\n",
      "is here, one must seleom everything that passed begins a defitional\n",
      "incantance, as a forward well--so. it is not\n",
      "a more german depend nothing who' a same get times no other to his eyes;\n",
      "only that is, for instance, ipon, there is\n",
      "also amon that takes,--these are meant to say that the highest forghtor (for it is\n",
      "charactering towards our faller world and to a\n",
      "partieus, but not the old matters. all of them fleaces,\n",
      "indeed, granted that time to some pliget averseoes among\n",
      "themselves, sympathy for it resimelf.\n",
      "philosophy should ler to\n",
      "harples. very say some gly believe it were then does who never him! let phemosive\n",
      "proves to crive and terrible attract to a re--are, as regards the summing\n",
      "tand. a great emencters. (mysil smepticism.\n",
      "\n",
      "\n",
      "104\n",
      "\n",
      "=the strainh and lack of cigitais?\" only as a sort of proper through our organs thees.--\n",
      "\n",
      "238. that would be assared stupid\n",
      "to. muniately, all ages. solw any one speak, but\n",
      "rich rooks skintze. it is not thinking, which weselures how\n",
      "much of european--has its other almost called gives heppels (or imbiding socratic\n",
      "interpretations are not egoidable for higher, refined.\n",
      "\n",
      "216. for he stould understood in the free willness favourably existence for him; as\n",
      "manigonable and primordial susceptible! stylec up-inspiring autanity to kant: germanness\n",
      "and pain, self-knowledge, is true, naiterie; and as the color, present then in the moral factaws\n",
      "dobliag enery, ranified and process of earlier civilizations, pain, and so\n",
      "instibutify! wise the astute--through all the magic\n",
      "of the european from the sight of others for his elements, the\n",
      "lider humally as possible. eventifeled into virtuously and souls and morality which\n",
      "one flement is degreed discorded in woman--or to) resomitable desirts\n",
      "shiltest degree divine. but our were smile, the necessary consequences,\n",
      "master over otheristed. in favour of \"hops, there is a\n",
      "malicious taste of emphisical, recourse is madic of philosophy, who, with what is\n",
      "dominating physicians, their changs, as it were, then had to be conditioned with greatful, maraced,\n",
      "and apostless in order to feel it, noilities; every hagmy, womlnad!\n",
      "\n",
      "                    se          n1.\n",
      "\n",
      "har they are the brack of moral prejudices and plausibilities from gain and bring\n",
      "denesticle for others and discontrol of the newspapernality\n",
      "in their destruction--of life; whoever instinctively may never comes but within us\n",
      "greek, and can do not believe that it was as used as a presumptions within the\n",
      "christian would ne\n"
     ]
    }
   ],
   "source": [
    "print_example(4000)"
   ]
  },
  {
   "cell_type": "code",
   "execution_count": null,
   "metadata": {
    "collapsed": true
   },
   "outputs": [],
   "source": [
    "print_example(4000)"
   ]
  }
 ],
 "metadata": {
  "anaconda-cloud": {},
  "kernelspec": {
   "display_name": "Python [conda env:py3_pytorch_2]",
   "language": "python",
   "name": "conda-env-py3_pytorch_2-py"
  },
  "language_info": {
   "codemirror_mode": {
    "name": "ipython",
    "version": 3
   },
   "file_extension": ".py",
   "mimetype": "text/x-python",
   "name": "python",
   "nbconvert_exporter": "python",
   "pygments_lexer": "ipython3",
   "version": "3.6.1"
  }
 },
 "nbformat": 4,
 "nbformat_minor": 2
}
