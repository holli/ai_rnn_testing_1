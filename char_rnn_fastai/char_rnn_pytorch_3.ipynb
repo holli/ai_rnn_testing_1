{
 "cells": [
  {
   "cell_type": "markdown",
   "metadata": {},
   "source": [
    "https://github.com/fastai/courses/blob/master/deeplearning1/nbs/char-rnn.ipynb"
   ]
  },
  {
   "cell_type": "code",
   "execution_count": 1,
   "metadata": {
    "collapsed": true
   },
   "outputs": [],
   "source": [
    "from IPython.core.interactiveshell import InteractiveShell\n",
    "InteractiveShell.ast_node_interactivity = \"all\""
   ]
  },
  {
   "cell_type": "code",
   "execution_count": null,
   "metadata": {
    "collapsed": true
   },
   "outputs": [],
   "source": []
  },
  {
   "cell_type": "code",
   "execution_count": 2,
   "metadata": {
    "collapsed": true
   },
   "outputs": [],
   "source": [
    "%matplotlib inline\n",
    "import importlib\n",
    "import matplotlib.pyplot as plt\n",
    "import matplotlib.ticker\n",
    "import numpy as np\n",
    "import random\n",
    "import time\n",
    "import os\n",
    "import pandas as pd\n",
    "import csv\n",
    "import math\n",
    "import bcolz\n",
    "import pickle\n",
    "import re\n",
    "import pathlib\n",
    "import datetime\n",
    "\n",
    "import torch\n",
    "import torch.nn as nn\n",
    "import torch.nn.functional as F\n",
    "import torch.optim as optim\n",
    "from torch.autograd import Variable\n",
    "\n",
    "SOS_TOKEN = '<SOS>' # Start Of Word"
   ]
  },
  {
   "cell_type": "markdown",
   "metadata": {
    "collapsed": true
   },
   "source": [
    "# Data setup"
   ]
  },
  {
   "cell_type": "code",
   "execution_count": 3,
   "metadata": {
    "collapsed": true
   },
   "outputs": [],
   "source": [
    "# importing keras might cause problems with cudann version etc\n",
    "# import keras # some good utils in here\n",
    "# path = keras.utils.data_utils.get_file('nietzsche.txt', origin=\"https://s3.amazonaws.com/text-datasets/nietzsche.txt\")"
   ]
  },
  {
   "cell_type": "code",
   "execution_count": 4,
   "metadata": {},
   "outputs": [
    {
     "data": {
      "text/plain": [
       "'/home/ohu/.keras/datasets/nietzsche.txt'"
      ]
     },
     "execution_count": 4,
     "metadata": {},
     "output_type": "execute_result"
    },
    {
     "name": "stdout",
     "output_type": "stream",
     "text": [
      "corpus length: 600893\n"
     ]
    }
   ],
   "source": [
    "path = '/home/ohu/.keras/datasets/nietzsche.txt'\n",
    "text = open(path).read().lower()\n",
    "path\n",
    "print('corpus length:', len(text))"
   ]
  },
  {
   "cell_type": "code",
   "execution_count": 5,
   "metadata": {},
   "outputs": [
    {
     "name": "stdout",
     "output_type": "stream",
     "text": [
      "not to be regarded as a pure type. Knowledge and science--as far as they\r\n",
      "existed--and superiority to the rest of mankind by logical discipline\r\n",
      "and training of the intellectual powers were insisted upon by the\r\n",
      "Buddhists as essential to sanctity, just as they were denounced by the\r\n",
      "christian world as the indications of sinfulness."
     ]
    }
   ],
   "source": [
    "!tail {path} -n5"
   ]
  },
  {
   "cell_type": "code",
   "execution_count": 6,
   "metadata": {},
   "outputs": [
    {
     "name": "stdout",
     "output_type": "stream",
     "text": [
      "total chars: 57\n"
     ]
    },
    {
     "data": {
      "text/plain": [
       "'\\n !\"\\'(),-.0123456789:;=?[]_abcdefghijklmnopqrstuvwxyzäæéë'"
      ]
     },
     "execution_count": 6,
     "metadata": {},
     "output_type": "execute_result"
    }
   ],
   "source": [
    "chars = sorted(list(set(text)))\n",
    "print('total chars:', len(chars))\n",
    "''.join(chars)"
   ]
  },
  {
   "cell_type": "code",
   "execution_count": 7,
   "metadata": {},
   "outputs": [
    {
     "data": {
      "text/plain": [
       "0"
      ]
     },
     "execution_count": 7,
     "metadata": {},
     "output_type": "execute_result"
    }
   ],
   "source": [
    "char_indices = dict((c, i) for i, c in enumerate(chars))\n",
    "char_indices['\\n']"
   ]
  },
  {
   "cell_type": "markdown",
   "metadata": {},
   "source": [
    "# Utils"
   ]
  },
  {
   "cell_type": "code",
   "execution_count": 8,
   "metadata": {},
   "outputs": [
    {
     "data": {
      "text/plain": [
       "torch.Size([1, 5, 57])"
      ]
     },
     "execution_count": 8,
     "metadata": {},
     "output_type": "execute_result"
    }
   ],
   "source": [
    "def string_to_tensor(in_str, chars_index=char_indices, as_variable=True):\n",
    "    \"\"\"Onehot encoded tensor of string\"\"\"\n",
    "    tensor_length = len(in_str)\n",
    "    tensor = torch.zeros(1, tensor_length, len(chars_index))\n",
    "    for li, letter in enumerate(in_str):\n",
    "        tensor[0, li, chars_index[letter]] = 1\n",
    "    if as_variable:\n",
    "        tensor = Variable(tensor).cuda()\n",
    "    return tensor\n",
    "\n",
    "string_to_tensor('hello', as_variable=False).size()"
   ]
  },
  {
   "cell_type": "code",
   "execution_count": 9,
   "metadata": {
    "collapsed": true
   },
   "outputs": [],
   "source": [
    "def time_since(since):\n",
    "    now = time.time()\n",
    "    s = now - since\n",
    "    m = math.floor(s / 60)\n",
    "    s -= m * 60\n",
    "    return '%dm %ds' % (m, s)"
   ]
  },
  {
   "cell_type": "markdown",
   "metadata": {},
   "source": [
    "# Char Rnn"
   ]
  },
  {
   "cell_type": "code",
   "execution_count": 10,
   "metadata": {},
   "outputs": [
    {
     "data": {
      "text/plain": [
       "CharRNN (\n",
       "  (rnn): GRU(57, 512, batch_first=True)\n",
       "  (lin_output): Linear (512 -> 57)\n",
       ")"
      ]
     },
     "execution_count": 10,
     "metadata": {},
     "output_type": "execute_result"
    }
   ],
   "source": [
    "class CharRNN(nn.Module):\n",
    "    def __init__(self, input_size, hidden_size):\n",
    "        super(CharRNN, self).__init__()\n",
    "        \n",
    "        self.input_size = input_size\n",
    "        self.hidden_size = hidden_size\n",
    "        self.layers = 1\n",
    "        \n",
    "        self.rnn = nn.GRU(input_size, hidden_size, batch_first=True)\n",
    "        self.lin_output = nn.Linear(hidden_size, input_size)\n",
    "        \n",
    "        \n",
    "    def forward(self, input_char_vs, hidden = None):\n",
    "        if hidden is None:\n",
    "            hidden = self.init_hidden()\n",
    "        \n",
    "        rnn_outputs, hidden = self.rnn(input_char_vs, hidden)\n",
    "        \n",
    "        output = self.lin_output(hidden)\n",
    "        output = F.log_softmax(output[0])\n",
    "       \n",
    "        return output, hidden\n",
    "\n",
    "    def init_hidden(self):\n",
    "        return Variable(torch.zeros(self.layers, 1, self.hidden_size)).cuda()\n",
    "    \n",
    "model = CharRNN(len(chars), 512).cuda()\n",
    "model"
   ]
  },
  {
   "cell_type": "code",
   "execution_count": 11,
   "metadata": {},
   "outputs": [
    {
     "data": {
      "text/plain": [
       "57"
      ]
     },
     "execution_count": 11,
     "metadata": {},
     "output_type": "execute_result"
    },
    {
     "data": {
      "text/plain": [
       "torch.Size([1, 1, 512])"
      ]
     },
     "execution_count": 11,
     "metadata": {},
     "output_type": "execute_result"
    }
   ],
   "source": [
    "#tmp = Variable(torch.FloatTensor([2]).view(1,1,-1)).cuda()\n",
    "#tmp = Variable(string_to_tensor('hello')).cuda()\n",
    "tmp = model(string_to_tensor('hello'))\n",
    "len(tmp[0][0])\n",
    "tmp[1].size()\n",
    "#chars[tmp[0].topk(1)[1].data[0][0]]"
   ]
  },
  {
   "cell_type": "code",
   "execution_count": 12,
   "metadata": {},
   "outputs": [
    {
     "data": {
      "text/plain": [
       "8"
      ]
     },
     "execution_count": 12,
     "metadata": {},
     "output_type": "execute_result"
    }
   ],
   "source": [
    "tmp[0][0].topk(1)[1].data[0]"
   ]
  },
  {
   "cell_type": "markdown",
   "metadata": {
    "collapsed": true
   },
   "source": [
    "# Eval"
   ]
  },
  {
   "cell_type": "code",
   "execution_count": 13,
   "metadata": {},
   "outputs": [
    {
     "name": "stdout",
     "output_type": "stream",
     "text": [
      "ethics is a basic foundation of all that----------------------------------------\n"
     ]
    }
   ],
   "source": [
    "def print_example(iters=320, choice=True):\n",
    "    seed_string=\"ethics is a basic foundation of all that\"\n",
    "    for i in range(iters):\n",
    "        #x=np.array([char_indices[c] for c in seed_string[-40:]])[np.newaxis,:]\n",
    "        x = string_to_tensor(seed_string)\n",
    "        output, hidden = model(x)\n",
    "        if choice:\n",
    "            next_char = np.random.choice(chars, p=F.softmax(output)[0].data.cpu().numpy())\n",
    "        else:\n",
    "            next_char_idx = output.topk(1)[1].data[0][0]\n",
    "            next_char = chars[next_char_idx]\n",
    "        # return next_char\n",
    "        seed_string = seed_string + next_char\n",
    "    print(seed_string)\n",
    "#tmp = print_example(choice=False)\n",
    "tmp = print_example(iters=40, choice=False)\n",
    "tmp"
   ]
  },
  {
   "cell_type": "markdown",
   "metadata": {},
   "source": [
    "# Samples"
   ]
  },
  {
   "cell_type": "code",
   "execution_count": 22,
   "metadata": {},
   "outputs": [
    {
     "data": {
      "text/plain": [
       "'se rules them with the mastery of command'"
      ]
     },
     "execution_count": 22,
     "metadata": {},
     "output_type": "execute_result"
    }
   ],
   "source": [
    "def get_random_sample_string(length=41):\n",
    "    sample_place = random.randint(0, len(text)-length-1)\n",
    "    sample = text[sample_place:sample_place+length]\n",
    "    return sample\n",
    "get_random_sample_string()"
   ]
  },
  {
   "cell_type": "code",
   "execution_count": 24,
   "metadata": {},
   "outputs": [],
   "source": [
    "sample_size = 50000\n",
    "\n",
    "sample_sentence_size = 40\n",
    "sample_data = torch.zeros(sample_size, sample_sentence_size, len(chars)) # .cuda()\n",
    "#sample_target = torch.zeros((sample_size, sample_sentence_size, 1), torch.LongTensor)\n",
    "sample_target = torch.LongTensor(sample_size, sample_sentence_size, 1).zero_() # .cuda()\n",
    "for i in range(sample_size):\n",
    "    sample = get_random_sample_string(sample_sentence_size+1)\n",
    "    sample = [char_indices[c] for c in sample]\n",
    "    for j in range(sample_sentence_size):\n",
    "        sample_data[i][j][sample[j]] = 1\n",
    "        sample_target[i][j] = sample[j+1]"
   ]
  },
  {
   "cell_type": "code",
   "execution_count": 25,
   "metadata": {},
   "outputs": [
    {
     "data": {
      "text/plain": [
       "True"
      ]
     },
     "execution_count": 25,
     "metadata": {},
     "output_type": "execute_result"
    },
    {
     "data": {
      "text/plain": [
       "'ets angry when the other man\\nconclusivel'"
      ]
     },
     "execution_count": 25,
     "metadata": {},
     "output_type": "execute_result"
    }
   ],
   "source": [
    "i = 5\n",
    "j = 10\n",
    "sample_data[i].topk(1)[1][j][0] == sample_target[i][j-1][0]\n",
    "''.join([chars[c[0]] for c in sample_data[i].topk(1)[1]])"
   ]
  },
  {
   "cell_type": "code",
   "execution_count": 26,
   "metadata": {},
   "outputs": [
    {
     "data": {
      "text/plain": [
       "('ha,-------------------------------------', 3.945309150509718)"
      ]
     },
     "execution_count": 26,
     "metadata": {},
     "output_type": "execute_result"
    },
    {
     "data": {
      "text/plain": [
       "('h----a----aaa(a:aaaa-aa--aaa---------:--', 3.941068323647104)"
      ]
     },
     "execution_count": 26,
     "metadata": {},
     "output_type": "execute_result"
    }
   ],
   "source": [
    "clip_parameters_value = 0.25\n",
    "\n",
    "def train_single(optimizer, loss_function, use_teacher_forcing):\n",
    "    model.zero_grad()\n",
    "    loss = 0\n",
    "    \n",
    "    sample_i = random.randint(0, len(sample_data)-1)\n",
    "    x = sample_data[sample_i]\n",
    "    y = sample_target[sample_i]\n",
    "    \n",
    "    input_char = x[0]\n",
    "    target = Variable(y).cuda()\n",
    "    \n",
    "    output_line = []\n",
    "    hidden = model.init_hidden()\n",
    "    \n",
    "    for i in range(len(x)):\n",
    "        if use_teacher_forcing:\n",
    "            input_char = x[i] # replace input with right target\n",
    "        \n",
    "        input_char = Variable(input_char).cuda().view(1,1,-1)\n",
    "        output, hidden = model(input_char, hidden)\n",
    "        loss += loss_function(output, target[i])\n",
    "\n",
    "        char_idx = output.topk(1)[1].data[0][0]\n",
    "        output_line.append(chars[char_idx])\n",
    "        \n",
    "        input_char = torch.zeros(1,1,len(chars))\n",
    "        input_char[0,0,char_idx] = 1\n",
    "            \n",
    "    if clip_parameters_value:\n",
    "        torch.nn.utils.clip_grad_norm(model.parameters(), clip_parameters_value)\n",
    "    \n",
    "    loss.backward()\n",
    "    optimizer.step()\n",
    "\n",
    "    return ''.join(output_line), loss.data[0] / len(sample)\n",
    "\n",
    "#tmp = get_random_sample(20)\n",
    "train_single(torch.optim.Adam(model.parameters(), lr=0.0001), nn.NLLLoss(), use_teacher_forcing=False)\n",
    "train_single(torch.optim.Adam(model.parameters(), lr=0.0001), nn.NLLLoss(), use_teacher_forcing=True)\n",
    "#tmp = train_single(tmp, torch.optim.Adam(model.parameters(), lr=0.0001), nn.NLLLoss(), use_teacher_forcing=True)\n",
    "\n",
    "#tmp.topk(1)[1].data[0][0]"
   ]
  },
  {
   "cell_type": "code",
   "execution_count": 27,
   "metadata": {
    "collapsed": true
   },
   "outputs": [],
   "source": [
    "def train_iterations(n_iters=100000, lr=0.001, teacher_forcing_ratio=0.5,\n",
    "                     print_every=10000, plot_every=1000):\n",
    "    global optimizer\n",
    "    optimizer = torch.optim.Adam(model.parameters(), lr=lr)\n",
    "    \n",
    "    start = time.time()\n",
    "    model.train()\n",
    "\n",
    "    current_loss = 0\n",
    "    current_loss_iter = 0\n",
    "    \n",
    "    for iteration in range(1, n_iters + 1):\n",
    "        model_training.iterations += 1\n",
    "        \n",
    "        use_teacher_forcing = random.random() < teacher_forcing_ratio\n",
    "        \n",
    "        result, loss = train_single(optimizer=optimizer, loss_function=nn.NLLLoss(),\n",
    "                                    use_teacher_forcing=use_teacher_forcing)\n",
    "        \n",
    "        current_loss += loss\n",
    "        current_loss_iter += 1\n",
    "\n",
    "        # Print iter number, loss, name and guess\n",
    "        if iteration % print_every == 0:\n",
    "            teacher_forcing_str = \"\"\n",
    "            if use_teacher_forcing:\n",
    "                teacher_forcing_str = \"(forcing)\"\n",
    "            #correct = '✓' if result == s_string else \"✗: {}\".format(s_string)\n",
    "            \n",
    "            print(\"{:>6d} {:>4.0%} ({:>8}) {:>7.3f}   | {:>6.2f}: {} {}\".format(\n",
    "                      model_training.iterations, iteration/n_iters, time_since(start),\n",
    "                      current_loss/current_loss_iter, loss, result, teacher_forcing_str))\n",
    "\n",
    "        # Add current loss avg to list of losses\n",
    "        if iteration % plot_every == 0:\n",
    "            model_training.losses.append(current_loss / plot_every)\n",
    "            model_training.learning_rates.append(lr)\n",
    "            current_loss = 0\n",
    "            current_loss_iter = 0\n",
    "            \n",
    "        #if model_training.iterations % 50000 == 0 or model_training.iterations == 10:\n",
    "        #    model_training.save_models()\n",
    "        #    acc = test_model_accuracy(encoder_rnn, test_model_single_sample)\n",
    "        #    model_training.accuracy.append(acc)\n",
    "    \n",
    "    # test_model_accuracy(model, n_sample=10000)"
   ]
  },
  {
   "cell_type": "code",
   "execution_count": 28,
   "metadata": {},
   "outputs": [],
   "source": [
    "from pytorch_utils_oh_3 import ModelTraining\n",
    "MODEL_SAVE_PATH = 'char_rnn_fast_ai_testing_2'"
   ]
  },
  {
   "cell_type": "code",
   "execution_count": 29,
   "metadata": {},
   "outputs": [
    {
     "name": "stdout",
     "output_type": "stream",
     "text": [
      "Save path: data/models/char_rnn_fast_ai_testing_2\n"
     ]
    }
   ],
   "source": [
    "model_training = ModelTraining(MODEL_SAVE_PATH, [model])"
   ]
  },
  {
   "cell_type": "code",
   "execution_count": 30,
   "metadata": {},
   "outputs": [
    {
     "name": "stdout",
     "output_type": "stream",
     "text": [
      "     5  50% (   0m 0s)   3.870   |   3.80: r                                        \n",
      "    10 100% (   0m 0s)   3.680   |   3.17: a                                        \n"
     ]
    }
   ],
   "source": [
    "train_iterations(n_iters=10, print_every=5)"
   ]
  },
  {
   "cell_type": "code",
   "execution_count": null,
   "metadata": {
    "collapsed": true
   },
   "outputs": [],
   "source": []
  },
  {
   "cell_type": "markdown",
   "metadata": {},
   "source": [
    "### WITHOUT TEACHER FORCING"
   ]
  },
  {
   "cell_type": "code",
   "execution_count": 31,
   "metadata": {},
   "outputs": [
    {
     "name": "stdout",
     "output_type": "stream",
     "text": [
      "Save path: data/models/char_rnn_fast_ai_testing_2\n"
     ]
    }
   ],
   "source": [
    "model = CharRNN(len(chars), 512).cuda()\n",
    "model_training = ModelTraining(MODEL_SAVE_PATH, [model])"
   ]
  },
  {
   "cell_type": "code",
   "execution_count": 32,
   "metadata": {},
   "outputs": [
    {
     "name": "stdout",
     "output_type": "stream",
     "text": [
      "  1000  10% (  0m 59s)   2.971   |   2.88:                                          \n",
      "  2000  20% (  1m 55s)   2.953   |   2.98: e                                        \n",
      "  3000  30% (  2m 52s)   2.952   |   3.25:  e                                       \n",
      "  4000  40% (  3m 48s)   2.942   |   2.94: n                                        \n",
      "  5000  50% (  4m 45s)   2.936   |   2.70: n                                        \n",
      "  6000  60% (  5m 42s)   2.944   |   2.82: e                                        \n",
      "  7000  70% (  6m 39s)   2.938   |   2.95: the                                      \n",
      "  8000  80% (  7m 36s)   2.920   |   2.84:                                          \n",
      "  9000  90% (  8m 33s)   2.932   |   2.84: l                                        \n",
      " 10000 100% (  9m 30s)   2.933   |   2.82: to                                       \n"
     ]
    }
   ],
   "source": [
    "train_iterations(n_iters=10000, print_every=1000, teacher_forcing_ratio=0)"
   ]
  },
  {
   "cell_type": "code",
   "execution_count": 33,
   "metadata": {},
   "outputs": [
    {
     "name": "stdout",
     "output_type": "stream",
     "text": [
      "ethics is a basic foundation of all thatnmor rterowt hile wincsoavrhenc eem .. onnts o tla  enee, mahdly  thennt qeoy nloinh  ulan  l \n",
      "llva tmes ekl epulm un,y , ovnchee  n sute nitnl a.  os  w\n",
      " r iten  whinelns =s a ptnn ioa ,\n",
      " imlntcs  elintes y ooneoul alonthel , is\n",
      "eve .   sa tn a b f to ef spish i cneod geen\n",
      "imodirss e ewh\n",
      "ri indlsd nd o s th  iou llis \n"
     ]
    }
   ],
   "source": [
    "print_example()"
   ]
  },
  {
   "cell_type": "code",
   "execution_count": 34,
   "metadata": {},
   "outputs": [
    {
     "name": "stdout",
     "output_type": "stream",
     "text": [
      "ethics is a basic foundation of all that reomrancreiasteol\n",
      " ,il ito o, ennetrde ate inncedyy  -\n",
      "gn od, uhyubdimlul iefe,alnwtanily  iusres mnd tsiptss   oanpi hseudhere, iol ewfri xprns  n teun,  aul\n",
      "os.ch a vel\n",
      "eun s uom es  ; wh dy hs ore t ve; e ld w  einnoy anntunanelsunalllec n uldy ie oofuy   .   bo tountr u terwo ys, a ens n rd whmesinr 1lelen ics. ie\n"
     ]
    }
   ],
   "source": [
    "print_example()"
   ]
  },
  {
   "cell_type": "code",
   "execution_count": 35,
   "metadata": {},
   "outputs": [
    {
     "name": "stdout",
     "output_type": "stream",
     "text": [
      " 11000  10% (  0m 56s)   2.927   |   3.01:   e                                      \n",
      " 12000  20% (  1m 54s)   2.933   |   2.81:                                          \n",
      " 13000  30% (  2m 51s)   2.944   |   2.85:                                          \n",
      " 14000  40% (  3m 47s)   2.933   |   2.89: ee                                       \n",
      " 15000  50% (  4m 44s)   2.931   |   2.85: r  an                                    \n",
      " 16000  60% (  5m 41s)   2.931   |   2.89: th                                       \n",
      " 17000  70% (  6m 38s)   2.950   |   2.60:  th                                      \n",
      " 18000  80% (  7m 34s)   2.934   |   2.97: the                                      \n",
      " 19000  90% (  8m 31s)   2.940   |   3.19: to                                       \n",
      " 20000 100% (  9m 28s)   2.930   |   2.95: th                                       \n"
     ]
    }
   ],
   "source": [
    "train_iterations(n_iters=10000, print_every=1000, teacher_forcing_ratio=0)"
   ]
  },
  {
   "cell_type": "code",
   "execution_count": 36,
   "metadata": {},
   "outputs": [
    {
     "name": "stdout",
     "output_type": "stream",
     "text": [
      "ethics is a basic foundation of all that allleths\n",
      "ate\n",
      "sseth, ien . u prxh e pee he t ncl  edhe n ogreuant is aes tenta \n",
      ", rhi o ghs escowo th  re yf iebitg tred y ,  rhemao  n  one.\n",
      "sf,\n",
      "npa  edry nef p eom ny, iirnte d: abl s enpacsndey ufset , tf ily ty ubtu teo sthy\n",
      "wrcn prl\" erwek d gintheu vely olchh n agh b one  el ara\n",
      "npleeryeotwa ngahy, ot    nge wal \n"
     ]
    }
   ],
   "source": [
    "print_example()"
   ]
  },
  {
   "cell_type": "code",
   "execution_count": 37,
   "metadata": {},
   "outputs": [
    {
     "name": "stdout",
     "output_type": "stream",
     "text": [
      "ethics is a basic foundation of all thatey topna   to to  mlef iutlesed s  tolly son: tne etu\n",
      "bu n  nt l , auaicc suat\n",
      "s l ey\n",
      "drnd' b.eeoast anscenhnerlyo t, y aew tr i hestr    orharsheey hroat sl,o s eses\n",
      "beltrie ss stmal ions e  alo weery neinisela, gae h  sa tteks  itt kh \n",
      "asin  ,s marlec o  ihs isth  s\n",
      "n \n",
      "\"th he - toenr\n",
      "paf  s nertacs irten \n",
      "e sea enlr \n"
     ]
    }
   ],
   "source": [
    "print_example()"
   ]
  },
  {
   "cell_type": "code",
   "execution_count": 38,
   "metadata": {},
   "outputs": [
    {
     "name": "stdout",
     "output_type": "stream",
     "text": [
      " 21000  10% (  0m 57s)   2.931   |   3.20: n                                        \n",
      " 22000  20% (  1m 54s)   2.937   |   2.88: e                                        \n",
      " 23000  30% (  2m 51s)   2.926   |   3.11:  t                                       \n",
      " 24000  40% (  3m 47s)   2.940   |   3.29: e                                        \n",
      " 25000  50% (  4m 44s)   2.928   |   2.96: st                                       \n",
      " 26000  60% (  5m 41s)   2.921   |   3.20: orie                                     \n",
      " 27000  70% (  6m 38s)   2.938   |   2.69:                                          \n",
      " 28000  80% (  7m 35s)   2.921   |   3.07:                                          \n",
      " 29000  90% (  8m 32s)   2.927   |   2.77: h te                                     \n",
      " 30000 100% (  9m 29s)   2.942   |   2.80: ng                                       \n"
     ]
    }
   ],
   "source": [
    "train_iterations(n_iters=10000, print_every=1000, teacher_forcing_ratio=0)"
   ]
  },
  {
   "cell_type": "code",
   "execution_count": 39,
   "metadata": {},
   "outputs": [
    {
     "name": "stdout",
     "output_type": "stream",
     "text": [
      "ethics is a basic foundation of all thaty vhrke v s, y wo  hady   epidionef te a, bohe rei  ctit, n9 g che.  cy aocssm iaminr  stres as foc eetr hourong ng  s  ido nve exestrase plf woler dainnsont sr   ves iein  fan e innst  ehotfeav thn ue tn rher nat ni\n",
      "tdinl  nonnethauanree sits y nf, igrghom s n pntlit loher aesary s orina,  eesar: t ciouni, toca um ee \n"
     ]
    }
   ],
   "source": [
    "print_example()"
   ]
  },
  {
   "cell_type": "code",
   "execution_count": 40,
   "metadata": {},
   "outputs": [
    {
     "name": "stdout",
     "output_type": "stream",
     "text": [
      "ethics is a basic foundation of all thatyin el.\n",
      " nd neas gy fone  : a burniy t s :o ao seawnert eesin  hicntis  haneisn w an  oreeof\"s  nnoe ths st oseian\n",
      "ingss s e  er   ase hdulhs , woprnspar,  ad t ighen anoe  wh atha ist eg, ast res icit oum  oilssni   i ns o s ntejhayto th sensan teacenmaan,s f ptr n  y , hene n . ne sn.  iow  ndrt bley ts s, wuisi euei\n"
     ]
    }
   ],
   "source": [
    "print_example()"
   ]
  },
  {
   "cell_type": "code",
   "execution_count": 41,
   "metadata": {},
   "outputs": [
    {
     "name": "stdout",
     "output_type": "stream",
     "text": [
      " 31000  10% (  0m 57s)   2.932   |   3.13:                                          \n",
      " 32000  20% (  1m 54s)   2.929   |   2.84: ee                                       \n",
      " 33000  30% (  2m 51s)   2.929   |   2.81: n                                        \n",
      " 34000  40% (  3m 48s)   2.923   |   2.86: e                                        \n",
      " 35000  50% (  4m 46s)   2.921   |   2.99: n                                        \n",
      " 36000  60% (  5m 43s)   2.926   |   2.84: n                                        \n",
      " 37000  70% (  6m 41s)   2.924   |   2.62:  ah                                      \n",
      " 38000  80% (  7m 38s)   2.935   |   2.80: e t                                      \n",
      " 39000  90% (  8m 36s)   2.933   |   2.92: t                                        \n",
      " 40000 100% (  9m 33s)   2.927   |   2.74:   e                                      \n"
     ]
    }
   ],
   "source": [
    "train_iterations(n_iters=10000, print_every=1000, teacher_forcing_ratio=0)"
   ]
  },
  {
   "cell_type": "code",
   "execution_count": 42,
   "metadata": {},
   "outputs": [
    {
     "name": "stdout",
     "output_type": "stream",
     "text": [
      "ethics is a basic foundation of all that h e anndhekndum, hotek\n",
      "d tot\n",
      "onnd als,\" ad se  coloan jesifnal, hadndt d yr ssot ls nterzlolrfa nliace r woteroan cioto, tvjunbll , so l h gg cil  ?s qniee  feele\n",
      "  hien emenridendt hn,-te  ly   e o hran, ahehtane nn\n",
      "gisnrat\n",
      "etered  aotr, nusow cnitldchmtirwaons i eode gthc iccins nds p ab y ehiel na s a lw hn e\n",
      "   v\n",
      "\n"
     ]
    }
   ],
   "source": [
    "print_example()"
   ]
  },
  {
   "cell_type": "code",
   "execution_count": 43,
   "metadata": {},
   "outputs": [
    {
     "name": "stdout",
     "output_type": "stream",
     "text": [
      "ethics is a basic foundation of all thate\n",
      "disnce ce1oiaf\n",
      " omt sheu\n",
      "dan \n",
      "\n",
      "ictuos  ohos ieis ss fe.\n",
      "teearleel peanf d, oton s eyoif civac or, aoagslet efa tole, iapionca e mst meo e oallin y lilit ,eing  aes eiwoanewnr. ioms eanid a dthar , a iomhemeaa we hcie innweih.itnndt en t cgummendrdt, l es  o ad? arromem\n",
      "eeut   ec nainst sth ro  dandeaeui he e hsusrvew\n"
     ]
    }
   ],
   "source": [
    "print_example()"
   ]
  },
  {
   "cell_type": "code",
   "execution_count": 44,
   "metadata": {},
   "outputs": [
    {
     "name": "stdout",
     "output_type": "stream",
     "text": [
      " 41000  10% (  0m 57s)   2.926   |   2.74:  se                                      \n",
      " 42000  20% (  1m 54s)   2.930   |   2.71: n                                        \n",
      " 43000  30% (  2m 51s)   2.927   |   2.94:   o                                      \n",
      " 44000  40% (  3m 48s)   2.926   |   3.26:  te                                      \n",
      " 45000  50% (  4m 45s)   2.930   |   2.82: t                                        \n",
      " 46000  60% (  5m 43s)   2.927   |   2.95: or                                       \n",
      " 47000  70% (  6m 40s)   2.927   |   2.83:  t                                       \n",
      " 48000  80% (  7m 37s)   2.931   |   2.68: th                                       \n",
      " 49000  90% (  8m 35s)   2.923   |   2.86: th                                       \n",
      " 50000 100% (  9m 32s)   2.932   |   2.89:  to                                      \n"
     ]
    }
   ],
   "source": [
    "train_iterations(n_iters=10000, print_every=1000, teacher_forcing_ratio=0)"
   ]
  },
  {
   "cell_type": "code",
   "execution_count": 45,
   "metadata": {},
   "outputs": [
    {
     "name": "stdout",
     "output_type": "stream",
     "text": [
      "ethics is a basic foundation of all thatsasctioniman, ain\n",
      "c nc\n",
      "buo iost\n",
      "il.h tht wot whte, woldy\"f  tmetfou  ele t g\n",
      "--tha   n\n",
      "chat ofreuhe towmal  uiceanle ios  fo  t iviblc ainineliklotseho\n",
      "biur thedg  t\n",
      "to eluman \"pord nuar t\n",
      "y  ues ?r arigy raenod, afeg ln did\n",
      "ts t ep  inl , aa  cspruocn  rer rurtmdanard \n",
      "hfinnn \n",
      "ina ema wiuntin thin ocen an  them nse no\n"
     ]
    }
   ],
   "source": [
    "print_example()"
   ]
  },
  {
   "cell_type": "code",
   "execution_count": 46,
   "metadata": {},
   "outputs": [
    {
     "name": "stdout",
     "output_type": "stream",
     "text": [
      "ethics is a basic foundation of all thatprretsunncen e tf hiss-- as i\n",
      " eeb eelatthni ly, ail ts m.anf otet uhtan thet sase\n",
      " -om g n u ct do aelt tivvea  oe ooltan whrclin   c lethenocen ln f-aietn eriv ndo y  coit hhe enode, ao oteh, bamerool  nl g    ,heloli  vey ahime u ceob s deel neoob crse s, phr   ta ven\n",
      "ens tceld nenlion o  anitinvens\n",
      " isr lt f ceundi\n"
     ]
    }
   ],
   "source": [
    "print_example()"
   ]
  },
  {
   "cell_type": "code",
   "execution_count": 47,
   "metadata": {},
   "outputs": [
    {
     "name": "stdout",
     "output_type": "stream",
     "text": [
      " 51000  10% (  0m 57s)   2.931   |   3.02:                                          \n",
      " 52000  20% (  1m 54s)   2.930   |   2.98: t                                        \n",
      " 53000  30% (  2m 51s)   2.933   |   2.96: n                                        \n",
      " 54000  40% (  3m 47s)   2.932   |   2.80: n                                        \n",
      " 55000  50% (  4m 44s)   2.935   |   3.10:                                          \n",
      " 56000  60% (  5m 41s)   2.924   |   2.92: e                                        \n",
      " 57000  70% (  6m 38s)   2.930   |   2.93: erte                                     \n",
      " 58000  80% (  7m 35s)   2.931   |   2.83:   f                                      \n",
      " 59000  90% (  8m 31s)   2.924   |   2.81:                                          \n",
      " 60000 100% (  9m 28s)   2.928   |   2.95:                                          \n"
     ]
    }
   ],
   "source": [
    "train_iterations(n_iters=10000, print_every=1000, teacher_forcing_ratio=0)"
   ]
  },
  {
   "cell_type": "code",
   "execution_count": 48,
   "metadata": {},
   "outputs": [
    {
     "name": "stdout",
     "output_type": "stream",
     "text": [
      "ethics is a basic foundation of all thatne anforl-tiat f  ruioln r esatuslats lior  petet ly e tars n  \n",
      "hu ove\n",
      "hpsece art mamiet )m s eempit th  uand, y ie ge ten bliermagedat r onif ictaese  o\n",
      "rnn ofn inieg (eh-ei ulnnc g fiene, taehrlr re rroanedhoveleo meotalof tns ifeonmpesh son hurteun--h, i l bleeruristhrte tay o n ei n= ,ntof nce t ioot thb  tuie nde.\n"
     ]
    }
   ],
   "source": [
    "print_example()"
   ]
  },
  {
   "cell_type": "code",
   "execution_count": 49,
   "metadata": {},
   "outputs": [
    {
     "name": "stdout",
     "output_type": "stream",
     "text": [
      "ethics is a basic foundation of all thats  sulie as\n",
      "uastore a gd  beiuriiee aheuen th cie fe, aglis ighine-  hanmremut,on ra ern,--hy nm f s oiey, \n",
      "\n",
      "ufonghe perhesd ooe foot.\n",
      " lo mntat de th dasd-ufs\n",
      "ta  t mfech nt se ims tilis tcee\n",
      ",  no f t e   t org.  teth, sori el w=re arady  hiovematbe cny h tiane, reac! p chi, mtsniete  eacisign asntoeavecon tletm eire\n"
     ]
    }
   ],
   "source": [
    "print_example()"
   ]
  },
  {
   "cell_type": "code",
   "execution_count": 50,
   "metadata": {},
   "outputs": [
    {
     "name": "stdout",
     "output_type": "stream",
     "text": [
      "ethics is a basic foundation of all thatin t iith y fhumin ar rig\n",
      "cte eha c alemeg mno  aheeiamveelo  osk ner nictl ens adenl teelyvein d tpevenged ena d  uln ut n rdes hhei scenaniuuc to n dtrt  h od wnc eesdesehes.\n",
      "\n",
      "\n",
      "t\n",
      "\n",
      "oveealesilimbend --hint ttrem t oeit s  t ie iase ssthb oere i-o ast ses-seilsunirent han,  y\n",
      "notton piaain  eaestu  wh, as  ! iatigen nan\n"
     ]
    }
   ],
   "source": [
    "print_example()"
   ]
  },
  {
   "cell_type": "code",
   "execution_count": 51,
   "metadata": {},
   "outputs": [
    {
     "name": "stdout",
     "output_type": "stream",
     "text": [
      "ethics is a basic foundation of all thattile  \n",
      "te bl  ew du prt s onie  s mrnh  reanu    pitainisnce. , y pen y en n n s onwt-ha e serm shal .\" -nirmeue iyn  esfin hirisn\n",
      " telonhidtlse sl ked r ha el nest hal, tiuniveosng o eventhv diieepesieo sesiss sre ssl nd t  t li\n",
      "tuote?ger peei , heiedr  matatngag sea lsene5. raml h eer baeei sto  al ielisleard dth tsu\n"
     ]
    }
   ],
   "source": [
    "print_example()"
   ]
  },
  {
   "cell_type": "code",
   "execution_count": null,
   "metadata": {
    "collapsed": true
   },
   "outputs": [],
   "source": []
  },
  {
   "cell_type": "code",
   "execution_count": null,
   "metadata": {
    "collapsed": true
   },
   "outputs": [],
   "source": []
  },
  {
   "cell_type": "code",
   "execution_count": null,
   "metadata": {
    "collapsed": true
   },
   "outputs": [],
   "source": []
  },
  {
   "cell_type": "markdown",
   "metadata": {},
   "source": [
    "### WITH TEACHER FORCING"
   ]
  },
  {
   "cell_type": "code",
   "execution_count": 52,
   "metadata": {},
   "outputs": [
    {
     "name": "stdout",
     "output_type": "stream",
     "text": [
      "Save path: data/models/char_rnn_fast_ai_testing_2\n"
     ]
    }
   ],
   "source": [
    "model = CharRNN(len(chars), 512).cuda()\n",
    "model_training = ModelTraining(MODEL_SAVE_PATH, [model])"
   ]
  },
  {
   "cell_type": "code",
   "execution_count": 53,
   "metadata": {},
   "outputs": [
    {
     "name": "stdout",
     "output_type": "stream",
     "text": [
      "  1000  10% (  0m 57s)   2.827   |   2.87: e  e  e  e  e  e  e  e  e  e  e  e  e  e \n",
      "  2000  20% (  1m 54s)   2.637   |   2.00: tere   and tertdtest ree e  the   ereahe (forcing)\n",
      "  3000  30% (  2m 51s)   2.569   |   3.07:                                          \n",
      "  4000  40% (  3m 48s)   2.513   |   3.61: ent of the ereat is and the ereat is and \n",
      "  5000  50% (  4m 45s)   2.462   |   2.31: nl aroet n ng  ausg yng  aor  ne ahrd    (forcing)\n",
      "  6000  60% (  5m 42s)   2.417   |   2.38:    ng    arong tonstircey anprii wheenee (forcing)\n",
      "  7000  70% (  6m 40s)   2.384   |   1.60: st  tn t dtn tiunant oor the fs ioenetio (forcing)\n",
      "  8000  80% (  7m 37s)   2.378   |   1.82: ng ech a da d irs torvle tile ae onesooe (forcing)\n",
      "  9000  90% (  8m 34s)   2.325   |   2.01:  y    aroceselibidan erpoion altetecal a (forcing)\n",
      " 10000 100% (  9m 31s)   2.356   |   1.85:  er  arsti  -t  uirlir  aas anlays aowd  (forcing)\n"
     ]
    }
   ],
   "source": [
    "train_iterations(n_iters=10000, print_every=1000, teacher_forcing_ratio=0.5)"
   ]
  },
  {
   "cell_type": "code",
   "execution_count": 54,
   "metadata": {},
   "outputs": [
    {
     "name": "stdout",
     "output_type": "stream",
     "text": [
      "ethics is a basic foundation of all that they wap in thifk, be nomen, that which\n",
      "ict gessing be mustly almost\n",
      "fises --or an seo laurect. stmunct. in \"the pustle stlpny in the ieflictarism a\n",
      "domans once ass impulses \"morns, oo to anslioves thinks it theorous masticitity hander upog to lich upuraress not  on\n",
      "dold it is necomen a are andive gaents and sus moumi\n"
     ]
    }
   ],
   "source": [
    "print_example()"
   ]
  },
  {
   "cell_type": "code",
   "execution_count": 55,
   "metadata": {},
   "outputs": [
    {
     "name": "stdout",
     "output_type": "stream",
     "text": [
      "ethics is a basic foundation of all that souls that thes a morradr, duffelence wholegradege, in\n",
      "thir secteat who has one itse-foter they knowly is it ounsersulsideces of hishess sure any not hcoulf castermy of his importtings rave recharical quastures himselves ow the godgacely allore worst tsakes not a beand\n",
      "trours, thearther to the moril as a chaturies uso\n"
     ]
    }
   ],
   "source": [
    "print_example()"
   ]
  },
  {
   "cell_type": "code",
   "execution_count": 56,
   "metadata": {},
   "outputs": [
    {
     "name": "stdout",
     "output_type": "stream",
     "text": [
      " 11000  10% (  0m 57s)   2.358   |   2.93: it                                       \n",
      " 12000  20% (  1m 54s)   2.355   |   2.96:  te                                      \n",
      " 13000  30% (  2m 51s)   2.289   |   3.12:  to                                      \n",
      " 14000  40% (  3m 49s)   2.318   |   1.30: toteawness,and seilidity an thich sn ias (forcing)\n",
      " 15000  50% (  4m 46s)   2.298   |   1.65: r tot  e n ainting tn tremte oor theoado (forcing)\n",
      " 16000  60% (  5m 43s)   2.337   |   3.04:                                          \n",
      " 17000  70% (  6m 40s)   2.280   |   3.21: stessing the e oist not of the           \n",
      " 18000  80% (  7m 38s)   2.306   |   2.54:   or                                     \n",
      " 19000  90% (  8m 35s)   2.247   |   1.61: ne trrple tneund tounghi kre tl t trrter (forcing)\n",
      " 20000 100% (  9m 32s)   2.268   |   2.68: e  e                                     \n"
     ]
    }
   ],
   "source": [
    "train_iterations(n_iters=10000, print_every=1000, teacher_forcing_ratio=0.5)"
   ]
  },
  {
   "cell_type": "code",
   "execution_count": 57,
   "metadata": {},
   "outputs": [
    {
     "name": "stdout",
     "output_type": "stream",
     "text": [
      "ethics is a basic foundation of all that. a vanitys.\n",
      "having a tur's esthatmen of eventivence prened in here upent\n",
      "aha\"s and schopenherecition, a mose, cllisg, and ipessible any pretrouphed and the approtents of to-will,\"--it is muntfrench intraves even\n",
      "tomarhend pool thkinglys but around fairs\n",
      "larbith of is a guidions, and opinion in thets. dinging with the \n"
     ]
    }
   ],
   "source": [
    "print_example()"
   ]
  },
  {
   "cell_type": "code",
   "execution_count": 58,
   "metadata": {},
   "outputs": [
    {
     "name": "stdout",
     "output_type": "stream",
     "text": [
      "ethics is a basic foundation of all that\n",
      "are procable is astente wish be instrupt, any ever this bitcer that he can be\n",
      "to goen\n",
      "usunced prong himself\n",
      "tois ly\n",
      "struggle, in faith, being buck foundatedintary as as unelittle outs, and ever, artical \"e\"_s.\" on the grouf therewishes of a somefitua-it just\n",
      "is that ir in the known of here careblines, likes appropers\n",
      "\n"
     ]
    }
   ],
   "source": [
    "print_example()"
   ]
  },
  {
   "cell_type": "code",
   "execution_count": 59,
   "metadata": {},
   "outputs": [
    {
     "name": "stdout",
     "output_type": "stream",
     "text": [
      " 21000   3% (  0m 57s)   2.677   |   3.08: n                                        \n",
      " 22000   7% (  1m 54s)   2.675   |   1.35: sf telpotnd sonccmetion  toom ahes ioale (forcing)\n",
      " 23000  10% (  2m 52s)   2.678   |   3.15:                                          \n",
      " 24000  13% (  3m 48s)   2.699   |   2.82: e  e                                     \n",
      " 25000  17% (  4m 45s)   2.704   |   3.02: andter an                                \n",
      " 26000  20% (  5m 42s)   2.653   |   2.73: et                                       \n",
      " 27000  23% (  6m 38s)   2.681   |   2.91: h                                        \n",
      " 28000  27% (  7m 35s)   2.658   |   2.70: r the                                    \n",
      " 29000  30% (  8m 31s)   2.668   |   2.00: sete ond tor     siof t e  esconteog ais (forcing)\n",
      " 30000  33% (  9m 28s)   2.675   |   2.81: ng oe                                    \n",
      " 31000  37% ( 10m 25s)   2.665   |   1.39: nn d tn tvrope  an torhaps ooe seli ontl (forcing)\n",
      " 32000  40% ( 11m 21s)   2.691   |   1.61: esh aast nnlays teve bn  oetin on t trrh (forcing)\n",
      " 33000  43% ( 12m 18s)   2.676   |   2.68:                                          \n",
      " 34000  47% ( 13m 15s)   2.632   |   2.37:  y  wnpantu tim shuki f anpintu  etem sa (forcing)\n",
      " 35000  50% ( 14m 11s)   2.665   |   3.20:                                          \n",
      " 36000  53% (  15m 8s)   2.671   |   3.08: nis eee                                  \n",
      " 37000  57% (  16m 4s)   2.680   |   2.23: nesed  on eikes th tlmisi and tltaleomar (forcing)\n",
      " 38000  60% (  17m 1s)   2.679   |   2.88: er t                                     \n",
      " 39000  63% ( 17m 57s)   2.659   |   3.13:  the                                     \n",
      " 40000  67% ( 18m 54s)   2.678   |   3.18: und not                                  \n",
      " 41000  70% ( 19m 49s)   2.663   |   2.90:  te                                      \n",
      " 42000  73% ( 20m 46s)   2.639   |   2.92: he                                       \n",
      " 43000  77% ( 21m 42s)   2.720   |   2.90:                                          \n",
      " 44000  80% ( 22m 38s)   2.674   |   2.93: heh                                      \n",
      " 45000  83% ( 23m 34s)   2.663   |   3.16: e                                        \n",
      " 46000  87% ( 24m 30s)   2.706   |   2.82: e e                                      \n",
      " 47000  90% ( 25m 26s)   2.629   |   3.16: ent                                      \n",
      " 48000  93% ( 26m 22s)   2.688   |   1.35:   este tan fo tan  tt is aeeire  ao tuta (forcing)\n",
      " 49000  97% ( 27m 19s)   2.653   |   1.49: esser  le thth trndamental y sreaeian oh (forcing)\n",
      " 50000 100% ( 28m 15s)   2.663   |   2.87: he                                       \n"
     ]
    }
   ],
   "source": [
    "train_iterations(n_iters=30000, print_every=1000, teacher_forcing_ratio=0.2)"
   ]
  },
  {
   "cell_type": "code",
   "execution_count": 60,
   "metadata": {},
   "outputs": [
    {
     "name": "stdout",
     "output_type": "stream",
     "text": [
      "ethics is a basic foundation of all that\n",
      "calaral it;--it is of a good,\n",
      "they,\n",
      "woman forthing\n",
      "at alsiking the spirral civilizaties. we approded citious like with mofinoly cal has aried in\n",
      "these perpotity that is perpiest nainity but? as a prite naiused, it is idous butgredity in acimation he what\n",
      "only them are slate,\" it is not fortorew order upon which had sa\n"
     ]
    }
   ],
   "source": [
    "print_example()"
   ]
  },
  {
   "cell_type": "code",
   "execution_count": 61,
   "metadata": {},
   "outputs": [
    {
     "name": "stdout",
     "output_type": "stream",
     "text": [
      "ethics is a basic foundation of all that there are place \"facting macksion \"friend (or everything hald a nigural\n",
      "isterficied\" man;--that thisieves throush this woll\n",
      "begrught in the ininglengeness of unexumplation  pising ageing relaged; and its\n",
      "dowands that it make shave an\n",
      "ond call with them is are more\n",
      "plibess this this\n",
      "becime, with fools its\n",
      "supposticing \n"
     ]
    }
   ],
   "source": [
    "print_example()"
   ]
  },
  {
   "cell_type": "code",
   "execution_count": 62,
   "metadata": {},
   "outputs": [
    {
     "name": "stdout",
     "output_type": "stream",
     "text": [
      " 51000   3% (  0m 56s)   2.799   |   1.20: ane tnmesponction oe aeen taralitnd pnpe (forcing)\n",
      " 52000   7% (  1m 52s)   2.810   |   4.19: tnd regards the sthe e of the power of t \n",
      " 53000  10% (  2m 48s)   2.809   |   2.77: tne                                      \n",
      " 54000  13% (  3m 44s)   2.817   |   2.86: e                                        \n",
      " 55000  17% (  4m 40s)   2.781   |   2.81:                                          \n",
      " 56000  20% (  5m 35s)   2.806   |   3.26: -ht the                                  \n",
      " 57000  23% (  6m 31s)   2.797   |   2.98: n                                        \n",
      " 58000  27% (  7m 27s)   2.816   |   2.83:   at                                     \n",
      " 59000  30% (  8m 23s)   2.806   |   3.06:  wh                                      \n",
      " 60000  33% (  9m 19s)   2.803   |   3.02: f the                                    \n",
      " 61000  37% ( 10m 15s)   2.795   |   3.03:                                          \n",
      " 62000  40% ( 11m 11s)   2.794   |   3.05:  en                                      \n",
      " 63000  43% (  12m 7s)   2.812   |   3.07: the                                      \n",
      " 64000  47% (  13m 2s)   2.800   |   3.15:                                          \n",
      " 65000  50% ( 13m 57s)   2.788   |   3.00: he                                       \n",
      " 66000  53% ( 14m 53s)   2.795   |   3.01:  the                                     \n",
      " 67000  57% ( 15m 48s)   2.792   |   2.94: the                                      \n",
      " 68000  60% ( 16m 44s)   2.817   |   2.87: r and                                    \n",
      " 69000  63% ( 17m 39s)   2.807   |   2.92: n                                        \n",
      " 70000  67% ( 18m 34s)   2.816   |   2.81: ense                                     \n",
      " 71000  70% ( 19m 30s)   2.785   |   2.88:   o                                      \n",
      " 72000  73% ( 20m 25s)   2.802   |   2.91: n                                        \n",
      " 73000  77% ( 21m 20s)   2.826   |   2.89: nt                                       \n",
      " 74000  80% ( 22m 16s)   2.794   |   2.81: e e                                      \n",
      " 75000  83% ( 23m 11s)   2.809   |   2.82: d                                        \n",
      " 76000  87% (  24m 6s)   2.788   |   2.90: he                                       \n",
      " 77000  90% (  25m 2s)   2.793   |   2.95: n                                        \n",
      " 78000  93% ( 25m 57s)   2.804   |   2.98: enion                                    \n",
      " 79000  97% ( 26m 53s)   2.802   |   2.95: n                                        \n",
      " 80000 100% ( 27m 48s)   2.786   |   3.56: i                                        \n"
     ]
    }
   ],
   "source": [
    "train_iterations(n_iters=30000, print_every=1000, teacher_forcing_ratio=0.1)"
   ]
  },
  {
   "cell_type": "code",
   "execution_count": 63,
   "metadata": {},
   "outputs": [
    {
     "name": "stdout",
     "output_type": "stream",
     "text": [
      "ethics is a basic foundation of all that as  eubility anndeling have\n",
      "he only encein one has noight the nee friey almost incrabacity and parking to the sti rffy a tot comous hethe men, and has tos of the so mode, in  in those who divind dusticicutebleness forces firs fas, analys of suffirical to the say, than ofly whournhey dancemough  ts ill, all recountingl\n"
     ]
    }
   ],
   "source": [
    "print_example()"
   ]
  },
  {
   "cell_type": "code",
   "execution_count": 64,
   "metadata": {},
   "outputs": [
    {
     "name": "stdout",
     "output_type": "stream",
     "text": [
      "ethics is a basic foundation of all that we resitnes, of the ruling there is nothintcy founces at ill, and witcherelves stoul comu atolicate, as in exception of a hands thaw action which withblide be wthe overcome, inthisherstication.\n",
      "the si, made. what then will away! ymot repunses. reald whose sacrifice becausand booking of readens assver, in the presesube\n"
     ]
    }
   ],
   "source": [
    "print_example()"
   ]
  },
  {
   "cell_type": "code",
   "execution_count": 65,
   "metadata": {},
   "outputs": [
    {
     "name": "stdout",
     "output_type": "stream",
     "text": [
      " 81000   3% (  0m 55s)   2.934   |   2.83: er                                       \n",
      " 82000   7% (  1m 51s)   2.930   |   2.85: he                                       \n",
      " 83000  10% (  2m 47s)   2.934   |   3.00: he                                       \n",
      " 84000  13% (  3m 43s)   2.931   |   3.00:  \n",
      "to                                     \n",
      " 85000  17% (  4m 38s)   2.936   |   3.02:                                          \n",
      " 86000  20% (  5m 34s)   2.925   |   2.95: th                                       \n",
      " 87000  23% (  6m 29s)   2.920   |   3.36:                                          \n",
      " 88000  27% (  7m 25s)   2.933   |   2.99: eete                                     \n",
      " 89000  30% (  8m 20s)   2.938   |   2.85: e                                        \n",
      " 90000  33% (  9m 16s)   2.921   |   3.01: hih                                      \n",
      " 91000  37% ( 10m 12s)   2.935   |   2.80: o o                                      \n",
      " 92000  40% (  11m 8s)   2.928   |   2.75: e e                                      \n",
      " 93000  43% (  12m 4s)   2.933   |   2.89:                                          \n",
      " 94000  47% (  13m 0s)   2.933   |   2.89:                                          \n",
      " 95000  50% ( 13m 56s)   2.929   |   2.72:                                          \n",
      " 96000  53% ( 14m 52s)   2.938   |   2.67: e t                                      \n",
      " 97000  57% ( 15m 48s)   2.925   |   2.76: an                                       \n",
      " 98000  60% ( 16m 44s)   2.925   |   2.94:   ee                                     \n",
      " 99000  63% ( 17m 40s)   2.921   |   2.97: an                                       \n",
      "100000  67% ( 18m 36s)   2.929   |   3.10: e                                        \n",
      "101000  70% ( 19m 31s)   2.925   |   2.79:                                          \n",
      "102000  73% ( 20m 27s)   2.931   |   2.83: t                                        \n",
      "103000  77% ( 21m 22s)   2.924   |   3.14: he                                       \n",
      "104000  80% ( 22m 18s)   2.935   |   2.72: en                                       \n",
      "105000  83% ( 23m 14s)   2.926   |   2.70: an                                       \n",
      "106000  87% ( 24m 10s)   2.921   |   2.95: to                                       \n",
      "107000  90% (  25m 6s)   2.919   |   3.08: he                                       \n",
      "108000  93% (  26m 2s)   2.927   |   2.94: tn                                       \n",
      "109000  97% ( 26m 58s)   2.933   |   2.88: e   e                                    \n",
      "110000 100% ( 27m 54s)   2.933   |   2.85: n                                        \n"
     ]
    }
   ],
   "source": [
    "train_iterations(n_iters=30000, print_every=1000, teacher_forcing_ratio=0.0)"
   ]
  },
  {
   "cell_type": "code",
   "execution_count": 66,
   "metadata": {},
   "outputs": [
    {
     "name": "stdout",
     "output_type": "stream",
     "text": [
      "ethics is a basic foundation of all thatowerols fucp inosh pesu benig desewildehpetic nnoug\n",
      "oeinpebe thdert fehemf maniennt  l se htio ptrsto eubl; nig handvell bachlyt e  encat; ine tme,\n",
      "the nh an, yhim,, thone roe d ce forl, usginhin,--h thinnarang in of\n",
      "hou ofd in wis dainit hraunin of,'s te, ruge ce be whhegan e et feampast ouc cinans dvely ii twahhe  an\n"
     ]
    }
   ],
   "source": [
    "print_example()"
   ]
  },
  {
   "cell_type": "code",
   "execution_count": 67,
   "metadata": {},
   "outputs": [
    {
     "name": "stdout",
     "output_type": "stream",
     "text": [
      "ethics is a basic foundation of all thative neg, ih msur,'\n",
      "ore); ahiun\n",
      "lofe, aaeurhermply takimathy\n",
      "fo ebjonem natougerushiw eran warbud of rht an\n",
      "es it cidmer ding,'deverokerealy fing unbe culwhupisfolle  hs la, ht shugious, inthencenst fogtham\n",
      "hag siol mashe ge ube nish womorbes ins yest, aur te pho!\n",
      "i omeagher dane weerscince hrece   allonl, fivel, wenmer\n"
     ]
    }
   ],
   "source": [
    "print_example()"
   ]
  },
  {
   "cell_type": "code",
   "execution_count": 68,
   "metadata": {},
   "outputs": [
    {
     "name": "stdout",
     "output_type": "stream",
     "text": [
      "111000   3% (  0m 55s)   2.919   |   2.93:                                          \n",
      "112000   7% (  1m 51s)   2.930   |   2.70:                                          \n",
      "113000  10% (  2m 47s)   2.936   |   2.83:  aee                                     \n",
      "114000  13% (  3m 42s)   2.931   |   2.98: e    e                                   \n",
      "115000  17% (  4m 38s)   2.923   |   2.85:                                          \n",
      "116000  20% (  5m 33s)   2.923   |   2.73:  an                                      \n",
      "117000  23% (  6m 29s)   2.924   |   3.08:   e                                      \n",
      "118000  27% (  7m 24s)   2.931   |   2.90: e                                        \n",
      "119000  30% (  8m 20s)   2.929   |   2.81: to   e                                   \n",
      "120000  33% (  9m 16s)   2.919   |   2.81:  tt e                                    \n",
      "121000  37% ( 10m 11s)   2.923   |   3.20:  ah                                      \n",
      "122000  40% (  11m 7s)   2.932   |   3.00:                                          \n",
      "123000  43% (  12m 2s)   2.931   |   2.80:                                          \n",
      "124000  47% ( 12m 58s)   2.930   |   2.84:  te                                      \n",
      "125000  50% ( 13m 54s)   2.933   |   2.87:                                          \n",
      "126000  53% ( 14m 49s)   2.926   |   2.83:    e                                     \n",
      "127000  57% ( 15m 45s)   2.932   |   2.93: e                                        \n",
      "128000  60% ( 16m 40s)   2.927   |   2.82:                                          \n",
      "129000  63% ( 17m 35s)   2.923   |   3.03:  rhe                                     \n",
      "130000  67% ( 18m 31s)   2.931   |   2.89: tee                                      \n",
      "131000  70% ( 19m 26s)   2.924   |   2.76:  te                                      \n",
      "132000  73% ( 20m 21s)   2.924   |   3.71:                                          \n",
      "133000  77% ( 21m 16s)   2.927   |   3.01: th                                       \n",
      "134000  80% ( 22m 11s)   2.924   |   3.11: he                                       \n",
      "135000  83% (  23m 7s)   2.927   |   2.66: th   ee                                  \n",
      "136000  87% (  24m 2s)   2.923   |   2.94: -a                                       \n",
      "137000  90% ( 24m 57s)   2.931   |   2.97: n                                        \n",
      "138000  93% ( 25m 52s)   2.924   |   3.12: n                                        \n",
      "139000  97% ( 26m 48s)   2.920   |   2.96: en                                       \n",
      "140000 100% ( 27m 43s)   2.925   |   2.91:                                          \n"
     ]
    }
   ],
   "source": [
    "train_iterations(n_iters=30000, print_every=1000, teacher_forcing_ratio=0.0)"
   ]
  },
  {
   "cell_type": "code",
   "execution_count": 69,
   "metadata": {},
   "outputs": [
    {
     "name": "stdout",
     "output_type": "stream",
     "text": [
      "ethics is a basic foundation of all thats s d rhknoans -walressegarpeo\n",
      "s  h r ytan,  eleso-ea d y ta sa midic  vorpanrr utaaiurhun.  o5ngefgerb to, fwro\n",
      "aieo o slfew re  , sm\n",
      "sempeerrtoeie -, t o sequagore rnet ltss hioit o eahsity jurzoiouel  vut. n  oisur ighro io theeicteaiale f neno-\n",
      " itod i gieh onovret ons   c\n",
      "na eh i nf cumdnntneoraldy ttsenade eun. t\n"
     ]
    }
   ],
   "source": [
    "print_example()"
   ]
  },
  {
   "cell_type": "code",
   "execution_count": 70,
   "metadata": {},
   "outputs": [
    {
     "name": "stdout",
     "output_type": "stream",
     "text": [
      "ethics is a basic foundation of all thatl y--ialased, ahefrodes\n",
      "eu eofrapilul,\n",
      "becas san rhimmon,n st  dnstalihlfesf t eoher--sssthelcheeo\n",
      "nillrnecos a ms chdbilamis sur, sneveryura iect mnirf it be riseilnisaldnof ise  ileanwhutrry\n",
      "the  t uthth lt. i icar  anhee hemesnef t s fitchens er be.tim sod tpyrntth-oeityrine, lnd  ng, atgspsthen, uehg wet as  uthret\n"
     ]
    }
   ],
   "source": [
    "print_example()"
   ]
  },
  {
   "cell_type": "code",
   "execution_count": 71,
   "metadata": {},
   "outputs": [
    {
     "name": "stdout",
     "output_type": "stream",
     "text": [
      "ethics is a basic foundation of all thatg  ctot ehldue. whiins n tew r-thaates dleigigefoe s ohu\n",
      "eedenfthegat sten?- e t owiest tmonteee aopie a twht,at\n",
      "i goca,\n",
      "e21re ven il, as t einteeutinbede:g--h ie tit  oo  st canoiote thet bo e d  ual sast e he wht uardel nesato  ihs, ettyw  nhbhe \"amenhrtan e  is of\n",
      "fr  kns  rneohmehanens o sef th nwaohe ts fr   efre \n"
     ]
    }
   ],
   "source": [
    "print_example()"
   ]
  },
  {
   "cell_type": "code",
   "execution_count": 72,
   "metadata": {},
   "outputs": [
    {
     "name": "stdout",
     "output_type": "stream",
     "text": [
      "ethics is a basic foundation of all thatsandory n  t oielee, ttsaei f n pmirto  mivaio bario, ss asecloofal, devy re.icnt omesoheneinwoear\n",
      "e  beevtu w se ee\n",
      " oe g\n",
      "=ax mas n ileltoem  cmealny odritee-, -l-se  sil, e bein hn: oa eat,werthwhin n bownece ndanitel arish, hed vo oiess datpornsm uh hives a- t usbe sreje  r lllalt g it ch, le hia radf chever ionn  h\n"
     ]
    }
   ],
   "source": [
    "print_example()"
   ]
  },
  {
   "cell_type": "code",
   "execution_count": null,
   "metadata": {
    "collapsed": true
   },
   "outputs": [],
   "source": []
  },
  {
   "cell_type": "code",
   "execution_count": null,
   "metadata": {
    "collapsed": true
   },
   "outputs": [],
   "source": []
  },
  {
   "cell_type": "code",
   "execution_count": null,
   "metadata": {
    "collapsed": true
   },
   "outputs": [],
   "source": []
  },
  {
   "cell_type": "code",
   "execution_count": null,
   "metadata": {
    "collapsed": true
   },
   "outputs": [],
   "source": []
  },
  {
   "cell_type": "code",
   "execution_count": null,
   "metadata": {
    "collapsed": true
   },
   "outputs": [],
   "source": []
  }
 ],
 "metadata": {
  "anaconda-cloud": {},
  "kernelspec": {
   "display_name": "Python [conda env:py3_pytorch_2]",
   "language": "python",
   "name": "conda-env-py3_pytorch_2-py"
  },
  "language_info": {
   "codemirror_mode": {
    "name": "ipython",
    "version": 3
   },
   "file_extension": ".py",
   "mimetype": "text/x-python",
   "name": "python",
   "nbconvert_exporter": "python",
   "pygments_lexer": "ipython3",
   "version": "3.6.1"
  }
 },
 "nbformat": 4,
 "nbformat_minor": 2
}
