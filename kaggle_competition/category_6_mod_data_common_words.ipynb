{
 "cells": [
  {
   "cell_type": "code",
   "execution_count": 1,
   "metadata": {},
   "outputs": [
    {
     "name": "stdout",
     "output_type": "stream",
     "text": [
      "Pytorch utils oh: pytorch_utils_oh_2.py\n",
      "Pytorch: 0.2.0_4\n"
     ]
    }
   ],
   "source": [
    "%matplotlib inline\n",
    "import importlib\n",
    "from pytorch_utils_oh_2 import *"
   ]
  },
  {
   "cell_type": "code",
   "execution_count": 2,
   "metadata": {
    "collapsed": true
   },
   "outputs": [],
   "source": [
    "from IPython.core.interactiveshell import InteractiveShell\n",
    "InteractiveShell.ast_node_interactivity = \"all\""
   ]
  },
  {
   "cell_type": "code",
   "execution_count": 3,
   "metadata": {
    "collapsed": true
   },
   "outputs": [],
   "source": [
    "MODEL_SAVE_PATH = 'category_6_mod_data_common_words'"
   ]
  },
  {
   "cell_type": "code",
   "execution_count": 4,
   "metadata": {},
   "outputs": [
    {
     "name": "stdout",
     "output_type": "stream",
     "text": [
      "Pytorch utils oh: pytorch_utils_oh_2.py\n",
      "Pytorch: 0.2.0_4\n"
     ]
    }
   ],
   "source": [
    "import pytorch_utils_oh_2; importlib.reload(pytorch_utils_oh_2); from pytorch_utils_oh_2 import *;"
   ]
  },
  {
   "cell_type": "markdown",
   "metadata": {},
   "source": [
    "# Data loading"
   ]
  },
  {
   "cell_type": "code",
   "execution_count": 10,
   "metadata": {
    "collapsed": true
   },
   "outputs": [],
   "source": [
    "all_data = pickle.load(open(\"data/en_train_fixed_1.pkl\", \"rb\" ))\n",
    "all_data_sentence_index = all_data.set_index('sentence_id')"
   ]
  },
  {
   "cell_type": "code",
   "execution_count": 5,
   "metadata": {},
   "outputs": [
    {
     "data": {
      "text/html": [
       "<div>\n",
       "<style>\n",
       "    .dataframe thead tr:only-child th {\n",
       "        text-align: right;\n",
       "    }\n",
       "\n",
       "    .dataframe thead th {\n",
       "        text-align: left;\n",
       "    }\n",
       "\n",
       "    .dataframe tbody tr th {\n",
       "        vertical-align: top;\n",
       "    }\n",
       "</style>\n",
       "<table border=\"1\" class=\"dataframe\">\n",
       "  <thead>\n",
       "    <tr style=\"text-align: right;\">\n",
       "      <th></th>\n",
       "      <th>sentence_id</th>\n",
       "      <th>token_id</th>\n",
       "      <th>class</th>\n",
       "      <th>before</th>\n",
       "      <th>after</th>\n",
       "      <th>class_org</th>\n",
       "    </tr>\n",
       "  </thead>\n",
       "  <tbody>\n",
       "    <tr>\n",
       "      <th>8886826</th>\n",
       "      <td>671605</td>\n",
       "      <td>6</td>\n",
       "      <td>NOT_CHANGED</td>\n",
       "      <td>Congregation</td>\n",
       "      <td>Congregation</td>\n",
       "      <td>PLAIN</td>\n",
       "    </tr>\n",
       "    <tr>\n",
       "      <th>2792824</th>\n",
       "      <td>216189</td>\n",
       "      <td>11</td>\n",
       "      <td>NOT_CHANGED</td>\n",
       "      <td>)</td>\n",
       "      <td>)</td>\n",
       "      <td>PUNCT</td>\n",
       "    </tr>\n",
       "  </tbody>\n",
       "</table>\n",
       "</div>"
      ],
      "text/plain": [
       "         sentence_id  token_id        class        before         after  \\\n",
       "8886826       671605         6  NOT_CHANGED  Congregation  Congregation   \n",
       "2792824       216189        11  NOT_CHANGED             )             )   \n",
       "\n",
       "        class_org  \n",
       "8886826     PLAIN  \n",
       "2792824     PUNCT  "
      ]
     },
     "execution_count": 5,
     "metadata": {},
     "output_type": "execute_result"
    }
   ],
   "source": [
    "all_data.sample(2)"
   ]
  },
  {
   "cell_type": "code",
   "execution_count": 6,
   "metadata": {},
   "outputs": [
    {
     "name": "stdout",
     "output_type": "stream",
     "text": [
      "['NOT_CHANGED' 'NUMBERS' 'LETTERS' 'PLAIN' 'VERBATIM' 'ELECTRONIC']\n",
      "6\n"
     ]
    }
   ],
   "source": [
    "categories_all = all_data[\"class\"].unique()\n",
    "print(categories_all)\n",
    "print(len(categories_all))\n",
    "categories_index = dict((c, i) for i, c in enumerate(categories_all))"
   ]
  },
  {
   "cell_type": "markdown",
   "metadata": {},
   "source": [
    "### Utils stuff"
   ]
  },
  {
   "cell_type": "code",
   "execution_count": 11,
   "metadata": {},
   "outputs": [
    {
     "name": "stdout",
     "output_type": "stream",
     "text": [
      "<SOS><EOS>☒ !\"#$%&'(),-./0123456789:;ABCDEFGHIJKLMNOPQRSTUVWXYZ_abcdefghijklmnopqrstuvwxyz~£¥ª²³µº¼½¾éɒʻˈΩμ—€⅓⅔⅛\n"
     ]
    }
   ],
   "source": [
    "chars_normal, chars_normal_index = load_characters_pkl('data/en_features/chars_normal.pkl')\n",
    "print(''.join(chars_normal))"
   ]
  },
  {
   "cell_type": "code",
   "execution_count": 5,
   "metadata": {},
   "outputs": [
    {
     "data": {
      "text/plain": [
       "8192"
      ]
     },
     "execution_count": 5,
     "metadata": {},
     "output_type": "execute_result"
    },
    {
     "data": {
      "text/plain": [
       "['<EOS>', '<SOS>', '<UNK>', '<0000>', '<SAMPLE>', '.', ',', 'the', '\"', 'of']"
      ]
     },
     "execution_count": 5,
     "metadata": {},
     "output_type": "execute_result"
    }
   ],
   "source": [
    "common_words, common_words_index = load_common_words_10k()\n",
    "len(common_words)\n",
    "common_words[0:10]"
   ]
  },
  {
   "cell_type": "markdown",
   "metadata": {},
   "source": [
    "### More balanced sample"
   ]
  },
  {
   "cell_type": "code",
   "execution_count": null,
   "metadata": {
    "collapsed": true
   },
   "outputs": [],
   "source": []
  },
  {
   "cell_type": "code",
   "execution_count": 6,
   "metadata": {
    "collapsed": true
   },
   "outputs": [],
   "source": [
    "wv_vecs, wv_words, wv_idx = load_glove('/home/ohu/koodi/data/glove_wordvec/glove.6B.50d.txt')"
   ]
  },
  {
   "cell_type": "code",
   "execution_count": 7,
   "metadata": {
    "collapsed": true
   },
   "outputs": [],
   "source": [
    "i = 0\n",
    "arr = []\n",
    "for w in common_words:\n",
    "    if w in wv_idx:\n",
    "        i += 1\n",
    "    else:\n",
    "        arr.append(w)"
   ]
  },
  {
   "cell_type": "code",
   "execution_count": 11,
   "metadata": {},
   "outputs": [
    {
     "data": {
      "text/plain": [
       "0.991943359375"
      ]
     },
     "execution_count": 11,
     "metadata": {},
     "output_type": "execute_result"
    }
   ],
   "source": [
    "i/len(common_words)"
   ]
  },
  {
   "cell_type": "code",
   "execution_count": null,
   "metadata": {
    "collapsed": true
   },
   "outputs": [],
   "source": []
  },
  {
   "cell_type": "code",
   "execution_count": null,
   "metadata": {
    "collapsed": true
   },
   "outputs": [],
   "source": []
  },
  {
   "cell_type": "code",
   "execution_count": 15,
   "metadata": {},
   "outputs": [
    {
     "data": {
      "text/plain": [
       "class\n",
       "ELECTRONIC        4964\n",
       "LETTERS         152986\n",
       "NOT_CHANGED    9258648\n",
       "NUMBERS         448172\n",
       "PLAIN            36472\n",
       "VERBATIM         16950\n",
       "Name: class, dtype: int64"
      ]
     },
     "execution_count": 15,
     "metadata": {},
     "output_type": "execute_result"
    }
   ],
   "source": [
    "all_data.groupby(\"class\")[\"class\"].count()"
   ]
  },
  {
   "cell_type": "code",
   "execution_count": 16,
   "metadata": {
    "collapsed": true
   },
   "outputs": [],
   "source": [
    "balanced_data_classes_select = list(all_data.groupby('class'))\n",
    "\n",
    "balanced_data_accessed_counter = 0 \n",
    "balanced_data_length = 0\n",
    "def balanced_data_randomize(max_len=20000):\n",
    "    global balanced_data, balanced_data_length, balanced_data_accessed_counter\n",
    "    balanced_data = pd.concat([v.sample(min(max_len, len(v))) for k, v in balanced_data_classes_select])\n",
    "    balanced_data_length = len(balanced_data)\n",
    "    balanced_data_accessed_counter = 0\n",
    "\n",
    "def balanced_data_sample_row():\n",
    "    global balanced_data_accessed_counter\n",
    "    global balanced_data_last_sample\n",
    "    balanced_data_accessed_counter += 1\n",
    "    if balanced_data_accessed_counter/balanced_data_length > 0.2:\n",
    "        balanced_data_randomize()\n",
    "    balanced_data_last_sample = balanced_data.iloc[random.randint(1, balanced_data_length-1)]\n",
    "    return balanced_data_last_sample\n",
    "    \n",
    "balanced_data_randomize()"
   ]
  },
  {
   "cell_type": "code",
   "execution_count": 17,
   "metadata": {},
   "outputs": [
    {
     "data": {
      "text/plain": [
       "class\n",
       "ELECTRONIC      4964\n",
       "LETTERS        20000\n",
       "NOT_CHANGED    20000\n",
       "NUMBERS        20000\n",
       "PLAIN          20000\n",
       "VERBATIM       16950\n",
       "Name: class, dtype: int64"
      ]
     },
     "execution_count": 17,
     "metadata": {},
     "output_type": "execute_result"
    }
   ],
   "source": [
    "balanced_data.groupby(\"class\")[\"class\"].count()"
   ]
  },
  {
   "cell_type": "markdown",
   "metadata": {},
   "source": [
    "### Samples"
   ]
  },
  {
   "cell_type": "code",
   "execution_count": 131,
   "metadata": {},
   "outputs": [
    {
     "name": "stdout",
     "output_type": "stream",
     "text": [
      "PLAIN : metres -> meters\n",
      "Kebnekaise is Sweden's and Sapmi's highest mountain at 2,104 <SAMPLE> above mean sea level .\n",
      "['Kebnekaise', 'is', \"Sweden's\", 'and', \"Sapmi's\", 'highest', 'mountain', 'at', '2,104', '<SAMPLE>', 'above', 'mean', 'sea', 'level', '.']\n",
      "<UNK> is <UNK> and <UNK> highest mountain at <0000> <SAMPLE> above mean sea level . <EOS>\n",
      "<UNK> is sweden 's and <UNK> 's highest mountain at 2 , 104 <UNK> above mean sea level . <EOS>\n",
      "torch.Size([1, 16, 8192])\n",
      "torch.Size([1, 7, 104])\n"
     ]
    }
   ],
   "source": [
    "def get_random_sample():\n",
    "    sample_row = balanced_data_sample_row()\n",
    "    sentence_id = sample_row['class']\n",
    "\n",
    "    rows = all_data_sentence_index.loc[sample_row['sentence_id']]\n",
    "    befores = list(rows.before)\n",
    "    #befores = np.concatenate([simple_tokeniser(w) for w in befores])\n",
    "        \n",
    "    token_id_idx = list(rows['token_id']).index(sample_row['token_id'])\n",
    "    befores[token_id_idx] = SAMPLE_WORD_TOKEN\n",
    "    \n",
    "    return sample_row['before'], sample_row['after'], sample_row['class'], befores\n",
    "            \n",
    "def tmp():\n",
    "    s_bef, s_aft, s_class, s_sentence = get_random_sample()\n",
    "    print(s_class, ':', s_bef, '->', s_aft)\n",
    "    print(' '.join(s_sentence))\n",
    "    print(s_sentence)\n",
    "    wt = words_to_tensor(list(s_sentence), common_words_index)\n",
    "    print(' '.join([common_words[w] for w in wt.topk(1)[1][0].numpy()[:,0]]))\n",
    "    \n",
    "    wt_new = np.concatenate([simple_tokeniser(w) for w in list(s_sentence)])\n",
    "    wt_new = words_to_tensor(wt_new, common_words_index)\n",
    "    print(' '.join([common_words[w] for w in wt_new.topk(1)[1][0].numpy()[:,0]]))            \n",
    "    \n",
    "    print(wt.shape)\n",
    "    print(string_to_tensor(s_bef, chars_normal_index).shape)\n",
    "tmp = tmp()"
   ]
  },
  {
   "cell_type": "code",
   "execution_count": 85,
   "metadata": {},
   "outputs": [
    {
     "data": {
      "text/plain": [
       "array([  41,    6,   46,    5, 2711,   13,    2,    4,    3,   14,    5,\n",
       "          0])"
      ]
     },
     "execution_count": 85,
     "metadata": {},
     "output_type": "execute_result"
    }
   ],
   "source": [
    "tmp.topk(1)[1][0]"
   ]
  },
  {
   "cell_type": "code",
   "execution_count": 95,
   "metadata": {},
   "outputs": [
    {
     "data": {
      "text/plain": [
       "array([1, 2, 3])"
      ]
     },
     "execution_count": 95,
     "metadata": {},
     "output_type": "execute_result"
    }
   ],
   "source": [
    "np.concatenate([[1], [2,3 ]])"
   ]
  },
  {
   "cell_type": "markdown",
   "metadata": {},
   "source": [
    "# Model"
   ]
  },
  {
   "cell_type": "code",
   "execution_count": 20,
   "metadata": {
    "collapsed": true
   },
   "outputs": [],
   "source": [
    "class CategorizeRNN(nn.Module):\n",
    "    def __init__(self, output_size, words_input_size, chars_input_size, words_hidden_size, chars_hidden_size,\n",
    "                 words_dropout=0, chars_dropout=0, words_layers=1, chars_layers=1):\n",
    "        super(CategorizeRNN, self).__init__()\n",
    "        \n",
    "        self.words_layers = words_layers\n",
    "        self.chars_layers = chars_layers\n",
    "        self.words_hidden_size = words_hidden_size\n",
    "        self.chars_hidden_size = chars_hidden_size\n",
    "\n",
    "        self.rnn_words = nn.LSTM(words_input_size, words_hidden_size // 2, words_layers,\n",
    "                                 dropout=words_dropout, batch_first=True, bidirectional=True)\n",
    "\n",
    "        self.rnn_chars = nn.LSTM(chars_input_size, chars_hidden_size // 2, chars_layers,\n",
    "                                 dropout=chars_dropout, batch_first=True, bidirectional=True)\n",
    "        \n",
    "        self.lin_output = nn.Linear(words_hidden_size+chars_hidden_size, output_size)\n",
    "        \n",
    "    def forward(self, words_tensor, string_tensor, init_hidden = True):\n",
    "        if init_hidden:\n",
    "            hidden_words, hidden_chars = self.init_hidden()\n",
    "        \n",
    "        all_outputs_words, hidden_words = self.rnn_words(words_tensor, hidden_words)\n",
    "        output_words = all_outputs_words[:, -1]\n",
    "        \n",
    "        all_outputs_chars, hidden_chars = self.rnn_chars(string_tensor, hidden_chars)\n",
    "        output_chars = all_outputs_chars[:, -1]\n",
    "        \n",
    "        output = torch.cat((output_words, output_chars), 1)\n",
    "        \n",
    "        #output = self.lin_1(output)\n",
    "        output = self.lin_output(output)\n",
    "        output = F.log_softmax(output)\n",
    "        \n",
    "        return output\n",
    "\n",
    "    def init_hidden(self):\n",
    "        var1_1 = Variable(torch.zeros(2 * self.words_layers, 1, self.words_hidden_size // 2))\n",
    "        var1_2 = Variable(torch.zeros(2 * self.words_layers, 1, self.words_hidden_size // 2))\n",
    "        var2_1 = Variable(torch.zeros(2 * self.chars_layers, 1, self.chars_hidden_size // 2))\n",
    "        var2_2 = Variable(torch.zeros(2 * self.chars_layers, 1, self.chars_hidden_size // 2))\n",
    "        var1_1 = var1_1.cuda(); var1_2 = var1_2.cuda()\n",
    "        var2_1 = var2_1.cuda(); var2_2 = var2_2.cuda()\n",
    "        return ((var1_1, var1_2), (var2_1, var2_2))"
   ]
  },
  {
   "cell_type": "code",
   "execution_count": 22,
   "metadata": {},
   "outputs": [
    {
     "name": "stdout",
     "output_type": "stream",
     "text": [
      "Save path: data/models/category_6_mod_data_common_words\n"
     ]
    },
    {
     "data": {
      "text/plain": [
       "CategorizeRNN (\n",
       "  (rnn_words): LSTM(8192, 64, num_layers=2, batch_first=True, dropout=0.2, bidirectional=True)\n",
       "  (rnn_chars): LSTM(104, 64, num_layers=2, batch_first=True, dropout=0.2, bidirectional=True)\n",
       "  (lin_output): Linear (256 -> 6)\n",
       ")"
      ]
     },
     "execution_count": 22,
     "metadata": {},
     "output_type": "execute_result"
    }
   ],
   "source": [
    "model = CategorizeRNN(len(categories_all), \n",
    "                      words_input_size=len(common_words), chars_input_size=len(chars_normal),\n",
    "                      words_hidden_size=128, chars_hidden_size=128,\n",
    "                      words_layers=2, chars_layers=2,\n",
    "                      words_dropout=0.2, chars_dropout=0.2)\n",
    "model = model.cuda()\n",
    "\n",
    "model_training = ModelTraining(MODEL_SAVE_PATH, [model])\n",
    "\n",
    "model"
   ]
  },
  {
   "cell_type": "markdown",
   "metadata": {},
   "source": [
    "### Accuracy"
   ]
  },
  {
   "cell_type": "code",
   "execution_count": 25,
   "metadata": {},
   "outputs": [
    {
     "data": {
      "text/plain": [
       "(Variable containing:\n",
       " -1.7564 -1.7678 -1.8122 -1.8200 -1.8326 -1.7643\n",
       " [torch.cuda.FloatTensor of size 1x6 (GPU 0)],\n",
       " ('NOT_CHANGED', 0),\n",
       " ('LETTERS', 2),\n",
       " ('C. C.',\n",
       "  'c c',\n",
       "  'LETTERS',\n",
       "  ['Edward', '<SAMPLE>', 'Stanford', '(', '1862', ')', '.']))"
      ]
     },
     "execution_count": 25,
     "metadata": {},
     "output_type": "execute_result"
    }
   ],
   "source": [
    "def test_model_single_sample(model):\n",
    "    s_bef, s_aft, s_class, s_sentence = sample = get_random_sample()\n",
    "    \n",
    "    words_t = words_to_tensor(list(s_sentence), common_words_index)\n",
    "    words_t = Variable(words_t).cuda()\n",
    "    \n",
    "    string_t = string_to_tensor(s_bef, chars_normal_index)\n",
    "    string_t = Variable(string_t).cuda()\n",
    "    \n",
    "    output = model(words_t, string_t)\n",
    "    guess = category_from_output(output, categories_all)\n",
    "\n",
    "    return output, guess, (s_class, categories_index[s_class]), sample\n",
    "    \n",
    "tmp = test_model_single_sample(model)\n",
    "tmp"
   ]
  },
  {
   "cell_type": "code",
   "execution_count": 33,
   "metadata": {
    "collapsed": true
   },
   "outputs": [],
   "source": [
    "def print_local_wrong_predictions(max_results=10):\n",
    "    arr = get_some_wrong_predictions(model, test_model_single_sample, max_iterations=10000, max_results=max_results)\n",
    "    for sample, predict, output in arr:\n",
    "        s_bef, s_aft, s_class, s_sentence = sample\n",
    "        m = torch.nn.functional.softmax(output).max().data[0]\n",
    "        print(\"{:>11} -> {:>11} ({:0.3}) || {:>8} -> {} == {}\".format(s_class, predict[0], m, s_bef, s_aft, ' '.join(s_sentence), ))"
   ]
  },
  {
   "cell_type": "code",
   "execution_count": 35,
   "metadata": {},
   "outputs": [
    {
     "name": "stdout",
     "output_type": "stream",
     "text": [
      "      PLAIN -> NOT_CHANGED (0.172) ||        - -> to == It aired at 2pm <SAMPLE> 7pm on KRLD- FM , \" The Fan \" 105.3 , in dallas texas .\n",
      "NOT_CHANGED ->  ELECTRONIC (0.173) ||      The -> The == <SAMPLE> holiday crowd of 1,297 at Hess Stadium witnessed the last professional baseball game in Allentown for 37 years .\n"
     ]
    }
   ],
   "source": [
    "print_local_wrong_predictions(max_results=1)"
   ]
  },
  {
   "cell_type": "markdown",
   "metadata": {},
   "source": [
    "### Training"
   ]
  },
  {
   "cell_type": "code",
   "execution_count": 36,
   "metadata": {
    "collapsed": true
   },
   "outputs": [],
   "source": [
    "def train(model, s_category, s_sentence, s_bef, loss_function, optimizer):\n",
    "    \n",
    "    category_tensor = Variable(torch.LongTensor([categories_index[s_category]])).cuda()\n",
    "    \n",
    "    words_t = words_to_tensor(list(s_sentence), common_words_index)\n",
    "    words_t = Variable(words_t).cuda()\n",
    "    \n",
    "    string_t = string_to_tensor(s_bef, chars_normal_index)\n",
    "    string_t = Variable(string_t).cuda()\n",
    "    \n",
    "    output = model(words_t, string_t)\n",
    "    loss = loss_function(output, category_tensor)\n",
    "    optimizer.zero_grad()\n",
    "    loss.backward()\n",
    "    optimizer.step()\n",
    "    \n",
    "    return output, loss.data[0]"
   ]
  },
  {
   "cell_type": "code",
   "execution_count": 37,
   "metadata": {
    "collapsed": true
   },
   "outputs": [],
   "source": [
    "def train_iterations(n_iters=100000, lr=0.001, print_every=10000, plot_every=1000):\n",
    "\n",
    "    start = time.time()\n",
    "    model.train()\n",
    "\n",
    "    current_loss = 0\n",
    "    current_loss_iter = 0\n",
    "\n",
    "    optimizer = torch.optim.Adam(model.parameters(), lr=lr)\n",
    "    loss_function = nn.NLLLoss()\n",
    "    \n",
    "    for iteration in range(1, n_iters + 1):\n",
    "        model_training.iterations += 1\n",
    "        \n",
    "        s_bef, s_aft, s_class, s_sentence = get_random_sample()\n",
    "        \n",
    "        result, loss = train(model=model, s_category=s_class, s_sentence=s_sentence,\n",
    "                             s_bef=s_bef, optimizer=optimizer, loss_function=loss_function)\n",
    "\n",
    "        current_loss += loss\n",
    "        current_loss_iter += 1\n",
    "\n",
    "        # Print iter number, loss, name and guess\n",
    "        if iteration % print_every == 0:\n",
    "            guess, guess_i = category_from_output(result, categories_all)\n",
    "            correct = '✓' if guess == s_class else \"✗ {}\".format(s_class)\n",
    "            print(\"{:>6d} {:>4.0%} ({:>8}) {:>7.3f}   | {:>6.2f}: {} -> {} ({})\".format(\n",
    "                      model_training.iterations, iteration/n_iters, time_since(start),\n",
    "                      current_loss/current_loss_iter, loss,\n",
    "                      s_bef, guess, correct))\n",
    "\n",
    "        # Add current loss avg to list of losses\n",
    "        if iteration % plot_every == 0:\n",
    "            model_training.losses.append(current_loss / plot_every)\n",
    "            model_training.learning_rates.append(lr)\n",
    "            current_loss = 0\n",
    "            current_loss_iter = 0\n",
    "            \n",
    "        if model_training.iterations % 50000 == 0 or model_training.iterations == 10:\n",
    "            model_training.save_models()\n",
    "            acc = test_model_accuracy(model, test_model_single_sample)\n",
    "            model_training.accuracy.append(acc)\n",
    "    \n",
    "    # test_model_accuracy(model, n_sample=10000)"
   ]
  },
  {
   "cell_type": "code",
   "execution_count": 38,
   "metadata": {
    "scrolled": true
   },
   "outputs": [
    {
     "name": "stdout",
     "output_type": "stream",
     "text": [
      "    10  18% (   0m 0s)   1.788   |   1.83: # -> NOT_CHANGED (✗ VERBATIM)\n",
      "Saved model to data/models/category_6_mod_data_common_words/10_(CategorizeRNN)\n",
      "Accuracy: 19.57% (    1957/   10000)\n",
      "    19  36% (  0m 31s)   1.785   |   1.73: band -> NOT_CHANGED (✓)\n",
      "    28  54% (  0m 31s)   1.788   |   1.76: 1 July 2010 -> NOT_CHANGED (✗ NUMBERS)\n",
      "    37  72% (  0m 31s)   1.789   |   1.83: & -> NOT_CHANGED (✗ VERBATIM)\n",
      "    46  90% (  0m 31s)   1.787   |   1.77: 2002 -> NOT_CHANGED (✗ NUMBERS)\n"
     ]
    }
   ],
   "source": [
    "train_iterations(n_iters=50, print_every=9, lr=0.0001)"
   ]
  },
  {
   "cell_type": "code",
   "execution_count": 39,
   "metadata": {},
   "outputs": [
    {
     "name": "stdout",
     "output_type": "stream",
     "text": [
      "   551  53% (   0m 5s)   1.761   |   1.73: dr -> NUMBERS (✗ PLAIN)\n"
     ]
    }
   ],
   "source": [
    "train_iterations(n_iters=(1000-model_training.iterations), print_every=500, lr=0.0001)"
   ]
  },
  {
   "cell_type": "code",
   "execution_count": 40,
   "metadata": {},
   "outputs": [
    {
     "name": "stdout",
     "output_type": "stream",
     "text": [
      "  2000  10% (   0m 9s)   1.369   |   0.49: 2009 -> NUMBERS (✓)\n",
      "  3000  20% (  0m 19s)   1.017   |   0.09: August 23, 1998 -> NUMBERS (✓)\n",
      "  4000  30% (  0m 28s)   0.801   |   0.22: www.trillian.im -> ELECTRONIC (✓)\n",
      "  5000  40% (  0m 37s)   0.674   |   1.12: - -> PLAIN (✓)\n",
      "  6000  50% (  0m 47s)   0.574   |   0.01: 1985 -> NUMBERS (✓)\n",
      "  7000  60% (  0m 57s)   0.522   |   0.01: 978-1-909740-64-8 -> NUMBERS (✓)\n",
      "  8000  70% (   1m 9s)   0.503   |   1.10: ) -> PLAIN (✗ NOT_CHANGED)\n",
      "  9000  80% (  1m 19s)   0.443   |   0.05: # -> VERBATIM (✓)\n",
      " 10000  90% (  1m 29s)   0.419   |   1.57: Quebec -> ELECTRONIC (✗ NOT_CHANGED)\n",
      " 11000 100% (  1m 40s)   0.404   |   0.03: D. R. -> LETTERS (✓)\n"
     ]
    }
   ],
   "source": [
    "train_iterations(n_iters=10000, lr=0.0001, print_every=1000)"
   ]
  },
  {
   "cell_type": "code",
   "execution_count": 41,
   "metadata": {},
   "outputs": [
    {
     "name": "stdout",
     "output_type": "stream",
     "text": [
      " 21000  11% (  1m 41s)   0.242   |   1.32: OK -> LETTERS (✗ PLAIN)\n",
      " 31000  22% (  3m 23s)   0.178   |   0.02: brewery -> NOT_CHANGED (✓)\n",
      " 41000  34% (   5m 4s)   0.167   |   0.03: US -> LETTERS (✓)\n",
      "Saved model to data/models/category_6_mod_data_common_words/50000_(CategorizeRNN)\n",
      "Accuracy: 96.36% (    9636/   10000)\n",
      " 51000  45% (  7m 17s)   0.092   |   0.01: vol -> PLAIN (✓)\n",
      " 61000  56% (  8m 58s)   0.102   |   0.00: D. -> LETTERS (✓)\n",
      " 71000  67% ( 10m 39s)   0.090   |   0.00: K.J. -> LETTERS (✓)\n",
      " 81000  79% ( 12m 21s)   0.079   |   0.02: SS -> LETTERS (✓)\n",
      " 91000  90% (  14m 3s)   0.087   |   0.00: E. -> LETTERS (✓)\n",
      "Saved model to data/models/category_6_mod_data_common_words/100000_(CategorizeRNN)\n",
      "Accuracy: 97.78% (    9778/   10000)\n"
     ]
    }
   ],
   "source": [
    "train_iterations(n_iters=89000, print_every=10000)"
   ]
  },
  {
   "cell_type": "code",
   "execution_count": 42,
   "metadata": {},
   "outputs": [
    {
     "name": "stdout",
     "output_type": "stream",
     "text": [
      "    LETTERS -> NOT_CHANGED (0.431) ||     Ipes -> i p e's == \" Lavras , Terra dos <SAMPLE> e das Escolas . \"\n",
      "    LETTERS -> NOT_CHANGED (0.621) ||     pela -> p e l a == \" Boletim Informativo Diario Eletronico ( BID E ) Relacao <SAMPLE> data 02/03/2011 \" .\n",
      "    LETTERS -> NOT_CHANGED (0.912) ||     Qwan -> q w a n == He got eaten by <SAMPLE> when fighting him .\n",
      "      PLAIN ->     LETTERS (0.985) || U.N.C.L.E. -> uncle == He also played Nigel Pennington Smythe in the TV reunion film Return of the Man from <SAMPLE> ( 1983 ) .\n",
      "    LETTERS -> NOT_CHANGED (0.994) ||     Lwow -> l w o w == Elisabeth was in <SAMPLE> , too .\n",
      "    LETTERS -> NOT_CHANGED (0.734) ||     Shus -> s h u's == Nixon and Roper's third album , 1987's Bo Day <SAMPLE> !\n",
      "      PLAIN ->     LETTERS (0.99) ||      BBQ -> barbeque == The all inclusive experience will include game tickets , patio style seating , and a 90 - minute all you can eat <SAMPLE> buffet .\n",
      "NOT_CHANGED ->     LETTERS (0.506) ||      gal -> gal == With full fuel of 70 litres ( 15 imp gal ; 18 US <SAMPLE> ) the payload is 173 kg ( 381 lb ) .\n",
      "    LETTERS -> NOT_CHANGED (0.935) ||     Cagn -> c a g n == <SAMPLE> was angry , and told Gewi to put the blood from the dead eland into a pot and churn it .\n",
      "    LETTERS -> NOT_CHANGED (0.917) ||       th -> t h == They are being measured as the n - th radical of the n - <SAMPLE> central moment .\n",
      "NOT_CHANGED ->    VERBATIM (0.986) ||        ي -> ي == Ibn Umayl , Senior Zadith , Muhammed ibn Umail at Tamimi ( Arabic : م ح م د ب ن أ م <SAMPLE> ل ا ل ت م ي م ي ) was an alchemist of the tenth century .\n"
     ]
    }
   ],
   "source": [
    "print_local_wrong_predictions()"
   ]
  },
  {
   "cell_type": "code",
   "execution_count": 43,
   "metadata": {},
   "outputs": [
    {
     "name": "stdout",
     "output_type": "stream",
     "text": [
      "110000  10% (  1m 43s)   0.063   |   0.00: PlanetMath.org -> ELECTRONIC (✓)\n",
      "120000  20% (  3m 16s)   0.080   |   0.07: : -> PLAIN (✓)\n",
      "130000  30% (  4m 49s)   0.081   |   0.00: IFC -> LETTERS (✓)\n",
      "140000  40% (  6m 22s)   0.062   |   0.00: the -> NOT_CHANGED (✓)\n",
      "150000  50% (   8m 0s)   0.047   |   0.00: & -> VERBATIM (✓)\n",
      "Saved model to data/models/category_6_mod_data_common_words/150000_(CategorizeRNN)\n",
      "Accuracy: 98.15% (    9815/   10000)\n",
      "160000  60% ( 10m 14s)   0.058   |   0.00: In -> NOT_CHANGED (✓)\n",
      "170000  70% ( 11m 50s)   0.049   |   0.00: . -> NOT_CHANGED (✓)\n",
      "180000  80% ( 13m 26s)   0.048   |   0.00: vol -> PLAIN (✓)\n",
      "190000  90% (  15m 2s)   0.073   |   0.00: 2 -> NUMBERS (✓)\n",
      "200000 100% ( 16m 36s)   0.049   |   0.00: 2001-12-05 -> NUMBERS (✓)\n",
      "Saved model to data/models/category_6_mod_data_common_words/200000_(CategorizeRNN)\n",
      "Accuracy: 98.67% (    9867/   10000)\n"
     ]
    }
   ],
   "source": [
    "train_iterations(n_iters=100000, print_every=10000)"
   ]
  },
  {
   "cell_type": "code",
   "execution_count": 44,
   "metadata": {},
   "outputs": [
    {
     "name": "stdout",
     "output_type": "stream",
     "text": [
      "    LETTERS ->       PLAIN (0.811) ||       OR -> o r == Philomath , <SAMPLE> : Bridge Media Group .\n",
      "    NUMBERS ->     LETTERS (0.866) ||       IV -> the fourth == Shaw MacDuff was made keeper of Inverness Castle , which was a strategic royal castle , by Malcolm <SAMPLE> of Scotland .\n",
      "NOT_CHANGED ->       PLAIN (0.859) || healthcare -> healthcare == Petra Letang plays <SAMPLE> assistant Adele Effanga and made her first appearance in series 16 on 14 January 2014 .\n",
      "    LETTERS -> NOT_CHANGED (0.986) ||    Tsayt -> t s a y t == Di <SAMPLE> was founded on the initiative of Nachman Syrkin and other champions of the Poale Zion .\n",
      "      PLAIN ->     LETTERS (0.517) ||       sr -> senior == The last <SAMPLE> 1 to be equipped with bogies allowing 160 km/h was number 3107 .\n",
      "NOT_CHANGED ->    VERBATIM (0.993) ||        ม -> ม == Mahidol University Salaya Campus Stadium ( Thai : ส น า ม <SAMPLE> .\n",
      "    LETTERS -> NOT_CHANGED (0.998) ||    folgt -> f o l g t == \" Veh <SAMPLE> auf Meister Magath \" ( in German ) .\n",
      "    LETTERS -> NOT_CHANGED (0.985) ||    Tsayt -> t s a y t == Di <SAMPLE> was founded on the initiative of Nachman Syrkin and other champions of the Poale Zion .\n",
      "      PLAIN ->     LETTERS (0.691) ||       NO -> nitrogen monoxide == \" WOT , <SAMPLE> CATTLE !\n",
      "NOT_CHANGED ->     LETTERS (0.91) ||     Cebu -> Cebu == San Isidro Labrador Parish , Mantalongon , Barili , <SAMPLE> 60363 .\n",
      "NOT_CHANGED ->     LETTERS (0.602) ||     Rosa -> Rosa == Dalfo E , Barrachina M , <SAMPLE> JL et al .\n"
     ]
    }
   ],
   "source": [
    "print_local_wrong_predictions()"
   ]
  },
  {
   "cell_type": "code",
   "execution_count": 49,
   "metadata": {},
   "outputs": [
    {
     "name": "stdout",
     "output_type": "stream",
     "text": [
      "210000  10% (  1m 37s)   0.027   |   0.08: ST -> PLAIN (✓)\n",
      "220000  20% (  3m 11s)   0.040   |   0.00: C.E. -> LETTERS (✓)\n",
      "230000  30% (  4m 48s)   0.032   |   0.00: theatre -> PLAIN (✓)\n",
      "240000  40% (  6m 23s)   0.070   |   0.00: st -> PLAIN (✓)\n",
      "250000  50% (   8m 2s)   0.056   |   0.00: - -> PLAIN (✓)\n",
      "Saved model to data/models/category_6_mod_data_common_words/250000_(CategorizeRNN)\n",
      "Accuracy: 98.79% (    9879/   10000)\n",
      "260000  60% ( 10m 14s)   0.031   |   0.00: 3,380 -> NUMBERS (✓)\n",
      "270000  70% ( 11m 51s)   0.032   |   0.00: other -> NOT_CHANGED (✓)\n",
      "280000  80% ( 13m 30s)   0.046   |   0.00: vol -> PLAIN (✓)\n",
      "290000  90% (  15m 8s)   0.037   |   0.00: June 27, 2011 -> NUMBERS (✓)\n",
      "300000 100% ( 16m 46s)   0.018   |   0.00: S.C. -> LETTERS (✓)\n",
      "Saved model to data/models/category_6_mod_data_common_words/300000_(CategorizeRNN)\n",
      "Accuracy: 99.01% (    9901/   10000)\n"
     ]
    }
   ],
   "source": [
    "train_iterations(n_iters=100000, lr=0.0001, print_every=10000)"
   ]
  },
  {
   "cell_type": "code",
   "execution_count": 50,
   "metadata": {},
   "outputs": [
    {
     "name": "stdout",
     "output_type": "stream",
     "text": [
      "NOT_CHANGED ->     LETTERS (0.503) ||     Knox -> Knox == It was developed by Park Place Productions , North America's largest independent development company owned by Michael <SAMPLE> and Troy Lyndon .\n",
      "NOT_CHANGED ->     LETTERS (0.471) ||      pre -> pre == The municipality is located in the Veveyse district , at the foot of the Fribourg <SAMPLE> alpine mountains ( Niremont , Les Alpettes ) .\n",
      "      PLAIN ->     LETTERS (0.417) ||      ave -> avenue == Atkinson Park located on Riverside dr West and Bridge <SAMPLE> is a 6 ( 25,000 m2 ) park .\n",
      "NOT_CHANGED ->     LETTERS (0.97) ||      I'm -> I'm == David Brown , \" Ian Tomlinson : ' See you tomorrow , Barry , if <SAMPLE> still living and breathing ' \" , The Times , 9 April 2009 .\n",
      "    LETTERS -> NOT_CHANGED (0.674) ||      det -> d e t == \" Lat <SAMPLE> ratta komma ut \" ( in Swedish ) .\n",
      "    LETTERS -> NOT_CHANGED (0.498) ||     Isan -> i s a n == <SAMPLE> ( sometimes written isan or ISAN ) are an English electronic music duo .\n",
      "NOT_CHANGED ->     LETTERS (0.81) ||      Ice -> Ice == He has also represented Canada at the <SAMPLE> Hockey World Championships .\n",
      "      PLAIN ->     LETTERS (0.716) ||       ln -> lane == The lanthanoids also form sesquipolonides of formula <SAMPLE> 2 Po 3 , which can be considered to be ionic compounds .\n",
      "      PLAIN ->     LETTERS (0.988) ||   CENTRE -> center == WINGS of EAGLES DISCOVERY <SAMPLE> .\n",
      "      PLAIN ->     LETTERS (0.893) ||       PL -> place == Badano JL , Mitsuma N , Beales <SAMPLE> , Katsanis N ( 2006 ) .\n",
      "NOT_CHANGED ->     LETTERS (0.928) ||       Ed -> Ed == Meza , <SAMPLE> ( September 18, 2006 ) .\n"
     ]
    }
   ],
   "source": [
    "print_local_wrong_predictions()"
   ]
  },
  {
   "cell_type": "code",
   "execution_count": 51,
   "metadata": {},
   "outputs": [
    {
     "name": "stdout",
     "output_type": "stream",
     "text": [
      "310000  10% (  1m 41s)   0.044   |   0.00: Kilkenny -> NOT_CHANGED (✓)\n",
      "320000  20% (  3m 19s)   0.051   |   0.00: - -> PLAIN (✓)\n",
      "330000  30% (  4m 58s)   0.067   |   0.00: DVD -> LETTERS (✓)\n",
      "340000  40% (  6m 35s)   0.043   |   0.00: - -> PLAIN (✓)\n",
      "350000  50% (  8m 12s)   0.060   |   1.21: IV -> NUMBERS (✗ LETTERS)\n",
      "Saved model to data/models/category_6_mod_data_common_words/350000_(CategorizeRNN)\n",
      "Accuracy: 98.52% (    9852/   10000)\n",
      "360000  60% ( 10m 24s)   0.038   |   0.00: Y. -> LETTERS (✓)\n",
      "370000  70% (  12m 1s)   0.037   |   0.00: 18 -> NUMBERS (✓)\n",
      "380000  80% ( 13m 41s)   0.052   |   0.00: is -> NOT_CHANGED (✓)\n",
      "390000  90% ( 15m 20s)   0.035   |   0.00: Fillet -> NOT_CHANGED (✓)\n",
      "400000 100% ( 16m 58s)   0.014   |   0.00: UK -> LETTERS (✓)\n",
      "Saved model to data/models/category_6_mod_data_common_words/400000_(CategorizeRNN)\n",
      "Accuracy: 98.86% (    9886/   10000)\n"
     ]
    }
   ],
   "source": [
    "train_iterations(n_iters=100000, lr=0.001, print_every=10000)"
   ]
  },
  {
   "cell_type": "code",
   "execution_count": 52,
   "metadata": {},
   "outputs": [
    {
     "name": "stdout",
     "output_type": "stream",
     "text": [
      "    LETTERS -> NOT_CHANGED (0.813) ||     Junr -> j u n r == One of the clauses of this Act appointed Lewis Burwell , Phil Ludwell , <SAMPLE> .\n",
      "NOT_CHANGED ->     LETTERS (0.998) || EDINBURGH -> EDINBURGH == \" FORMER FELLOWS OF THE ROYAL SOCIETY OF <SAMPLE> .\n",
      "    LETTERS -> NOT_CHANGED (0.555) ||    H'San -> h s a n == During the adventure , the teens learned that they were half alien , and their mothers were impregnated by the <SAMPLE> Natall .\n",
      "NOT_CHANGED ->       PLAIN (1.0) ||        - -> - == 1939 <SAMPLE> Salon des artistes francais , L'Album .\n",
      "NOT_CHANGED ->     LETTERS (0.559) ||       IX -> IX == In 1993 , she was among the Guests of Honor attending Wrestlemania <SAMPLE> at Caesar's Palace , las vegas nevada .\n",
      "    LETTERS -> NOT_CHANGED (0.62) ||      Sry -> s r y == \" <SAMPLE> : the master switch in mammalian sex determination \" .\n",
      "      PLAIN ->     LETTERS (0.941) ||    PbSO4 -> lead two sulphate == The naturally occurring mineral anglesite , <SAMPLE> , occurs as an oxidation product of primary lead sulfide ore , galena .\n",
      "NOT_CHANGED ->     LETTERS (0.996) ||      LEA -> LEA == Bronxville , NY : L'Editrice dell'Automobile <SAMPLE> / Herald Books .\n",
      "      PLAIN ->     LETTERS (0.965) ||      SAT -> saturday == \" The 2013 <SAMPLE> Report on College & Career Readiness \" .\n",
      "    LETTERS -> NOT_CHANGED (0.906) ||     Mrak -> m r a k == <SAMPLE> was born in san francisco california , and graduated from Campbell High School in Campbell .\n",
      "      PLAIN ->     LETTERS (0.545) ||      Cuz -> cause == \" Diva — Single by cir <SAMPLE> \" .\n"
     ]
    }
   ],
   "source": [
    "print_local_wrong_predictions()"
   ]
  },
  {
   "cell_type": "code",
   "execution_count": null,
   "metadata": {
    "collapsed": true
   },
   "outputs": [],
   "source": [
    "train_iterations(n_iters=300000, lr=0.0001, print_every=25000)"
   ]
  },
  {
   "cell_type": "code",
   "execution_count": null,
   "metadata": {
    "collapsed": true
   },
   "outputs": [],
   "source": [
    "print_local_wrong_predictions()"
   ]
  },
  {
   "cell_type": "code",
   "execution_count": null,
   "metadata": {
    "collapsed": true
   },
   "outputs": [],
   "source": [
    "train_iterations(n_iters=300000, lr=0.0001, print_every=10000)"
   ]
  },
  {
   "cell_type": "code",
   "execution_count": null,
   "metadata": {
    "collapsed": true
   },
   "outputs": [],
   "source": [
    "print_local_wrong_predictions()"
   ]
  },
  {
   "cell_type": "code",
   "execution_count": null,
   "metadata": {
    "collapsed": true
   },
   "outputs": [],
   "source": [
    "train_iterations(n_iters=300000, lr=0.00005, print_every=10000)"
   ]
  },
  {
   "cell_type": "code",
   "execution_count": null,
   "metadata": {
    "collapsed": true
   },
   "outputs": [],
   "source": [
    "print_local_wrong_predictions()"
   ]
  },
  {
   "cell_type": "code",
   "execution_count": null,
   "metadata": {
    "collapsed": true
   },
   "outputs": [],
   "source": []
  },
  {
   "cell_type": "code",
   "execution_count": null,
   "metadata": {
    "collapsed": true
   },
   "outputs": [],
   "source": []
  },
  {
   "cell_type": "code",
   "execution_count": null,
   "metadata": {
    "collapsed": true
   },
   "outputs": [],
   "source": []
  },
  {
   "cell_type": "markdown",
   "metadata": {},
   "source": [
    "# Results"
   ]
  },
  {
   "cell_type": "code",
   "execution_count": 45,
   "metadata": {},
   "outputs": [
    {
     "data": {
      "text/plain": [
       "<matplotlib.figure.Figure at 0x7ff59b7c1f60>"
      ]
     },
     "execution_count": 45,
     "metadata": {},
     "output_type": "execute_result"
    },
    {
     "data": {
      "text/plain": [
       "[<matplotlib.lines.Line2D at 0x7ff59ba626a0>]"
      ]
     },
     "execution_count": 45,
     "metadata": {},
     "output_type": "execute_result"
    },
    {
     "data": {
      "image/png": "[encoded data removed]",
      "text/plain": [
       "<matplotlib.figure.Figure at 0x7ff59b7c1f60>"
      ]
     },
     "metadata": {},
     "output_type": "display_data"
    }
   ],
   "source": [
    "plt.figure()\n",
    "plt.plot(model_training.losses)"
   ]
  },
  {
   "cell_type": "code",
   "execution_count": 46,
   "metadata": {},
   "outputs": [
    {
     "data": {
      "text/plain": [
       "<matplotlib.figure.Figure at 0x7ff59ba62eb8>"
      ]
     },
     "execution_count": 46,
     "metadata": {},
     "output_type": "execute_result"
    },
    {
     "data": {
      "text/plain": [
       "[<matplotlib.lines.Line2D at 0x7ff59b0f7550>]"
      ]
     },
     "execution_count": 46,
     "metadata": {},
     "output_type": "execute_result"
    },
    {
     "data": {
      "image/png": "[encoded data removed]",
      "text/plain": [
       "<matplotlib.figure.Figure at 0x7ff59ba62eb8>"
      ]
     },
     "metadata": {},
     "output_type": "display_data"
    }
   ],
   "source": [
    "plt.figure()\n",
    "plt.plot(model_training.accuracy)"
   ]
  },
  {
   "cell_type": "code",
   "execution_count": 47,
   "metadata": {},
   "outputs": [
    {
     "data": {
      "image/png": "[encoded data removed]",
      "text/plain": [
       "<matplotlib.figure.Figure at 0x7ff59b1e1668>"
      ]
     },
     "metadata": {},
     "output_type": "display_data"
    },
    {
     "name": "stdout",
     "output_type": "stream",
     "text": [
      "Accuracy: 98.56% (   49281/   50000)\n",
      "CPU times: user 10min 53s, sys: 4.02 s, total: 10min 57s\n",
      "Wall time: 2min 45s\n"
     ]
    }
   ],
   "source": [
    "%%time\n",
    "plot_category_confusion_matrix(model, categories_all, test_model_single_sample, n_confusion=50000)"
   ]
  },
  {
   "cell_type": "code",
   "execution_count": 48,
   "metadata": {},
   "outputs": [
    {
     "data": {
      "image/png": "[encoded data removed]",
      "text/plain": [
       "<matplotlib.figure.Figure at 0x7ff59cc6a9e8>"
      ]
     },
     "metadata": {},
     "output_type": "display_data"
    },
    {
     "name": "stdout",
     "output_type": "stream",
     "text": [
      "Accuracy: 98.65% (   49324/   50000)\n",
      "CPU times: user 10min 49s, sys: 4.19 s, total: 10min 53s\n",
      "Wall time: 2min 44s\n"
     ]
    }
   ],
   "source": [
    "%%time\n",
    "plot_category_confusion_matrix(model, categories_all, test_model_single_sample,\n",
    "                               n_confusion=50000, remove_diagonal=True)"
   ]
  },
  {
   "cell_type": "code",
   "execution_count": 53,
   "metadata": {},
   "outputs": [
    {
     "data": {
      "image/png": "[encoded data removed]",
      "text/plain": [
       "<matplotlib.figure.Figure at 0x7ff590224208>"
      ]
     },
     "metadata": {},
     "output_type": "display_data"
    },
    {
     "name": "stdout",
     "output_type": "stream",
     "text": [
      "Accuracy: 98.77% (   49386/   50000)\n",
      "CPU times: user 12min 30s, sys: 5.68 s, total: 12min 35s\n",
      "Wall time: 3min 18s\n"
     ]
    }
   ],
   "source": [
    "%%time\n",
    "plot_category_confusion_matrix(model, categories_all, test_model_single_sample,\n",
    "                               n_confusion=50000, remove_diagonal=True)"
   ]
  },
  {
   "cell_type": "code",
   "execution_count": null,
   "metadata": {
    "collapsed": true
   },
   "outputs": [],
   "source": []
  },
  {
   "cell_type": "code",
   "execution_count": null,
   "metadata": {
    "collapsed": true
   },
   "outputs": [],
   "source": []
  },
  {
   "cell_type": "code",
   "execution_count": null,
   "metadata": {
    "collapsed": true
   },
   "outputs": [],
   "source": []
  },
  {
   "cell_type": "code",
   "execution_count": null,
   "metadata": {
    "collapsed": true
   },
   "outputs": [],
   "source": []
  },
  {
   "cell_type": "code",
   "execution_count": null,
   "metadata": {
    "collapsed": true
   },
   "outputs": [],
   "source": []
  }
 ],
 "metadata": {
  "anaconda-cloud": {},
  "kernelspec": {
   "display_name": "Python [conda env:py3_pytorch_2]",
   "language": "python",
   "name": "conda-env-py3_pytorch_2-py"
  },
  "language_info": {
   "codemirror_mode": {
    "name": "ipython",
    "version": 3
   },
   "file_extension": ".py",
   "mimetype": "text/x-python",
   "name": "python",
   "nbconvert_exporter": "python",
   "pygments_lexer": "ipython3",
   "version": "3.6.1"
  }
 },
 "nbformat": 4,
 "nbformat_minor": 2
}
