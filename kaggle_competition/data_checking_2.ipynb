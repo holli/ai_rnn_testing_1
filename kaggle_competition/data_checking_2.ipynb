{
 "cells": [
  {
   "cell_type": "code",
   "execution_count": 6,
   "metadata": {
    "scrolled": true
   },
   "outputs": [],
   "source": [
    "%matplotlib inline\n",
    "import importlib\n",
    "from pytorch_utils_oh_2 import *"
   ]
  },
  {
   "cell_type": "code",
   "execution_count": 7,
   "metadata": {
    "collapsed": true
   },
   "outputs": [],
   "source": [
    "from IPython.core.interactiveshell import InteractiveShell\n",
    "InteractiveShell.ast_node_interactivity = \"all\""
   ]
  },
  {
   "cell_type": "markdown",
   "metadata": {},
   "source": [
    "# Data loading"
   ]
  },
  {
   "cell_type": "code",
   "execution_count": 8,
   "metadata": {
    "collapsed": true
   },
   "outputs": [],
   "source": [
    "all_data_org = pd.read_csv('data/en_train_org.csv', keep_default_na=False)"
   ]
  },
  {
   "cell_type": "code",
   "execution_count": 9,
   "metadata": {},
   "outputs": [
    {
     "name": "stdout",
     "output_type": "stream",
     "text": [
      "Data rows: 9918441,  (dropped none rows: 0)\n"
     ]
    }
   ],
   "source": [
    "all_data = all_data_org.copy()\n",
    "# all_data.is_copy\n",
    "# all_data_org[pd.isnull(all_data_org['before'])][:3]\n",
    "all_data = all_data.dropna()\n",
    "print(\"Data rows: {},  (dropped none rows: {})\".format(len(all_data), len(all_data_org)-len(all_data)))"
   ]
  },
  {
   "cell_type": "code",
   "execution_count": 10,
   "metadata": {},
   "outputs": [
    {
     "data": {
      "text/plain": [
       "659793"
      ]
     },
     "execution_count": 10,
     "metadata": {},
     "output_type": "execute_result"
    }
   ],
   "source": [
    "all_data_changed = all_data[all_data['before']!=all_data['after']]\n",
    "len(all_data_changed)"
   ]
  },
  {
   "cell_type": "markdown",
   "metadata": {},
   "source": [
    "# Character handling"
   ]
  },
  {
   "cell_type": "markdown",
   "metadata": {},
   "source": [
    "### Chars that are related to changes"
   ]
  },
  {
   "cell_type": "code",
   "execution_count": 11,
   "metadata": {},
   "outputs": [
    {
     "data": {
      "text/plain": [
       "3081"
      ]
     },
     "execution_count": 11,
     "metadata": {},
     "output_type": "execute_result"
    }
   ],
   "source": [
    "tmp = sorted(list(set(all_data['before'] + all_data['after'])))\n",
    "chars_all_weird = sorted(list(set(''.join(tmp))))\n",
    "len(chars_all_weird)"
   ]
  },
  {
   "cell_type": "code",
   "execution_count": 12,
   "metadata": {},
   "outputs": [
    {
     "data": {
      "text/plain": [
       "'刃分刑刘刚创初別利制'"
      ]
     },
     "execution_count": 12,
     "metadata": {},
     "output_type": "execute_result"
    }
   ],
   "source": [
    "''.join(chars_all_weird[1000:1010])"
   ]
  },
  {
   "cell_type": "code",
   "execution_count": 13,
   "metadata": {},
   "outputs": [
    {
     "data": {
      "text/plain": [
       "154"
      ]
     },
     "execution_count": 13,
     "metadata": {},
     "output_type": "execute_result"
    },
    {
     "data": {
      "text/plain": [
       "' !\"#$%&\\'()+,-./0123456789:;=>ABCDEFGHIJKLMNOPQRSTUVWXYZ_abcdefghijklmnopqrstuvwxyz~£¥ª²³µº¼½¾×éɒʻˈΑΒΓΔΕΖΗΘΙΚΛΜΝΞΟΠΡΣΤΥΦΧΨΩαβγδεζηθικλμνξοπρςστυφχψω—€⅓⅔⅛⅝⅞'"
      ]
     },
     "execution_count": 13,
     "metadata": {},
     "output_type": "execute_result"
    }
   ],
   "source": [
    "tmp = sorted(list(set(all_data_changed['before'] + all_data_changed['after'])))\n",
    "chars_with_changes = sorted(list(set(''.join(tmp))))\n",
    "len(chars_with_changes)\n",
    "''.join(chars_with_changes)"
   ]
  },
  {
   "cell_type": "code",
   "execution_count": null,
   "metadata": {
    "collapsed": true
   },
   "outputs": [],
   "source": [
    "pickle.dump(chars_with_changes, open('data/en_features/chars_with_changes.pkl', \"wb\"))"
   ]
  },
  {
   "cell_type": "code",
   "execution_count": 11,
   "metadata": {},
   "outputs": [
    {
     "data": {
      "text/plain": [
       "True"
      ]
     },
     "execution_count": 11,
     "metadata": {},
     "output_type": "execute_result"
    }
   ],
   "source": [
    "chars_with_changes == pickle.load(open('data/en_features/chars_with_changes.pkl', \"rb\"))"
   ]
  },
  {
   "cell_type": "markdown",
   "metadata": {},
   "source": [
    "### Get chars that change allways to same thing"
   ]
  },
  {
   "cell_type": "code",
   "execution_count": null,
   "metadata": {
    "collapsed": true
   },
   "outputs": [],
   "source": [
    "cwc_unique = {} # chars with changes unique afters\n",
    "for c in chars_with_changes:\n",
    "    cwc_unique[c] = len(all_data[all_data['before'].str.contains(c, regex=False)]['after'].unique())"
   ]
  },
  {
   "cell_type": "code",
   "execution_count": null,
   "metadata": {
    "collapsed": true
   },
   "outputs": [],
   "source": [
    "chars_with_single_output = [k for k, v in cwc_unique.items() if v <= 1]\n",
    "''.join(chars_with_single_output)"
   ]
  },
  {
   "cell_type": "code",
   "execution_count": null,
   "metadata": {
    "collapsed": true
   },
   "outputs": [],
   "source": [
    "chars_with_single_output_dict = {}\n",
    "for c in chars_with_single_output:\n",
    "    tmp = all_data_changed[all_data_changed['before'].str.contains(c, regex=False)]['after'].values[0]\n",
    "    chars_with_single_output_dict[c] = tmp"
   ]
  },
  {
   "cell_type": "code",
   "execution_count": null,
   "metadata": {
    "collapsed": true
   },
   "outputs": [],
   "source": [
    "'  ||  '.join([str(k) + \" -> \" + str(v) for k, v in chars_with_single_output_dict.items()])"
   ]
  },
  {
   "cell_type": "code",
   "execution_count": null,
   "metadata": {
    "collapsed": true
   },
   "outputs": [],
   "source": [
    "all_data[all_data['before'].str.contains('+', regex=False)]"
   ]
  },
  {
   "cell_type": "code",
   "execution_count": null,
   "metadata": {
    "collapsed": true
   },
   "outputs": [],
   "source": [
    "pickle.dump(chars_with_single_output_dict, open('data/en_features/chars_with_single_output_dict.pkl', \"wb\"))"
   ]
  },
  {
   "cell_type": "code",
   "execution_count": null,
   "metadata": {
    "collapsed": true
   },
   "outputs": [],
   "source": [
    "chars_with_single_output_dict == pickle.load(open('data/en_features/chars_with_single_output_dict.pkl', \"rb\"));"
   ]
  },
  {
   "cell_type": "code",
   "execution_count": 13,
   "metadata": {
    "collapsed": true
   },
   "outputs": [],
   "source": [
    "chars_with_single_output_dict = pickle.load(open('data/en_features/chars_with_single_output_dict.pkl', \"rb\"));"
   ]
  },
  {
   "cell_type": "markdown",
   "metadata": {},
   "source": [
    "### Chars that have multiple usage"
   ]
  },
  {
   "cell_type": "code",
   "execution_count": null,
   "metadata": {
    "collapsed": true
   },
   "outputs": [],
   "source": [
    "chars_normal = set(chars_with_changes) - set(chars_with_single_output)\n",
    "chars_normal = [SOS_TOKEN, EOS_TOKEN, VERBATIM_CHAR] + sorted(list(chars_normal))\n",
    "''.join(chars_normal)\n",
    "len(chars_normal)"
   ]
  },
  {
   "cell_type": "code",
   "execution_count": null,
   "metadata": {
    "collapsed": true
   },
   "outputs": [],
   "source": [
    "pickle.dump(chars_normal, open('data/en_features/chars_normal.pkl', \"wb\"))"
   ]
  },
  {
   "cell_type": "code",
   "execution_count": 14,
   "metadata": {
    "collapsed": true
   },
   "outputs": [],
   "source": [
    "chars_normal = pickle.load(open('data/en_features/chars_normal.pkl', \"rb\"));"
   ]
  },
  {
   "cell_type": "code",
   "execution_count": null,
   "metadata": {
    "collapsed": true
   },
   "outputs": [],
   "source": []
  },
  {
   "cell_type": "markdown",
   "metadata": {
    "collapsed": true
   },
   "source": [
    "# Words"
   ]
  },
  {
   "cell_type": "code",
   "execution_count": 133,
   "metadata": {
    "collapsed": true
   },
   "outputs": [],
   "source": [
    "words_before_pd = list(all_data['before'])"
   ]
  },
  {
   "cell_type": "code",
   "execution_count": 134,
   "metadata": {},
   "outputs": [
    {
     "data": {
      "text/plain": [
       "9918441"
      ]
     },
     "execution_count": 134,
     "metadata": {},
     "output_type": "execute_result"
    }
   ],
   "source": [
    "len(words_before_pd)"
   ]
  },
  {
   "cell_type": "code",
   "execution_count": 135,
   "metadata": {},
   "outputs": [
    {
     "name": "stdout",
     "output_type": "stream",
     "text": [
      "CPU times: user 1min 44s, sys: 15.9 s, total: 2min\n",
      "Wall time: 2min 58s\n"
     ]
    }
   ],
   "source": [
    "%%time\n",
    "words_before = np.concatenate([simple_tokeniser(sent) for sent in words_before_pd])"
   ]
  },
  {
   "cell_type": "code",
   "execution_count": 136,
   "metadata": {},
   "outputs": [
    {
     "data": {
      "text/plain": [
       "array(['brillantaisia', 'is', 'a', 'genus', 'of', 'plant', 'in', 'family',\n",
       "       'acanthaceae', '.'], \n",
       "      dtype='<U323')"
      ]
     },
     "execution_count": 136,
     "metadata": {},
     "output_type": "execute_result"
    }
   ],
   "source": [
    "words_before[0:10]"
   ]
  },
  {
   "cell_type": "code",
   "execution_count": 137,
   "metadata": {},
   "outputs": [
    {
     "data": {
      "text/plain": [
       "10437549"
      ]
     },
     "execution_count": 137,
     "metadata": {},
     "output_type": "execute_result"
    },
    {
     "data": {
      "text/plain": [
       "353961"
      ]
     },
     "execution_count": 137,
     "metadata": {},
     "output_type": "execute_result"
    }
   ],
   "source": [
    "len(words_before)\n",
    "len(set(words_before))"
   ]
  },
  {
   "cell_type": "code",
   "execution_count": 138,
   "metadata": {
    "collapsed": true
   },
   "outputs": [],
   "source": [
    "words_before_all_index = {}\n",
    "for w in words_before:\n",
    "    words_before_all_index[w] = words_before_index.get(w, 0) + 1"
   ]
  },
  {
   "cell_type": "code",
   "execution_count": 153,
   "metadata": {},
   "outputs": [
    {
     "data": {
      "text/plain": [
       "10437549"
      ]
     },
     "execution_count": 153,
     "metadata": {},
     "output_type": "execute_result"
    },
    {
     "data": {
      "text/plain": [
       "353961"
      ]
     },
     "execution_count": 153,
     "metadata": {},
     "output_type": "execute_result"
    }
   ],
   "source": [
    "sum(words_before_all_index.values())\n",
    "len(words_before_all_index)"
   ]
  },
  {
   "cell_type": "code",
   "execution_count": 140,
   "metadata": {
    "collapsed": true
   },
   "outputs": [],
   "source": [
    "del(words_before_pd)\n",
    "del(words_before)"
   ]
  },
  {
   "cell_type": "code",
   "execution_count": 148,
   "metadata": {
    "collapsed": true
   },
   "outputs": [],
   "source": [
    "pickle.dump(words_before_all_index, open(\"data/en_features/words_before_all_index.pkl\", \"wb\"))"
   ]
  },
  {
   "cell_type": "code",
   "execution_count": null,
   "metadata": {
    "collapsed": true
   },
   "outputs": [],
   "source": []
  },
  {
   "cell_type": "code",
   "execution_count": 191,
   "metadata": {},
   "outputs": [
    {
     "name": "stdout",
     "output_type": "stream",
     "text": [
      "    1: 97.94% (words: 139150)\n",
      "    5: 95.66% (words: 53627)\n",
      "   10: 94.32% (words: 35103)\n",
      "   50: 89.40% (words: 12210)\n",
      "  100: 86.15% (words: 7433)\n",
      "  250: 80.47% (words: 3680)\n",
      "  500: 74.71% (words: 1972)\n",
      " 1000: 68.12% (words: 979)\n",
      "10000: 45.61% (words: 68)\n"
     ]
    }
   ],
   "source": [
    "for i in [1, 5, 10, 50, 100, 250, 500, 1000, 10000]:\n",
    "    tmp = [v for k, v in words_before_all_index.items() if v > i]\n",
    "    print(\"{:>5d}: {:2.2%} (words: {})\".format(i,  sum(tmp)/sum(words_before_all_index.values()), len(tmp)))"
   ]
  },
  {
   "cell_type": "code",
   "execution_count": 169,
   "metadata": {},
   "outputs": [
    {
     "data": {
      "text/plain": [
       "11991"
      ]
     },
     "execution_count": 169,
     "metadata": {},
     "output_type": "execute_result"
    },
    {
     "data": {
      "text/plain": [
       "0.03387661352521888"
      ]
     },
     "execution_count": 169,
     "metadata": {},
     "output_type": "execute_result"
    }
   ],
   "source": [
    "tmp = [re.search('[0-9]', w) for w in list(words_before_index.keys())]\n",
    "tmp = len(list(filter(None, tmp)))\n",
    "tmp\n",
    "tmp / len(words_before_index) # how many percent of individual words are number related"
   ]
  },
  {
   "cell_type": "code",
   "execution_count": 192,
   "metadata": {},
   "outputs": [
    {
     "data": {
      "text/plain": [
       "353961"
      ]
     },
     "execution_count": 192,
     "metadata": {},
     "output_type": "execute_result"
    },
    {
     "data": {
      "text/plain": [
       "['.', ',', 'the', '\"', 'of', 'in', 'and', 'a', '(', ')']"
      ]
     },
     "execution_count": 192,
     "metadata": {},
     "output_type": "execute_result"
    }
   ],
   "source": [
    "words_before_common = sorted(list(words_before_index.items()), key=lambda a: -a[1])\n",
    "words_before_common = [k for k, v in words_before_common]\n",
    "len(words_before_common)\n",
    "words_before_common[0:10]"
   ]
  },
  {
   "cell_type": "code",
   "execution_count": 193,
   "metadata": {
    "collapsed": true
   },
   "outputs": [],
   "source": [
    "pickle.dump(words_before_common, open(\"data/en_features/words_before_all.pkl\", \"wb\"))"
   ]
  },
  {
   "cell_type": "code",
   "execution_count": 194,
   "metadata": {
    "collapsed": true
   },
   "outputs": [],
   "source": [
    "pickle.dump(words_before_common[0:10000], open(\"data/en_features/words_before_10k.pkl\", \"wb\"))"
   ]
  },
  {
   "cell_type": "code",
   "execution_count": 196,
   "metadata": {},
   "outputs": [
    {
     "data": {
      "text/plain": [
       "594"
      ]
     },
     "execution_count": 196,
     "metadata": {},
     "output_type": "execute_result"
    },
    {
     "data": {
      "text/plain": [
       "0.0016781509827353861"
      ]
     },
     "execution_count": 196,
     "metadata": {},
     "output_type": "execute_result"
    }
   ],
   "source": [
    "tmp = [re.search('[0-9]', w) for w in words_before_common[0:10000]]\n",
    "tmp = len(list(filter(None, tmp)))\n",
    "tmp\n",
    "tmp / len(words_before_index) # how many percent of individual words are number related in 10k most common"
   ]
  },
  {
   "cell_type": "code",
   "execution_count": 204,
   "metadata": {
    "collapsed": true
   },
   "outputs": [],
   "source": [
    "common_words_dict = dict((c, i) for i, c in enumerate(words_before_common[0:8192]))"
   ]
  },
  {
   "cell_type": "code",
   "execution_count": 209,
   "metadata": {},
   "outputs": [
    {
     "data": {
      "text/plain": [
       "2"
      ]
     },
     "execution_count": 209,
     "metadata": {},
     "output_type": "execute_result"
    }
   ],
   "source": [
    "common_words_dict['the']"
   ]
  },
  {
   "cell_type": "markdown",
   "metadata": {},
   "source": [
    "# Replace verbatim infos"
   ]
  },
  {
   "cell_type": "code",
   "execution_count": 5,
   "metadata": {},
   "outputs": [
    {
     "data": {
      "text/plain": [
       "'☒'"
      ]
     },
     "execution_count": 5,
     "metadata": {},
     "output_type": "execute_result"
    }
   ],
   "source": [
    "VERBATIM_CHAR"
   ]
  },
  {
   "cell_type": "code",
   "execution_count": 220,
   "metadata": {},
   "outputs": [
    {
     "data": {
      "text/plain": [
       "9002"
      ]
     },
     "execution_count": 220,
     "metadata": {},
     "output_type": "execute_result"
    },
    {
     "data": {
      "text/plain": [
       "69106"
      ]
     },
     "execution_count": 220,
     "metadata": {},
     "output_type": "execute_result"
    }
   ],
   "source": [
    "len(all_data[(all_data['class'] == 'VERBATIM') & (all_data['before'].str.len() > 1)])\n",
    "len(all_data[(all_data['class'] == 'VERBATIM') & (all_data['before'].str.len() <= 1)])"
   ]
  },
  {
   "cell_type": "markdown",
   "metadata": {},
   "source": [
    "### Change only number verbatim to numbers"
   ]
  },
  {
   "cell_type": "code",
   "execution_count": 222,
   "metadata": {},
   "outputs": [
    {
     "data": {
      "text/plain": [
       "21"
      ]
     },
     "execution_count": 222,
     "metadata": {},
     "output_type": "execute_result"
    },
    {
     "data": {
      "text/html": [
       "<div>\n",
       "<style>\n",
       "    .dataframe thead tr:only-child th {\n",
       "        text-align: right;\n",
       "    }\n",
       "\n",
       "    .dataframe thead th {\n",
       "        text-align: left;\n",
       "    }\n",
       "\n",
       "    .dataframe tbody tr th {\n",
       "        vertical-align: top;\n",
       "    }\n",
       "</style>\n",
       "<table border=\"1\" class=\"dataframe\">\n",
       "  <thead>\n",
       "    <tr style=\"text-align: right;\">\n",
       "      <th></th>\n",
       "      <th>sentence_id</th>\n",
       "      <th>token_id</th>\n",
       "      <th>class</th>\n",
       "      <th>before</th>\n",
       "      <th>after</th>\n",
       "    </tr>\n",
       "  </thead>\n",
       "  <tbody>\n",
       "    <tr>\n",
       "      <th>909252</th>\n",
       "      <td>72266</td>\n",
       "      <td>5</td>\n",
       "      <td>VERBATIM</td>\n",
       "      <td>28640</td>\n",
       "      <td>two eight six four o</td>\n",
       "    </tr>\n",
       "    <tr>\n",
       "      <th>4599546</th>\n",
       "      <td>352345</td>\n",
       "      <td>9</td>\n",
       "      <td>VERBATIM</td>\n",
       "      <td>10017</td>\n",
       "      <td>one o o one seven</td>\n",
       "    </tr>\n",
       "  </tbody>\n",
       "</table>\n",
       "</div>"
      ],
      "text/plain": [
       "         sentence_id  token_id     class before                 after\n",
       "909252         72266         5  VERBATIM  28640  two eight six four o\n",
       "4599546       352345         9  VERBATIM  10017     one o o one seven"
      ]
     },
     "execution_count": 222,
     "metadata": {},
     "output_type": "execute_result"
    }
   ],
   "source": [
    "verb_numbers = (all_data['class'] == 'VERBATIM') & all_data['before'].str.contains('^[0-9]')\n",
    "len(all_data.loc[verb_numbers])\n",
    "all_data.loc[verb_numbers].sample(2)"
   ]
  },
  {
   "cell_type": "code",
   "execution_count": 224,
   "metadata": {
    "collapsed": true
   },
   "outputs": [],
   "source": [
    "all_data.loc[verb_numbers, 'class'] = 'NUMBERS'"
   ]
  },
  {
   "cell_type": "code",
   "execution_count": 226,
   "metadata": {},
   "outputs": [
    {
     "data": {
      "text/plain": [
       "0"
      ]
     },
     "execution_count": 226,
     "metadata": {},
     "output_type": "execute_result"
    }
   ],
   "source": [
    "len(all_data[(all_data['class'] == 'VERBATIM') & all_data['before'].str.contains('^[0-9]')])"
   ]
  },
  {
   "cell_type": "markdown",
   "metadata": {},
   "source": [
    "### Remove verbatin data starting with '.', more errors than success"
   ]
  },
  {
   "cell_type": "code",
   "execution_count": 228,
   "metadata": {
    "collapsed": true
   },
   "outputs": [],
   "source": [
    "verb_data = all_data[all_data['class'] == 'VERBATIM']"
   ]
  },
  {
   "cell_type": "code",
   "execution_count": 237,
   "metadata": {},
   "outputs": [
    {
     "data": {
      "text/html": [
       "<div>\n",
       "<style>\n",
       "    .dataframe thead tr:only-child th {\n",
       "        text-align: right;\n",
       "    }\n",
       "\n",
       "    .dataframe thead th {\n",
       "        text-align: left;\n",
       "    }\n",
       "\n",
       "    .dataframe tbody tr th {\n",
       "        vertical-align: top;\n",
       "    }\n",
       "</style>\n",
       "<table border=\"1\" class=\"dataframe\">\n",
       "  <thead>\n",
       "    <tr style=\"text-align: right;\">\n",
       "      <th></th>\n",
       "      <th>sentence_id</th>\n",
       "      <th>token_id</th>\n",
       "      <th>class</th>\n",
       "      <th>before</th>\n",
       "      <th>after</th>\n",
       "    </tr>\n",
       "  </thead>\n",
       "  <tbody>\n",
       "    <tr>\n",
       "      <th>4021585</th>\n",
       "      <td>308922</td>\n",
       "      <td>6</td>\n",
       "      <td>VERBATIM</td>\n",
       "      <td>.7.2</td>\n",
       "      <td>dot s e v e n dot t w o</td>\n",
       "    </tr>\n",
       "    <tr>\n",
       "      <th>1673641</th>\n",
       "      <td>130959</td>\n",
       "      <td>11</td>\n",
       "      <td>VERBATIM</td>\n",
       "      <td>.3.2</td>\n",
       "      <td>dot t h r e e dot t w o</td>\n",
       "    </tr>\n",
       "    <tr>\n",
       "      <th>209388</th>\n",
       "      <td>16889</td>\n",
       "      <td>19</td>\n",
       "      <td>VERBATIM</td>\n",
       "      <td>.2.100</td>\n",
       "      <td>dot t w o dot o n e o o</td>\n",
       "    </tr>\n",
       "    <tr>\n",
       "      <th>71951</th>\n",
       "      <td>5790</td>\n",
       "      <td>8</td>\n",
       "      <td>VERBATIM</td>\n",
       "      <td>.5.11</td>\n",
       "      <td>dot f i v e dot o n e o n e</td>\n",
       "    </tr>\n",
       "    <tr>\n",
       "      <th>9130697</th>\n",
       "      <td>689612</td>\n",
       "      <td>12</td>\n",
       "      <td>VERBATIM</td>\n",
       "      <td>.5-inch</td>\n",
       "      <td>dot f i v e d a s h i n c h</td>\n",
       "    </tr>\n",
       "    <tr>\n",
       "      <th>2478798</th>\n",
       "      <td>192469</td>\n",
       "      <td>5</td>\n",
       "      <td>VERBATIM</td>\n",
       "      <td>.6-mile</td>\n",
       "      <td>dot s i x d a s h m i l e</td>\n",
       "    </tr>\n",
       "    <tr>\n",
       "      <th>1169870</th>\n",
       "      <td>92344</td>\n",
       "      <td>2</td>\n",
       "      <td>VERBATIM</td>\n",
       "      <td>.0.0</td>\n",
       "      <td>dot o dot o</td>\n",
       "    </tr>\n",
       "    <tr>\n",
       "      <th>8924801</th>\n",
       "      <td>674392</td>\n",
       "      <td>17</td>\n",
       "      <td>VERBATIM</td>\n",
       "      <td>.4.3</td>\n",
       "      <td>dot f o u r dot t h r e e</td>\n",
       "    </tr>\n",
       "    <tr>\n",
       "      <th>7696417</th>\n",
       "      <td>583436</td>\n",
       "      <td>4</td>\n",
       "      <td>VERBATIM</td>\n",
       "      <td>.5-Inch</td>\n",
       "      <td>dot f i v e d a s h i n c h</td>\n",
       "    </tr>\n",
       "    <tr>\n",
       "      <th>4935763</th>\n",
       "      <td>377489</td>\n",
       "      <td>3</td>\n",
       "      <td>VERBATIM</td>\n",
       "      <td>.1-Mb</td>\n",
       "      <td>dot o n e d a s h m b</td>\n",
       "    </tr>\n",
       "  </tbody>\n",
       "</table>\n",
       "</div>"
      ],
      "text/plain": [
       "         sentence_id  token_id     class   before                        after\n",
       "4021585       308922         6  VERBATIM     .7.2      dot s e v e n dot t w o\n",
       "1673641       130959        11  VERBATIM     .3.2      dot t h r e e dot t w o\n",
       "209388         16889        19  VERBATIM   .2.100      dot t w o dot o n e o o\n",
       "71951           5790         8  VERBATIM    .5.11  dot f i v e dot o n e o n e\n",
       "9130697       689612        12  VERBATIM  .5-inch  dot f i v e d a s h i n c h\n",
       "2478798       192469         5  VERBATIM  .6-mile    dot s i x d a s h m i l e\n",
       "1169870        92344         2  VERBATIM     .0.0                  dot o dot o\n",
       "8924801       674392        17  VERBATIM     .4.3    dot f o u r dot t h r e e\n",
       "7696417       583436         4  VERBATIM  .5-Inch  dot f i v e d a s h i n c h\n",
       "4935763       377489         3  VERBATIM    .1-Mb        dot o n e d a s h m b"
      ]
     },
     "execution_count": 237,
     "metadata": {},
     "output_type": "execute_result"
    },
    {
     "data": {
      "text/plain": [
       "249"
      ]
     },
     "execution_count": 237,
     "metadata": {},
     "output_type": "execute_result"
    }
   ],
   "source": [
    "verb_data[verb_data['before'].str.contains('^\\.')].sample(10)\n",
    "len(verb_data[verb_data['before'].str.contains('^\\.')])"
   ]
  },
  {
   "cell_type": "code",
   "execution_count": 238,
   "metadata": {},
   "outputs": [
    {
     "data": {
      "text/html": [
       "<div>\n",
       "<style>\n",
       "    .dataframe thead tr:only-child th {\n",
       "        text-align: right;\n",
       "    }\n",
       "\n",
       "    .dataframe thead th {\n",
       "        text-align: left;\n",
       "    }\n",
       "\n",
       "    .dataframe tbody tr th {\n",
       "        vertical-align: top;\n",
       "    }\n",
       "</style>\n",
       "<table border=\"1\" class=\"dataframe\">\n",
       "  <thead>\n",
       "    <tr style=\"text-align: right;\">\n",
       "      <th></th>\n",
       "      <th>sentence_id</th>\n",
       "      <th>token_id</th>\n",
       "      <th>class</th>\n",
       "      <th>before</th>\n",
       "      <th>after</th>\n",
       "    </tr>\n",
       "  </thead>\n",
       "  <tbody>\n",
       "    <tr>\n",
       "      <th>1274058</th>\n",
       "      <td>100316</td>\n",
       "      <td>11</td>\n",
       "      <td>VERBATIM</td>\n",
       "      <td>.0.3</td>\n",
       "      <td>dot o dot t h r e e</td>\n",
       "    </tr>\n",
       "    <tr>\n",
       "      <th>4127746</th>\n",
       "      <td>316925</td>\n",
       "      <td>5</td>\n",
       "      <td>VERBATIM</td>\n",
       "      <td>.0-mile</td>\n",
       "      <td>dot o d a s h m i l e</td>\n",
       "    </tr>\n",
       "    <tr>\n",
       "      <th>776061</th>\n",
       "      <td>61820</td>\n",
       "      <td>18</td>\n",
       "      <td>VERBATIM</td>\n",
       "      <td>.6.2p</td>\n",
       "      <td>dot s i x dot t w o p</td>\n",
       "    </tr>\n",
       "    <tr>\n",
       "      <th>7537703</th>\n",
       "      <td>571528</td>\n",
       "      <td>6</td>\n",
       "      <td>VERBATIM</td>\n",
       "      <td>.9.88</td>\n",
       "      <td>dot n i n e dot e i g h t e i g h t</td>\n",
       "    </tr>\n",
       "    <tr>\n",
       "      <th>7296864</th>\n",
       "      <td>553525</td>\n",
       "      <td>16</td>\n",
       "      <td>VERBATIM</td>\n",
       "      <td>.1.5</td>\n",
       "      <td>dot o n e dot f i v e</td>\n",
       "    </tr>\n",
       "  </tbody>\n",
       "</table>\n",
       "</div>"
      ],
      "text/plain": [
       "         sentence_id  token_id     class   before  \\\n",
       "1274058       100316        11  VERBATIM     .0.3   \n",
       "4127746       316925         5  VERBATIM  .0-mile   \n",
       "776061         61820        18  VERBATIM    .6.2p   \n",
       "7537703       571528         6  VERBATIM    .9.88   \n",
       "7296864       553525        16  VERBATIM     .1.5   \n",
       "\n",
       "                                       after  \n",
       "1274058                  dot o dot t h r e e  \n",
       "4127746                dot o d a s h m i l e  \n",
       "776061                 dot s i x dot t w o p  \n",
       "7537703  dot n i n e dot e i g h t e i g h t  \n",
       "7296864                dot o n e dot f i v e  "
      ]
     },
     "execution_count": 238,
     "metadata": {},
     "output_type": "execute_result"
    },
    {
     "data": {
      "text/plain": [
       "249"
      ]
     },
     "execution_count": 238,
     "metadata": {},
     "output_type": "execute_result"
    }
   ],
   "source": [
    "all_data[(all_data['class']=='VERBATIM') & all_data['before'].str.contains('^\\.')].sample(5)\n",
    "len(all_data[(all_data['class']=='VERBATIM') & all_data['before'].str.contains('^\\.')])"
   ]
  },
  {
   "cell_type": "code",
   "execution_count": 239,
   "metadata": {
    "collapsed": true,
    "scrolled": true
   },
   "outputs": [],
   "source": [
    "all_data = all_data[~((all_data['class']=='VERBATIM') & all_data['before'].str.contains('^\\.'))]"
   ]
  },
  {
   "cell_type": "code",
   "execution_count": 240,
   "metadata": {},
   "outputs": [
    {
     "data": {
      "text/plain": [
       "0"
      ]
     },
     "execution_count": 240,
     "metadata": {},
     "output_type": "execute_result"
    }
   ],
   "source": [
    "len(all_data[(all_data['class']=='VERBATIM') & all_data['before'].str.contains('^\\.')])"
   ]
  },
  {
   "cell_type": "code",
   "execution_count": 241,
   "metadata": {},
   "outputs": [
    {
     "name": "stdout",
     "output_type": "stream",
     "text": [
      "Dropped stupid verbatim infos: 249\n"
     ]
    }
   ],
   "source": [
    "print(\"Dropped stupid verbatim infos:\", len(all_data_org)-len(all_data))"
   ]
  },
  {
   "cell_type": "code",
   "execution_count": 242,
   "metadata": {
    "collapsed": true
   },
   "outputs": [],
   "source": [
    "all_data = all_data.copy()"
   ]
  },
  {
   "cell_type": "markdown",
   "metadata": {},
   "source": [
    "### Change long verbatim to letters"
   ]
  },
  {
   "cell_type": "code",
   "execution_count": 243,
   "metadata": {},
   "outputs": [
    {
     "data": {
      "text/plain": [
       "8732"
      ]
     },
     "execution_count": 243,
     "metadata": {},
     "output_type": "execute_result"
    },
    {
     "data": {
      "text/html": [
       "<div>\n",
       "<style>\n",
       "    .dataframe thead tr:only-child th {\n",
       "        text-align: right;\n",
       "    }\n",
       "\n",
       "    .dataframe thead th {\n",
       "        text-align: left;\n",
       "    }\n",
       "\n",
       "    .dataframe tbody tr th {\n",
       "        vertical-align: top;\n",
       "    }\n",
       "</style>\n",
       "<table border=\"1\" class=\"dataframe\">\n",
       "  <thead>\n",
       "    <tr style=\"text-align: right;\">\n",
       "      <th></th>\n",
       "      <th>sentence_id</th>\n",
       "      <th>token_id</th>\n",
       "      <th>class</th>\n",
       "      <th>before</th>\n",
       "      <th>after</th>\n",
       "    </tr>\n",
       "  </thead>\n",
       "  <tbody>\n",
       "    <tr>\n",
       "      <th>1659990</th>\n",
       "      <td>129916</td>\n",
       "      <td>5</td>\n",
       "      <td>VERBATIM</td>\n",
       "      <td>pp</td>\n",
       "      <td>p p</td>\n",
       "    </tr>\n",
       "    <tr>\n",
       "      <th>2898210</th>\n",
       "      <td>224182</td>\n",
       "      <td>18</td>\n",
       "      <td>VERBATIM</td>\n",
       "      <td>cf</td>\n",
       "      <td>c f</td>\n",
       "    </tr>\n",
       "    <tr>\n",
       "      <th>5723150</th>\n",
       "      <td>436510</td>\n",
       "      <td>7</td>\n",
       "      <td>VERBATIM</td>\n",
       "      <td>pp</td>\n",
       "      <td>p p</td>\n",
       "    </tr>\n",
       "    <tr>\n",
       "      <th>6702311</th>\n",
       "      <td>509276</td>\n",
       "      <td>14</td>\n",
       "      <td>VERBATIM</td>\n",
       "      <td>NCp</td>\n",
       "      <td>n c p</td>\n",
       "    </tr>\n",
       "    <tr>\n",
       "      <th>3414274</th>\n",
       "      <td>263194</td>\n",
       "      <td>7</td>\n",
       "      <td>VERBATIM</td>\n",
       "      <td>pp</td>\n",
       "      <td>p p</td>\n",
       "    </tr>\n",
       "  </tbody>\n",
       "</table>\n",
       "</div>"
      ],
      "text/plain": [
       "         sentence_id  token_id     class before  after\n",
       "1659990       129916         5  VERBATIM     pp    p p\n",
       "2898210       224182        18  VERBATIM     cf    c f\n",
       "5723150       436510         7  VERBATIM     pp    p p\n",
       "6702311       509276        14  VERBATIM    NCp  n c p\n",
       "3414274       263194         7  VERBATIM     pp    p p"
      ]
     },
     "execution_count": 243,
     "metadata": {},
     "output_type": "execute_result"
    }
   ],
   "source": [
    "verb_letters = (all_data['class'] == 'VERBATIM') & (all_data['before'].str.len() > 1)\n",
    "len(all_data.loc[verb_letters])\n",
    "all_data.loc[verb_letters].sample(5)"
   ]
  },
  {
   "cell_type": "code",
   "execution_count": 244,
   "metadata": {
    "collapsed": true
   },
   "outputs": [],
   "source": [
    "chars_with_no_changes_re = re.compile(\"[^{}]\".format(''.join(chars_with_changes)))"
   ]
  },
  {
   "cell_type": "code",
   "execution_count": 246,
   "metadata": {},
   "outputs": [
    {
     "data": {
      "text/plain": [
       "'ASDFFSDA☒_/☒☒☒☒☒'"
      ]
     },
     "execution_count": 246,
     "metadata": {},
     "output_type": "execute_result"
    }
   ],
   "source": [
    "chars_with_no_changes_re.sub(VERBATIM_CHAR, \"ASDFFSDA\\_/변별병보복\")"
   ]
  },
  {
   "cell_type": "code",
   "execution_count": 250,
   "metadata": {},
   "outputs": [
    {
     "data": {
      "text/plain": [
       "0"
      ]
     },
     "execution_count": 250,
     "metadata": {},
     "output_type": "execute_result"
    },
    {
     "data": {
      "text/plain": [
       "True"
      ]
     },
     "execution_count": 250,
     "metadata": {},
     "output_type": "execute_result"
    }
   ],
   "source": [
    "tmp = len(all_data[(all_data['class'] == 'VERBATIM') & (all_data['before'].str.len() > 1) & (all_data['before'].str.contains(chars_with_no_changes_re))])\n",
    "# 0 if all longer are really letters\n",
    "tmp\n",
    "tmp == 0"
   ]
  },
  {
   "cell_type": "code",
   "execution_count": 251,
   "metadata": {
    "collapsed": true
   },
   "outputs": [],
   "source": [
    "all_data.loc[verb_letters, 'class'] = 'LETTERS'"
   ]
  },
  {
   "cell_type": "code",
   "execution_count": 252,
   "metadata": {},
   "outputs": [
    {
     "data": {
      "text/plain": [
       "0"
      ]
     },
     "execution_count": 252,
     "metadata": {},
     "output_type": "execute_result"
    }
   ],
   "source": [
    "len(all_data[(all_data['class'] == 'VERBATIM') & (all_data['before'].str.len() > 1)])"
   ]
  },
  {
   "cell_type": "markdown",
   "metadata": {},
   "source": [
    "### Check one letter verbatims, are they always the same"
   ]
  },
  {
   "cell_type": "code",
   "execution_count": 17,
   "metadata": {},
   "outputs": [
    {
     "data": {
      "text/html": [
       "<div>\n",
       "<style>\n",
       "    .dataframe thead tr:only-child th {\n",
       "        text-align: right;\n",
       "    }\n",
       "\n",
       "    .dataframe thead th {\n",
       "        text-align: left;\n",
       "    }\n",
       "\n",
       "    .dataframe tbody tr th {\n",
       "        vertical-align: top;\n",
       "    }\n",
       "</style>\n",
       "<table border=\"1\" class=\"dataframe\">\n",
       "  <thead>\n",
       "    <tr style=\"text-align: right;\">\n",
       "      <th></th>\n",
       "      <th>sentence_id</th>\n",
       "      <th>token_id</th>\n",
       "      <th>class</th>\n",
       "      <th>before</th>\n",
       "      <th>after</th>\n",
       "    </tr>\n",
       "  </thead>\n",
       "  <tbody>\n",
       "    <tr>\n",
       "      <th>7677045</th>\n",
       "      <td>581981</td>\n",
       "      <td>73</td>\n",
       "      <td>VERBATIM</td>\n",
       "      <td>о</td>\n",
       "      <td>о</td>\n",
       "    </tr>\n",
       "    <tr>\n",
       "      <th>6767106</th>\n",
       "      <td>514175</td>\n",
       "      <td>2</td>\n",
       "      <td>VERBATIM</td>\n",
       "      <td>&amp;</td>\n",
       "      <td>and</td>\n",
       "    </tr>\n",
       "  </tbody>\n",
       "</table>\n",
       "</div>"
      ],
      "text/plain": [
       "         sentence_id  token_id     class before after\n",
       "7677045       581981        73  VERBATIM      о     о\n",
       "6767106       514175         2  VERBATIM      &   and"
      ]
     },
     "execution_count": 17,
     "metadata": {},
     "output_type": "execute_result"
    }
   ],
   "source": [
    "all_data[(all_data['class'] == 'VERBATIM')].sample(2)"
   ]
  },
  {
   "cell_type": "code",
   "execution_count": 23,
   "metadata": {
    "collapsed": true
   },
   "outputs": [],
   "source": [
    "tmp = all_data[(all_data['class'] == 'VERBATIM')].groupby(['before', 'after']).count()"
   ]
  },
  {
   "cell_type": "code",
   "execution_count": 50,
   "metadata": {},
   "outputs": [
    {
     "data": {
      "text/html": [
       "<div>\n",
       "<style>\n",
       "    .dataframe thead tr:only-child th {\n",
       "        text-align: right;\n",
       "    }\n",
       "\n",
       "    .dataframe thead th {\n",
       "        text-align: left;\n",
       "    }\n",
       "\n",
       "    .dataframe tbody tr th {\n",
       "        vertical-align: top;\n",
       "    }\n",
       "</style>\n",
       "<table border=\"1\" class=\"dataframe\">\n",
       "  <thead>\n",
       "    <tr style=\"text-align: right;\">\n",
       "      <th></th>\n",
       "      <th></th>\n",
       "      <th>sentence_id</th>\n",
       "      <th>token_id</th>\n",
       "      <th>class</th>\n",
       "    </tr>\n",
       "    <tr>\n",
       "      <th>before</th>\n",
       "      <th>after</th>\n",
       "      <th></th>\n",
       "      <th></th>\n",
       "      <th></th>\n",
       "    </tr>\n",
       "  </thead>\n",
       "  <tbody>\n",
       "    <tr>\n",
       "      <th rowspan=\"2\" valign=\"top\">#</th>\n",
       "      <th>hash</th>\n",
       "      <td>74</td>\n",
       "      <td>74</td>\n",
       "      <td>74</td>\n",
       "    </tr>\n",
       "    <tr>\n",
       "      <th>number</th>\n",
       "      <td>1402</td>\n",
       "      <td>1402</td>\n",
       "      <td>1402</td>\n",
       "    </tr>\n",
       "    <tr>\n",
       "      <th>$</th>\n",
       "      <th>dollar</th>\n",
       "      <td>44</td>\n",
       "      <td>44</td>\n",
       "      <td>44</td>\n",
       "    </tr>\n",
       "    <tr>\n",
       "      <th>%</th>\n",
       "      <th>percent</th>\n",
       "      <td>24</td>\n",
       "      <td>24</td>\n",
       "      <td>24</td>\n",
       "    </tr>\n",
       "    <tr>\n",
       "      <th>&amp;</th>\n",
       "      <th>and</th>\n",
       "      <td>9684</td>\n",
       "      <td>9684</td>\n",
       "      <td>9684</td>\n",
       "    </tr>\n",
       "    <tr>\n",
       "      <th>-</th>\n",
       "      <th>-</th>\n",
       "      <td>11889</td>\n",
       "      <td>11889</td>\n",
       "      <td>11889</td>\n",
       "    </tr>\n",
       "    <tr>\n",
       "      <th>=</th>\n",
       "      <th>equals</th>\n",
       "      <td>1</td>\n",
       "      <td>1</td>\n",
       "      <td>1</td>\n",
       "    </tr>\n",
       "    <tr>\n",
       "      <th>&gt;</th>\n",
       "      <th>greater than</th>\n",
       "      <td>3</td>\n",
       "      <td>3</td>\n",
       "      <td>3</td>\n",
       "    </tr>\n",
       "    <tr>\n",
       "      <th>_</th>\n",
       "      <th>underscore</th>\n",
       "      <td>294</td>\n",
       "      <td>294</td>\n",
       "      <td>294</td>\n",
       "    </tr>\n",
       "    <tr>\n",
       "      <th>~</th>\n",
       "      <th>tilde</th>\n",
       "      <td>63</td>\n",
       "      <td>63</td>\n",
       "      <td>63</td>\n",
       "    </tr>\n",
       "    <tr>\n",
       "      <th>£</th>\n",
       "      <th>pound</th>\n",
       "      <td>1</td>\n",
       "      <td>1</td>\n",
       "      <td>1</td>\n",
       "    </tr>\n",
       "    <tr>\n",
       "      <th>ª</th>\n",
       "      <th>ª</th>\n",
       "      <td>1</td>\n",
       "      <td>1</td>\n",
       "      <td>1</td>\n",
       "    </tr>\n",
       "    <tr>\n",
       "      <th>²</th>\n",
       "      <th>squared</th>\n",
       "      <td>16</td>\n",
       "      <td>16</td>\n",
       "      <td>16</td>\n",
       "    </tr>\n",
       "    <tr>\n",
       "      <th>³</th>\n",
       "      <th>cubed</th>\n",
       "      <td>6</td>\n",
       "      <td>6</td>\n",
       "      <td>6</td>\n",
       "    </tr>\n",
       "    <tr>\n",
       "      <th>µ</th>\n",
       "      <th>micro</th>\n",
       "      <td>4</td>\n",
       "      <td>4</td>\n",
       "      <td>4</td>\n",
       "    </tr>\n",
       "    <tr>\n",
       "      <th>¹</th>\n",
       "      <th>¹</th>\n",
       "      <td>2</td>\n",
       "      <td>2</td>\n",
       "      <td>2</td>\n",
       "    </tr>\n",
       "    <tr>\n",
       "      <th>º</th>\n",
       "      <th>º</th>\n",
       "      <td>28</td>\n",
       "      <td>28</td>\n",
       "      <td>28</td>\n",
       "    </tr>\n",
       "    <tr>\n",
       "      <th>Ð</th>\n",
       "      <th>Ð</th>\n",
       "      <td>4</td>\n",
       "      <td>4</td>\n",
       "      <td>4</td>\n",
       "    </tr>\n",
       "    <tr>\n",
       "      <th>×</th>\n",
       "      <th>times</th>\n",
       "      <td>2</td>\n",
       "      <td>2</td>\n",
       "      <td>2</td>\n",
       "    </tr>\n",
       "    <tr>\n",
       "      <th>Ą</th>\n",
       "      <th>Ą</th>\n",
       "      <td>1</td>\n",
       "      <td>1</td>\n",
       "      <td>1</td>\n",
       "    </tr>\n",
       "    <tr>\n",
       "      <th>Ď</th>\n",
       "      <th>Ď</th>\n",
       "      <td>3</td>\n",
       "      <td>3</td>\n",
       "      <td>3</td>\n",
       "    </tr>\n",
       "    <tr>\n",
       "      <th>Ē</th>\n",
       "      <th>Ē</th>\n",
       "      <td>2</td>\n",
       "      <td>2</td>\n",
       "      <td>2</td>\n",
       "    </tr>\n",
       "    <tr>\n",
       "      <th>Ę</th>\n",
       "      <th>Ę</th>\n",
       "      <td>1</td>\n",
       "      <td>1</td>\n",
       "      <td>1</td>\n",
       "    </tr>\n",
       "    <tr>\n",
       "      <th>Ġ</th>\n",
       "      <th>Ġ</th>\n",
       "      <td>2</td>\n",
       "      <td>2</td>\n",
       "      <td>2</td>\n",
       "    </tr>\n",
       "    <tr>\n",
       "      <th>Ī</th>\n",
       "      <th>Ī</th>\n",
       "      <td>5</td>\n",
       "      <td>5</td>\n",
       "      <td>5</td>\n",
       "    </tr>\n",
       "    <tr>\n",
       "      <th>Į</th>\n",
       "      <th>Į</th>\n",
       "      <td>1</td>\n",
       "      <td>1</td>\n",
       "      <td>1</td>\n",
       "    </tr>\n",
       "    <tr>\n",
       "      <th>Ķ</th>\n",
       "      <th>Ķ</th>\n",
       "      <td>1</td>\n",
       "      <td>1</td>\n",
       "      <td>1</td>\n",
       "    </tr>\n",
       "    <tr>\n",
       "      <th>Ĺ</th>\n",
       "      <th>Ĺ</th>\n",
       "      <td>2</td>\n",
       "      <td>2</td>\n",
       "      <td>2</td>\n",
       "    </tr>\n",
       "    <tr>\n",
       "      <th>Ļ</th>\n",
       "      <th>Ļ</th>\n",
       "      <td>1</td>\n",
       "      <td>1</td>\n",
       "      <td>1</td>\n",
       "    </tr>\n",
       "    <tr>\n",
       "      <th>Ś</th>\n",
       "      <th>Ś</th>\n",
       "      <td>54</td>\n",
       "      <td>54</td>\n",
       "      <td>54</td>\n",
       "    </tr>\n",
       "    <tr>\n",
       "      <th>...</th>\n",
       "      <th>...</th>\n",
       "      <td>...</td>\n",
       "      <td>...</td>\n",
       "      <td>...</td>\n",
       "    </tr>\n",
       "    <tr>\n",
       "      <th>훈</th>\n",
       "      <th>훈</th>\n",
       "      <td>1</td>\n",
       "      <td>1</td>\n",
       "      <td>1</td>\n",
       "    </tr>\n",
       "    <tr>\n",
       "      <th>흡</th>\n",
       "      <th>흡</th>\n",
       "      <td>1</td>\n",
       "      <td>1</td>\n",
       "      <td>1</td>\n",
       "    </tr>\n",
       "    <tr>\n",
       "      <th>흥</th>\n",
       "      <th>흥</th>\n",
       "      <td>1</td>\n",
       "      <td>1</td>\n",
       "      <td>1</td>\n",
       "    </tr>\n",
       "    <tr>\n",
       "      <th>희</th>\n",
       "      <th>희</th>\n",
       "      <td>7</td>\n",
       "      <td>7</td>\n",
       "      <td>7</td>\n",
       "    </tr>\n",
       "    <tr>\n",
       "      <th>히</th>\n",
       "      <th>히</th>\n",
       "      <td>2</td>\n",
       "      <td>2</td>\n",
       "      <td>2</td>\n",
       "    </tr>\n",
       "    <tr>\n",
       "      <th>０</th>\n",
       "      <th>０</th>\n",
       "      <td>2</td>\n",
       "      <td>2</td>\n",
       "      <td>2</td>\n",
       "    </tr>\n",
       "    <tr>\n",
       "      <th>１</th>\n",
       "      <th>１</th>\n",
       "      <td>3</td>\n",
       "      <td>3</td>\n",
       "      <td>3</td>\n",
       "    </tr>\n",
       "    <tr>\n",
       "      <th>２</th>\n",
       "      <th>２</th>\n",
       "      <td>3</td>\n",
       "      <td>3</td>\n",
       "      <td>3</td>\n",
       "    </tr>\n",
       "    <tr>\n",
       "      <th>３</th>\n",
       "      <th>３</th>\n",
       "      <td>1</td>\n",
       "      <td>1</td>\n",
       "      <td>1</td>\n",
       "    </tr>\n",
       "    <tr>\n",
       "      <th>４</th>\n",
       "      <th>４</th>\n",
       "      <td>1</td>\n",
       "      <td>1</td>\n",
       "      <td>1</td>\n",
       "    </tr>\n",
       "    <tr>\n",
       "      <th>５</th>\n",
       "      <th>５</th>\n",
       "      <td>1</td>\n",
       "      <td>1</td>\n",
       "      <td>1</td>\n",
       "    </tr>\n",
       "    <tr>\n",
       "      <th>９</th>\n",
       "      <th>９</th>\n",
       "      <td>3</td>\n",
       "      <td>3</td>\n",
       "      <td>3</td>\n",
       "    </tr>\n",
       "    <tr>\n",
       "      <th>Ｂ</th>\n",
       "      <th>Ｂ</th>\n",
       "      <td>1</td>\n",
       "      <td>1</td>\n",
       "      <td>1</td>\n",
       "    </tr>\n",
       "    <tr>\n",
       "      <th>Ｃ</th>\n",
       "      <th>Ｃ</th>\n",
       "      <td>1</td>\n",
       "      <td>1</td>\n",
       "      <td>1</td>\n",
       "    </tr>\n",
       "    <tr>\n",
       "      <th>Ｄ</th>\n",
       "      <th>Ｄ</th>\n",
       "      <td>1</td>\n",
       "      <td>1</td>\n",
       "      <td>1</td>\n",
       "    </tr>\n",
       "    <tr>\n",
       "      <th>Ｊ</th>\n",
       "      <th>Ｊ</th>\n",
       "      <td>1</td>\n",
       "      <td>1</td>\n",
       "      <td>1</td>\n",
       "    </tr>\n",
       "    <tr>\n",
       "      <th>Ｋ</th>\n",
       "      <th>Ｋ</th>\n",
       "      <td>1</td>\n",
       "      <td>1</td>\n",
       "      <td>1</td>\n",
       "    </tr>\n",
       "    <tr>\n",
       "      <th>Ｏ</th>\n",
       "      <th>Ｏ</th>\n",
       "      <td>1</td>\n",
       "      <td>1</td>\n",
       "      <td>1</td>\n",
       "    </tr>\n",
       "    <tr>\n",
       "      <th>Ｐ</th>\n",
       "      <th>Ｐ</th>\n",
       "      <td>1</td>\n",
       "      <td>1</td>\n",
       "      <td>1</td>\n",
       "    </tr>\n",
       "    <tr>\n",
       "      <th>Ｑ</th>\n",
       "      <th>Ｑ</th>\n",
       "      <td>1</td>\n",
       "      <td>1</td>\n",
       "      <td>1</td>\n",
       "    </tr>\n",
       "    <tr>\n",
       "      <th>Ｒ</th>\n",
       "      <th>Ｒ</th>\n",
       "      <td>1</td>\n",
       "      <td>1</td>\n",
       "      <td>1</td>\n",
       "    </tr>\n",
       "    <tr>\n",
       "      <th>Ｓ</th>\n",
       "      <th>Ｓ</th>\n",
       "      <td>1</td>\n",
       "      <td>1</td>\n",
       "      <td>1</td>\n",
       "    </tr>\n",
       "    <tr>\n",
       "      <th>ｈ</th>\n",
       "      <th>ｈ</th>\n",
       "      <td>1</td>\n",
       "      <td>1</td>\n",
       "      <td>1</td>\n",
       "    </tr>\n",
       "    <tr>\n",
       "      <th>ｍ</th>\n",
       "      <th>ｍ</th>\n",
       "      <td>2</td>\n",
       "      <td>2</td>\n",
       "      <td>2</td>\n",
       "    </tr>\n",
       "    <tr>\n",
       "      <th>ｎ</th>\n",
       "      <th>ｎ</th>\n",
       "      <td>1</td>\n",
       "      <td>1</td>\n",
       "      <td>1</td>\n",
       "    </tr>\n",
       "    <tr>\n",
       "      <th>ｏ</th>\n",
       "      <th>ｏ</th>\n",
       "      <td>5</td>\n",
       "      <td>5</td>\n",
       "      <td>5</td>\n",
       "    </tr>\n",
       "    <tr>\n",
       "      <th>ｒ</th>\n",
       "      <th>ｒ</th>\n",
       "      <td>1</td>\n",
       "      <td>1</td>\n",
       "      <td>1</td>\n",
       "    </tr>\n",
       "    <tr>\n",
       "      <th>ｓ</th>\n",
       "      <th>ｓ</th>\n",
       "      <td>1</td>\n",
       "      <td>1</td>\n",
       "      <td>1</td>\n",
       "    </tr>\n",
       "    <tr>\n",
       "      <th>ｔ</th>\n",
       "      <th>ｔ</th>\n",
       "      <td>1</td>\n",
       "      <td>1</td>\n",
       "      <td>1</td>\n",
       "    </tr>\n",
       "    <tr>\n",
       "      <th>ｕ</th>\n",
       "      <th>ｕ</th>\n",
       "      <td>1</td>\n",
       "      <td>1</td>\n",
       "      <td>1</td>\n",
       "    </tr>\n",
       "  </tbody>\n",
       "</table>\n",
       "<p>2989 rows × 3 columns</p>\n",
       "</div>"
      ],
      "text/plain": [
       "                     sentence_id  token_id  class\n",
       "before after                                     \n",
       "#      hash                   74        74     74\n",
       "       number               1402      1402   1402\n",
       "$      dollar                 44        44     44\n",
       "%      percent                24        24     24\n",
       "&      and                  9684      9684   9684\n",
       "-      -                   11889     11889  11889\n",
       "=      equals                  1         1      1\n",
       ">      greater than            3         3      3\n",
       "_      underscore            294       294    294\n",
       "~      tilde                  63        63     63\n",
       "£      pound                   1         1      1\n",
       "ª      ª                       1         1      1\n",
       "²      squared                16        16     16\n",
       "³      cubed                   6         6      6\n",
       "µ      micro                   4         4      4\n",
       "¹      ¹                       2         2      2\n",
       "º      º                      28        28     28\n",
       "Ð      Ð                       4         4      4\n",
       "×      times                   2         2      2\n",
       "Ą      Ą                       1         1      1\n",
       "Ď      Ď                       3         3      3\n",
       "Ē      Ē                       2         2      2\n",
       "Ę      Ę                       1         1      1\n",
       "Ġ      Ġ                       2         2      2\n",
       "Ī      Ī                       5         5      5\n",
       "Į      Į                       1         1      1\n",
       "Ķ      Ķ                       1         1      1\n",
       "Ĺ      Ĺ                       2         2      2\n",
       "Ļ      Ļ                       1         1      1\n",
       "Ś      Ś                      54        54     54\n",
       "...                          ...       ...    ...\n",
       "훈      훈                       1         1      1\n",
       "흡      흡                       1         1      1\n",
       "흥      흥                       1         1      1\n",
       "희      희                       7         7      7\n",
       "히      히                       2         2      2\n",
       "０      ０                       2         2      2\n",
       "１      １                       3         3      3\n",
       "２      ２                       3         3      3\n",
       "３      ３                       1         1      1\n",
       "４      ４                       1         1      1\n",
       "５      ５                       1         1      1\n",
       "９      ９                       3         3      3\n",
       "Ｂ      Ｂ                       1         1      1\n",
       "Ｃ      Ｃ                       1         1      1\n",
       "Ｄ      Ｄ                       1         1      1\n",
       "Ｊ      Ｊ                       1         1      1\n",
       "Ｋ      Ｋ                       1         1      1\n",
       "Ｏ      Ｏ                       1         1      1\n",
       "Ｐ      Ｐ                       1         1      1\n",
       "Ｑ      Ｑ                       1         1      1\n",
       "Ｒ      Ｒ                       1         1      1\n",
       "Ｓ      Ｓ                       1         1      1\n",
       "ｈ      ｈ                       1         1      1\n",
       "ｍ      ｍ                       2         2      2\n",
       "ｎ      ｎ                       1         1      1\n",
       "ｏ      ｏ                       5         5      5\n",
       "ｒ      ｒ                       1         1      1\n",
       "ｓ      ｓ                       1         1      1\n",
       "ｔ      ｔ                       1         1      1\n",
       "ｕ      ｕ                       1         1      1\n",
       "\n",
       "[2989 rows x 3 columns]"
      ]
     },
     "execution_count": 50,
     "metadata": {},
     "output_type": "execute_result"
    }
   ],
   "source": [
    "tmp"
   ]
  },
  {
   "cell_type": "code",
   "execution_count": 27,
   "metadata": {
    "collapsed": true
   },
   "outputs": [],
   "source": [
    "single_char_verbatim_index = {}\n",
    "for row in tmp.itertuples():\n",
    "    arr = row.Index\n",
    "    single_char_verbatim_index[arr[0]] = arr[1]"
   ]
  },
  {
   "cell_type": "code",
   "execution_count": 40,
   "metadata": {},
   "outputs": [
    {
     "data": {
      "text/plain": [
       "[('#', 'number'), ('$', 'dollar'), ('%', 'percent'), ('&', 'and'), ('-', '-')]"
      ]
     },
     "execution_count": 40,
     "metadata": {},
     "output_type": "execute_result"
    }
   ],
   "source": [
    "list(single_char_verbatim_index.items())[0:5]"
   ]
  },
  {
   "cell_type": "code",
   "execution_count": 42,
   "metadata": {},
   "outputs": [
    {
     "data": {
      "text/plain": [
       "1402"
      ]
     },
     "execution_count": 42,
     "metadata": {},
     "output_type": "execute_result"
    },
    {
     "data": {
      "text/plain": [
       "74"
      ]
     },
     "execution_count": 42,
     "metadata": {},
     "output_type": "execute_result"
    },
    {
     "data": {
      "text/plain": [
       "9684"
      ]
     },
     "execution_count": 42,
     "metadata": {},
     "output_type": "execute_result"
    },
    {
     "data": {
      "text/plain": [
       "0"
      ]
     },
     "execution_count": 42,
     "metadata": {},
     "output_type": "execute_result"
    }
   ],
   "source": [
    "len(all_data[(all_data['before'] == '#') & (all_data['after'] == 'number')])\n",
    "len(all_data[(all_data['before'] == '#') & (all_data['after'] != 'number')])\n",
    "\n",
    "len(all_data[(all_data['before'] == '&') & (all_data['after'] == 'and')])\n",
    "len(all_data[(all_data['before'] == '&') & (all_data['after'] != 'and')])"
   ]
  },
  {
   "cell_type": "code",
   "execution_count": 49,
   "metadata": {},
   "outputs": [
    {
     "data": {
      "text/plain": [
       "1402"
      ]
     },
     "execution_count": 49,
     "metadata": {},
     "output_type": "execute_result"
    },
    {
     "data": {
      "text/plain": [
       "74"
      ]
     },
     "execution_count": 49,
     "metadata": {},
     "output_type": "execute_result"
    }
   ],
   "source": [
    "len(all_data[(all_data['before'] == '#') & (all_data['after'] == 'number') & (all_data['class'] == 'VERBATIM')])\n",
    "len(all_data[(all_data['before'] == '#') & (all_data['after'] != 'number') & (all_data['class'] == 'VERBATIM')])"
   ]
  },
  {
   "cell_type": "markdown",
   "metadata": {},
   "source": [
    "Verbatims are quite much like letters then?"
   ]
  },
  {
   "cell_type": "markdown",
   "metadata": {},
   "source": [
    "### Save modified verbatim data"
   ]
  },
  {
   "cell_type": "code",
   "execution_count": null,
   "metadata": {
    "collapsed": true
   },
   "outputs": [],
   "source": []
  },
  {
   "cell_type": "code",
   "execution_count": null,
   "metadata": {
    "collapsed": true
   },
   "outputs": [],
   "source": [
    "chars_with_single_output_dict = {}\n",
    "for c in chars_with_single_output:\n",
    "    tmp = all_data_changed[all_data_changed['before'].str.contains(c, regex=False)]['after'].values[0]\n",
    "    chars_with_single_output_dict[c] = tmp"
   ]
  },
  {
   "cell_type": "code",
   "execution_count": 254,
   "metadata": {
    "collapsed": true
   },
   "outputs": [],
   "source": [
    "all_data = all_data.reset_index(drop=True)"
   ]
  },
  {
   "cell_type": "code",
   "execution_count": 255,
   "metadata": {
    "collapsed": true
   },
   "outputs": [],
   "source": [
    "pickle.dump(all_data, open(\"data/en_train_verbatim_fixes_3.pkl\", \"wb\"))"
   ]
  },
  {
   "cell_type": "code",
   "execution_count": 15,
   "metadata": {
    "collapsed": true
   },
   "outputs": [],
   "source": [
    "all_data = pickle.load(open(\"data/en_train_verbatim_fixes_3.pkl\", \"rb\" ));"
   ]
  },
  {
   "cell_type": "code",
   "execution_count": 256,
   "metadata": {
    "collapsed": true
   },
   "outputs": [],
   "source": [
    "all_data_verb_stuff = all_data.copy()"
   ]
  },
  {
   "cell_type": "markdown",
   "metadata": {},
   "source": [
    "# Data classes simplifying"
   ]
  },
  {
   "cell_type": "code",
   "execution_count": 261,
   "metadata": {
    "collapsed": true
   },
   "outputs": [],
   "source": [
    "all_data['class_org'] = all_data['class']"
   ]
  },
  {
   "cell_type": "code",
   "execution_count": null,
   "metadata": {
    "collapsed": true
   },
   "outputs": [],
   "source": []
  },
  {
   "cell_type": "code",
   "execution_count": null,
   "metadata": {
    "collapsed": true
   },
   "outputs": [],
   "source": []
  },
  {
   "cell_type": "code",
   "execution_count": 263,
   "metadata": {
    "collapsed": true
   },
   "outputs": [],
   "source": [
    "number_classes = ['DATE','CARDINAL','MEASURE','ORDINAL','DECIMAL','MONEY', 'DIGIT', 'TELEPHONE', 'TIME', 'FRACTION', 'ADDRESS']\n",
    "all_data.loc[all_data['class'].isin(number_classes), 'class'] = 'NUMBERS'"
   ]
  },
  {
   "cell_type": "code",
   "execution_count": 267,
   "metadata": {},
   "outputs": [
    {
     "data": {
      "text/html": [
       "<div>\n",
       "<style>\n",
       "    .dataframe thead tr:only-child th {\n",
       "        text-align: right;\n",
       "    }\n",
       "\n",
       "    .dataframe thead th {\n",
       "        text-align: left;\n",
       "    }\n",
       "\n",
       "    .dataframe tbody tr th {\n",
       "        vertical-align: top;\n",
       "    }\n",
       "</style>\n",
       "<table border=\"1\" class=\"dataframe\">\n",
       "  <thead>\n",
       "    <tr style=\"text-align: right;\">\n",
       "      <th></th>\n",
       "      <th>sentence_id</th>\n",
       "      <th>token_id</th>\n",
       "      <th>class</th>\n",
       "      <th>before</th>\n",
       "      <th>after</th>\n",
       "      <th>class_org</th>\n",
       "    </tr>\n",
       "  </thead>\n",
       "  <tbody>\n",
       "    <tr>\n",
       "      <th>9168258</th>\n",
       "      <td>692424</td>\n",
       "      <td>12</td>\n",
       "      <td>PUNCT</td>\n",
       "      <td>(</td>\n",
       "      <td>(</td>\n",
       "      <td>PUNCT</td>\n",
       "    </tr>\n",
       "    <tr>\n",
       "      <th>8878039</th>\n",
       "      <td>670967</td>\n",
       "      <td>8</td>\n",
       "      <td>PUNCT</td>\n",
       "      <td>,</td>\n",
       "      <td>,</td>\n",
       "      <td>PUNCT</td>\n",
       "    </tr>\n",
       "    <tr>\n",
       "      <th>2994446</th>\n",
       "      <td>231408</td>\n",
       "      <td>12</td>\n",
       "      <td>NUMBERS</td>\n",
       "      <td>3.8</td>\n",
       "      <td>three point eight</td>\n",
       "      <td>DECIMAL</td>\n",
       "    </tr>\n",
       "    <tr>\n",
       "      <th>851048</th>\n",
       "      <td>67769</td>\n",
       "      <td>5</td>\n",
       "      <td>PUNCT</td>\n",
       "      <td>)</td>\n",
       "      <td>)</td>\n",
       "      <td>PUNCT</td>\n",
       "    </tr>\n",
       "    <tr>\n",
       "      <th>4900191</th>\n",
       "      <td>374831</td>\n",
       "      <td>11</td>\n",
       "      <td>PUNCT</td>\n",
       "      <td>,</td>\n",
       "      <td>,</td>\n",
       "      <td>PUNCT</td>\n",
       "    </tr>\n",
       "  </tbody>\n",
       "</table>\n",
       "</div>"
      ],
      "text/plain": [
       "         sentence_id  token_id    class before              after class_org\n",
       "9168258       692424        12    PUNCT      (                  (     PUNCT\n",
       "8878039       670967         8    PUNCT      ,                  ,     PUNCT\n",
       "2994446       231408        12  NUMBERS    3.8  three point eight   DECIMAL\n",
       "851048         67769         5    PUNCT      )                  )     PUNCT\n",
       "4900191       374831        11    PUNCT      ,                  ,     PUNCT"
      ]
     },
     "execution_count": 267,
     "metadata": {},
     "output_type": "execute_result"
    }
   ],
   "source": [
    "all_data[all_data['class'] != 'PLAIN'].sample(5)"
   ]
  },
  {
   "cell_type": "code",
   "execution_count": 87,
   "metadata": {},
   "outputs": [
    {
     "data": {
      "text/plain": [
       "9918139"
      ]
     },
     "execution_count": 87,
     "metadata": {},
     "output_type": "execute_result"
    },
    {
     "data": {
      "text/plain": [
       "699557"
      ]
     },
     "execution_count": 87,
     "metadata": {},
     "output_type": "execute_result"
    }
   ],
   "source": [
    "len(not_changed_cla_data)\n",
    "len(not_changed_cla_data[all_data['before']!=not_changed_cla_data['after']])"
   ]
  },
  {
   "cell_type": "code",
   "execution_count": 268,
   "metadata": {
    "collapsed": true
   },
   "outputs": [],
   "source": [
    "all_data.loc[all_data['before']==all_data['after'], 'class'] = 'NOT_CHANGED'"
   ]
  },
  {
   "cell_type": "code",
   "execution_count": 269,
   "metadata": {},
   "outputs": [
    {
     "data": {
      "text/html": [
       "<div>\n",
       "<style>\n",
       "    .dataframe thead tr:only-child th {\n",
       "        text-align: right;\n",
       "    }\n",
       "\n",
       "    .dataframe thead th {\n",
       "        text-align: left;\n",
       "    }\n",
       "\n",
       "    .dataframe tbody tr th {\n",
       "        vertical-align: top;\n",
       "    }\n",
       "</style>\n",
       "<table border=\"1\" class=\"dataframe\">\n",
       "  <thead>\n",
       "    <tr style=\"text-align: right;\">\n",
       "      <th></th>\n",
       "      <th>sentence_id</th>\n",
       "      <th>token_id</th>\n",
       "      <th>class</th>\n",
       "      <th>before</th>\n",
       "      <th>after</th>\n",
       "      <th>class_org</th>\n",
       "    </tr>\n",
       "  </thead>\n",
       "  <tbody>\n",
       "    <tr>\n",
       "      <th>1999580</th>\n",
       "      <td>155908</td>\n",
       "      <td>1</td>\n",
       "      <td>NOT_CHANGED</td>\n",
       "      <td>built</td>\n",
       "      <td>built</td>\n",
       "      <td>PLAIN</td>\n",
       "    </tr>\n",
       "    <tr>\n",
       "      <th>2114660</th>\n",
       "      <td>164688</td>\n",
       "      <td>8</td>\n",
       "      <td>NOT_CHANGED</td>\n",
       "      <td>final</td>\n",
       "      <td>final</td>\n",
       "      <td>PLAIN</td>\n",
       "    </tr>\n",
       "    <tr>\n",
       "      <th>2493500</th>\n",
       "      <td>193570</td>\n",
       "      <td>14</td>\n",
       "      <td>NOT_CHANGED</td>\n",
       "      <td>Crosswicks</td>\n",
       "      <td>Crosswicks</td>\n",
       "      <td>PLAIN</td>\n",
       "    </tr>\n",
       "    <tr>\n",
       "      <th>3193982</th>\n",
       "      <td>246472</td>\n",
       "      <td>7</td>\n",
       "      <td>NOT_CHANGED</td>\n",
       "      <td>Jesus</td>\n",
       "      <td>Jesus</td>\n",
       "      <td>PLAIN</td>\n",
       "    </tr>\n",
       "    <tr>\n",
       "      <th>454078</th>\n",
       "      <td>36434</td>\n",
       "      <td>21</td>\n",
       "      <td>NOT_CHANGED</td>\n",
       "      <td>(</td>\n",
       "      <td>(</td>\n",
       "      <td>PUNCT</td>\n",
       "    </tr>\n",
       "  </tbody>\n",
       "</table>\n",
       "</div>"
      ],
      "text/plain": [
       "         sentence_id  token_id        class      before       after class_org\n",
       "1999580       155908         1  NOT_CHANGED       built       built     PLAIN\n",
       "2114660       164688         8  NOT_CHANGED       final       final     PLAIN\n",
       "2493500       193570        14  NOT_CHANGED  Crosswicks  Crosswicks     PLAIN\n",
       "3193982       246472         7  NOT_CHANGED       Jesus       Jesus     PLAIN\n",
       "454078         36434        21  NOT_CHANGED           (           (     PUNCT"
      ]
     },
     "execution_count": 269,
     "metadata": {},
     "output_type": "execute_result"
    }
   ],
   "source": [
    "all_data.sample(5)"
   ]
  },
  {
   "cell_type": "code",
   "execution_count": 271,
   "metadata": {},
   "outputs": [
    {
     "data": {
      "text/plain": [
       "class\n",
       "ELECTRONIC        4964\n",
       "LETTERS         152986\n",
       "NOT_CHANGED    9258648\n",
       "NUMBERS         448172\n",
       "PLAIN            36472\n",
       "VERBATIM         16950\n",
       "Name: class, dtype: int64"
      ]
     },
     "execution_count": 271,
     "metadata": {},
     "output_type": "execute_result"
    }
   ],
   "source": [
    "all_data.groupby(\"class\")[\"class\"].count()"
   ]
  },
  {
   "cell_type": "markdown",
   "metadata": {},
   "source": [
    "### Save"
   ]
  },
  {
   "cell_type": "code",
   "execution_count": 272,
   "metadata": {
    "collapsed": true
   },
   "outputs": [],
   "source": [
    "all_data = all_data.reset_index(drop=True)"
   ]
  },
  {
   "cell_type": "code",
   "execution_count": 273,
   "metadata": {
    "collapsed": true
   },
   "outputs": [],
   "source": [
    "pickle.dump(all_data, open(\"data/en_train_fixed_1.pkl\", \"wb\"))"
   ]
  },
  {
   "cell_type": "code",
   "execution_count": 274,
   "metadata": {
    "collapsed": true
   },
   "outputs": [],
   "source": [
    "pickle.load(open(\"data/en_train_fixed_1.pkl\", \"rb\" ));"
   ]
  },
  {
   "cell_type": "markdown",
   "metadata": {},
   "source": [
    "# After words for not changed"
   ]
  },
  {
   "cell_type": "code",
   "execution_count": 9,
   "metadata": {
    "collapsed": true
   },
   "outputs": [],
   "source": [
    "all_data = pickle.load(open(\"data/en_train_fixed_1.pkl\", \"rb\" ))"
   ]
  },
  {
   "cell_type": "code",
   "execution_count": 10,
   "metadata": {},
   "outputs": [
    {
     "data": {
      "text/plain": [
       "9918192"
      ]
     },
     "execution_count": 10,
     "metadata": {},
     "output_type": "execute_result"
    },
    {
     "data": {
      "text/plain": [
       "659544"
      ]
     },
     "execution_count": 10,
     "metadata": {},
     "output_type": "execute_result"
    }
   ],
   "source": [
    "words_after_data = all_data[all_data['class'] != 'NOT_CHANGED']\n",
    "len(all_data)\n",
    "len(words_after_data)"
   ]
  },
  {
   "cell_type": "code",
   "execution_count": 11,
   "metadata": {},
   "outputs": [
    {
     "data": {
      "text/plain": [
       "2066961"
      ]
     },
     "execution_count": 11,
     "metadata": {},
     "output_type": "execute_result"
    },
    {
     "data": {
      "text/plain": [
       "1346"
      ]
     },
     "execution_count": 11,
     "metadata": {},
     "output_type": "execute_result"
    }
   ],
   "source": [
    "# arr = list(set(list(electronic_data['after'])))\n",
    "# arr = list(set(list(sample_data['after'])))\n",
    "arr = list(words_after_data['after'])\n",
    "arr = [s.split(' ') for s in arr]\n",
    "arr = np.concatenate(arr)\n",
    "len(arr)\n",
    "len(set(arr))"
   ]
  },
  {
   "cell_type": "code",
   "execution_count": 21,
   "metadata": {
    "collapsed": true
   },
   "outputs": [],
   "source": [
    "words_after_count_index = {}\n",
    "for w in arr:\n",
    "    words_after_count_index[w] = words_after_count_index.get(w, 0) + 1"
   ]
  },
  {
   "cell_type": "code",
   "execution_count": 22,
   "metadata": {},
   "outputs": [
    {
     "name": "stdout",
     "output_type": "stream",
     "text": [
      "    1: 99.98% (words: 860)\n",
      "    5: 99.93% (words: 554)\n",
      "   10: 99.90% (words: 455)\n",
      "   50: 99.69% (words: 270)\n",
      "  100: 99.49% (words: 214)\n",
      "  250: 99.05% (words: 155)\n",
      "  500: 98.61% (words: 129)\n",
      " 1000: 97.98% (words: 112)\n",
      "10000: 84.02% (words: 54)\n"
     ]
    }
   ],
   "source": [
    "for i in [1, 5, 10, 50, 100, 250, 500, 1000, 10000]:\n",
    "    tmp = [v for k, v in words_after_count_index.items() if v > i]\n",
    "    print(\"{:>5d}: {:2.2%} (words: {})\".format(i,  sum(tmp)/sum(words_after_count_index.values()), len(tmp)))"
   ]
  },
  {
   "cell_type": "code",
   "execution_count": 23,
   "metadata": {},
   "outputs": [
    {
     "data": {
      "text/plain": [
       "1346"
      ]
     },
     "execution_count": 23,
     "metadata": {},
     "output_type": "execute_result"
    },
    {
     "data": {
      "text/plain": [
       "['two', 'twenty', 'nineteen', 'thousand', 'one']"
      ]
     },
     "execution_count": 23,
     "metadata": {},
     "output_type": "execute_result"
    }
   ],
   "source": [
    "words_after_common = sorted(list(words_after_count_index.items()), key=lambda a: -a[1])\n",
    "words_after_common = [k for k, v in words_after_common]\n",
    "len(words_after_common)\n",
    "words_after_common[0:5]"
   ]
  },
  {
   "cell_type": "code",
   "execution_count": 24,
   "metadata": {
    "collapsed": true
   },
   "outputs": [],
   "source": [
    "pickle.dump(words_after_common, open(\"data/en_features/words_after_all.pkl\", \"wb\"))"
   ]
  },
  {
   "cell_type": "code",
   "execution_count": 41,
   "metadata": {},
   "outputs": [
    {
     "data": {
      "text/plain": [
       "'unfavorable'"
      ]
     },
     "execution_count": 41,
     "metadata": {},
     "output_type": "execute_result"
    },
    {
     "data": {
      "text/plain": [
       "7"
      ]
     },
     "execution_count": 41,
     "metadata": {},
     "output_type": "execute_result"
    }
   ],
   "source": [
    "i = 512\n",
    "words_after_common[i]\n",
    "words_after_count_index[words_after_common[i]]"
   ]
  },
  {
   "cell_type": "code",
   "execution_count": 42,
   "metadata": {},
   "outputs": [
    {
     "data": {
      "text/plain": [
       "'savior'"
      ]
     },
     "execution_count": 42,
     "metadata": {},
     "output_type": "execute_result"
    },
    {
     "data": {
      "text/plain": [
       "17"
      ]
     },
     "execution_count": 42,
     "metadata": {},
     "output_type": "execute_result"
    }
   ],
   "source": [
    "i = 384\n",
    "words_after_common[i]\n",
    "words_after_count_index[words_after_common[i]]"
   ]
  },
  {
   "cell_type": "code",
   "execution_count": 43,
   "metadata": {},
   "outputs": [
    {
     "data": {
      "text/plain": [
       "'tilde'"
      ]
     },
     "execution_count": 43,
     "metadata": {},
     "output_type": "execute_result"
    },
    {
     "data": {
      "text/plain": [
       "63"
      ]
     },
     "execution_count": 43,
     "metadata": {},
     "output_type": "execute_result"
    }
   ],
   "source": [
    "i = 256\n",
    "words_after_common[i]\n",
    "words_after_count_index[words_after_common[i]]"
   ]
  },
  {
   "cell_type": "code",
   "execution_count": 54,
   "metadata": {
    "collapsed": true
   },
   "outputs": [],
   "source": [
    "after_words_dict = dict((c, i) for i, c in enumerate(words_after_common[0:8192]))"
   ]
  },
  {
   "cell_type": "code",
   "execution_count": 55,
   "metadata": {},
   "outputs": [
    {
     "data": {
      "text/plain": [
       "51"
      ]
     },
     "execution_count": 55,
     "metadata": {},
     "output_type": "execute_result"
    },
    {
     "data": {
      "text/plain": [
       "280"
      ]
     },
     "execution_count": 55,
     "metadata": {},
     "output_type": "execute_result"
    }
   ],
   "source": [
    "after_words_dict['first']\n",
    "after_words_dict['firsts']"
   ]
  },
  {
   "cell_type": "code",
   "execution_count": null,
   "metadata": {
    "collapsed": true
   },
   "outputs": [],
   "source": []
  },
  {
   "cell_type": "code",
   "execution_count": null,
   "metadata": {
    "collapsed": true
   },
   "outputs": [],
   "source": []
  },
  {
   "cell_type": "code",
   "execution_count": null,
   "metadata": {
    "collapsed": true
   },
   "outputs": [],
   "source": []
  },
  {
   "cell_type": "markdown",
   "metadata": {
    "collapsed": true
   },
   "source": [
    "# Testing some stuff"
   ]
  },
  {
   "cell_type": "code",
   "execution_count": 276,
   "metadata": {},
   "outputs": [
    {
     "data": {
      "text/html": [
       "<div>\n",
       "<style>\n",
       "    .dataframe thead tr:only-child th {\n",
       "        text-align: right;\n",
       "    }\n",
       "\n",
       "    .dataframe thead th {\n",
       "        text-align: left;\n",
       "    }\n",
       "\n",
       "    .dataframe tbody tr th {\n",
       "        vertical-align: top;\n",
       "    }\n",
       "</style>\n",
       "<table border=\"1\" class=\"dataframe\">\n",
       "  <thead>\n",
       "    <tr style=\"text-align: right;\">\n",
       "      <th></th>\n",
       "      <th>sentence_id</th>\n",
       "      <th>token_id</th>\n",
       "      <th>class</th>\n",
       "      <th>before</th>\n",
       "      <th>after</th>\n",
       "      <th>class_org</th>\n",
       "    </tr>\n",
       "  </thead>\n",
       "  <tbody>\n",
       "    <tr>\n",
       "      <th>0</th>\n",
       "      <td>0</td>\n",
       "      <td>0</td>\n",
       "      <td>NOT_CHANGED</td>\n",
       "      <td>Brillantaisia</td>\n",
       "      <td>Brillantaisia</td>\n",
       "      <td>PLAIN</td>\n",
       "    </tr>\n",
       "    <tr>\n",
       "      <th>1</th>\n",
       "      <td>0</td>\n",
       "      <td>1</td>\n",
       "      <td>NOT_CHANGED</td>\n",
       "      <td>is</td>\n",
       "      <td>is</td>\n",
       "      <td>PLAIN</td>\n",
       "    </tr>\n",
       "    <tr>\n",
       "      <th>2</th>\n",
       "      <td>0</td>\n",
       "      <td>2</td>\n",
       "      <td>NOT_CHANGED</td>\n",
       "      <td>a</td>\n",
       "      <td>a</td>\n",
       "      <td>PLAIN</td>\n",
       "    </tr>\n",
       "    <tr>\n",
       "      <th>3</th>\n",
       "      <td>0</td>\n",
       "      <td>3</td>\n",
       "      <td>NOT_CHANGED</td>\n",
       "      <td>genus</td>\n",
       "      <td>genus</td>\n",
       "      <td>PLAIN</td>\n",
       "    </tr>\n",
       "    <tr>\n",
       "      <th>4</th>\n",
       "      <td>0</td>\n",
       "      <td>4</td>\n",
       "      <td>NOT_CHANGED</td>\n",
       "      <td>of</td>\n",
       "      <td>of</td>\n",
       "      <td>PLAIN</td>\n",
       "    </tr>\n",
       "  </tbody>\n",
       "</table>\n",
       "</div>"
      ],
      "text/plain": [
       "   sentence_id  token_id        class         before          after class_org\n",
       "0            0         0  NOT_CHANGED  Brillantaisia  Brillantaisia     PLAIN\n",
       "1            0         1  NOT_CHANGED             is             is     PLAIN\n",
       "2            0         2  NOT_CHANGED              a              a     PLAIN\n",
       "3            0         3  NOT_CHANGED          genus          genus     PLAIN\n",
       "4            0         4  NOT_CHANGED             of             of     PLAIN"
      ]
     },
     "execution_count": 276,
     "metadata": {},
     "output_type": "execute_result"
    }
   ],
   "source": [
    "all_data.head()"
   ]
  },
  {
   "cell_type": "code",
   "execution_count": 281,
   "metadata": {
    "collapsed": true
   },
   "outputs": [],
   "source": [
    "verb_changed = all_data[(all_data['class_org']=='VERBATIM') & (all_data['class']!='NOT_CHANGED')]"
   ]
  },
  {
   "cell_type": "code",
   "execution_count": 294,
   "metadata": {},
   "outputs": [
    {
     "data": {
      "text/plain": [
       "16950"
      ]
     },
     "execution_count": 294,
     "metadata": {},
     "output_type": "execute_result"
    }
   ],
   "source": [
    "len(all_data[all_data['class']=='VERBATIM'])"
   ]
  },
  {
   "cell_type": "code",
   "execution_count": 283,
   "metadata": {
    "collapsed": true
   },
   "outputs": [],
   "source": [
    "verb_changed = verb_changed.copy()"
   ]
  },
  {
   "cell_type": "code",
   "execution_count": 290,
   "metadata": {
    "collapsed": true
   },
   "outputs": [],
   "source": [
    "def manual_pre_checks(before):\n",
    "    if chars_with_no_changes_re.search(before): #contains chars that were never changed\n",
    "        #return before \n",
    "        return False\n",
    "    if before in chars_with_single_output_dict:\n",
    "        #return chars_with_single_output_dict[before]\n",
    "        return False\n",
    "    return True"
   ]
  },
  {
   "cell_type": "code",
   "execution_count": 288,
   "metadata": {},
   "outputs": [
    {
     "data": {
      "text/plain": [
       "False"
      ]
     },
     "execution_count": 288,
     "metadata": {},
     "output_type": "execute_result"
    }
   ],
   "source": [
    "manual_pre_checks(\"asdf\")"
   ]
  },
  {
   "cell_type": "code",
   "execution_count": 325,
   "metadata": {},
   "outputs": [
    {
     "data": {
      "text/html": [
       "<div>\n",
       "<style>\n",
       "    .dataframe thead tr:only-child th {\n",
       "        text-align: right;\n",
       "    }\n",
       "\n",
       "    .dataframe thead th {\n",
       "        text-align: left;\n",
       "    }\n",
       "\n",
       "    .dataframe tbody tr th {\n",
       "        vertical-align: top;\n",
       "    }\n",
       "</style>\n",
       "<table border=\"1\" class=\"dataframe\">\n",
       "  <thead>\n",
       "    <tr style=\"text-align: right;\">\n",
       "      <th></th>\n",
       "      <th>sentence_id</th>\n",
       "      <th>token_id</th>\n",
       "      <th>class</th>\n",
       "      <th>before</th>\n",
       "      <th>after</th>\n",
       "      <th>class_org</th>\n",
       "    </tr>\n",
       "  </thead>\n",
       "  <tbody>\n",
       "    <tr>\n",
       "      <th>2460002</th>\n",
       "      <td>191016</td>\n",
       "      <td>5</td>\n",
       "      <td>VERBATIM</td>\n",
       "      <td>&amp;</td>\n",
       "      <td>and</td>\n",
       "      <td>VERBATIM</td>\n",
       "    </tr>\n",
       "    <tr>\n",
       "      <th>831227</th>\n",
       "      <td>66233</td>\n",
       "      <td>8</td>\n",
       "      <td>VERBATIM</td>\n",
       "      <td>&amp;</td>\n",
       "      <td>and</td>\n",
       "      <td>VERBATIM</td>\n",
       "    </tr>\n",
       "    <tr>\n",
       "      <th>4956471</th>\n",
       "      <td>379057</td>\n",
       "      <td>8</td>\n",
       "      <td>VERBATIM</td>\n",
       "      <td>&amp;</td>\n",
       "      <td>and</td>\n",
       "      <td>VERBATIM</td>\n",
       "    </tr>\n",
       "    <tr>\n",
       "      <th>6433060</th>\n",
       "      <td>489303</td>\n",
       "      <td>2</td>\n",
       "      <td>VERBATIM</td>\n",
       "      <td>#</td>\n",
       "      <td>number</td>\n",
       "      <td>VERBATIM</td>\n",
       "    </tr>\n",
       "    <tr>\n",
       "      <th>5119171</th>\n",
       "      <td>391303</td>\n",
       "      <td>8</td>\n",
       "      <td>VERBATIM</td>\n",
       "      <td>&amp;</td>\n",
       "      <td>and</td>\n",
       "      <td>VERBATIM</td>\n",
       "    </tr>\n",
       "    <tr>\n",
       "      <th>1235455</th>\n",
       "      <td>97391</td>\n",
       "      <td>9</td>\n",
       "      <td>VERBATIM</td>\n",
       "      <td>&amp;</td>\n",
       "      <td>and</td>\n",
       "      <td>VERBATIM</td>\n",
       "    </tr>\n",
       "    <tr>\n",
       "      <th>7741826</th>\n",
       "      <td>586868</td>\n",
       "      <td>7</td>\n",
       "      <td>VERBATIM</td>\n",
       "      <td>#</td>\n",
       "      <td>number</td>\n",
       "      <td>VERBATIM</td>\n",
       "    </tr>\n",
       "    <tr>\n",
       "      <th>8453848</th>\n",
       "      <td>639758</td>\n",
       "      <td>13</td>\n",
       "      <td>VERBATIM</td>\n",
       "      <td>&amp;</td>\n",
       "      <td>and</td>\n",
       "      <td>VERBATIM</td>\n",
       "    </tr>\n",
       "    <tr>\n",
       "      <th>3267504</th>\n",
       "      <td>252086</td>\n",
       "      <td>2</td>\n",
       "      <td>VERBATIM</td>\n",
       "      <td>&amp;</td>\n",
       "      <td>and</td>\n",
       "      <td>VERBATIM</td>\n",
       "    </tr>\n",
       "    <tr>\n",
       "      <th>3735851</th>\n",
       "      <td>287485</td>\n",
       "      <td>6</td>\n",
       "      <td>VERBATIM</td>\n",
       "      <td>&amp;</td>\n",
       "      <td>and</td>\n",
       "      <td>VERBATIM</td>\n",
       "    </tr>\n",
       "    <tr>\n",
       "      <th>1439335</th>\n",
       "      <td>113094</td>\n",
       "      <td>5</td>\n",
       "      <td>VERBATIM</td>\n",
       "      <td>&amp;</td>\n",
       "      <td>and</td>\n",
       "      <td>VERBATIM</td>\n",
       "    </tr>\n",
       "    <tr>\n",
       "      <th>4243132</th>\n",
       "      <td>325598</td>\n",
       "      <td>1</td>\n",
       "      <td>VERBATIM</td>\n",
       "      <td>&amp;</td>\n",
       "      <td>and</td>\n",
       "      <td>VERBATIM</td>\n",
       "    </tr>\n",
       "    <tr>\n",
       "      <th>3004488</th>\n",
       "      <td>232149</td>\n",
       "      <td>5</td>\n",
       "      <td>VERBATIM</td>\n",
       "      <td>&amp;</td>\n",
       "      <td>and</td>\n",
       "      <td>VERBATIM</td>\n",
       "    </tr>\n",
       "    <tr>\n",
       "      <th>3706149</th>\n",
       "      <td>285259</td>\n",
       "      <td>9</td>\n",
       "      <td>VERBATIM</td>\n",
       "      <td>&amp;</td>\n",
       "      <td>and</td>\n",
       "      <td>VERBATIM</td>\n",
       "    </tr>\n",
       "    <tr>\n",
       "      <th>6635571</th>\n",
       "      <td>504368</td>\n",
       "      <td>1</td>\n",
       "      <td>VERBATIM</td>\n",
       "      <td>&amp;</td>\n",
       "      <td>and</td>\n",
       "      <td>VERBATIM</td>\n",
       "    </tr>\n",
       "    <tr>\n",
       "      <th>6544768</th>\n",
       "      <td>497590</td>\n",
       "      <td>4</td>\n",
       "      <td>VERBATIM</td>\n",
       "      <td>&amp;</td>\n",
       "      <td>and</td>\n",
       "      <td>VERBATIM</td>\n",
       "    </tr>\n",
       "    <tr>\n",
       "      <th>7492707</th>\n",
       "      <td>568190</td>\n",
       "      <td>8</td>\n",
       "      <td>VERBATIM</td>\n",
       "      <td>&amp;</td>\n",
       "      <td>and</td>\n",
       "      <td>VERBATIM</td>\n",
       "    </tr>\n",
       "    <tr>\n",
       "      <th>7401950</th>\n",
       "      <td>561422</td>\n",
       "      <td>80</td>\n",
       "      <td>VERBATIM</td>\n",
       "      <td>&amp;</td>\n",
       "      <td>and</td>\n",
       "      <td>VERBATIM</td>\n",
       "    </tr>\n",
       "    <tr>\n",
       "      <th>314275</th>\n",
       "      <td>25278</td>\n",
       "      <td>5</td>\n",
       "      <td>VERBATIM</td>\n",
       "      <td>&amp;</td>\n",
       "      <td>and</td>\n",
       "      <td>VERBATIM</td>\n",
       "    </tr>\n",
       "    <tr>\n",
       "      <th>4208504</th>\n",
       "      <td>322961</td>\n",
       "      <td>7</td>\n",
       "      <td>VERBATIM</td>\n",
       "      <td>&amp;</td>\n",
       "      <td>and</td>\n",
       "      <td>VERBATIM</td>\n",
       "    </tr>\n",
       "  </tbody>\n",
       "</table>\n",
       "</div>"
      ],
      "text/plain": [
       "         sentence_id  token_id     class before   after class_org\n",
       "2460002       191016         5  VERBATIM      &     and  VERBATIM\n",
       "831227         66233         8  VERBATIM      &     and  VERBATIM\n",
       "4956471       379057         8  VERBATIM      &     and  VERBATIM\n",
       "6433060       489303         2  VERBATIM      #  number  VERBATIM\n",
       "5119171       391303         8  VERBATIM      &     and  VERBATIM\n",
       "1235455        97391         9  VERBATIM      &     and  VERBATIM\n",
       "7741826       586868         7  VERBATIM      #  number  VERBATIM\n",
       "8453848       639758        13  VERBATIM      &     and  VERBATIM\n",
       "3267504       252086         2  VERBATIM      &     and  VERBATIM\n",
       "3735851       287485         6  VERBATIM      &     and  VERBATIM\n",
       "1439335       113094         5  VERBATIM      &     and  VERBATIM\n",
       "4243132       325598         1  VERBATIM      &     and  VERBATIM\n",
       "3004488       232149         5  VERBATIM      &     and  VERBATIM\n",
       "3706149       285259         9  VERBATIM      &     and  VERBATIM\n",
       "6635571       504368         1  VERBATIM      &     and  VERBATIM\n",
       "6544768       497590         4  VERBATIM      &     and  VERBATIM\n",
       "7492707       568190         8  VERBATIM      &     and  VERBATIM\n",
       "7401950       561422        80  VERBATIM      &     and  VERBATIM\n",
       "314275         25278         5  VERBATIM      &     and  VERBATIM\n",
       "4208504       322961         7  VERBATIM      &     and  VERBATIM"
      ]
     },
     "execution_count": 325,
     "metadata": {},
     "output_type": "execute_result"
    }
   ],
   "source": [
    "verb_changed[verb_changed['before'].apply(manual_pre_checks)].sample(20)"
   ]
  },
  {
   "cell_type": "code",
   "execution_count": 327,
   "metadata": {},
   "outputs": [
    {
     "data": {
      "text/html": [
       "<div>\n",
       "<style>\n",
       "    .dataframe thead tr:only-child th {\n",
       "        text-align: right;\n",
       "    }\n",
       "\n",
       "    .dataframe thead th {\n",
       "        text-align: left;\n",
       "    }\n",
       "\n",
       "    .dataframe tbody tr th {\n",
       "        vertical-align: top;\n",
       "    }\n",
       "</style>\n",
       "<table border=\"1\" class=\"dataframe\">\n",
       "  <thead>\n",
       "    <tr style=\"text-align: right;\">\n",
       "      <th></th>\n",
       "      <th>sentence_id</th>\n",
       "      <th>token_id</th>\n",
       "      <th>class</th>\n",
       "      <th>before</th>\n",
       "      <th>after</th>\n",
       "      <th>class_org</th>\n",
       "    </tr>\n",
       "  </thead>\n",
       "  <tbody>\n",
       "    <tr>\n",
       "      <th>12116</th>\n",
       "      <td>992</td>\n",
       "      <td>17</td>\n",
       "      <td>LETTERS</td>\n",
       "      <td>Q&amp;A</td>\n",
       "      <td>q and a</td>\n",
       "      <td>LETTERS</td>\n",
       "    </tr>\n",
       "    <tr>\n",
       "      <th>24296</th>\n",
       "      <td>1943</td>\n",
       "      <td>2</td>\n",
       "      <td>LETTERS</td>\n",
       "      <td>M&amp;M's</td>\n",
       "      <td>m and m's</td>\n",
       "      <td>LETTERS</td>\n",
       "    </tr>\n",
       "    <tr>\n",
       "      <th>40534</th>\n",
       "      <td>3221</td>\n",
       "      <td>11</td>\n",
       "      <td>LETTERS</td>\n",
       "      <td>H&amp;R</td>\n",
       "      <td>h and r</td>\n",
       "      <td>LETTERS</td>\n",
       "    </tr>\n",
       "    <tr>\n",
       "      <th>60702</th>\n",
       "      <td>4893</td>\n",
       "      <td>6</td>\n",
       "      <td>LETTERS</td>\n",
       "      <td>R&amp;B</td>\n",
       "      <td>r and b</td>\n",
       "      <td>LETTERS</td>\n",
       "    </tr>\n",
       "    <tr>\n",
       "      <th>79553</th>\n",
       "      <td>6390</td>\n",
       "      <td>3</td>\n",
       "      <td>LETTERS</td>\n",
       "      <td>S&amp;C</td>\n",
       "      <td>s and c</td>\n",
       "      <td>LETTERS</td>\n",
       "    </tr>\n",
       "    <tr>\n",
       "      <th>81530</th>\n",
       "      <td>6548</td>\n",
       "      <td>4</td>\n",
       "      <td>LETTERS</td>\n",
       "      <td>C&amp;P</td>\n",
       "      <td>c and p</td>\n",
       "      <td>LETTERS</td>\n",
       "    </tr>\n",
       "    <tr>\n",
       "      <th>85802</th>\n",
       "      <td>6883</td>\n",
       "      <td>8</td>\n",
       "      <td>LETTERS</td>\n",
       "      <td>R&amp;B</td>\n",
       "      <td>r and b</td>\n",
       "      <td>LETTERS</td>\n",
       "    </tr>\n",
       "    <tr>\n",
       "      <th>85894</th>\n",
       "      <td>6890</td>\n",
       "      <td>1</td>\n",
       "      <td>LETTERS</td>\n",
       "      <td>T&amp;TEC</td>\n",
       "      <td>t and t e c</td>\n",
       "      <td>LETTERS</td>\n",
       "    </tr>\n",
       "    <tr>\n",
       "      <th>111104</th>\n",
       "      <td>8908</td>\n",
       "      <td>8</td>\n",
       "      <td>LETTERS</td>\n",
       "      <td>S&amp;P</td>\n",
       "      <td>s and p</td>\n",
       "      <td>LETTERS</td>\n",
       "    </tr>\n",
       "    <tr>\n",
       "      <th>140611</th>\n",
       "      <td>11289</td>\n",
       "      <td>7</td>\n",
       "      <td>LETTERS</td>\n",
       "      <td>V&amp;A</td>\n",
       "      <td>v and a</td>\n",
       "      <td>LETTERS</td>\n",
       "    </tr>\n",
       "    <tr>\n",
       "      <th>140862</th>\n",
       "      <td>11309</td>\n",
       "      <td>6</td>\n",
       "      <td>LETTERS</td>\n",
       "      <td>T&amp;T</td>\n",
       "      <td>t and t</td>\n",
       "      <td>LETTERS</td>\n",
       "    </tr>\n",
       "    <tr>\n",
       "      <th>150639</th>\n",
       "      <td>12084</td>\n",
       "      <td>2</td>\n",
       "      <td>LETTERS</td>\n",
       "      <td>A&amp;S</td>\n",
       "      <td>a and s</td>\n",
       "      <td>LETTERS</td>\n",
       "    </tr>\n",
       "    <tr>\n",
       "      <th>153340</th>\n",
       "      <td>12304</td>\n",
       "      <td>1</td>\n",
       "      <td>LETTERS</td>\n",
       "      <td>R&amp;R</td>\n",
       "      <td>r and r</td>\n",
       "      <td>LETTERS</td>\n",
       "    </tr>\n",
       "    <tr>\n",
       "      <th>154186</th>\n",
       "      <td>12373</td>\n",
       "      <td>0</td>\n",
       "      <td>LETTERS</td>\n",
       "      <td>V&amp;A</td>\n",
       "      <td>v and a</td>\n",
       "      <td>LETTERS</td>\n",
       "    </tr>\n",
       "    <tr>\n",
       "      <th>163301</th>\n",
       "      <td>13132</td>\n",
       "      <td>12</td>\n",
       "      <td>LETTERS</td>\n",
       "      <td>D&amp;D's</td>\n",
       "      <td>d and d's</td>\n",
       "      <td>LETTERS</td>\n",
       "    </tr>\n",
       "    <tr>\n",
       "      <th>189398</th>\n",
       "      <td>15237</td>\n",
       "      <td>6</td>\n",
       "      <td>LETTERS</td>\n",
       "      <td>B&amp;W</td>\n",
       "      <td>b and w</td>\n",
       "      <td>LETTERS</td>\n",
       "    </tr>\n",
       "    <tr>\n",
       "      <th>214077</th>\n",
       "      <td>17289</td>\n",
       "      <td>2</td>\n",
       "      <td>LETTERS</td>\n",
       "      <td>MB&amp;M</td>\n",
       "      <td>m b and m</td>\n",
       "      <td>LETTERS</td>\n",
       "    </tr>\n",
       "    <tr>\n",
       "      <th>245154</th>\n",
       "      <td>19729</td>\n",
       "      <td>0</td>\n",
       "      <td>LETTERS</td>\n",
       "      <td>A&amp;C</td>\n",
       "      <td>a and c</td>\n",
       "      <td>LETTERS</td>\n",
       "    </tr>\n",
       "    <tr>\n",
       "      <th>253994</th>\n",
       "      <td>20459</td>\n",
       "      <td>13</td>\n",
       "      <td>LETTERS</td>\n",
       "      <td>P&amp;R</td>\n",
       "      <td>p and r</td>\n",
       "      <td>LETTERS</td>\n",
       "    </tr>\n",
       "    <tr>\n",
       "      <th>257119</th>\n",
       "      <td>20718</td>\n",
       "      <td>6</td>\n",
       "      <td>LETTERS</td>\n",
       "      <td>R&amp;D</td>\n",
       "      <td>r and d</td>\n",
       "      <td>LETTERS</td>\n",
       "    </tr>\n",
       "    <tr>\n",
       "      <th>257975</th>\n",
       "      <td>20793</td>\n",
       "      <td>8</td>\n",
       "      <td>LETTERS</td>\n",
       "      <td>Q&amp;A</td>\n",
       "      <td>q and a</td>\n",
       "      <td>LETTERS</td>\n",
       "    </tr>\n",
       "    <tr>\n",
       "      <th>283664</th>\n",
       "      <td>22814</td>\n",
       "      <td>9</td>\n",
       "      <td>LETTERS</td>\n",
       "      <td>AG&amp;W</td>\n",
       "      <td>a g and w</td>\n",
       "      <td>LETTERS</td>\n",
       "    </tr>\n",
       "    <tr>\n",
       "      <th>299710</th>\n",
       "      <td>24119</td>\n",
       "      <td>8</td>\n",
       "      <td>LETTERS</td>\n",
       "      <td>PSE&amp;G</td>\n",
       "      <td>p s e and g</td>\n",
       "      <td>LETTERS</td>\n",
       "    </tr>\n",
       "    <tr>\n",
       "      <th>310427</th>\n",
       "      <td>24966</td>\n",
       "      <td>0</td>\n",
       "      <td>LETTERS</td>\n",
       "      <td>Q&amp;A</td>\n",
       "      <td>q and a</td>\n",
       "      <td>LETTERS</td>\n",
       "    </tr>\n",
       "    <tr>\n",
       "      <th>338745</th>\n",
       "      <td>27235</td>\n",
       "      <td>6</td>\n",
       "      <td>LETTERS</td>\n",
       "      <td>G&amp;L</td>\n",
       "      <td>g and l</td>\n",
       "      <td>LETTERS</td>\n",
       "    </tr>\n",
       "    <tr>\n",
       "      <th>370611</th>\n",
       "      <td>29786</td>\n",
       "      <td>13</td>\n",
       "      <td>LETTERS</td>\n",
       "      <td>B&amp;W</td>\n",
       "      <td>b and w</td>\n",
       "      <td>LETTERS</td>\n",
       "    </tr>\n",
       "    <tr>\n",
       "      <th>377055</th>\n",
       "      <td>30293</td>\n",
       "      <td>3</td>\n",
       "      <td>LETTERS</td>\n",
       "      <td>R&amp;B</td>\n",
       "      <td>r and b</td>\n",
       "      <td>LETTERS</td>\n",
       "    </tr>\n",
       "    <tr>\n",
       "      <th>385646</th>\n",
       "      <td>30975</td>\n",
       "      <td>3</td>\n",
       "      <td>LETTERS</td>\n",
       "      <td>A&amp;M</td>\n",
       "      <td>a and m</td>\n",
       "      <td>LETTERS</td>\n",
       "    </tr>\n",
       "    <tr>\n",
       "      <th>393476</th>\n",
       "      <td>31582</td>\n",
       "      <td>8</td>\n",
       "      <td>LETTERS</td>\n",
       "      <td>CK&amp;S</td>\n",
       "      <td>c k and s</td>\n",
       "      <td>LETTERS</td>\n",
       "    </tr>\n",
       "    <tr>\n",
       "      <th>416934</th>\n",
       "      <td>33456</td>\n",
       "      <td>1</td>\n",
       "      <td>LETTERS</td>\n",
       "      <td>CD&amp;M</td>\n",
       "      <td>c d and m</td>\n",
       "      <td>LETTERS</td>\n",
       "    </tr>\n",
       "    <tr>\n",
       "      <th>...</th>\n",
       "      <td>...</td>\n",
       "      <td>...</td>\n",
       "      <td>...</td>\n",
       "      <td>...</td>\n",
       "      <td>...</td>\n",
       "      <td>...</td>\n",
       "    </tr>\n",
       "    <tr>\n",
       "      <th>9479251</th>\n",
       "      <td>715572</td>\n",
       "      <td>1</td>\n",
       "      <td>LETTERS</td>\n",
       "      <td>R&amp;B</td>\n",
       "      <td>r and b</td>\n",
       "      <td>LETTERS</td>\n",
       "    </tr>\n",
       "    <tr>\n",
       "      <th>9481963</th>\n",
       "      <td>715783</td>\n",
       "      <td>4</td>\n",
       "      <td>LETTERS</td>\n",
       "      <td>M&amp;C</td>\n",
       "      <td>m and c</td>\n",
       "      <td>LETTERS</td>\n",
       "    </tr>\n",
       "    <tr>\n",
       "      <th>9543133</th>\n",
       "      <td>720429</td>\n",
       "      <td>18</td>\n",
       "      <td>LETTERS</td>\n",
       "      <td>R&amp;B</td>\n",
       "      <td>r and b</td>\n",
       "      <td>LETTERS</td>\n",
       "    </tr>\n",
       "    <tr>\n",
       "      <th>9559658</th>\n",
       "      <td>721650</td>\n",
       "      <td>3</td>\n",
       "      <td>LETTERS</td>\n",
       "      <td>B&amp;B</td>\n",
       "      <td>b and b</td>\n",
       "      <td>LETTERS</td>\n",
       "    </tr>\n",
       "    <tr>\n",
       "      <th>9560300</th>\n",
       "      <td>721700</td>\n",
       "      <td>14</td>\n",
       "      <td>LETTERS</td>\n",
       "      <td>S&amp;P</td>\n",
       "      <td>s and p</td>\n",
       "      <td>LETTERS</td>\n",
       "    </tr>\n",
       "    <tr>\n",
       "      <th>9575027</th>\n",
       "      <td>722774</td>\n",
       "      <td>4</td>\n",
       "      <td>LETTERS</td>\n",
       "      <td>R&amp;B</td>\n",
       "      <td>r and b</td>\n",
       "      <td>LETTERS</td>\n",
       "    </tr>\n",
       "    <tr>\n",
       "      <th>9588148</th>\n",
       "      <td>723780</td>\n",
       "      <td>5</td>\n",
       "      <td>LETTERS</td>\n",
       "      <td>AT&amp;T</td>\n",
       "      <td>a t and t</td>\n",
       "      <td>LETTERS</td>\n",
       "    </tr>\n",
       "    <tr>\n",
       "      <th>9612742</th>\n",
       "      <td>725600</td>\n",
       "      <td>11</td>\n",
       "      <td>LETTERS</td>\n",
       "      <td>D&amp;D</td>\n",
       "      <td>d and d</td>\n",
       "      <td>LETTERS</td>\n",
       "    </tr>\n",
       "    <tr>\n",
       "      <th>9631058</th>\n",
       "      <td>726914</td>\n",
       "      <td>4</td>\n",
       "      <td>LETTERS</td>\n",
       "      <td>A&amp;E</td>\n",
       "      <td>a and e</td>\n",
       "      <td>LETTERS</td>\n",
       "    </tr>\n",
       "    <tr>\n",
       "      <th>9637475</th>\n",
       "      <td>727368</td>\n",
       "      <td>10</td>\n",
       "      <td>LETTERS</td>\n",
       "      <td>R&amp;B</td>\n",
       "      <td>r and b</td>\n",
       "      <td>LETTERS</td>\n",
       "    </tr>\n",
       "    <tr>\n",
       "      <th>9661760</th>\n",
       "      <td>729187</td>\n",
       "      <td>6</td>\n",
       "      <td>LETTERS</td>\n",
       "      <td>A&amp;M</td>\n",
       "      <td>a and m</td>\n",
       "      <td>LETTERS</td>\n",
       "    </tr>\n",
       "    <tr>\n",
       "      <th>9666765</th>\n",
       "      <td>729548</td>\n",
       "      <td>15</td>\n",
       "      <td>LETTERS</td>\n",
       "      <td>R&amp;B</td>\n",
       "      <td>r and b</td>\n",
       "      <td>LETTERS</td>\n",
       "    </tr>\n",
       "    <tr>\n",
       "      <th>9668087</th>\n",
       "      <td>729643</td>\n",
       "      <td>12</td>\n",
       "      <td>LETTERS</td>\n",
       "      <td>US&amp;R</td>\n",
       "      <td>u s and r</td>\n",
       "      <td>LETTERS</td>\n",
       "    </tr>\n",
       "    <tr>\n",
       "      <th>9668092</th>\n",
       "      <td>729643</td>\n",
       "      <td>17</td>\n",
       "      <td>LETTERS</td>\n",
       "      <td>US&amp;R</td>\n",
       "      <td>u s and r</td>\n",
       "      <td>LETTERS</td>\n",
       "    </tr>\n",
       "    <tr>\n",
       "      <th>9672716</th>\n",
       "      <td>729978</td>\n",
       "      <td>7</td>\n",
       "      <td>LETTERS</td>\n",
       "      <td>R&amp;B</td>\n",
       "      <td>r and b</td>\n",
       "      <td>LETTERS</td>\n",
       "    </tr>\n",
       "    <tr>\n",
       "      <th>9680325</th>\n",
       "      <td>730522</td>\n",
       "      <td>4</td>\n",
       "      <td>LETTERS</td>\n",
       "      <td>R&amp;B</td>\n",
       "      <td>r and b</td>\n",
       "      <td>LETTERS</td>\n",
       "    </tr>\n",
       "    <tr>\n",
       "      <th>9680810</th>\n",
       "      <td>730556</td>\n",
       "      <td>16</td>\n",
       "      <td>LETTERS</td>\n",
       "      <td>A&amp;E</td>\n",
       "      <td>a and e</td>\n",
       "      <td>LETTERS</td>\n",
       "    </tr>\n",
       "    <tr>\n",
       "      <th>9686956</th>\n",
       "      <td>730998</td>\n",
       "      <td>6</td>\n",
       "      <td>LETTERS</td>\n",
       "      <td>AT&amp;T</td>\n",
       "      <td>a t and t</td>\n",
       "      <td>LETTERS</td>\n",
       "    </tr>\n",
       "    <tr>\n",
       "      <th>9687328</th>\n",
       "      <td>731026</td>\n",
       "      <td>19</td>\n",
       "      <td>LETTERS</td>\n",
       "      <td>AT&amp;T</td>\n",
       "      <td>a t and t</td>\n",
       "      <td>LETTERS</td>\n",
       "    </tr>\n",
       "    <tr>\n",
       "      <th>9687593</th>\n",
       "      <td>731049</td>\n",
       "      <td>0</td>\n",
       "      <td>LETTERS</td>\n",
       "      <td>AT&amp;T</td>\n",
       "      <td>a t and t</td>\n",
       "      <td>LETTERS</td>\n",
       "    </tr>\n",
       "    <tr>\n",
       "      <th>9687604</th>\n",
       "      <td>731049</td>\n",
       "      <td>11</td>\n",
       "      <td>LETTERS</td>\n",
       "      <td>AT&amp;T</td>\n",
       "      <td>a t and t</td>\n",
       "      <td>LETTERS</td>\n",
       "    </tr>\n",
       "    <tr>\n",
       "      <th>9696006</th>\n",
       "      <td>731677</td>\n",
       "      <td>12</td>\n",
       "      <td>LETTERS</td>\n",
       "      <td>R&amp;B</td>\n",
       "      <td>r and b</td>\n",
       "      <td>LETTERS</td>\n",
       "    </tr>\n",
       "    <tr>\n",
       "      <th>9696637</th>\n",
       "      <td>731727</td>\n",
       "      <td>4</td>\n",
       "      <td>LETTERS</td>\n",
       "      <td>D&amp;AD</td>\n",
       "      <td>d and a d</td>\n",
       "      <td>LETTERS</td>\n",
       "    </tr>\n",
       "    <tr>\n",
       "      <th>9723848</th>\n",
       "      <td>733735</td>\n",
       "      <td>7</td>\n",
       "      <td>LETTERS</td>\n",
       "      <td>R&amp;B</td>\n",
       "      <td>r and b</td>\n",
       "      <td>LETTERS</td>\n",
       "    </tr>\n",
       "    <tr>\n",
       "      <th>9726855</th>\n",
       "      <td>733948</td>\n",
       "      <td>6</td>\n",
       "      <td>LETTERS</td>\n",
       "      <td>CD&amp;DVD</td>\n",
       "      <td>c d and d v d</td>\n",
       "      <td>LETTERS</td>\n",
       "    </tr>\n",
       "    <tr>\n",
       "      <th>9745015</th>\n",
       "      <td>735295</td>\n",
       "      <td>21</td>\n",
       "      <td>LETTERS</td>\n",
       "      <td>Q&amp;A</td>\n",
       "      <td>q and a</td>\n",
       "      <td>LETTERS</td>\n",
       "    </tr>\n",
       "    <tr>\n",
       "      <th>9759392</th>\n",
       "      <td>736354</td>\n",
       "      <td>10</td>\n",
       "      <td>LETTERS</td>\n",
       "      <td>C&amp;W</td>\n",
       "      <td>c and w</td>\n",
       "      <td>LETTERS</td>\n",
       "    </tr>\n",
       "    <tr>\n",
       "      <th>9857839</th>\n",
       "      <td>743618</td>\n",
       "      <td>11</td>\n",
       "      <td>LETTERS</td>\n",
       "      <td>A&amp;M</td>\n",
       "      <td>a and m</td>\n",
       "      <td>LETTERS</td>\n",
       "    </tr>\n",
       "    <tr>\n",
       "      <th>9884420</th>\n",
       "      <td>745561</td>\n",
       "      <td>15</td>\n",
       "      <td>LETTERS</td>\n",
       "      <td>R&amp;S</td>\n",
       "      <td>r and s</td>\n",
       "      <td>LETTERS</td>\n",
       "    </tr>\n",
       "    <tr>\n",
       "      <th>9915065</th>\n",
       "      <td>747838</td>\n",
       "      <td>8</td>\n",
       "      <td>LETTERS</td>\n",
       "      <td>AT&amp;T</td>\n",
       "      <td>a t and t</td>\n",
       "      <td>LETTERS</td>\n",
       "    </tr>\n",
       "  </tbody>\n",
       "</table>\n",
       "<p>856 rows × 6 columns</p>\n",
       "</div>"
      ],
      "text/plain": [
       "         sentence_id  token_id    class  before          after class_org\n",
       "12116            992        17  LETTERS     Q&A        q and a   LETTERS\n",
       "24296           1943         2  LETTERS   M&M's      m and m's   LETTERS\n",
       "40534           3221        11  LETTERS     H&R        h and r   LETTERS\n",
       "60702           4893         6  LETTERS     R&B        r and b   LETTERS\n",
       "79553           6390         3  LETTERS     S&C        s and c   LETTERS\n",
       "81530           6548         4  LETTERS     C&P        c and p   LETTERS\n",
       "85802           6883         8  LETTERS     R&B        r and b   LETTERS\n",
       "85894           6890         1  LETTERS   T&TEC    t and t e c   LETTERS\n",
       "111104          8908         8  LETTERS     S&P        s and p   LETTERS\n",
       "140611         11289         7  LETTERS     V&A        v and a   LETTERS\n",
       "140862         11309         6  LETTERS     T&T        t and t   LETTERS\n",
       "150639         12084         2  LETTERS     A&S        a and s   LETTERS\n",
       "153340         12304         1  LETTERS     R&R        r and r   LETTERS\n",
       "154186         12373         0  LETTERS     V&A        v and a   LETTERS\n",
       "163301         13132        12  LETTERS   D&D's      d and d's   LETTERS\n",
       "189398         15237         6  LETTERS     B&W        b and w   LETTERS\n",
       "214077         17289         2  LETTERS    MB&M      m b and m   LETTERS\n",
       "245154         19729         0  LETTERS     A&C        a and c   LETTERS\n",
       "253994         20459        13  LETTERS     P&R        p and r   LETTERS\n",
       "257119         20718         6  LETTERS     R&D        r and d   LETTERS\n",
       "257975         20793         8  LETTERS     Q&A        q and a   LETTERS\n",
       "283664         22814         9  LETTERS    AG&W      a g and w   LETTERS\n",
       "299710         24119         8  LETTERS   PSE&G    p s e and g   LETTERS\n",
       "310427         24966         0  LETTERS     Q&A        q and a   LETTERS\n",
       "338745         27235         6  LETTERS     G&L        g and l   LETTERS\n",
       "370611         29786        13  LETTERS     B&W        b and w   LETTERS\n",
       "377055         30293         3  LETTERS     R&B        r and b   LETTERS\n",
       "385646         30975         3  LETTERS     A&M        a and m   LETTERS\n",
       "393476         31582         8  LETTERS    CK&S      c k and s   LETTERS\n",
       "416934         33456         1  LETTERS    CD&M      c d and m   LETTERS\n",
       "...              ...       ...      ...     ...            ...       ...\n",
       "9479251       715572         1  LETTERS     R&B        r and b   LETTERS\n",
       "9481963       715783         4  LETTERS     M&C        m and c   LETTERS\n",
       "9543133       720429        18  LETTERS     R&B        r and b   LETTERS\n",
       "9559658       721650         3  LETTERS     B&B        b and b   LETTERS\n",
       "9560300       721700        14  LETTERS     S&P        s and p   LETTERS\n",
       "9575027       722774         4  LETTERS     R&B        r and b   LETTERS\n",
       "9588148       723780         5  LETTERS    AT&T      a t and t   LETTERS\n",
       "9612742       725600        11  LETTERS     D&D        d and d   LETTERS\n",
       "9631058       726914         4  LETTERS     A&E        a and e   LETTERS\n",
       "9637475       727368        10  LETTERS     R&B        r and b   LETTERS\n",
       "9661760       729187         6  LETTERS     A&M        a and m   LETTERS\n",
       "9666765       729548        15  LETTERS     R&B        r and b   LETTERS\n",
       "9668087       729643        12  LETTERS    US&R      u s and r   LETTERS\n",
       "9668092       729643        17  LETTERS    US&R      u s and r   LETTERS\n",
       "9672716       729978         7  LETTERS     R&B        r and b   LETTERS\n",
       "9680325       730522         4  LETTERS     R&B        r and b   LETTERS\n",
       "9680810       730556        16  LETTERS     A&E        a and e   LETTERS\n",
       "9686956       730998         6  LETTERS    AT&T      a t and t   LETTERS\n",
       "9687328       731026        19  LETTERS    AT&T      a t and t   LETTERS\n",
       "9687593       731049         0  LETTERS    AT&T      a t and t   LETTERS\n",
       "9687604       731049        11  LETTERS    AT&T      a t and t   LETTERS\n",
       "9696006       731677        12  LETTERS     R&B        r and b   LETTERS\n",
       "9696637       731727         4  LETTERS    D&AD      d and a d   LETTERS\n",
       "9723848       733735         7  LETTERS     R&B        r and b   LETTERS\n",
       "9726855       733948         6  LETTERS  CD&DVD  c d and d v d   LETTERS\n",
       "9745015       735295        21  LETTERS     Q&A        q and a   LETTERS\n",
       "9759392       736354        10  LETTERS     C&W        c and w   LETTERS\n",
       "9857839       743618        11  LETTERS     A&M        a and m   LETTERS\n",
       "9884420       745561        15  LETTERS     R&S        r and s   LETTERS\n",
       "9915065       747838         8  LETTERS    AT&T      a t and t   LETTERS\n",
       "\n",
       "[856 rows x 6 columns]"
      ]
     },
     "execution_count": 327,
     "metadata": {},
     "output_type": "execute_result"
    }
   ],
   "source": [
    "all_data[(all_data['before'].str.contains('&')) & (all_data['after'] != 'and')]"
   ]
  },
  {
   "cell_type": "code",
   "execution_count": null,
   "metadata": {
    "collapsed": true
   },
   "outputs": [],
   "source": []
  },
  {
   "cell_type": "markdown",
   "metadata": {},
   "source": [
    "# Some debugging etc"
   ]
  },
  {
   "cell_type": "code",
   "execution_count": null,
   "metadata": {
    "collapsed": true
   },
   "outputs": [],
   "source": [
    "tmp = all_data[all_data['class']=='VERBATIM']\n",
    "len(tmp)\n",
    "len(tmp[tmp.before.str.contains(VERBATIM_CHAR)]) / len(tmp)"
   ]
  },
  {
   "cell_type": "code",
   "execution_count": null,
   "metadata": {
    "collapsed": true
   },
   "outputs": [],
   "source": [
    "tmp = all_data[all_data['class']=='LETTERS']\n",
    "tmp[tmp['before'] == tmp['after']].sample(5)"
   ]
  },
  {
   "cell_type": "code",
   "execution_count": null,
   "metadata": {
    "collapsed": true
   },
   "outputs": [],
   "source": [
    "all_data[all_data['before'] == \"::\"].sample(5)"
   ]
  },
  {
   "cell_type": "code",
   "execution_count": null,
   "metadata": {
    "collapsed": true
   },
   "outputs": [],
   "source": []
  },
  {
   "cell_type": "code",
   "execution_count": null,
   "metadata": {
    "collapsed": true
   },
   "outputs": [],
   "source": [
    "all_data['class'].unique()"
   ]
  },
  {
   "cell_type": "code",
   "execution_count": null,
   "metadata": {
    "collapsed": true
   },
   "outputs": [],
   "source": [
    "all_data.groupby(\"class\")[\"class\"].count()"
   ]
  },
  {
   "cell_type": "code",
   "execution_count": null,
   "metadata": {
    "collapsed": true
   },
   "outputs": [],
   "source": []
  },
  {
   "cell_type": "code",
   "execution_count": null,
   "metadata": {
    "collapsed": true
   },
   "outputs": [],
   "source": [
    "all_data[all_data['class'] == \"VERBATIM\"].sample(100)"
   ]
  },
  {
   "cell_type": "code",
   "execution_count": null,
   "metadata": {
    "collapsed": true
   },
   "outputs": [],
   "source": []
  },
  {
   "cell_type": "code",
   "execution_count": null,
   "metadata": {
    "collapsed": true
   },
   "outputs": [],
   "source": []
  },
  {
   "cell_type": "code",
   "execution_count": null,
   "metadata": {
    "collapsed": true
   },
   "outputs": [],
   "source": []
  },
  {
   "cell_type": "code",
   "execution_count": null,
   "metadata": {
    "collapsed": true
   },
   "outputs": [],
   "source": []
  }
 ],
 "metadata": {
  "anaconda-cloud": {},
  "kernelspec": {
   "display_name": "Python [conda env:py3_pytorch_2]",
   "language": "python",
   "name": "conda-env-py3_pytorch_2-py"
  },
  "language_info": {
   "codemirror_mode": {
    "name": "ipython",
    "version": 3
   },
   "file_extension": ".py",
   "mimetype": "text/x-python",
   "name": "python",
   "nbconvert_exporter": "python",
   "pygments_lexer": "ipython3",
   "version": "3.6.1"
  }
 },
 "nbformat": 4,
 "nbformat_minor": 2
}
