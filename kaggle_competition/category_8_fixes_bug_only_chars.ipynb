{
 "cells": [
  {
   "cell_type": "code",
   "execution_count": null,
   "metadata": {
    "collapsed": true
   },
   "outputs": [],
   "source": []
  },
  {
   "cell_type": "markdown",
   "metadata": {},
   "source": [
    "# BUG IT WAS USING ONLY CHARS - WORKS KIND OF BUT ALL WORDS INFO WAS LOST"
   ]
  },
  {
   "cell_type": "markdown",
   "metadata": {},
   "source": [
    "# BUG IT WAS USING ONLY CHARS - WORKS KIND OF BUT ALL WORDS INFO WAS LOST"
   ]
  },
  {
   "cell_type": "markdown",
   "metadata": {},
   "source": [
    "# BUG IT WAS USING ONLY CHARS - WORKS KIND OF BUT ALL WORDS INFO WAS LOST"
   ]
  },
  {
   "cell_type": "markdown",
   "metadata": {},
   "source": [
    "# BUG IT WAS USING ONLY CHARS - WORKS KIND OF BUT ALL WORDS INFO WAS LOST"
   ]
  },
  {
   "cell_type": "code",
   "execution_count": null,
   "metadata": {
    "collapsed": true
   },
   "outputs": [],
   "source": []
  },
  {
   "cell_type": "code",
   "execution_count": null,
   "metadata": {
    "collapsed": true
   },
   "outputs": [],
   "source": []
  },
  {
   "cell_type": "code",
   "execution_count": null,
   "metadata": {
    "collapsed": true
   },
   "outputs": [],
   "source": []
  },
  {
   "cell_type": "code",
   "execution_count": 1,
   "metadata": {},
   "outputs": [
    {
     "name": "stdout",
     "output_type": "stream",
     "text": [
      "Pytorch utils oh: pytorch_utils_oh_2.py\n",
      "Pytorch: 0.2.0_4\n"
     ]
    }
   ],
   "source": [
    "%matplotlib inline\n",
    "import importlib\n",
    "from pytorch_utils_oh_2 import *"
   ]
  },
  {
   "cell_type": "code",
   "execution_count": null,
   "metadata": {
    "collapsed": true
   },
   "outputs": [],
   "source": []
  },
  {
   "cell_type": "code",
   "execution_count": null,
   "metadata": {
    "collapsed": true
   },
   "outputs": [],
   "source": []
  },
  {
   "cell_type": "code",
   "execution_count": null,
   "metadata": {
    "collapsed": true
   },
   "outputs": [],
   "source": []
  },
  {
   "cell_type": "code",
   "execution_count": 2,
   "metadata": {
    "collapsed": true
   },
   "outputs": [],
   "source": [
    "from IPython.core.interactiveshell import InteractiveShell\n",
    "InteractiveShell.ast_node_interactivity = \"all\""
   ]
  },
  {
   "cell_type": "code",
   "execution_count": 3,
   "metadata": {
    "collapsed": true
   },
   "outputs": [],
   "source": [
    "MODEL_SAVE_PATH = 'category_8_fixes'"
   ]
  },
  {
   "cell_type": "code",
   "execution_count": 4,
   "metadata": {},
   "outputs": [
    {
     "name": "stdout",
     "output_type": "stream",
     "text": [
      "Pytorch utils oh: pytorch_utils_oh_2.py\n",
      "Pytorch: 0.2.0_4\n"
     ]
    }
   ],
   "source": [
    "import pytorch_utils_oh_2; importlib.reload(pytorch_utils_oh_2); from pytorch_utils_oh_2 import *;"
   ]
  },
  {
   "cell_type": "markdown",
   "metadata": {},
   "source": [
    "# Data loading"
   ]
  },
  {
   "cell_type": "code",
   "execution_count": 24,
   "metadata": {
    "collapsed": true
   },
   "outputs": [],
   "source": [
    "all_data = pickle.load(open(\"data/en_train_fixed_5_manual.pkl\", \"rb\" ))\n",
    "sample_data = all_data[all_data['class'] != 'MANUAL']\n",
    "del(all_data)"
   ]
  },
  {
   "cell_type": "code",
   "execution_count": 25,
   "metadata": {},
   "outputs": [
    {
     "name": "stdout",
     "output_type": "stream",
     "text": [
      "['ELECTRONIC', 'LETTERS', 'NOT_CHANGED', 'NUMBERS', 'PLAIN', 'VERBATIM']\n",
      "6\n"
     ]
    }
   ],
   "source": [
    "categories_all = sorted(sample_data[\"class\"].unique())\n",
    "print(categories_all)\n",
    "print(len(categories_all))\n",
    "categories_index = dict((c, i) for i, c in enumerate(categories_all))"
   ]
  },
  {
   "cell_type": "markdown",
   "metadata": {},
   "source": [
    "### Utils stuff"
   ]
  },
  {
   "cell_type": "code",
   "execution_count": 26,
   "metadata": {},
   "outputs": [
    {
     "name": "stdout",
     "output_type": "stream",
     "text": [
      "<SOS><EOS>☒ !\"#$%&'(),-./0123456789:;ABCDEFGHIJKLMNOPQRSTUVWXYZ_abcdefghijklmnopqrstuvwxyz~£¥ª²³µº¼½¾éɒʻˈΩμ—€⅓⅔⅛\n"
     ]
    }
   ],
   "source": [
    "chars_normal, chars_normal_index = load_characters_pkl('data/en_features/chars_normal.pkl')\n",
    "print(''.join(chars_normal))"
   ]
  },
  {
   "cell_type": "code",
   "execution_count": 27,
   "metadata": {},
   "outputs": [
    {
     "data": {
      "text/plain": [
       "8192"
      ]
     },
     "execution_count": 27,
     "metadata": {},
     "output_type": "execute_result"
    },
    {
     "data": {
      "text/plain": [
       "['<EOS>', '<SOS>', '<UNK>', '<0000>', '<SAMPLE>', '.', ',', 'the', '\"', 'of']"
      ]
     },
     "execution_count": 27,
     "metadata": {},
     "output_type": "execute_result"
    }
   ],
   "source": [
    "common_words, common_words_index = load_common_words_10k()\n",
    "len(common_words)\n",
    "common_words[0:10]"
   ]
  },
  {
   "cell_type": "markdown",
   "metadata": {},
   "source": [
    "### More balanced sample"
   ]
  },
  {
   "cell_type": "code",
   "execution_count": 29,
   "metadata": {
    "collapsed": true
   },
   "outputs": [],
   "source": [
    "balanced_data_classes_select = list(sample_data.groupby('class'))\n",
    "\n",
    "balanced_data_accessed_counter = 0 \n",
    "balanced_data_randomize_freq = False\n",
    "balanced_data_length = 0\n",
    "\n",
    "def balanced_data_randomize_org(max_len=20000):\n",
    "    global balanced_data, balanced_data_length, balanced_data_accessed_counter, balanced_data_randomize_freq\n",
    "    balanced_data = pd.concat([v.sample(min(max_len, len(v))) for k, v in balanced_data_classes_select])\n",
    "    balanced_data_length = len(balanced_data)\n",
    "    balanced_data_randomize_freq = balanced_data_length * 0.2\n",
    "    balanced_data_accessed_counter = 0\n",
    "balanced_data_randomize = balanced_data_randomize_org\n",
    "\n",
    "def balanced_data_sample_row():\n",
    "    global balanced_data_accessed_counter\n",
    "    global balanced_data_last_sample\n",
    "    balanced_data_accessed_counter += 1\n",
    "    if balanced_data_randomize_freq and balanced_data_accessed_counter > balanced_data_randomize_freq:\n",
    "        balanced_data_randomize()\n",
    "    balanced_data_last_sample = balanced_data.iloc[random.randint(1, balanced_data_length-1)]\n",
    "    return balanced_data_last_sample\n",
    "    \n",
    "balanced_data_randomize()"
   ]
  },
  {
   "cell_type": "code",
   "execution_count": 30,
   "metadata": {},
   "outputs": [
    {
     "data": {
      "text/plain": [
       "class\n",
       "ELECTRONIC      4964\n",
       "LETTERS        20000\n",
       "NOT_CHANGED    20000\n",
       "NUMBERS        20000\n",
       "PLAIN          20000\n",
       "VERBATIM       11741\n",
       "Name: class, dtype: int64"
      ]
     },
     "execution_count": 30,
     "metadata": {},
     "output_type": "execute_result"
    }
   ],
   "source": [
    "balanced_data.groupby(\"class\")[\"class\"].count()"
   ]
  },
  {
   "cell_type": "markdown",
   "metadata": {},
   "source": [
    "### Samples"
   ]
  },
  {
   "cell_type": "code",
   "execution_count": 94,
   "metadata": {},
   "outputs": [
    {
     "name": "stdout",
     "output_type": "stream",
     "text": [
      "NOT_CHANGED : was -> was\n",
      "in august 2014 , it <SAMPLE> announced that moore would be joining the cast of hollyoaks as porsche mcqueen .\n",
      "torch.Size([1, 4, 104])\n",
      "torch.Size([1, 110, 8192])\n",
      "['i', 'n', '<UNK>', 'a', 'u', 'g', 'u', 's', 't', '<UNK>', '2', '0', '1', '4', '<UNK>', ',', '<UNK>', 'i', 't', '<UNK>', '<UNK>', '<UNK>', '<UNK>', '<UNK>', '<UNK>', '<UNK>', '<UNK>', '<UNK>', '<UNK>', 'a', 'n', 'n', 'o', 'u', 'n', 'c', 'e', 'd', '<UNK>', 't', 'h', 'a', 't', '<UNK>', 'm', 'o', 'o', 'r', 'e', '<UNK>', 'w', 'o', 'u', 'l', 'd', '<UNK>', 'b', 'e', '<UNK>', 'j', 'o', 'i', 'n', 'i', 'n', 'g', '<UNK>', 't', 'h', 'e', '<UNK>', 'c', 'a', 's', 't', '<UNK>', 'o', 'f', '<UNK>', 'h', 'o', 'l', 'l', 'y', 'o', 'a', 'k', 's', '<UNK>', 'a', 's', '<UNK>', 'p', 'o', 'r', 's', 'c', 'h', 'e', '<UNK>', 'm', 'c', 'q', 'u', 'e', 'e', 'n', '<UNK>', '.', '<EOS>']\n"
     ]
    }
   ],
   "source": [
    "def get_random_sample():\n",
    "    sample_row = balanced_data_sample_row()   \n",
    "    return sample_row['before'], sample_row['after'], sample_row['class'], sample_row['sentence']\n",
    "\n",
    "def tmp():\n",
    "    s_bef, s_aft, s_class, s_sentence = get_random_sample()\n",
    "    print(s_class, ':', s_bef, '->', s_aft)\n",
    "    print(s_sentence)\n",
    "    print(string_to_tensor(s_bef, chars_normal_index).shape)\n",
    "    words_t = words_to_tensor(list(s_sentence), common_words_index)\n",
    "    print(words_t.size())\n",
    "    #return words_t[0]\n",
    "    print([common_words[w[0]] for w in words_t[0].topk(1)[1]])\n",
    "    \n",
    "tmp = tmp()"
   ]
  },
  {
   "cell_type": "code",
   "execution_count": null,
   "metadata": {
    "collapsed": true
   },
   "outputs": [],
   "source": []
  },
  {
   "cell_type": "markdown",
   "metadata": {},
   "source": [
    "# BUG IT WAS USING ONLY CHARS - WORKS KIND OF BUT ALL WORDS INFO WAS LOST"
   ]
  },
  {
   "cell_type": "code",
   "execution_count": null,
   "metadata": {
    "collapsed": true
   },
   "outputs": [],
   "source": []
  },
  {
   "cell_type": "code",
   "execution_count": null,
   "metadata": {
    "collapsed": true
   },
   "outputs": [],
   "source": []
  },
  {
   "cell_type": "code",
   "execution_count": null,
   "metadata": {
    "collapsed": true
   },
   "outputs": [],
   "source": []
  },
  {
   "cell_type": "markdown",
   "metadata": {},
   "source": [
    "# Model"
   ]
  },
  {
   "cell_type": "code",
   "execution_count": 34,
   "metadata": {
    "collapsed": true
   },
   "outputs": [],
   "source": [
    "class CategorizeRNN(nn.Module):\n",
    "    def __init__(self, output_size, words_input_size, chars_input_size, words_hidden_size, chars_hidden_size,\n",
    "                 words_dropout=0, chars_dropout=0, words_layers=1, chars_layers=1):\n",
    "        super(CategorizeRNN, self).__init__()\n",
    "        \n",
    "        self.words_layers = words_layers\n",
    "        self.chars_layers = chars_layers\n",
    "        self.words_hidden_size = words_hidden_size\n",
    "        self.chars_hidden_size = chars_hidden_size\n",
    "\n",
    "        self.rnn_words = nn.LSTM(words_input_size, words_hidden_size // 2, words_layers,\n",
    "                                 dropout=words_dropout, batch_first=True, bidirectional=True)\n",
    "\n",
    "        self.rnn_chars = nn.LSTM(chars_input_size, chars_hidden_size // 2, chars_layers,\n",
    "                                 dropout=chars_dropout, batch_first=True, bidirectional=True)\n",
    "        \n",
    "        self.lin_output = nn.Linear(words_hidden_size+chars_hidden_size, output_size)\n",
    "        \n",
    "    def forward(self, words_tensor, string_tensor, init_hidden = True):\n",
    "        if init_hidden:\n",
    "            hidden_words, hidden_chars = self.init_hidden()\n",
    "        \n",
    "        all_outputs_words, hidden_words = self.rnn_words(words_tensor, hidden_words)\n",
    "        output_words = all_outputs_words[:, -1]\n",
    "        \n",
    "        all_outputs_chars, hidden_chars = self.rnn_chars(string_tensor, hidden_chars)\n",
    "        output_chars = all_outputs_chars[:, -1]\n",
    "        \n",
    "        output = torch.cat((output_words, output_chars), 1)\n",
    "        \n",
    "        output = self.lin_output(output)\n",
    "        output = F.log_softmax(output)\n",
    "        \n",
    "        return output\n",
    "\n",
    "    def init_hidden(self):\n",
    "        var1_1 = Variable(torch.zeros(2 * self.words_layers, 1, self.words_hidden_size // 2))\n",
    "        var1_2 = Variable(torch.zeros(2 * self.words_layers, 1, self.words_hidden_size // 2))\n",
    "        var2_1 = Variable(torch.zeros(2 * self.chars_layers, 1, self.chars_hidden_size // 2))\n",
    "        var2_2 = Variable(torch.zeros(2 * self.chars_layers, 1, self.chars_hidden_size // 2))\n",
    "        var1_1 = var1_1.cuda(); var1_2 = var1_2.cuda()\n",
    "        var2_1 = var2_1.cuda(); var2_2 = var2_2.cuda()\n",
    "        return ((var1_1, var1_2), (var2_1, var2_2))"
   ]
  },
  {
   "cell_type": "code",
   "execution_count": 41,
   "metadata": {},
   "outputs": [
    {
     "name": "stdout",
     "output_type": "stream",
     "text": [
      "Save path: data/models/category_8_fixes\n"
     ]
    },
    {
     "data": {
      "text/plain": [
       "CategorizeRNN (\n",
       "  (rnn_words): LSTM(8192, 128, num_layers=2, batch_first=True, dropout=0.2, bidirectional=True)\n",
       "  (rnn_chars): LSTM(104, 192, num_layers=2, batch_first=True, dropout=0.2, bidirectional=True)\n",
       "  (lin_output): Linear (640 -> 6)\n",
       ")"
      ]
     },
     "execution_count": 41,
     "metadata": {},
     "output_type": "execute_result"
    }
   ],
   "source": [
    "model = CategorizeRNN(len(categories_all), \n",
    "                      words_input_size=len(common_words), chars_input_size=len(chars_normal),\n",
    "                      words_hidden_size=256, chars_hidden_size=384,\n",
    "                      words_layers=2, chars_layers=2,\n",
    "                      words_dropout=0.2, chars_dropout=0.2)\n",
    "model = model.cuda()\n",
    "\n",
    "model_training = ModelTraining(MODEL_SAVE_PATH, [model])\n",
    "\n",
    "model"
   ]
  },
  {
   "cell_type": "markdown",
   "metadata": {},
   "source": [
    "### Accuracy"
   ]
  },
  {
   "cell_type": "code",
   "execution_count": null,
   "metadata": {
    "collapsed": true
   },
   "outputs": [],
   "source": []
  },
  {
   "cell_type": "code",
   "execution_count": null,
   "metadata": {
    "collapsed": true
   },
   "outputs": [],
   "source": []
  },
  {
   "cell_type": "code",
   "execution_count": 95,
   "metadata": {},
   "outputs": [
    {
     "name": "stdout",
     "output_type": "stream",
     "text": [
      "torch.Size([1, 94, 8192])\n"
     ]
    },
    {
     "data": {
      "text/plain": [
       "(Variable containing:\n",
       " -2.5207e+01 -9.6992e+00 -1.3651e+01 -2.0422e+01 -6.2466e-05 -2.2194e+01\n",
       " [torch.cuda.FloatTensor of size 1x6 (GPU 0)],\n",
       " ('PLAIN', 4),\n",
       " ('PLAIN', 4),\n",
       " ('vs',\n",
       "  'versus',\n",
       "  'PLAIN',\n",
       "  '27 , 2003 single game yards passing : 586 ( rank 23rd ) ( <SAMPLE> north carolina st ) sept .'))"
      ]
     },
     "execution_count": 95,
     "metadata": {},
     "output_type": "execute_result"
    }
   ],
   "source": [
    "def test_model_single_sample(model):\n",
    "    s_bef, s_aft, s_class, s_sentence = sample = get_random_sample()\n",
    "    \n",
    "    words_t = words_to_tensor(list(s_sentence), common_words_index)\n",
    "    words_t = Variable(words_t).cuda()\n",
    "    \n",
    "    print(words_t.size()) # THIS IS TOTALLY WRONG, NOT USiNG WORDS BUT CHARS\n",
    "    \n",
    "    string_t = string_to_tensor(s_bef, chars_normal_index)\n",
    "    string_t = Variable(string_t).cuda()\n",
    "    \n",
    "    output = model(words_t, string_t)\n",
    "    guess = category_from_output(output, categories_all)\n",
    "\n",
    "    return output, guess, (s_class, categories_index[s_class]), sample\n",
    "    \n",
    "tmp = test_model_single_sample(model)\n",
    "tmp"
   ]
  },
  {
   "cell_type": "code",
   "execution_count": 43,
   "metadata": {
    "collapsed": true
   },
   "outputs": [],
   "source": [
    "def print_local_wrong_predictions(max_results=10):\n",
    "    arr = get_some_wrong_predictions(model, test_model_single_sample, max_iterations=10000, max_results=max_results)\n",
    "    for sample, predict, output in arr:\n",
    "        s_bef, s_aft, s_class, s_sentence = sample\n",
    "        m = torch.nn.functional.softmax(output).max().data[0]\n",
    "        print(\"{:>11} -> {:>11} ({:0.3}) || {:>8} -> {} == {}\".format(s_class, predict[0], m, s_bef, s_aft, ' '.join(s_sentence), ))"
   ]
  },
  {
   "cell_type": "code",
   "execution_count": 44,
   "metadata": {},
   "outputs": [
    {
     "name": "stdout",
     "output_type": "stream",
     "text": [
      "    NUMBERS ->       PLAIN (0.17) || 9780966204292 -> nine trillion seven hundred eighty billion nine hundred sixty six million two hundred four thousand two hundred ninety two == p o e m s   :   b e a u   s i a   :   < S A M P L E >   :   a m a z o n   .   c o m   :   b o o k s   \"   .\n"
     ]
    }
   ],
   "source": [
    "print_local_wrong_predictions(max_results=1)"
   ]
  },
  {
   "cell_type": "markdown",
   "metadata": {},
   "source": [
    "### Training"
   ]
  },
  {
   "cell_type": "code",
   "execution_count": 45,
   "metadata": {
    "collapsed": true
   },
   "outputs": [],
   "source": [
    "def train(model, s_category, s_sentence, s_bef, loss_function, optimizer):\n",
    "    \n",
    "    category_tensor = Variable(torch.LongTensor([categories_index[s_category]])).cuda()\n",
    "    \n",
    "    words_t = words_to_tensor(list(s_sentence), common_words_index)\n",
    "    words_t = Variable(words_t).cuda()\n",
    "    \n",
    "    string_t = string_to_tensor(s_bef, chars_normal_index)\n",
    "    string_t = Variable(string_t).cuda()\n",
    "    \n",
    "    output = model(words_t, string_t)\n",
    "    loss = loss_function(output, category_tensor)\n",
    "    optimizer.zero_grad()\n",
    "    loss.backward()\n",
    "    optimizer.step()\n",
    "    \n",
    "    return output, loss.data[0]"
   ]
  },
  {
   "cell_type": "code",
   "execution_count": 46,
   "metadata": {
    "collapsed": true
   },
   "outputs": [],
   "source": [
    "def train_iterations(n_iters=100000, lr=0.001, print_every=10000, plot_every=1000):\n",
    "\n",
    "    start = time.time()\n",
    "    model.train()\n",
    "\n",
    "    current_loss = 0\n",
    "    current_loss_iter = 0\n",
    "\n",
    "    optimizer = torch.optim.Adam(model.parameters(), lr=lr)\n",
    "    loss_function = nn.NLLLoss()\n",
    "    \n",
    "    for iteration in range(1, n_iters + 1):\n",
    "        model_training.iterations += 1\n",
    "        \n",
    "        s_bef, s_aft, s_class, s_sentence = get_random_sample()\n",
    "        \n",
    "        result, loss = train(model=model, s_category=s_class, s_sentence=s_sentence,\n",
    "                             s_bef=s_bef, optimizer=optimizer, loss_function=loss_function)\n",
    "\n",
    "        current_loss += loss\n",
    "        current_loss_iter += 1\n",
    "\n",
    "        # Print iter number, loss, name and guess\n",
    "        if iteration % print_every == 0:\n",
    "            guess, guess_i = category_from_output(result, categories_all)\n",
    "            correct = '✓' if guess == s_class else \"✗ {}\".format(s_class)\n",
    "            print(\"{:>6d} {:>4.0%} ({:>8}) {:>7.3f}   | {:>6.2f}: {} -> {} ({})\".format(\n",
    "                      model_training.iterations, iteration/n_iters, time_since(start),\n",
    "                      current_loss/current_loss_iter, loss,\n",
    "                      s_bef, guess, correct))\n",
    "\n",
    "        # Add current loss avg to list of losses\n",
    "        if iteration % plot_every == 0:\n",
    "            model_training.losses.append(current_loss / plot_every)\n",
    "            model_training.learning_rates.append(lr)\n",
    "            current_loss = 0\n",
    "            current_loss_iter = 0\n",
    "            \n",
    "        if model_training.iterations % 50000 == 0 or model_training.iterations == 10:\n",
    "            model_training.save_models()\n",
    "            acc = test_model_accuracy(model, test_model_single_sample)\n",
    "            model_training.accuracy.append(acc)\n",
    "    \n",
    "    # test_model_accuracy(model, n_sample=10000)"
   ]
  },
  {
   "cell_type": "code",
   "execution_count": 47,
   "metadata": {
    "scrolled": true
   },
   "outputs": [
    {
     "name": "stdout",
     "output_type": "stream",
     "text": [
      "     9  18% (   0m 0s)   1.791   |   1.77: June 2011 -> LETTERS (✗ NUMBERS)\n",
      "Saved model to data/models/category_8_fixes/10_(CategorizeRNN)\n",
      "Accuracy: 27.49% (    2749/   10000)\n",
      "    18  36% (   1m 5s)   1.788   |   1.75: 5 February 1967 -> NUMBERS (✓)\n",
      "    27  54% (   1m 6s)   1.785   |   1.76: - -> PLAIN (✓)\n",
      "    36  72% (   1m 6s)   1.791   |   1.75: 1919 -> LETTERS (✗ NUMBERS)\n",
      "    45  90% (   1m 6s)   1.789   |   1.77: the -> LETTERS (✗ NOT_CHANGED)\n"
     ]
    }
   ],
   "source": [
    "train_iterations(n_iters=50, print_every=9, lr=0.0001)"
   ]
  },
  {
   "cell_type": "code",
   "execution_count": 48,
   "metadata": {},
   "outputs": [
    {
     "name": "stdout",
     "output_type": "stream",
     "text": [
      "   550  53% (   0m 8s)   1.687   |   1.68: UCLA -> NUMBERS (✗ LETTERS)\n"
     ]
    }
   ],
   "source": [
    "train_iterations(n_iters=(1000-model_training.iterations), print_every=500, lr=0.0001)"
   ]
  },
  {
   "cell_type": "code",
   "execution_count": 49,
   "metadata": {},
   "outputs": [
    {
     "name": "stdout",
     "output_type": "stream",
     "text": [
      "  2000  10% (  0m 16s)   0.967   |   1.66: . -> VERBATIM (✗ NOT_CHANGED)\n",
      "  3000  20% (  0m 33s)   0.691   |   0.25: Deadline.comViagas -> ELECTRONIC (✓)\n",
      "  4000  30% (  0m 50s)   0.623   |   0.20: MA -> LETTERS (✓)\n",
      "  5000  40% (   1m 7s)   0.516   |   0.00: 242.0 -> NUMBERS (✓)\n",
      "  6000  50% (  1m 24s)   0.438   |   0.54: theatre -> PLAIN (✓)\n",
      "  7000  60% (  1m 42s)   0.450   |   0.02: 07 -> NUMBERS (✓)\n",
      "  8000  70% (  1m 59s)   0.447   |   0.01: API -> LETTERS (✓)\n",
      "  9000  80% (  2m 16s)   0.409   |   0.19: - -> PLAIN (✓)\n",
      " 10000  90% (  2m 34s)   0.401   |   0.07: S. -> LETTERS (✓)\n",
      " 11000 100% (  2m 51s)   0.370   |   0.00: & -> VERBATIM (✓)\n"
     ]
    }
   ],
   "source": [
    "train_iterations(n_iters=10000, lr=0.0001, print_every=1000)"
   ]
  },
  {
   "cell_type": "code",
   "execution_count": 50,
   "metadata": {},
   "outputs": [
    {
     "name": "stdout",
     "output_type": "stream",
     "text": [
      " 21000  11% (  2m 46s)   0.167   |   0.00: # -> VERBATIM (✓)\n",
      " 31000  22% (  5m 27s)   0.220   |   0.42: collections -> NOT_CHANGED (✓)\n",
      " 41000  34% (   8m 8s)   0.120   |   0.00: Britannica.com -> ELECTRONIC (✓)\n",
      "Saved model to data/models/category_8_fixes/50000_(CategorizeRNN)\n",
      "Accuracy: 96.67% (    9667/   10000)\n",
      " 51000  45% (  12m 1s)   0.100   |   0.00: S. -> LETTERS (✓)\n",
      " 61000  56% (  15m 3s)   0.061   |   0.00: S. -> LETTERS (✓)\n",
      " 71000  67% (  18m 9s)   0.081   |   0.00: mr -> PLAIN (✓)\n",
      " 81000  79% ( 20m 59s)   0.123   |   0.17: ff -> LETTERS (✓)\n",
      " 91000  90% ( 23m 43s)   0.071   |   0.02: IJN -> LETTERS (✓)\n",
      "Saved model to data/models/category_8_fixes/100000_(CategorizeRNN)\n",
      "Accuracy: 97.89% (    9789/   10000)\n"
     ]
    }
   ],
   "source": [
    "train_iterations(n_iters=89000, print_every=10000)"
   ]
  },
  {
   "cell_type": "code",
   "execution_count": 51,
   "metadata": {},
   "outputs": [
    {
     "name": "stdout",
     "output_type": "stream",
     "text": [
      "NOT_CHANGED ->       PLAIN (0.97) ||        : -> : == n e w   y o r k   < S A M P L E >   r o u t l e d g e   ,   2 0 1 0   .\n",
      "    LETTERS -> NOT_CHANGED (0.888) ||   Ciprés -> c i p r e acute s == t h e y   t r a v e l e d   t o   e l   < S A M P L E >   ,   l o c a t e d   i n   s i e r r a   d e   l a s   m i n a s   ,   m i l e s   n o r t h   o f   t h e   m o t a g u a   r i v e r   v a l l e y   .\n",
      "      PLAIN ->    VERBATIM (0.93) ||        ~ -> to == \"   p c   n e w s   t o p   5 0   s a l e s   r a n k i n g   f o r   b i s h o j o   g a m e s   s o l d   i n   j a p a n   n o   1 0 0   (   5   /   1 6   < S A M P L E >   5   /   3 1   )   \"   (   i n   j a p a n e s e   )   .\n",
      "      PLAIN -> NOT_CHANGED (0.899) ||   yahoo! -> yahoo == o n   s e p t e m b e r   9   ,   < S A M P L E >\n",
      "      PLAIN -> NOT_CHANGED (0.979) || Muhlenweg -> muhlen weg == g o t t a r d i   ,   e   ;   k r a w c z y k   ,   j   .   ;   v o n   s u c h o d o l e t z   ,   h   .   ;   s c h a d t   ,   s   .   ;   < S A M P L E >   ,   a   .   ;   u g u r u   ,   g   .   ;   s u s s m u t h   ,   r   .   d   .   (   2 0 1 1   )   .\n",
      "NOT_CHANGED ->     LETTERS (0.532) ||     nova -> nova == \"   s p e c i e s   < S A M P L E >   e   g e n e r e   a g a r i c u s   l   .   e x   f r   .\n",
      "    LETTERS -> NOT_CHANGED (0.995) ||     ihre -> i h r e == i n   :   g e n e   ,   s p r a c h e n   u n d   < S A M P L E >   e v o l u t i o n   .\n",
      "NOT_CHANGED ->       PLAIN (0.998) ||        - -> - == b i o g r a p h i c a l   s u m m a r y   (   g r o s v e n o r   p r i n t s   < S A M P L E >   2 1   d e c   .   2 0 1 0   )   .\n",
      "    LETTERS ->       PLAIN (0.92) ||       HR -> h r == s p e c i a l i s t s   ,   c o n v e r s e l y   ,   w o r k   i n   a   s p e c i f i c   < S A M P L E >   f u n c t i o n   .\n",
      "    LETTERS -> NOT_CHANGED (0.881) ||     noix -> n o i x == l a   g r o s s e   < S A M P L E >   3 6   .\n"
     ]
    }
   ],
   "source": [
    "print_local_wrong_predictions()"
   ]
  },
  {
   "cell_type": "code",
   "execution_count": 55,
   "metadata": {},
   "outputs": [
    {
     "name": "stdout",
     "output_type": "stream",
     "text": [
      "110000  10% (  2m 40s)   0.044   |   0.00: neighbouring -> PLAIN (✓)\n",
      "120000  20% (  5m 22s)   0.070   |   0.00: H. -> LETTERS (✓)\n",
      "130000  30% (   8m 3s)   0.050   |   0.00: . -> NOT_CHANGED (✓)\n",
      "140000  40% ( 10m 44s)   0.066   |   0.00: & -> VERBATIM (✓)\n",
      "150000  50% ( 13m 27s)   0.067   |   0.00: 146 -> NUMBERS (✓)\n",
      "Saved model to data/models/category_8_fixes/150000_(CategorizeRNN)\n",
      "Accuracy: 98.42% (    9842/   10000)\n",
      "160000  60% ( 17m 13s)   0.053   |   0.00: $3 -> NUMBERS (✓)\n",
      "170000  70% ( 19m 54s)   0.044   |   0.00: & -> VERBATIM (✓)\n",
      "180000  80% ( 22m 35s)   0.038   |   0.01: local -> NOT_CHANGED (✓)\n",
      "190000  90% ( 25m 15s)   0.052   |   0.00: http://www.arrahman.com -> ELECTRONIC (✓)\n",
      "200000 100% ( 27m 56s)   0.056   |   0.00: NBC -> LETTERS (✓)\n",
      "Saved model to data/models/category_8_fixes/200000_(CategorizeRNN)\n",
      "Accuracy: 98.72% (    9872/   10000)\n"
     ]
    }
   ],
   "source": [
    "train_iterations(n_iters=100000, lr=0.0005, print_every=10000)"
   ]
  },
  {
   "cell_type": "code",
   "execution_count": 56,
   "metadata": {},
   "outputs": [
    {
     "name": "stdout",
     "output_type": "stream",
     "text": [
      "      PLAIN -> NOT_CHANGED (0.959) ||   meagre -> meager == h i s   f i r s t   e a r n i n g s   w e r e   < S A M P L E >   ,   a b o u t   f i v e   s h i l l i n g s   p e r   w e e k   i n   w h i t s t a b l e   ,   a n d   h e   f a c e d   f r e q u e n t   p r i v a t i o n   .\n",
      "      PLAIN ->     LETTERS (0.99) ||      CLL -> calle == \"   t h e   c u t   o f f   l e v e l s   o f   c d   2 3   e x p r e s s i o n   i n   t h e   d i f f e r e n t i a l   d i a g n o s i s   o f   m c l   a n d   < S A M P L E >   \"   .\n",
      "NOT_CHANGED ->       PLAIN (0.726) ||        : -> : == o c t o b e r   < S A M P L E >   k i s h i w a d a   d a n j i r i   m a t s u r i   ,   m o u n t a i n   d i s t r i c t s   .\n",
      "      PLAIN ->     LETTERS (0.999) ||      CPL -> corporal == i n   c o m p u t i n g   ,   t h e   c o m m o n   p u b l i c   l i c e n s e   (   < S A M P L E >   )   i s   a   f r e e   s o f t w a r e   /   o p e n   s o u r c e   s o f t w a r e   l i c e n s e   p u b l i s h e d   b y   i b m   .\n",
      "NOT_CHANGED ->     LETTERS (0.939) ||     itch -> itch == \"   s c r a t c h i n g   a n   < S A M P L E >   \"   .\n",
      "    NUMBERS ->     LETTERS (0.77) ||    XXVII -> twenty seven == \"   e y e   o f   t h e   s t o r m   \"   ,   i n   t h e   n e w   y o r k   r e v i e w   o f   b o o k s   ,   v o l u m e   < S A M P L E >   ,   n u m b e r   2   ,   2 1   f e b r u a r y   1 9 8 0   ,   p p   .\n",
      "NOT_CHANGED ->       PLAIN (0.976) ||       no -> no == i t   i s   g e n e r a l l y   a s s u m e d   t h a t   t h i s   w a s   h i s   b i r t h p l a c e   ,   a l t h o u g h   t h e r e   i s   < S A M P L E >   d i r e c t   p r o o f   .\n",
      "NOT_CHANGED ->       PLAIN (1.0) ||        - -> - == b r a d l e y   p l a y e d   a g a i n s t   m o n a g h a n   a n d   s c o r e d   2   -   0 8   (   2   < S A M P L E >   0 6   f r o m   p l a y   )   i n   a   m a n   o f   t h e   m a t c h   p e r f o r m a n c e   .\n",
      "NOT_CHANGED ->       PLAIN (0.994) || expertise -> expertise == h e r   < S A M P L E >   i s   f r e q u e n t l y   s o u g h t   a f t e r   b y   j o u r n a l i s t s   .\n",
      "      PLAIN ->     LETTERS (1.0) ||      BBQ -> barbeque == \"   a m e r i c a   ' s   b e s t   < S A M P L E >   c i t i e s   \"   .\n"
     ]
    }
   ],
   "source": [
    "print_local_wrong_predictions()"
   ]
  },
  {
   "cell_type": "code",
   "execution_count": 57,
   "metadata": {},
   "outputs": [
    {
     "name": "stdout",
     "output_type": "stream",
     "text": [
      "210000  10% (  2m 42s)   0.068   |   0.00: # -> VERBATIM (✓)\n",
      "220000  20% (  5m 25s)   0.058   |   0.00: 169 -> NUMBERS (✓)\n",
      "230000  30% (   8m 8s)   0.088   |   0.00: to -> NOT_CHANGED (✓)\n",
      "240000  40% ( 10m 50s)   0.074   |   0.00: A.J. -> LETTERS (✓)\n",
      "250000  50% ( 13m 31s)   0.054   |   0.00: - -> PLAIN (✓)\n",
      "Saved model to data/models/category_8_fixes/250000_(CategorizeRNN)\n",
      "Accuracy: 97.75% (    9775/   10000)\n",
      "260000  60% ( 17m 15s)   0.045   |   0.01: no -> PLAIN (✓)\n",
      "270000  70% ( 19m 55s)   0.041   |   0.00: with -> NOT_CHANGED (✓)\n",
      "280000  80% ( 22m 38s)   0.093   |   0.00: Theatre -> PLAIN (✓)\n",
      "290000  90% ( 25m 18s)   0.092   |   0.01: utilised -> PLAIN (✓)\n",
      "300000 100% (  28m 1s)   0.049   |   0.00: 10 -> NUMBERS (✓)\n",
      "Saved model to data/models/category_8_fixes/300000_(CategorizeRNN)\n",
      "Accuracy: 98.64% (    9864/   10000)\n"
     ]
    }
   ],
   "source": [
    "train_iterations(n_iters=100000, lr=0.001, print_every=10000)"
   ]
  },
  {
   "cell_type": "code",
   "execution_count": 58,
   "metadata": {},
   "outputs": [
    {
     "name": "stdout",
     "output_type": "stream",
     "text": [
      "NOT_CHANGED ->     LETTERS (0.992) ||     UEFA -> UEFA == w i t h   m e n d o z a   a s   p r e s i d e n t   t h e   c l u b   w o n   6   s p a n i s h   l i g a s   ,   2   s p a n i s h   c u p s   ,   1   < S A M P L E >   c u p   a n d   3   s u p e r   c u p s   .\n",
      "    LETTERS ->       PLAIN (0.915) ||      qtd -> q t d == i f   t h e r e   i s   a   r e s u r g e n c e   i n   p u b l i c   s e r v i c e   b r o a d c a s t i n g   ,   h o p e f u l l y   i t   w i l l   b e   u n i v e r s a l   \"   (   < S A M P L E >   .\n",
      "    LETTERS ->       PLAIN (1.0) ||      std -> s t d == 5 t h   -   7 t h   s t d   p i c n i c   a n d   8 t h   -   9 t h   < S A M P L E >   p i c n i c   a r e   t a k e n   o n   s e p a r a t e   d a y s   b y   m o r n i n g   a n d   a f t e r n o o n   s h i f t   t e a c h e r s   r e s p e c t i v e l y   .\n",
      "NOT_CHANGED ->       PLAIN (0.603) || television -> television == s h e   i n s t e a d   f o c u s e d   o n   < S A M P L E >   .\n",
      "    LETTERS -> NOT_CHANGED (0.684) ||     acac -> a c a c == c h r o m i u m   (   i i i   )   a c e t y l a c e t o n a t e   i s   t h e   c o o r d i n a t i o n   c o m p o u n d   w i t h   t h e   f o r m u l a   c r   (   c   5   h   7   o   2   )   3   ,   s o m e t i m e s   d e s i g n a t e d   a s   c r   (   < S A M P L E >   )   3   .\n",
      "    LETTERS -> NOT_CHANGED (0.654) ||     trnL -> t r n l == \"   p h y l o g e n e t i c   r e l a t i o n s h i p s   o f   b a s a l   p a p i l i o n o i d   l e g u m e s   b a s e d   u p o n   s e q u e n c e s   o f   t h e   c h l o r o p l a s t   < S A M P L E >   i n t r o n   \"   .\n",
      "    LETTERS -> NOT_CHANGED (0.792) ||    Ettre -> e t t r e == < S A M P L E >   a u t h o r e d   a n d   c o   a u t h o r e d   c l o s e   t o   3 0 0   s c i e n t i f i c   p u b l i c a t i o n s   ,   2 0   b o o k s   ,   e d i t o r   a n d   c o   e d i t o r   o f   4 2   b o o k s   .\n",
      "    LETTERS -> NOT_CHANGED (0.861) ||      cis -> c i s == t h e   r n a   m i g h t   h a v e   a   < S A M P L E >   r e g u l a t o r y   r o l e   ,   b u t   t h e   e v i d e n c e   i s   a m b i g u o u s   .\n",
      "NOT_CHANGED ->     LETTERS (0.522) ||      Dis -> Dis == t h e r   a d v   c h r o n i c   < S A M P L E >   .\n",
      "      PLAIN ->     LETTERS (0.685) ||     Risa -> riza == c y r u s   \"   c y f i   \"   f i n c h   a g e   1 5   ,   i s   i n t r o d u c e d   j u s t   a f t e r   l e v   i s   s e p a r a t e d   f r o m   < S A M P L E >   a n d   c o n n o r   .\n"
     ]
    }
   ],
   "source": [
    "print_local_wrong_predictions()"
   ]
  },
  {
   "cell_type": "code",
   "execution_count": 59,
   "metadata": {},
   "outputs": [
    {
     "name": "stdout",
     "output_type": "stream",
     "text": [
      "310000   5% (  2m 42s)   0.065   |   0.00: 23 January 2013 -> NUMBERS (✓)\n",
      "320000  10% (  5m 24s)   0.034   |   0.00: vs -> PLAIN (✓)\n",
      "330000  15% (   8m 5s)   0.039   |   0.00: KGP- -> LETTERS (✓)\n",
      "340000  20% ( 10m 47s)   0.065   |   0.00: B. -> LETTERS (✓)\n",
      "350000  25% ( 13m 29s)   0.034   |   0.00: 1890s -> NUMBERS (✓)\n",
      "Saved model to data/models/category_8_fixes/350000_(CategorizeRNN)\n",
      "Accuracy: 99.00% (    9900/   10000)\n",
      "360000  30% ( 17m 13s)   0.036   |   0.00: vs -> PLAIN (✓)\n",
      "370000  35% ( 19m 54s)   0.017   |   0.00: vol -> PLAIN (✓)\n",
      "380000  40% ( 22m 34s)   0.035   |   0.00: & -> VERBATIM (✓)\n",
      "390000  45% ( 25m 17s)   0.040   |   0.00: dr -> PLAIN (✓)\n",
      "400000  50% ( 27m 58s)   0.052   |   0.00: June 1887 -> NUMBERS (✓)\n",
      "Saved model to data/models/category_8_fixes/400000_(CategorizeRNN)\n",
      "Accuracy: 98.80% (    9880/   10000)\n",
      "410000  55% ( 31m 43s)   0.028   |   0.00: 1.21 million -> NUMBERS (✓)\n",
      "420000  60% ( 34m 24s)   0.044   |   0.00: gives -> NOT_CHANGED (✓)\n",
      "430000  65% (  37m 4s)   0.032   |   0.00: - -> PLAIN (✓)\n",
      "440000  70% ( 39m 45s)   0.042   |   0.00: 50 -> NUMBERS (✓)\n",
      "450000  75% ( 42m 26s)   0.040   |   0.12: : -> PLAIN (✓)\n",
      "Saved model to data/models/category_8_fixes/450000_(CategorizeRNN)\n",
      "Accuracy: 99.02% (    9902/   10000)\n",
      "460000  80% (  46m 9s)   0.046   |   0.00: 1917 -> NUMBERS (✓)\n",
      "470000  85% ( 48m 51s)   0.031   |   0.00: U.S. -> LETTERS (✓)\n",
      "480000  90% ( 51m 29s)   0.091   |   0.00: turnout -> NOT_CHANGED (✓)\n",
      "490000  95% ( 54m 10s)   0.031   |   0.00: Programme -> PLAIN (✓)\n",
      "500000 100% ( 56m 51s)   0.040   |   0.00: centre -> PLAIN (✓)\n",
      "Saved model to data/models/category_8_fixes/500000_(CategorizeRNN)\n",
      "Accuracy: 99.08% (    9908/   10000)\n"
     ]
    }
   ],
   "source": [
    "train_iterations(n_iters=200000, lr=0.0005, print_every=10000)"
   ]
  },
  {
   "cell_type": "code",
   "execution_count": 60,
   "metadata": {},
   "outputs": [
    {
     "name": "stdout",
     "output_type": "stream",
     "text": [
      "NOT_CHANGED ->     NUMBERS (0.974) ||        I -> I == t h i s   p o s i t i o n   w a s   u n t e n a b l e   f o r   t h e   c h u r c h   o f   c o n s t a n t i n o p l e   a n d   p a t r i a r c h   p a c h o m i u s   < S A M P L E >   o f   c o n s t a n t i n o p l e   i n v i t e d   a r s e n i u s   t o   a b d i c a t e   .\n",
      "NOT_CHANGED ->       PLAIN (0.819) ||        : -> : == t o r o n t o   < S A M P L E >   u n i v e r s i t y   o f   t o r o n t o   p r e s s   ,   p p   .\n",
      "NOT_CHANGED ->       PLAIN (0.672) ||     TOUR -> TOUR == \"   a l a n i s   m o r i s s e t t e   a n d   b a r e n a k e d   l a d i e s   t o   c o   -   h e a d l i n e   t h e   '   a u   n a t u r a l e   '   s u m m e r   < S A M P L E >   \"   (   p r e s s   r e l e a s e   )   .\n",
      "NOT_CHANGED ->       PLAIN (0.822) ||        : -> : == t e h r a n   < S A M P L E >   e n t e s h a r a t   s h a f i '   i   ,   1 9 9 9   ,   p p   .\n",
      "NOT_CHANGED ->     LETTERS (0.793) ||     Saar -> Saar == a l e k s a n d e r   p a a r e n   ;   f a m i l i e s   a n d r e k s o n   ,   r o s i n   a n d   < S A M P L E >   ;   c o l\n",
      "    LETTERS -> NOT_CHANGED (0.747) ||   Viimsi -> v i i m s i == < S A M P L E >   h a s   a   c a p a c i t y   o f   2 0 0 0   a n d   a   p i t c h   1 0 5   b y   7 0   m e t e r s   .\n",
      "    LETTERS ->     NUMBERS (0.662) ||       IV -> i v == i r s a   < S A M P L E >   h a s   a   p a i r   o f   t w o   b l a d e   d r i v e n   p r o p e l l e r   e n g i n e s   r e s p e c t i v e l y   m o u n t e d   a t   t h e   n o s e   a n d   r e a r e n d   o f   t h e   f u s e l a g e   .\n",
      "    LETTERS ->       PLAIN (0.583) ||    Hoffm -> h o f f m == e r l a n g e a   e n i g m a t i c a   c   .   j e f f r e y e r l a n g e a   f r u t i c o s a   c   .   d   .   a d a m s e r l a n g e a   l i n e a r i f o l i a   (   o   .   < S A M P L E >   .\n",
      "    LETTERS -> NOT_CHANGED (0.935) ||     Ilpo -> i l p o == h u h t a n i e m i   ,   < S A M P L E >   ;   r u l l i   ,   s u s a n a   ;   a h t i a i n e n   ,   p e t t e r i   ;   p o u t a n e n   ,   m a t t i   (   2 0 0 5   )   .\n",
      " ELECTRONIC ->       PLAIN (0.861) || Pogledi.si -> p o g l e d i dot s i == < S A M P L E >   (   i n   s l o v e n i a n   )   (   d e l o   ,   d   .   d   .   )   .\n"
     ]
    }
   ],
   "source": [
    "print_local_wrong_predictions()"
   ]
  },
  {
   "cell_type": "code",
   "execution_count": 61,
   "metadata": {},
   "outputs": [
    {
     "name": "stdout",
     "output_type": "stream",
     "text": [
      "525000  12% (  6m 40s)   0.050   |   0.00: . -> NOT_CHANGED (✓)\n",
      "550000  25% ( 13m 21s)   0.038   |   0.00: FC -> LETTERS (✓)\n",
      "Saved model to data/models/category_8_fixes/550000_(CategorizeRNN)\n",
      "Accuracy: 99.14% (    9914/   10000)\n",
      "575000  38% (  21m 7s)   0.017   |   0.00: Elisabeth -> PLAIN (✓)\n",
      "600000  50% ( 27m 51s)   0.039   |   0.00: vol -> PLAIN (✓)\n",
      "Saved model to data/models/category_8_fixes/600000_(CategorizeRNN)\n",
      "Accuracy: 99.15% (    9915/   10000)\n",
      "625000  62% ( 35m 38s)   0.040   |   0.00: Derek -> NOT_CHANGED (✓)\n",
      "650000  75% ( 42m 23s)   0.033   |   0.00: & -> VERBATIM (✓)\n",
      "Saved model to data/models/category_8_fixes/650000_(CategorizeRNN)\n",
      "Accuracy: 99.09% (    9909/   10000)\n",
      "675000  88% ( 50m 12s)   0.016   |   0.00: of -> NOT_CHANGED (✓)\n",
      "700000 100% ( 58m 40s)   0.023   |   0.00: to -> NOT_CHANGED (✓)\n",
      "Saved model to data/models/category_8_fixes/700000_(CategorizeRNN)\n",
      "Accuracy: 99.24% (    9924/   10000)\n"
     ]
    }
   ],
   "source": [
    "train_iterations(n_iters=200000, lr=0.0001, print_every=25000)"
   ]
  },
  {
   "cell_type": "code",
   "execution_count": 62,
   "metadata": {},
   "outputs": [
    {
     "name": "stdout",
     "output_type": "stream",
     "text": [
      "NOT_CHANGED ->       PLAIN (0.996) ||        - -> - == l i l l i e   b e l l e   j o h n s o n   (   n o r m a   d o n a l d s o n   )   < S A M P L E >   w a l t e r   ' s   w i f e   .\n",
      "    LETTERS -> NOT_CHANGED (0.625) ||     Aart -> a a r t == h e n d r i k s   ,   < S A M P L E >   (   n o v   2 0 0 7   )   .\n",
      "    LETTERS -> NOT_CHANGED (0.701) ||    lviii -> l v i i i == 7 2   c a s s i u s   d i o   ,   < S A M P L E >   .\n",
      "NOT_CHANGED ->     LETTERS (0.747) ||     Cosa -> Cosa == r u g g i e r o   w a s   a n   o l d   s c h o o l   < S A M P L E >   n o s t r a   m o b s t e r   w h o   k n e w   h o w   m a f i a   p o l i t i c s   w o r k e d   .\n",
      "    LETTERS -> NOT_CHANGED (0.654) ||     Peao -> p e a o == i t s   m a i n   e v e n t   i s   t h e   r o d e o   -   < S A M P L E >   d e   r o d e i o   d e   i c é m   .\n",
      "    LETTERS ->     NUMBERS (1.0) ||       II -> i i == c z t s   i s   a   i   2   -   < S A M P L E >   -   i v   -   v i   4   q u a t e r n a r y   c o m p o u n d   .\n",
      "NOT_CHANGED ->     LETTERS (0.77) ||    Maewa -> Maewa == i t   i s   u s u a l l y   c r e d i t e d   t o   c l e m e n t   s c o t t   (   m u s i c   )   a n d   < S A M P L E >   k a i h a u   &   d o r o t h y   s t e w a r t   (   a r r a n g e m e n t   a n d   l y r i c s   )   .\n",
      "NOT_CHANGED ->       PLAIN (1.0) ||        - -> - == 1 9 6 5   < S A M P L E >   v o l u m e   1 1 9 6 6   -   v o l u m e   2 1 9 6 7   -   d e m a i n   l '   h i v e r   .\n",
      "NOT_CHANGED ->     LETTERS (0.842) ||     Zion -> Zion == f a r   f r o m   < S A M P L E >   :   i n   s e a r c h   o f   a   g l o b a l   j e w i s h   c o m m u n i t y   .\n",
      "NOT_CHANGED ->     LETTERS (0.948) ||     HeLa -> HeLa == \"   c h e c k p o i n t   i n h i b i t i o n   o f   t h e   a p c   /   c   i n   < S A M P L E >   c e l l s   i s   m e d i a t e d   b y   a   c o m p l e x   o f   b u b r   1   ,   b u b   3   ,   c d c   2 0   ,   a n d   m a d   2   \"   .\n"
     ]
    }
   ],
   "source": [
    "print_local_wrong_predictions()"
   ]
  },
  {
   "cell_type": "code",
   "execution_count": null,
   "metadata": {
    "collapsed": true
   },
   "outputs": [],
   "source": [
    "time.sleep(40*60*60)"
   ]
  },
  {
   "cell_type": "code",
   "execution_count": null,
   "metadata": {
    "collapsed": true
   },
   "outputs": [],
   "source": [
    "train_iterations(n_iters=300000, lr=0.0001, print_every=10000)"
   ]
  },
  {
   "cell_type": "code",
   "execution_count": null,
   "metadata": {
    "collapsed": true
   },
   "outputs": [],
   "source": [
    "print_local_wrong_predictions()"
   ]
  },
  {
   "cell_type": "code",
   "execution_count": null,
   "metadata": {
    "collapsed": true
   },
   "outputs": [],
   "source": [
    "train_iterations(n_iters=300000, lr=0.00005, print_every=10000)"
   ]
  },
  {
   "cell_type": "code",
   "execution_count": null,
   "metadata": {
    "collapsed": true
   },
   "outputs": [],
   "source": [
    "print_local_wrong_predictions()"
   ]
  },
  {
   "cell_type": "code",
   "execution_count": null,
   "metadata": {
    "collapsed": true
   },
   "outputs": [],
   "source": []
  },
  {
   "cell_type": "code",
   "execution_count": null,
   "metadata": {
    "collapsed": true
   },
   "outputs": [],
   "source": []
  },
  {
   "cell_type": "code",
   "execution_count": null,
   "metadata": {
    "collapsed": true
   },
   "outputs": [],
   "source": []
  },
  {
   "cell_type": "markdown",
   "metadata": {},
   "source": [
    "# Results"
   ]
  },
  {
   "cell_type": "code",
   "execution_count": 69,
   "metadata": {},
   "outputs": [
    {
     "data": {
      "text/plain": [
       "<matplotlib.figure.Figure at 0x7f75048d7f28>"
      ]
     },
     "execution_count": 69,
     "metadata": {},
     "output_type": "execute_result"
    },
    {
     "data": {
      "text/plain": [
       "[<matplotlib.lines.Line2D at 0x7f74e56258d0>]"
      ]
     },
     "execution_count": 69,
     "metadata": {},
     "output_type": "execute_result"
    },
    {
     "data": {
      "image/png": "[encoded data removed]",
      "text/plain": [
       "<matplotlib.figure.Figure at 0x7f75048d7f28>"
      ]
     },
     "metadata": {},
     "output_type": "display_data"
    }
   ],
   "source": [
    "plt.figure()\n",
    "plt.plot(model_training.losses[7:])"
   ]
  },
  {
   "cell_type": "code",
   "execution_count": 66,
   "metadata": {},
   "outputs": [
    {
     "data": {
      "text/plain": [
       "<matplotlib.figure.Figure at 0x7f74a8efc160>"
      ]
     },
     "execution_count": 66,
     "metadata": {},
     "output_type": "execute_result"
    },
    {
     "data": {
      "text/plain": [
       "[<matplotlib.lines.Line2D at 0x7f74a8ed9cc0>]"
      ]
     },
     "execution_count": 66,
     "metadata": {},
     "output_type": "execute_result"
    },
    {
     "data": {
      "image/png": "[encoded data removed]",
      "text/plain": [
       "<matplotlib.figure.Figure at 0x7f74a8efc160>"
      ]
     },
     "metadata": {},
     "output_type": "display_data"
    }
   ],
   "source": [
    "plt.figure()\n",
    "plt.plot(model_training.accuracy[5:])"
   ]
  },
  {
   "cell_type": "code",
   "execution_count": 70,
   "metadata": {},
   "outputs": [
    {
     "data": {
      "image/png": "[encoded data removed]",
      "text/plain": [
       "<matplotlib.figure.Figure at 0x7f74e555fe10>"
      ]
     },
     "metadata": {},
     "output_type": "display_data"
    },
    {
     "name": "stdout",
     "output_type": "stream",
     "text": [
      "Accuracy: 99.19% (   49595/   50000)\n",
      "CPU times: user 29min 26s, sys: 27.1 s, total: 29min 53s\n",
      "Wall time: 8min 29s\n"
     ]
    }
   ],
   "source": [
    "%%time\n",
    "plot_category_confusion_matrix(model, categories_all, test_model_single_sample, n_confusion=50000)"
   ]
  },
  {
   "cell_type": "code",
   "execution_count": 71,
   "metadata": {},
   "outputs": [
    {
     "data": {
      "image/png": "[encoded data removed]",
      "text/plain": [
       "<matplotlib.figure.Figure at 0x7f74e58de9e8>"
      ]
     },
     "metadata": {},
     "output_type": "display_data"
    },
    {
     "name": "stdout",
     "output_type": "stream",
     "text": [
      "Accuracy: 99.09% (   49547/   50000)\n",
      "CPU times: user 30min 19s, sys: 27.6 s, total: 30min 46s\n",
      "Wall time: 7min 47s\n"
     ]
    }
   ],
   "source": [
    "%%time\n",
    "plot_category_confusion_matrix(model, categories_all, test_model_single_sample,\n",
    "                               n_confusion=50000, remove_diagonal=True)"
   ]
  },
  {
   "cell_type": "code",
   "execution_count": null,
   "metadata": {
    "collapsed": true
   },
   "outputs": [],
   "source": []
  },
  {
   "cell_type": "code",
   "execution_count": null,
   "metadata": {
    "collapsed": true
   },
   "outputs": [],
   "source": []
  },
  {
   "cell_type": "code",
   "execution_count": null,
   "metadata": {
    "collapsed": true
   },
   "outputs": [],
   "source": []
  },
  {
   "cell_type": "code",
   "execution_count": null,
   "metadata": {
    "collapsed": true
   },
   "outputs": [],
   "source": []
  },
  {
   "cell_type": "code",
   "execution_count": null,
   "metadata": {
    "collapsed": true
   },
   "outputs": [],
   "source": []
  }
 ],
 "metadata": {
  "anaconda-cloud": {},
  "kernelspec": {
   "display_name": "Python [conda env:py3_pytorch_2]",
   "language": "python",
   "name": "conda-env-py3_pytorch_2-py"
  },
  "language_info": {
   "codemirror_mode": {
    "name": "ipython",
    "version": 3
   },
   "file_extension": ".py",
   "mimetype": "text/x-python",
   "name": "python",
   "nbconvert_exporter": "python",
   "pygments_lexer": "ipython3",
   "version": "3.6.1"
  }
 },
 "nbformat": 4,
 "nbformat_minor": 2
}
