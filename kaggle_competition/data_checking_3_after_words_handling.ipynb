{
 "cells": [
  {
   "cell_type": "code",
   "execution_count": 2,
   "metadata": {},
   "outputs": [
    {
     "name": "stdout",
     "output_type": "stream",
     "text": [
      "Pytorch utils oh: pytorch_utils_oh_2.py\n",
      "Pytorch: 0.2.0_4\n"
     ]
    }
   ],
   "source": [
    "%matplotlib inline\n",
    "import importlib\n",
    "from pytorch_utils_oh_2 import *"
   ]
  },
  {
   "cell_type": "code",
   "execution_count": 3,
   "metadata": {
    "collapsed": true
   },
   "outputs": [],
   "source": [
    "from IPython.core.interactiveshell import InteractiveShell\n",
    "InteractiveShell.ast_node_interactivity = \"all\""
   ]
  },
  {
   "cell_type": "code",
   "execution_count": 4,
   "metadata": {},
   "outputs": [
    {
     "name": "stdout",
     "output_type": "stream",
     "text": [
      "Pytorch utils oh: pytorch_utils_oh_2.py\n",
      "Pytorch: 0.2.0_4\n"
     ]
    }
   ],
   "source": [
    "import pytorch_utils_oh_2; importlib.reload(pytorch_utils_oh_2); from pytorch_utils_oh_2 import *;"
   ]
  },
  {
   "cell_type": "markdown",
   "metadata": {},
   "source": [
    "# Data loading"
   ]
  },
  {
   "cell_type": "code",
   "execution_count": 29,
   "metadata": {
    "collapsed": true
   },
   "outputs": [],
   "source": [
    "all_data = pickle.load(open(\"data/en_train_fixed_1.pkl\", \"rb\" ))\n",
    "all_data_sentence_index = all_data.set_index('sentence_id')"
   ]
  },
  {
   "cell_type": "code",
   "execution_count": 4,
   "metadata": {},
   "outputs": [
    {
     "name": "stdout",
     "output_type": "stream",
     "text": [
      "['ELECTRONIC', 'LETTERS', 'NOT_CHANGED', 'NUMBERS', 'PLAIN', 'VERBATIM']\n",
      "6\n"
     ]
    }
   ],
   "source": [
    "categories_all = sorted(all_data[\"class\"].unique())\n",
    "print(categories_all)\n",
    "print(len(categories_all))\n",
    "categories_index = dict((c, i) for i, c in enumerate(categories_all))"
   ]
  },
  {
   "cell_type": "code",
   "execution_count": null,
   "metadata": {
    "collapsed": true
   },
   "outputs": [],
   "source": []
  },
  {
   "cell_type": "markdown",
   "metadata": {},
   "source": [
    "### After words handling"
   ]
  },
  {
   "cell_type": "code",
   "execution_count": 5,
   "metadata": {},
   "outputs": [
    {
     "data": {
      "text/plain": [
       "['<EOS>', '<SOS>', '<UNK>', '<0000>', '<SAMPLE>', 'two', 'twenty']"
      ]
     },
     "execution_count": 5,
     "metadata": {},
     "output_type": "execute_result"
    }
   ],
   "source": [
    "words_after_common = pickle.load(open(\"data/en_features/words_after_all.pkl\", \"rb\"))\n",
    "words_after_common = [EOS_TOKEN, SOS_TOKEN, UNKNOWN_WORD_TOKEN, NUMBER_WORD_TOKEN, SAMPLE_WORD_TOKEN] + words_after_common\n",
    "words_after_common[0:7]\n",
    "words_after_index = dict((c, i) for i, c in enumerate(words_after_common))"
   ]
  },
  {
   "cell_type": "code",
   "execution_count": 102,
   "metadata": {
    "collapsed": true
   },
   "outputs": [],
   "source": [
    "pickle.dump(words_after_common, open(\"data/en_features/words_after_ext.pkl\", 'wb'))"
   ]
  },
  {
   "cell_type": "code",
   "execution_count": 103,
   "metadata": {},
   "outputs": [
    {
     "data": {
      "text/plain": [
       "1351"
      ]
     },
     "execution_count": 103,
     "metadata": {},
     "output_type": "execute_result"
    }
   ],
   "source": [
    "len(words_after_index)"
   ]
  },
  {
   "cell_type": "code",
   "execution_count": 6,
   "metadata": {
    "collapsed": true
   },
   "outputs": [],
   "source": [
    "words_after_by_length = sorted(words_after_common, key=len, reverse=True)\n",
    "words_after_regex = re.compile('(' + ')|('.join(words_after_by_length) + ')')"
   ]
  },
  {
   "cell_type": "code",
   "execution_count": 7,
   "metadata": {},
   "outputs": [
    {
     "data": {
      "text/plain": [
       "[9, 1212, 5, 1252, 9, 10, 0]"
      ]
     },
     "execution_count": 7,
     "metadata": {},
     "output_type": "execute_result"
    },
    {
     "data": {
      "text/plain": [
       "['one', 'plus', 'two', 'equals', 'one', 'hundred', '<EOS>']"
      ]
     },
     "execution_count": 7,
     "metadata": {},
     "output_type": "execute_result"
    }
   ],
   "source": [
    "def after_sentence_to_word_indexes(sentence, include_eos=True):\n",
    "    reg = re.finditer(words_after_regex, sentence)\n",
    "    arr = [words_after_index[s[0]] for s in reg]\n",
    "    if include_eos:\n",
    "        arr += [words_after_index[EOS_TOKEN]]\n",
    "    return arr\n",
    "tmp = after_sentence_to_word_indexes('one plus two equals one hundred')\n",
    "tmp\n",
    "[words_after_common[s] for s in tmp]"
   ]
  },
  {
   "cell_type": "code",
   "execution_count": null,
   "metadata": {
    "collapsed": true
   },
   "outputs": [],
   "source": []
  },
  {
   "cell_type": "markdown",
   "metadata": {
    "collapsed": true
   },
   "source": [
    "# Preparing data a_word_ind"
   ]
  },
  {
   "cell_type": "code",
   "execution_count": 11,
   "metadata": {},
   "outputs": [
    {
     "data": {
      "text/plain": [
       "659544"
      ]
     },
     "execution_count": 11,
     "metadata": {},
     "output_type": "execute_result"
    }
   ],
   "source": [
    "changed_data = all_data[all_data['class'] != 'NOT_CHANGED']\n",
    "len(changed_data)"
   ]
  },
  {
   "cell_type": "code",
   "execution_count": 13,
   "metadata": {},
   "outputs": [
    {
     "data": {
      "text/plain": [
       "9527"
      ]
     },
     "execution_count": 13,
     "metadata": {},
     "output_type": "execute_result"
    },
    {
     "data": {
      "text/plain": [
       "650017"
      ]
     },
     "execution_count": 13,
     "metadata": {},
     "output_type": "execute_result"
    },
    {
     "data": {
      "text/plain": [
       "600384"
      ]
     },
     "execution_count": 13,
     "metadata": {},
     "output_type": "execute_result"
    },
    {
     "data": {
      "text/plain": [
       "49633"
      ]
     },
     "execution_count": 13,
     "metadata": {},
     "output_type": "execute_result"
    }
   ],
   "source": [
    "len(changed_data[changed_data['after'].str.len() == changed_data['before'].str.len()])\n",
    "len(changed_data[changed_data['after'].str.len() != changed_data['before'].str.len()])\n",
    "len(changed_data[changed_data['after'].str.len() > changed_data['before'].str.len()])\n",
    "len(changed_data[changed_data['after'].str.len() < changed_data['before'].str.len()])"
   ]
  },
  {
   "cell_type": "code",
   "execution_count": 14,
   "metadata": {},
   "outputs": [
    {
     "data": {
      "text/html": [
       "<div>\n",
       "<style>\n",
       "    .dataframe thead tr:only-child th {\n",
       "        text-align: right;\n",
       "    }\n",
       "\n",
       "    .dataframe thead th {\n",
       "        text-align: left;\n",
       "    }\n",
       "\n",
       "    .dataframe tbody tr th {\n",
       "        vertical-align: top;\n",
       "    }\n",
       "</style>\n",
       "<table border=\"1\" class=\"dataframe\">\n",
       "  <thead>\n",
       "    <tr style=\"text-align: right;\">\n",
       "      <th></th>\n",
       "      <th>sentence_id</th>\n",
       "      <th>token_id</th>\n",
       "      <th>class</th>\n",
       "      <th>before</th>\n",
       "      <th>after</th>\n",
       "      <th>class_org</th>\n",
       "    </tr>\n",
       "  </thead>\n",
       "  <tbody>\n",
       "    <tr>\n",
       "      <th>10</th>\n",
       "      <td>1</td>\n",
       "      <td>0</td>\n",
       "      <td>NUMBERS</td>\n",
       "      <td>2006</td>\n",
       "      <td>two thousand six</td>\n",
       "      <td>DATE</td>\n",
       "    </tr>\n",
       "  </tbody>\n",
       "</table>\n",
       "</div>"
      ],
      "text/plain": [
       "    sentence_id  token_id    class before             after class_org\n",
       "10            1         0  NUMBERS   2006  two thousand six      DATE"
      ]
     },
     "execution_count": 14,
     "metadata": {},
     "output_type": "execute_result"
    }
   ],
   "source": [
    "changed_data[0:1]"
   ]
  },
  {
   "cell_type": "code",
   "execution_count": 17,
   "metadata": {
    "collapsed": true
   },
   "outputs": [],
   "source": [
    "def prepare_after_by_rows(pd_rows):\n",
    "    global current_row\n",
    "    iter_len = len(pd_rows)\n",
    "    rows_iter = pd_rows.itertuples()\n",
    "    iteration_idx = 0\n",
    "    start = time.time()\n",
    "    \n",
    "    for sample_row in log_progress(rows_iter, every=10, size=iter_len):\n",
    "        before = sample_row.before\n",
    "        current_row = sample_row\n",
    "\n",
    "        a_word_ind = after_sentence_to_word_indexes(sample_row.after, include_eos=True)\n",
    "        \n",
    "        all_data.at[sample_row.Index, 'a_word_ind'] = a_word_ind\n",
    "\n",
    "        iteration_idx += 1\n",
    "        if iteration_idx%10000 == 0:\n",
    "            print(\"{:>7d} {:>2.2%} ({:>8})\".format(iteration_idx, iteration_idx/iter_len, time_since(start)))"
   ]
  },
  {
   "cell_type": "code",
   "execution_count": 23,
   "metadata": {},
   "outputs": [
    {
     "data": {
      "text/html": [
       "<div>\n",
       "<style>\n",
       "    .dataframe thead tr:only-child th {\n",
       "        text-align: right;\n",
       "    }\n",
       "\n",
       "    .dataframe thead th {\n",
       "        text-align: left;\n",
       "    }\n",
       "\n",
       "    .dataframe tbody tr th {\n",
       "        vertical-align: top;\n",
       "    }\n",
       "</style>\n",
       "<table border=\"1\" class=\"dataframe\">\n",
       "  <thead>\n",
       "    <tr style=\"text-align: right;\">\n",
       "      <th></th>\n",
       "      <th>sentence_id</th>\n",
       "      <th>token_id</th>\n",
       "      <th>class</th>\n",
       "      <th>before</th>\n",
       "      <th>after</th>\n",
       "      <th>class_org</th>\n",
       "      <th>a_word_ind</th>\n",
       "    </tr>\n",
       "  </thead>\n",
       "  <tbody>\n",
       "    <tr>\n",
       "      <th>3753960</th>\n",
       "      <td>288855</td>\n",
       "      <td>12</td>\n",
       "      <td>NOT_CHANGED</td>\n",
       "      <td>roughly</td>\n",
       "      <td>roughly</td>\n",
       "      <td>PLAIN</td>\n",
       "      <td>NaN</td>\n",
       "    </tr>\n",
       "    <tr>\n",
       "      <th>9800619</th>\n",
       "      <td>739388</td>\n",
       "      <td>4</td>\n",
       "      <td>NOT_CHANGED</td>\n",
       "      <td>author</td>\n",
       "      <td>author</td>\n",
       "      <td>PLAIN</td>\n",
       "      <td>NaN</td>\n",
       "    </tr>\n",
       "  </tbody>\n",
       "</table>\n",
       "</div>"
      ],
      "text/plain": [
       "         sentence_id  token_id        class   before    after class_org  \\\n",
       "3753960       288855        12  NOT_CHANGED  roughly  roughly     PLAIN   \n",
       "9800619       739388         4  NOT_CHANGED   author   author     PLAIN   \n",
       "\n",
       "         a_word_ind  \n",
       "3753960         NaN  \n",
       "9800619         NaN  "
      ]
     },
     "execution_count": 23,
     "metadata": {},
     "output_type": "execute_result"
    }
   ],
   "source": [
    "all_data.sample(2)"
   ]
  },
  {
   "cell_type": "code",
   "execution_count": 40,
   "metadata": {
    "collapsed": true
   },
   "outputs": [],
   "source": [
    "all_data.at[0, 'a_word_ind'] = [1, 12]\n",
    "#all_data.head()\n",
    "all_data.at[0, 'a_word_ind'] = all_data.at[1, 'a_word_ind']\n",
    "#all_data.head()"
   ]
  },
  {
   "cell_type": "code",
   "execution_count": 50,
   "metadata": {},
   "outputs": [
    {
     "data": {
      "application/vnd.jupyter.widget-view+json": {
       "model_id": "8c4509bb60c642c7b28d52ccccf718bb"
      }
     },
     "metadata": {},
     "output_type": "display_data"
    },
    {
     "name": "stdout",
     "output_type": "stream",
     "text": [
      "  10000 1.52% (  0m 24s)\n",
      "  20000 3.03% (  0m 49s)\n",
      "  30000 4.55% (  1m 14s)\n",
      "  40000 6.06% (  1m 40s)\n",
      "  50000 7.58% (   2m 5s)\n",
      "  60000 9.10% (  2m 30s)\n",
      "  70000 10.61% (  2m 55s)\n",
      "  80000 12.13% (  3m 20s)\n",
      "  90000 13.65% (  3m 46s)\n",
      " 100000 15.16% (  4m 12s)\n",
      " 110000 16.68% (  4m 37s)\n",
      " 120000 18.19% (   5m 3s)\n",
      " 130000 19.71% (  5m 29s)\n",
      " 140000 21.23% (  5m 54s)\n",
      " 150000 22.74% (  6m 19s)\n",
      " 160000 24.26% (  6m 45s)\n",
      " 170000 25.78% (  7m 11s)\n",
      " 180000 27.29% (  7m 37s)\n",
      " 190000 28.81% (   8m 2s)\n",
      " 200000 30.32% (  8m 26s)\n",
      " 210000 31.84% (  8m 51s)\n",
      " 220000 33.36% (  9m 17s)\n",
      " 230000 34.87% (  9m 43s)\n",
      " 240000 36.39% (  10m 7s)\n",
      " 250000 37.90% ( 10m 34s)\n",
      " 260000 39.42% ( 10m 59s)\n",
      " 270000 40.94% ( 11m 25s)\n",
      " 280000 42.45% ( 11m 51s)\n",
      " 290000 43.97% ( 12m 18s)\n",
      " 300000 45.49% ( 12m 43s)\n",
      " 310000 47.00% (  13m 9s)\n",
      " 320000 48.52% ( 13m 34s)\n",
      " 330000 50.03% ( 13m 59s)\n",
      " 340000 51.55% ( 14m 25s)\n",
      " 350000 53.07% ( 14m 50s)\n",
      " 360000 54.58% ( 15m 15s)\n",
      " 370000 56.10% ( 15m 40s)\n",
      " 380000 57.62% (  16m 5s)\n",
      " 390000 59.13% ( 16m 30s)\n",
      " 400000 60.65% ( 16m 56s)\n",
      " 410000 62.16% ( 17m 22s)\n",
      " 420000 63.68% ( 17m 47s)\n",
      " 430000 65.20% ( 18m 13s)\n",
      " 440000 66.71% ( 18m 38s)\n",
      " 450000 68.23% (  19m 3s)\n",
      " 460000 69.75% ( 19m 28s)\n",
      " 470000 71.26% ( 19m 53s)\n",
      " 480000 72.78% ( 20m 16s)\n",
      " 490000 74.29% ( 20m 40s)\n",
      " 500000 75.81% (  21m 4s)\n",
      " 510000 77.33% ( 21m 28s)\n",
      " 520000 78.84% ( 21m 51s)\n",
      " 530000 80.36% ( 22m 16s)\n",
      " 540000 81.87% ( 22m 39s)\n",
      " 550000 83.39% (  23m 2s)\n",
      " 560000 84.91% ( 23m 24s)\n",
      " 570000 86.42% ( 23m 48s)\n",
      " 580000 87.94% ( 24m 12s)\n",
      " 590000 89.46% ( 24m 36s)\n",
      " 600000 90.97% (  25m 3s)\n",
      " 610000 92.49% ( 25m 25s)\n",
      " 620000 94.00% ( 25m 48s)\n",
      " 630000 95.52% ( 26m 11s)\n",
      " 640000 97.04% ( 26m 33s)\n",
      " 650000 98.55% ( 26m 57s)\n"
     ]
    }
   ],
   "source": [
    "prepare_after_by_rows(changed_data)"
   ]
  },
  {
   "cell_type": "code",
   "execution_count": 57,
   "metadata": {},
   "outputs": [
    {
     "data": {
      "text/html": [
       "<div>\n",
       "<style>\n",
       "    .dataframe thead tr:only-child th {\n",
       "        text-align: right;\n",
       "    }\n",
       "\n",
       "    .dataframe thead th {\n",
       "        text-align: left;\n",
       "    }\n",
       "\n",
       "    .dataframe tbody tr th {\n",
       "        vertical-align: top;\n",
       "    }\n",
       "</style>\n",
       "<table border=\"1\" class=\"dataframe\">\n",
       "  <thead>\n",
       "    <tr style=\"text-align: right;\">\n",
       "      <th></th>\n",
       "      <th>sentence_id</th>\n",
       "      <th>token_id</th>\n",
       "      <th>class</th>\n",
       "      <th>before</th>\n",
       "      <th>after</th>\n",
       "      <th>class_org</th>\n",
       "      <th>a_word_ind</th>\n",
       "    </tr>\n",
       "  </thead>\n",
       "  <tbody>\n",
       "    <tr>\n",
       "      <th>393639</th>\n",
       "      <td>31595</td>\n",
       "      <td>0</td>\n",
       "      <td>LETTERS</td>\n",
       "      <td>U.S.</td>\n",
       "      <td>u s</td>\n",
       "      <td>LETTERS</td>\n",
       "      <td>[43, 17, 0]</td>\n",
       "    </tr>\n",
       "    <tr>\n",
       "      <th>4627569</th>\n",
       "      <td>354438</td>\n",
       "      <td>4</td>\n",
       "      <td>LETTERS</td>\n",
       "      <td>pp</td>\n",
       "      <td>p p</td>\n",
       "      <td>LETTERS</td>\n",
       "      <td>[24, 24, 0]</td>\n",
       "    </tr>\n",
       "    <tr>\n",
       "      <th>3875346</th>\n",
       "      <td>297935</td>\n",
       "      <td>1</td>\n",
       "      <td>PLAIN</td>\n",
       "      <td>organises</td>\n",
       "      <td>organizes</td>\n",
       "      <td>PLAIN</td>\n",
       "      <td>[364, 0]</td>\n",
       "    </tr>\n",
       "    <tr>\n",
       "      <th>8659494</th>\n",
       "      <td>654956</td>\n",
       "      <td>8</td>\n",
       "      <td>NUMBERS</td>\n",
       "      <td>II</td>\n",
       "      <td>two</td>\n",
       "      <td>CARDINAL</td>\n",
       "      <td>[5, 0]</td>\n",
       "    </tr>\n",
       "    <tr>\n",
       "      <th>6733858</th>\n",
       "      <td>511669</td>\n",
       "      <td>13</td>\n",
       "      <td>LETTERS</td>\n",
       "      <td>PDF</td>\n",
       "      <td>p d f</td>\n",
       "      <td>LETTERS</td>\n",
       "      <td>[24, 26, 37, 0]</td>\n",
       "    </tr>\n",
       "    <tr>\n",
       "      <th>3608707</th>\n",
       "      <td>277851</td>\n",
       "      <td>17</td>\n",
       "      <td>NUMBERS</td>\n",
       "      <td>2/2013</td>\n",
       "      <td>two two thousand thirteenths</td>\n",
       "      <td>FRACTION</td>\n",
       "      <td>[5, 5, 8, 373, 0]</td>\n",
       "    </tr>\n",
       "    <tr>\n",
       "      <th>3348284</th>\n",
       "      <td>258230</td>\n",
       "      <td>7</td>\n",
       "      <td>NUMBERS</td>\n",
       "      <td>857</td>\n",
       "      <td>eight hundred fifty seven</td>\n",
       "      <td>CARDINAL</td>\n",
       "      <td>[16, 10, 38, 18, 0]</td>\n",
       "    </tr>\n",
       "    <tr>\n",
       "      <th>9157563</th>\n",
       "      <td>691631</td>\n",
       "      <td>10</td>\n",
       "      <td>NUMBERS</td>\n",
       "      <td>1st</td>\n",
       "      <td>first</td>\n",
       "      <td>ORDINAL</td>\n",
       "      <td>[56, 0]</td>\n",
       "    </tr>\n",
       "    <tr>\n",
       "      <th>856597</th>\n",
       "      <td>68192</td>\n",
       "      <td>7</td>\n",
       "      <td>NUMBERS</td>\n",
       "      <td>12325</td>\n",
       "      <td>twelve thousand three hundred twenty five</td>\n",
       "      <td>CARDINAL</td>\n",
       "      <td>[47, 8, 13, 10, 6, 14, 0]</td>\n",
       "    </tr>\n",
       "    <tr>\n",
       "      <th>6268151</th>\n",
       "      <td>477020</td>\n",
       "      <td>13</td>\n",
       "      <td>NUMBERS</td>\n",
       "      <td>July 12, 1991</td>\n",
       "      <td>july twelfth nineteen ninety one</td>\n",
       "      <td>DATE</td>\n",
       "      <td>[67, 95, 7, 23, 9, 0]</td>\n",
       "    </tr>\n",
       "  </tbody>\n",
       "</table>\n",
       "</div>"
      ],
      "text/plain": [
       "         sentence_id  token_id    class         before  \\\n",
       "393639         31595         0  LETTERS           U.S.   \n",
       "4627569       354438         4  LETTERS             pp   \n",
       "3875346       297935         1    PLAIN      organises   \n",
       "8659494       654956         8  NUMBERS             II   \n",
       "6733858       511669        13  LETTERS            PDF   \n",
       "3608707       277851        17  NUMBERS         2/2013   \n",
       "3348284       258230         7  NUMBERS            857   \n",
       "9157563       691631        10  NUMBERS            1st   \n",
       "856597         68192         7  NUMBERS          12325   \n",
       "6268151       477020        13  NUMBERS  July 12, 1991   \n",
       "\n",
       "                                             after class_org  \\\n",
       "393639                                         u s   LETTERS   \n",
       "4627569                                        p p   LETTERS   \n",
       "3875346                                  organizes     PLAIN   \n",
       "8659494                                        two  CARDINAL   \n",
       "6733858                                      p d f   LETTERS   \n",
       "3608707               two two thousand thirteenths  FRACTION   \n",
       "3348284                  eight hundred fifty seven  CARDINAL   \n",
       "9157563                                      first   ORDINAL   \n",
       "856597   twelve thousand three hundred twenty five  CARDINAL   \n",
       "6268151           july twelfth nineteen ninety one      DATE   \n",
       "\n",
       "                        a_word_ind  \n",
       "393639                 [43, 17, 0]  \n",
       "4627569                [24, 24, 0]  \n",
       "3875346                   [364, 0]  \n",
       "8659494                     [5, 0]  \n",
       "6733858            [24, 26, 37, 0]  \n",
       "3608707          [5, 5, 8, 373, 0]  \n",
       "3348284        [16, 10, 38, 18, 0]  \n",
       "9157563                    [56, 0]  \n",
       "856597   [47, 8, 13, 10, 6, 14, 0]  \n",
       "6268151      [67, 95, 7, 23, 9, 0]  "
      ]
     },
     "execution_count": 57,
     "metadata": {},
     "output_type": "execute_result"
    }
   ],
   "source": [
    "all_data[all_data['class'] != 'NOT_CHANGED'].sample(10)"
   ]
  },
  {
   "cell_type": "code",
   "execution_count": 54,
   "metadata": {
    "collapsed": true
   },
   "outputs": [],
   "source": [
    "pickle.dump(all_data, open(\"data/en_train_fixed_2_a_word_ind.pkl\", \"wb\" ))"
   ]
  },
  {
   "cell_type": "markdown",
   "metadata": {
    "collapsed": true
   },
   "source": [
    "# Preparing data sentence_tokenized"
   ]
  },
  {
   "cell_type": "code",
   "execution_count": 56,
   "metadata": {
    "collapsed": true
   },
   "outputs": [],
   "source": [
    "all_data = pickle.load(open(\"data/en_train_fixed_2_a_word_ind.pkl\", \"rb\" ))\n",
    "all_data_sentence_index = all_data.set_index('sentence_id')"
   ]
  },
  {
   "cell_type": "code",
   "execution_count": 58,
   "metadata": {
    "collapsed": true
   },
   "outputs": [],
   "source": [
    "changed_data = all_data[all_data['class'] != 'NOT_CHANGED']"
   ]
  },
  {
   "cell_type": "code",
   "execution_count": 59,
   "metadata": {},
   "outputs": [
    {
     "data": {
      "text/html": [
       "<div>\n",
       "<style>\n",
       "    .dataframe thead tr:only-child th {\n",
       "        text-align: right;\n",
       "    }\n",
       "\n",
       "    .dataframe thead th {\n",
       "        text-align: left;\n",
       "    }\n",
       "\n",
       "    .dataframe tbody tr th {\n",
       "        vertical-align: top;\n",
       "    }\n",
       "</style>\n",
       "<table border=\"1\" class=\"dataframe\">\n",
       "  <thead>\n",
       "    <tr style=\"text-align: right;\">\n",
       "      <th></th>\n",
       "      <th>sentence_id</th>\n",
       "      <th>token_id</th>\n",
       "      <th>class</th>\n",
       "      <th>before</th>\n",
       "      <th>after</th>\n",
       "      <th>class_org</th>\n",
       "      <th>a_word_ind</th>\n",
       "    </tr>\n",
       "  </thead>\n",
       "  <tbody>\n",
       "    <tr>\n",
       "      <th>664310</th>\n",
       "      <td>53038</td>\n",
       "      <td>14</td>\n",
       "      <td>NUMBERS</td>\n",
       "      <td>2009</td>\n",
       "      <td>two thousand nine</td>\n",
       "      <td>DATE</td>\n",
       "      <td>[5, 8, 15, 0]</td>\n",
       "    </tr>\n",
       "    <tr>\n",
       "      <th>6496403</th>\n",
       "      <td>493979</td>\n",
       "      <td>8</td>\n",
       "      <td>NUMBERS</td>\n",
       "      <td>1929</td>\n",
       "      <td>nineteen twenty nine</td>\n",
       "      <td>DATE</td>\n",
       "      <td>[7, 6, 15, 0]</td>\n",
       "    </tr>\n",
       "  </tbody>\n",
       "</table>\n",
       "</div>"
      ],
      "text/plain": [
       "         sentence_id  token_id    class before                 after  \\\n",
       "664310         53038        14  NUMBERS   2009     two thousand nine   \n",
       "6496403       493979         8  NUMBERS   1929  nineteen twenty nine   \n",
       "\n",
       "        class_org     a_word_ind  \n",
       "664310       DATE  [5, 8, 15, 0]  \n",
       "6496403      DATE  [7, 6, 15, 0]  "
      ]
     },
     "execution_count": 59,
     "metadata": {},
     "output_type": "execute_result"
    }
   ],
   "source": [
    "changed_data.sample(2)"
   ]
  },
  {
   "cell_type": "code",
   "execution_count": 88,
   "metadata": {
    "collapsed": true
   },
   "outputs": [],
   "source": [
    "def prepare_sentence_tokenized_by_rows(pd_rows):\n",
    "    global current_row\n",
    "    iter_len = len(pd_rows)\n",
    "    rows_iter = pd_rows.itertuples()\n",
    "    iteration_idx = 0\n",
    "    start = time.time()\n",
    "    \n",
    "    for sample_row in log_progress(rows_iter, every=10, size=iter_len):\n",
    "        before = sample_row.before\n",
    "        current_row = sample_row\n",
    "\n",
    "        sent_rows = all_data_sentence_index.loc[sample_row.sentence_id]\n",
    "        befores = list(sent_rows.before)\n",
    "        token_id_idx = list(sent_rows['token_id']).index(sample_row.token_id)\n",
    "        \n",
    "        befores = [simple_tokeniser(w) for w in befores]\n",
    "        befores[token_id_idx] = [SAMPLE_WORD_TOKEN]\n",
    "        befores = np.concatenate(befores)\n",
    "    \n",
    "        sentence = ' '.join(befores)\n",
    "\n",
    "        all_data.at[sample_row.Index, 'sentence'] = sentence\n",
    "        \n",
    "        iteration_idx += 1\n",
    "        if iteration_idx%50000 == 0 or iteration_idx == 5000:\n",
    "            print(\"{:>7d} {:>2.2%} ({:>8})\".format(iteration_idx, iteration_idx/iter_len, time_since(start)))"
   ]
  },
  {
   "cell_type": "code",
   "execution_count": 85,
   "metadata": {},
   "outputs": [
    {
     "data": {
      "application/vnd.jupyter.widget-view+json": {
       "model_id": "febd92a688e34e139fe5942852191593"
      }
     },
     "metadata": {},
     "output_type": "display_data"
    },
    {
     "name": "stdout",
     "output_type": "stream",
     "text": [
      "  10000 1.52% (   0m 7s)\n",
      "  20000 3.03% (  0m 14s)\n",
      "  30000 4.55% (  0m 21s)\n",
      "  40000 6.06% (  0m 28s)\n",
      "  50000 7.58% (  0m 35s)\n",
      "  60000 9.10% (  0m 42s)\n",
      "  70000 10.61% (  0m 49s)\n",
      "  80000 12.13% (  0m 56s)\n",
      "  90000 13.65% (   1m 4s)\n",
      " 100000 15.16% (  1m 12s)\n",
      " 110000 16.68% (  1m 19s)\n",
      " 120000 18.19% (  1m 27s)\n",
      " 130000 19.71% (  1m 35s)\n",
      " 140000 21.23% (  1m 42s)\n",
      " 150000 22.74% (  1m 50s)\n",
      " 160000 24.26% (  1m 58s)\n",
      " 170000 25.78% (   2m 5s)\n",
      " 180000 27.29% (  2m 13s)\n",
      " 190000 28.81% (  2m 21s)\n",
      " 200000 30.32% (  2m 28s)\n",
      " 210000 31.84% (  2m 36s)\n",
      " 220000 33.36% (  2m 44s)\n",
      " 230000 34.87% (  2m 52s)\n",
      " 240000 36.39% (  2m 59s)\n",
      " 250000 37.90% (   3m 7s)\n",
      " 260000 39.42% (  3m 14s)\n",
      " 270000 40.94% (  3m 22s)\n",
      " 280000 42.45% (  3m 30s)\n",
      " 290000 43.97% (  3m 37s)\n",
      " 300000 45.49% (  3m 45s)\n",
      " 310000 47.00% (  3m 52s)\n",
      " 320000 48.52% (   4m 0s)\n",
      " 330000 50.03% (   4m 8s)\n",
      " 340000 51.55% (  4m 16s)\n",
      " 350000 53.07% (  4m 24s)\n",
      " 360000 54.58% (  4m 32s)\n",
      " 370000 56.10% (  4m 40s)\n",
      " 380000 57.62% (  4m 48s)\n",
      " 390000 59.13% (  4m 55s)\n",
      " 400000 60.65% (   5m 3s)\n",
      " 410000 62.16% (  5m 11s)\n",
      " 420000 63.68% (  5m 18s)\n",
      " 430000 65.20% (  5m 25s)\n",
      " 440000 66.71% (  5m 32s)\n",
      " 450000 68.23% (  5m 40s)\n",
      " 460000 69.75% (  5m 47s)\n",
      " 470000 71.26% (  5m 54s)\n",
      " 480000 72.78% (   6m 2s)\n",
      " 490000 74.29% (   6m 9s)\n",
      " 500000 75.81% (  6m 16s)\n",
      " 510000 77.33% (  6m 23s)\n",
      " 520000 78.84% (  6m 30s)\n",
      " 530000 80.36% (  6m 37s)\n",
      " 540000 81.87% (  6m 44s)\n",
      " 550000 83.39% (  6m 52s)\n",
      " 560000 84.91% (  6m 59s)\n",
      " 570000 86.42% (   7m 6s)\n",
      " 580000 87.94% (  7m 14s)\n",
      " 590000 89.46% (  7m 21s)\n",
      " 600000 90.97% (  7m 28s)\n",
      " 610000 92.49% (  7m 35s)\n",
      " 620000 94.00% (  7m 42s)\n",
      " 630000 95.52% (  7m 49s)\n",
      " 640000 97.04% (  7m 57s)\n",
      " 650000 98.55% (   8m 4s)\n"
     ]
    }
   ],
   "source": [
    "prepare_sentence_tokenized_by_rows(changed_data)"
   ]
  },
  {
   "cell_type": "code",
   "execution_count": 86,
   "metadata": {},
   "outputs": [
    {
     "data": {
      "text/html": [
       "<div>\n",
       "<style>\n",
       "    .dataframe thead tr:only-child th {\n",
       "        text-align: right;\n",
       "    }\n",
       "\n",
       "    .dataframe thead th {\n",
       "        text-align: left;\n",
       "    }\n",
       "\n",
       "    .dataframe tbody tr th {\n",
       "        vertical-align: top;\n",
       "    }\n",
       "</style>\n",
       "<table border=\"1\" class=\"dataframe\">\n",
       "  <thead>\n",
       "    <tr style=\"text-align: right;\">\n",
       "      <th></th>\n",
       "      <th>sentence_id</th>\n",
       "      <th>token_id</th>\n",
       "      <th>class</th>\n",
       "      <th>before</th>\n",
       "      <th>after</th>\n",
       "      <th>class_org</th>\n",
       "      <th>a_word_ind</th>\n",
       "      <th>sentence</th>\n",
       "    </tr>\n",
       "  </thead>\n",
       "  <tbody>\n",
       "    <tr>\n",
       "      <th>9</th>\n",
       "      <td>0</td>\n",
       "      <td>9</td>\n",
       "      <td>NOT_CHANGED</td>\n",
       "      <td>.</td>\n",
       "      <td>.</td>\n",
       "      <td>PUNCT</td>\n",
       "      <td>NaN</td>\n",
       "      <td>NaN</td>\n",
       "    </tr>\n",
       "    <tr>\n",
       "      <th>10</th>\n",
       "      <td>1</td>\n",
       "      <td>0</td>\n",
       "      <td>NUMBERS</td>\n",
       "      <td>2006</td>\n",
       "      <td>two thousand six</td>\n",
       "      <td>DATE</td>\n",
       "      <td>[5, 8, 20, 0]</td>\n",
       "      <td>&lt;SAMPLE&gt; iucn red list of threatened species .</td>\n",
       "    </tr>\n",
       "    <tr>\n",
       "      <th>11</th>\n",
       "      <td>1</td>\n",
       "      <td>1</td>\n",
       "      <td>LETTERS</td>\n",
       "      <td>IUCN</td>\n",
       "      <td>i u c n</td>\n",
       "      <td>LETTERS</td>\n",
       "      <td>[31, 43, 21, 29, 0]</td>\n",
       "      <td>2006 &lt;SAMPLE&gt; red list of threatened species .</td>\n",
       "    </tr>\n",
       "    <tr>\n",
       "      <th>12</th>\n",
       "      <td>1</td>\n",
       "      <td>2</td>\n",
       "      <td>NOT_CHANGED</td>\n",
       "      <td>Red</td>\n",
       "      <td>Red</td>\n",
       "      <td>PLAIN</td>\n",
       "      <td>NaN</td>\n",
       "      <td>NaN</td>\n",
       "    </tr>\n",
       "    <tr>\n",
       "      <th>13</th>\n",
       "      <td>1</td>\n",
       "      <td>3</td>\n",
       "      <td>NOT_CHANGED</td>\n",
       "      <td>List</td>\n",
       "      <td>List</td>\n",
       "      <td>PLAIN</td>\n",
       "      <td>NaN</td>\n",
       "      <td>NaN</td>\n",
       "    </tr>\n",
       "  </tbody>\n",
       "</table>\n",
       "</div>"
      ],
      "text/plain": [
       "    sentence_id  token_id        class before             after class_org  \\\n",
       "9             0         9  NOT_CHANGED      .                 .     PUNCT   \n",
       "10            1         0      NUMBERS   2006  two thousand six      DATE   \n",
       "11            1         1      LETTERS   IUCN           i u c n   LETTERS   \n",
       "12            1         2  NOT_CHANGED    Red               Red     PLAIN   \n",
       "13            1         3  NOT_CHANGED   List              List     PLAIN   \n",
       "\n",
       "             a_word_ind                                        sentence  \n",
       "9                   NaN                                             NaN  \n",
       "10        [5, 8, 20, 0]  <SAMPLE> iucn red list of threatened species .  \n",
       "11  [31, 43, 21, 29, 0]  2006 <SAMPLE> red list of threatened species .  \n",
       "12                  NaN                                             NaN  \n",
       "13                  NaN                                             NaN  "
      ]
     },
     "execution_count": 86,
     "metadata": {},
     "output_type": "execute_result"
    }
   ],
   "source": [
    "all_data[9:14]"
   ]
  },
  {
   "cell_type": "code",
   "execution_count": 87,
   "metadata": {
    "collapsed": true
   },
   "outputs": [],
   "source": [
    "pickle.dump(all_data, open(\"data/en_train_fixed_3_changed_sentences.pkl\", \"wb\" ))"
   ]
  },
  {
   "cell_type": "code",
   "execution_count": 89,
   "metadata": {},
   "outputs": [
    {
     "data": {
      "application/vnd.jupyter.widget-view+json": {
       "model_id": "03410348598f4425ad08f8635522d466"
      }
     },
     "metadata": {},
     "output_type": "display_data"
    },
    {
     "name": "stdout",
     "output_type": "stream",
     "text": [
      "   5000 0.05% (   0m 3s)\n",
      "  50000 0.50% (  0m 35s)\n",
      " 100000 1.01% (  1m 11s)\n",
      " 150000 1.51% (  1m 47s)\n",
      " 200000 2.02% (  2m 24s)\n",
      " 250000 2.52% (  2m 59s)\n",
      " 300000 3.02% (  3m 35s)\n",
      " 350000 3.53% (  4m 11s)\n",
      " 400000 4.03% (  4m 47s)\n",
      " 450000 4.54% (  5m 22s)\n",
      " 500000 5.04% (  5m 58s)\n",
      " 550000 5.55% (  6m 34s)\n",
      " 600000 6.05% (  7m 10s)\n",
      " 650000 6.55% (  7m 46s)\n",
      " 700000 7.06% (  8m 23s)\n",
      " 750000 7.56% (  8m 59s)\n",
      " 800000 8.07% (  9m 35s)\n",
      " 850000 8.57% ( 10m 11s)\n",
      " 900000 9.07% ( 10m 47s)\n",
      " 950000 9.58% ( 11m 23s)\n",
      "1000000 10.08% (  12m 0s)\n",
      "1050000 10.59% ( 12m 35s)\n",
      "1100000 11.09% ( 13m 12s)\n",
      "1150000 11.59% ( 13m 49s)\n",
      "1200000 12.10% ( 14m 25s)\n",
      "1250000 12.60% (  15m 1s)\n",
      "1300000 13.11% ( 15m 39s)\n",
      "1350000 13.61% ( 16m 14s)\n",
      "1400000 14.12% ( 16m 50s)\n",
      "1450000 14.62% ( 17m 28s)\n",
      "1500000 15.12% (  18m 5s)\n",
      "1550000 15.63% ( 18m 42s)\n",
      "1600000 16.13% ( 19m 19s)\n",
      "1650000 16.64% ( 19m 56s)\n",
      "1700000 17.14% ( 20m 33s)\n",
      "1750000 17.64% (  21m 8s)\n",
      "1800000 18.15% ( 21m 44s)\n",
      "1850000 18.65% ( 22m 19s)\n",
      "1900000 19.16% ( 22m 54s)\n",
      "1950000 19.66% ( 23m 29s)\n",
      "2000000 20.16% (  24m 4s)\n",
      "2050000 20.67% ( 24m 41s)\n",
      "2100000 21.17% ( 25m 17s)\n",
      "2150000 21.68% ( 25m 52s)\n",
      "2200000 22.18% ( 26m 29s)\n",
      "2250000 22.69% (  27m 6s)\n",
      "2300000 23.19% ( 27m 43s)\n",
      "2350000 23.69% ( 28m 19s)\n",
      "2400000 24.20% ( 28m 56s)\n",
      "2450000 24.70% ( 29m 33s)\n",
      "2500000 25.21% (  30m 9s)\n",
      "2550000 25.71% ( 30m 46s)\n",
      "2600000 26.21% ( 31m 22s)\n",
      "2650000 26.72% ( 31m 59s)\n",
      "2700000 27.22% ( 32m 36s)\n",
      "2750000 27.73% ( 33m 12s)\n",
      "2800000 28.23% ( 33m 48s)\n",
      "2850000 28.74% ( 34m 24s)\n",
      "2900000 29.24% (  35m 0s)\n",
      "2950000 29.74% ( 35m 36s)\n",
      "3000000 30.25% ( 36m 12s)\n",
      "3050000 30.75% ( 36m 49s)\n",
      "3100000 31.26% ( 37m 26s)\n",
      "3150000 31.76% (  38m 2s)\n",
      "3200000 32.26% ( 38m 39s)\n",
      "3250000 32.77% ( 39m 15s)\n",
      "3300000 33.27% ( 39m 51s)\n",
      "3350000 33.78% ( 40m 27s)\n",
      "3400000 34.28% (  41m 3s)\n",
      "3450000 34.78% ( 41m 39s)\n",
      "3500000 35.29% ( 42m 15s)\n",
      "3550000 35.79% ( 42m 51s)\n",
      "3600000 36.30% ( 43m 27s)\n",
      "3650000 36.80% (  44m 3s)\n",
      "3700000 37.31% ( 44m 39s)\n",
      "3750000 37.81% ( 45m 15s)\n",
      "3800000 38.31% ( 45m 51s)\n",
      "3850000 38.82% ( 46m 27s)\n",
      "3900000 39.32% (  47m 3s)\n",
      "3950000 39.83% ( 47m 39s)\n",
      "4000000 40.33% ( 48m 14s)\n",
      "4050000 40.83% ( 48m 50s)\n",
      "4100000 41.34% ( 49m 26s)\n",
      "4150000 41.84% (  50m 3s)\n",
      "4200000 42.35% ( 50m 38s)\n",
      "4250000 42.85% ( 51m 14s)\n",
      "4300000 43.35% ( 51m 51s)\n",
      "4350000 43.86% ( 52m 27s)\n",
      "4400000 44.36% (  53m 3s)\n",
      "4450000 44.87% ( 53m 39s)\n",
      "4500000 45.37% ( 54m 15s)\n",
      "4550000 45.88% ( 54m 51s)\n",
      "4600000 46.38% ( 55m 27s)\n",
      "4650000 46.88% (  56m 4s)\n",
      "4700000 47.39% ( 56m 40s)\n",
      "4750000 47.89% ( 57m 15s)\n",
      "4800000 48.40% ( 57m 51s)\n",
      "4850000 48.90% ( 58m 27s)\n",
      "4900000 49.40% (  59m 3s)\n",
      "4950000 49.91% ( 59m 38s)\n",
      "5000000 50.41% ( 60m 15s)\n",
      "5050000 50.92% ( 60m 50s)\n",
      "5100000 51.42% ( 61m 26s)\n",
      "5150000 51.92% (  62m 2s)\n",
      "5200000 52.43% ( 62m 38s)\n",
      "5250000 52.93% ( 63m 14s)\n",
      "5300000 53.44% ( 63m 51s)\n",
      "5350000 53.94% ( 64m 27s)\n",
      "5400000 54.45% (  65m 2s)\n",
      "5450000 54.95% ( 65m 38s)\n",
      "5500000 55.45% ( 66m 13s)\n",
      "5550000 55.96% ( 66m 48s)\n",
      "5600000 56.46% ( 67m 24s)\n",
      "5650000 56.97% (  68m 1s)\n",
      "5700000 57.47% ( 68m 37s)\n",
      "5750000 57.97% ( 69m 13s)\n",
      "5800000 58.48% ( 69m 49s)\n",
      "5850000 58.98% ( 70m 26s)\n",
      "5900000 59.49% (  71m 4s)\n",
      "5950000 59.99% ( 71m 40s)\n",
      "6000000 60.49% ( 72m 17s)\n",
      "6050000 61.00% ( 72m 53s)\n",
      "6100000 61.50% ( 73m 29s)\n",
      "6150000 62.01% (  74m 5s)\n",
      "6200000 62.51% ( 74m 42s)\n",
      "6250000 63.02% ( 75m 17s)\n",
      "6300000 63.52% ( 75m 54s)\n",
      "6350000 64.02% ( 76m 29s)\n",
      "6400000 64.53% (  77m 5s)\n",
      "6450000 65.03% ( 77m 41s)\n",
      "6500000 65.54% ( 78m 17s)\n",
      "6550000 66.04% ( 78m 52s)\n",
      "6600000 66.54% ( 79m 27s)\n",
      "6650000 67.05% (  80m 2s)\n",
      "6700000 67.55% ( 80m 38s)\n",
      "6750000 68.06% ( 81m 14s)\n",
      "6800000 68.56% ( 81m 50s)\n",
      "6850000 69.07% ( 82m 26s)\n",
      "6900000 69.57% (  83m 3s)\n",
      "6950000 70.07% ( 83m 39s)\n",
      "7000000 70.58% ( 84m 15s)\n",
      "7050000 71.08% ( 84m 52s)\n",
      "7100000 71.59% ( 85m 28s)\n",
      "7150000 72.09% (  86m 4s)\n",
      "7200000 72.59% ( 86m 41s)\n",
      "7250000 73.10% ( 87m 19s)\n",
      "7300000 73.60% ( 87m 55s)\n",
      "7350000 74.11% ( 88m 32s)\n",
      "7400000 74.61% (  89m 8s)\n",
      "7450000 75.11% ( 89m 45s)\n",
      "7500000 75.62% ( 90m 22s)\n",
      "7550000 76.12% ( 90m 58s)\n",
      "7600000 76.63% ( 91m 34s)\n",
      "7650000 77.13% ( 92m 10s)\n",
      "7700000 77.64% ( 92m 47s)\n",
      "7750000 78.14% ( 93m 24s)\n",
      "7800000 78.64% (  94m 1s)\n",
      "7850000 79.15% ( 94m 37s)\n",
      "7900000 79.65% ( 95m 13s)\n",
      "7950000 80.16% ( 95m 49s)\n",
      "8000000 80.66% ( 96m 25s)\n",
      "8050000 81.16% (  97m 0s)\n",
      "8100000 81.67% ( 97m 35s)\n",
      "8150000 82.17% ( 98m 11s)\n",
      "8200000 82.68% ( 98m 48s)\n",
      "8250000 83.18% ( 99m 25s)\n",
      "8300000 83.68% ( 100m 1s)\n",
      "8350000 84.19% (100m 37s)\n",
      "8400000 84.69% (101m 14s)\n",
      "8450000 85.20% (101m 50s)\n",
      "8500000 85.70% (102m 26s)\n",
      "8550000 86.21% ( 103m 3s)\n",
      "8600000 86.71% (103m 39s)\n",
      "8650000 87.21% (104m 15s)\n",
      "8700000 87.72% (104m 52s)\n",
      "8750000 88.22% (105m 28s)\n",
      "8800000 88.73% ( 106m 4s)\n",
      "8850000 89.23% (106m 41s)\n",
      "8900000 89.73% (107m 18s)\n",
      "8950000 90.24% (107m 55s)\n",
      "9000000 90.74% (108m 31s)\n",
      "9050000 91.25% ( 109m 8s)\n",
      "9100000 91.75% (109m 45s)\n",
      "9150000 92.25% (110m 21s)\n",
      "9200000 92.76% (110m 58s)\n",
      "9250000 93.26% (111m 35s)\n",
      "9300000 93.77% (112m 11s)\n",
      "9350000 94.27% (112m 48s)\n",
      "9400000 94.78% (113m 25s)\n",
      "9450000 95.28% ( 114m 1s)\n",
      "9500000 95.78% (114m 37s)\n",
      "9550000 96.29% (115m 14s)\n",
      "9600000 96.79% (115m 50s)\n",
      "9650000 97.30% (116m 27s)\n",
      "9700000 97.80% ( 117m 4s)\n",
      "9750000 98.30% (117m 40s)\n",
      "9800000 98.81% (118m 17s)\n",
      "9850000 99.31% (118m 53s)\n",
      "9900000 99.82% (119m 29s)\n"
     ]
    }
   ],
   "source": [
    "prepare_sentence_tokenized_by_rows(all_data)"
   ]
  },
  {
   "cell_type": "code",
   "execution_count": 90,
   "metadata": {},
   "outputs": [
    {
     "data": {
      "text/html": [
       "<div>\n",
       "<style>\n",
       "    .dataframe thead tr:only-child th {\n",
       "        text-align: right;\n",
       "    }\n",
       "\n",
       "    .dataframe thead th {\n",
       "        text-align: left;\n",
       "    }\n",
       "\n",
       "    .dataframe tbody tr th {\n",
       "        vertical-align: top;\n",
       "    }\n",
       "</style>\n",
       "<table border=\"1\" class=\"dataframe\">\n",
       "  <thead>\n",
       "    <tr style=\"text-align: right;\">\n",
       "      <th></th>\n",
       "      <th>sentence_id</th>\n",
       "      <th>token_id</th>\n",
       "      <th>class</th>\n",
       "      <th>before</th>\n",
       "      <th>after</th>\n",
       "      <th>class_org</th>\n",
       "      <th>a_word_ind</th>\n",
       "      <th>sentence</th>\n",
       "    </tr>\n",
       "  </thead>\n",
       "  <tbody>\n",
       "    <tr>\n",
       "      <th>9</th>\n",
       "      <td>0</td>\n",
       "      <td>9</td>\n",
       "      <td>NOT_CHANGED</td>\n",
       "      <td>.</td>\n",
       "      <td>.</td>\n",
       "      <td>PUNCT</td>\n",
       "      <td>NaN</td>\n",
       "      <td>brillantaisia is a genus of plant in family ac...</td>\n",
       "    </tr>\n",
       "    <tr>\n",
       "      <th>10</th>\n",
       "      <td>1</td>\n",
       "      <td>0</td>\n",
       "      <td>NUMBERS</td>\n",
       "      <td>2006</td>\n",
       "      <td>two thousand six</td>\n",
       "      <td>DATE</td>\n",
       "      <td>[5, 8, 20, 0]</td>\n",
       "      <td>&lt;SAMPLE&gt; iucn red list of threatened species .</td>\n",
       "    </tr>\n",
       "    <tr>\n",
       "      <th>11</th>\n",
       "      <td>1</td>\n",
       "      <td>1</td>\n",
       "      <td>LETTERS</td>\n",
       "      <td>IUCN</td>\n",
       "      <td>i u c n</td>\n",
       "      <td>LETTERS</td>\n",
       "      <td>[31, 43, 21, 29, 0]</td>\n",
       "      <td>2006 &lt;SAMPLE&gt; red list of threatened species .</td>\n",
       "    </tr>\n",
       "    <tr>\n",
       "      <th>12</th>\n",
       "      <td>1</td>\n",
       "      <td>2</td>\n",
       "      <td>NOT_CHANGED</td>\n",
       "      <td>Red</td>\n",
       "      <td>Red</td>\n",
       "      <td>PLAIN</td>\n",
       "      <td>NaN</td>\n",
       "      <td>2006 iucn &lt;SAMPLE&gt; list of threatened species .</td>\n",
       "    </tr>\n",
       "    <tr>\n",
       "      <th>13</th>\n",
       "      <td>1</td>\n",
       "      <td>3</td>\n",
       "      <td>NOT_CHANGED</td>\n",
       "      <td>List</td>\n",
       "      <td>List</td>\n",
       "      <td>PLAIN</td>\n",
       "      <td>NaN</td>\n",
       "      <td>2006 iucn red &lt;SAMPLE&gt; of threatened species .</td>\n",
       "    </tr>\n",
       "  </tbody>\n",
       "</table>\n",
       "</div>"
      ],
      "text/plain": [
       "    sentence_id  token_id        class before             after class_org  \\\n",
       "9             0         9  NOT_CHANGED      .                 .     PUNCT   \n",
       "10            1         0      NUMBERS   2006  two thousand six      DATE   \n",
       "11            1         1      LETTERS   IUCN           i u c n   LETTERS   \n",
       "12            1         2  NOT_CHANGED    Red               Red     PLAIN   \n",
       "13            1         3  NOT_CHANGED   List              List     PLAIN   \n",
       "\n",
       "             a_word_ind                                           sentence  \n",
       "9                   NaN  brillantaisia is a genus of plant in family ac...  \n",
       "10        [5, 8, 20, 0]     <SAMPLE> iucn red list of threatened species .  \n",
       "11  [31, 43, 21, 29, 0]     2006 <SAMPLE> red list of threatened species .  \n",
       "12                  NaN    2006 iucn <SAMPLE> list of threatened species .  \n",
       "13                  NaN     2006 iucn red <SAMPLE> of threatened species .  "
      ]
     },
     "execution_count": 90,
     "metadata": {},
     "output_type": "execute_result"
    }
   ],
   "source": [
    "all_data[9:14]"
   ]
  },
  {
   "cell_type": "code",
   "execution_count": 91,
   "metadata": {
    "collapsed": true
   },
   "outputs": [],
   "source": [
    "pickle.dump(all_data, open(\"data/en_train_fixed_4_sentences.pkl\", \"wb\" ))"
   ]
  },
  {
   "cell_type": "code",
   "execution_count": 105,
   "metadata": {},
   "outputs": [
    {
     "data": {
      "text/plain": [
       "867"
      ]
     },
     "execution_count": 105,
     "metadata": {},
     "output_type": "execute_result"
    }
   ],
   "source": [
    "len(changed_data[changed_data['after'].str.len() > 100])"
   ]
  },
  {
   "cell_type": "code",
   "execution_count": 96,
   "metadata": {},
   "outputs": [
    {
     "data": {
      "text/plain": [
       "'college.usc.edu/unruh/private/UnruhNews.pdfhttp://atticwritersworkshop.com/teacher/peter-zuckermanhttp://www.falconartcommunity.com/artists.htmlhttp://www.oregonlive.com/mapes/index.ssf/2014/05/gay_marriage_supporters_launch.htmlhttp://www.advocate.com/oregon/2014/05/02/watch-oregons-first-ad-defeat-turn-away-gay-initiativehttp://www.oregonlive.com/mapes/index.ssf/2014/05/oregon_gay_marriage_ban_struck.htmlhttp://www.oregonlive.com/mapes/index.ssf/2014/05/gay_marriage_backers_of_exempt.htmlhttp://www.newapproachoregon.com/contact/http://www.bendbulletin.com/localstate/2283636-151/oregon-pot-campaign-raises-over-1-millionhttp://hemp.org/news/content/oregon-addiction-expert-kicks-23-million-marijuana-legalization-ad-campaignhttp://newsok.com/legal-pot-is-top-oregon-news-story-of-2014/article/feed/777847http://www.oregonlive.com/mapes/index.ssf/2014/08/sponsors_cancel_drug_summit_in.html#incart_riverhttp://www.oregonlive.com/politics/index.ssf/2014/11/recreational_marijuana_passes.htmlhttp://college.usc.edu/faculty/faculty1003855.htmlNavigating'"
      ]
     },
     "execution_count": 96,
     "metadata": {},
     "output_type": "execute_result"
    }
   ],
   "source": [
    "changed_data.loc[8875393]['before']"
   ]
  },
  {
   "cell_type": "markdown",
   "metadata": {
    "collapsed": true
   },
   "source": [
    "# Manually checked removing"
   ]
  },
  {
   "cell_type": "code",
   "execution_count": 5,
   "metadata": {},
   "outputs": [],
   "source": [
    "all_data = pickle.load(open(\"data/en_train_fixed_4_sentences.pkl\", \"rb\" ))"
   ]
  },
  {
   "cell_type": "code",
   "execution_count": 6,
   "metadata": {
    "collapsed": true
   },
   "outputs": [],
   "source": [
    "chars_normal, chars_normal_index = load_characters_pkl('data/en_features/chars_normal.pkl')\n",
    "common_words, common_words_index = load_common_words_10k()\n",
    "chars_with_changes = pickle.load(open('data/en_features/chars_with_changes.pkl', \"rb\"))\n",
    "chars_with_no_changes_re = re.compile(\"[^{}]\".format(''.join(chars_with_changes)))\n",
    "chars_with_single_output_dict = pickle.load(open('data/en_features/chars_with_single_output_dict.pkl', \"rb\"));"
   ]
  },
  {
   "cell_type": "code",
   "execution_count": 7,
   "metadata": {
    "collapsed": true
   },
   "outputs": [],
   "source": [
    "def manual_pre_checks(before):\n",
    "    if chars_with_no_changes_re.search(before): #contains chars that were never changed\n",
    "        return before \n",
    "    if before in chars_with_single_output_dict:\n",
    "        return chars_with_single_output_dict[before]\n",
    "    return False"
   ]
  },
  {
   "cell_type": "code",
   "execution_count": 41,
   "metadata": {},
   "outputs": [
    {
     "data": {
      "text/plain": [
       "'kappa'"
      ]
     },
     "execution_count": 41,
     "metadata": {},
     "output_type": "execute_result"
    }
   ],
   "source": [
    "manual_pre_checks('κ')"
   ]
  },
  {
   "cell_type": "code",
   "execution_count": 9,
   "metadata": {
    "collapsed": true
   },
   "outputs": [],
   "source": [
    "changed_data = all_data[all_data['class'] != 'NOT_CHANGED']"
   ]
  },
  {
   "cell_type": "code",
   "execution_count": 12,
   "metadata": {},
   "outputs": [
    {
     "data": {
      "text/plain": [
       "array(['NUMBERS', 'LETTERS', 'PLAIN', 'VERBATIM', 'ELECTRONIC'], dtype=object)"
      ]
     },
     "execution_count": 12,
     "metadata": {},
     "output_type": "execute_result"
    }
   ],
   "source": [
    "changed_data['class'].unique()"
   ]
  },
  {
   "cell_type": "code",
   "execution_count": 29,
   "metadata": {},
   "outputs": [],
   "source": [
    "def prepare_manual_class_by_rows(pd_rows):\n",
    "    global current_row\n",
    "    iter_len = len(pd_rows)\n",
    "    rows_iter = pd_rows.itertuples()\n",
    "    iteration_idx = 0\n",
    "    start = time.time()\n",
    "    \n",
    "    for sample_row in log_progress(rows_iter, every=1000, size=iter_len):\n",
    "        before = sample_row.before\n",
    "        current_row = sample_row\n",
    "\n",
    "        result = manual_pre_checks(sample_row.before)\n",
    "        if result:\n",
    "            if result != sample_row.after:\n",
    "                print(\"PROBLEM with:\", sample_row)\n",
    "            else:\n",
    "                all_data.at[sample_row.Index, 'class'] = 'MANUAL'\n",
    "\n",
    "        iteration_idx += 1\n",
    "        if iteration_idx%50000 == 0:\n",
    "            print(\"{:>7d} {:>2.2%} ({:>8})\".format(iteration_idx, iteration_idx/iter_len, time_since(start)))"
   ]
  },
  {
   "cell_type": "code",
   "execution_count": 30,
   "metadata": {},
   "outputs": [
    {
     "data": {
      "application/vnd.jupyter.widget-view+json": {
       "model_id": "cf60c35f9072478bb618cc29fa0894e5"
      }
     },
     "metadata": {},
     "output_type": "display_data"
    },
    {
     "name": "stdout",
     "output_type": "stream",
     "text": [
      "  50000 7.58% (   0m 0s)\n",
      " 100000 15.16% (   0m 0s)\n",
      " 150000 22.74% (   0m 0s)\n",
      " 200000 30.32% (   0m 0s)\n",
      " 250000 37.90% (   0m 0s)\n",
      " 300000 45.49% (   0m 0s)\n",
      " 350000 53.07% (   0m 0s)\n",
      " 400000 60.65% (   0m 1s)\n",
      " 450000 68.23% (   0m 1s)\n",
      " 500000 75.81% (   0m 1s)\n",
      " 550000 83.39% (   0m 1s)\n",
      " 600000 90.97% (   0m 1s)\n",
      " 650000 98.55% (   0m 1s)\n"
     ]
    }
   ],
   "source": [
    "prepare_manual_class_by_rows(changed_data)"
   ]
  },
  {
   "cell_type": "code",
   "execution_count": 33,
   "metadata": {},
   "outputs": [
    {
     "data": {
      "text/html": [
       "<div>\n",
       "<style>\n",
       "    .dataframe thead tr:only-child th {\n",
       "        text-align: right;\n",
       "    }\n",
       "\n",
       "    .dataframe thead th {\n",
       "        text-align: left;\n",
       "    }\n",
       "\n",
       "    .dataframe tbody tr th {\n",
       "        vertical-align: top;\n",
       "    }\n",
       "</style>\n",
       "<table border=\"1\" class=\"dataframe\">\n",
       "  <thead>\n",
       "    <tr style=\"text-align: right;\">\n",
       "      <th></th>\n",
       "      <th>sentence_id</th>\n",
       "      <th>token_id</th>\n",
       "      <th>class</th>\n",
       "      <th>before</th>\n",
       "      <th>after</th>\n",
       "      <th>class_org</th>\n",
       "      <th>a_word_ind</th>\n",
       "      <th>sentence</th>\n",
       "    </tr>\n",
       "  </thead>\n",
       "  <tbody>\n",
       "  </tbody>\n",
       "</table>\n",
       "</div>"
      ],
      "text/plain": [
       "Empty DataFrame\n",
       "Columns: [sentence_id, token_id, class, before, after, class_org, a_word_ind, sentence]\n",
       "Index: []"
      ]
     },
     "execution_count": 33,
     "metadata": {},
     "output_type": "execute_result"
    }
   ],
   "source": [
    "changed_data[changed_data['class'] == 'MANUAL']"
   ]
  },
  {
   "cell_type": "code",
   "execution_count": 38,
   "metadata": {},
   "outputs": [
    {
     "data": {
      "text/html": [
       "<div>\n",
       "<style>\n",
       "    .dataframe thead tr:only-child th {\n",
       "        text-align: right;\n",
       "    }\n",
       "\n",
       "    .dataframe thead th {\n",
       "        text-align: left;\n",
       "    }\n",
       "\n",
       "    .dataframe tbody tr th {\n",
       "        vertical-align: top;\n",
       "    }\n",
       "</style>\n",
       "<table border=\"1\" class=\"dataframe\">\n",
       "  <thead>\n",
       "    <tr style=\"text-align: right;\">\n",
       "      <th></th>\n",
       "      <th>sentence_id</th>\n",
       "      <th>token_id</th>\n",
       "      <th>class</th>\n",
       "      <th>before</th>\n",
       "      <th>after</th>\n",
       "      <th>class_org</th>\n",
       "      <th>a_word_ind</th>\n",
       "      <th>sentence</th>\n",
       "    </tr>\n",
       "  </thead>\n",
       "  <tbody>\n",
       "    <tr>\n",
       "      <th>5033346</th>\n",
       "      <td>384879</td>\n",
       "      <td>29</td>\n",
       "      <td>MANUAL</td>\n",
       "      <td>ο</td>\n",
       "      <td>omicron</td>\n",
       "      <td>VERBATIM</td>\n",
       "      <td>[135, 0]</td>\n",
       "      <td>great synaxaristes : ( greek ) ἡ ἁ γ ι α ἄ ν ν...</td>\n",
       "    </tr>\n",
       "    <tr>\n",
       "      <th>8241234</th>\n",
       "      <td>623993</td>\n",
       "      <td>21</td>\n",
       "      <td>MANUAL</td>\n",
       "      <td>κ</td>\n",
       "      <td>kappa</td>\n",
       "      <td>VERBATIM</td>\n",
       "      <td>[167, 0]</td>\n",
       "      <td>124 basic training wing ( 124 π τ ε ρ υ γ α β ...</td>\n",
       "    </tr>\n",
       "    <tr>\n",
       "      <th>7089991</th>\n",
       "      <td>538096</td>\n",
       "      <td>16</td>\n",
       "      <td>MANUAL</td>\n",
       "      <td>ν</td>\n",
       "      <td>nu</td>\n",
       "      <td>VERBATIM</td>\n",
       "      <td>[152, 0]</td>\n",
       "      <td>in greek mythology , pleisthenes ( ancient gre...</td>\n",
       "    </tr>\n",
       "    <tr>\n",
       "      <th>360513</th>\n",
       "      <td>28983</td>\n",
       "      <td>9</td>\n",
       "      <td>MANUAL</td>\n",
       "      <td>θ</td>\n",
       "      <td>theta</td>\n",
       "      <td>VERBATIM</td>\n",
       "      <td>[237, 0]</td>\n",
       "      <td>melantho ( greek : μ ε λ α ν &lt;SAMPLE&gt; ω ) , is...</td>\n",
       "    </tr>\n",
       "    <tr>\n",
       "      <th>373892</th>\n",
       "      <td>30049</td>\n",
       "      <td>18</td>\n",
       "      <td>MANUAL</td>\n",
       "      <td>δ</td>\n",
       "      <td>delta</td>\n",
       "      <td>VERBATIM</td>\n",
       "      <td>[208, 0]</td>\n",
       "      <td>thomas garaklidis ( greek : θ ω μ α ς γ κ α ρ ...</td>\n",
       "    </tr>\n",
       "  </tbody>\n",
       "</table>\n",
       "</div>"
      ],
      "text/plain": [
       "         sentence_id  token_id   class before    after class_org a_word_ind  \\\n",
       "5033346       384879        29  MANUAL      ο  omicron  VERBATIM   [135, 0]   \n",
       "8241234       623993        21  MANUAL      κ    kappa  VERBATIM   [167, 0]   \n",
       "7089991       538096        16  MANUAL      ν       nu  VERBATIM   [152, 0]   \n",
       "360513         28983         9  MANUAL      θ    theta  VERBATIM   [237, 0]   \n",
       "373892         30049        18  MANUAL      δ    delta  VERBATIM   [208, 0]   \n",
       "\n",
       "                                                  sentence  \n",
       "5033346  great synaxaristes : ( greek ) ἡ ἁ γ ι α ἄ ν ν...  \n",
       "8241234  124 basic training wing ( 124 π τ ε ρ υ γ α β ...  \n",
       "7089991  in greek mythology , pleisthenes ( ancient gre...  \n",
       "360513   melantho ( greek : μ ε λ α ν <SAMPLE> ω ) , is...  \n",
       "373892   thomas garaklidis ( greek : θ ω μ α ς γ κ α ρ ...  "
      ]
     },
     "execution_count": 38,
     "metadata": {},
     "output_type": "execute_result"
    }
   ],
   "source": [
    "all_data[all_data['class'] == 'MANUAL'].sample(5)"
   ]
  },
  {
   "cell_type": "code",
   "execution_count": 39,
   "metadata": {
    "collapsed": true
   },
   "outputs": [],
   "source": [
    "pickle.dump(all_data, open(\"data/en_train_fixed_5_manual.pkl\", \"wb\" ))"
   ]
  },
  {
   "cell_type": "code",
   "execution_count": null,
   "metadata": {
    "collapsed": true
   },
   "outputs": [],
   "source": []
  }
 ],
 "metadata": {
  "anaconda-cloud": {},
  "kernelspec": {
   "display_name": "Python [conda env:py3_pytorch_2]",
   "language": "python",
   "name": "conda-env-py3_pytorch_2-py"
  },
  "language_info": {
   "codemirror_mode": {
    "name": "ipython",
    "version": 3
   },
   "file_extension": ".py",
   "mimetype": "text/x-python",
   "name": "python",
   "nbconvert_exporter": "python",
   "pygments_lexer": "ipython3",
   "version": "3.6.1"
  }
 },
 "nbformat": 4,
 "nbformat_minor": 2
}
