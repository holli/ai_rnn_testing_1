{
 "cells": [
  {
   "cell_type": "code",
   "execution_count": 1,
   "metadata": {},
   "outputs": [
    {
     "name": "stdout",
     "output_type": "stream",
     "text": [
      "Pytorch utils oh: pytorch_utils_oh_1.py\n",
      "Pytorch: 0.2.0_4\n"
     ]
    }
   ],
   "source": [
    "%matplotlib inline\n",
    "import importlib\n",
    "from pytorch_utils_oh_1 import *"
   ]
  },
  {
   "cell_type": "code",
   "execution_count": 27,
   "metadata": {
    "collapsed": true
   },
   "outputs": [],
   "source": [
    "MODEL_SAVE_PATH = 'category_1_mod_data_common_words'"
   ]
  },
  {
   "cell_type": "code",
   "execution_count": 345,
   "metadata": {},
   "outputs": [
    {
     "name": "stdout",
     "output_type": "stream",
     "text": [
      "Pytorch utils oh: pytorch_utils_oh_1.py\n",
      "Pytorch: 0.2.0_4\n"
     ]
    }
   ],
   "source": [
    "import pytorch_utils_oh_1; importlib.reload(pytorch_utils_oh_1); from pytorch_utils_oh_1 import *;"
   ]
  },
  {
   "cell_type": "markdown",
   "metadata": {},
   "source": [
    "# Data loading"
   ]
  },
  {
   "cell_type": "code",
   "execution_count": 230,
   "metadata": {},
   "outputs": [],
   "source": [
    "all_data = pickle.load(open(\"data/en_train_not_changed_1.pkl\", \"rb\" ))\n",
    "change data\n",
    "all_data_sentence_index = all_data.set_index('sentence_id')"
   ]
  },
  {
   "cell_type": "code",
   "execution_count": 4,
   "metadata": {},
   "outputs": [
    {
     "data": {
      "text/html": [
       "<div>\n",
       "<style>\n",
       "    .dataframe thead tr:only-child th {\n",
       "        text-align: right;\n",
       "    }\n",
       "\n",
       "    .dataframe thead th {\n",
       "        text-align: left;\n",
       "    }\n",
       "\n",
       "    .dataframe tbody tr th {\n",
       "        vertical-align: top;\n",
       "    }\n",
       "</style>\n",
       "<table border=\"1\" class=\"dataframe\">\n",
       "  <thead>\n",
       "    <tr style=\"text-align: right;\">\n",
       "      <th></th>\n",
       "      <th>sentence_id</th>\n",
       "      <th>token_id</th>\n",
       "      <th>class</th>\n",
       "      <th>before</th>\n",
       "      <th>after</th>\n",
       "    </tr>\n",
       "  </thead>\n",
       "  <tbody>\n",
       "    <tr>\n",
       "      <th>7459959</th>\n",
       "      <td>565730</td>\n",
       "      <td>6</td>\n",
       "      <td>NOT_CHANGED</td>\n",
       "      <td>,</td>\n",
       "      <td>,</td>\n",
       "    </tr>\n",
       "    <tr>\n",
       "      <th>4751479</th>\n",
       "      <td>363745</td>\n",
       "      <td>3</td>\n",
       "      <td>NOT_CHANGED</td>\n",
       "      <td>Hispanic</td>\n",
       "      <td>Hispanic</td>\n",
       "    </tr>\n",
       "    <tr>\n",
       "      <th>2165066</th>\n",
       "      <td>168526</td>\n",
       "      <td>16</td>\n",
       "      <td>NOT_CHANGED</td>\n",
       "      <td>.</td>\n",
       "      <td>.</td>\n",
       "    </tr>\n",
       "    <tr>\n",
       "      <th>6848805</th>\n",
       "      <td>520203</td>\n",
       "      <td>1</td>\n",
       "      <td>NOT_CHANGED</td>\n",
       "      <td>applications</td>\n",
       "      <td>applications</td>\n",
       "    </tr>\n",
       "    <tr>\n",
       "      <th>5290088</th>\n",
       "      <td>404069</td>\n",
       "      <td>4</td>\n",
       "      <td>NOT_CHANGED</td>\n",
       "      <td>Cup</td>\n",
       "      <td>Cup</td>\n",
       "    </tr>\n",
       "  </tbody>\n",
       "</table>\n",
       "</div>"
      ],
      "text/plain": [
       "         sentence_id  token_id        class        before         after\n",
       "7459959       565730         6  NOT_CHANGED             ,             ,\n",
       "4751479       363745         3  NOT_CHANGED      Hispanic      Hispanic\n",
       "2165066       168526        16  NOT_CHANGED             .             .\n",
       "6848805       520203         1  NOT_CHANGED  applications  applications\n",
       "5290088       404069         4  NOT_CHANGED           Cup           Cup"
      ]
     },
     "execution_count": 4,
     "metadata": {},
     "output_type": "execute_result"
    }
   ],
   "source": [
    "all_data.sample(5)"
   ]
  },
  {
   "cell_type": "code",
   "execution_count": 5,
   "metadata": {},
   "outputs": [
    {
     "name": "stdout",
     "output_type": "stream",
     "text": [
      "['NOT_CHANGED' 'NUMBERS' 'LETTERS' 'PLAIN' 'VERBATIM' 'ELECTRONIC']\n",
      "6\n"
     ]
    }
   ],
   "source": [
    "categories_all = all_data[\"class\"].unique()\n",
    "print(categories_all)\n",
    "print(len(categories_all))\n",
    "categories_index = dict((c, i) for i, c in enumerate(categories_all))"
   ]
  },
  {
   "cell_type": "markdown",
   "metadata": {},
   "source": [
    "### Letters all"
   ]
  },
  {
   "cell_type": "code",
   "execution_count": 9,
   "metadata": {},
   "outputs": [
    {
     "name": "stdout",
     "output_type": "stream",
     "text": [
      "<EOS><SOS> !\"#$%&'()+,-./0123456789:;?ABCDEFGHIJKLMNOPQRSTUVWXYZ[]_abcdefghijklmnopqrstuvwxyz|~¡£¥ª«²³µº»¼½¾¿éɒʻˈΩμ—€⅓⅔⅛⅝⅞☒\n",
      "115\n"
     ]
    }
   ],
   "source": [
    "tmp = sorted(list(set(''.join(all_data['before']))))\n",
    "characters_all = ['<EOS>', '<SOS>'] + sorted(list(set(tmp)))\n",
    "characters_all_index = dict((c, i) for i, c in enumerate(characters_all))\n",
    "print(''.join(characters_all))\n",
    "print(len(characters_all))"
   ]
  },
  {
   "cell_type": "markdown",
   "metadata": {},
   "source": [
    "### Common words"
   ]
  },
  {
   "cell_type": "code",
   "execution_count": 10,
   "metadata": {},
   "outputs": [
    {
     "data": {
      "text/plain": [
       "7380"
      ]
     },
     "execution_count": 10,
     "metadata": {},
     "output_type": "execute_result"
    }
   ],
   "source": [
    "common_words = pickle.load(open(\"data/en_train_words_before_over_100.pk\", \"rb\" ))\n",
    "common_words = [EOS_TOKEN, SOS_TOKEN, UNKNOWN_WORD_TOKEN, NUMBER_WORD_TOKEN] + common_words\n",
    "common_words_index = dict((c, i) for i, c in enumerate(common_words))\n",
    "len(common_words)"
   ]
  },
  {
   "cell_type": "markdown",
   "metadata": {},
   "source": [
    "**SHOULD HAVE INCLUDED SAMPLE_WORDS_TOKEN ALSO IN HERE, ORIGINALLY WAS NOT HERE**"
   ]
  },
  {
   "cell_type": "code",
   "execution_count": 346,
   "metadata": {},
   "outputs": [
    {
     "data": {
      "text/plain": [
       "7381"
      ]
     },
     "execution_count": 346,
     "metadata": {},
     "output_type": "execute_result"
    }
   ],
   "source": [
    "common_words, common_words_index = load_common_words_100()\n",
    "len(common_words)"
   ]
  },
  {
   "cell_type": "code",
   "execution_count": null,
   "metadata": {
    "collapsed": true
   },
   "outputs": [],
   "source": []
  },
  {
   "cell_type": "markdown",
   "metadata": {},
   "source": [
    "### More balanced sample"
   ]
  },
  {
   "cell_type": "code",
   "execution_count": 6,
   "metadata": {},
   "outputs": [
    {
     "data": {
      "text/plain": [
       "class\n",
       "ELECTRONIC        4964\n",
       "LETTERS         144364\n",
       "NOT_CHANGED    9218584\n",
       "NUMBERS         448151\n",
       "PLAIN            36472\n",
       "VERBATIM         65855\n",
       "Name: class, dtype: int64"
      ]
     },
     "execution_count": 6,
     "metadata": {},
     "output_type": "execute_result"
    }
   ],
   "source": [
    "all_data.groupby(\"class\")[\"class\"].count()"
   ]
  },
  {
   "cell_type": "code",
   "execution_count": 254,
   "metadata": {},
   "outputs": [],
   "source": [
    "balanced_data_classes_select = list(all_data.groupby('class'))\n",
    "balanced_data_accessed_counter = 0 \n",
    "balanced_data_length = 0\n",
    "def balanced_data_randomize(max_len=20000):\n",
    "    global balanced_data, balanced_data_length, balanced_data_accessed_counter\n",
    "    balanced_data = pd.concat([v.sample(min(max_len, len(v))) for k, v in balanced_data_classes_select])\n",
    "    balanced_data_length = len(balanced_data)\n",
    "    balanced_data_accessed_counter = 0\n",
    "\n",
    "def balanced_data_sample_row():\n",
    "    global balanced_data_accessed_counter\n",
    "    balanced_data_accessed_counter += 1\n",
    "    if balanced_data_accessed_counter/balanced_data_length > 0.2:\n",
    "        balanced_data_randomize()\n",
    "    return balanced_data.iloc[random.randint(1, balanced_data_length-1)]\n",
    "    \n",
    "balanced_data_randomize()"
   ]
  },
  {
   "cell_type": "code",
   "execution_count": 224,
   "metadata": {},
   "outputs": [
    {
     "data": {
      "text/plain": [
       "class\n",
       "ELECTRONIC      4964\n",
       "LETTERS        20000\n",
       "NOT_CHANGED    20000\n",
       "NUMBERS        20000\n",
       "PLAIN          20000\n",
       "VERBATIM       20000\n",
       "Name: class, dtype: int64"
      ]
     },
     "execution_count": 224,
     "metadata": {},
     "output_type": "execute_result"
    }
   ],
   "source": [
    "balanced_data.groupby(\"class\")[\"class\"].count()"
   ]
  },
  {
   "cell_type": "markdown",
   "metadata": {},
   "source": [
    "### Samples"
   ]
  },
  {
   "cell_type": "code",
   "execution_count": 226,
   "metadata": {},
   "outputs": [
    {
     "name": "stdout",
     "output_type": "stream",
     "text": [
      "ELECTRONIC : Catholic-Hierarchy.org -> c a t h o l i c d a s h h i e r a r c h y dot o r g\n",
      "\" Bishop Giuseppe Pamphilj ( Panfili ) , O.S.A. \" <SAMPLE> .\n",
      "['\"', 'Bishop', 'Giuseppe', 'Pamphilj', '(', 'Panfili', ')', ',', 'O.S.A.', '\"', '<SAMPLE>', '.']\n",
      "torch.Size([1, 13, 7380])\n",
      "torch.Size([1, 23, 115])\n"
     ]
    }
   ],
   "source": [
    "def get_random_sample():\n",
    "    sample_row = balanced_data_sample_row()\n",
    "    sentence_id = sample_row['class']\n",
    "\n",
    "    rows = all_data_sentence_index.loc[sample_row['sentence_id']]\n",
    "    befores = list(rows.before)\n",
    "        \n",
    "    token_id_idx = list(rows['token_id']).index(sample_row['token_id'])\n",
    "    befores[token_id_idx] = SAMPLE_WORD_TOKEN\n",
    "    \n",
    "    return sample_row['before'], sample_row['after'], sample_row['class'], befores\n",
    "            \n",
    "def tmp():\n",
    "    s_bef, s_aft, s_class, s_sentence = get_random_sample()\n",
    "    print(s_class, ':', s_bef, '->', s_aft)\n",
    "    print(' '.join(s_sentence))\n",
    "    print(s_sentence)\n",
    "    print(words_to_tensor(list(s_sentence), common_words_index).shape)\n",
    "    print(string_to_tensor(s_bef, characters_all_index).shape)\n",
    "tmp()"
   ]
  },
  {
   "cell_type": "code",
   "execution_count": null,
   "metadata": {
    "collapsed": true
   },
   "outputs": [],
   "source": []
  },
  {
   "cell_type": "markdown",
   "metadata": {},
   "source": [
    "# Model"
   ]
  },
  {
   "cell_type": "code",
   "execution_count": 14,
   "metadata": {
    "collapsed": true
   },
   "outputs": [],
   "source": [
    "class CategorizeRNN(nn.Module):\n",
    "    def __init__(self, output_size, words_input_size, chars_input_size, words_hidden_size, chars_hidden_size,\n",
    "                 words_layers=1, chars_layers=1):\n",
    "        super(CategorizeRNN, self).__init__()\n",
    "        \n",
    "        self.words_layers = words_layers\n",
    "        self.chars_layers = chars_layers\n",
    "        self.words_hidden_size = words_hidden_size\n",
    "        self.chars_hidden_size = chars_hidden_size\n",
    "\n",
    "        self.rnn_words = nn.LSTM(words_input_size, words_hidden_size // 2, words_layers,\n",
    "                                 batch_first=True, bidirectional=True)\n",
    "\n",
    "        self.rnn_chars = nn.LSTM(chars_input_size, chars_hidden_size // 2, chars_layers,\n",
    "                                batch_first=True, bidirectional=True)\n",
    "        \n",
    "        self.lin_output = nn.Linear(words_hidden_size+chars_hidden_size, output_size)\n",
    "        \n",
    "    def forward(self, words_tensor, string_tensor, init_hidden = True):\n",
    "        if init_hidden:\n",
    "            hidden_words, hidden_chars = self.init_hidden()\n",
    "        \n",
    "        all_outputs_words, hidden_words = self.rnn_words(words_tensor, hidden_words)\n",
    "        output_words = all_outputs_words[:, -1]\n",
    "        \n",
    "        all_outputs_chars, hidden_chars = self.rnn_chars(string_tensor, hidden_chars)\n",
    "        output_chars = all_outputs_chars[:, -1]\n",
    "        \n",
    "        output = torch.cat((output_words, output_chars), 1)\n",
    "        \n",
    "        #output = self.lin_1(output)\n",
    "        output = self.lin_output(output)\n",
    "        output = F.log_softmax(output)\n",
    "        \n",
    "        return output\n",
    "\n",
    "    def init_hidden(self):\n",
    "        var1_1 = Variable(torch.zeros(2 * self.words_layers, 1, self.words_hidden_size // 2))\n",
    "        var1_2 = Variable(torch.zeros(2 * self.words_layers, 1, self.words_hidden_size // 2))\n",
    "        var2_1 = Variable(torch.zeros(2 * self.chars_layers, 1, self.chars_hidden_size // 2))\n",
    "        var2_2 = Variable(torch.zeros(2 * self.chars_layers, 1, self.chars_hidden_size // 2))\n",
    "        var1_1 = var1_1.cuda(); var1_2 = var1_2.cuda()\n",
    "        var2_1 = var2_1.cuda(); var2_2 = var2_2.cuda()\n",
    "        return ((var1_1, var1_2), (var2_1, var2_2))"
   ]
  },
  {
   "cell_type": "code",
   "execution_count": 28,
   "metadata": {},
   "outputs": [
    {
     "name": "stdout",
     "output_type": "stream",
     "text": [
      "Save path: data/models/category_1_mod_data_common_words\n"
     ]
    },
    {
     "data": {
      "text/plain": [
       "CategorizeRNN (\n",
       "  (rnn_words): LSTM(7380, 64, batch_first=True, bidirectional=True)\n",
       "  (rnn_chars): LSTM(115, 64, batch_first=True, bidirectional=True)\n",
       "  (lin_output): Linear (256 -> 6)\n",
       ")"
      ]
     },
     "execution_count": 28,
     "metadata": {},
     "output_type": "execute_result"
    }
   ],
   "source": [
    "model = CategorizeRNN(len(categories_all), \n",
    "                      words_input_size=len(common_words), chars_input_size=len(characters_all),\n",
    "                      words_hidden_size=128, chars_hidden_size=128)\n",
    "model = model.cuda()\n",
    "\n",
    "model_training = ModelTraining(MODEL_SAVE_PATH, [model])\n",
    "\n",
    "model"
   ]
  },
  {
   "cell_type": "code",
   "execution_count": null,
   "metadata": {
    "collapsed": true
   },
   "outputs": [],
   "source": []
  },
  {
   "cell_type": "markdown",
   "metadata": {},
   "source": [
    "### Accuracy"
   ]
  },
  {
   "cell_type": "code",
   "execution_count": 276,
   "metadata": {},
   "outputs": [
    {
     "data": {
      "text/plain": [
       "(Variable containing:\n",
       " -16.8749 -17.4538 -16.0480 -20.1028   0.0000 -18.1157\n",
       " [torch.cuda.FloatTensor of size 1x6 (GPU 0)],\n",
       " ('VERBATIM', 4),\n",
       " ('VERBATIM', 4),\n",
       " ('&',\n",
       "  'and',\n",
       "  'VERBATIM',\n",
       "  ['Atlantic', 'Publishers', '<SAMPLE>', 'Distri', '.']))"
      ]
     },
     "execution_count": 276,
     "metadata": {},
     "output_type": "execute_result"
    }
   ],
   "source": [
    "def test_model_single_sample(model):\n",
    "    s_bef, s_aft, s_class, s_sentence = sample = get_random_sample()\n",
    "    \n",
    "    words_t = words_to_tensor(list(s_sentence), common_words_index)\n",
    "    words_t = Variable(words_t).cuda()\n",
    "    \n",
    "    string_t = string_to_tensor(s_bef, characters_all_index)\n",
    "    string_t = Variable(string_t).cuda()\n",
    "    \n",
    "    output = model(words_t, string_t)\n",
    "    guess = category_from_output(output, categories_all)\n",
    "\n",
    "    return output, guess, (s_class, categories_index[s_class]), sample\n",
    "    \n",
    "tmp = test_model_single_sample(model)\n",
    "tmp"
   ]
  },
  {
   "cell_type": "code",
   "execution_count": 277,
   "metadata": {},
   "outputs": [
    {
     "name": "stdout",
     "output_type": "stream",
     "text": [
      "Accuracy: 99.28% (    9928/   10000)\n",
      "CPU times: user 1min 34s, sys: 516 ms, total: 1min 35s\n",
      "Wall time: 23.9 s\n"
     ]
    },
    {
     "data": {
      "text/plain": [
       "0.9928"
      ]
     },
     "execution_count": 277,
     "metadata": {},
     "output_type": "execute_result"
    }
   ],
   "source": [
    "%%time\n",
    "test_model_accuracy(model, test_model_single_sample)"
   ]
  },
  {
   "cell_type": "markdown",
   "metadata": {},
   "source": [
    "### Training"
   ]
  },
  {
   "cell_type": "code",
   "execution_count": 25,
   "metadata": {
    "collapsed": true
   },
   "outputs": [],
   "source": [
    "def train(model, s_category, s_sentence, s_bef, loss_function, optimizer):\n",
    "    \n",
    "    category_tensor = Variable(torch.LongTensor([categories_index[s_category]])).cuda()\n",
    "    \n",
    "    words_t = words_to_tensor(list(s_sentence), common_words_index)\n",
    "    words_t = Variable(words_t).cuda()\n",
    "    \n",
    "    string_t = string_to_tensor(s_bef, characters_all_index)\n",
    "    string_t = Variable(string_t).cuda()\n",
    "    \n",
    "    output = model(words_t, string_t)\n",
    "    loss = loss_function(output, category_tensor)\n",
    "    optimizer.zero_grad()\n",
    "    loss.backward()\n",
    "    optimizer.step()\n",
    "    \n",
    "    return output, loss.data[0]"
   ]
  },
  {
   "cell_type": "code",
   "execution_count": 30,
   "metadata": {
    "collapsed": true
   },
   "outputs": [],
   "source": [
    "def train_iterations(n_iters=100000, lr=0.001, print_every=10000, plot_every=1000):\n",
    "\n",
    "    start = time.time()\n",
    "    model.train()\n",
    "\n",
    "    current_loss = 0\n",
    "    current_loss_iter = 0\n",
    "\n",
    "    optimizer = torch.optim.Adam(model.parameters(), lr=lr)\n",
    "    loss_function = nn.NLLLoss()\n",
    "    \n",
    "    for iteration in range(1, n_iters + 1):\n",
    "        model_training.iterations += 1\n",
    "        \n",
    "        s_bef, s_aft, s_class, s_sentence = get_random_sample()\n",
    "        \n",
    "        result, loss = train(model=model, s_category=s_class, s_sentence=s_sentence,\n",
    "                             s_bef=s_bef, optimizer=optimizer, loss_function=loss_function)\n",
    "\n",
    "        current_loss += loss\n",
    "        current_loss_iter += 1\n",
    "\n",
    "        # Print iter number, loss, name and guess\n",
    "        if iteration % print_every == 0:\n",
    "            guess, guess_i = category_from_output(result, categories_all)\n",
    "            correct = '✓' if guess == s_class else \"✗ {}\".format(s_class)\n",
    "            print(\"{:>6d} {:>4.0%} ({:>8}) {:>7.3f}   | {:>6.2f}: {} -> {} ({})\".format(\n",
    "                      model_training.iterations, iteration/n_iters, time_since(start),\n",
    "                      current_loss/current_loss_iter, loss,\n",
    "                      s_bef, guess, correct))\n",
    "\n",
    "        # Add current loss avg to list of losses\n",
    "        if iteration % plot_every == 0:\n",
    "            model_training.losses.append(current_loss / plot_every)\n",
    "            model_training.learning_rates.append(lr)\n",
    "            current_loss = 0\n",
    "            current_loss_iter = 0\n",
    "            \n",
    "        if model_training.iterations % 10000 == 0 or model_training.iterations == 10:\n",
    "            balanced_data_randomize()\n",
    "            \n",
    "        if model_training.iterations % 50000 == 0 or model_training.iterations == 10:\n",
    "            model_training.save_models()\n",
    "            acc = test_model_accuracy(model, test_model_single_sample)\n",
    "            model.train()\n",
    "            model_training.accuracy.append(acc)\n",
    "    \n",
    "    # test_model_accuracy(model, n_sample=10000)"
   ]
  },
  {
   "cell_type": "code",
   "execution_count": 31,
   "metadata": {
    "scrolled": true
   },
   "outputs": [
    {
     "name": "stdout",
     "output_type": "stream",
     "text": [
      "Saved model to data/models/category_1_mod_data_common_words/10_(CategorizeRNN)\n",
      "Accuracy: 22.57% (    2257/   10000)\n",
      "    18  18% (  0m 24s)   1.816   |   1.85: ☒ -> NOT_CHANGED (✗ VERBATIM)\n",
      "    27  36% (  0m 24s)   1.800   |   1.77: SPE -> NOT_CHANGED (✗ LETTERS)\n",
      "    36  54% (  0m 24s)   1.787   |   1.78: - -> NOT_CHANGED (✗ PLAIN)\n",
      "    45  72% (  0m 24s)   1.788   |   1.72: crystalline -> NOT_CHANGED (✓)\n",
      "    54  90% (  0m 24s)   1.787   |   1.77: UDA -> NOT_CHANGED (✗ LETTERS)\n"
     ]
    }
   ],
   "source": [
    "train_iterations(n_iters=50, print_every=9, lr=0.0001)"
   ]
  },
  {
   "cell_type": "code",
   "execution_count": 32,
   "metadata": {},
   "outputs": [
    {
     "name": "stdout",
     "output_type": "stream",
     "text": [
      "   559  53% (   0m 3s)   1.744   |   1.71: DT -> NUMBERS (✗ LETTERS)\n"
     ]
    }
   ],
   "source": [
    "train_iterations(n_iters=(1000-model_training.iterations), print_every=500, lr=0.0001)"
   ]
  },
  {
   "cell_type": "code",
   "execution_count": 33,
   "metadata": {},
   "outputs": [
    {
     "name": "stdout",
     "output_type": "stream",
     "text": [
      "  2000  10% (   0m 6s)   1.525   |   1.31: offensive -> NUMBERS (✗ NOT_CHANGED)\n",
      "  3000  20% (  0m 12s)   1.233   |   1.36: Theatre -> NOT_CHANGED (✗ PLAIN)\n",
      "  4000  30% (  0m 19s)   1.024   |   0.04: ☒ -> VERBATIM (✓)\n",
      "  5000  40% (  0m 25s)   0.917   |   0.82: franchise -> PLAIN (✓)\n",
      "  6000  50% (  0m 31s)   0.852   |   1.41: : -> LETTERS (✗ PLAIN)\n",
      "  7000  60% (  0m 37s)   0.788   |   1.16: mr -> PLAIN (✓)\n",
      "  8000  70% (  0m 44s)   0.691   |   0.01: ☒ -> VERBATIM (✓)\n",
      "  9000  80% (  0m 50s)   0.675   |   0.03: ☒ -> VERBATIM (✓)\n",
      " 10000  90% (  0m 57s)   0.670   |   0.44: size -> NOT_CHANGED (✓)\n",
      " 11000 100% (   1m 4s)   0.636   |   1.53: % -> PLAIN (✗ VERBATIM)\n"
     ]
    }
   ],
   "source": [
    "train_iterations(n_iters=10000, lr=0.0001, print_every=1000)"
   ]
  },
  {
   "cell_type": "code",
   "execution_count": 34,
   "metadata": {},
   "outputs": [
    {
     "name": "stdout",
     "output_type": "stream",
     "text": [
      " 21000  10% (   1m 6s)   0.274   |   0.00: ☒ -> VERBATIM (✓)\n",
      " 31000  20% (  2m 11s)   0.174   |   0.00: ☒ -> VERBATIM (✓)\n",
      " 41000  30% (  3m 18s)   0.107   |   1.05: RD -> LETTERS (✗ PLAIN)\n",
      "Saved model to data/models/category_1_mod_data_common_words/50000_(CategorizeRNN)\n",
      "Accuracy: 96.00% (    9600/   10000)\n",
      " 51000  40% (  4m 50s)   0.114   |   0.00: ☒ -> VERBATIM (✓)\n",
      " 61000  50% (   6m 1s)   0.111   |   0.00: ☒ -> VERBATIM (✓)\n",
      " 71000  60% (  7m 20s)   0.093   |   0.00: M. -> LETTERS (✓)\n",
      " 81000  70% (  8m 37s)   0.102   |   0.01: pp -> VERBATIM (✓)\n",
      " 91000  80% (  9m 55s)   0.096   |   0.00: 8 November 2003 -> NUMBERS (✓)\n",
      "Saved model to data/models/category_1_mod_data_common_words/100000_(CategorizeRNN)\n",
      "Accuracy: 97.70% (    9770/   10000)\n",
      "101000  90% ( 11m 40s)   0.091   |   0.16: tr -> VERBATIM (✓)\n",
      "111000 100% ( 12m 58s)   0.073   |   0.00: ☒ -> VERBATIM (✓)\n"
     ]
    }
   ],
   "source": [
    "train_iterations(n_iters=100000, print_every=10000)"
   ]
  },
  {
   "cell_type": "code",
   "execution_count": 35,
   "metadata": {},
   "outputs": [
    {
     "name": "stdout",
     "output_type": "stream",
     "text": [
      "121000  10% (  1m 16s)   0.074   |   0.04: MD -> LETTERS (✓)\n",
      "131000  20% (  2m 33s)   0.072   |   0.00: ☒ -> VERBATIM (✓)\n",
      "141000  30% (  3m 51s)   0.084   |   0.00: (1905) 14 -> NUMBERS (✓)\n",
      "Saved model to data/models/category_1_mod_data_common_words/150000_(CategorizeRNN)\n",
      "Accuracy: 97.96% (    9796/   10000)\n",
      "151000  40% (  5m 35s)   0.062   |   0.00: 16 June 1971 -> NUMBERS (✓)\n",
      "161000  50% (  6m 53s)   0.071   |   0.00: May 1996 -> NUMBERS (✓)\n",
      "171000  60% (  8m 12s)   0.059   |   0.00: st -> PLAIN (✓)\n",
      "181000  70% (  9m 29s)   0.085   |   0.00: 1942 -> NUMBERS (✓)\n",
      "191000  80% ( 10m 46s)   0.061   |   0.00: 1962 -> NUMBERS (✓)\n",
      "Saved model to data/models/category_1_mod_data_common_words/200000_(CategorizeRNN)\n",
      "Accuracy: 98.46% (    9846/   10000)\n",
      "201000  90% ( 12m 30s)   0.059   |   0.00: & -> VERBATIM (✓)\n",
      "211000 100% ( 13m 47s)   0.056   |   3.62: Yuki -> LETTERS (✗ NOT_CHANGED)\n"
     ]
    }
   ],
   "source": [
    "train_iterations(n_iters=100000, print_every=10000)"
   ]
  },
  {
   "cell_type": "code",
   "execution_count": 42,
   "metadata": {},
   "outputs": [
    {
     "name": "stdout",
     "output_type": "stream",
     "text": [
      "236000   8% (  3m 43s)   0.057   |   0.00: 44 -> NUMBERS (✓)\n",
      "Saved model to data/models/category_1_mod_data_common_words/250000_(CategorizeRNN)\n",
      "Accuracy: 98.69% (    9869/   10000)\n",
      "261000  17% (   8m 8s)   0.027   |   0.00: KVPY -> LETTERS (✓)\n",
      "286000  25% ( 11m 57s)   0.040   |   0.00: 2011 -> NUMBERS (✓)\n",
      "Saved model to data/models/category_1_mod_data_common_words/300000_(CategorizeRNN)\n",
      "Accuracy: 98.77% (    9877/   10000)\n",
      "311000  33% ( 15m 51s)   0.057   |   0.00: NZFW -> LETTERS (✓)\n",
      "336000  42% ( 19m 10s)   0.058   |   0.00: ZQ -> LETTERS (✓)\n",
      "Saved model to data/models/category_1_mod_data_common_words/350000_(CategorizeRNN)\n",
      "Accuracy: 98.70% (    9870/   10000)\n",
      "361000  50% (  23m 0s)   0.030   |   0.00: 2004 -> NUMBERS (✓)\n",
      "386000  58% ( 26m 22s)   0.023   |   0.00: Theatre -> PLAIN (✓)\n",
      "Saved model to data/models/category_1_mod_data_common_words/400000_(CategorizeRNN)\n",
      "Accuracy: 98.68% (    9868/   10000)\n",
      "411000  67% ( 30m 14s)   0.048   |   0.00: Shirley -> NOT_CHANGED (✓)\n",
      "436000  75% ( 33m 35s)   0.020   |   0.00: ☒ -> VERBATIM (✓)\n",
      "Saved model to data/models/category_1_mod_data_common_words/450000_(CategorizeRNN)\n",
      "Accuracy: 98.82% (    9882/   10000)\n",
      "461000  83% ( 37m 27s)   0.034   |   0.00: Billboard.com -> ELECTRONIC (✓)\n",
      "486000  92% ( 40m 45s)   0.019   |   0.00: beneventocalciospa.it -> ELECTRONIC (✓)\n",
      "Saved model to data/models/category_1_mod_data_common_words/500000_(CategorizeRNN)\n",
      "Accuracy: 98.92% (    9892/   10000)\n",
      "511000 100% ( 43m 56s)   0.052   |   0.00: 1997 -> NUMBERS (✓)\n"
     ]
    }
   ],
   "source": [
    "train_iterations(n_iters=300000, lr=0.0001, print_every=25000)"
   ]
  },
  {
   "cell_type": "code",
   "execution_count": null,
   "metadata": {
    "collapsed": true
   },
   "outputs": [],
   "source": []
  },
  {
   "cell_type": "code",
   "execution_count": 264,
   "metadata": {},
   "outputs": [
    {
     "name": "stdout",
     "output_type": "stream",
     "text": [
      "560000   5% (   1m 3s)   0.059   |   0.02: Ridge -> NOT_CHANGED (✓)\n",
      "570000  10% (  2m 10s)   0.067   |   0.00: 2010 -> NUMBERS (✓)\n",
      "580000  15% (  3m 13s)   0.041   |   0.00: first -> NOT_CHANGED (✓)\n",
      "590000  20% (  4m 15s)   0.031   |   0.00: ☒ -> VERBATIM (✓)\n",
      "600000  25% (  5m 20s)   0.043   |   0.00: unknown -> NOT_CHANGED (✓)\n",
      "Saved model to data/models/category_1_mod_data_common_words/600000_(CategorizeRNN)\n",
      "Accuracy: 98.55% (    9855/   10000)\n",
      "610000  30% (  6m 49s)   0.029   |   0.00: AFC -> LETTERS (✓)\n",
      "620000  35% (  7m 54s)   0.039   |   0.01: wings -> NOT_CHANGED (✓)\n",
      "630000  40% (   9m 0s)   0.041   |   0.00: J.P. -> LETTERS (✓)\n",
      "640000  45% (  10m 4s)   0.034   |   0.00: ☒ -> VERBATIM (✓)\n",
      "650000  50% ( 11m 10s)   0.027   |   0.00: ☒ -> VERBATIM (✓)\n",
      "Saved model to data/models/category_1_mod_data_common_words/650000_(CategorizeRNN)\n",
      "Accuracy: 98.84% (    9884/   10000)\n",
      "660000  55% ( 12m 39s)   0.057   |   0.00: September 15, 2015 -> NUMBERS (✓)\n",
      "670000  60% ( 13m 43s)   0.023   |   0.00: 1878 -> NUMBERS (✓)\n",
      "680000  65% ( 14m 46s)   0.049   |   0.00: Theater -> NOT_CHANGED (✓)\n",
      "690000  70% ( 15m 51s)   0.038   |   0.00: ☒ -> VERBATIM (✓)\n",
      "700000  75% ( 16m 55s)   0.021   |   0.00: programme -> PLAIN (✓)\n",
      "Saved model to data/models/category_1_mod_data_common_words/700000_(CategorizeRNN)\n",
      "Accuracy: 98.74% (    9874/   10000)\n",
      "710000  80% ( 18m 25s)   0.038   |   0.00: Tomlin -> NOT_CHANGED (✓)\n",
      "720000  85% ( 19m 32s)   0.030   |   0.00: pp -> VERBATIM (✓)\n",
      "730000  90% ( 20m 42s)   0.031   |   0.00: C. B. -> LETTERS (✓)\n",
      "740000  95% ( 21m 48s)   0.047   |   0.02: Advertiser.com -> ELECTRONIC (✓)\n",
      "750000 100% ( 22m 53s)   0.055   |   0.02: as -> NOT_CHANGED (✓)\n",
      "Saved model to data/models/category_1_mod_data_common_words/750000_(CategorizeRNN)\n",
      "Accuracy: 98.94% (    9894/   10000)\n"
     ]
    }
   ],
   "source": [
    "train_iterations(n_iters=200000, print_every=10000)"
   ]
  },
  {
   "cell_type": "code",
   "execution_count": 265,
   "metadata": {},
   "outputs": [
    {
     "name": "stdout",
     "output_type": "stream",
     "text": [
      "760000   5% (   1m 4s)   0.025   |   0.00: June 20, 2015 -> NUMBERS (✓)\n",
      "770000  10% (  2m 11s)   0.053   |   0.00: 3.06 -> NUMBERS (✓)\n",
      "780000  15% (  3m 16s)   0.036   |   0.00: 4 August 2008 -> NUMBERS (✓)\n",
      "790000  20% (  4m 22s)   0.035   |   0.00: honours -> PLAIN (✓)\n",
      "800000  25% (  5m 25s)   0.020   |   0.57: AMc -> LETTERS (✓)\n",
      "Saved model to data/models/category_1_mod_data_common_words/800000_(CategorizeRNN)\n",
      "Accuracy: 99.18% (    9918/   10000)\n",
      "810000  30% (  6m 53s)   0.025   |   0.00: 2015 -> NUMBERS (✓)\n",
      "820000  35% (  7m 56s)   0.031   |   0.00: 105 -> NUMBERS (✓)\n",
      "830000  40% (  8m 59s)   0.036   |   0.68: Towa -> LETTERS (✓)\n",
      "840000  45% (  10m 2s)   0.017   |   0.00: defender -> NOT_CHANGED (✓)\n",
      "850000  50% (  11m 5s)   0.026   |   0.00: ☒ -> VERBATIM (✓)\n",
      "Saved model to data/models/category_1_mod_data_common_words/850000_(CategorizeRNN)\n",
      "Accuracy: 99.10% (    9910/   10000)\n",
      "860000  55% ( 12m 32s)   0.029   |   0.00: 90s -> NUMBERS (✓)\n",
      "870000  60% ( 13m 34s)   0.037   |   0.00: http://www.gamersyde.com/gallery_7060_en.html) -> ELECTRONIC (✓)\n",
      "880000  65% ( 14m 37s)   0.037   |   0.00: ☒ -> VERBATIM (✓)\n",
      "890000  70% ( 15m 41s)   0.033   |   0.19: Eces -> LETTERS (✓)\n",
      "900000  75% ( 16m 45s)   0.026   |   0.00: - -> PLAIN (✓)\n",
      "Saved model to data/models/category_1_mod_data_common_words/900000_(CategorizeRNN)\n",
      "Accuracy: 99.17% (    9917/   10000)\n",
      "910000  80% ( 18m 11s)   0.025   |   0.00: 6 -> NUMBERS (✓)\n",
      "920000  85% ( 19m 13s)   0.038   |   0.00: Fibre -> PLAIN (✓)\n",
      "930000  90% ( 20m 15s)   0.024   |   0.00: Gr -> VERBATIM (✓)\n",
      "940000  95% ( 21m 17s)   0.019   |   0.00: ☒ -> VERBATIM (✓)\n",
      "950000 100% ( 22m 20s)   0.025   |   0.00: 22 April 2015 -> NUMBERS (✓)\n",
      "Saved model to data/models/category_1_mod_data_common_words/950000_(CategorizeRNN)\n",
      "Accuracy: 99.42% (    9942/   10000)\n"
     ]
    }
   ],
   "source": [
    "train_iterations(n_iters=200000, print_every=10000, lr=0.0001)"
   ]
  },
  {
   "cell_type": "markdown",
   "metadata": {},
   "source": [
    "# Results"
   ]
  },
  {
   "cell_type": "code",
   "execution_count": 266,
   "metadata": {},
   "outputs": [
    {
     "data": {
      "text/plain": [
       "[<matplotlib.lines.Line2D at 0x7f043c8e9e10>]"
      ]
     },
     "execution_count": 266,
     "metadata": {},
     "output_type": "execute_result"
    },
    {
     "data": {
      "image/png": "[encoded data removed]",
      "text/plain": [
       "<matplotlib.figure.Figure at 0x7f043cfca630>"
      ]
     },
     "metadata": {},
     "output_type": "display_data"
    }
   ],
   "source": [
    "plt.figure()\n",
    "plt.plot(model_training.losses)"
   ]
  },
  {
   "cell_type": "code",
   "execution_count": 267,
   "metadata": {},
   "outputs": [
    {
     "data": {
      "text/plain": [
       "[<matplotlib.lines.Line2D at 0x7f043a4c46a0>]"
      ]
     },
     "execution_count": 267,
     "metadata": {},
     "output_type": "execute_result"
    },
    {
     "data": {
      "image/png": "[encoded data removed]",
      "text/plain": [
       "<matplotlib.figure.Figure at 0x7f0411240588>"
      ]
     },
     "metadata": {},
     "output_type": "display_data"
    }
   ],
   "source": [
    "plt.figure()\n",
    "plt.plot(model_training.accuracy)"
   ]
  },
  {
   "cell_type": "code",
   "execution_count": 268,
   "metadata": {},
   "outputs": [
    {
     "data": {
      "image/png": "[encoded data removed]",
      "text/plain": [
       "<matplotlib.figure.Figure at 0x7f043a03e198>"
      ]
     },
     "metadata": {},
     "output_type": "display_data"
    },
    {
     "name": "stdout",
     "output_type": "stream",
     "text": [
      "Accuracy: 99.16% (   49582/   50000)\n",
      "CPU times: user 7min 57s, sys: 2.58 s, total: 7min 59s\n",
      "Wall time: 2min\n"
     ]
    }
   ],
   "source": [
    "%%time\n",
    "plot_category_confusion_matrix(model, categories_all, test_model_single_sample, n_confusion=50000)"
   ]
  },
  {
   "cell_type": "code",
   "execution_count": 269,
   "metadata": {},
   "outputs": [
    {
     "data": {
      "image/png": "[encoded data removed]",
      "text/plain": [
       "<matplotlib.figure.Figure at 0x7f043d547c50>"
      ]
     },
     "metadata": {},
     "output_type": "display_data"
    },
    {
     "name": "stdout",
     "output_type": "stream",
     "text": [
      "Accuracy: 99.21% (   49605/   50000)\n",
      "CPU times: user 8min 4s, sys: 2.65 s, total: 8min 7s\n",
      "Wall time: 2min 2s\n"
     ]
    }
   ],
   "source": [
    "%%time\n",
    "plot_category_confusion_matrix(model, categories_all, test_model_single_sample,\n",
    "                               n_confusion=50000, remove_diagonal=True)"
   ]
  },
  {
   "cell_type": "code",
   "execution_count": null,
   "metadata": {
    "collapsed": true
   },
   "outputs": [],
   "source": []
  },
  {
   "cell_type": "code",
   "execution_count": 310,
   "metadata": {},
   "outputs": [
    {
     "name": "stdout",
     "output_type": "stream",
     "text": [
      "    LETTERS -> NOT_CHANGED (0.558) ||    Baicu -> b a i c u == The <SAMPLE> River or Boicu River is a tributary of the Iza River in Romania .\n",
      "    LETTERS -> NOT_CHANGED (0.996) ||  srpskih -> s r p s k i h == Oslobodilacki rat <SAMPLE> ustanika , 1804 - 1806 .\n",
      "NOT_CHANGED ->     LETTERS (0.873) ||      Hai -> Hai == <SAMPLE> Yung ( Chinese : ☒ ☒ ; pinyin : Hairong ) was a protected cruiser of the Chinese Navy .\n",
      "    LETTERS ->    VERBATIM (0.657) ||      vrb -> v r b == In contemporary times , the largest inhabited settlement is the village of <SAMPLE> jani .\n",
      "NOT_CHANGED ->       PLAIN (0.933) ||        - -> - == \" Pentraxins in innate immunity : from C <SAMPLE> reactive protein to the long pentraxin PTX 3 \" .\n",
      "NOT_CHANGED ->     LETTERS (0.94) ||    LISTA -> LISTA == \" SOK I VG- <SAMPLE> OG HIT 40 \" .\n",
      "      PLAIN ->     LETTERS (0.95) ||       BR -> bridge == Mason <SAMPLE> , Page KA , Fallon K ( June 1999 ) .\n",
      "    LETTERS ->    VERBATIM (0.666) ||       wp -> w p == <SAMPLE> rost ( in Polish ) .\n",
      "NOT_CHANGED ->       PLAIN (0.911) ||        : -> : == Personality Type <SAMPLE> An Owners Manual , Boston & London : Shambhala Publications , inc ISBN 1-57062-987-0 .\n",
      "NOT_CHANGED ->     LETTERS (0.963) ||       IS -> IS == \" THE REAL STATE OF EMERGENCY THE UK <SAMPLE> NOW A POLICE STATE ON PAPER \" ( PDF ) .\n",
      "NOT_CHANGED ->     LETTERS (0.551) ||    Cobos -> Cobos == <SAMPLE> ( 1994 , 1998 ) , p . 68 .\n"
     ]
    }
   ],
   "source": [
    "tmp = get_some_wrong_predictions(model, test_model_single_sample, max_iterations=10000, max_results=10)\n",
    "for sample, predict, output in tmp:\n",
    "    s_bef, s_aft, s_class, s_sentence = sample\n",
    "    m = torch.nn.functional.softmax(output).max().data[0]\n",
    "    print(\"{:>11} -> {:>11} ({:0.3}) || {:>8} -> {} == {}\".format(s_class, predict[0], m, s_bef, s_aft, ' '.join(s_sentence), ))"
   ]
  },
  {
   "cell_type": "code",
   "execution_count": null,
   "metadata": {
    "collapsed": true
   },
   "outputs": [],
   "source": []
  },
  {
   "cell_type": "code",
   "execution_count": null,
   "metadata": {
    "collapsed": true
   },
   "outputs": [],
   "source": []
  },
  {
   "cell_type": "code",
   "execution_count": null,
   "metadata": {
    "collapsed": true
   },
   "outputs": [],
   "source": []
  },
  {
   "cell_type": "code",
   "execution_count": null,
   "metadata": {
    "collapsed": true
   },
   "outputs": [],
   "source": []
  }
 ],
 "metadata": {
  "anaconda-cloud": {},
  "kernelspec": {
   "display_name": "Python [conda env:py3_pytorch_2]",
   "language": "python",
   "name": "conda-env-py3_pytorch_2-py"
  },
  "language_info": {
   "codemirror_mode": {
    "name": "ipython",
    "version": 3
   },
   "file_extension": ".py",
   "mimetype": "text/x-python",
   "name": "python",
   "nbconvert_exporter": "python",
   "pygments_lexer": "ipython3",
   "version": "3.6.1"
  }
 },
 "nbformat": 4,
 "nbformat_minor": 2
}
