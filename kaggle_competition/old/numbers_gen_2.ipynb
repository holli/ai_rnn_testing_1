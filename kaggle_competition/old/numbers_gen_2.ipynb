{
 "cells": [
  {
   "cell_type": "code",
   "execution_count": 17,
   "metadata": {},
   "outputs": [
    {
     "name": "stdout",
     "output_type": "stream",
     "text": [
      "Pytorch utils oh: pytorch_utils_oh_1.py\n",
      "Pytorch: 0.2.0_4\n",
      "Loadig pytorch_utils_oh defaults\n"
     ]
    }
   ],
   "source": [
    "%matplotlib inline\n",
    "import importlib\n",
    "import pytorch_utils_oh_1; importlib.reload(pytorch_utils_oh_1); from pytorch_utils_oh_1 import *;"
   ]
  },
  {
   "cell_type": "markdown",
   "metadata": {},
   "source": [
    "# Data loading"
   ]
  },
  {
   "cell_type": "code",
   "execution_count": 2,
   "metadata": {
    "collapsed": true
   },
   "outputs": [],
   "source": [
    "all_data_org = pd.read_csv('data/en_train_org.csv')"
   ]
  },
  {
   "cell_type": "code",
   "execution_count": 3,
   "metadata": {},
   "outputs": [
    {
     "name": "stdout",
     "output_type": "stream",
     "text": [
      "Data rows: 9918390,  (dropped none rows: 51)\n"
     ]
    }
   ],
   "source": [
    "all_data_org[pd.isnull(all_data_org['before'])][:3]\n",
    "all_data = all_data_org.dropna()\n",
    "print(\"Data rows: {},  (dropped none rows: {})\".format(len(all_data), len(all_data_org)-len(all_data)))"
   ]
  },
  {
   "cell_type": "code",
   "execution_count": 4,
   "metadata": {},
   "outputs": [
    {
     "name": "stdout",
     "output_type": "stream",
     "text": [
      "Data rows: 9840282,  (dropped (verbatim) rows: 78159)\n"
     ]
    }
   ],
   "source": [
    "all_data = all_data[all_data['class'] != 'VERBATIM']\n",
    "print(\"Data rows: {},  (dropped (verbatim) rows: {})\".format(len(all_data), len(all_data_org)-len(all_data)))\n",
    "all_data = all_data.reset_index(drop=True)\n",
    "# Note we dropped VERBATIM class. Thats because it had so many weird characters."
   ]
  },
  {
   "cell_type": "code",
   "execution_count": 5,
   "metadata": {
    "collapsed": true
   },
   "outputs": [],
   "source": [
    "all_data_sentence_index = all_data.set_index('sentence_id')"
   ]
  },
  {
   "cell_type": "code",
   "execution_count": 6,
   "metadata": {
    "collapsed": true
   },
   "outputs": [],
   "source": [
    "number_classes = ['DATE','CARDINAL','MEASURE','ORDINAL','DECIMAL','MONEY', 'DIGIT', 'TELEPHONE', 'TIME', 'FRACTION', 'ADDRESS']"
   ]
  },
  {
   "cell_type": "code",
   "execution_count": 7,
   "metadata": {},
   "outputs": [
    {
     "name": "stdout",
     "output_type": "stream",
     "text": [
      "Data rows: 448176,  (dropped rows: 9470265)\n"
     ]
    }
   ],
   "source": [
    "number_data = all_data[all_data['class'].isin(number_classes)]\n",
    "print(\"Data rows: {},  (dropped rows: {})\".format(len(number_data), len(all_data_org)-len(number_data)))\n",
    "number_data = number_data.reset_index(drop=True)"
   ]
  },
  {
   "cell_type": "markdown",
   "metadata": {},
   "source": [
    "### More balanced sample"
   ]
  },
  {
   "cell_type": "code",
   "execution_count": 15,
   "metadata": {
    "collapsed": true
   },
   "outputs": [],
   "source": [
    "balanced_data_classes_select = list(number_data.groupby('class'))\n",
    "def balanced_data_randomize(max_len=10000):\n",
    "    global balanced_data\n",
    "    balanced_data = pd.concat([v.sample(min(max_len, len(v))) for k, v in balanced_data_classes_select])\n",
    "balanced_data_randomize()"
   ]
  },
  {
   "cell_type": "markdown",
   "metadata": {},
   "source": [
    "### Letters all"
   ]
  },
  {
   "cell_type": "code",
   "execution_count": 9,
   "metadata": {},
   "outputs": [
    {
     "name": "stdout",
     "output_type": "stream",
     "text": [
      "<EOS><SOS> \"$%'(),-./0123456789:ABCDEFGHIJKLMNOPQRSTUVWXYZabcdefghijklmnopqrstuvwxyz£¥ª²³µº¼½¾Ωμ€⅓⅔⅛⅝⅞\n",
      "94\n"
     ]
    }
   ],
   "source": [
    "tmp = sorted(list(set(''.join(number_data['before']))))\n",
    "letters_all = ['<EOS>', '<SOS>'] + sorted(list(set(tmp)))\n",
    "letters_all_index = dict((c, i) for i, c in enumerate(letters_all))\n",
    "print(''.join(letters_all))\n",
    "print(len(letters_all))"
   ]
  },
  {
   "cell_type": "markdown",
   "metadata": {},
   "source": [
    "### Number words"
   ]
  },
  {
   "cell_type": "code",
   "execution_count": 10,
   "metadata": {},
   "outputs": [
    {
     "data": {
      "text/plain": [
       "546"
      ]
     },
     "execution_count": 10,
     "metadata": {},
     "output_type": "execute_result"
    }
   ],
   "source": [
    "arr = list(set(list(number_data['after'])))\n",
    "arr = [s.split(' ') for s in arr]\n",
    "arr = np.concatenate(arr)\n",
    "arr = list(set(arr))\n",
    "number_words = ['<EOS>', '<SOS>'] + arr\n",
    "number_words_index = dict((c, i) for i, c in enumerate(number_words))\n",
    "len(number_words)"
   ]
  },
  {
   "cell_type": "code",
   "execution_count": 11,
   "metadata": {},
   "outputs": [
    {
     "data": {
      "text/plain": [
       "(1, 3, 546)"
      ]
     },
     "execution_count": 11,
     "metadata": {},
     "output_type": "execute_result"
    }
   ],
   "source": [
    "def number_words_to_tensor(words, include_eos=True):\n",
    "    return words_to_tensor(words, words_lookup_index=number_words_index, include_eos=include_eos)\n",
    "number_words_to_tensor(['one', 'first']).shape"
   ]
  },
  {
   "cell_type": "code",
   "execution_count": 12,
   "metadata": {},
   "outputs": [
    {
     "data": {
      "text/plain": [
       "torch.Size([1, 1, 546])"
      ]
     },
     "execution_count": 12,
     "metadata": {},
     "output_type": "execute_result"
    }
   ],
   "source": [
    "number_words_onehot_sos = number_words_to_tensor([SOS_TOKEN], include_eos=False)\n",
    "number_words_onehot_sos = Variable(torch.from_numpy(number_words_onehot_sos)).cuda()\n",
    "number_words_onehot_sos.size()"
   ]
  },
  {
   "cell_type": "markdown",
   "metadata": {},
   "source": [
    "### Sample"
   ]
  },
  {
   "cell_type": "code",
   "execution_count": 18,
   "metadata": {},
   "outputs": [
    {
     "name": "stdout",
     "output_type": "stream",
     "text": [
      "ORDINAL : 1st -> first\n",
      "Hei 2 Fun 1 Lyun 1 Oi 3 ( ; Like To Love ) is Candy Lo's <SAMPLE> compilation album .\n",
      "(1, 21, 50)\n",
      "(1, 2, 546)\n"
     ]
    }
   ],
   "source": [
    "def get_random_sample():\n",
    "    sample_row = balanced_data.iloc[random.randint(1, len(balanced_data)-1)]\n",
    "    sentence_id = sample_row['class']\n",
    "\n",
    "    rows = all_data_sentence_index.loc[sample_row['sentence_id']]\n",
    "    befores = rows.before.values\n",
    "        \n",
    "    token_id_idx = list(rows['token_id']).index(sample_row['token_id'])\n",
    "    befores[token_id_idx] = SAMPLE_WORD_TOKEN\n",
    "\n",
    "    return sample_row['before'], sample_row['after'], sample_row['class'], befores\n",
    "            \n",
    "def tmp():\n",
    "    s_bef, s_aft, s_class, s_sentence = get_random_sample()\n",
    "    print(s_class, ':', s_bef, '->', s_aft)\n",
    "    print(' '.join(s_sentence))\n",
    "    print(sentence_word_vectorize(s_sentence).shape)\n",
    "    print(number_words_to_tensor(s_aft.split(' ')).shape)\n",
    "tmp()"
   ]
  },
  {
   "cell_type": "code",
   "execution_count": 19,
   "metadata": {},
   "outputs": [
    {
     "name": "stdout",
     "output_type": "stream",
     "text": [
      "414 µs ± 3.49 µs per loop (mean ± std. dev. of 7 runs, 1000 loops each)\n"
     ]
    }
   ],
   "source": [
    "%%timeit\n",
    "get_random_sample()"
   ]
  },
  {
   "cell_type": "markdown",
   "metadata": {},
   "source": [
    "# Model functions"
   ]
  },
  {
   "cell_type": "code",
   "execution_count": 20,
   "metadata": {
    "collapsed": true
   },
   "outputs": [],
   "source": [
    "use_cuda = True"
   ]
  },
  {
   "cell_type": "markdown",
   "metadata": {},
   "source": [
    "### Encoder"
   ]
  },
  {
   "cell_type": "code",
   "execution_count": 21,
   "metadata": {
    "collapsed": true
   },
   "outputs": [],
   "source": [
    "class EncoderRNN(nn.Module):\n",
    "    def __init__(self, wordvect_size, chars_input_size, words_hidden_size, chars_hidden_size,\n",
    "                 words_layers=1, chars_layers=1):\n",
    "        super(EncoderRNN, self).__init__()\n",
    "        \n",
    "        self.words_layers = words_layers\n",
    "        self.chars_layers = chars_layers\n",
    "        self.words_hidden_size = words_hidden_size\n",
    "        self.chars_hidden_size = chars_hidden_size\n",
    "\n",
    "        self.rnn_words = nn.LSTM(wordvect_size, words_hidden_size // 2, words_layers,\n",
    "                                 batch_first=True, bidirectional=True)\n",
    "\n",
    "        self.rnn_chars = nn.LSTM(chars_input_size, chars_hidden_size // 2, chars_layers,\n",
    "                                batch_first=True, bidirectional=True)\n",
    "        \n",
    "    def forward(self, word_vectors, string_tensor, hidden = None, init_hidden = True):\n",
    "        if init_hidden:\n",
    "            hidden_words, hidden_chars = self.init_hidden()\n",
    "        \n",
    "        all_outputs_words, hidden_words = self.rnn_words(word_vectors, hidden_words)\n",
    "        output_words = all_outputs_words[:, -1]\n",
    "        \n",
    "        all_outputs_chars, hidden_chars = self.rnn_chars(string_tensor, hidden_chars)\n",
    "        output_chars = all_outputs_chars[:, -1]\n",
    "        \n",
    "        output = torch.cat((output_words, output_chars), 1)\n",
    "        \n",
    "        return output\n",
    "\n",
    "    def init_hidden(self):\n",
    "        var1_1 = Variable(torch.zeros(2 * self.words_layers, 1, self.words_hidden_size // 2))\n",
    "        var1_2 = Variable(torch.zeros(2 * self.words_layers, 1, self.words_hidden_size // 2))\n",
    "        var2_1 = Variable(torch.zeros(2 * self.chars_layers, 1, self.chars_hidden_size // 2))\n",
    "        var2_2 = Variable(torch.zeros(2 * self.chars_layers, 1, self.chars_hidden_size // 2))\n",
    "        if use_cuda:\n",
    "            var1_1 = var1_1.cuda(); var1_2 = var1_2.cuda()\n",
    "            var2_1 = var2_1.cuda(); var2_2 = var2_2.cuda()\n",
    "        return ((var1_1, var1_2), (var2_1, var2_2))"
   ]
  },
  {
   "cell_type": "code",
   "execution_count": 22,
   "metadata": {},
   "outputs": [
    {
     "name": "stdout",
     "output_type": "stream",
     "text": [
      "Word vect size: (1, 15, 50) . String vector size: torch.Size([1, 3, 94])\n",
      "Output: torch.Size([1, 256])\n"
     ]
    }
   ],
   "source": [
    "def get_encoder(debug=False):\n",
    "    # s_bef, s_aft, s_class, s_word_vs = get_random_sample()\n",
    "    s_bef, s_aft, s_class, s_sentence = get_random_sample()\n",
    "    \n",
    "    s_word_vs = sentence_word_vectorize(s_sentence)\n",
    "    s_string = string_to_tensor(s_bef, letters_all_index)\n",
    "    target = number_words_to_tensor(s_aft.split(' '))\n",
    "    \n",
    "    encoder_rnn = EncoderRNN(wordvect_size=s_word_vs.shape[-1], chars_input_size=len(letters_all),\n",
    "                                      words_hidden_size=128, chars_hidden_size=128,\n",
    "                                      words_layers=2, chars_layers=2).cuda()\n",
    "    \n",
    "    output_encoded = encoder_rnn(Variable(torch.from_numpy(s_word_vs)).cuda(), Variable(s_string).cuda())\n",
    "    if debug:\n",
    "        print('Word vect size:', s_word_vs.shape, '. String vector size:', s_string.size())\n",
    "        print('Output:', output_encoded.size())\n",
    "    return encoder_rnn, output_encoded;\n",
    "encoder_rnn, output_encoded = get_encoder(debug=True)"
   ]
  },
  {
   "cell_type": "code",
   "execution_count": null,
   "metadata": {
    "collapsed": true
   },
   "outputs": [],
   "source": []
  },
  {
   "cell_type": "markdown",
   "metadata": {},
   "source": [
    "### Decoder"
   ]
  },
  {
   "cell_type": "code",
   "execution_count": 26,
   "metadata": {},
   "outputs": [
    {
     "data": {
      "text/plain": [
       "DecoderRNN (\n",
       "  (rnn): GRU(546, 256, batch_first=True)\n",
       "  (lin_out): Linear (256 -> 546)\n",
       ")"
      ]
     },
     "execution_count": 26,
     "metadata": {},
     "output_type": "execute_result"
    }
   ],
   "source": [
    "class DecoderRNN(nn.Module):\n",
    "    def __init__(self, input_size, hidden_size, n_layers=1):\n",
    "        super(DecoderRNN, self).__init__()\n",
    "        self.n_layers = n_layers\n",
    "        self.hidden_size = hidden_size\n",
    "        \n",
    "        self.rnn = nn.GRU(input_size, hidden_size, n_layers,\n",
    "                                 batch_first=True, bidirectional=False)\n",
    "                         # LSTM would require own hidden included\n",
    "        \n",
    "        self.lin_out = nn.Linear(hidden_size, input_size)\n",
    "        #self.softmax = nn.LogSoftmax()\n",
    "\n",
    "    def forward(self, char, hidden):\n",
    "        #char = char.view(1,1,-1)\n",
    "        #hidden = hidden.view(1,1,-1)\n",
    "        output, hidden = self.rnn(char, hidden)\n",
    "        output = output[:, -1] # view(1,-1)\n",
    "        output = self.lin_out(output)\n",
    "        output = F.log_softmax(output)\n",
    "        return output, hidden\n",
    "\n",
    "decoder_rnn = DecoderRNN(input_size=len(number_words), hidden_size=output_encoded.size()[-1], n_layers=1)\n",
    "decoder_rnn = decoder_rnn.cuda()\n",
    "decoder_rnn"
   ]
  },
  {
   "cell_type": "code",
   "execution_count": 27,
   "metadata": {},
   "outputs": [
    {
     "name": "stdout",
     "output_type": "stream",
     "text": [
      "torch.Size([1, 546])\n",
      "Variable containing:\n",
      "-6.1919\n",
      "[torch.cuda.FloatTensor of size 1x1 (GPU 0)]\n",
      "\n"
     ]
    }
   ],
   "source": [
    "tmp_a, tmp_b = decoder_rnn(number_words_onehot_sos, output_encoded.view(1,1,-1))\n",
    "print(tmp_a.size())\n",
    "print(tmp_a.topk(1)[0])"
   ]
  },
  {
   "cell_type": "code",
   "execution_count": 28,
   "metadata": {},
   "outputs": [
    {
     "data": {
      "text/plain": [
       "[torch.Size([1, 546]), torch.Size([1, 1, 256])]"
      ]
     },
     "execution_count": 28,
     "metadata": {},
     "output_type": "execute_result"
    }
   ],
   "source": [
    "tmp_input = number_words_to_tensor([number_words[tmp_a.topk(1)[1].data[0][0]]])\n",
    "tmp_input = Variable(torch.from_numpy(tmp_input)).cuda()\n",
    "tmp = decoder_rnn(tmp_input, tmp_b)\n",
    "[t.size() for t in tmp]"
   ]
  },
  {
   "cell_type": "markdown",
   "metadata": {},
   "source": [
    "# Training etc"
   ]
  },
  {
   "cell_type": "markdown",
   "metadata": {},
   "source": [
    "### Accuracy"
   ]
  },
  {
   "cell_type": "code",
   "execution_count": 30,
   "metadata": {},
   "outputs": [
    {
     "data": {
      "text/plain": [
       "'hundredth yen kilobytes seventh hundredth kilobytes m m m costa costa costa 100 sime 100 sime 100 sime sime 100'"
      ]
     },
     "execution_count": 30,
     "metadata": {},
     "output_type": "execute_result"
    }
   ],
   "source": [
    "def evaluate(encoder, decoder, s_bef, s_sentence, max_length=20):\n",
    "    encoder.eval()\n",
    "    decoder.eval()\n",
    "    s_word_vs = sentence_word_vectorize(s_sentence)\n",
    "    s_bef_string = string_to_tensor(s_bef, letters_all_index, include_eos=True)\n",
    "\n",
    "    encoder_output = encoder(Variable(torch.from_numpy(s_word_vs)).cuda(), Variable(s_bef_string).cuda())\n",
    "    encoder_output = encoder_output.view(1,1,-1)\n",
    "    \n",
    "    decoder_hidden = encoder_output\n",
    "    decoder_input = number_words_onehot_sos\n",
    "\n",
    "    decoded_output = []\n",
    "    for _ in range(max_length):\n",
    "        decoder_output, decoder_hidden = decoder(decoder_input, decoder_hidden)\n",
    "\n",
    "        topv, topi = decoder_output.data.topk(1)\n",
    "        word_index = topi[0][0]\n",
    "        word = number_words[word_index] # Use own prediction as next input\n",
    "                \n",
    "        if word == '<EOS>':\n",
    "            break\n",
    "\n",
    "        decoded_output.append(word)\n",
    "        \n",
    "        decoder_input = number_words_to_tensor([word], include_eos=False)\n",
    "        decoder_input = Variable(torch.from_numpy(decoder_input)).cuda()\n",
    "\n",
    "    return ' '.join(decoded_output)\n",
    "\n",
    "evaluate(encoder_rnn, decoder_rnn, '12th', 'he was <SAMPLE>')"
   ]
  },
  {
   "cell_type": "code",
   "execution_count": 31,
   "metadata": {},
   "outputs": [
    {
     "name": "stdout",
     "output_type": "stream",
     "text": [
      "25.7 km              -> philippine yen kilobytes seventh 100 kilobytes m m m m costa costa costa 100 sime 100 sime 100 sime sime \n",
      "                     != twenty five point seven kilometers\n",
      "US$1000              -> philippine philippine senior kilobytes yen kilobytes m m m m costa costa costa 100 sime 100 sime 100 sime sime \n",
      "                     != one thousand dollars\n",
      "NZ$1 billion         -> philippine philippine senior kilobytes yen kilobytes m m m m costa costa costa 100 sime 100 sime 100 sime sime \n",
      "                     != one billion dollars\n",
      "16th                 -> philippine to philippine senior to philippine to philippine senior to philippine to philippine senior to philippine to philippine senior to \n",
      "                     != sixteenth\n",
      "Accuracy: 0.00% (       0/       4)\n"
     ]
    }
   ],
   "source": [
    "def test_model_accuracy(n_sample=10000, print_wrongs=False):\n",
    "    balanced_data_randomize()\n",
    "    n_correct = 0\n",
    "    for iteration in range(n_sample):\n",
    "        s_bef, s_aft, s_class, s_sentence = get_random_sample()\n",
    "        output = evaluate(encoder_rnn, decoder_rnn, s_bef, s_sentence)\n",
    "        if s_aft == output:\n",
    "            n_correct += 1\n",
    "        else:\n",
    "            if print_wrongs:\n",
    "                print(\"{:<20} -> {} \\n{:<20} != {}\".format(s_bef, output, '', s_aft))\n",
    "                \n",
    "\n",
    "    print(\"Accuracy: {:>4.2%} ({:>8d}/{:>8d})\".format(\n",
    "            n_correct/n_sample, n_correct, n_sample))\n",
    "\n",
    "test_model_accuracy(4, print_wrongs=True)"
   ]
  },
  {
   "cell_type": "code",
   "execution_count": 43,
   "metadata": {},
   "outputs": [
    {
     "name": "stdout",
     "output_type": "stream",
     "text": [
      "17.5 ns ± 0.79 ns per loop (mean ± std. dev. of 7 runs, 100000000 loops each)\n"
     ]
    }
   ],
   "source": [
    "%%timeit\n",
    "test_model_accuracy"
   ]
  },
  {
   "cell_type": "markdown",
   "metadata": {},
   "source": [
    "### Training"
   ]
  },
  {
   "cell_type": "code",
   "execution_count": 33,
   "metadata": {
    "collapsed": true
   },
   "outputs": [],
   "source": [
    "def train(s_bef, s_aft, s_sentence, encoder, decoder, encoder_optimizer, decoder_optimizer, loss_function,\n",
    "          use_teacher_forcing, max_length=20):\n",
    "\n",
    "    s_word_vs = sentence_word_vectorize(s_sentence)\n",
    "    s_bef_string = string_to_tensor(s_bef, letters_all_index, include_eos=True)\n",
    "    target_arr = s_aft.split(' ') + ['<EOS>']\n",
    "    \n",
    "    encoder_optimizer.zero_grad()\n",
    "    decoder_optimizer.zero_grad()\n",
    "    loss = 0\n",
    "\n",
    "    encoder_output = encoder(Variable(torch.from_numpy(s_word_vs)).cuda(), Variable(s_bef_string).cuda())\n",
    "    encoder_output = encoder_output.view(1,1,-1)\n",
    "    decoder_hidden = encoder_output\n",
    "\n",
    "    decoder_input = number_words_onehot_sos\n",
    "\n",
    "    decoded_output = []\n",
    "    for i in range(len(target_arr)):\n",
    "        decoder_output, decoder_hidden = decoder(decoder_input, decoder_hidden)\n",
    "\n",
    "        decoder_target = number_words_index[target_arr[i]]\n",
    "        #print(decoder_target)\n",
    "        decoder_target = Variable(torch.LongTensor([decoder_target])).cuda()\n",
    "        \n",
    "        # import IPython; IPython.core.debugger.set_trace()\n",
    "        \n",
    "        loss += loss_function(decoder_output, decoder_target)\n",
    "\n",
    "        topv, topi = decoder_output.data.topk(1)\n",
    "        word_index = topi[0][0]\n",
    "        word = number_words[word_index] # Use own prediction as next input\n",
    "        decoded_output.append(word)\n",
    "        \n",
    "        if use_teacher_forcing:\n",
    "            word = target_arr[i] # replace input with right target\n",
    "        else:\n",
    "            # use output normally as input \n",
    "            if word == '<EOS>':\n",
    "                break\n",
    "\n",
    "        decoder_input = number_words_to_tensor([word], include_eos=False)\n",
    "        decoder_input = Variable(torch.from_numpy(decoder_input)).cuda()\n",
    "\n",
    "    loss.backward()\n",
    "\n",
    "    encoder_optimizer.step()\n",
    "    decoder_optimizer.step()\n",
    "\n",
    "    return((loss.data[0] / len(target_arr)), ' '.join(decoded_output))\n",
    "#print(train())"
   ]
  },
  {
   "cell_type": "code",
   "execution_count": 34,
   "metadata": {
    "collapsed": true
   },
   "outputs": [],
   "source": [
    "model_train_iterations = 0\n",
    "model_train_history = []"
   ]
  },
  {
   "cell_type": "code",
   "execution_count": 47,
   "metadata": {
    "collapsed": true
   },
   "outputs": [],
   "source": [
    "def train_iterations(n_iters=100000, lr=0.001, teacher_forcing_ratio=0.5,\n",
    "                     print_every=10000, plot_every=1000):\n",
    "    global model_train_iterations\n",
    "    global model_train_history\n",
    "    start = time.time()\n",
    "    decoder_rnn.train()\n",
    "    encoder_rnn.train()\n",
    "\n",
    "    current_loss = 0\n",
    "    current_loss_iter = 0\n",
    "\n",
    "    encoder_optimizer = torch.optim.Adam(encoder_rnn.parameters(), lr=lr)\n",
    "    decoder_optimizer = torch.optim.Adam(decoder_rnn.parameters(), lr=lr)\n",
    "    loss_function = nn.NLLLoss()\n",
    "    \n",
    "    for iteration in range(1, n_iters + 1):\n",
    "        model_train_iterations += 1\n",
    "\n",
    "        use_teacher_forcing = random.random() < teacher_forcing_ratio\n",
    "        \n",
    "        s_bef, s_aft, s_class, s_sentence = get_random_sample()\n",
    "        \n",
    "        loss, result = train(s_bef=s_bef, s_aft=s_aft, s_sentence=s_sentence,\n",
    "                             encoder=encoder_rnn, decoder=decoder_rnn,\n",
    "                             encoder_optimizer=encoder_optimizer, decoder_optimizer=decoder_optimizer,\n",
    "                             loss_function=nn.NLLLoss(), use_teacher_forcing=use_teacher_forcing,\n",
    "                             max_length=40 )\n",
    "\n",
    "        current_loss += loss\n",
    "        current_loss_iter += 1\n",
    "\n",
    "        # Print iter number, loss, name and guess\n",
    "        if iteration % print_every == 0:\n",
    "            teacher_forcing_str = \"\"\n",
    "            if use_teacher_forcing:\n",
    "                teacher_forcing_str = \"(forcing)\"\n",
    "            print(\"{:>6d} {:>4.0%} ({:>8}) {:>7.3f}   | {:>6.2f}: {} -> {} {} ({})\".format(\n",
    "                      model_train_iterations, iteration/n_iters, time_since(start),\n",
    "                      current_loss/current_loss_iter, loss,\n",
    "                      s_bef, teacher_forcing_str, result, s_aft))\n",
    "\n",
    "        # Add current loss avg to list of losses\n",
    "        if iteration % plot_every == 0:\n",
    "            model_train_history.append((current_loss / plot_every, lr))\n",
    "            current_loss = 0\n",
    "            current_loss_iter = 0\n",
    "            \n",
    "        if model_train_iterations % 10000 == 0:\n",
    "            balanced_data_randomize()\n",
    "            \n",
    "        if model_train_iterations % 50000 == 0:\n",
    "            test_model_accuracy()\n",
    "            save_model('numbers_gen_2', encoder_rnn, decoder_rnn, model_train_iterations)\n",
    "    \n",
    "    # test_model_accuracy(model, n_sample=10000)"
   ]
  },
  {
   "cell_type": "code",
   "execution_count": 38,
   "metadata": {},
   "outputs": [
    {
     "name": "stdout",
     "output_type": "stream",
     "text": [
      "     6  50% (   0m 0s)   6.278   |   6.25: May 17, 1982 -> (forcing) philippine philippine <EOS> <EOS> <EOS> <EOS> (may seventeenth nineteen eighty two)\n",
      "    11 100% (   0m 0s)   6.241   |   6.16: $1,004 -> (forcing) <EOS> <EOS> <EOS> <EOS> <EOS> (one thousand four dollars)\n"
     ]
    }
   ],
   "source": [
    "train_iterations(n_iters=10, print_every=5, teacher_forcing_ratio=1)"
   ]
  },
  {
   "cell_type": "code",
   "execution_count": 46,
   "metadata": {},
   "outputs": [
    {
     "name": "stdout",
     "output_type": "stream",
     "text": [
      "Accuracy: 3.66% (     366/   10000)\n",
      "Saving: data/models/numbers_gen_2/1350 (encoder/decoder)\n",
      "Accuracy: 2.64% (     264/   10000)\n",
      "Saving: data/models/numbers_gen_2/1400 (encoder/decoder)\n",
      "  1401 100% (  1m 40s)   2.522   |   3.25: 1625 -> (forcing) two point two <EOS> (sixteen twenty five)\n"
     ]
    }
   ],
   "source": [
    "train_iterations(n_iters=(1401-model_train_iterations), print_every=100, teacher_forcing_ratio=1)"
   ]
  },
  {
   "cell_type": "code",
   "execution_count": 48,
   "metadata": {},
   "outputs": [
    {
     "name": "stdout",
     "output_type": "stream",
     "text": [
      "  2401  12% (  0m 13s)   2.579   |   3.04: 8 km ->  one hundred <EOS> (eight kilometers)\n",
      "  3401  23% (  0m 27s)   2.350   |   2.55: 58 (1875) 8 -> (forcing) o sil sil sil sil sil sil sil sil sil (five eight sil one eight seven five sil eight)\n",
      "  4401  35% (  0m 42s)   2.143   |   1.55: 55% -> (forcing) twenty percent percent <EOS> (fifty five percent)\n",
      "  5401  47% (  0m 56s)   1.985   |   1.34: 2006 -> (forcing) two thousand <EOS> <EOS> (two thousand six)\n",
      "  6401  58% (  1m 11s)   1.840   |   2.52: C5 -> (forcing) sixty <EOS> <EOS> (c five)\n",
      "  7401  70% (  1m 25s)   1.714   |   1.34: 15th ->  thirteenth <EOS> (fifteenth)\n",
      "  8401  81% (  1m 40s)   1.602   |   2.88: 28\" -> (forcing) twenty pounds <EOS> <EOS> (twenty eight inches)\n",
      "  9401  93% (  1m 54s)   1.468   |   1.02: .69 -> (forcing) point nine nine <EOS> (point six nine)\n"
     ]
    }
   ],
   "source": [
    "train_iterations(n_iters=(10000-model_train_iterations), print_every=1000, teacher_forcing_ratio=0.5)"
   ]
  },
  {
   "cell_type": "code",
   "execution_count": 49,
   "metadata": {},
   "outputs": [
    {
     "name": "stdout",
     "output_type": "stream",
     "text": [
      "1980s                -> nineteen sixties \n",
      "                     != nineteen eighties\n",
      "319                  -> three hundred eighty \n",
      "                     != three one nine\n",
      "0.80 km              -> zero point five kilometers \n",
      "                     != zero point eight o kilometers\n",
      "October 10, 1864     -> july twenty nineteen ninety \n",
      "                     != october tenth eighteen sixty four\n",
      "607                  -> five hundred \n",
      "                     != six o seven\n",
      "7th                  -> fourth \n",
      "                     != seventh\n",
      "$19,674              -> one thousand thousand hundred hundred eighty dollars \n",
      "                     != nineteen thousand six hundred seventy four dollars\n",
      "$46,953.01           -> forty thousand thousand hundred hundred eighty three dollars \n",
      "                     != forty six thousand nine hundred fifty three dollars and one cent\n",
      "1.2 m                -> one point zero meters \n",
      "                     != one point two meters\n",
      "€100 million         -> one hundred fifty million dollars \n",
      "                     != one hundred million euros\n",
      "36.6                 -> forty three point three \n",
      "                     != thirty six point six\n",
      "$15,479              -> one thousand thousand hundred hundred eighty dollars \n",
      "                     != fifteen thousand four hundred seventy nine dollars\n",
      "216 ft               -> twenty hundred twenty feet \n",
      "                     != two hundred sixteen feet\n",
      "5,259                -> five hundred ninety two point two \n",
      "                     != five thousand two hundred fifty nine\n",
      "£78 million          -> sixty five million dollars \n",
      "                     != seventy eight million pounds\n",
      "150m                 -> one hundred \n",
      "                     != one hundred fifty meters\n",
      "Accuracy: 20.00% (       4/      20)\n"
     ]
    }
   ],
   "source": [
    "test_model_accuracy(20, print_wrongs=True)"
   ]
  },
  {
   "cell_type": "code",
   "execution_count": 50,
   "metadata": {},
   "outputs": [
    {
     "name": "stdout",
     "output_type": "stream",
     "text": [
      " 20000  20% (  2m 23s)   0.815   |   0.15: 49th ->  forty ninth <EOS> (forty ninth)\n",
      " 30000  40% (  4m 53s)   0.569   |   0.08: $250,000 ->  two hundred fifty thousand dollars <EOS> (two hundred fifty thousand dollars)\n",
      " 40000  60% (  7m 22s)   0.501   |   0.06: 3.10 ->  three point one o <EOS> (three point one o)\n",
      " 50000  80% (  9m 46s)   0.377   |   0.58: 109th -> (forcing) one hundred nine <EOS> (one hundred ninth)\n",
      "Accuracy: 71.90% (    7190/   10000)\n",
      "Saving: data/models/numbers_gen_2/50000 (encoder/decoder)\n",
      " 60000 100% ( 12m 56s)   0.362   |   0.51: IV -> (forcing) the <EOS> <EOS> (the fourth)\n"
     ]
    }
   ],
   "source": [
    "train_iterations(n_iters=50000, teacher_forcing_ratio=0.5)"
   ]
  },
  {
   "cell_type": "code",
   "execution_count": 51,
   "metadata": {},
   "outputs": [
    {
     "name": "stdout",
     "output_type": "stream",
     "text": [
      "0.39 km/km2          -> zero point three nine square kilometers \n",
      "                     != zero point three nine kilometers per square kilometer\n",
      "131 1770             -> one hundred one one seven sil \n",
      "                     != one three one sil one seven seven o\n",
      "157 thousand         -> one hundred seventy seven percent \n",
      "                     != one hundred fifty seven thousand\n",
      "Accuracy: 70.00% (       7/      10)\n"
     ]
    }
   ],
   "source": [
    "test_model_accuracy(10, print_wrongs=True)"
   ]
  },
  {
   "cell_type": "code",
   "execution_count": 52,
   "metadata": {},
   "outputs": [
    {
     "name": "stdout",
     "output_type": "stream",
     "text": [
      " 70000  20% (  2m 22s)   0.347   |   0.64: 152 -> (forcing) one hundred two <EOS> (one five two)\n",
      " 80000  40% (  4m 44s)   0.299   |   0.01: 76 -> (forcing) seventy six <EOS> (seventy six)\n",
      " 90000  60% (   7m 6s)   0.291   |   0.00: 8th -> (forcing) eighth <EOS> (eighth)\n",
      "100000  80% (  9m 29s)   0.291   |   0.06: 14.6 million ->  fourteen point six million <EOS> (fourteen point six million)\n",
      "Accuracy: 81.33% (    8133/   10000)\n",
      "Saving: data/models/numbers_gen_2/100000 (encoder/decoder)\n",
      "110000 100% ( 12m 39s)   0.288   |   0.00: 3rd ->  third <EOS> (third)\n"
     ]
    }
   ],
   "source": [
    "train_iterations(n_iters=50000, teacher_forcing_ratio=0.4)"
   ]
  },
  {
   "cell_type": "code",
   "execution_count": 53,
   "metadata": {},
   "outputs": [
    {
     "name": "stdout",
     "output_type": "stream",
     "text": [
      "Accuracy: 100.00% (      10/      10)\n"
     ]
    }
   ],
   "source": [
    "test_model_accuracy(10, print_wrongs=True)"
   ]
  },
  {
   "cell_type": "code",
   "execution_count": 54,
   "metadata": {},
   "outputs": [
    {
     "name": "stdout",
     "output_type": "stream",
     "text": [
      "120000  20% (  2m 21s)   0.243   |   0.00: 124.0 -> (forcing) one hundred twenty four point zero <EOS> (one hundred twenty four point zero)\n",
      "130000  40% (  4m 43s)   0.247   |   0.87: 60100 ->  six thousand one hundred <EOS> (sixty thousand one hundred)\n",
      "140000  60% (   7m 4s)   0.249   |   1.40: 2012/34 -> (forcing) two thousand twelve thousand thousand <EOS> (two thousand twelve thirty fourths)\n",
      "150000  80% (  9m 26s)   0.244   |   0.01: 17 ->  seventeen <EOS> (seventeen)\n",
      "Accuracy: 82.89% (    8289/   10000)\n",
      "Saving: data/models/numbers_gen_2/150000 (encoder/decoder)\n",
      "160000 100% ( 12m 34s)   0.225   |   0.34: 885 lb ->  eight hundred fifty eight pounds <EOS> (eight hundred eighty five pounds)\n"
     ]
    }
   ],
   "source": [
    "train_iterations(n_iters=50000, teacher_forcing_ratio=0.3)"
   ]
  },
  {
   "cell_type": "code",
   "execution_count": 55,
   "metadata": {},
   "outputs": [
    {
     "name": "stdout",
     "output_type": "stream",
     "text": [
      "70,000 Hz            -> seventy thousand \n",
      "                     != seventy thousand hertz\n",
      "26                   -> two six \n",
      "                     != twenty six\n",
      "0-312-26385-6        -> o sil three one two sil two six five six five sil six \n",
      "                     != o sil three one two sil two six three eight five sil six\n",
      "Accuracy: 85.00% (      17/      20)\n"
     ]
    }
   ],
   "source": [
    "test_model_accuracy(20, print_wrongs=True)"
   ]
  },
  {
   "cell_type": "code",
   "execution_count": 56,
   "metadata": {},
   "outputs": [
    {
     "name": "stdout",
     "output_type": "stream",
     "text": [
      "170000  20% (  2m 21s)   0.249   |   1.22: 0845 424 2424 -> (forcing) o four four sil four four four four two two four sil <EOS> <EOS> (o eight four five sil four two four sil two four two four)\n",
      "180000  40% (  4m 44s)   0.253   |   0.04: 9.3 mi ->  nine point three miles <EOS> (nine point three miles)\n",
      "190000  60% (   7m 5s)   0.221   |   0.58: 3-8138-0175-6 -> (forcing) three sil eight eight three eight sil one one eight five sil six <EOS> (three sil eight one three eight sil o one seven five sil six)\n",
      "200000  80% (  9m 26s)   0.212   |   0.28: 222 ->  two two twenty <EOS> (two two two)\n",
      "Accuracy: 84.24% (    8424/   10000)\n",
      "Saving: data/models/numbers_gen_2/200000 (encoder/decoder)\n",
      "210000 100% ( 12m 34s)   0.227   |   0.13: I-64 ->  i sixty four <EOS> (i sixty four)\n"
     ]
    }
   ],
   "source": [
    "train_iterations(n_iters=50000, teacher_forcing_ratio=0.2)"
   ]
  },
  {
   "cell_type": "code",
   "execution_count": 57,
   "metadata": {},
   "outputs": [
    {
     "name": "stdout",
     "output_type": "stream",
     "text": [
      "0-9614392-2          -> o sil nine six four one three sil sil two two \n",
      "                     != o sil nine six one four three nine two sil two\n",
      "0-340-22084-8        -> o sil three four o sil o o four four eight sil eight \n",
      "                     != o sil three four o sil two two o eight four sil eight\n",
      "8 000 000m           -> eight million sil \n",
      "                     != eight million meters\n",
      "Accuracy: 85.00% (      17/      20)\n"
     ]
    }
   ],
   "source": [
    "test_model_accuracy(20, print_wrongs=True)"
   ]
  },
  {
   "cell_type": "code",
   "execution_count": 58,
   "metadata": {},
   "outputs": [
    {
     "name": "stdout",
     "output_type": "stream",
     "text": [
      "220000  20% (  2m 21s)   0.166   |   0.03: $45,216 ->  forty five thousand two hundred sixteen dollars <EOS> (forty five thousand two hundred sixteen dollars)\n",
      "230000  40% (  4m 42s)   0.155   |   0.04: $1.04 billion -> (forcing) one point o four billion dollars <EOS> (one point o four billion dollars)\n",
      "240000  60% (   7m 3s)   0.129   |   0.00: 11th ->  eleventh <EOS> (eleventh)\n",
      "250000  80% (  9m 25s)   0.170   |   0.00: 3rd -> (forcing) third <EOS> (third)\n",
      "Accuracy: 88.98% (    8898/   10000)\n",
      "Saving: data/models/numbers_gen_2/250000 (encoder/decoder)\n",
      "260000 100% ( 12m 34s)   0.131   |   0.00: 3 ->  three <EOS> (three)\n"
     ]
    }
   ],
   "source": [
    "train_iterations(n_iters=50000, teacher_forcing_ratio=0.2, lr=0.0001)"
   ]
  },
  {
   "cell_type": "code",
   "execution_count": 59,
   "metadata": {},
   "outputs": [
    {
     "name": "stdout",
     "output_type": "stream",
     "text": [
      "978-2-343-06151-1    -> nine seven eight sil three sil four three two sil sil one one five one sil one \n",
      "                     != nine seven eight sil two sil three four three sil o six one five one sil one\n",
      "/day                 -> per \n",
      "                     != per day\n",
      "Accuracy: 90.00% (      18/      20)\n"
     ]
    }
   ],
   "source": [
    "test_model_accuracy(20, print_wrongs=True)"
   ]
  },
  {
   "cell_type": "code",
   "execution_count": 60,
   "metadata": {},
   "outputs": [
    {
     "name": "stdout",
     "output_type": "stream",
     "text": [
      "270000  20% (  2m 20s)   0.119   |   0.20: May 13, 1909 -> (forcing) may thirteenth nineteen ninety nine <EOS> (may thirteenth nineteen o nine)\n",
      "280000  40% (  4m 41s)   0.104   |   0.00: .38 ->  point three eight <EOS> (point three eight)\n",
      "290000  60% (   7m 2s)   0.142   |   0.00: 4th -> (forcing) fourth <EOS> (fourth)\n",
      "300000  80% (  9m 22s)   0.101   |   0.24: 20 -> (forcing) twenty <EOS> (twenty)\n",
      "Accuracy: 90.02% (    9002/   10000)\n",
      "Saving: data/models/numbers_gen_2/300000 (encoder/decoder)\n",
      "310000 100% ( 12m 29s)   0.142   |   0.04: 97 -> (forcing) nine seven <EOS> (nine seven)\n"
     ]
    }
   ],
   "source": [
    "train_iterations(n_iters=50000, teacher_forcing_ratio=0.4, lr=0.0001)"
   ]
  },
  {
   "cell_type": "code",
   "execution_count": 61,
   "metadata": {},
   "outputs": [
    {
     "name": "stdout",
     "output_type": "stream",
     "text": [
      "II                   -> the second \n",
      "                     != two\n",
      "Accuracy: 95.00% (      19/      20)\n"
     ]
    }
   ],
   "source": [
    "test_model_accuracy(20, print_wrongs=True)"
   ]
  },
  {
   "cell_type": "code",
   "execution_count": 62,
   "metadata": {},
   "outputs": [
    {
     "name": "stdout",
     "output_type": "stream",
     "text": [
      "320000  20% (  2m 19s)   0.169   |   0.00: 16 -> (forcing) sixteen <EOS> (sixteen)\n",
      "330000  40% (  4m 38s)   0.231   |   0.01: 299 ft ->  two hundred ninety nine feet <EOS> (two hundred ninety nine feet)\n",
      "340000  60% (  6m 58s)   0.215   |   0.01: $185,000 ->  one hundred eighty five thousand dollars <EOS> (one hundred eighty five thousand dollars)\n",
      "350000  80% (  9m 17s)   0.200   |   0.04: 20:00 ->  twenty hundred <EOS> (twenty hundred)\n",
      "Accuracy: 86.30% (    8630/   10000)\n",
      "Saving: data/models/numbers_gen_2/350000 (encoder/decoder)\n",
      "360000 100% ( 12m 24s)   0.201   |   0.00: 2000 -> (forcing) two thousand <EOS> (two thousand)\n"
     ]
    }
   ],
   "source": [
    "train_iterations(n_iters=50000, teacher_forcing_ratio=0.2, lr=0.001)"
   ]
  },
  {
   "cell_type": "code",
   "execution_count": 63,
   "metadata": {},
   "outputs": [
    {
     "name": "stdout",
     "output_type": "stream",
     "text": [
      "$2.00                -> two thousand dollars \n",
      "                     != two dollars\n",
      "Accuracy: 95.00% (      19/      20)\n"
     ]
    }
   ],
   "source": [
    "test_model_accuracy(20, print_wrongs=True)"
   ]
  },
  {
   "cell_type": "code",
   "execution_count": 64,
   "metadata": {},
   "outputs": [
    {
     "name": "stdout",
     "output_type": "stream",
     "text": [
      "370000  10% (  2m 20s)   0.128   |   4.40: 28 February 1919 ->  the nineteenth of february nineteen nineteen <EOS> (the twenty eighth of february nineteen nineteen)\n",
      "380000  20% (  4m 40s)   0.170   |   0.00: 42% ->  forty two percent <EOS> (forty two percent)\n",
      "390000  30% (   7m 0s)   0.121   |   0.00: 1.22 -> (forcing) one point two two <EOS> (one point two two)\n",
      "400000  40% (  9m 20s)   0.120   |   0.00: 2nd ->  second <EOS> (second)\n",
      "Accuracy: 90.58% (    9058/   10000)\n",
      "Saving: data/models/numbers_gen_2/400000 (encoder/decoder)\n",
      "410000  50% ( 12m 27s)   0.131   |   0.00: 6th ->  sixth <EOS> (sixth)\n",
      "420000  60% ( 14m 49s)   0.121   |   0.01: March 2001 ->  march two thousand one <EOS> (march two thousand one)\n",
      "430000  70% (  17m 9s)   0.138   |   0.34: 0-385-08861-2 ->  o sil three eight five sil eight eight eight six one sil two <EOS> (o sil three eight five sil o eight eight six one sil two)\n",
      "440000  80% ( 19m 30s)   0.103   |   0.82: 978-0-300-17382-6 ->  nine seven eight sil o sil three hundred sil one eight seven eight six six sil six (nine seven eight sil o sil three hundred sil one seven three eight two sil six)\n",
      "450000  90% ( 21m 50s)   0.125   |   0.14: 1:57.14 ->  one minute fifty seven seconds and fourteen milliseconds <EOS> (one minute fifty seven seconds and fourteen milliseconds)\n",
      "Accuracy: 90.94% (    9094/   10000)\n",
      "Saving: data/models/numbers_gen_2/450000 (encoder/decoder)\n",
      "460000 100% ( 24m 56s)   0.105   |   0.00: 9th ->  ninth <EOS> (ninth)\n"
     ]
    }
   ],
   "source": [
    "train_iterations(n_iters=100000, teacher_forcing_ratio=0.1, lr=0.0001)"
   ]
  },
  {
   "cell_type": "code",
   "execution_count": 65,
   "metadata": {},
   "outputs": [
    {
     "name": "stdout",
     "output_type": "stream",
     "text": [
      "1987                 -> nineteen eighty seven \n",
      "                     != one nine eight seven\n",
      "Accuracy: 95.00% (      19/      20)\n"
     ]
    }
   ],
   "source": [
    "test_model_accuracy(20, print_wrongs=True)"
   ]
  },
  {
   "cell_type": "code",
   "execution_count": 66,
   "metadata": {},
   "outputs": [
    {
     "name": "stdout",
     "output_type": "stream",
     "text": [
      "470000   5% (  2m 20s)   0.095   |   0.00: 12.3 ->  twelve point three <EOS> (twelve point three)\n",
      "480000  10% (  4m 39s)   0.127   |   0.00: 2.50 ->  two point five o <EOS> (two point five o)\n",
      "490000  15% (   7m 0s)   0.102   |   0.00: March 28, 2014 ->  march twenty eighth twenty fourteen <EOS> (march twenty eighth twenty fourteen)\n",
      "500000  20% (  9m 21s)   0.105   |   0.00: 10,000 m ->  ten thousand meters <EOS> (ten thousand meters)\n",
      "Accuracy: 90.80% (    9080/   10000)\n",
      "Saving: data/models/numbers_gen_2/500000 (encoder/decoder)\n",
      "510000  25% ( 12m 28s)   0.098   |   0.01: 909.6/km² ->  nine hundred nine point six per square kilometers <EOS> (nine hundred nine point six per square kilometers)\n",
      "520000  30% ( 14m 50s)   0.131   |   0.01: .292 ->  point two nine two <EOS> (point two nine two)\n",
      "530000  35% ( 17m 10s)   0.113   |   0.00: 13.9% ->  thirteen point nine percent <EOS> (thirteen point nine percent)\n",
      "540000  40% ( 19m 32s)   0.100   |   0.00: 2nd ->  second <EOS> (second)\n",
      "550000  45% ( 21m 53s)   0.139   |   0.00: 25th ->  twenty fifth <EOS> (twenty fifth)\n",
      "Accuracy: 91.51% (    9151/   10000)\n",
      "Saving: data/models/numbers_gen_2/550000 (encoder/decoder)\n",
      "560000  50% (  25m 1s)   0.096   |   0.00: 4 ->  four <EOS> (four)\n",
      "570000  55% ( 27m 21s)   0.101   |   0.03: 422 ->  four hundred twenty two <EOS> (four hundred twenty two)\n",
      "580000  60% ( 29m 42s)   0.103   |   0.33: 425 ->  four two five <EOS> (four two five)\n",
      "590000  65% (  32m 2s)   0.093   |   0.00: A$1,400 ->  one thousand four hundred dollars <EOS> (one thousand four hundred dollars)\n",
      "600000  70% ( 34m 22s)   0.099   |   0.00: 216 ->  two hundred sixteen <EOS> (two hundred sixteen)\n",
      "Accuracy: 92.33% (    9233/   10000)\n",
      "Saving: data/models/numbers_gen_2/600000 (encoder/decoder)\n",
      "610000  75% ( 37m 29s)   0.129   |   4.26: 45350 ->  four five three five o <EOS> (forty five thousand three hundred fifty)\n",
      "620000  80% ( 39m 50s)   0.090   |   0.00: 176 ->  one hundred seventy six <EOS> (one hundred seventy six)\n",
      "630000  85% ( 42m 10s)   0.092   |   0.00: 3rd ->  third <EOS> (third)\n",
      "640000  90% ( 44m 30s)   0.118   |   0.01: 1.097 ->  one point o nine seven <EOS> (one point o nine seven)\n",
      "650000  95% ( 46m 51s)   0.111   |   0.00: 238 ->  two hundred thirty eight <EOS> (two hundred thirty eight)\n",
      "Accuracy: 92.46% (    9246/   10000)\n",
      "Saving: data/models/numbers_gen_2/650000 (encoder/decoder)\n",
      "660000 100% ( 49m 58s)   0.083   |   0.02: 1008.1 ->  one thousand eight point one <EOS> (one thousand eight point one)\n"
     ]
    }
   ],
   "source": [
    "train_iterations(n_iters=200000, teacher_forcing_ratio=0.1, lr=0.0001)"
   ]
  },
  {
   "cell_type": "code",
   "execution_count": 67,
   "metadata": {},
   "outputs": [
    {
     "name": "stdout",
     "output_type": "stream",
     "text": [
      "Accuracy: 100.00% (      20/      20)\n"
     ]
    }
   ],
   "source": [
    "test_model_accuracy(20, print_wrongs=True)"
   ]
  },
  {
   "cell_type": "code",
   "execution_count": 68,
   "metadata": {},
   "outputs": [
    {
     "name": "stdout",
     "output_type": "stream",
     "text": [
      "670000   5% (  2m 21s)   0.090   |   0.47: 0-8108-6829-6 ->  o sil eight one o eight sil two eight eight six sil six <EOS> (o sil eight one o eight sil six eight two nine sil six)\n",
      "680000  10% (  4m 42s)   0.089   |   0.00: 2nd ->  second <EOS> (second)\n",
      "690000  15% (   7m 2s)   0.135   |   0.00: C4  ->  c four <EOS> (c four)\n",
      "700000  20% (  9m 22s)   0.085   |   0.00: 04 ->  o four <EOS> (o four)\n",
      "Accuracy: 92.72% (    9272/   10000)\n",
      "Saving: data/models/numbers_gen_2/700000 (encoder/decoder)\n",
      "710000  25% ( 12m 29s)   0.070   |   0.00: 6 ->  six <EOS> (six)\n",
      "720000  30% ( 14m 50s)   0.076   |   0.00: 1 ->  one <EOS> (one)\n",
      "730000  35% ( 17m 10s)   0.115   |   0.00: 157 ->  one hundred fifty seven <EOS> (one hundred fifty seven)\n",
      "740000  40% ( 19m 30s)   0.088   |   0.00: 15/km² ->  fifteen per square kilometers <EOS> (fifteen per square kilometers)\n",
      "750000  45% ( 21m 49s)   0.066   |   0.00: 44th ->  forty fourth <EOS> (forty fourth)\n",
      "Accuracy: 92.71% (    9271/   10000)\n",
      "Saving: data/models/numbers_gen_2/750000 (encoder/decoder)\n",
      "760000  50% ( 24m 56s)   0.113   |   0.20: 0-943219-22-1 ->  o sil nine four three two nine nine sil two two sil one <EOS> (o sil nine four three two one nine sil two two sil one)\n",
      "770000  55% ( 27m 16s)   0.093   |   0.00: 297.2 ->  two hundred ninety seven point two <EOS> (two hundred ninety seven point two)\n",
      "780000  60% ( 29m 36s)   0.085   |   0.01: 13, ->  thirteen <EOS> (thirteen)\n",
      "790000  65% ( 31m 55s)   0.081   |   0.00: 2nd -> (forcing) second <EOS> (second)\n",
      "800000  70% ( 34m 15s)   0.091   |   0.00: $30,109 ->  thirty thousand one hundred nine dollars <EOS> (thirty thousand one hundred nine dollars)\n",
      "Accuracy: 93.17% (    9317/   10000)\n",
      "Saving: data/models/numbers_gen_2/800000 (encoder/decoder)\n",
      "810000  75% ( 37m 21s)   0.072   |   0.02: 10 ->  ten <EOS> (ten)\n",
      "820000  80% ( 39m 42s)   0.083   |   0.02: 1000055 ->  one o o o o five five <EOS> (one o o o o five five)\n",
      "830000  85% (  42m 3s)   0.074   |   0.00: 6 ->  six <EOS> (six)\n",
      "840000  90% ( 44m 23s)   0.063   |   0.06: $46,410 ->  forty six thousand four hundred ten dollars <EOS> (forty six thousand four hundred ten dollars)\n",
      "850000  95% ( 46m 45s)   0.065   |   1.16: 978-92-4-156347-5 ->  nine seven eight sil nine six sil sil four one five sil four four seven five <EOS> (nine seven eight sil nine two sil four sil one five six three four seven sil five)\n",
      "Accuracy: 93.35% (    9335/   10000)\n",
      "Saving: data/models/numbers_gen_2/850000 (encoder/decoder)\n",
      "860000 100% ( 49m 53s)   0.104   |   0.00: 11 August 2015 ->  the eleventh of august twenty fifteen <EOS> (the eleventh of august twenty fifteen)\n"
     ]
    }
   ],
   "source": [
    "train_iterations(n_iters=200000, teacher_forcing_ratio=0.1, lr=0.0001)"
   ]
  },
  {
   "cell_type": "code",
   "execution_count": 69,
   "metadata": {},
   "outputs": [
    {
     "name": "stdout",
     "output_type": "stream",
     "text": [
      "2325                 -> two three two five \n",
      "                     != two thousand three hundred twenty five\n",
      "Accuracy: 95.00% (      19/      20)\n"
     ]
    }
   ],
   "source": [
    "test_model_accuracy(20, print_wrongs=True)"
   ]
  },
  {
   "cell_type": "code",
   "execution_count": 70,
   "metadata": {},
   "outputs": [
    {
     "name": "stdout",
     "output_type": "stream",
     "text": [
      "870000   5% (  2m 20s)   0.116   |   0.00: 19.1% ->  nineteen point one percent <EOS> (nineteen point one percent)\n",
      "880000  10% (  4m 40s)   0.110   |   0.00: 100 ->  one hundred <EOS> (one hundred)\n",
      "890000  15% (   7m 1s)   0.091   |   0.65: 978-3-000-42033-7 ->  nine seven eight sil o sil o o sil o o four four three three sil seven <EOS> (nine seven eight sil three sil o o o sil four two o three three sil seven)\n",
      "900000  20% (  9m 20s)   0.093   |   0.00: 100 ->  one hundred <EOS> (one hundred)\n",
      "Accuracy: 93.38% (    9338/   10000)\n",
      "Saving: data/models/numbers_gen_2/900000 (encoder/decoder)\n",
      "910000  25% ( 12m 28s)   0.065   |   0.00: 1.55 million ->  one point five five million <EOS> (one point five five million)\n",
      "920000  30% ( 14m 48s)   0.098   |   0.08: 3269 ->  three two six nine <EOS> (three two six nine)\n",
      "930000  35% (  17m 8s)   0.072   |   0.01: 80% ->  eighty percent <EOS> (eighty percent)\n",
      "940000  40% ( 19m 27s)   0.110   |   3.91: 208Pb ->  two hundred eight pounds <EOS> (two hundred eight peta bits)\n",
      "950000  45% ( 21m 46s)   0.072   |   0.00: 14:20 ->  fourteen twenty <EOS> (fourteen twenty)\n",
      "Accuracy: 94.12% (    9412/   10000)\n",
      "Saving: data/models/numbers_gen_2/950000 (encoder/decoder)\n",
      "960000  50% ( 24m 54s)   0.074   |   0.00: 9 ->  nine <EOS> (nine)\n",
      "970000  55% ( 27m 14s)   0.077   |   0.00: 31st ->  thirty first <EOS> (thirty first)\n",
      "980000  60% ( 29m 34s)   0.081   |   0.01: 192nd ->  one hundred ninety second <EOS> (one hundred ninety second)\n",
      "990000  65% ( 31m 54s)   0.077   |   0.00: 2nd ->  second <EOS> (second)\n",
      "1000000  70% ( 34m 13s)   0.065   |   0.00: $39,294 -> (forcing) thirty nine thousand two hundred ninety four dollars <EOS> (thirty nine thousand two hundred ninety four dollars)\n",
      "Accuracy: 94.53% (    9453/   10000)\n",
      "Saving: data/models/numbers_gen_2/1000000 (encoder/decoder)\n",
      "1010000  75% ( 37m 20s)   0.081   |   0.00: 0.05 ->  zero point o five <EOS> (zero point o five)\n",
      "1020000  80% ( 39m 41s)   0.073   |   0.00: $42,500 ->  forty two thousand five hundred dollars <EOS> (forty two thousand five hundred dollars)\n",
      "1030000  85% (  42m 0s)   0.069   |   0.00: 5.3 ->  five point three <EOS> (five point three)\n",
      "1040000  90% ( 44m 21s)   0.092   |   0.00: 2.9 million ->  two point nine million <EOS> (two point nine million)\n",
      "1050000  95% ( 46m 40s)   0.074   |   0.00: 14 September ->  the fourteenth of september <EOS> (the fourteenth of september)\n",
      "Accuracy: 93.97% (    9397/   10000)\n",
      "Saving: data/models/numbers_gen_2/1050000 (encoder/decoder)\n",
      "1060000 100% ( 49m 47s)   0.067   |   0.00: 448 ->  four hundred forty eight <EOS> (four hundred forty eight)\n"
     ]
    }
   ],
   "source": [
    "train_iterations(n_iters=200000, teacher_forcing_ratio=0.1, lr=0.0001)"
   ]
  },
  {
   "cell_type": "code",
   "execution_count": 71,
   "metadata": {},
   "outputs": [
    {
     "name": "stdout",
     "output_type": "stream",
     "text": [
      "Accuracy: 100.00% (      20/      20)\n"
     ]
    }
   ],
   "source": [
    "test_model_accuracy(20, print_wrongs=True)"
   ]
  },
  {
   "cell_type": "code",
   "execution_count": 72,
   "metadata": {},
   "outputs": [
    {
     "name": "stdout",
     "output_type": "stream",
     "text": [
      "1070000   5% (  2m 20s)   0.072   |   0.00: 35mm ->  thirty five millimeters <EOS> (thirty five millimeters)\n",
      "1080000  10% (  4m 40s)   0.113   |   0.01: $228,792 ->  two hundred twenty eight thousand seven hundred ninety two dollars <EOS> (two hundred twenty eight thousand seven hundred ninety two dollars)\n",
      "1090000  15% (   7m 1s)   0.073   |   0.00: 1,400 m2 ->  one thousand four hundred square meters <EOS> (one thousand four hundred square meters)\n",
      "1100000  20% (  9m 21s)   0.070   |   0.00: .3 ->  point three <EOS> (point three)\n",
      "Accuracy: 94.48% (    9448/   10000)\n",
      "Saving: data/models/numbers_gen_2/1100000 (encoder/decoder)\n",
      "1110000  25% ( 12m 28s)   0.068   |   0.00: 1996 ->  nineteen ninety six <EOS> (nineteen ninety six)\n",
      "1120000  30% ( 14m 49s)   0.080   |   0.00: 1 ->  one <EOS> (one)\n",
      "1130000  35% (  17m 9s)   0.066   |   0.00: 44 ->  forty four <EOS> (forty four)\n",
      "1140000  40% ( 19m 30s)   0.045   |   0.00: 14:10 ->  fourteen ten <EOS> (fourteen ten)\n",
      "1150000  45% ( 21m 49s)   0.085   |   0.00: 11% ->  eleven percent <EOS> (eleven percent)\n",
      "Accuracy: 94.55% (    9455/   10000)\n",
      "Saving: data/models/numbers_gen_2/1150000 (encoder/decoder)\n",
      "1160000  50% ( 24m 55s)   0.056   |   0.00: 30.8% ->  thirty point eight percent <EOS> (thirty point eight percent)\n",
      "1170000  55% ( 27m 15s)   0.077   |   0.02: II ->  the second <EOS> (the second)\n",
      "1180000  60% ( 29m 34s)   0.058   |   0.00: 60 ->  sixty <EOS> (sixty)\n",
      "1190000  65% ( 31m 55s)   0.082   |   0.00: 8 September 2004 ->  the eighth of september two thousand four <EOS> (the eighth of september two thousand four)\n",
      "1200000  70% ( 34m 16s)   0.082   |   0.00: 1993 ->  nineteen ninety three <EOS> (nineteen ninety three)\n",
      "Accuracy: 94.35% (    9435/   10000)\n",
      "Saving: data/models/numbers_gen_2/1200000 (encoder/decoder)\n",
      "1210000  75% ( 37m 24s)   0.082   |   0.00: July 6, 2008 ->  july sixth two thousand eight <EOS> (july sixth two thousand eight)\n",
      "1220000  80% ( 39m 43s)   0.045   |   0.00: 5.2 ->  five point two <EOS> (five point two)\n",
      "1230000  85% (  42m 2s)   0.089   |   0.00: $100 Million ->  one hundred million dollars <EOS> (one hundred million dollars)\n",
      "1240000  90% ( 44m 24s)   0.085   |   0.00: 1997 ->  nineteen ninety seven <EOS> (nineteen ninety seven)\n",
      "1250000  95% ( 46m 44s)   0.058   |   0.00: 206.71 ->  two hundred six point seven one <EOS> (two hundred six point seven one)\n",
      "Accuracy: 94.70% (    9470/   10000)\n",
      "Saving: data/models/numbers_gen_2/1250000 (encoder/decoder)\n",
      "1260000 100% ( 49m 51s)   0.067   |   0.00: 20\" ->  twenty inches <EOS> (twenty inches)\n"
     ]
    }
   ],
   "source": [
    "train_iterations(n_iters=200000, teacher_forcing_ratio=0, lr=0.0001)"
   ]
  },
  {
   "cell_type": "code",
   "execution_count": 73,
   "metadata": {},
   "outputs": [
    {
     "name": "stdout",
     "output_type": "stream",
     "text": [
      "Accuracy: 100.00% (      20/      20)\n"
     ]
    }
   ],
   "source": [
    "test_model_accuracy(20, print_wrongs=True)"
   ]
  },
  {
   "cell_type": "code",
   "execution_count": 74,
   "metadata": {},
   "outputs": [
    {
     "name": "stdout",
     "output_type": "stream",
     "text": [
      "1270000   2% (  2m 19s)   0.070   |   0.04: 0503040 ->  o five o three o four o <EOS> (o five o three o four o)\n",
      "1280000   5% (  4m 40s)   0.064   |   0.00: 350 ->  three hundred fifty <EOS> (three hundred fifty)\n",
      "1290000   8% (   7m 0s)   0.067   |   0.00: 29% ->  twenty nine percent <EOS> (twenty nine percent)\n",
      "1300000  10% (  9m 21s)   0.070   |   0.00: 1 ->  one <EOS> (one)\n",
      "Accuracy: 94.86% (    9486/   10000)\n",
      "Saving: data/models/numbers_gen_2/1300000 (encoder/decoder)\n",
      "1310000  12% ( 12m 29s)   0.075   |   0.01: 23 June 1972 ->  the twenty third of june nineteen seventy two <EOS> (the twenty third of june nineteen seventy two)\n",
      "1320000  15% ( 14m 48s)   0.067   |   0.00: $8 Million ->  eight million dollars <EOS> (eight million dollars)\n",
      "1330000  18% ( 17m 10s)   0.088   |   0.00: £1.1 million ->  one point one million pounds <EOS> (one point one million pounds)\n",
      "1340000  20% ( 19m 31s)   0.069   |   0.00: 1 ->  one <EOS> (one)\n",
      "1350000  22% ( 21m 52s)   0.071   |   0.00: 28.1/km2 ->  twenty eight point one per square kilometers <EOS> (twenty eight point one per square kilometers)\n",
      "Accuracy: 94.97% (    9497/   10000)\n",
      "Saving: data/models/numbers_gen_2/1350000 (encoder/decoder)\n",
      "1360000  25% ( 24m 59s)   0.070   |   0.00: 1.3% ->  one point three percent <EOS> (one point three percent)\n",
      "1370000  28% ( 27m 18s)   0.077   |   0.00: 2006 ->  two thousand six <EOS> (two thousand six)\n",
      "1380000  30% ( 29m 39s)   0.065   |   0.05: 1572 ->  one five seven two <EOS> (one five seven two)\n",
      "1390000  32% (  32m 0s)   0.066   |   0.15: 15 ->  fifteen <EOS> (fifteen)\n",
      "1400000  35% ( 34m 21s)   0.079   |   0.00: US$76,000 ->  seventy six thousand dollars <EOS> (seventy six thousand dollars)\n",
      "Accuracy: 94.87% (    9487/   10000)\n",
      "Saving: data/models/numbers_gen_2/1400000 (encoder/decoder)\n",
      "1410000  38% ( 37m 29s)   0.045   |   0.01: 1455 ->  fourteen fifty five <EOS> (fourteen fifty five)\n",
      "1420000  40% ( 39m 50s)   0.071   |   0.00: 18.1 cm ->  eighteen point one centimeters <EOS> (eighteen point one centimeters)\n",
      "1430000  42% ( 42m 10s)   0.045   |   0.00: April 20, 2001 ->  april twentieth two thousand one <EOS> (april twentieth two thousand one)\n",
      "1440000  45% ( 44m 32s)   0.099   |   0.31: 2003-11-07 ->  the seventh of november two thousand seven <EOS> (the seventh of november two thousand three)\n",
      "1450000  48% ( 46m 51s)   0.076   |   0.00: 10.5 ->  ten point five <EOS> (ten point five)\n",
      "Accuracy: 95.58% (    9558/   10000)\n",
      "Saving: data/models/numbers_gen_2/1450000 (encoder/decoder)\n",
      "1460000  50% ( 49m 59s)   0.063   |   0.23: 978-1576070796 ->  nine seven eight sil one five seven six o seven o seven nine six <EOS> (nine seven eight sil one five seven six o seven o seven nine six)\n",
      "1470000  52% ( 52m 18s)   0.041   |   0.00: 1875 ->  eighteen seventy five <EOS> (eighteen seventy five)\n",
      "1480000  55% ( 54m 38s)   0.049   |   0.00: 1976 ->  nineteen seventy six <EOS> (nineteen seventy six)\n",
      "1490000  57% ( 56m 58s)   0.058   |   0.00: 70 percent ->  seventy percent <EOS> (seventy percent)\n",
      "1500000  60% ( 59m 19s)   0.089   |   0.00: 777 ->  seven seven seven <EOS> (seven seven seven)\n",
      "Accuracy: 95.72% (    9572/   10000)\n",
      "Saving: data/models/numbers_gen_2/1500000 (encoder/decoder)\n",
      "1510000  62% ( 62m 26s)   0.057   |   0.00: 84.4 ->  eighty four point four <EOS> (eighty four point four)\n",
      "1520000  65% ( 64m 46s)   0.061   |   0.17: 95 ->  nine five <EOS> (nine five)\n",
      "1530000  68% (  67m 7s)   0.057   |   0.00: $5,000 ->  five thousand dollars <EOS> (five thousand dollars)\n",
      "1540000  70% ( 69m 28s)   0.071   |   0.00: £2,900,000 ->  two million nine hundred thousand pounds <EOS> (two million nine hundred thousand pounds)\n",
      "1550000  72% ( 71m 50s)   0.085   |   0.00: 10% ->  ten percent <EOS> (ten percent)\n",
      "Accuracy: 95.57% (    9557/   10000)\n",
      "Saving: data/models/numbers_gen_2/1550000 (encoder/decoder)\n",
      "1560000  75% ( 74m 57s)   0.055   |   0.00: 1936 ->  nineteen thirty six <EOS> (nineteen thirty six)\n",
      "1570000  78% ( 77m 19s)   0.042   |   0.00: $54,317 ->  fifty four thousand three hundred seventeen dollars <EOS> (fifty four thousand three hundred seventeen dollars)\n",
      "1580000  80% ( 79m 39s)   0.052   |   0.00: 1769 ->  seventeen sixty nine <EOS> (seventeen sixty nine)\n",
      "1590000  82% (  82m 0s)   0.060   |   0.00: 24th ->  twenty fourth <EOS> (twenty fourth)\n",
      "1600000  85% ( 84m 22s)   0.052   |   0.00: 852.9 ->  eight hundred fifty two point nine <EOS> (eight hundred fifty two point nine)\n",
      "Accuracy: 96.26% (    9626/   10000)\n",
      "Saving: data/models/numbers_gen_2/1600000 (encoder/decoder)\n",
      "1610000  88% ( 87m 29s)   0.050   |   0.00: 11 ->  eleven <EOS> (eleven)\n",
      "1620000  90% ( 89m 50s)   0.065   |   0.06: 0-8047-5399-7 ->  o sil eight o four seven sil five three nine nine sil seven <EOS> (o sil eight o four seven sil five three nine nine sil seven)\n",
      "1630000  92% ( 92m 11s)   0.063   |   0.00: 24/7 ->  twenty four sevenths <EOS> (twenty four sevenths)\n",
      "1640000  95% ( 94m 31s)   0.039   |   0.00: 2 ->  two <EOS> (two)\n",
      "1650000  98% ( 96m 51s)   0.058   |   0.00: 30 ->  thirty <EOS> (thirty)\n",
      "Accuracy: 96.12% (    9612/   10000)\n",
      "Saving: data/models/numbers_gen_2/1650000 (encoder/decoder)\n",
      "1660000 100% ( 99m 59s)   0.059   |   0.00: $4 million ->  four million dollars <EOS> (four million dollars)\n"
     ]
    }
   ],
   "source": [
    "train_iterations(n_iters=400000, teacher_forcing_ratio=0, lr=0.0001)"
   ]
  },
  {
   "cell_type": "markdown",
   "metadata": {},
   "source": [
    "# "
   ]
  },
  {
   "cell_type": "code",
   "execution_count": 75,
   "metadata": {},
   "outputs": [
    {
     "data": {
      "text/plain": [
       "2"
      ]
     },
     "execution_count": 75,
     "metadata": {},
     "output_type": "execute_result"
    }
   ],
   "source": [
    "1+1"
   ]
  },
  {
   "cell_type": "code",
   "execution_count": null,
   "metadata": {
    "collapsed": true
   },
   "outputs": [],
   "source": []
  },
  {
   "cell_type": "code",
   "execution_count": 76,
   "metadata": {},
   "outputs": [
    {
     "name": "stdout",
     "output_type": "stream",
     "text": [
      "Accuracy: 100.00% (      20/      20)\n"
     ]
    }
   ],
   "source": [
    "test_model_accuracy(20, print_wrongs=True)"
   ]
  },
  {
   "cell_type": "code",
   "execution_count": 77,
   "metadata": {},
   "outputs": [
    {
     "name": "stdout",
     "output_type": "stream",
     "text": [
      "1670000   2% (  2m 20s)   0.066   |   0.00: 83 ->  eighty three <EOS> (eighty three)\n",
      "1680000   3% (  4m 41s)   0.055   |   0.01: 1997 ->  one nine nine seven <EOS> (one nine nine seven)\n",
      "1690000   5% (   7m 2s)   0.045   |   0.00: 18 ->  eighteen <EOS> (eighteen)\n",
      "1700000   7% (  9m 22s)   0.056   |   0.00: 1991 ->  nineteen ninety one <EOS> (nineteen ninety one)\n",
      "Accuracy: 96.22% (    9622/   10000)\n",
      "Saving: data/models/numbers_gen_2/1700000 (encoder/decoder)\n",
      "1710000   8% ( 12m 27s)   0.044   |   0.00: 10.1017 ->  ten point one o one seven <EOS> (ten point one o one seven)\n",
      "1720000  10% ( 14m 48s)   0.054   |   0.00: July 13, 2012 ->  july thirteenth twenty twelve <EOS> (july thirteenth twenty twelve)\n",
      "1730000  12% (  17m 8s)   0.046   |   0.07: 1-56316-115 ->  one sil five six three one six sil one one five <EOS> (one sil five six three one six sil one one five)\n",
      "1740000  13% ( 19m 30s)   0.043   |   0.01: 1990 ->  one nine nine o <EOS> (one nine nine o)\n",
      "1750000  15% ( 21m 51s)   0.062   |   0.00: 11, ->  eleven <EOS> (eleven)\n",
      "Accuracy: 96.15% (    9615/   10000)\n",
      "Saving: data/models/numbers_gen_2/1750000 (encoder/decoder)\n",
      "1760000  17% ( 24m 58s)   0.030   |   0.00: .153 ->  point one five three <EOS> (point one five three)\n",
      "1770000  18% ( 27m 19s)   0.055   |   0.00: 7% ->  seven percent <EOS> (seven percent)\n",
      "1780000  20% ( 29m 39s)   0.068   |   0.00: $100,000 ->  one hundred thousand dollars <EOS> (one hundred thousand dollars)\n",
      "1790000  22% (  32m 0s)   0.062   |   0.00: 2008 ->  two thousand eight <EOS> (two thousand eight)\n",
      "1800000  23% ( 34m 21s)   0.074   |   0.00: 1st ->  first <EOS> (first)\n",
      "Accuracy: 96.11% (    9611/   10000)\n",
      "Saving: data/models/numbers_gen_2/1800000 (encoder/decoder)\n",
      "1810000  25% ( 37m 28s)   0.052   |   0.00: 348 ->  three hundred forty eight <EOS> (three hundred forty eight)\n",
      "1820000  27% ( 39m 48s)   0.053   |   0.03: 4/2014 ->  four two thousand fourteenths <EOS> (four two thousand fourteenths)\n",
      "1830000  28% (  42m 9s)   0.040   |   0.02: 1634 ->  sixteen thirty four <EOS> (sixteen thirty four)\n",
      "1840000  30% ( 44m 30s)   0.061   |   0.00: $1,000 ->  one thousand dollars <EOS> (one thousand dollars)\n",
      "1850000  32% ( 46m 51s)   0.051   |   0.00: 80% ->  eighty percent <EOS> (eighty percent)\n",
      "Accuracy: 96.51% (    9651/   10000)\n",
      "Saving: data/models/numbers_gen_2/1850000 (encoder/decoder)\n",
      "1860000  33% ( 49m 58s)   0.045   |   0.00: $78,000 ->  seventy eight thousand dollars <EOS> (seventy eight thousand dollars)\n",
      "1870000  35% ( 52m 19s)   0.058   |   0.02: 04318 ->  o four three one eight <EOS> (o four three one eight)\n",
      "1880000  37% ( 54m 41s)   0.049   |   0.00: 001801 ->  o o one eight o one <EOS> (o o one eight o one)\n",
      "1890000  38% (  57m 1s)   0.059   |   0.00: 12 ->  twelve <EOS> (twelve)\n",
      "1900000  40% ( 59m 21s)   0.042   |   0.00: 20th ->  twentieth <EOS> (twentieth)\n",
      "Accuracy: 96.52% (    9652/   10000)\n",
      "Saving: data/models/numbers_gen_2/1900000 (encoder/decoder)\n",
      "1910000  42% ( 62m 29s)   0.075   |   0.00: 76.1/km2 ->  seventy six point one per square kilometers <EOS> (seventy six point one per square kilometers)\n",
      "1920000  43% ( 64m 49s)   0.050   |   0.00: 1975 ->  nineteen seventy five <EOS> (nineteen seventy five)\n",
      "1930000  45% (  67m 9s)   0.047   |   0.00: 12.8% ->  twelve point eight percent <EOS> (twelve point eight percent)\n",
      "1940000  47% ( 69m 29s)   0.050   |   0.00: 2012 ->  twenty twelve <EOS> (twenty twelve)\n",
      "1950000  48% ( 71m 50s)   0.030   |   0.00: 3.11 ->  three point one one <EOS> (three point one one)\n",
      "Accuracy: 96.61% (    9661/   10000)\n",
      "Saving: data/models/numbers_gen_2/1950000 (encoder/decoder)\n",
      "1960000  50% ( 74m 59s)   0.033   |   0.00: 1991 ->  nineteen ninety one <EOS> (nineteen ninety one)\n",
      "1970000  52% ( 77m 20s)   0.047   |   0.00: $50 billion ->  fifty billion dollars <EOS> (fifty billion dollars)\n",
      "1980000  53% ( 79m 42s)   0.033   |   0.00: 1948 ->  nineteen forty eight <EOS> (nineteen forty eight)\n",
      "1990000  55% (  82m 3s)   0.038   |   0.69: 18 14 2 2 44-13 30 ->  one eight sil one four sil two sil four sil four four sil three one sil sil three o (one eight sil one four sil two sil two sil four four sil one three sil three o)\n",
      "2000000  57% ( 84m 24s)   0.044   |   0.00: 3 ->  three <EOS> (three)\n",
      "Accuracy: 96.81% (    9681/   10000)\n",
      "Saving: data/models/numbers_gen_2/2000000 (encoder/decoder)\n",
      "2010000  58% ( 87m 33s)   0.045   |   0.00: 3 ->  three <EOS> (three)\n",
      "2020000  60% ( 89m 53s)   0.057   |   0.00: 3.2 km ->  three point two kilometers <EOS> (three point two kilometers)\n",
      "2030000  62% ( 92m 13s)   0.036   |   0.00: .160 ->  point one six o <EOS> (point one six o)\n",
      "2040000  63% ( 94m 34s)   0.028   |   0.00: 10 million ->  ten million <EOS> (ten million)\n",
      "2050000  65% ( 96m 54s)   0.065   |   0.00: 2nd ->  second <EOS> (second)\n",
      "Accuracy: 96.80% (    9680/   10000)\n",
      "Saving: data/models/numbers_gen_2/2050000 (encoder/decoder)\n",
      "2060000  67% ( 100m 1s)   0.058   |   0.00: 1 ->  one <EOS> (one)\n",
      "2070000  68% (102m 22s)   0.049   |   0.00: 17 January 1917 ->  the seventeenth of january nineteen seventeen <EOS> (the seventeenth of january nineteen seventeen)\n",
      "2080000  70% (104m 43s)   0.033   |   0.00: 0.63% ->  zero point six three percent <EOS> (zero point six three percent)\n",
      "2090000  72% ( 107m 3s)   0.042   |   0.00: 2 ->  two <EOS> (two)\n",
      "2100000  73% (109m 25s)   0.045   |   0.00: March 24, 2009 ->  march twenty fourth two thousand nine <EOS> (march twenty fourth two thousand nine)\n",
      "Accuracy: 97.07% (    9707/   10000)\n",
      "Saving: data/models/numbers_gen_2/2100000 (encoder/decoder)\n",
      "2110000  75% (112m 31s)   0.055   |   0.00: €0.5m ->  zero point five million euros <EOS> (zero point five million euros)\n",
      "2120000  77% (114m 52s)   0.042   |   0.00: 1.4% ->  one point four percent <EOS> (one point four percent)\n",
      "2130000  78% (117m 13s)   0.042   |   0.00: 90th ->  ninetieth <EOS> (ninetieth)\n",
      "2140000  80% (119m 32s)   0.086   |   0.00: .4 ->  point four <EOS> (point four)\n",
      "2150000  82% (121m 53s)   0.036   |   0.00: 52.79 ->  fifty two point seven nine <EOS> (fifty two point seven nine)\n",
      "Accuracy: 96.94% (    9694/   10000)\n",
      "Saving: data/models/numbers_gen_2/2150000 (encoder/decoder)\n",
      "2160000  83% ( 125m 1s)   0.036   |   0.01: 2010 ->  two thousand ten <EOS> (two thousand ten)\n",
      "2170000  85% (127m 22s)   0.046   |   0.00: 1816 ->  eighteen sixteen <EOS> (eighteen sixteen)\n",
      "2180000  87% (129m 44s)   0.046   |   0.00: 9.45% ->  nine point four five percent <EOS> (nine point four five percent)\n",
      "2190000  88% ( 132m 6s)   0.036   |   0.00: .5 ->  point five <EOS> (point five)\n",
      "2200000  90% (134m 27s)   0.069   |   0.02: 1837/78 ->  one thousand eight hundred thirty seven seventy eighths <EOS> (one thousand eight hundred thirty seven seventy eighths)\n",
      "Accuracy: 96.90% (    9690/   10000)\n",
      "Saving: data/models/numbers_gen_2/2200000 (encoder/decoder)\n",
      "2210000  92% (137m 36s)   0.044   |   0.00: 4th ->  fourth <EOS> (fourth)\n",
      "2220000  93% (139m 58s)   0.058   |   0.00: 82.9% ->  eighty two point nine percent <EOS> (eighty two point nine percent)\n",
      "2230000  95% (142m 19s)   0.056   |   0.00: 3 ->  three <EOS> (three)\n",
      "2240000  97% (144m 40s)   0.033   |   0.00: 10 ->  ten <EOS> (ten)\n",
      "2250000  98% ( 147m 1s)   0.027   |   0.00: 3 August 1992 ->  the third of august nineteen ninety two <EOS> (the third of august nineteen ninety two)\n",
      "Accuracy: 97.39% (    9739/   10000)\n",
      "Saving: data/models/numbers_gen_2/2250000 (encoder/decoder)\n",
      "2260000 100% ( 150m 7s)   0.051   |   0.00: 2.1 ->  two point one <EOS> (two point one)\n"
     ]
    }
   ],
   "source": [
    "train_iterations(n_iters=600000, teacher_forcing_ratio=0, lr=0.0001)"
   ]
  },
  {
   "cell_type": "code",
   "execution_count": 78,
   "metadata": {},
   "outputs": [
    {
     "name": "stdout",
     "output_type": "stream",
     "text": [
      "Accuracy: 100.00% (      20/      20)\n"
     ]
    }
   ],
   "source": [
    "test_model_accuracy(20, print_wrongs=True)"
   ]
  },
  {
   "cell_type": "code",
   "execution_count": 79,
   "metadata": {},
   "outputs": [
    {
     "name": "stdout",
     "output_type": "stream",
     "text": [
      "2270000   2% (  2m 22s)   0.047   |   0.00: 1,500th ->  one thousand five hundredth <EOS> (one thousand five hundredth)\n",
      "2280000   3% (  4m 43s)   0.030   |   0.00: 1966 ->  nineteen sixty six <EOS> (nineteen sixty six)\n",
      "2290000   5% (   7m 4s)   0.056   |   0.00: (2)4 ->  two sil four <EOS> (two sil four)\n",
      "2300000   7% (  9m 25s)   0.059   |   0.00: 68.209 ->  sixty eight point two o nine <EOS> (sixty eight point two o nine)\n",
      "Accuracy: 96.92% (    9692/   10000)\n",
      "Saving: data/models/numbers_gen_2/2300000 (encoder/decoder)\n",
      "2310000   8% ( 12m 33s)   0.056   |   0.00: 153.106 km² ->  one hundred fifty three point one o six square kilometers <EOS> (one hundred fifty three point one o six square kilometers)\n",
      "2320000  10% ( 14m 55s)   0.041   |   0.02: 75 ->  seven five <EOS> (seven five)\n",
      "2330000  12% ( 17m 15s)   0.031   |   0.00: 37 ->  thirty seven <EOS> (thirty seven)\n",
      "2340000  13% ( 19m 36s)   0.037   |   0.00: 17.2 ->  seventeen point two <EOS> (seventeen point two)\n",
      "2350000  15% ( 21m 58s)   0.034   |   0.00: 1952 ->  nineteen fifty two <EOS> (nineteen fifty two)\n",
      "Accuracy: 97.05% (    9705/   10000)\n",
      "Saving: data/models/numbers_gen_2/2350000 (encoder/decoder)\n",
      "2360000  17% (  25m 6s)   0.033   |   0.00: 124 ->  one hundred twenty four <EOS> (one hundred twenty four)\n",
      "2370000  18% ( 27m 28s)   0.049   |   0.00: 672 ->  six hundred seventy two <EOS> (six hundred seventy two)\n",
      "2380000  20% ( 29m 49s)   0.052   |   0.00: .540 ->  point five four o <EOS> (point five four o)\n",
      "2390000  22% (  32m 9s)   0.030   |   0.00: 0.4/km² ->  zero point four per square kilometers <EOS> (zero point four per square kilometers)\n",
      "2400000  23% ( 34m 31s)   0.088   |   0.00: £1000 ->  one thousand pounds <EOS> (one thousand pounds)\n",
      "Accuracy: 97.35% (    9735/   10000)\n",
      "Saving: data/models/numbers_gen_2/2400000 (encoder/decoder)\n",
      "2410000  25% ( 37m 38s)   0.021   |   0.00: 43rd ->  forty third <EOS> (forty third)\n",
      "2420000  27% ( 39m 59s)   0.063   |   0.01: $30,346 ->  thirty thousand three hundred forty six dollars <EOS> (thirty thousand three hundred forty six dollars)\n",
      "2430000  28% ( 42m 19s)   0.020   |   0.01: October 6, 1945 ->  october sixth nineteen forty five <EOS> (october sixth nineteen forty five)\n",
      "2440000  30% ( 44m 40s)   0.035   |   0.00: 121 ->  one hundred twenty one <EOS> (one hundred twenty one)\n",
      "2450000  32% (  47m 1s)   0.072   |   0.00: February 14, 2005 ->  february fourteenth two thousand five <EOS> (february fourteenth two thousand five)\n",
      "Accuracy: 97.53% (    9753/   10000)\n",
      "Saving: data/models/numbers_gen_2/2450000 (encoder/decoder)\n",
      "2460000  33% (  50m 9s)   0.056   |   0.00: XI ->  the eleventh <EOS> (the eleventh)\n",
      "2470000  35% ( 52m 30s)   0.043   |   0.00: 250.2 ->  two hundred fifty point two <EOS> (two hundred fifty point two)\n",
      "2480000  37% ( 54m 50s)   0.031   |   0.00: 85.3 ->  eighty five point three <EOS> (eighty five point three)\n",
      "2490000  38% (  57m 9s)   0.060   |   0.00: $34,583 ->  thirty four thousand five hundred eighty three dollars <EOS> (thirty four thousand five hundred eighty three dollars)\n",
      "2500000  40% ( 59m 31s)   0.039   |   0.00: 5% ->  five percent <EOS> (five percent)\n",
      "Accuracy: 97.49% (    9749/   10000)\n",
      "Saving: data/models/numbers_gen_2/2500000 (encoder/decoder)\n",
      "2510000  42% ( 62m 39s)   0.044   |   0.00: 47.7% ->  forty seven point seven percent <EOS> (forty seven point seven percent)\n",
      "2520000  43% (  65m 1s)   0.029   |   1.08: 1956 ->  nineteen fifty six <EOS> (one thousand nine hundred fifty six)\n",
      "2530000  45% ( 67m 22s)   0.053   |   0.02: 0-9542029-2-9 ->  o sil nine five four two o two nine sil two sil nine <EOS> (o sil nine five four two o two nine sil two sil nine)\n",
      "2540000  47% ( 69m 43s)   0.046   |   0.00: 5 million ->  five million <EOS> (five million)\n",
      "2550000  48% (  72m 4s)   0.050   |   0.14: 277 333 8 ->  two seven seven sil three three three sil eight <EOS> (two seven seven sil three three three sil eight)\n",
      "Accuracy: 97.41% (    9741/   10000)\n",
      "Saving: data/models/numbers_gen_2/2550000 (encoder/decoder)\n",
      "2560000  50% ( 75m 11s)   0.065   |   0.00: 10 ->  ten <EOS> (ten)\n",
      "2570000  52% ( 77m 33s)   0.043   |   0.00: December 2000 ->  december two thousand <EOS> (december two thousand)\n",
      "2580000  53% ( 79m 55s)   0.047   |   0.00: 05:00 ->  five o'clock <EOS> (five o'clock)\n",
      "2590000  55% ( 82m 15s)   0.028   |   0.00: 217 ->  two hundred seventeen <EOS> (two hundred seventeen)\n",
      "2600000  57% ( 84m 36s)   0.023   |   0.01: 2013 ->  twenty thirteen <EOS> (twenty thirteen)\n",
      "Accuracy: 97.56% (    9756/   10000)\n",
      "Saving: data/models/numbers_gen_2/2600000 (encoder/decoder)\n",
      "2610000  58% ( 87m 43s)   0.035   |   0.00: 2.1 ->  two point one <EOS> (two point one)\n",
      "2620000  60% (  90m 4s)   0.038   |   0.00: $96.7 million ->  ninety six point seven million dollars <EOS> (ninety six point seven million dollars)\n",
      "2630000  62% ( 92m 25s)   0.033   |   0.00: 38.6 ->  thirty eight point six <EOS> (thirty eight point six)\n",
      "2640000  63% ( 94m 46s)   0.064   |   0.00: 3 ->  three <EOS> (three)\n",
      "2650000  65% (  97m 7s)   0.037   |   0.00: 18,000m2 ->  eighteen thousand square meters <EOS> (eighteen thousand square meters)\n",
      "Accuracy: 97.81% (    9781/   10000)\n",
      "Saving: data/models/numbers_gen_2/2650000 (encoder/decoder)\n",
      "2660000  67% (100m 15s)   0.036   |   0.00: 19 January 1942 ->  the nineteenth of january nineteen forty two <EOS> (the nineteenth of january nineteen forty two)\n",
      "2670000  68% (102m 35s)   0.033   |   0.00: 985.1/km² ->  nine hundred eighty five point one per square kilometers <EOS> (nine hundred eighty five point one per square kilometers)\n",
      "2680000  70% (104m 56s)   0.028   |   0.06: 1913 ->  nineteen thirteen <EOS> (nineteen thirteen)\n",
      "2690000  72% (107m 18s)   0.039   |   0.00: 7 April 2010 ->  the seventh of april twenty ten <EOS> (the seventh of april twenty ten)\n",
      "2700000  73% (109m 41s)   0.043   |   0.00: 004998 ->  o o four nine nine eight <EOS> (o o four nine nine eight)\n",
      "Accuracy: 97.72% (    9772/   10000)\n",
      "Saving: data/models/numbers_gen_2/2700000 (encoder/decoder)\n",
      "2710000  75% (112m 49s)   0.037   |   0.00: 1st ->  first <EOS> (first)\n",
      "2720000  77% (115m 10s)   0.047   |   0.00: 9 September 2012 ->  the ninth of september twenty twelve <EOS> (the ninth of september twenty twelve)\n",
      "2730000  78% (117m 31s)   0.048   |   0.02: 2012 ->  two o one two <EOS> (two o one two)\n",
      "2740000  80% (119m 53s)   0.041   |   0.00: 3.04 ->  three point o four <EOS> (three point o four)\n",
      "2750000  82% (122m 14s)   0.042   |   0.00: 277% ->  two hundred seventy seven percent <EOS> (two hundred seventy seven percent)\n",
      "Accuracy: 97.55% (    9755/   10000)\n",
      "Saving: data/models/numbers_gen_2/2750000 (encoder/decoder)\n",
      "2760000  83% (125m 21s)   0.043   |   0.00: 25 September 2009 ->  the twenty fifth of september two thousand nine <EOS> (the twenty fifth of september two thousand nine)\n",
      "2770000  85% (127m 43s)   0.031   |   0.00: 8th ->  eighth <EOS> (eighth)\n",
      "2780000  87% ( 130m 4s)   0.044   |   0.00: 404.1 ->  four hundred four point one <EOS> (four hundred four point one)\n",
      "2790000  88% (132m 25s)   0.048   |   0.00: 800m ->  eight hundred meters <EOS> (eight hundred meters)\n",
      "2800000  90% (134m 46s)   0.042   |   0.34: IV ->  the fourth <EOS> (the fourth)\n",
      "Accuracy: 97.43% (    9743/   10000)\n",
      "Saving: data/models/numbers_gen_2/2800000 (encoder/decoder)\n",
      "2810000  92% (137m 54s)   0.034   |   0.00: 51% ->  fifty one percent <EOS> (fifty one percent)\n",
      "2820000  93% (140m 14s)   0.052   |   0.00: 1828 ->  eighteen twenty eight <EOS> (eighteen twenty eight)\n",
      "2830000  95% (142m 35s)   0.035   |   0.00: 12 Dec 2011 ->  the twelfth of december twenty eleven <EOS> (the twelfth of december twenty eleven)\n",
      "2840000  97% (144m 55s)   0.039   |   0.00: .1 ->  point one <EOS> (point one)\n",
      "2850000  98% (147m 16s)   0.037   |   0.00: 3.41 ->  three point four one <EOS> (three point four one)\n",
      "Accuracy: 97.49% (    9749/   10000)\n",
      "Saving: data/models/numbers_gen_2/2850000 (encoder/decoder)\n",
      "2860000 100% (150m 24s)   0.054   |   0.00: -287 ->  minus two hundred eighty seven <EOS> (minus two hundred eighty seven)\n"
     ]
    }
   ],
   "source": [
    "train_iterations(n_iters=600000, teacher_forcing_ratio=0, lr=0.0001)"
   ]
  },
  {
   "cell_type": "code",
   "execution_count": 80,
   "metadata": {},
   "outputs": [
    {
     "name": "stdout",
     "output_type": "stream",
     "text": [
      "Accuracy: 100.00% (      20/      20)\n"
     ]
    }
   ],
   "source": [
    "test_model_accuracy(20, print_wrongs=True)"
   ]
  },
  {
   "cell_type": "code",
   "execution_count": 81,
   "metadata": {},
   "outputs": [
    {
     "name": "stdout",
     "output_type": "stream",
     "text": [
      "2870000   2% (  2m 21s)   0.051   |   0.00: 48.9% ->  forty eight point nine percent <EOS> (forty eight point nine percent)\n",
      "2880000   3% (  4m 42s)   0.036   |   0.00: 7/26 ->  seven twenty sixths <EOS> (seven twenty sixths)\n",
      "2890000   5% (   7m 3s)   0.046   |   0.00: 1881 ->  eighteen eighty one <EOS> (eighteen eighty one)\n",
      "2900000   7% (  9m 24s)   0.037   |   0.00: 3.8 ->  three point eight <EOS> (three point eight)\n",
      "Accuracy: 98.01% (    9801/   10000)\n",
      "Saving: data/models/numbers_gen_2/2900000 (encoder/decoder)\n",
      "2910000   8% ( 12m 32s)   0.046   |   0.00: 12 ->  twelve <EOS> (twelve)\n",
      "2920000  10% ( 14m 52s)   0.033   |   0.00: I ->  the first <EOS> (the first)\n",
      "2930000  12% ( 17m 14s)   0.044   |   0.00: 227th ->  two hundred twenty seventh <EOS> (two hundred twenty seventh)\n",
      "2940000  13% ( 19m 34s)   0.046   |   0.00: 1340.6 ->  one thousand three hundred forty point six <EOS> (one thousand three hundred forty point six)\n",
      "2950000  15% ( 21m 55s)   0.028   |   0.00: 8 April 2006 ->  the eighth of april two thousand six <EOS> (the eighth of april two thousand six)\n",
      "Accuracy: 97.80% (    9780/   10000)\n",
      "Saving: data/models/numbers_gen_2/2950000 (encoder/decoder)\n",
      "2960000  17% (  25m 3s)   0.035   |   0.00: 3.2 km ->  three point two kilometers <EOS> (three point two kilometers)\n",
      "2970000  18% ( 27m 24s)   0.034   |   0.00: 12.0 ->  twelve point zero <EOS> (twelve point zero)\n",
      "2980000  20% ( 29m 45s)   0.045   |   0.00: 42% ->  forty two percent <EOS> (forty two percent)\n",
      "2990000  22% (  32m 5s)   0.040   |   0.00: 2001 ->  two thousand one <EOS> (two thousand one)\n",
      "3000000  23% ( 34m 26s)   0.023   |   0.00: $1.5 million ->  one point five million dollars <EOS> (one point five million dollars)\n",
      "Accuracy: 98.11% (    9811/   10000)\n",
      "Saving: data/models/numbers_gen_2/3000000 (encoder/decoder)\n",
      "3010000  25% ( 37m 34s)   0.034   |   0.01: 2008 ->  two thousand eight <EOS> (two thousand eight)\n",
      "3020000  27% ( 39m 56s)   0.030   |   0.00: 130.4/km² ->  one hundred thirty point four per square kilometers <EOS> (one hundred thirty point four per square kilometers)\n",
      "3030000  28% ( 42m 16s)   0.033   |   0.00: 7 ->  seven <EOS> (seven)\n",
      "3040000  30% ( 44m 37s)   0.050   |   0.00: 76 m ->  seventy six meters <EOS> (seventy six meters)\n",
      "3050000  32% (  47m 0s)   0.029   |   0.00: 16th ->  sixteenth <EOS> (sixteenth)\n",
      "Accuracy: 97.84% (    9784/   10000)\n",
      "Saving: data/models/numbers_gen_2/3050000 (encoder/decoder)\n",
      "3060000  33% (  50m 8s)   0.016   |   0.00: 3 million ->  three million <EOS> (three million)\n",
      "3070000  35% ( 52m 29s)   0.042   |   0.00: .348 ->  point three four eight <EOS> (point three four eight)\n",
      "3080000  37% ( 54m 51s)   0.030   |   0.00: 1st ->  first <EOS> (first)\n",
      "3090000  38% ( 57m 12s)   0.040   |   0.00: 8247 ->  eight two four seven <EOS> (eight two four seven)\n",
      "3100000  40% ( 59m 33s)   0.023   |   0.00: 06 ->  o six <EOS> (o six)\n",
      "Accuracy: 97.96% (    9796/   10000)\n",
      "Saving: data/models/numbers_gen_2/3100000 (encoder/decoder)\n",
      "3110000  42% ( 62m 40s)   0.035   |   0.00: 2012 ->  twenty twelve <EOS> (twenty twelve)\n",
      "3120000  43% (  65m 1s)   0.026   |   0.00: 1982 ->  nineteen eighty two <EOS> (nineteen eighty two)\n",
      "3130000  45% ( 67m 23s)   0.021   |   0.00: 1825 ->  eighteen twenty five <EOS> (eighteen twenty five)\n",
      "3140000  47% ( 69m 44s)   0.032   |   0.04: 07 ->  o seven <EOS> (o seven)\n",
      "3150000  48% (  72m 5s)   0.031   |   0.00: 21st ->  twenty first <EOS> (twenty first)\n",
      "Accuracy: 97.97% (    9797/   10000)\n",
      "Saving: data/models/numbers_gen_2/3150000 (encoder/decoder)\n",
      "3160000  50% ( 75m 13s)   0.030   |   0.01: 1-57488-594-4 ->  one sil five seven four eight eight sil five nine four sil four <EOS> (one sil five seven four eight eight sil five nine four sil four)\n",
      "3170000  52% ( 77m 34s)   0.048   |   0.00: 5.5 ->  five point five <EOS> (five point five)\n",
      "3180000  53% ( 79m 56s)   0.040   |   0.00: 16.5 ->  sixteen point five <EOS> (sixteen point five)\n",
      "3190000  55% ( 82m 17s)   0.024   |   0.00: 1946 ->  nineteen forty six <EOS> (nineteen forty six)\n",
      "3200000  57% ( 84m 38s)   0.049   |   0.00: 1942 ->  nineteen forty two <EOS> (nineteen forty two)\n",
      "Accuracy: 97.70% (    9770/   10000)\n",
      "Saving: data/models/numbers_gen_2/3200000 (encoder/decoder)\n",
      "3210000  58% ( 87m 47s)   0.042   |   0.00: 1970 ->  nineteen seventy <EOS> (nineteen seventy)\n",
      "3220000  60% (  90m 8s)   0.038   |   0.00: 1921 ->  nineteen twenty one <EOS> (nineteen twenty one)\n",
      "3230000  62% ( 92m 29s)   0.022   |   0.00: 8 ->  eight <EOS> (eight)\n",
      "3240000  63% ( 94m 51s)   0.042   |   0.00: $50 billion ->  fifty billion dollars <EOS> (fifty billion dollars)\n",
      "3250000  65% ( 97m 12s)   0.035   |   0.01: 1-58394-005-7 ->  one sil five eight three nine four sil o o five sil seven <EOS> (one sil five eight three nine four sil o o five sil seven)\n",
      "Accuracy: 97.99% (    9799/   10000)\n",
      "Saving: data/models/numbers_gen_2/3250000 (encoder/decoder)\n",
      "3260000  67% (100m 20s)   0.032   |   0.00: $8.6 million ->  eight point six million dollars <EOS> (eight point six million dollars)\n",
      "3270000  68% (102m 42s)   0.023   |   0.00: 33rd ->  thirty third <EOS> (thirty third)\n",
      "3280000  70% ( 105m 3s)   0.047   |   0.00: 1981 ->  nineteen eighty one <EOS> (nineteen eighty one)\n",
      "3290000  72% (107m 24s)   0.033   |   0.03: 951-99967-0-2 ->  nine five one sil nine nine nine six seven sil o sil two <EOS> (nine five one sil nine nine nine six seven sil o sil two)\n",
      "3300000  73% (109m 45s)   0.038   |   0.00: 9% ->  nine percent <EOS> (nine percent)\n",
      "Accuracy: 97.72% (    9772/   10000)\n",
      "Saving: data/models/numbers_gen_2/3300000 (encoder/decoder)\n",
      "3310000  75% (112m 53s)   0.023   |   0.00: $2.1 billion ->  two point one billion dollars <EOS> (two point one billion dollars)\n",
      "3320000  77% (115m 16s)   0.036   |   0.00: 0006 ->  o o o six <EOS> (o o o six)\n",
      "3330000  78% (117m 37s)   0.039   |   0.00: September 29, 2013 ->  september twenty ninth twenty thirteen <EOS> (september twenty ninth twenty thirteen)\n",
      "3340000  80% ( 120m 7s)   0.020   |   0.00: 100th ->  one hundredth <EOS> (one hundredth)\n",
      "3350000  82% (122m 37s)   0.022   |   0.00: 11g ->  eleven grams <EOS> (eleven grams)\n",
      "Accuracy: 98.12% (    9812/   10000)\n",
      "Saving: data/models/numbers_gen_2/3350000 (encoder/decoder)\n",
      "3360000  83% (125m 53s)   0.031   |   0.02: 2012 ->  twenty twelve <EOS> (twenty twelve)\n",
      "3370000  85% (128m 22s)   0.038   |   0.00: 2,550 ->  two thousand five hundred fifty <EOS> (two thousand five hundred fifty)\n",
      "3380000  87% (130m 55s)   0.019   |   0.00: 24.05 ->  twenty four point o five <EOS> (twenty four point o five)\n",
      "3390000  88% (133m 27s)   0.022   |   0.00: 3.1925 ->  three point one nine two five <EOS> (three point one nine two five)\n",
      "3400000  90% (135m 57s)   0.031   |   0.00: 0-07-237716 ->  o sil o seven sil two three seven seven one six <EOS> (o sil o seven sil two three seven seven one six)\n",
      "Accuracy: 97.98% (    9798/   10000)\n",
      "Saving: data/models/numbers_gen_2/3400000 (encoder/decoder)\n",
      "3410000  92% (139m 19s)   0.024   |   0.00: 2nd ->  second <EOS> (second)\n",
      "3420000  93% (141m 55s)   0.022   |   0.00: 19 March 2014 ->  the nineteenth of march twenty fourteen <EOS> (the nineteenth of march twenty fourteen)\n",
      "3430000  95% (144m 27s)   0.016   |   0.00: 53 ->  fifty three <EOS> (fifty three)\n",
      "3440000  97% (146m 55s)   0.043   |   0.00: 1.6 ->  one point six <EOS> (one point six)\n",
      "3450000  98% (149m 23s)   0.034   |   0.00: 17 August 2008 ->  the seventeenth of august two thousand eight <EOS> (the seventeenth of august two thousand eight)\n",
      "Accuracy: 98.02% (    9802/   10000)\n",
      "Saving: data/models/numbers_gen_2/3450000 (encoder/decoder)\n",
      "3460000 100% (152m 41s)   0.029   |   0.36: 0-572-01059-1 ->  o sil five seven two sil o one five o nine sil one <EOS> (o sil five seven two sil o one o five nine sil one)\n"
     ]
    }
   ],
   "source": [
    "train_iterations(n_iters=600000, teacher_forcing_ratio=0, lr=0.0001)"
   ]
  },
  {
   "cell_type": "code",
   "execution_count": null,
   "metadata": {
    "collapsed": true
   },
   "outputs": [],
   "source": []
  },
  {
   "cell_type": "code",
   "execution_count": 117,
   "metadata": {},
   "outputs": [
    {
     "name": "stdout",
     "output_type": "stream",
     "text": [
      "02                   -> o two \n",
      "                     != two\n",
      "16                   -> sixteen \n",
      "                     != one six\n",
      "1-4012-2733-3        -> one sil four o one two sil two seven three three sil \n",
      "                     != one sil four o one two sil two seven three three sil three\n",
      "VII's                -> the sil \n",
      "                     != the seventh's\n",
      "14 3 2 9 15-26 11    -> one four sil three sil two sil nine sil two sil five sil two one one one \n",
      "                     != one four sil three sil two sil nine sil one five sil two six sil one one\n",
      "CRC2142              -> two thousand one hundred forty two thousand four \n",
      "                     != two thousand one hundred forty two costa rican colons\n",
      "367                  -> three hundred sixty seven \n",
      "                     != three six seven\n",
      "1956                 -> nineteen fifty six six \n",
      "                     != one nine five six\n",
      "31.70 USD            -> thirty one united states dollars and seventy \n",
      "                     != thirty one united states dollars and seventy cents\n",
      "1221                 -> one two two one \n",
      "                     != twelve twenty one\n",
      "1789-1805 (1988) 2   -> one seven eight nine sil one o eight five one nine eight sil two \n",
      "                     != one seven eight nine sil one eight o five sil one nine eight eight sil two\n",
      "0149206314525202     -> o one four nine two o six one three five two two two two two \n",
      "                     != o one four nine two o six three one four five two five two o two\n",
      "80019                -> eighty thousand o \n",
      "                     != eighty thousand nineteen\n",
      "22 13 2 7 59-42 283  -> two two sil one three sil two sil four sil seven five sil two eight sil three three \n",
      "                     != two two sil one three sil two sil seven sil five nine sil four two sil two eight three\n",
      "1854                 -> eighteen fifty five four \n",
      "                     != one eight five four\n",
      "3-7637-4792-3        -> three sil seven six three seven sil four seven nine two sil four \n",
      "                     != three sil seven six three seven sil four seven nine two sil three\n",
      "1976                 -> one nine seven six \n",
      "                     != nineteen seventy six\n",
      "2006                 -> two o o six \n",
      "                     != two thousand six\n",
      "101                  -> one hundred one \n",
      "                     != one o one\n",
      "22 16 2 4 68 28 504  -> two two sil one six sil two sil four sil eight two sil eight o sil o five \n",
      "                     != two two sil one six sil two sil four sil six eight sil two eight sil five o four\n",
      "2,561,490            -> two million five hundred sixty one thousand four hundred ninety ninety \n",
      "                     != two million five hundred sixty one thousand four hundred ninety\n",
      "22 16 3 3 59-22 35   -> two two sil one six sil three sil three sil five nine two sil two three five \n",
      "                     != two two sil one six sil three sil three sil five nine sil two two sil three five\n",
      "Accuracy: 97.80% (     978/    1000)\n"
     ]
    }
   ],
   "source": [
    "test_model_accuracy(1000, print_wrongs=True)"
   ]
  },
  {
   "cell_type": "code",
   "execution_count": null,
   "metadata": {
    "collapsed": true
   },
   "outputs": [],
   "source": []
  },
  {
   "cell_type": "code",
   "execution_count": null,
   "metadata": {
    "collapsed": true
   },
   "outputs": [],
   "source": []
  },
  {
   "cell_type": "code",
   "execution_count": 116,
   "metadata": {},
   "outputs": [
    {
     "data": {
      "text/html": [
       "<div>\n",
       "<style>\n",
       "    .dataframe thead tr:only-child th {\n",
       "        text-align: right;\n",
       "    }\n",
       "\n",
       "    .dataframe thead th {\n",
       "        text-align: left;\n",
       "    }\n",
       "\n",
       "    .dataframe tbody tr th {\n",
       "        vertical-align: top;\n",
       "    }\n",
       "</style>\n",
       "<table border=\"1\" class=\"dataframe\">\n",
       "  <thead>\n",
       "    <tr style=\"text-align: right;\">\n",
       "      <th></th>\n",
       "      <th>sentence_id</th>\n",
       "      <th>token_id</th>\n",
       "      <th>class</th>\n",
       "      <th>before</th>\n",
       "      <th>after</th>\n",
       "    </tr>\n",
       "  </thead>\n",
       "  <tbody>\n",
       "    <tr>\n",
       "      <th>9216905</th>\n",
       "      <td>701386</td>\n",
       "      <td>0</td>\n",
       "      <td>PLAIN</td>\n",
       "      <td>South</td>\n",
       "      <td>South</td>\n",
       "    </tr>\n",
       "    <tr>\n",
       "      <th>9216906</th>\n",
       "      <td>701386</td>\n",
       "      <td>1</td>\n",
       "      <td>PLAIN</td>\n",
       "      <td>Africa</td>\n",
       "      <td>Africa</td>\n",
       "    </tr>\n",
       "    <tr>\n",
       "      <th>9216907</th>\n",
       "      <td>701386</td>\n",
       "      <td>2</td>\n",
       "      <td>PLAIN</td>\n",
       "      <td>the</td>\n",
       "      <td>the</td>\n",
       "    </tr>\n",
       "    <tr>\n",
       "      <th>9216908</th>\n",
       "      <td>701386</td>\n",
       "      <td>3</td>\n",
       "      <td>PLAIN</td>\n",
       "      <td>focus</td>\n",
       "      <td>focus</td>\n",
       "    </tr>\n",
       "    <tr>\n",
       "      <th>9216909</th>\n",
       "      <td>701386</td>\n",
       "      <td>4</td>\n",
       "      <td>PLAIN</td>\n",
       "      <td>at</td>\n",
       "      <td>at</td>\n",
       "    </tr>\n",
       "    <tr>\n",
       "      <th>9216910</th>\n",
       "      <td>701386</td>\n",
       "      <td>5</td>\n",
       "      <td>PLAIN</td>\n",
       "      <td>London</td>\n",
       "      <td>London</td>\n",
       "    </tr>\n",
       "    <tr>\n",
       "      <th>9216911</th>\n",
       "      <td>701386</td>\n",
       "      <td>6</td>\n",
       "      <td>PLAIN</td>\n",
       "      <td>Book</td>\n",
       "      <td>Book</td>\n",
       "    </tr>\n",
       "    <tr>\n",
       "      <th>9216912</th>\n",
       "      <td>701386</td>\n",
       "      <td>7</td>\n",
       "      <td>PLAIN</td>\n",
       "      <td>Fair</td>\n",
       "      <td>Fair</td>\n",
       "    </tr>\n",
       "    <tr>\n",
       "      <th>9216913</th>\n",
       "      <td>701386</td>\n",
       "      <td>8</td>\n",
       "      <td>PUNCT</td>\n",
       "      <td>,</td>\n",
       "      <td>,</td>\n",
       "    </tr>\n",
       "    <tr>\n",
       "      <th>9216914</th>\n",
       "      <td>701386</td>\n",
       "      <td>9</td>\n",
       "      <td>DATE</td>\n",
       "      <td>8 April</td>\n",
       "      <td>the eighth of april</td>\n",
       "    </tr>\n",
       "    <tr>\n",
       "      <th>9216915</th>\n",
       "      <td>701386</td>\n",
       "      <td>10</td>\n",
       "      <td>DIGIT</td>\n",
       "      <td>2010</td>\n",
       "      <td>two o one o</td>\n",
       "    </tr>\n",
       "    <tr>\n",
       "      <th>9216916</th>\n",
       "      <td>701386</td>\n",
       "      <td>11</td>\n",
       "      <td>LETTERS</td>\n",
       "      <td>CISA</td>\n",
       "      <td>c i s a</td>\n",
       "    </tr>\n",
       "    <tr>\n",
       "      <th>9216917</th>\n",
       "      <td>701386</td>\n",
       "      <td>12</td>\n",
       "      <td>PLAIN</td>\n",
       "      <td>Literary</td>\n",
       "      <td>Literary</td>\n",
       "    </tr>\n",
       "    <tr>\n",
       "      <th>9216918</th>\n",
       "      <td>701386</td>\n",
       "      <td>13</td>\n",
       "      <td>PLAIN</td>\n",
       "      <td>FestivalMike</td>\n",
       "      <td>FestivalMike</td>\n",
       "    </tr>\n",
       "    <tr>\n",
       "      <th>9216919</th>\n",
       "      <td>701386</td>\n",
       "      <td>14</td>\n",
       "      <td>PLAIN</td>\n",
       "      <td>Nicol</td>\n",
       "      <td>Nicol</td>\n",
       "    </tr>\n",
       "    <tr>\n",
       "      <th>9216920</th>\n",
       "      <td>701386</td>\n",
       "      <td>15</td>\n",
       "      <td>PUNCT</td>\n",
       "      <td>,</td>\n",
       "      <td>,</td>\n",
       "    </tr>\n",
       "    <tr>\n",
       "      <th>9216921</th>\n",
       "      <td>701386</td>\n",
       "      <td>16</td>\n",
       "      <td>PLAIN</td>\n",
       "      <td>reviewing</td>\n",
       "      <td>reviewing</td>\n",
       "    </tr>\n",
       "    <tr>\n",
       "      <th>9216922</th>\n",
       "      <td>701386</td>\n",
       "      <td>17</td>\n",
       "      <td>PLAIN</td>\n",
       "      <td>the</td>\n",
       "      <td>the</td>\n",
       "    </tr>\n",
       "    <tr>\n",
       "      <th>9216923</th>\n",
       "      <td>701386</td>\n",
       "      <td>18</td>\n",
       "      <td>PLAIN</td>\n",
       "      <td>novel</td>\n",
       "      <td>novel</td>\n",
       "    </tr>\n",
       "    <tr>\n",
       "      <th>9216924</th>\n",
       "      <td>701386</td>\n",
       "      <td>19</td>\n",
       "      <td>PLAIN</td>\n",
       "      <td>in</td>\n",
       "      <td>in</td>\n",
       "    </tr>\n",
       "    <tr>\n",
       "      <th>9216925</th>\n",
       "      <td>701386</td>\n",
       "      <td>20</td>\n",
       "      <td>PLAIN</td>\n",
       "      <td>Crime</td>\n",
       "      <td>Crime</td>\n",
       "    </tr>\n",
       "    <tr>\n",
       "      <th>9216926</th>\n",
       "      <td>701386</td>\n",
       "      <td>21</td>\n",
       "      <td>PLAIN</td>\n",
       "      <td>Beat</td>\n",
       "      <td>Beat</td>\n",
       "    </tr>\n",
       "    <tr>\n",
       "      <th>9216927</th>\n",
       "      <td>701386</td>\n",
       "      <td>22</td>\n",
       "      <td>PUNCT</td>\n",
       "      <td>.</td>\n",
       "      <td>.</td>\n",
       "    </tr>\n",
       "  </tbody>\n",
       "</table>\n",
       "</div>"
      ],
      "text/plain": [
       "         sentence_id  token_id    class        before                after\n",
       "9216905       701386         0    PLAIN         South                South\n",
       "9216906       701386         1    PLAIN        Africa               Africa\n",
       "9216907       701386         2    PLAIN           the                  the\n",
       "9216908       701386         3    PLAIN         focus                focus\n",
       "9216909       701386         4    PLAIN            at                   at\n",
       "9216910       701386         5    PLAIN        London               London\n",
       "9216911       701386         6    PLAIN          Book                 Book\n",
       "9216912       701386         7    PLAIN          Fair                 Fair\n",
       "9216913       701386         8    PUNCT             ,                    ,\n",
       "9216914       701386         9     DATE       8 April  the eighth of april\n",
       "9216915       701386        10    DIGIT          2010          two o one o\n",
       "9216916       701386        11  LETTERS          CISA              c i s a\n",
       "9216917       701386        12    PLAIN      Literary             Literary\n",
       "9216918       701386        13    PLAIN  FestivalMike         FestivalMike\n",
       "9216919       701386        14    PLAIN         Nicol                Nicol\n",
       "9216920       701386        15    PUNCT             ,                    ,\n",
       "9216921       701386        16    PLAIN     reviewing            reviewing\n",
       "9216922       701386        17    PLAIN           the                  the\n",
       "9216923       701386        18    PLAIN         novel                novel\n",
       "9216924       701386        19    PLAIN            in                   in\n",
       "9216925       701386        20    PLAIN         Crime                Crime\n",
       "9216926       701386        21    PLAIN          Beat                 Beat\n",
       "9216927       701386        22    PUNCT             .                    ."
      ]
     },
     "execution_count": 116,
     "metadata": {},
     "output_type": "execute_result"
    }
   ],
   "source": [
    "all_data[all_data['sentence_id'].isin(all_data[all_data['after'] == \"two o one o\"].sample(1)['sentence_id'])]"
   ]
  },
  {
   "cell_type": "code",
   "execution_count": 111,
   "metadata": {},
   "outputs": [
    {
     "data": {
      "text/html": [
       "<div>\n",
       "<style>\n",
       "    .dataframe thead tr:only-child th {\n",
       "        text-align: right;\n",
       "    }\n",
       "\n",
       "    .dataframe thead th {\n",
       "        text-align: left;\n",
       "    }\n",
       "\n",
       "    .dataframe tbody tr th {\n",
       "        vertical-align: top;\n",
       "    }\n",
       "</style>\n",
       "<table border=\"1\" class=\"dataframe\">\n",
       "  <thead>\n",
       "    <tr style=\"text-align: right;\">\n",
       "      <th></th>\n",
       "      <th>sentence_id</th>\n",
       "      <th>token_id</th>\n",
       "      <th>class</th>\n",
       "      <th>before</th>\n",
       "      <th>after</th>\n",
       "    </tr>\n",
       "  </thead>\n",
       "  <tbody>\n",
       "    <tr>\n",
       "      <th>2857532</th>\n",
       "      <td>222878</td>\n",
       "      <td>0</td>\n",
       "      <td>PLAIN</td>\n",
       "      <td>Its</td>\n",
       "      <td>Its</td>\n",
       "    </tr>\n",
       "    <tr>\n",
       "      <th>2857533</th>\n",
       "      <td>222878</td>\n",
       "      <td>1</td>\n",
       "      <td>PLAIN</td>\n",
       "      <td>population</td>\n",
       "      <td>population</td>\n",
       "    </tr>\n",
       "    <tr>\n",
       "      <th>2857534</th>\n",
       "      <td>222878</td>\n",
       "      <td>2</td>\n",
       "      <td>PLAIN</td>\n",
       "      <td>as</td>\n",
       "      <td>as</td>\n",
       "    </tr>\n",
       "    <tr>\n",
       "      <th>2857535</th>\n",
       "      <td>222878</td>\n",
       "      <td>3</td>\n",
       "      <td>PLAIN</td>\n",
       "      <td>of</td>\n",
       "      <td>of</td>\n",
       "    </tr>\n",
       "    <tr>\n",
       "      <th>2857536</th>\n",
       "      <td>222878</td>\n",
       "      <td>4</td>\n",
       "      <td>PLAIN</td>\n",
       "      <td>the</td>\n",
       "      <td>the</td>\n",
       "    </tr>\n",
       "    <tr>\n",
       "      <th>2857537</th>\n",
       "      <td>222878</td>\n",
       "      <td>5</td>\n",
       "      <td>DATE</td>\n",
       "      <td>2010</td>\n",
       "      <td>twenty ten</td>\n",
       "    </tr>\n",
       "    <tr>\n",
       "      <th>2857538</th>\n",
       "      <td>222878</td>\n",
       "      <td>6</td>\n",
       "      <td>PLAIN</td>\n",
       "      <td>Census</td>\n",
       "      <td>Census</td>\n",
       "    </tr>\n",
       "    <tr>\n",
       "      <th>2857539</th>\n",
       "      <td>222878</td>\n",
       "      <td>7</td>\n",
       "      <td>PLAIN</td>\n",
       "      <td>was</td>\n",
       "      <td>was</td>\n",
       "    </tr>\n",
       "    <tr>\n",
       "      <th>2857540</th>\n",
       "      <td>222878</td>\n",
       "      <td>8</td>\n",
       "      <td>CARDINAL</td>\n",
       "      <td>354</td>\n",
       "      <td>three hundred fifty four</td>\n",
       "    </tr>\n",
       "    <tr>\n",
       "      <th>2857541</th>\n",
       "      <td>222878</td>\n",
       "      <td>9</td>\n",
       "      <td>PUNCT</td>\n",
       "      <td>,</td>\n",
       "      <td>,</td>\n",
       "    </tr>\n",
       "    <tr>\n",
       "      <th>2857542</th>\n",
       "      <td>222878</td>\n",
       "      <td>10</td>\n",
       "      <td>PLAIN</td>\n",
       "      <td>down</td>\n",
       "      <td>down</td>\n",
       "    </tr>\n",
       "    <tr>\n",
       "      <th>2857543</th>\n",
       "      <td>222878</td>\n",
       "      <td>11</td>\n",
       "      <td>PLAIN</td>\n",
       "      <td>from</td>\n",
       "      <td>from</td>\n",
       "    </tr>\n",
       "    <tr>\n",
       "      <th>2857544</th>\n",
       "      <td>222878</td>\n",
       "      <td>12</td>\n",
       "      <td>CARDINAL</td>\n",
       "      <td>407</td>\n",
       "      <td>four hundred seven</td>\n",
       "    </tr>\n",
       "    <tr>\n",
       "      <th>2857545</th>\n",
       "      <td>222878</td>\n",
       "      <td>13</td>\n",
       "      <td>PLAIN</td>\n",
       "      <td>recorded</td>\n",
       "      <td>recorded</td>\n",
       "    </tr>\n",
       "    <tr>\n",
       "      <th>2857546</th>\n",
       "      <td>222878</td>\n",
       "      <td>14</td>\n",
       "      <td>PLAIN</td>\n",
       "      <td>during</td>\n",
       "      <td>during</td>\n",
       "    </tr>\n",
       "    <tr>\n",
       "      <th>2857547</th>\n",
       "      <td>222878</td>\n",
       "      <td>15</td>\n",
       "      <td>PLAIN</td>\n",
       "      <td>the</td>\n",
       "      <td>the</td>\n",
       "    </tr>\n",
       "    <tr>\n",
       "      <th>2857548</th>\n",
       "      <td>222878</td>\n",
       "      <td>16</td>\n",
       "      <td>DATE</td>\n",
       "      <td>2002</td>\n",
       "      <td>two thousand two</td>\n",
       "    </tr>\n",
       "    <tr>\n",
       "      <th>2857549</th>\n",
       "      <td>222878</td>\n",
       "      <td>17</td>\n",
       "      <td>PLAIN</td>\n",
       "      <td>Census</td>\n",
       "      <td>Census</td>\n",
       "    </tr>\n",
       "    <tr>\n",
       "      <th>2857550</th>\n",
       "      <td>222878</td>\n",
       "      <td>18</td>\n",
       "      <td>PUNCT</td>\n",
       "      <td>.</td>\n",
       "      <td>.</td>\n",
       "    </tr>\n",
       "  </tbody>\n",
       "</table>\n",
       "</div>"
      ],
      "text/plain": [
       "         sentence_id  token_id     class      before                     after\n",
       "2857532       222878         0     PLAIN         Its                       Its\n",
       "2857533       222878         1     PLAIN  population                population\n",
       "2857534       222878         2     PLAIN          as                        as\n",
       "2857535       222878         3     PLAIN          of                        of\n",
       "2857536       222878         4     PLAIN         the                       the\n",
       "2857537       222878         5      DATE        2010                twenty ten\n",
       "2857538       222878         6     PLAIN      Census                    Census\n",
       "2857539       222878         7     PLAIN         was                       was\n",
       "2857540       222878         8  CARDINAL         354  three hundred fifty four\n",
       "2857541       222878         9     PUNCT           ,                         ,\n",
       "2857542       222878        10     PLAIN        down                      down\n",
       "2857543       222878        11     PLAIN        from                      from\n",
       "2857544       222878        12  CARDINAL         407        four hundred seven\n",
       "2857545       222878        13     PLAIN    recorded                  recorded\n",
       "2857546       222878        14     PLAIN      during                    during\n",
       "2857547       222878        15     PLAIN         the                       the\n",
       "2857548       222878        16      DATE        2002          two thousand two\n",
       "2857549       222878        17     PLAIN      Census                    Census\n",
       "2857550       222878        18     PUNCT           .                         ."
      ]
     },
     "execution_count": 111,
     "metadata": {},
     "output_type": "execute_result"
    }
   ],
   "source": [
    "all_data[all_data['sentence_id'].isin(all_data[all_data['after'] == \"twenty ten\"].sample(1)['sentence_id'])]"
   ]
  },
  {
   "cell_type": "code",
   "execution_count": null,
   "metadata": {
    "collapsed": true
   },
   "outputs": [],
   "source": []
  },
  {
   "cell_type": "code",
   "execution_count": null,
   "metadata": {
    "collapsed": true
   },
   "outputs": [],
   "source": []
  },
  {
   "cell_type": "code",
   "execution_count": null,
   "metadata": {
    "collapsed": true
   },
   "outputs": [],
   "source": []
  }
 ],
 "metadata": {
  "anaconda-cloud": {},
  "kernelspec": {
   "display_name": "Python [conda env:py3_pytorch_2]",
   "language": "python",
   "name": "conda-env-py3_pytorch_2-py"
  },
  "language_info": {
   "codemirror_mode": {
    "name": "ipython",
    "version": 3
   },
   "file_extension": ".py",
   "mimetype": "text/x-python",
   "name": "python",
   "nbconvert_exporter": "python",
   "pygments_lexer": "ipython3",
   "version": "3.6.1"
  }
 },
 "nbformat": 4,
 "nbformat_minor": 2
}
