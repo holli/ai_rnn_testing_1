{
 "cells": [
  {
   "cell_type": "code",
   "execution_count": 1,
   "metadata": {
    "collapsed": true
   },
   "outputs": [],
   "source": [
    "%matplotlib inline\n",
    "import matplotlib.pyplot as plt\n",
    "import matplotlib.ticker\n",
    "import numpy as np\n",
    "import random\n",
    "import time\n",
    "import os\n",
    "import pandas as pd\n",
    "import math\n",
    "import bcolz\n",
    "import pickle\n",
    "import re"
   ]
  },
  {
   "cell_type": "code",
   "execution_count": 2,
   "metadata": {},
   "outputs": [
    {
     "name": "stdout",
     "output_type": "stream",
     "text": [
      "Pytorch: 0.2.0_4\n"
     ]
    }
   ],
   "source": [
    "import torch\n",
    "import torch.nn as nn\n",
    "import torch.nn.functional as F\n",
    "import torch.optim as optim\n",
    "from torch.autograd import Variable\n",
    "print(\"Pytorch: {}\".format(torch.__version__))"
   ]
  },
  {
   "cell_type": "markdown",
   "metadata": {},
   "source": [
    "# Data loading"
   ]
  },
  {
   "cell_type": "code",
   "execution_count": 3,
   "metadata": {
    "collapsed": true
   },
   "outputs": [],
   "source": [
    "all_data_org = pd.read_csv('data/en_train_org.csv')"
   ]
  },
  {
   "cell_type": "code",
   "execution_count": 4,
   "metadata": {},
   "outputs": [
    {
     "data": {
      "text/html": [
       "<div>\n",
       "<style>\n",
       "    .dataframe thead tr:only-child th {\n",
       "        text-align: right;\n",
       "    }\n",
       "\n",
       "    .dataframe thead th {\n",
       "        text-align: left;\n",
       "    }\n",
       "\n",
       "    .dataframe tbody tr th {\n",
       "        vertical-align: top;\n",
       "    }\n",
       "</style>\n",
       "<table border=\"1\" class=\"dataframe\">\n",
       "  <thead>\n",
       "    <tr style=\"text-align: right;\">\n",
       "      <th></th>\n",
       "      <th>sentence_id</th>\n",
       "      <th>token_id</th>\n",
       "      <th>class</th>\n",
       "      <th>before</th>\n",
       "      <th>after</th>\n",
       "    </tr>\n",
       "  </thead>\n",
       "  <tbody>\n",
       "    <tr>\n",
       "      <th>616107</th>\n",
       "      <td>49226</td>\n",
       "      <td>17</td>\n",
       "      <td>LETTERS</td>\n",
       "      <td>NaN</td>\n",
       "      <td>n a</td>\n",
       "    </tr>\n",
       "    <tr>\n",
       "      <th>684691</th>\n",
       "      <td>54634</td>\n",
       "      <td>1</td>\n",
       "      <td>PLAIN</td>\n",
       "      <td>NaN</td>\n",
       "      <td>NaN</td>\n",
       "    </tr>\n",
       "    <tr>\n",
       "      <th>965529</th>\n",
       "      <td>76612</td>\n",
       "      <td>7</td>\n",
       "      <td>PLAIN</td>\n",
       "      <td>NaN</td>\n",
       "      <td>NaN</td>\n",
       "    </tr>\n",
       "  </tbody>\n",
       "</table>\n",
       "</div>"
      ],
      "text/plain": [
       "        sentence_id  token_id    class before after\n",
       "616107        49226        17  LETTERS    NaN   n a\n",
       "684691        54634         1    PLAIN    NaN   NaN\n",
       "965529        76612         7    PLAIN    NaN   NaN"
      ]
     },
     "execution_count": 4,
     "metadata": {},
     "output_type": "execute_result"
    }
   ],
   "source": [
    "all_data_org[pd.isnull(all_data_org['before'])][:3]"
   ]
  },
  {
   "cell_type": "code",
   "execution_count": 5,
   "metadata": {},
   "outputs": [
    {
     "name": "stdout",
     "output_type": "stream",
     "text": [
      "Data rows: 9918390,  (dropped none rows: 51)\n",
      "Data rows: 9840282,  (dropped rows: 78159)\n"
     ]
    }
   ],
   "source": [
    "all_data = all_data_org.dropna()\n",
    "print(\"Data rows: {},  (dropped none rows: {})\".format(len(all_data), len(all_data_org)-len(all_data)))\n",
    "all_data = all_data[all_data['class'] != 'VERBATIM']\n",
    "print(\"Data rows: {},  (dropped rows: {})\".format(len(all_data), len(all_data_org)-len(all_data)))\n",
    "all_data = all_data.reset_index(drop=True)"
   ]
  },
  {
   "cell_type": "markdown",
   "metadata": {},
   "source": [
    "Note we dropped VERBATIM class. Thats because it had so many weird characters."
   ]
  },
  {
   "cell_type": "code",
   "execution_count": 6,
   "metadata": {
    "collapsed": true
   },
   "outputs": [],
   "source": [
    "all_data_sentence_index = all_data.set_index('sentence_id')"
   ]
  },
  {
   "cell_type": "markdown",
   "metadata": {},
   "source": [
    "### More balanced sample"
   ]
  },
  {
   "cell_type": "code",
   "execution_count": 7,
   "metadata": {},
   "outputs": [
    {
     "data": {
      "text/plain": [
       "class\n",
       "ADDRESS           522\n",
       "CARDINAL       133744\n",
       "DATE           258348\n",
       "DECIMAL          9821\n",
       "DIGIT            5442\n",
       "ELECTRONIC       5162\n",
       "FRACTION         1196\n",
       "LETTERS        152790\n",
       "MEASURE         14783\n",
       "MONEY            6128\n",
       "ORDINAL         12703\n",
       "PLAIN         7353647\n",
       "PUNCT         1880507\n",
       "TELEPHONE        4024\n",
       "TIME             1465\n",
       "Name: class, dtype: int64"
      ]
     },
     "execution_count": 7,
     "metadata": {},
     "output_type": "execute_result"
    }
   ],
   "source": [
    "all_data.groupby(\"class\")[\"class\"].count()"
   ]
  },
  {
   "cell_type": "code",
   "execution_count": 8,
   "metadata": {
    "collapsed": true
   },
   "outputs": [],
   "source": [
    "all_data_classes = list(all_data.groupby('class'))"
   ]
  },
  {
   "cell_type": "code",
   "execution_count": 9,
   "metadata": {},
   "outputs": [
    {
     "data": {
      "text/html": [
       "<div>\n",
       "<style>\n",
       "    .dataframe thead tr:only-child th {\n",
       "        text-align: right;\n",
       "    }\n",
       "\n",
       "    .dataframe thead th {\n",
       "        text-align: left;\n",
       "    }\n",
       "\n",
       "    .dataframe tbody tr th {\n",
       "        vertical-align: top;\n",
       "    }\n",
       "</style>\n",
       "<table border=\"1\" class=\"dataframe\">\n",
       "  <thead>\n",
       "    <tr style=\"text-align: right;\">\n",
       "      <th></th>\n",
       "      <th>sentence_id</th>\n",
       "      <th>token_id</th>\n",
       "      <th>class</th>\n",
       "      <th>before</th>\n",
       "      <th>after</th>\n",
       "    </tr>\n",
       "  </thead>\n",
       "  <tbody>\n",
       "    <tr>\n",
       "      <th>3707902</th>\n",
       "      <td>287635</td>\n",
       "      <td>10</td>\n",
       "      <td>ADDRESS</td>\n",
       "      <td>C5</td>\n",
       "      <td>c five</td>\n",
       "    </tr>\n",
       "    <tr>\n",
       "      <th>7892390</th>\n",
       "      <td>602773</td>\n",
       "      <td>6</td>\n",
       "      <td>ADDRESS</td>\n",
       "      <td>U.S. 27</td>\n",
       "      <td>u s twenty seven</td>\n",
       "    </tr>\n",
       "    <tr>\n",
       "      <th>4012898</th>\n",
       "      <td>310718</td>\n",
       "      <td>3</td>\n",
       "      <td>CARDINAL</td>\n",
       "      <td>5</td>\n",
       "      <td>five</td>\n",
       "    </tr>\n",
       "    <tr>\n",
       "      <th>6703250</th>\n",
       "      <td>513453</td>\n",
       "      <td>18</td>\n",
       "      <td>CARDINAL</td>\n",
       "      <td>262</td>\n",
       "      <td>two hundred sixty two</td>\n",
       "    </tr>\n",
       "  </tbody>\n",
       "</table>\n",
       "</div>"
      ],
      "text/plain": [
       "         sentence_id  token_id     class   before                  after\n",
       "3707902       287635        10   ADDRESS       C5                 c five\n",
       "7892390       602773         6   ADDRESS  U.S. 27       u s twenty seven\n",
       "4012898       310718         3  CARDINAL        5                   five\n",
       "6703250       513453        18  CARDINAL      262  two hundred sixty two"
      ]
     },
     "execution_count": 9,
     "metadata": {},
     "output_type": "execute_result"
    }
   ],
   "source": [
    "all_data_classes[0][1].sample(2).append(all_data_classes[1][1].sample(2))"
   ]
  },
  {
   "cell_type": "code",
   "execution_count": 10,
   "metadata": {
    "collapsed": true
   },
   "outputs": [],
   "source": [
    "data_balanced_classes = pd.concat([v.sample(min(50000, len(v))) for k, v in all_data_classes])"
   ]
  },
  {
   "cell_type": "code",
   "execution_count": 11,
   "metadata": {},
   "outputs": [
    {
     "data": {
      "text/plain": [
       "class\n",
       "ADDRESS         522\n",
       "CARDINAL      50000\n",
       "DATE          50000\n",
       "DECIMAL        9821\n",
       "DIGIT          5442\n",
       "ELECTRONIC     5162\n",
       "FRACTION       1196\n",
       "LETTERS       50000\n",
       "MEASURE       14783\n",
       "MONEY          6128\n",
       "ORDINAL       12703\n",
       "PLAIN         50000\n",
       "PUNCT         50000\n",
       "TELEPHONE      4024\n",
       "TIME           1465\n",
       "Name: class, dtype: int64"
      ]
     },
     "execution_count": 11,
     "metadata": {},
     "output_type": "execute_result"
    }
   ],
   "source": [
    "data_balanced_classes.groupby(\"class\")[\"class\"].count()"
   ]
  },
  {
   "cell_type": "code",
   "execution_count": 12,
   "metadata": {},
   "outputs": [
    {
     "data": {
      "text/html": [
       "<div>\n",
       "<style>\n",
       "    .dataframe thead tr:only-child th {\n",
       "        text-align: right;\n",
       "    }\n",
       "\n",
       "    .dataframe thead th {\n",
       "        text-align: left;\n",
       "    }\n",
       "\n",
       "    .dataframe tbody tr th {\n",
       "        vertical-align: top;\n",
       "    }\n",
       "</style>\n",
       "<table border=\"1\" class=\"dataframe\">\n",
       "  <thead>\n",
       "    <tr style=\"text-align: right;\">\n",
       "      <th></th>\n",
       "      <th>sentence_id</th>\n",
       "      <th>token_id</th>\n",
       "      <th>class</th>\n",
       "      <th>before</th>\n",
       "      <th>after</th>\n",
       "    </tr>\n",
       "  </thead>\n",
       "  <tbody>\n",
       "    <tr>\n",
       "      <th>3587508</th>\n",
       "      <td>278436</td>\n",
       "      <td>9</td>\n",
       "      <td>LETTERS</td>\n",
       "      <td>PDF</td>\n",
       "      <td>p d f</td>\n",
       "    </tr>\n",
       "    <tr>\n",
       "      <th>5752339</th>\n",
       "      <td>442159</td>\n",
       "      <td>6</td>\n",
       "      <td>DIGIT</td>\n",
       "      <td>01</td>\n",
       "      <td>o one</td>\n",
       "    </tr>\n",
       "    <tr>\n",
       "      <th>6087323</th>\n",
       "      <td>467387</td>\n",
       "      <td>14</td>\n",
       "      <td>PUNCT</td>\n",
       "      <td>.</td>\n",
       "      <td>.</td>\n",
       "    </tr>\n",
       "    <tr>\n",
       "      <th>8224815</th>\n",
       "      <td>627584</td>\n",
       "      <td>2</td>\n",
       "      <td>TELEPHONE</td>\n",
       "      <td>911</td>\n",
       "      <td>nine one one</td>\n",
       "    </tr>\n",
       "    <tr>\n",
       "      <th>7849761</th>\n",
       "      <td>599580</td>\n",
       "      <td>18</td>\n",
       "      <td>PUNCT</td>\n",
       "      <td>.</td>\n",
       "      <td>.</td>\n",
       "    </tr>\n",
       "    <tr>\n",
       "      <th>562963</th>\n",
       "      <td>45424</td>\n",
       "      <td>3</td>\n",
       "      <td>MEASURE</td>\n",
       "      <td>46%</td>\n",
       "      <td>forty six percent</td>\n",
       "    </tr>\n",
       "    <tr>\n",
       "      <th>6449587</th>\n",
       "      <td>494389</td>\n",
       "      <td>6</td>\n",
       "      <td>DATE</td>\n",
       "      <td>2000</td>\n",
       "      <td>two thousand</td>\n",
       "    </tr>\n",
       "    <tr>\n",
       "      <th>7835093</th>\n",
       "      <td>598485</td>\n",
       "      <td>18</td>\n",
       "      <td>DIGIT</td>\n",
       "      <td>1276</td>\n",
       "      <td>one two seven six</td>\n",
       "    </tr>\n",
       "    <tr>\n",
       "      <th>5784444</th>\n",
       "      <td>444551</td>\n",
       "      <td>9</td>\n",
       "      <td>CARDINAL</td>\n",
       "      <td>285</td>\n",
       "      <td>two hundred eighty five</td>\n",
       "    </tr>\n",
       "    <tr>\n",
       "      <th>6904240</th>\n",
       "      <td>528485</td>\n",
       "      <td>8</td>\n",
       "      <td>LETTERS</td>\n",
       "      <td>D</td>\n",
       "      <td>D</td>\n",
       "    </tr>\n",
       "  </tbody>\n",
       "</table>\n",
       "</div>"
      ],
      "text/plain": [
       "         sentence_id  token_id      class before                    after\n",
       "3587508       278436         9    LETTERS    PDF                    p d f\n",
       "5752339       442159         6      DIGIT     01                    o one\n",
       "6087323       467387        14      PUNCT      .                        .\n",
       "8224815       627584         2  TELEPHONE    911             nine one one\n",
       "7849761       599580        18      PUNCT      .                        .\n",
       "562963         45424         3    MEASURE    46%        forty six percent\n",
       "6449587       494389         6       DATE   2000             two thousand\n",
       "7835093       598485        18      DIGIT   1276        one two seven six\n",
       "5784444       444551         9   CARDINAL    285  two hundred eighty five\n",
       "6904240       528485         8    LETTERS      D                        D"
      ]
     },
     "execution_count": 12,
     "metadata": {},
     "output_type": "execute_result"
    }
   ],
   "source": [
    "data_balanced_classes.sample(10)"
   ]
  },
  {
   "cell_type": "code",
   "execution_count": 13,
   "metadata": {},
   "outputs": [
    {
     "data": {
      "text/html": [
       "<div>\n",
       "<style>\n",
       "    .dataframe thead tr:only-child th {\n",
       "        text-align: right;\n",
       "    }\n",
       "\n",
       "    .dataframe thead th {\n",
       "        text-align: left;\n",
       "    }\n",
       "\n",
       "    .dataframe tbody tr th {\n",
       "        vertical-align: top;\n",
       "    }\n",
       "</style>\n",
       "<table border=\"1\" class=\"dataframe\">\n",
       "  <thead>\n",
       "    <tr style=\"text-align: right;\">\n",
       "      <th></th>\n",
       "      <th>sentence_id</th>\n",
       "      <th>token_id</th>\n",
       "      <th>class</th>\n",
       "      <th>before</th>\n",
       "      <th>after</th>\n",
       "    </tr>\n",
       "  </thead>\n",
       "  <tbody>\n",
       "    <tr>\n",
       "      <th>2833605</th>\n",
       "      <td>221054</td>\n",
       "      <td>7</td>\n",
       "      <td>DATE</td>\n",
       "      <td>1934</td>\n",
       "      <td>nineteen thirty four</td>\n",
       "    </tr>\n",
       "    <tr>\n",
       "      <th>5597801</th>\n",
       "      <td>430568</td>\n",
       "      <td>2</td>\n",
       "      <td>DIGIT</td>\n",
       "      <td>1947</td>\n",
       "      <td>one nine four seven</td>\n",
       "    </tr>\n",
       "    <tr>\n",
       "      <th>5920284</th>\n",
       "      <td>454832</td>\n",
       "      <td>11</td>\n",
       "      <td>DATE</td>\n",
       "      <td>1999</td>\n",
       "      <td>nineteen ninety nine</td>\n",
       "    </tr>\n",
       "    <tr>\n",
       "      <th>6168871</th>\n",
       "      <td>473453</td>\n",
       "      <td>4</td>\n",
       "      <td>LETTERS</td>\n",
       "      <td>d</td>\n",
       "      <td>d</td>\n",
       "    </tr>\n",
       "    <tr>\n",
       "      <th>8808440</th>\n",
       "      <td>670981</td>\n",
       "      <td>2</td>\n",
       "      <td>LETTERS</td>\n",
       "      <td>PDF</td>\n",
       "      <td>p d f</td>\n",
       "    </tr>\n",
       "    <tr>\n",
       "      <th>1529279</th>\n",
       "      <td>120881</td>\n",
       "      <td>9</td>\n",
       "      <td>PUNCT</td>\n",
       "      <td>,</td>\n",
       "      <td>,</td>\n",
       "    </tr>\n",
       "    <tr>\n",
       "      <th>6410901</th>\n",
       "      <td>491510</td>\n",
       "      <td>1</td>\n",
       "      <td>LETTERS</td>\n",
       "      <td>TV</td>\n",
       "      <td>t v</td>\n",
       "    </tr>\n",
       "    <tr>\n",
       "      <th>8954295</th>\n",
       "      <td>681910</td>\n",
       "      <td>5</td>\n",
       "      <td>DATE</td>\n",
       "      <td>2013-08-01</td>\n",
       "      <td>the first of august twenty thirteen</td>\n",
       "    </tr>\n",
       "    <tr>\n",
       "      <th>8900558</th>\n",
       "      <td>677849</td>\n",
       "      <td>17</td>\n",
       "      <td>PUNCT</td>\n",
       "      <td>.</td>\n",
       "      <td>.</td>\n",
       "    </tr>\n",
       "    <tr>\n",
       "      <th>9078618</th>\n",
       "      <td>691108</td>\n",
       "      <td>1</td>\n",
       "      <td>LETTERS</td>\n",
       "      <td>ISU</td>\n",
       "      <td>i s u</td>\n",
       "    </tr>\n",
       "  </tbody>\n",
       "</table>\n",
       "</div>"
      ],
      "text/plain": [
       "         sentence_id  token_id    class      before  \\\n",
       "2833605       221054         7     DATE        1934   \n",
       "5597801       430568         2    DIGIT        1947   \n",
       "5920284       454832        11     DATE        1999   \n",
       "6168871       473453         4  LETTERS           d   \n",
       "8808440       670981         2  LETTERS         PDF   \n",
       "1529279       120881         9    PUNCT           ,   \n",
       "6410901       491510         1  LETTERS          TV   \n",
       "8954295       681910         5     DATE  2013-08-01   \n",
       "8900558       677849        17    PUNCT           .   \n",
       "9078618       691108         1  LETTERS         ISU   \n",
       "\n",
       "                                       after  \n",
       "2833605                 nineteen thirty four  \n",
       "5597801                  one nine four seven  \n",
       "5920284                 nineteen ninety nine  \n",
       "6168871                                    d  \n",
       "8808440                                p d f  \n",
       "1529279                                    ,  \n",
       "6410901                                  t v  \n",
       "8954295  the first of august twenty thirteen  \n",
       "8900558                                    .  \n",
       "9078618                                i s u  "
      ]
     },
     "execution_count": 13,
     "metadata": {},
     "output_type": "execute_result"
    }
   ],
   "source": [
    "test = data_balanced_classes.sample(10)\n",
    "test"
   ]
  },
  {
   "cell_type": "code",
   "execution_count": 14,
   "metadata": {
    "collapsed": true
   },
   "outputs": [],
   "source": [
    "data_balanced_classes_matrix = data_balanced_classes.as_matrix()"
   ]
  },
  {
   "cell_type": "code",
   "execution_count": 15,
   "metadata": {},
   "outputs": [
    {
     "name": "stdout",
     "output_type": "stream",
     "text": [
      "4.86 ms ± 49.4 µs per loop (mean ± std. dev. of 7 runs, 100 loops each)\n"
     ]
    }
   ],
   "source": [
    "%%timeit\n",
    "data_balanced_classes.sample(1)"
   ]
  },
  {
   "cell_type": "code",
   "execution_count": 16,
   "metadata": {},
   "outputs": [
    {
     "name": "stdout",
     "output_type": "stream",
     "text": [
      "98.4 µs ± 732 ns per loop (mean ± std. dev. of 7 runs, 10000 loops each)\n"
     ]
    }
   ],
   "source": [
    "%%timeit\n",
    "data_balanced_classes.iloc[random.randint(1, len(test)-1)]"
   ]
  },
  {
   "cell_type": "code",
   "execution_count": 17,
   "metadata": {},
   "outputs": [
    {
     "name": "stdout",
     "output_type": "stream",
     "text": [
      "2.03 µs ± 25.3 ns per loop (mean ± std. dev. of 7 runs, 100000 loops each)\n"
     ]
    }
   ],
   "source": [
    "%%timeit\n",
    "data_balanced_classes_matrix[random.randint(1, len(test)-1)]"
   ]
  },
  {
   "cell_type": "markdown",
   "metadata": {},
   "source": [
    "### Word vectors"
   ]
  },
  {
   "cell_type": "code",
   "execution_count": 18,
   "metadata": {
    "collapsed": true
   },
   "outputs": [],
   "source": [
    "def load_glove(name):\n",
    "    with open(name, 'r') as f: lines = [line.split() for line in f]\n",
    "    words = [d[0] for d in lines]\n",
    "    vecs = np.stack(np.array(d[1:], dtype=np.float32) for d in lines)\n",
    "    wordidx = {o:i for i,o in enumerate(words)}\n",
    "    return vecs, words, wordidx"
   ]
  },
  {
   "cell_type": "code",
   "execution_count": 19,
   "metadata": {
    "collapsed": true
   },
   "outputs": [],
   "source": [
    "wv_vecs, wv_words, wv_idx = load_glove('/home/ohu/koodi/data/glove_wordvec/glove.6B.50d.txt')"
   ]
  },
  {
   "cell_type": "code",
   "execution_count": 20,
   "metadata": {},
   "outputs": [
    {
     "name": "stdout",
     "output_type": "stream",
     "text": [
      "Original last word: sandberger\n"
     ]
    }
   ],
   "source": [
    "wv_max_words = len(wv_words)\n",
    "print(\"Original last word:\", wv_words[wv_max_words - 1])"
   ]
  },
  {
   "cell_type": "code",
   "execution_count": 21,
   "metadata": {
    "collapsed": true
   },
   "outputs": [],
   "source": [
    "wv_vecs = np.concatenate((wv_vecs, np.zeros([1, 50], dtype=np.float32)), axis=0)\n",
    "wv_words.append('SAMPLE')\n",
    "wv_idx['SAMPLE'] = wv_words.index('SAMPLE')"
   ]
  },
  {
   "cell_type": "code",
   "execution_count": 22,
   "metadata": {},
   "outputs": [
    {
     "data": {
      "text/plain": [
       "['asdf', \"'s\", 'asdf', '-', 'testaaa']"
      ]
     },
     "execution_count": 22,
     "metadata": {},
     "output_type": "execute_result"
    }
   ],
   "source": [
    "re_apos = re.compile(r\"(\\w)'s\\b\")         # make 's a separate word\n",
    "re_mw_punc = re.compile(r\"(\\w[’'])(\\w)\")  # other ' in a word creates 2 words\n",
    "re_punc = re.compile(\"([\\\"().,;:/_?!—])\") # add spaces around punctuation\n",
    "re_mult_space = re.compile(r\"  *\")        # replace multiple spaces with just one\n",
    "\n",
    "def simple_tokeniser(sent):\n",
    "    sent = re_apos.sub(r\"\\1 's\", sent)\n",
    "    sent = re_mw_punc.sub(r\"\\1 \\2\", sent)\n",
    "    sent = re_punc.sub(r\" \\1 \", sent).replace('-', ' - ')\n",
    "    sent = re_punc.sub(r\" \\1 \", sent)\n",
    "    sent = re_mult_space.sub(' ', sent)\n",
    "    return sent.lower().split()\n",
    "simple_tokeniser(\"asdf's   asdf   -testaaa\")"
   ]
  },
  {
   "cell_type": "code",
   "execution_count": 23,
   "metadata": {},
   "outputs": [
    {
     "data": {
      "text/plain": [
       "0.978"
      ]
     },
     "execution_count": 23,
     "metadata": {},
     "output_type": "execute_result"
    }
   ],
   "source": [
    "arr = [simple_tokeniser(s_)[0] for s_ in list(all_data.sample(1000)['before'])]\n",
    "[s in wv_idx for s in arr].count(True) / 1000"
   ]
  },
  {
   "cell_type": "code",
   "execution_count": null,
   "metadata": {
    "collapsed": true
   },
   "outputs": [],
   "source": []
  },
  {
   "cell_type": "code",
   "execution_count": 24,
   "metadata": {},
   "outputs": [
    {
     "name": "stdout",
     "output_type": "stream",
     "text": [
      "LETTERS : nr -> n r : (1, 5, 50) <class 'numpy.float32'>\n"
     ]
    }
   ],
   "source": [
    "def get_random_sample():\n",
    "    sample_row = data_balanced_classes.iloc[random.randint(1, len(data_balanced_classes)-1)]\n",
    "    sentence_id = sample_row['class']\n",
    "\n",
    "    #rows = all_data[all_data['sentence_id']==sample_row['sentence_id']]\n",
    "    rows = all_data_sentence_index.loc[sample_row['sentence_id']]\n",
    "    befores = rows.before.values\n",
    "        \n",
    "    token_id_idx = list(rows['token_id']).index(sample_row['token_id'])\n",
    "    befores[token_id_idx] = '*****'\n",
    "    str_list = simple_tokeniser(' '.join(befores))\n",
    "    \n",
    "    word_vect = np.zeros((1, len(str_list), wv_vecs.shape[1]), dtype=np.float32)\n",
    "    # var = np.zeros((1, len(str_list), wv_vecs.shape[1]+1))\n",
    "    for i, w in enumerate(str_list):\n",
    "        if w=='*****':\n",
    "            word_vect[0][i] = np.zeros((1, wv_vecs.shape[1]))\n",
    "        else:\n",
    "            try:\n",
    "                word_vect[0][i] = wv_vecs[wv_idx[w]]\n",
    "            except KeyError:\n",
    "                word_vect[0][i] = np.random.rand(1, wv_vecs.shape[1])\n",
    "    return sample_row['before'], sample_row['after'], sample_row['class'], word_vect\n",
    "            \n",
    "# get_random_sample()\n",
    "s_bef, s_aft, s_class, s_word_v = get_random_sample()\n",
    "print(s_class, ':', s_bef, '->', s_aft, ':', s_word_v.shape, type(s_word_v[0,0,0]))"
   ]
  },
  {
   "cell_type": "code",
   "execution_count": 25,
   "metadata": {},
   "outputs": [
    {
     "name": "stdout",
     "output_type": "stream",
     "text": [
      "500 µs ± 15.6 µs per loop (mean ± std. dev. of 7 runs, 1000 loops each)\n"
     ]
    }
   ],
   "source": [
    "%%timeit\n",
    "get_random_sample()"
   ]
  },
  {
   "cell_type": "markdown",
   "metadata": {},
   "source": [
    "### Categories and Chars"
   ]
  },
  {
   "cell_type": "code",
   "execution_count": 26,
   "metadata": {},
   "outputs": [
    {
     "name": "stdout",
     "output_type": "stream",
     "text": [
      "['PLAIN' 'PUNCT' 'DATE' 'LETTERS' 'CARDINAL' 'DECIMAL' 'MEASURE' 'MONEY'\n",
      " 'ORDINAL' 'TIME' 'ELECTRONIC' 'DIGIT' 'FRACTION' 'TELEPHONE' 'ADDRESS']\n",
      "15\n"
     ]
    }
   ],
   "source": [
    "categories_all = all_data[\"class\"].unique()\n",
    "print(categories_all)\n",
    "print(len(categories_all))\n",
    "categories_index = dict((c, i) for i, c in enumerate(categories_all))"
   ]
  },
  {
   "cell_type": "code",
   "execution_count": 32,
   "metadata": {},
   "outputs": [
    {
     "name": "stdout",
     "output_type": "stream",
     "text": [
      " !\"#$%&'()+,-./0123456789:;?ABCDEFGHIJKLMNOPQRSTUVWXYZ[]_abcdefghijklmnopqrstuvwxyz|~¡£¥ª«²³µº»¼½¾¿éɒʻˈΩμ—€⅓⅔⅛⅝⅞\n",
      "112\n"
     ]
    }
   ],
   "source": [
    "letters_all = sorted(list(set(''.join(all_data['before']))))\n",
    "letters_index = dict((c, i) for i, c in enumerate(letters_all))\n",
    "letters_n = len(letters_all)\n",
    "print(''.join(letters_all))\n",
    "print(len(letters_all))"
   ]
  },
  {
   "cell_type": "code",
   "execution_count": 36,
   "metadata": {},
   "outputs": [
    {
     "name": "stdout",
     "output_type": "stream",
     "text": [
      "torch.Size([1, 6, 112])\n"
     ]
    }
   ],
   "source": [
    "def string_to_tensor(line):\n",
    "    tensor = torch.zeros(1, len(line), letters_n)\n",
    "    for li, letter in enumerate(line):\n",
    "        tensor[0, li, letters_index[letter]] = 1\n",
    "    return tensor\n",
    "print(string_to_tensor('wordup').size())"
   ]
  },
  {
   "cell_type": "code",
   "execution_count": null,
   "metadata": {
    "collapsed": true
   },
   "outputs": [],
   "source": []
  },
  {
   "cell_type": "markdown",
   "metadata": {},
   "source": [
    "# Model"
   ]
  },
  {
   "cell_type": "code",
   "execution_count": 90,
   "metadata": {
    "collapsed": true
   },
   "outputs": [],
   "source": [
    "use_cuda = False"
   ]
  },
  {
   "cell_type": "code",
   "execution_count": 165,
   "metadata": {},
   "outputs": [
    {
     "name": "stdout",
     "output_type": "stream",
     "text": [
      "Word vect size: (1, 2, 50) . String vector size: torch.Size([1, 13, 112])\n",
      "Output: torch.Size([1, 15])\n"
     ]
    }
   ],
   "source": [
    "class RNN_WORDS_CHARS_CLASS(nn.Module):\n",
    "    def __init__(self, wordvect_size, letters_size, hidden_size, output_size, n_layers=1):\n",
    "        super(RNN_WORDS_CHARS_CLASS, self).__init__()\n",
    "\n",
    "        self.n_layers = n_layers\n",
    "        self.hidden_size = hidden_size\n",
    "        self.output_size = output_size\n",
    "\n",
    "        self.rnn_words = nn.LSTM(wordvect_size, hidden_size, n_layers, batch_first=True)\n",
    "        \n",
    "        self.rnn_chars = nn.LSTM(letters_size, hidden_size, n_layers, batch_first=True)\n",
    "        \n",
    "        # self.lin_1 = nn.Linear(hidden_size*2, 1024)\n",
    "        #self.lin_1 = nn.Linear(hidden_size, 1024)\n",
    "        self.lin_output = nn.Linear(hidden_size*2, output_size)\n",
    "\n",
    "    def forward(self, word_vectors, string_tensor, hidden = None, init_hidden = True):\n",
    "        if init_hidden:\n",
    "            hidden_words, hidden_chars = self.init_hidden()\n",
    "        \n",
    "        all_outputs_words, hidden_words = self.rnn_words(word_vectors, hidden_words)\n",
    "        output_words = all_outputs_words[:, -1]\n",
    "        \n",
    "        all_outputs_chars, hidden_chars = self.rnn_chars(string_tensor, hidden_chars)\n",
    "        output_chars = all_outputs_chars[:, -1]\n",
    "        \n",
    "        output = torch.cat((output_words, output_chars), 1)\n",
    "        #TESTING HOW DOES THE WORDS AFFECT THIS\n",
    "        #output = output_chars\n",
    "        #output = self.lin_1(output)\n",
    "        output = self.lin_output(output)\n",
    "        output = F.log_softmax(output)\n",
    "        return output\n",
    "\n",
    "    def init_hidden(self):\n",
    "        var1_1 = Variable(torch.zeros(1, self.n_layers, self.hidden_size))\n",
    "        var1_2 = Variable(torch.zeros(1, self.n_layers, self.hidden_size))\n",
    "        var2_1 = Variable(torch.zeros(1, self.n_layers, self.hidden_size))\n",
    "        var2_2 = Variable(torch.zeros(1, self.n_layers, self.hidden_size))\n",
    "        if use_cuda:\n",
    "            var1_1 = var1_1.cuda(); var1_2 = var1_2.cuda()\n",
    "            var2_1 = var2_1.cuda(); var2_2 = var2_2.cuda()\n",
    "        return ((var1_1, var1_2), (var2_1, var2_2))\n",
    "\n",
    "use_cuda = False\n",
    "s_bef, s_aft, s_class, s_word_vs = get_random_sample()\n",
    "s_string = string_to_tensor(s_bef)\n",
    "model_tmp = RNN_WORDS_CHARS_CLASS(wordvect_size=s_word_vs.shape[-1], letters_size=letters_n,\n",
    "                              hidden_size=128, output_size=len(categories_all))\n",
    "print('Word vect size:', s_word_vs.shape, '. String vector size:', s_string.size())\n",
    "output = model_tmp(Variable(torch.from_numpy(s_word_vs)), Variable(s_string))\n",
    "print('Output:', output.size())"
   ]
  },
  {
   "cell_type": "code",
   "execution_count": 166,
   "metadata": {
    "collapsed": true
   },
   "outputs": [],
   "source": [
    "use_cuda=True"
   ]
  },
  {
   "cell_type": "code",
   "execution_count": 92,
   "metadata": {},
   "outputs": [
    {
     "data": {
      "text/plain": [
       "torch.cuda.FloatTensor"
      ]
     },
     "execution_count": 92,
     "metadata": {},
     "output_type": "execute_result"
    }
   ],
   "source": [
    "tmp = use_cuda\n",
    "use_cuda = True\n",
    "model.cuda()\n",
    "output = model(Variable(torch.from_numpy(s_word_vs)).cuda(), Variable(s_string).cuda())\n",
    "use_cuda = tmp\n",
    "type(output.data)"
   ]
  },
  {
   "cell_type": "code",
   "execution_count": 70,
   "metadata": {},
   "outputs": [
    {
     "name": "stdout",
     "output_type": "stream",
     "text": [
      "('TIME', 9)\n"
     ]
    }
   ],
   "source": [
    "def category_from_output(output):\n",
    "    top_n, top_i = output.data.topk(1)\n",
    "    category_i = top_i[0][0]\n",
    "    return categories_all[category_i], category_i\n",
    "\n",
    "print(category_from_output(output))"
   ]
  },
  {
   "cell_type": "markdown",
   "metadata": {},
   "source": [
    "### Accuracy"
   ]
  },
  {
   "cell_type": "code",
   "execution_count": 96,
   "metadata": {},
   "outputs": [],
   "source": [
    "use_cuda = True"
   ]
  },
  {
   "cell_type": "code",
   "execution_count": 99,
   "metadata": {
    "collapsed": true
   },
   "outputs": [],
   "source": [
    "def test_model_accuracy(model, n_sample=10000):\n",
    "    model.eval()\n",
    "    n_correct = 0\n",
    "    for iteration in range(n_sample):\n",
    "        s_bef, s_aft, s_class, s_word_vs = get_random_sample()\n",
    "        s_string = Variable(string_to_tensor(s_bef))\n",
    "        s_word_vs = Variable(torch.from_numpy(s_word_vs))\n",
    "        if use_cuda:\n",
    "            s_word_vs = s_word_vs.cuda()\n",
    "            s_string = s_string.cuda()\n",
    "        output = model(s_word_vs, s_string)\n",
    "        if s_class == category_from_output(output)[0]:\n",
    "            n_correct += 1\n",
    "\n",
    "    print(\"Accuracy: {:>4.2%} ({:>8d}/{:>8d})\".format(\n",
    "            n_correct/n_sample, n_correct, n_sample))"
   ]
  },
  {
   "cell_type": "code",
   "execution_count": 100,
   "metadata": {},
   "outputs": [
    {
     "name": "stdout",
     "output_type": "stream",
     "text": [
      "Accuracy: 17.60% (     176/    1000)\n",
      "CPU times: user 2.02 s, sys: 12 ms, total: 2.03 s\n",
      "Wall time: 2.03 s\n"
     ]
    }
   ],
   "source": [
    "%%time\n",
    "test_model_accuracy(model, n_sample=1000)"
   ]
  },
  {
   "cell_type": "markdown",
   "metadata": {},
   "source": [
    "# Training"
   ]
  },
  {
   "cell_type": "code",
   "execution_count": 160,
   "metadata": {
    "collapsed": true
   },
   "outputs": [],
   "source": [
    "def train(model, category, word_vectors, string):\n",
    "    category_tensor = Variable(torch.LongTensor([categories_index[category]]))\n",
    "    word_vectors = Variable(torch.from_numpy(word_vectors))\n",
    "    string = Variable(string_to_tensor(string))\n",
    "    if use_cuda:\n",
    "        category_tensor = category_tensor.cuda()\n",
    "        word_vectors = word_vectors.cuda()\n",
    "        string = string.cuda()\n",
    "\n",
    "    output = model(word_vectors, string)\n",
    "    loss = loss_function(output, category_tensor)\n",
    "    optimizer.zero_grad()\n",
    "    loss.backward()\n",
    "    optimizer.step()\n",
    "    \n",
    "    return output, loss.data[0]"
   ]
  },
  {
   "cell_type": "code",
   "execution_count": 161,
   "metadata": {},
   "outputs": [
    {
     "data": {
      "text/plain": [
       "(Variable containing:\n",
       " \n",
       " Columns 0 to 9 \n",
       " -1.7899 -1.5999 -1.7431 -1.7840 -1.8631 -3.8468 -3.2847 -4.5116 -3.4812 -6.1416\n",
       " \n",
       " Columns 10 to 14 \n",
       " -4.6041 -4.5043 -6.4336 -4.9500 -7.5641\n",
       " [torch.cuda.FloatTensor of size 1x15 (GPU 0)], 1.7899038791656494)"
      ]
     },
     "execution_count": 161,
     "metadata": {},
     "output_type": "execute_result"
    }
   ],
   "source": [
    "loss_function = nn.NLLLoss()\n",
    "optimizer = torch.optim.Adam(model.parameters(), lr=0.001)\n",
    "s_bef, s_aft, s_class, s_word_vs = get_random_sample()\n",
    "train(model, s_class, s_word_vs, s_bef)"
   ]
  },
  {
   "cell_type": "code",
   "execution_count": null,
   "metadata": {
    "collapsed": true
   },
   "outputs": [],
   "source": []
  },
  {
   "cell_type": "code",
   "execution_count": 83,
   "metadata": {
    "collapsed": true
   },
   "outputs": [],
   "source": [
    "def timeSince(since):\n",
    "    now = time.time()\n",
    "    s = now - since\n",
    "    m = math.floor(s / 60)\n",
    "    s -= m * 60\n",
    "    return '%dm %ds' % (m, s)"
   ]
  },
  {
   "cell_type": "code",
   "execution_count": 200,
   "metadata": {},
   "outputs": [],
   "source": [
    "def train_iterations(n_iters=100000, start_iter=0, print_every=5000, plot_every=1000):\n",
    "    model.train()\n",
    "    start = time.time()\n",
    "    all_losses = []\n",
    "    current_loss = 0\n",
    "    current_loss_iter = 0\n",
    "\n",
    "    for iteration in range(1, n_iters + 1):\n",
    "        s_bef, s_aft, s_class, s_word_vs = get_random_sample()\n",
    "\n",
    "        output, loss = train(model, s_class, s_word_vs, s_bef)\n",
    "        current_loss += loss\n",
    "        current_loss_iter += 1\n",
    "\n",
    "        # Print iter number, loss, name and guess\n",
    "        if iteration % print_every == 0:\n",
    "            guess, guess_i = category_from_output(output)\n",
    "            correct = '✓' if guess == s_class else \"✗ ({})\".format(s_class)\n",
    "            print(\"{:>6d} {:>4.0%} ({:>8}) {:>7.3f}   | {:>6.2f}: {} -> {} {}\".format(\n",
    "                (iteration+start_iter), iteration/n_iters, timeSince(start),\n",
    "                current_loss/current_loss_iter, loss,\n",
    "                s_bef, guess, correct ))\n",
    "\n",
    "        # Add current loss avg to list of losses\n",
    "        if iteration % plot_every == 0:\n",
    "            all_losses.append(current_loss / plot_every)\n",
    "            current_loss = 0\n",
    "            current_loss_iter = 0\n",
    "    \n",
    "    data_balance_randomize_classes()\n",
    "    test_model_accuracy(model, n_sample=10000)\n",
    "    return all_losses"
   ]
  },
  {
   "cell_type": "code",
   "execution_count": 167,
   "metadata": {},
   "outputs": [
    {
     "name": "stdout",
     "output_type": "stream",
     "text": [
      "  5000  10% (  0m 21s)   0.39   |   0.01: . -> PUNCT ✓\n",
      " 10000  20% (  0m 42s)   0.24   |   0.00: , -> PUNCT ✓\n",
      " 15000  30% (   1m 3s)   0.23   |   0.34: Le -> PLAIN ✓\n",
      " 20000  40% (  1m 24s)   0.17   |   0.00: SF -> LETTERS ✓\n",
      " 25000  50% (  1m 45s)   0.17   |   0.04: 2007 -> DATE ✓\n",
      " 30000  60% (   2m 6s)   0.17   |   0.00: . -> PUNCT ✓\n",
      " 35000  70% (  2m 27s)   0.13   |   0.01: 460 -> CARDINAL ✓\n",
      " 40000  80% (  2m 48s)   0.13   |   0.76: X -> LETTERS ✓\n",
      " 45000  90% (   3m 9s)   0.10   |   0.01: 16 ha -> MEASURE ✓\n",
      " 50000 100% (  3m 31s)   0.14   |   0.05: 78 kt -> MEASURE ✓\n",
      "Accuracy: 96.14% (    9614/   10000)\n"
     ]
    }
   ],
   "source": [
    "model = RNN_WORDS_CHARS_CLASS(wordvect_size=s_word_vs.shape[-1], letters_size=letters_n,\n",
    "                              hidden_size=128, output_size=len(categories_all)).cuda()\n",
    "loss_function = nn.NLLLoss()\n",
    "optimizer = torch.optim.Adam(model.parameters(), lr=0.001)\n",
    "all_losses = train_iterations(n_iters=50000)"
   ]
  },
  {
   "cell_type": "code",
   "execution_count": 169,
   "metadata": {},
   "outputs": [
    {
     "name": "stdout",
     "output_type": "stream",
     "text": [
      " 75000  10% (  1m 50s)   0.10   |   0.00: mentor -> PLAIN ✓\n",
      "100000  20% (  3m 43s)   0.11   |   0.00: 2008-05-30 -> DATE ✓\n",
      "125000  30% (  5m 29s)   0.07   |   0.01: Knoll -> PLAIN ✓\n",
      "150000  40% (  7m 13s)   0.06   |   0.03: D -> LETTERS ✓\n",
      "175000  50% (  8m 58s)   0.08   |   0.01: http://www.kickspeed.com.au/Improve-measure-kicking-speed.htmlhttp://www.wisil.recumbents.com/wisil/whpsc2009/results.htmDarling -> ELECTRONIC ✓\n",
      "200000  60% ( 10m 42s)   0.08   |   0.00: 40 km -> MEASURE ✓\n",
      "225000  70% ( 12m 27s)   0.05   |   0.00: School -> PLAIN ✓\n",
      "250000  80% ( 14m 18s)   0.07   |   1.85: IV -> ORDINAL ✗ (LETTERS)\n",
      "275000  90% (  16m 4s)   0.07   |   0.00: BD -> LETTERS ✓\n",
      "300000 100% ( 17m 48s)   0.06   |   0.00: 14 -> CARDINAL ✓\n",
      "Accuracy: 97.83% (    9783/   10000)\n"
     ]
    }
   ],
   "source": [
    "all_losses_2 = train_iterations(n_iters=250000, start_iter=50000, print_every=25000)"
   ]
  },
  {
   "cell_type": "code",
   "execution_count": 179,
   "metadata": {},
   "outputs": [
    {
     "name": "stdout",
     "output_type": "stream",
     "text": [
      "325000  25% (  1m 46s)   0.06   |   0.01: an -> PLAIN ✓\n",
      "350000  50% (  3m 34s)   0.08   |   0.00: The -> PLAIN ✓\n",
      "375000  75% (  5m 20s)   0.05   |   0.00: 4th -> ORDINAL ✓\n",
      "400000 100% (   7m 7s)   0.04   |   0.00: . -> PUNCT ✓\n",
      "Accuracy: 98.39% (    9839/   10000)\n"
     ]
    }
   ],
   "source": [
    "optimizer = torch.optim.Adam(model.parameters(), lr=0.0001)\n",
    "all_losses_2 = train_iterations(n_iters=100000, start_iter=300000, print_every=25000)"
   ]
  },
  {
   "cell_type": "code",
   "execution_count": 181,
   "metadata": {},
   "outputs": [
    {
     "name": "stdout",
     "output_type": "stream",
     "text": [
      "325000  25% (  2m 21s)   0.05   |   0.00: 1946 -> DATE ✓\n",
      "350000  50% (   4m 9s)   0.07   |   0.02: TGIS -> LETTERS ✓\n",
      "375000  75% (  5m 58s)   0.03   |   0.00: . -> PUNCT ✓\n",
      "400000 100% (  7m 54s)   0.06   |   0.00: and -> PLAIN ✓\n",
      "Accuracy: 98.34% (    9834/   10000)\n"
     ]
    }
   ],
   "source": [
    "optimizer = torch.optim.Adam(model.parameters(), lr=0.0001)\n",
    "all_losses_2 = train_iterations(n_iters=100000, start_iter=300000, print_every=25000)"
   ]
  },
  {
   "cell_type": "code",
   "execution_count": 182,
   "metadata": {},
   "outputs": [
    {
     "name": "stdout",
     "output_type": "stream",
     "text": [
      "325000  25% (  1m 58s)   0.04   |   0.00: . -> PUNCT ✓\n",
      "350000  50% (  3m 58s)   0.05   |   0.09: 431s -> DATE ✓\n",
      "375000  75% (  5m 50s)   0.03   |   0.00: tuning -> PLAIN ✓\n",
      "400000 100% (  7m 38s)   0.03   |   0.01: 9780791443323 -> CARDINAL ✓\n",
      "Accuracy: 98.53% (    9853/   10000)\n"
     ]
    }
   ],
   "source": [
    "optimizer = torch.optim.Adam(model.parameters(), lr=0.0001)\n",
    "all_losses_2 = train_iterations(n_iters=100000, start_iter=300000, print_every=25000)"
   ]
  },
  {
   "cell_type": "code",
   "execution_count": 183,
   "metadata": {},
   "outputs": [
    {
     "name": "stdout",
     "output_type": "stream",
     "text": [
      "525000  12% (  1m 59s)   0.04   |   0.00: 551 -> CARDINAL ✓\n",
      "550000  25% (  3m 59s)   0.04   |   0.00: — -> PUNCT ✓\n",
      "575000  38% (  5m 59s)   0.07   |   0.00: June 2014 -> DATE ✓\n",
      "600000  50% (  7m 58s)   0.03   |   0.00: . -> PUNCT ✓\n",
      "625000  62% (  9m 55s)   0.04   |   0.00: , -> PUNCT ✓\n",
      "650000  75% (  12m 7s)   0.04   |   0.00: made -> PLAIN ✓\n",
      "675000  88% ( 14m 23s)   0.07   |   0.00: , -> PUNCT ✓\n",
      "700000 100% ( 16m 20s)   0.06   |   0.00: 1894- -> DIGIT ✓\n",
      "Accuracy: 98.67% (    9867/   10000)\n"
     ]
    }
   ],
   "source": [
    "optimizer = torch.optim.Adam(model.parameters(), lr=0.0001)\n",
    "all_losses_2 = train_iterations(n_iters=200000, start_iter=500000, print_every=25000)"
   ]
  },
  {
   "cell_type": "code",
   "execution_count": 187,
   "metadata": {},
   "outputs": [
    {
     "name": "stdout",
     "output_type": "stream",
     "text": [
      " 50000  25% (   4m 3s)   0.03   |   0.00: who -> PLAIN ✓\n",
      "100000  50% (  7m 58s)   0.04   |   0.00: 1912 -> DATE ✓\n",
      "150000  75% ( 11m 52s)   0.03   |   0.00: 63% -> MEASURE ✓\n",
      "200000 100% ( 15m 47s)   0.02   |   0.05: Bob -> PLAIN ✓\n",
      "Accuracy: 98.81% (    9881/   10000)\n"
     ]
    }
   ],
   "source": [
    "optimizer = torch.optim.Adam(model.parameters(), lr=0.0001)\n",
    "all_losses_2 = train_iterations(n_iters=200000, print_every=50000)"
   ]
  },
  {
   "cell_type": "code",
   "execution_count": 188,
   "metadata": {},
   "outputs": [
    {
     "name": "stdout",
     "output_type": "stream",
     "text": [
      " 50000  25% (  3m 53s)   0.03   |   0.00: other -> PLAIN ✓\n",
      "100000  50% (  7m 45s)   0.03   |   0.00: : -> PUNCT ✓\n",
      "150000  75% ( 11m 39s)   0.03   |   0.00: II -> CARDINAL ✓\n",
      "200000 100% ( 15m 34s)   0.04   |   0.00: among -> PLAIN ✓\n",
      "Accuracy: 98.79% (    9879/   10000)\n"
     ]
    }
   ],
   "source": [
    "optimizer = torch.optim.Adam(model.parameters(), lr=0.0001)\n",
    "all_losses_2 = train_iterations(n_iters=200000, print_every=50000)"
   ]
  },
  {
   "cell_type": "code",
   "execution_count": 189,
   "metadata": {},
   "outputs": [
    {
     "name": "stdout",
     "output_type": "stream",
     "text": [
      " 50000  25% (  3m 52s)   0.03   |   0.00: . -> PUNCT ✓\n",
      "100000  50% (  7m 43s)   0.02   |   0.00: Township -> PLAIN ✓\n",
      "150000  75% ( 11m 36s)   0.03   |   0.00: 6pm -> TIME ✓\n",
      "200000 100% ( 15m 28s)   0.02   |   0.00: .321 -> DECIMAL ✓\n",
      "Accuracy: 98.98% (    9898/   10000)\n"
     ]
    }
   ],
   "source": [
    "optimizer = torch.optim.Adam(model.parameters(), lr=0.0001)\n",
    "all_losses_2 = train_iterations(n_iters=200000, print_every=50000)"
   ]
  },
  {
   "cell_type": "code",
   "execution_count": 193,
   "metadata": {
    "collapsed": true
   },
   "outputs": [
    {
     "name": "stdout",
     "output_type": "stream",
     "text": [
      " 50000  25% (  4m 15s)   0.036   |   0.00: 01 -> DIGIT ✓\n",
      "100000  50% (  7m 54s)   0.042   |   0.00: ISBN -> LETTERS ✓\n",
      "150000  75% ( 12m 58s)   0.042   |   0.00: 89 -> CARDINAL ✓\n",
      "200000 100% ( 16m 58s)   0.020   |   0.00: 567 -> CARDINAL ✓\n",
      "Accuracy: 99.17% (    9917/   10000)\n"
     ]
    },
    {
     "data": {
      "text/plain": [
       "[0.04446034624800086,\n",
       " 0.01713709685858339,\n",
       " 0.020759916273877025,\n",
       " 0.03350224601477385,\n",
       " 0.03363095946982503,\n",
       " 0.021130575880408287,\n",
       " 0.032077068600803615,\n",
       " 0.016756394162774087,\n",
       " 0.03946602449310012,\n",
       " 0.02763761295378208,\n",
       " 0.03099689495563507,\n",
       " 0.030125239118933677,\n",
       " 0.027380785439163446,\n",
       " 0.04455636182241142,\n",
       " 0.02213010887801647,\n",
       " 0.0436750465342775,\n",
       " 0.01747103086858988,\n",
       " 0.0354392639696598,\n",
       " 0.028223363935947418,\n",
       " 0.033052746791392563,\n",
       " 0.03538114546239376,\n",
       " 0.020298996757715942,\n",
       " 0.05131835147738457,\n",
       " 0.02854856263101101,\n",
       " 0.049216166730970144,\n",
       " 0.023775458983611317,\n",
       " 0.03347229608148337,\n",
       " 0.03180224143166561,\n",
       " 0.041185850270092486,\n",
       " 0.022030889723449944,\n",
       " 0.04903906730562448,\n",
       " 0.03734733144938946,\n",
       " 0.027625318927515765,\n",
       " 0.010754116356372833,\n",
       " 0.02401821453869343,\n",
       " 0.025388533487915994,\n",
       " 0.01553858908917755,\n",
       " 0.0430373728685081,\n",
       " 0.03082176012545824,\n",
       " 0.033963450077921155,\n",
       " 0.016423612885177137,\n",
       " 0.016012453576549887,\n",
       " 0.03198492698371411,\n",
       " 0.03358678043633699,\n",
       " 0.03293288141861558,\n",
       " 0.058284066885709765,\n",
       " 0.038758751031942665,\n",
       " 0.02754856752231717,\n",
       " 0.032018211379647256,\n",
       " 0.035846069414168596,\n",
       " 0.02577339792996645,\n",
       " 0.03675319411978126,\n",
       " 0.038856108721345664,\n",
       " 0.0345874514397583,\n",
       " 0.037012640049681064,\n",
       " 0.02433821902051568,\n",
       " 0.056822475410997865,\n",
       " 0.01720732378959656,\n",
       " 0.028224737975746393,\n",
       " 0.04153538735024631,\n",
       " 0.0489126385897398,\n",
       " 0.029705304935574533,\n",
       " 0.021314611436799167,\n",
       " 0.03217338339239359,\n",
       " 0.028643322344869375,\n",
       " 0.0614393331259489,\n",
       " 0.03300284098903648,\n",
       " 0.04829380387440324,\n",
       " 0.029650581151247024,\n",
       " 0.02226853683590889,\n",
       " 0.02602251499547856,\n",
       " 0.031616222454234955,\n",
       " 0.029282345496118068,\n",
       " 0.03256763515621424,\n",
       " 0.025089570975862445,\n",
       " 0.028288843914866448,\n",
       " 0.01821673335740343,\n",
       " 0.02685598486289382,\n",
       " 0.015099288679659366,\n",
       " 0.019913370184600352,\n",
       " 0.034330737130716445,\n",
       " 0.02270898187160492,\n",
       " 0.02724281644821167,\n",
       " 0.0545344033613801,\n",
       " 0.035705511569976804,\n",
       " 0.026405763432383537,\n",
       " 0.02535493989288807,\n",
       " 0.0260511254966259,\n",
       " 0.034809329751878976,\n",
       " 0.02096241743862629,\n",
       " 0.03802333348384127,\n",
       " 0.02726451600342989,\n",
       " 0.037171581093221905,\n",
       " 0.029753365501761435,\n",
       " 0.051194216582924126,\n",
       " 0.029427959084510805,\n",
       " 0.023158430254086853,\n",
       " 0.010620845094323159,\n",
       " 0.03680795526318252,\n",
       " 0.04209350156784058,\n",
       " 0.025147793982177973,\n",
       " 0.04698857448995113,\n",
       " 0.016487377231009303,\n",
       " 0.014769464602693915,\n",
       " 0.018003910906612873,\n",
       " 0.03251511966437101,\n",
       " 0.05193453972786665,\n",
       " 0.04503833911567926,\n",
       " 0.028573456361889838,\n",
       " 0.02156997931888327,\n",
       " 0.034627361218445,\n",
       " 0.02452891493961215,\n",
       " 0.011961793258786201,\n",
       " 0.022935279291123153,\n",
       " 0.04410249810665846,\n",
       " 0.033206041146069766,\n",
       " 0.027810900945158208,\n",
       " 0.03552523347735405,\n",
       " 0.03359929996728897,\n",
       " 0.019767666758503766,\n",
       " 0.037968161588534714,\n",
       " 0.05770057089626789,\n",
       " 0.014064511973410845,\n",
       " 0.040793623346835374,\n",
       " 0.03544772347807884,\n",
       " 0.028062179811298847,\n",
       " 0.01454001185297966,\n",
       " 0.01984430270444136,\n",
       " 0.031199407692998646,\n",
       " 0.03172177808528068,\n",
       " 0.02146539679169655,\n",
       " 0.042771638725884256,\n",
       " 0.046143733881413934,\n",
       " 0.029834436239907516,\n",
       " 0.04881206358363852,\n",
       " 0.030575485296547415,\n",
       " 0.024244597479701042,\n",
       " 0.018616007687523962,\n",
       " 0.048336982985958454,\n",
       " 0.02862076124921441,\n",
       " 0.021218410508707167,\n",
       " 0.029163853649049998,\n",
       " 0.03380524178221822,\n",
       " 0.03419963809102774,\n",
       " 0.0301033490896225,\n",
       " 0.042788218285888434,\n",
       " 0.035045986592769626,\n",
       " 0.023675691325217487,\n",
       " 0.038590109188109636,\n",
       " 0.04223705267161131,\n",
       " 0.015777955655474216,\n",
       " 0.02133272512955591,\n",
       " 0.02047267453558743,\n",
       " 0.015207010302692652,\n",
       " 0.01721724225394428,\n",
       " 0.015292602621018886,\n",
       " 0.025231856022030114,\n",
       " 0.023891180521808563,\n",
       " 0.00828297173883766,\n",
       " 0.035684360660612584,\n",
       " 0.014435798212885856,\n",
       " 0.028127116233110427,\n",
       " 0.021135723758488892,\n",
       " 0.01798101957142353,\n",
       " 0.041221755638718605,\n",
       " 0.028933447770774365,\n",
       " 0.022273396695032716,\n",
       " 0.026584102772176266,\n",
       " 0.027526323921163567,\n",
       " 0.02619703347980976,\n",
       " 0.024495868956204505,\n",
       " 0.02181486098654568,\n",
       " 0.04708852203330025,\n",
       " 0.012332782874116674,\n",
       " 0.01586898456327617,\n",
       " 0.013982313437387347,\n",
       " 0.01875985100120306,\n",
       " 0.036211807071696966,\n",
       " 0.0136198800355196,\n",
       " 0.033341878712177274,\n",
       " 0.043319381158798936,\n",
       " 0.011787397786974907,\n",
       " 0.015689714699983596,\n",
       " 0.022479503588285297,\n",
       " 0.027163848608732225,\n",
       " 0.04529994583595544,\n",
       " 0.021766885451972483,\n",
       " 0.02472953936457634,\n",
       " 0.02766368998773396,\n",
       " 0.02911927319690585,\n",
       " 0.025082624905742704,\n",
       " 0.027686412794515492,\n",
       " 0.025043129041790964,\n",
       " 0.019477892491966485,\n",
       " 0.06037666251510382,\n",
       " 0.03419517750758678,\n",
       " 0.025439664758741855,\n",
       " 0.0205363513417542,\n",
       " 0.03465616211295128,\n",
       " 0.019707100823521614]"
      ]
     },
     "execution_count": 193,
     "metadata": {},
     "output_type": "execute_result"
    }
   ],
   "source": [
    "optimizer = torch.optim.Adam(model.parameters(), lr=0.0001)\n",
    "train_iterations(n_iters=200000, print_every=50000);"
   ]
  },
  {
   "cell_type": "code",
   "execution_count": 196,
   "metadata": {},
   "outputs": [
    {
     "name": "stdout",
     "output_type": "stream",
     "text": [
      " 50000  25% (  3m 58s)   0.025   |   0.00: ( -> PUNCT ✓\n",
      "100000  50% (  7m 58s)   0.018   |   0.00: By -> PLAIN ✓\n",
      "150000  75% (  12m 4s)   0.010   |   0.00: February 25, 2006 -> DATE ✓\n",
      "200000 100% ( 15m 47s)   0.016   |   0.00: and -> PLAIN ✓\n",
      "Accuracy: 99.34% (    9934/   10000)\n"
     ]
    }
   ],
   "source": [
    "optimizer = torch.optim.Adam(model.parameters(), lr=0.0001)\n",
    "all_losses = train_iterations(n_iters=200000, print_every=50000);"
   ]
  },
  {
   "cell_type": "code",
   "execution_count": 197,
   "metadata": {},
   "outputs": [
    {
     "name": "stdout",
     "output_type": "stream",
     "text": [
      " 50000  25% (  3m 35s)   0.034   |   0.00: century -> PLAIN ✓\n",
      "100000  50% (   7m 4s)   0.032   |   0.04: Nama -> LETTERS ✓\n",
      "150000  75% ( 10m 53s)   0.017   |   0.02: P- -> LETTERS ✓\n",
      "200000 100% ( 14m 44s)   0.043   |   0.00: standard -> PLAIN ✓\n",
      "Accuracy: 99.35% (    9935/   10000)\n"
     ]
    }
   ],
   "source": [
    "optimizer = torch.optim.Adam(model.parameters(), lr=0.0001)\n",
    "all_losses = train_iterations(n_iters=200000, print_every=50000);"
   ]
  },
  {
   "cell_type": "code",
   "execution_count": 199,
   "metadata": {
    "collapsed": true
   },
   "outputs": [],
   "source": [
    "def data_balance_randomize_classes(max_len=10000):\n",
    "    global data_balanced_classes\n",
    "    data_balanced_classes = pd.concat([v.sample(min(max_len, len(v))) for k, v in all_data_classes])\n",
    "data_balance_randomize_classes()"
   ]
  },
  {
   "cell_type": "code",
   "execution_count": 201,
   "metadata": {},
   "outputs": [
    {
     "name": "stdout",
     "output_type": "stream",
     "text": [
      " 50000  50% (  3m 54s)   0.037   |   0.00: 19 -> CARDINAL ✓\n",
      "100000 100% (  7m 46s)   0.032   |   0.00: CYP24 -> MONEY ✓\n",
      "Accuracy: 98.75% (    9875/   10000)\n"
     ]
    }
   ],
   "source": [
    "optimizer = torch.optim.Adam(model.parameters(), lr=0.0001)\n",
    "all_losses = train_iterations(n_iters=100000, print_every=50000);"
   ]
  },
  {
   "cell_type": "code",
   "execution_count": 202,
   "metadata": {},
   "outputs": [
    {
     "name": "stdout",
     "output_type": "stream",
     "text": [
      " 50000  50% (  3m 48s)   0.028   |   0.00: musicradar.com -> ELECTRONIC ✓\n",
      "100000 100% (  7m 36s)   0.021   |   0.00: ESG -> LETTERS ✓\n",
      "Accuracy: 98.82% (    9882/   10000)\n"
     ]
    }
   ],
   "source": [
    "optimizer = torch.optim.Adam(model.parameters(), lr=0.0001)\n",
    "all_losses = train_iterations(n_iters=100000, print_every=50000);"
   ]
  },
  {
   "cell_type": "code",
   "execution_count": 203,
   "metadata": {},
   "outputs": [
    {
     "name": "stdout",
     "output_type": "stream",
     "text": [
      " 50000  50% (  3m 48s)   0.043   |   0.00: November 20, 2009 -> DATE ✓\n",
      "100000 100% (  7m 36s)   0.041   |   0.00: T&T's -> LETTERS ✓\n",
      "Accuracy: 98.86% (    9886/   10000)\n"
     ]
    }
   ],
   "source": [
    "optimizer = torch.optim.Adam(model.parameters(), lr=0.0001)\n",
    "all_losses = train_iterations(n_iters=100000, print_every=50000);"
   ]
  },
  {
   "cell_type": "code",
   "execution_count": 204,
   "metadata": {},
   "outputs": [
    {
     "name": "stdout",
     "output_type": "stream",
     "text": [
      " 50000  50% (  3m 47s)   0.034   |   0.00: http://www.tshaonline.org/handbook/online/articles/fcacb -> ELECTRONIC ✓\n",
      "100000 100% (  7m 32s)   0.022   |   0.00: different -> PLAIN ✓\n",
      "Accuracy: 99.01% (    9901/   10000)\n"
     ]
    }
   ],
   "source": [
    "optimizer = torch.optim.Adam(model.parameters(), lr=0.0001)\n",
    "all_losses = train_iterations(n_iters=100000, print_every=50000);"
   ]
  },
  {
   "cell_type": "code",
   "execution_count": 235,
   "metadata": {},
   "outputs": [
    {
     "name": "stdout",
     "output_type": "stream",
     "text": [
      " 50000  50% (  4m 21s)   0.034   |   0.00: PDF -> LETTERS ✓\n",
      "100000 100% (  8m 28s)   0.032   |   0.00: 6:30 am -> TIME ✓\n",
      "Accuracy: 97.66% (    9766/   10000)\n"
     ]
    }
   ],
   "source": [
    "optimizer = torch.optim.Adam(model.parameters(), lr=0.0001)\n",
    "all_losses = train_iterations(n_iters=100000, print_every=50000);"
   ]
  },
  {
   "cell_type": "code",
   "execution_count": 236,
   "metadata": {},
   "outputs": [
    {
     "name": "stdout",
     "output_type": "stream",
     "text": [
      " 50000  50% (  4m 20s)   0.030   |   0.00: February 3, 2007 -> DATE ✓\n",
      "100000 100% (  8m 22s)   0.013   |   0.00: 1-56025-275-8 -> TELEPHONE ✓\n",
      "Accuracy: 98.89% (    9889/   10000)\n"
     ]
    }
   ],
   "source": [
    "optimizer = torch.optim.Adam(model.parameters(), lr=0.0001)\n",
    "all_losses = train_iterations(n_iters=100000, print_every=50000);"
   ]
  },
  {
   "cell_type": "code",
   "execution_count": null,
   "metadata": {
    "collapsed": true
   },
   "outputs": [],
   "source": []
  },
  {
   "cell_type": "code",
   "execution_count": 238,
   "metadata": {},
   "outputs": [
    {
     "name": "stdout",
     "output_type": "stream",
     "text": [
      "Accuracy: 98.20% (    9820/   10000)\n"
     ]
    }
   ],
   "source": [
    "data_balance_randomize_classes(100000)\n",
    "test_model_accuracy(model, n_sample=10000)"
   ]
  },
  {
   "cell_type": "code",
   "execution_count": null,
   "metadata": {
    "collapsed": true
   },
   "outputs": [],
   "source": []
  },
  {
   "cell_type": "code",
   "execution_count": null,
   "metadata": {
    "collapsed": true
   },
   "outputs": [],
   "source": []
  },
  {
   "cell_type": "markdown",
   "metadata": {},
   "source": [
    "### Results eval"
   ]
  },
  {
   "cell_type": "code",
   "execution_count": 205,
   "metadata": {},
   "outputs": [
    {
     "data": {
      "image/png": "[encoded data removed]",
      "text/plain": [
       "<matplotlib.figure.Figure at 0x7f4f05ba1f60>"
      ]
     },
     "metadata": {},
     "output_type": "display_data"
    }
   ],
   "source": [
    "# Keep track of correct guesses in a confusion matrix\n",
    "confusion = torch.zeros(len(categories_all), len(categories_all))\n",
    "n_confusion = 100000\n",
    "data_balance_randomize_classes(100000)\n",
    "# Go through a bunch of examples and record which are correctly guessed\n",
    "for i in range(n_confusion):\n",
    "    s_bef, s_aft, s_class, s_word_vs = get_random_sample()\n",
    "    word_vectors = Variable(torch.from_numpy(s_word_vs))\n",
    "    string = Variable(string_to_tensor(s_bef))\n",
    "    if use_cuda:\n",
    "        word_vectors = word_vectors.cuda()\n",
    "        string = string.cuda()\n",
    "    output = model(word_vectors, string)\n",
    "    guess, guess_i = category_from_output(output)\n",
    "    category_i = categories_index[s_class]\n",
    "    confusion[category_i][guess_i] += 1\n",
    "\n",
    "# Normalize by dividing every row by its sum\n",
    "for i in range(len(categories_all)):\n",
    "    confusion[i] = confusion[i] / confusion[i].sum()\n",
    "\n",
    "# Set up plot\n",
    "fig = plt.figure()\n",
    "ax = fig.add_subplot(111)\n",
    "cax = ax.matshow(confusion.numpy())\n",
    "fig.colorbar(cax)\n",
    "\n",
    "# Set up axes\n",
    "ax.set_xticklabels([''] + list(categories_all), rotation=90)\n",
    "ax.set_yticklabels([''] + list(categories_all))\n",
    "\n",
    "# Force label at every tick\n",
    "ax.xaxis.set_major_locator(matplotlib.ticker.MultipleLocator(1))\n",
    "ax.yaxis.set_major_locator(matplotlib.ticker.MultipleLocator(1))\n",
    "\n",
    "# sphinx_gallery_thumbnail_number = 2\n",
    "plt.show()"
   ]
  },
  {
   "cell_type": "code",
   "execution_count": 234,
   "metadata": {},
   "outputs": [
    {
     "data": {
      "image/png": "[encoded data removed]",
      "text/plain": [
       "<matplotlib.figure.Figure at 0x7f4f05b42278>"
      ]
     },
     "metadata": {},
     "output_type": "display_data"
    }
   ],
   "source": [
    "confusion_2 = confusion.clone().numpy()\n",
    "for i in range(len(confusion_2)):\n",
    "    confusion_2[i,i]=0\n",
    "\n",
    "fig = plt.figure()\n",
    "ax = fig.add_subplot(111)\n",
    "cax = ax.matshow(confusion_2)\n",
    "fig.colorbar(cax)\n",
    "\n",
    "# Set up axes\n",
    "ax.set_xticklabels([''] + list(categories_all), rotation=90)\n",
    "ax.set_yticklabels([''] + list(categories_all))\n",
    "\n",
    "# Force label at every tick\n",
    "ax.xaxis.set_major_locator(matplotlib.ticker.MultipleLocator(1))\n",
    "ax.yaxis.set_major_locator(matplotlib.ticker.MultipleLocator(1))\n",
    "\n",
    "# sphinx_gallery_thumbnail_number = 2\n",
    "plt.show()"
   ]
  },
  {
   "cell_type": "code",
   "execution_count": null,
   "metadata": {
    "collapsed": true
   },
   "outputs": [],
   "source": []
  },
  {
   "cell_type": "code",
   "execution_count": null,
   "metadata": {
    "collapsed": true
   },
   "outputs": [],
   "source": []
  }
 ],
 "metadata": {
  "anaconda-cloud": {},
  "kernelspec": {
   "display_name": "Python [conda env:py3_pytorch_2]",
   "language": "python",
   "name": "conda-env-py3_pytorch_2-py"
  },
  "language_info": {
   "codemirror_mode": {
    "name": "ipython",
    "version": 3
   },
   "file_extension": ".py",
   "mimetype": "text/x-python",
   "name": "python",
   "nbconvert_exporter": "python",
   "pygments_lexer": "ipython3",
   "version": "3.6.1"
  }
 },
 "nbformat": 4,
 "nbformat_minor": 2
}
