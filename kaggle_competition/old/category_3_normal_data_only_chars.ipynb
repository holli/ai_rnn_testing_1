{
 "cells": [
  {
   "cell_type": "code",
   "execution_count": 1,
   "metadata": {},
   "outputs": [
    {
     "name": "stdout",
     "output_type": "stream",
     "text": [
      "Pytorch utils oh: pytorch_utils_oh_1.py\n",
      "Pytorch: 0.2.0_4\n"
     ]
    }
   ],
   "source": [
    "%matplotlib inline\n",
    "import importlib\n",
    "from pytorch_utils_oh_1 import *"
   ]
  },
  {
   "cell_type": "code",
   "execution_count": 2,
   "metadata": {
    "collapsed": true
   },
   "outputs": [],
   "source": [
    "MODEL_SAVE_PATH = 'category_3_normal_data_only_chars'"
   ]
  },
  {
   "cell_type": "markdown",
   "metadata": {},
   "source": [
    "import pytorch_utils_oh_1; importlib.reload(pytorch_utils_oh_1); from pytorch_utils_oh_1 import *;"
   ]
  },
  {
   "cell_type": "markdown",
   "metadata": {},
   "source": [
    "# Data loading"
   ]
  },
  {
   "cell_type": "code",
   "execution_count": 3,
   "metadata": {},
   "outputs": [],
   "source": [
    "all_data = pickle.load(open(\"data/en_train_verbatim_1.pkl\", \"rb\" ))"
   ]
  },
  {
   "cell_type": "code",
   "execution_count": 4,
   "metadata": {
    "collapsed": true
   },
   "outputs": [],
   "source": [
    "all_data_sentence_index = all_data.set_index('sentence_id')"
   ]
  },
  {
   "cell_type": "code",
   "execution_count": 5,
   "metadata": {},
   "outputs": [
    {
     "data": {
      "text/html": [
       "<div>\n",
       "<style>\n",
       "    .dataframe thead tr:only-child th {\n",
       "        text-align: right;\n",
       "    }\n",
       "\n",
       "    .dataframe thead th {\n",
       "        text-align: left;\n",
       "    }\n",
       "\n",
       "    .dataframe tbody tr th {\n",
       "        vertical-align: top;\n",
       "    }\n",
       "</style>\n",
       "<table border=\"1\" class=\"dataframe\">\n",
       "  <thead>\n",
       "    <tr style=\"text-align: right;\">\n",
       "      <th></th>\n",
       "      <th>sentence_id</th>\n",
       "      <th>token_id</th>\n",
       "      <th>class</th>\n",
       "      <th>before</th>\n",
       "      <th>after</th>\n",
       "    </tr>\n",
       "  </thead>\n",
       "  <tbody>\n",
       "    <tr>\n",
       "      <th>4602185</th>\n",
       "      <td>352557</td>\n",
       "      <td>1</td>\n",
       "      <td>PLAIN</td>\n",
       "      <td>a</td>\n",
       "      <td>a</td>\n",
       "    </tr>\n",
       "    <tr>\n",
       "      <th>7106565</th>\n",
       "      <td>539346</td>\n",
       "      <td>4</td>\n",
       "      <td>PUNCT</td>\n",
       "      <td>\"</td>\n",
       "      <td>\"</td>\n",
       "    </tr>\n",
       "    <tr>\n",
       "      <th>5860189</th>\n",
       "      <td>446733</td>\n",
       "      <td>5</td>\n",
       "      <td>PLAIN</td>\n",
       "      <td>Stryker's</td>\n",
       "      <td>Stryker's</td>\n",
       "    </tr>\n",
       "    <tr>\n",
       "      <th>4841757</th>\n",
       "      <td>370424</td>\n",
       "      <td>5</td>\n",
       "      <td>PUNCT</td>\n",
       "      <td>?</td>\n",
       "      <td>?</td>\n",
       "    </tr>\n",
       "    <tr>\n",
       "      <th>6177598</th>\n",
       "      <td>470406</td>\n",
       "      <td>5</td>\n",
       "      <td>PLAIN</td>\n",
       "      <td>find</td>\n",
       "      <td>find</td>\n",
       "    </tr>\n",
       "  </tbody>\n",
       "</table>\n",
       "</div>"
      ],
      "text/plain": [
       "         sentence_id  token_id  class     before      after\n",
       "4602185       352557         1  PLAIN          a          a\n",
       "7106565       539346         4  PUNCT          \"          \"\n",
       "5860189       446733         5  PLAIN  Stryker's  Stryker's\n",
       "4841757       370424         5  PUNCT          ?          ?\n",
       "6177598       470406         5  PLAIN       find       find"
      ]
     },
     "execution_count": 5,
     "metadata": {},
     "output_type": "execute_result"
    }
   ],
   "source": [
    "all_data.sample(5)"
   ]
  },
  {
   "cell_type": "code",
   "execution_count": 6,
   "metadata": {},
   "outputs": [
    {
     "name": "stdout",
     "output_type": "stream",
     "text": [
      "['PLAIN' 'PUNCT' 'DATE' 'LETTERS' 'CARDINAL' 'VERBATIM' 'DECIMAL' 'MEASURE'\n",
      " 'MONEY' 'ORDINAL' 'TIME' 'ELECTRONIC' 'DIGIT' 'FRACTION' 'TELEPHONE'\n",
      " 'ADDRESS']\n",
      "16\n"
     ]
    }
   ],
   "source": [
    "categories_all = all_data[\"class\"].unique()\n",
    "print(categories_all)\n",
    "print(len(categories_all))\n",
    "categories_index = dict((c, i) for i, c in enumerate(categories_all))"
   ]
  },
  {
   "cell_type": "markdown",
   "metadata": {},
   "source": [
    "### More balanced sample"
   ]
  },
  {
   "cell_type": "code",
   "execution_count": 7,
   "metadata": {},
   "outputs": [
    {
     "data": {
      "text/plain": [
       "class\n",
       "ADDRESS           522\n",
       "CARDINAL       133744\n",
       "DATE           258348\n",
       "DECIMAL          9821\n",
       "DIGIT            5442\n",
       "ELECTRONIC       5162\n",
       "FRACTION         1196\n",
       "LETTERS        152790\n",
       "MEASURE         14783\n",
       "MONEY            6128\n",
       "ORDINAL         12703\n",
       "PLAIN         7353647\n",
       "PUNCT         1880507\n",
       "TELEPHONE        4024\n",
       "TIME             1465\n",
       "VERBATIM        78108\n",
       "Name: class, dtype: int64"
      ]
     },
     "execution_count": 7,
     "metadata": {},
     "output_type": "execute_result"
    }
   ],
   "source": [
    "all_data.groupby(\"class\")[\"class\"].count()"
   ]
  },
  {
   "cell_type": "code",
   "execution_count": 8,
   "metadata": {
    "scrolled": true
   },
   "outputs": [],
   "source": [
    "balanced_data_classes_select = list(all_data.groupby('class'))\n",
    "def balanced_data_randomize(max_len=10000):\n",
    "    global balanced_data\n",
    "    balanced_data = pd.concat([v.sample(min(max_len, len(v))) for k, v in balanced_data_classes_select])\n",
    "balanced_data_randomize()"
   ]
  },
  {
   "cell_type": "code",
   "execution_count": 9,
   "metadata": {},
   "outputs": [
    {
     "data": {
      "text/plain": [
       "class\n",
       "ADDRESS         522\n",
       "CARDINAL      10000\n",
       "DATE          10000\n",
       "DECIMAL        9821\n",
       "DIGIT          5442\n",
       "ELECTRONIC     5162\n",
       "FRACTION       1196\n",
       "LETTERS       10000\n",
       "MEASURE       10000\n",
       "MONEY          6128\n",
       "ORDINAL       10000\n",
       "PLAIN         10000\n",
       "PUNCT         10000\n",
       "TELEPHONE      4024\n",
       "TIME           1465\n",
       "VERBATIM      10000\n",
       "Name: class, dtype: int64"
      ]
     },
     "execution_count": 9,
     "metadata": {},
     "output_type": "execute_result"
    }
   ],
   "source": [
    "balanced_data.groupby(\"class\")[\"class\"].count()"
   ]
  },
  {
   "cell_type": "markdown",
   "metadata": {},
   "source": [
    "### Letters all"
   ]
  },
  {
   "cell_type": "code",
   "execution_count": 10,
   "metadata": {},
   "outputs": [
    {
     "name": "stdout",
     "output_type": "stream",
     "text": [
      "<EOS><SOS> !\"#$%&'()+,-./0123456789:;?ABCDEFGHIJKLMNOPQRSTUVWXYZ[]_abcdefghijklmnopqrstuvwxyz|~¡£¥ª«²³µº»¼½¾¿éɒʻˈΩμ—€⅓⅔⅛⅝⅞☒\n",
      "115\n"
     ]
    }
   ],
   "source": [
    "tmp = sorted(list(set(''.join(all_data['before']))))\n",
    "characters_all = ['<EOS>', '<SOS>'] + sorted(list(set(tmp)))\n",
    "characters_all_index = dict((c, i) for i, c in enumerate(characters_all))\n",
    "print(''.join(characters_all))\n",
    "print(len(characters_all))"
   ]
  },
  {
   "cell_type": "markdown",
   "metadata": {},
   "source": [
    "# Samples"
   ]
  },
  {
   "cell_type": "code",
   "execution_count": 11,
   "metadata": {},
   "outputs": [
    {
     "name": "stdout",
     "output_type": "stream",
     "text": [
      "LETTERS : BD -> b d\n",
      "Two <SAMPLE> / DVD compilation volumes were released : the first on March 6, 2013 and the second on April 3, 2013 .\n",
      "torch.Size([1, 3, 115])\n"
     ]
    }
   ],
   "source": [
    "def get_random_sample():\n",
    "    sample_row = balanced_data.iloc[random.randint(1, len(balanced_data)-1)]\n",
    "    sentence_id = sample_row['class']\n",
    "\n",
    "    rows = all_data_sentence_index.loc[sample_row['sentence_id']]\n",
    "    befores = rows.before.values\n",
    "        \n",
    "    token_id_idx = list(rows['token_id']).index(sample_row['token_id'])\n",
    "    befores[token_id_idx] = SAMPLE_WORD_TOKEN\n",
    "\n",
    "    return sample_row['before'], sample_row['after'], sample_row['class'], befores\n",
    "            \n",
    "def tmp():\n",
    "    s_bef, s_aft, s_class, s_sentence = get_random_sample()\n",
    "    print(s_class, ':', s_bef, '->', s_aft)\n",
    "    print(' '.join(s_sentence))\n",
    "    print(string_to_tensor(s_bef, characters_all_index).shape)\n",
    "tmp()"
   ]
  },
  {
   "cell_type": "markdown",
   "metadata": {},
   "source": [
    "# Model"
   ]
  },
  {
   "cell_type": "code",
   "execution_count": 12,
   "metadata": {
    "collapsed": true
   },
   "outputs": [],
   "source": [
    "class CategorizeRNN(nn.Module):\n",
    "    def __init__(self, output_size, chars_input_size, chars_hidden_size, chars_layers=1):\n",
    "        super(CategorizeRNN, self).__init__()\n",
    "        \n",
    "        self.chars_layers = chars_layers\n",
    "        self.chars_hidden_size = chars_hidden_size\n",
    "\n",
    "        self.rnn_chars = nn.LSTM(chars_input_size, chars_hidden_size // 2, chars_layers,\n",
    "                                batch_first=True, bidirectional=True)\n",
    "        \n",
    "        self.lin_output = nn.Linear(chars_hidden_size, output_size)\n",
    "        \n",
    "    def forward(self, string_tensor, init_hidden = True):\n",
    "        if init_hidden:\n",
    "            hidden_chars = self.init_hidden()\n",
    "        \n",
    "        all_outputs_chars, hidden_chars = self.rnn_chars(string_tensor, hidden_chars)\n",
    "        output_chars = all_outputs_chars[:, -1]\n",
    "        \n",
    "        output = output_chars\n",
    "        \n",
    "        #output = self.lin_1(output)\n",
    "        output = self.lin_output(output)\n",
    "        output = F.log_softmax(output)\n",
    "        \n",
    "        return output\n",
    "\n",
    "    def init_hidden(self):\n",
    "        var2_1 = Variable(torch.zeros(2 * self.chars_layers, 1, self.chars_hidden_size // 2))\n",
    "        var2_2 = Variable(torch.zeros(2 * self.chars_layers, 1, self.chars_hidden_size // 2))\n",
    "        var2_1 = var2_1.cuda(); var2_2 = var2_2.cuda()\n",
    "        return (var2_1, var2_2)"
   ]
  },
  {
   "cell_type": "code",
   "execution_count": 13,
   "metadata": {},
   "outputs": [
    {
     "name": "stdout",
     "output_type": "stream",
     "text": [
      "Save path: data/models/category_3_normal_data_only_chars\n"
     ]
    },
    {
     "data": {
      "text/plain": [
       "CategorizeRNN (\n",
       "  (rnn_chars): LSTM(115, 64, num_layers=2, batch_first=True, bidirectional=True)\n",
       "  (lin_output): Linear (128 -> 16)\n",
       ")"
      ]
     },
     "execution_count": 13,
     "metadata": {},
     "output_type": "execute_result"
    }
   ],
   "source": [
    "model = CategorizeRNN(len(categories_all), chars_input_size=len(characters_all),\n",
    "                      chars_hidden_size=128, chars_layers=2)\n",
    "model = model.cuda()\n",
    "\n",
    "model_training = ModelTraining(MODEL_SAVE_PATH, [model])\n",
    "\n",
    "model"
   ]
  },
  {
   "cell_type": "code",
   "execution_count": null,
   "metadata": {},
   "outputs": [],
   "source": []
  },
  {
   "cell_type": "markdown",
   "metadata": {},
   "source": [
    "### Accuracy"
   ]
  },
  {
   "cell_type": "code",
   "execution_count": 40,
   "metadata": {},
   "outputs": [
    {
     "data": {
      "text/plain": [
       "('DECIMAL', 6)"
      ]
     },
     "execution_count": 40,
     "metadata": {},
     "output_type": "execute_result"
    }
   ],
   "source": [
    "def category_from_output(output, categories):\n",
    "    top_n, top_i = output.data.topk(1)\n",
    "    category_i = top_i[0][0]\n",
    "    return categories[category_i], category_i\n",
    "\n",
    "# print(category_from_output(output))\n",
    "# category_from_output(tmp)\n",
    "category_from_output(Variable(torch.rand(1, len(categories_all))), categories_all)"
   ]
  },
  {
   "cell_type": "code",
   "execution_count": 72,
   "metadata": {},
   "outputs": [
    {
     "data": {
      "text/plain": [
       "(Variable containing:\n",
       " \n",
       " Columns 0 to 7 \n",
       "  -6.9491  -0.0015 -16.9563  -9.0860  -7.9421 -11.2581 -14.4997 -15.1040\n",
       " \n",
       " Columns 8 to 15 \n",
       " -12.4996 -12.1153 -11.3086 -11.1375  -9.9099 -12.5719 -11.9371 -12.5261\n",
       " [torch.cuda.FloatTensor of size 1x16 (GPU 0)], ('PUNCT', 1), ('PUNCT', 1))"
      ]
     },
     "execution_count": 72,
     "metadata": {},
     "output_type": "execute_result"
    }
   ],
   "source": [
    "def test_model_single_eval(model):\n",
    "    s_bef, s_aft, s_class, s_sentence = get_random_sample()\n",
    "    string_t = string_to_tensor(s_bef, characters_all_index)\n",
    "    \n",
    "    string_t = Variable(string_t).cuda()\n",
    "    \n",
    "    output = model(string_t)\n",
    "    guess = category_from_output(output, categories_all)\n",
    "    return output, guess, (s_class, categories_index[s_class])\n",
    "\n",
    "test_model_single_sample = test_model_single_eval\n",
    "test_model_single_eval(model)"
   ]
  },
  {
   "cell_type": "code",
   "execution_count": 55,
   "metadata": {
    "collapsed": true
   },
   "outputs": [],
   "source": [
    "def test_model_accuracy(model, test_n_sample=10000):\n",
    "    model.eval()\n",
    "    n_correct = 0\n",
    "    \n",
    "    for iteration in range(n_sample):        \n",
    "        output, guess, correct = test_model_single_eval()\n",
    "        \n",
    "        if guess == correct:\n",
    "            n_correct += 1\n",
    "\n",
    "    print(\"Accuracy: {:>4.2%} ({:>8d}/{:>8d})\".format(\n",
    "            n_correct/n_sample, n_correct, n_sample))\n",
    "    \n",
    "    return(n_correct/n_sample)"
   ]
  },
  {
   "cell_type": "code",
   "execution_count": 47,
   "metadata": {},
   "outputs": [
    {
     "name": "stdout",
     "output_type": "stream",
     "text": [
      "Accuracy: 94.86% (    9486/   10000)\n",
      "CPU times: user 14 s, sys: 112 ms, total: 14.1 s\n",
      "Wall time: 14.1 s\n"
     ]
    },
    {
     "data": {
      "text/plain": [
       "0.9486"
      ]
     },
     "execution_count": 47,
     "metadata": {},
     "output_type": "execute_result"
    }
   ],
   "source": [
    "%%time\n",
    "test_model_accuracy(model)"
   ]
  },
  {
   "cell_type": "markdown",
   "metadata": {},
   "source": [
    "### Training"
   ]
  },
  {
   "cell_type": "code",
   "execution_count": 18,
   "metadata": {
    "collapsed": true
   },
   "outputs": [],
   "source": [
    "def train(model, s_category, s_sentence, s_bef, loss_function, optimizer):\n",
    "    \n",
    "    category_tensor = Variable(torch.LongTensor([categories_index[s_category]])).cuda()\n",
    "\n",
    "    string_t = string_to_tensor(s_bef, characters_all_index)\n",
    "    string_t = Variable(string_t).cuda()\n",
    "    \n",
    "    output = model(string_t)\n",
    "    loss = loss_function(output, category_tensor)\n",
    "    optimizer.zero_grad()\n",
    "    loss.backward()\n",
    "    optimizer.step()\n",
    "    \n",
    "    return output, loss.data[0]"
   ]
  },
  {
   "cell_type": "code",
   "execution_count": 19,
   "metadata": {
    "collapsed": true
   },
   "outputs": [],
   "source": [
    "def train_iterations(n_iters=100000, lr=0.001, print_every=10000, plot_every=1000):\n",
    "\n",
    "    start = time.time()\n",
    "    model.train()\n",
    "\n",
    "    current_loss = 0\n",
    "    current_loss_iter = 0\n",
    "\n",
    "    optimizer = torch.optim.Adam(model.parameters(), lr=lr)\n",
    "    loss_function = nn.NLLLoss()\n",
    "    \n",
    "    for iteration in range(1, n_iters + 1):\n",
    "        model_training.iterations += 1\n",
    "        \n",
    "        s_bef, s_aft, s_class, s_sentence = get_random_sample()\n",
    "        \n",
    "        result, loss = train(model=model, s_category=s_class, s_sentence=s_sentence,\n",
    "                             s_bef=s_bef, optimizer=optimizer, loss_function=loss_function)\n",
    "\n",
    "        current_loss += loss\n",
    "        current_loss_iter += 1\n",
    "\n",
    "        # Print iter number, loss, name and guess\n",
    "        if iteration % print_every == 0:\n",
    "            guess, guess_i = category_from_output(result)\n",
    "            correct = '✓' if guess == s_class else \"✗ {}\".format(s_class)\n",
    "            print(\"{:>6d} {:>4.0%} ({:>8}) {:>7.3f}   | {:>6.2f}: {} -> {} ({})\".format(\n",
    "                      model_training.iterations, iteration/n_iters, time_since(start),\n",
    "                      current_loss/current_loss_iter, loss,\n",
    "                      s_bef, guess, correct))\n",
    "\n",
    "        # Add current loss avg to list of losses\n",
    "        if iteration % plot_every == 0:\n",
    "            model_training.losses.append(current_loss / plot_every)\n",
    "            model_training.learning_rates.append(lr)\n",
    "            current_loss = 0\n",
    "            current_loss_iter = 0\n",
    "            \n",
    "        if model_training.iterations % 10000 == 0 or model_training.iterations == 10:\n",
    "            balanced_data_randomize()\n",
    "            \n",
    "        if model_training.iterations % 50000 == 0 or model_training.iterations == 10:\n",
    "            model_training.save_models()\n",
    "            acc = test_model_accuracy(model)\n",
    "            model.train()\n",
    "            model_training.accuracy.append(acc)\n",
    "    \n",
    "    # test_model_accuracy(model, n_sample=10000)"
   ]
  },
  {
   "cell_type": "code",
   "execution_count": 20,
   "metadata": {},
   "outputs": [
    {
     "name": "stdout",
     "output_type": "stream",
     "text": [
      "     9  18% (   0m 0s)   2.768   |   2.80: ☒ -> PUNCT (✗ VERBATIM)\n",
      "Saved model to data/models/category_3_normal_data_only_chars/10_(CategorizeRNN)\n",
      "Accuracy: 8.76% (     876/   10000)\n",
      "    18  36% (  0m 14s)   2.778   |   2.81: 4 -> PUNCT (✗ DIGIT)\n",
      "    27  54% (  0m 15s)   2.775   |   2.75: .gov -> PUNCT (✗ ELECTRONIC)\n",
      "    36  72% (  0m 15s)   2.766   |   2.68: 249 -> PUNCT (✗ CARDINAL)\n",
      "    45  90% (  0m 15s)   2.760   |   2.74: 1.95 -> PUNCT (✗ DECIMAL)\n"
     ]
    }
   ],
   "source": [
    "train_iterations(n_iters=50, print_every=9, lr=0.0001)"
   ]
  },
  {
   "cell_type": "code",
   "execution_count": 21,
   "metadata": {},
   "outputs": [
    {
     "name": "stdout",
     "output_type": "stream",
     "text": [
      "   550  53% (   0m 2s)   2.715   |   2.62: .1 -> ORDINAL (✗ DECIMAL)\n"
     ]
    }
   ],
   "source": [
    "train_iterations(n_iters=(1000-model_training.iterations), print_every=500, lr=0.0001)"
   ]
  },
  {
   "cell_type": "code",
   "execution_count": 22,
   "metadata": {},
   "outputs": [
    {
     "name": "stdout",
     "output_type": "stream",
     "text": [
      "  2000  10% (   0m 4s)   2.392   |   2.11: 3 km -> ORDINAL (✗ MEASURE)\n",
      "  3000  20% (   0m 9s)   2.149   |   1.73: ☒ -> PUNCT (✗ VERBATIM)\n",
      "  4000  30% (  0m 13s)   1.964   |   2.12: 0-7148-3924-8 -> MONEY (✗ TELEPHONE)\n",
      "  5000  40% (  0m 18s)   1.729   |   1.26: November 4, 2014 -> ELECTRONIC (✗ DATE)\n",
      "  6000  50% (  0m 23s)   1.623   |   1.39: 5 billion DKK -> MONEY (✓)\n",
      "  7000  60% (  0m 27s)   1.430   |   0.94: .300 -> DECIMAL (✓)\n",
      "  8000  70% (  0m 32s)   1.423   |   1.69: 9 -> VERBATIM (✗ CARDINAL)\n",
      "  9000  80% (  0m 37s)   1.254   |   2.22: 2% -> CARDINAL (✗ MEASURE)\n",
      " 10000  90% (  0m 41s)   1.066   |   2.48: 4,575 -> DECIMAL (✗ CARDINAL)\n",
      " 11000 100% (  0m 46s)   0.903   |   0.88: 1903 -> DATE (✓)\n"
     ]
    }
   ],
   "source": [
    "train_iterations(n_iters=10000, lr=0.0001, print_every=1000)"
   ]
  },
  {
   "cell_type": "code",
   "execution_count": 23,
   "metadata": {},
   "outputs": [
    {
     "name": "stdout",
     "output_type": "stream",
     "text": [
      " 21000  10% (  0m 45s)   0.377   |   0.67: 2003 -> DATE (✓)\n",
      " 31000  20% (  1m 31s)   0.267   |   2.27: 51 -> CARDINAL (✗ DIGIT)\n",
      " 41000  30% (  2m 16s)   0.293   |   0.26: 36 -> CARDINAL (✓)\n",
      "Saved model to data/models/category_3_normal_data_only_chars/50000_(CategorizeRNN)\n",
      "Accuracy: 93.31% (    9331/   10000)\n",
      " 51000  40% (  3m 14s)   0.177   |   0.00: ☒ -> VERBATIM (✓)\n",
      " 61000  50% (  3m 58s)   0.174   |   0.00: , -> PUNCT (✓)\n",
      " 71000  60% (  4m 42s)   0.205   |   0.00: 134th -> ORDINAL (✓)\n",
      " 81000  70% (  5m 27s)   0.157   |   0.00: $500,000 -> MONEY (✓)\n",
      " 91000  80% (  6m 11s)   0.203   |   0.17: 47 -> CARDINAL (✓)\n",
      "Saved model to data/models/category_3_normal_data_only_chars/100000_(CategorizeRNN)\n",
      "Accuracy: 94.55% (    9455/   10000)\n",
      "101000  90% (  7m 11s)   0.195   |   0.00: 57 mm -> MEASURE (✓)\n",
      "111000 100% (  7m 57s)   0.151   |   0.23: 50 -> CARDINAL (✓)\n"
     ]
    }
   ],
   "source": [
    "train_iterations(n_iters=100000, print_every=10000)"
   ]
  },
  {
   "cell_type": "code",
   "execution_count": 24,
   "metadata": {},
   "outputs": [
    {
     "name": "stdout",
     "output_type": "stream",
     "text": [
      "121000  10% (  0m 46s)   0.186   |   0.00: . -> PUNCT (✓)\n",
      "131000  20% (  1m 32s)   0.175   |   0.12: 40 -> CARDINAL (✓)\n",
      "141000  30% (  2m 20s)   0.168   |   0.00: \" -> PUNCT (✓)\n",
      "Saved model to data/models/category_3_normal_data_only_chars/150000_(CategorizeRNN)\n",
      "Accuracy: 94.91% (    9491/   10000)\n",
      "151000  40% (  3m 24s)   0.160   |   0.00: one -> PLAIN (✓)\n",
      "161000  50% (  4m 17s)   0.170   |   0.03: SPORTV -> LETTERS (✓)\n",
      "171000  60% (  5m 10s)   0.134   |   0.06: Smith -> PLAIN (✓)\n",
      "181000  70% (   6m 3s)   0.150   |   0.62: 2 -> CARDINAL (✓)\n",
      "191000  80% (  6m 56s)   0.137   |   3.48: 1985 -> DATE (✗ CARDINAL)\n",
      "Saved model to data/models/category_3_normal_data_only_chars/200000_(CategorizeRNN)\n",
      "Accuracy: 94.65% (    9465/   10000)\n",
      "201000  90% (   8m 8s)   0.153   |   0.12: Hate -> PLAIN (✓)\n",
      "211000 100% (   9m 4s)   0.211   |   0.01: - -> VERBATIM (✓)\n"
     ]
    }
   ],
   "source": [
    "train_iterations(n_iters=100000, print_every=10000)"
   ]
  },
  {
   "cell_type": "code",
   "execution_count": null,
   "metadata": {
    "collapsed": true
   },
   "outputs": [],
   "source": []
  },
  {
   "cell_type": "code",
   "execution_count": null,
   "metadata": {
    "collapsed": true
   },
   "outputs": [],
   "source": []
  },
  {
   "cell_type": "markdown",
   "metadata": {},
   "source": [
    "# Results"
   ]
  },
  {
   "cell_type": "code",
   "execution_count": 29,
   "metadata": {},
   "outputs": [
    {
     "data": {
      "text/plain": [
       "[<matplotlib.lines.Line2D at 0x7f915cc3d240>]"
      ]
     },
     "execution_count": 29,
     "metadata": {},
     "output_type": "execute_result"
    },
    {
     "data": {
      "image/png": "[encoded data removed]",
      "text/plain": [
       "<matplotlib.figure.Figure at 0x7f915cf9a4e0>"
      ]
     },
     "metadata": {},
     "output_type": "display_data"
    }
   ],
   "source": [
    "plt.figure()\n",
    "plt.plot(model_training.losses)"
   ]
  },
  {
   "cell_type": "code",
   "execution_count": 28,
   "metadata": {},
   "outputs": [
    {
     "data": {
      "text/plain": [
       "[<matplotlib.lines.Line2D at 0x7f915d0160b8>]"
      ]
     },
     "execution_count": 28,
     "metadata": {},
     "output_type": "execute_result"
    },
    {
     "data": {
      "image/png": "[encoded data removed]",
      "text/plain": [
       "<matplotlib.figure.Figure at 0x7f91685330f0>"
      ]
     },
     "metadata": {},
     "output_type": "display_data"
    }
   ],
   "source": [
    "plt.figure()\n",
    "plt.plot(model_training.accuracy)"
   ]
  },
  {
   "cell_type": "code",
   "execution_count": 67,
   "metadata": {},
   "outputs": [
    {
     "data": {
      "image/png": "[encoded data removed]",
      "text/plain": [
       "<matplotlib.figure.Figure at 0x7f915c89b5c0>"
      ]
     },
     "metadata": {},
     "output_type": "display_data"
    },
    {
     "name": "stdout",
     "output_type": "stream",
     "text": [
      "CPU times: user 1min 13s, sys: 768 ms, total: 1min 14s\n",
      "Wall time: 1min 14s\n"
     ]
    }
   ],
   "source": [
    "%%time\n",
    "plot_category_confusion_matrix(categories_all, test_model_single_eval, n_confusion=50000)"
   ]
  },
  {
   "cell_type": "code",
   "execution_count": 73,
   "metadata": {},
   "outputs": [
    {
     "data": {
      "image/png": "[encoded data removed]",
      "text/plain": [
       "<matplotlib.figure.Figure at 0x7f915c704668>"
      ]
     },
     "metadata": {},
     "output_type": "display_data"
    },
    {
     "name": "stdout",
     "output_type": "stream",
     "text": [
      "CPU times: user 1min 13s, sys: 724 ms, total: 1min 13s\n",
      "Wall time: 1min 13s\n"
     ]
    }
   ],
   "source": [
    "%%time\n",
    "plot_category_confusion_matrix(model, categories_all, test_model_single_sample,\n",
    "                               n_confusion=50000, remove_diagonal=True)"
   ]
  },
  {
   "cell_type": "code",
   "execution_count": null,
   "metadata": {
    "collapsed": true
   },
   "outputs": [],
   "source": []
  },
  {
   "cell_type": "code",
   "execution_count": null,
   "metadata": {
    "collapsed": true
   },
   "outputs": [],
   "source": []
  },
  {
   "cell_type": "code",
   "execution_count": null,
   "metadata": {
    "collapsed": true
   },
   "outputs": [],
   "source": []
  }
 ],
 "metadata": {
  "anaconda-cloud": {},
  "kernelspec": {
   "display_name": "Python [conda env:py3_pytorch_2]",
   "language": "python",
   "name": "conda-env-py3_pytorch_2-py"
  },
  "language_info": {
   "codemirror_mode": {
    "name": "ipython",
    "version": 3
   },
   "file_extension": ".py",
   "mimetype": "text/x-python",
   "name": "python",
   "nbconvert_exporter": "python",
   "pygments_lexer": "ipython3",
   "version": "3.6.1"
  }
 },
 "nbformat": 4,
 "nbformat_minor": 2
}
