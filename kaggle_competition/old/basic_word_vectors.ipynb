{
 "cells": [
  {
   "cell_type": "code",
   "execution_count": 109,
   "metadata": {
    "collapsed": true
   },
   "outputs": [],
   "source": [
    "%matplotlib inline\n",
    "import matplotlib.pyplot as plt\n",
    "import matplotlib.ticker\n",
    "import numpy as np\n",
    "import random\n",
    "import time\n",
    "import os\n",
    "import pandas as pd\n",
    "import math\n",
    "import bcolz\n",
    "import pickle\n",
    "import re"
   ]
  },
  {
   "cell_type": "code",
   "execution_count": 2,
   "metadata": {},
   "outputs": [
    {
     "name": "stdout",
     "output_type": "stream",
     "text": [
      "Pytorch: 0.2.0_4\n"
     ]
    }
   ],
   "source": [
    "import torch\n",
    "import torch.nn as nn\n",
    "import torch.nn.functional as F\n",
    "import torch.optim as optim\n",
    "from torch.autograd import Variable\n",
    "print(\"Pytorch: {}\".format(torch.__version__))"
   ]
  },
  {
   "cell_type": "markdown",
   "metadata": {},
   "source": [
    "# Data loading"
   ]
  },
  {
   "cell_type": "code",
   "execution_count": 21,
   "metadata": {
    "collapsed": true
   },
   "outputs": [],
   "source": [
    "all_data_org = pd.read_csv('data/en_train_org.csv')"
   ]
  },
  {
   "cell_type": "code",
   "execution_count": 22,
   "metadata": {},
   "outputs": [
    {
     "data": {
      "text/html": [
       "<div>\n",
       "<style>\n",
       "    .dataframe thead tr:only-child th {\n",
       "        text-align: right;\n",
       "    }\n",
       "\n",
       "    .dataframe thead th {\n",
       "        text-align: left;\n",
       "    }\n",
       "\n",
       "    .dataframe tbody tr th {\n",
       "        vertical-align: top;\n",
       "    }\n",
       "</style>\n",
       "<table border=\"1\" class=\"dataframe\">\n",
       "  <thead>\n",
       "    <tr style=\"text-align: right;\">\n",
       "      <th></th>\n",
       "      <th>sentence_id</th>\n",
       "      <th>token_id</th>\n",
       "      <th>class</th>\n",
       "      <th>before</th>\n",
       "      <th>after</th>\n",
       "    </tr>\n",
       "  </thead>\n",
       "  <tbody>\n",
       "    <tr>\n",
       "      <th>616107</th>\n",
       "      <td>49226</td>\n",
       "      <td>17</td>\n",
       "      <td>LETTERS</td>\n",
       "      <td>NaN</td>\n",
       "      <td>n a</td>\n",
       "    </tr>\n",
       "    <tr>\n",
       "      <th>684691</th>\n",
       "      <td>54634</td>\n",
       "      <td>1</td>\n",
       "      <td>PLAIN</td>\n",
       "      <td>NaN</td>\n",
       "      <td>NaN</td>\n",
       "    </tr>\n",
       "    <tr>\n",
       "      <th>965529</th>\n",
       "      <td>76612</td>\n",
       "      <td>7</td>\n",
       "      <td>PLAIN</td>\n",
       "      <td>NaN</td>\n",
       "      <td>NaN</td>\n",
       "    </tr>\n",
       "  </tbody>\n",
       "</table>\n",
       "</div>"
      ],
      "text/plain": [
       "        sentence_id  token_id    class before after\n",
       "616107        49226        17  LETTERS    NaN   n a\n",
       "684691        54634         1    PLAIN    NaN   NaN\n",
       "965529        76612         7    PLAIN    NaN   NaN"
      ]
     },
     "execution_count": 22,
     "metadata": {},
     "output_type": "execute_result"
    }
   ],
   "source": [
    "all_data_org[pd.isnull(all_data_org['before'])][:3]"
   ]
  },
  {
   "cell_type": "code",
   "execution_count": 129,
   "metadata": {},
   "outputs": [
    {
     "name": "stdout",
     "output_type": "stream",
     "text": [
      "Data rows: 9918390,  (dropped none rows: 51)\n",
      "Data rows: 9840282,  (dropped rows: 78159)\n"
     ]
    }
   ],
   "source": [
    "all_data = all_data_org.dropna()\n",
    "print(\"Data rows: {},  (dropped none rows: {})\".format(len(all_data), len(all_data_org)-len(all_data)))\n",
    "all_data = all_data[all_data['class'] != 'VERBATIM']\n",
    "print(\"Data rows: {},  (dropped rows: {})\".format(len(all_data), len(all_data_org)-len(all_data)))\n",
    "all_data = all_data.reset_index(drop=True)"
   ]
  },
  {
   "cell_type": "markdown",
   "metadata": {},
   "source": [
    "Note we dropped VERBATIM class. Thats because it had so many weird characters."
   ]
  },
  {
   "cell_type": "code",
   "execution_count": 863,
   "metadata": {
    "collapsed": true
   },
   "outputs": [],
   "source": [
    "all_data_sentence_index = all_data.set_index('sentence_id')"
   ]
  },
  {
   "cell_type": "markdown",
   "metadata": {},
   "source": [
    "### More balanced sample"
   ]
  },
  {
   "cell_type": "code",
   "execution_count": 589,
   "metadata": {},
   "outputs": [
    {
     "data": {
      "text/plain": [
       "class\n",
       "ADDRESS           522\n",
       "CARDINAL       133744\n",
       "DATE           258348\n",
       "DECIMAL          9821\n",
       "DIGIT            5442\n",
       "ELECTRONIC       5162\n",
       "FRACTION         1196\n",
       "LETTERS        152790\n",
       "MEASURE         14783\n",
       "MONEY            6128\n",
       "ORDINAL         12703\n",
       "PLAIN         7353647\n",
       "PUNCT         1880507\n",
       "TELEPHONE        4024\n",
       "TIME             1465\n",
       "Name: class, dtype: int64"
      ]
     },
     "execution_count": 589,
     "metadata": {},
     "output_type": "execute_result"
    }
   ],
   "source": [
    "all_data.groupby(\"class\")[\"class\"].count()"
   ]
  },
  {
   "cell_type": "code",
   "execution_count": 590,
   "metadata": {
    "collapsed": true
   },
   "outputs": [],
   "source": [
    "all_data_classes = list(all_data.groupby('class'))"
   ]
  },
  {
   "cell_type": "code",
   "execution_count": 591,
   "metadata": {},
   "outputs": [
    {
     "data": {
      "text/html": [
       "<div>\n",
       "<style>\n",
       "    .dataframe thead tr:only-child th {\n",
       "        text-align: right;\n",
       "    }\n",
       "\n",
       "    .dataframe thead th {\n",
       "        text-align: left;\n",
       "    }\n",
       "\n",
       "    .dataframe tbody tr th {\n",
       "        vertical-align: top;\n",
       "    }\n",
       "</style>\n",
       "<table border=\"1\" class=\"dataframe\">\n",
       "  <thead>\n",
       "    <tr style=\"text-align: right;\">\n",
       "      <th></th>\n",
       "      <th>sentence_id</th>\n",
       "      <th>token_id</th>\n",
       "      <th>class</th>\n",
       "      <th>before</th>\n",
       "      <th>after</th>\n",
       "    </tr>\n",
       "  </thead>\n",
       "  <tbody>\n",
       "    <tr>\n",
       "      <th>4091242</th>\n",
       "      <td>316676</td>\n",
       "      <td>0</td>\n",
       "      <td>ADDRESS</td>\n",
       "      <td>C175</td>\n",
       "      <td>c one seven five</td>\n",
       "    </tr>\n",
       "    <tr>\n",
       "      <th>6840198</th>\n",
       "      <td>523681</td>\n",
       "      <td>6</td>\n",
       "      <td>ADDRESS</td>\n",
       "      <td>A68</td>\n",
       "      <td>a sixty eight</td>\n",
       "    </tr>\n",
       "    <tr>\n",
       "      <th>4390367</th>\n",
       "      <td>339231</td>\n",
       "      <td>0</td>\n",
       "      <td>CARDINAL</td>\n",
       "      <td>444</td>\n",
       "      <td>four hundred forty four</td>\n",
       "    </tr>\n",
       "    <tr>\n",
       "      <th>6536657</th>\n",
       "      <td>500958</td>\n",
       "      <td>3</td>\n",
       "      <td>CARDINAL</td>\n",
       "      <td>33</td>\n",
       "      <td>thirty three</td>\n",
       "    </tr>\n",
       "  </tbody>\n",
       "</table>\n",
       "</div>"
      ],
      "text/plain": [
       "         sentence_id  token_id     class before                    after\n",
       "4091242       316676         0   ADDRESS   C175         c one seven five\n",
       "6840198       523681         6   ADDRESS    A68            a sixty eight\n",
       "4390367       339231         0  CARDINAL    444  four hundred forty four\n",
       "6536657       500958         3  CARDINAL     33             thirty three"
      ]
     },
     "execution_count": 591,
     "metadata": {},
     "output_type": "execute_result"
    }
   ],
   "source": [
    "all_data_classes[0][1].sample(2).append(all_data_classes[1][1].sample(2))"
   ]
  },
  {
   "cell_type": "code",
   "execution_count": 592,
   "metadata": {
    "collapsed": true
   },
   "outputs": [],
   "source": [
    "data_balanced_classes = pd.concat([v.sample(min(50000, len(v))) for k, v in all_data_classes])"
   ]
  },
  {
   "cell_type": "code",
   "execution_count": 593,
   "metadata": {},
   "outputs": [
    {
     "data": {
      "text/plain": [
       "class\n",
       "ADDRESS         522\n",
       "CARDINAL      50000\n",
       "DATE          50000\n",
       "DECIMAL        9821\n",
       "DIGIT          5442\n",
       "ELECTRONIC     5162\n",
       "FRACTION       1196\n",
       "LETTERS       50000\n",
       "MEASURE       14783\n",
       "MONEY          6128\n",
       "ORDINAL       12703\n",
       "PLAIN         50000\n",
       "PUNCT         50000\n",
       "TELEPHONE      4024\n",
       "TIME           1465\n",
       "Name: class, dtype: int64"
      ]
     },
     "execution_count": 593,
     "metadata": {},
     "output_type": "execute_result"
    }
   ],
   "source": [
    "data_balanced_classes.groupby(\"class\")[\"class\"].count()"
   ]
  },
  {
   "cell_type": "code",
   "execution_count": 594,
   "metadata": {},
   "outputs": [
    {
     "data": {
      "text/html": [
       "<div>\n",
       "<style>\n",
       "    .dataframe thead tr:only-child th {\n",
       "        text-align: right;\n",
       "    }\n",
       "\n",
       "    .dataframe thead th {\n",
       "        text-align: left;\n",
       "    }\n",
       "\n",
       "    .dataframe tbody tr th {\n",
       "        vertical-align: top;\n",
       "    }\n",
       "</style>\n",
       "<table border=\"1\" class=\"dataframe\">\n",
       "  <thead>\n",
       "    <tr style=\"text-align: right;\">\n",
       "      <th></th>\n",
       "      <th>sentence_id</th>\n",
       "      <th>token_id</th>\n",
       "      <th>class</th>\n",
       "      <th>before</th>\n",
       "      <th>after</th>\n",
       "    </tr>\n",
       "  </thead>\n",
       "  <tbody>\n",
       "    <tr>\n",
       "      <th>1488820</th>\n",
       "      <td>117774</td>\n",
       "      <td>7</td>\n",
       "      <td>PLAIN</td>\n",
       "      <td>males</td>\n",
       "      <td>males</td>\n",
       "    </tr>\n",
       "    <tr>\n",
       "      <th>6866902</th>\n",
       "      <td>525698</td>\n",
       "      <td>1</td>\n",
       "      <td>ORDINAL</td>\n",
       "      <td>I's</td>\n",
       "      <td>the first's</td>\n",
       "    </tr>\n",
       "    <tr>\n",
       "      <th>10265</th>\n",
       "      <td>844</td>\n",
       "      <td>16</td>\n",
       "      <td>LETTERS</td>\n",
       "      <td>ISBN</td>\n",
       "      <td>i s b n</td>\n",
       "    </tr>\n",
       "    <tr>\n",
       "      <th>8145230</th>\n",
       "      <td>621667</td>\n",
       "      <td>21</td>\n",
       "      <td>PUNCT</td>\n",
       "      <td>.</td>\n",
       "      <td>.</td>\n",
       "    </tr>\n",
       "    <tr>\n",
       "      <th>1517580</th>\n",
       "      <td>119988</td>\n",
       "      <td>6</td>\n",
       "      <td>PUNCT</td>\n",
       "      <td>.</td>\n",
       "      <td>.</td>\n",
       "    </tr>\n",
       "    <tr>\n",
       "      <th>2060221</th>\n",
       "      <td>161781</td>\n",
       "      <td>19</td>\n",
       "      <td>MEASURE</td>\n",
       "      <td>36%</td>\n",
       "      <td>thirty six percent</td>\n",
       "    </tr>\n",
       "    <tr>\n",
       "      <th>6900848</th>\n",
       "      <td>528237</td>\n",
       "      <td>14</td>\n",
       "      <td>PUNCT</td>\n",
       "      <td>.</td>\n",
       "      <td>.</td>\n",
       "    </tr>\n",
       "    <tr>\n",
       "      <th>3561924</th>\n",
       "      <td>276478</td>\n",
       "      <td>4</td>\n",
       "      <td>ORDINAL</td>\n",
       "      <td>8th</td>\n",
       "      <td>eighth</td>\n",
       "    </tr>\n",
       "    <tr>\n",
       "      <th>3618343</th>\n",
       "      <td>280781</td>\n",
       "      <td>5</td>\n",
       "      <td>PLAIN</td>\n",
       "      <td>household</td>\n",
       "      <td>household</td>\n",
       "    </tr>\n",
       "    <tr>\n",
       "      <th>7125473</th>\n",
       "      <td>545048</td>\n",
       "      <td>4</td>\n",
       "      <td>PLAIN</td>\n",
       "      <td>relatively</td>\n",
       "      <td>relatively</td>\n",
       "    </tr>\n",
       "  </tbody>\n",
       "</table>\n",
       "</div>"
      ],
      "text/plain": [
       "         sentence_id  token_id    class      before               after\n",
       "1488820       117774         7    PLAIN       males               males\n",
       "6866902       525698         1  ORDINAL         I's         the first's\n",
       "10265            844        16  LETTERS        ISBN             i s b n\n",
       "8145230       621667        21    PUNCT           .                   .\n",
       "1517580       119988         6    PUNCT           .                   .\n",
       "2060221       161781        19  MEASURE         36%  thirty six percent\n",
       "6900848       528237        14    PUNCT           .                   .\n",
       "3561924       276478         4  ORDINAL         8th              eighth\n",
       "3618343       280781         5    PLAIN   household           household\n",
       "7125473       545048         4    PLAIN  relatively          relatively"
      ]
     },
     "execution_count": 594,
     "metadata": {},
     "output_type": "execute_result"
    }
   ],
   "source": [
    "data_balanced_classes.sample(10)"
   ]
  },
  {
   "cell_type": "code",
   "execution_count": 600,
   "metadata": {},
   "outputs": [
    {
     "data": {
      "text/html": [
       "<div>\n",
       "<style>\n",
       "    .dataframe thead tr:only-child th {\n",
       "        text-align: right;\n",
       "    }\n",
       "\n",
       "    .dataframe thead th {\n",
       "        text-align: left;\n",
       "    }\n",
       "\n",
       "    .dataframe tbody tr th {\n",
       "        vertical-align: top;\n",
       "    }\n",
       "</style>\n",
       "<table border=\"1\" class=\"dataframe\">\n",
       "  <thead>\n",
       "    <tr style=\"text-align: right;\">\n",
       "      <th></th>\n",
       "      <th>sentence_id</th>\n",
       "      <th>token_id</th>\n",
       "      <th>class</th>\n",
       "      <th>before</th>\n",
       "      <th>after</th>\n",
       "    </tr>\n",
       "  </thead>\n",
       "  <tbody>\n",
       "    <tr>\n",
       "      <th>5084593</th>\n",
       "      <td>391788</td>\n",
       "      <td>9</td>\n",
       "      <td>DATE</td>\n",
       "      <td>1962</td>\n",
       "      <td>nineteen sixty two</td>\n",
       "    </tr>\n",
       "    <tr>\n",
       "      <th>9776955</th>\n",
       "      <td>743366</td>\n",
       "      <td>11</td>\n",
       "      <td>DATE</td>\n",
       "      <td>1957</td>\n",
       "      <td>nineteen fifty seven</td>\n",
       "    </tr>\n",
       "    <tr>\n",
       "      <th>5111960</th>\n",
       "      <td>393837</td>\n",
       "      <td>0</td>\n",
       "      <td>DATE</td>\n",
       "      <td>December 15, 1988</td>\n",
       "      <td>december fifteenth nineteen eighty eight</td>\n",
       "    </tr>\n",
       "    <tr>\n",
       "      <th>5201898</th>\n",
       "      <td>400653</td>\n",
       "      <td>0</td>\n",
       "      <td>ELECTRONIC</td>\n",
       "      <td>Saturnfans.com</td>\n",
       "      <td>s a t u r n f a n s dot c o m</td>\n",
       "    </tr>\n",
       "    <tr>\n",
       "      <th>4991684</th>\n",
       "      <td>384765</td>\n",
       "      <td>10</td>\n",
       "      <td>PLAIN</td>\n",
       "      <td>room</td>\n",
       "      <td>room</td>\n",
       "    </tr>\n",
       "    <tr>\n",
       "      <th>8215193</th>\n",
       "      <td>626871</td>\n",
       "      <td>9</td>\n",
       "      <td>MONEY</td>\n",
       "      <td>US$14</td>\n",
       "      <td>fourteen dollars</td>\n",
       "    </tr>\n",
       "    <tr>\n",
       "      <th>3295076</th>\n",
       "      <td>256162</td>\n",
       "      <td>10</td>\n",
       "      <td>MEASURE</td>\n",
       "      <td>57.3/km²</td>\n",
       "      <td>fifty seven point three per square kilometers</td>\n",
       "    </tr>\n",
       "    <tr>\n",
       "      <th>1459473</th>\n",
       "      <td>115520</td>\n",
       "      <td>4</td>\n",
       "      <td>CARDINAL</td>\n",
       "      <td>182</td>\n",
       "      <td>one hundred eighty two</td>\n",
       "    </tr>\n",
       "    <tr>\n",
       "      <th>1850061</th>\n",
       "      <td>145592</td>\n",
       "      <td>18</td>\n",
       "      <td>DATE</td>\n",
       "      <td>December 2007</td>\n",
       "      <td>december two thousand seven</td>\n",
       "    </tr>\n",
       "    <tr>\n",
       "      <th>8280862</th>\n",
       "      <td>631801</td>\n",
       "      <td>7</td>\n",
       "      <td>DATE</td>\n",
       "      <td>1992</td>\n",
       "      <td>nineteen ninety two</td>\n",
       "    </tr>\n",
       "  </tbody>\n",
       "</table>\n",
       "</div>"
      ],
      "text/plain": [
       "         sentence_id  token_id       class             before  \\\n",
       "5084593       391788         9        DATE               1962   \n",
       "9776955       743366        11        DATE               1957   \n",
       "5111960       393837         0        DATE  December 15, 1988   \n",
       "5201898       400653         0  ELECTRONIC     Saturnfans.com   \n",
       "4991684       384765        10       PLAIN               room   \n",
       "8215193       626871         9       MONEY              US$14   \n",
       "3295076       256162        10     MEASURE           57.3/km²   \n",
       "1459473       115520         4    CARDINAL                182   \n",
       "1850061       145592        18        DATE      December 2007   \n",
       "8280862       631801         7        DATE               1992   \n",
       "\n",
       "                                                 after  \n",
       "5084593                             nineteen sixty two  \n",
       "9776955                           nineteen fifty seven  \n",
       "5111960       december fifteenth nineteen eighty eight  \n",
       "5201898                  s a t u r n f a n s dot c o m  \n",
       "4991684                                           room  \n",
       "8215193                               fourteen dollars  \n",
       "3295076  fifty seven point three per square kilometers  \n",
       "1459473                         one hundred eighty two  \n",
       "1850061                    december two thousand seven  \n",
       "8280862                            nineteen ninety two  "
      ]
     },
     "execution_count": 600,
     "metadata": {},
     "output_type": "execute_result"
    }
   ],
   "source": [
    "test = data_balanced_classes.sample(10)\n",
    "test"
   ]
  },
  {
   "cell_type": "code",
   "execution_count": 633,
   "metadata": {},
   "outputs": [],
   "source": [
    "data_balanced_classes_matrix = data_balanced_classes.as_matrix()"
   ]
  },
  {
   "cell_type": "code",
   "execution_count": 626,
   "metadata": {},
   "outputs": [
    {
     "name": "stdout",
     "output_type": "stream",
     "text": [
      "4.7 ms ± 32.6 µs per loop (mean ± std. dev. of 7 runs, 100 loops each)\n"
     ]
    }
   ],
   "source": [
    "%%timeit\n",
    "data_balanced_classes.sample(1)"
   ]
  },
  {
   "cell_type": "code",
   "execution_count": 632,
   "metadata": {},
   "outputs": [
    {
     "name": "stdout",
     "output_type": "stream",
     "text": [
      "98.1 µs ± 1.25 µs per loop (mean ± std. dev. of 7 runs, 10000 loops each)\n"
     ]
    }
   ],
   "source": [
    "%%timeit\n",
    "data_balanced_classes.iloc[random.randint(1, len(test)-1)]"
   ]
  },
  {
   "cell_type": "code",
   "execution_count": 627,
   "metadata": {},
   "outputs": [
    {
     "name": "stdout",
     "output_type": "stream",
     "text": [
      "1.61 µs ± 11.7 ns per loop (mean ± std. dev. of 7 runs, 1000000 loops each)\n"
     ]
    }
   ],
   "source": [
    "%%timeit\n",
    "data_balanced_classes_matrix[random.randint(1, len(test)-1)]"
   ]
  },
  {
   "cell_type": "markdown",
   "metadata": {},
   "source": [
    "# Word vectors"
   ]
  },
  {
   "cell_type": "code",
   "execution_count": 12,
   "metadata": {
    "collapsed": true
   },
   "outputs": [],
   "source": [
    "def load_glove(name):\n",
    "    with open(name, 'r') as f: lines = [line.split() for line in f]\n",
    "    words = [d[0] for d in lines]\n",
    "    vecs = np.stack(np.array(d[1:], dtype=np.float32) for d in lines)\n",
    "    wordidx = {o:i for i,o in enumerate(words)}\n",
    "    return vecs, words, wordidx"
   ]
  },
  {
   "cell_type": "code",
   "execution_count": 15,
   "metadata": {},
   "outputs": [],
   "source": [
    "wv_vecs, wv_words, wv_idx = load_glove('/home/ohu/koodi/data/glove_wordvec/glove.6B.50d.txt')"
   ]
  },
  {
   "cell_type": "code",
   "execution_count": 354,
   "metadata": {},
   "outputs": [
    {
     "name": "stdout",
     "output_type": "stream",
     "text": [
      "Original last word: sandberger\n"
     ]
    }
   ],
   "source": [
    "wv_max_words = len(wv_words)\n",
    "print(\"Original last word:\", wv_words[wv_max_words - 1])"
   ]
  },
  {
   "cell_type": "code",
   "execution_count": 372,
   "metadata": {},
   "outputs": [],
   "source": [
    "wv_vecs = np.concatenate((wv_vecs, np.zeros([1, 50], dtype=np.float32)), axis=0)\n",
    "wv_words.append('SAMPLE')\n",
    "wv_idx['SAMPLE'] = wv_words.index('SAMPLE')"
   ]
  },
  {
   "cell_type": "code",
   "execution_count": 253,
   "metadata": {},
   "outputs": [
    {
     "data": {
      "text/plain": [
       "['asdf', \"'s\", 'asdf', '-', 'testaaa']"
      ]
     },
     "execution_count": 253,
     "metadata": {},
     "output_type": "execute_result"
    }
   ],
   "source": [
    "re_apos = re.compile(r\"(\\w)'s\\b\")         # make 's a separate word\n",
    "re_mw_punc = re.compile(r\"(\\w[’'])(\\w)\")  # other ' in a word creates 2 words\n",
    "re_punc = re.compile(\"([\\\"().,;:/_?!—])\") # add spaces around punctuation\n",
    "re_mult_space = re.compile(r\"  *\")        # replace multiple spaces with just one\n",
    "\n",
    "def simple_tokeniser(sent):\n",
    "    sent = re_apos.sub(r\"\\1 's\", sent)\n",
    "    sent = re_mw_punc.sub(r\"\\1 \\2\", sent)\n",
    "    sent = re_punc.sub(r\" \\1 \", sent).replace('-', ' - ')\n",
    "    sent = re_punc.sub(r\" \\1 \", sent)\n",
    "    sent = re_mult_space.sub(' ', sent)\n",
    "    return sent.lower().split()\n",
    "simple_tokeniser(\"asdf's   asdf   -testaaa\")"
   ]
  },
  {
   "cell_type": "code",
   "execution_count": 256,
   "metadata": {},
   "outputs": [
    {
     "data": {
      "text/plain": [
       "0.983"
      ]
     },
     "execution_count": 256,
     "metadata": {},
     "output_type": "execute_result"
    }
   ],
   "source": [
    "arr = [simple_tokeniser(s_)[0] for s_ in list(all_data.sample(1000)['before'])]\n",
    "[s in wv_idx for s in arr].count(True) / 1000"
   ]
  },
  {
   "cell_type": "code",
   "execution_count": null,
   "metadata": {
    "collapsed": true
   },
   "outputs": [],
   "source": []
  },
  {
   "cell_type": "code",
   "execution_count": 979,
   "metadata": {},
   "outputs": [
    {
     "name": "stdout",
     "output_type": "stream",
     "text": [
      "LETTERS : M. -> m : (1, 16, 50) <class 'numpy.float32'>\n"
     ]
    }
   ],
   "source": [
    "def get_random_sample():\n",
    "    sample_row = data_balanced_classes.iloc[random.randint(1, len(data_balanced_classes)-1)]\n",
    "    sentence_id = sample_row['class']\n",
    "\n",
    "    #rows = all_data[all_data['sentence_id']==sample_row['sentence_id']]\n",
    "    rows = all_data_sentence_index.loc[sample_row['sentence_id']]\n",
    "    befores = rows.before.values\n",
    "        \n",
    "    token_id_idx = list(rows['token_id']).index(sample_row['token_id'])\n",
    "    befores[token_id_idx] = '*****'\n",
    "    str_list = simple_tokeniser(' '.join(befores))\n",
    "    \n",
    "    word_vect = np.zeros((1, len(str_list), wv_vecs.shape[1]), dtype=np.float32)\n",
    "    # var = np.zeros((1, len(str_list), wv_vecs.shape[1]+1))\n",
    "    for i, w in enumerate(str_list):\n",
    "        if w=='*****':\n",
    "            word_vect[0][i] = np.zeros((1, wv_vecs.shape[1]))\n",
    "        else:\n",
    "            try:\n",
    "                word_vect[0][i] = wv_vecs[wv_idx[w]]\n",
    "            except KeyError:\n",
    "                word_vect[0][i] = np.random.rand(1, wv_vecs.shape[1])\n",
    "    return sample_row['before'], sample_row['after'], sample_row['class'], word_vect\n",
    "            \n",
    "# get_random_sample()\n",
    "s_bef, s_aft, s_class, s_word_v = get_random_sample()\n",
    "print(s_class, ':', s_bef, '->', s_aft, ':', s_word_v.shape, type(s_word_v[0,0,0]))"
   ]
  },
  {
   "cell_type": "code",
   "execution_count": 972,
   "metadata": {},
   "outputs": [
    {
     "name": "stdout",
     "output_type": "stream",
     "text": [
      "523 µs ± 29.4 µs per loop (mean ± std. dev. of 7 runs, 1000 loops each)\n"
     ]
    }
   ],
   "source": [
    "%%timeit\n",
    "get_random_sample()"
   ]
  },
  {
   "cell_type": "markdown",
   "metadata": {},
   "source": [
    "# Other data stuff"
   ]
  },
  {
   "cell_type": "code",
   "execution_count": 900,
   "metadata": {},
   "outputs": [
    {
     "name": "stdout",
     "output_type": "stream",
     "text": [
      "['PLAIN' 'PUNCT' 'DATE' 'LETTERS' 'CARDINAL' 'DECIMAL' 'MEASURE' 'MONEY'\n",
      " 'ORDINAL' 'TIME' 'ELECTRONIC' 'DIGIT' 'FRACTION' 'TELEPHONE' 'ADDRESS']\n",
      "15\n"
     ]
    }
   ],
   "source": [
    "categories_all = all_data[\"class\"].unique()\n",
    "print(categories_all)\n",
    "print(len(categories_all))\n",
    "categories_index = dict((c, i) for i, c in enumerate(categories_all))"
   ]
  },
  {
   "cell_type": "markdown",
   "metadata": {},
   "source": [
    "# Model"
   ]
  },
  {
   "cell_type": "code",
   "execution_count": 1070,
   "metadata": {
    "collapsed": true
   },
   "outputs": [],
   "source": [
    "use_cuda = False"
   ]
  },
  {
   "cell_type": "code",
   "execution_count": 1074,
   "metadata": {},
   "outputs": [
    {
     "name": "stdout",
     "output_type": "stream",
     "text": [
      "Sample size: (1, 22, 50)\n",
      "Output: torch.Size([1, 15])\n"
     ]
    }
   ],
   "source": [
    "class LSTM_RNN(nn.Module):\n",
    "    def __init__(self, input_size, hidden_size, output_size, n_layers=1):\n",
    "        super(LSTM_RNN, self).__init__()\n",
    "\n",
    "        self.n_layers = n_layers\n",
    "        self.hidden_size = hidden_size\n",
    "        self.output_size = output_size\n",
    "\n",
    "        self.rnn = nn.LSTM(input_size, hidden_size, n_layers, batch_first=True)\n",
    "        self.lin_1 = nn.Linear(hidden_size, output_size)\n",
    "\n",
    "    def forward(self, word, hidden = None, init_hidden = True):\n",
    "        if init_hidden:\n",
    "            hidden = self.init_hidden()\n",
    "        all_outputs, hidden = self.rnn(word, hidden)\n",
    "        output = all_outputs[:, -1]\n",
    "        output = self.lin_1(output)\n",
    "        output = F.log_softmax(output)\n",
    "        return output\n",
    "\n",
    "    def init_hidden(self):\n",
    "        var1 = Variable(torch.zeros(1, self.n_layers, self.hidden_size))\n",
    "        var2 = Variable(torch.zeros(1, self.n_layers, self.hidden_size))\n",
    "        if use_cuda:\n",
    "            var1 = var1.cuda()\n",
    "            var2 = var2.cuda()\n",
    "        return (var1, var2)\n",
    "\n",
    "s_bef, s_aft, s_class, s_word_v = get_random_sample()\n",
    "sample = s_word_v\n",
    "input_size = sample.shape[-1]\n",
    "model = LSTM_RNN(input_size=input_size, hidden_size=128, output_size=len(categories_all))\n",
    "print('Sample size:', sample.shape)\n",
    "output = model(Variable(torch.from_numpy(sample)))\n",
    "print('Output:', output.size())"
   ]
  },
  {
   "cell_type": "code",
   "execution_count": 1075,
   "metadata": {},
   "outputs": [
    {
     "data": {
      "text/plain": [
       "50"
      ]
     },
     "execution_count": 1075,
     "metadata": {},
     "output_type": "execute_result"
    }
   ],
   "source": [
    "input_size"
   ]
  },
  {
   "cell_type": "code",
   "execution_count": 958,
   "metadata": {},
   "outputs": [
    {
     "data": {
      "text/plain": [
       "torch.cuda.FloatTensor"
      ]
     },
     "execution_count": 958,
     "metadata": {},
     "output_type": "execute_result"
    }
   ],
   "source": [
    "tmp = use_cuda\n",
    "use_cuda = True\n",
    "model.cuda()\n",
    "output = model(Variable(torch.from_numpy(sample)).cuda())\n",
    "use_cuda = tmp\n",
    "type(output.data)"
   ]
  },
  {
   "cell_type": "code",
   "execution_count": 1039,
   "metadata": {},
   "outputs": [
    {
     "name": "stdout",
     "output_type": "stream",
     "text": [
      "('TIME', 9)\n"
     ]
    }
   ],
   "source": [
    "def category_from_output(output):\n",
    "    top_n, top_i = output.data.topk(1)\n",
    "    category_i = top_i[0][0]\n",
    "    return categories_all[category_i], category_i\n",
    "\n",
    "print(category_from_output(output))"
   ]
  },
  {
   "cell_type": "markdown",
   "metadata": {},
   "source": [
    "### Accuracy"
   ]
  },
  {
   "cell_type": "code",
   "execution_count": 1040,
   "metadata": {
    "collapsed": true
   },
   "outputs": [],
   "source": [
    "def test_model_accuracy(model, n_sample=10000):\n",
    "    model.eval()\n",
    "    n_correct = 0\n",
    "    for iteration in range(n_sample):\n",
    "        s_bef, s_aft, s_class, s_word_v = get_random_sample()\n",
    "        # category, line, category_tensor, line_tensor = randomTrainingExample()\n",
    "        s_word_v = Variable(torch.from_numpy(s_word_v))\n",
    "        if use_cuda:\n",
    "            s_word_v = s_word_v.cuda()\n",
    "        output = model(s_word_v)\n",
    "        if s_class == category_from_output(output)[0]:\n",
    "            n_correct += 1\n",
    "\n",
    "    print(\"Accuracy: {:>4.2%} ({:>8d}/{:>8d})\".format(\n",
    "            n_correct/n_sample, n_correct, n_sample))"
   ]
  },
  {
   "cell_type": "code",
   "execution_count": 1041,
   "metadata": {},
   "outputs": [
    {
     "name": "stdout",
     "output_type": "stream",
     "text": [
      "Accuracy: 9.90% (      99/    1000)\n",
      "CPU times: user 1.35 s, sys: 20 ms, total: 1.37 s\n",
      "Wall time: 1.38 s\n"
     ]
    }
   ],
   "source": [
    "%%time\n",
    "test_model_accuracy(model, n_sample=1000)"
   ]
  },
  {
   "cell_type": "markdown",
   "metadata": {},
   "source": [
    "# Training"
   ]
  },
  {
   "cell_type": "code",
   "execution_count": 1046,
   "metadata": {
    "collapsed": true
   },
   "outputs": [],
   "source": [
    "def train(model, category, word_vect):\n",
    "    category_tensor = Variable(torch.LongTensor([categories_index[category]]))\n",
    "    word_vect = Variable(torch.from_numpy(word_vect))\n",
    "    if use_cuda:\n",
    "        category_tensor = category_tensor.cuda()\n",
    "        word_vect = word_vect.cuda()\n",
    "            \n",
    "    output = model(word_vect)\n",
    "    loss = loss_function(output, category_tensor)\n",
    "    optimizer.zero_grad()\n",
    "    loss.backward()\n",
    "    optimizer.step()\n",
    "    \n",
    "    return output, loss.data[0]"
   ]
  },
  {
   "cell_type": "code",
   "execution_count": 1047,
   "metadata": {},
   "outputs": [
    {
     "data": {
      "text/plain": [
       "(Variable containing:\n",
       " \n",
       " Columns 0 to 9 \n",
       " -2.6612 -2.6769 -2.7813 -2.6767 -2.8029 -2.6793 -2.7122 -2.7035 -2.8107 -2.6233\n",
       " \n",
       " Columns 10 to 14 \n",
       " -2.7729 -2.7306 -2.6544 -2.7190 -2.6402\n",
       " [torch.cuda.FloatTensor of size 1x15 (GPU 0)], 2.7812905311584473)"
      ]
     },
     "execution_count": 1047,
     "metadata": {},
     "output_type": "execute_result"
    }
   ],
   "source": [
    "s_bef, s_aft, s_class, s_word_v = get_random_sample()\n",
    "train(model, s_class, s_word_v)"
   ]
  },
  {
   "cell_type": "code",
   "execution_count": 1048,
   "metadata": {
    "collapsed": true
   },
   "outputs": [],
   "source": [
    "def timeSince(since):\n",
    "    now = time.time()\n",
    "    s = now - since\n",
    "    m = math.floor(s / 60)\n",
    "    s -= m * 60\n",
    "    return '%dm %ds' % (m, s)"
   ]
  },
  {
   "cell_type": "code",
   "execution_count": 1054,
   "metadata": {
    "collapsed": true
   },
   "outputs": [],
   "source": [
    "def train_iterations(n_iters=100000, start_iter=0, print_every=5000, plot_every=1000):\n",
    "    model.train()\n",
    "    start = time.time()\n",
    "    all_losses = []\n",
    "    current_loss = 0\n",
    "    current_loss_iter = 0\n",
    "\n",
    "    for iteration in range(1, n_iters + 1):\n",
    "        s_bef, s_aft, s_class, s_word_v = get_random_sample()\n",
    "\n",
    "        output, loss = train(model, s_class, s_word_v)\n",
    "        current_loss += loss\n",
    "        current_loss_iter += 1\n",
    "\n",
    "        # Print iter number, loss, name and guess\n",
    "        if iteration % print_every == 0:\n",
    "            guess, guess_i = category_from_output(output)\n",
    "            correct = '✓' if guess == s_class else \"✗ ({})\".format(s_class)\n",
    "            print(\"{:>6d} {:>4.0%} ({:>8}) {:>6.2f}   | {:>6.2f}: {} -> {} {}\".format(\n",
    "                (iteration+start_iter), iteration/n_iters, timeSince(start),\n",
    "                current_loss/current_loss_iter, loss,\n",
    "                s_bef, guess, correct ))\n",
    "\n",
    "        # Add current loss avg to list of losses\n",
    "        if iteration % plot_every == 0:\n",
    "            all_losses.append(current_loss / plot_every)\n",
    "            current_loss = 0\n",
    "            current_loss_iter = 0\n",
    "    \n",
    "    test_model_accuracy(model, n_sample=10000)\n",
    "    return all_losses"
   ]
  },
  {
   "cell_type": "code",
   "execution_count": 1057,
   "metadata": {},
   "outputs": [
    {
     "name": "stdout",
     "output_type": "stream",
     "text": [
      "  5000   5% (  0m 14s)   1.73   |   1.85: \" -> PLAIN ✗ (PUNCT)\n",
      " 10000  10% (  0m 28s)   1.69   |   2.46: 12th -> CARDINAL ✗ (ORDINAL)\n",
      " 15000  15% (  0m 42s)   1.57   |   0.02: 2010 -> DATE ✓\n",
      " 20000  20% (  0m 57s)   1.42   |   1.46: 8th -> CARDINAL ✗ (ORDINAL)\n",
      " 25000  25% (  1m 12s)   1.34   |   1.78: J. -> PLAIN ✗ (LETTERS)\n",
      " 30000  30% (  1m 27s)   1.31   |   0.31: . -> PUNCT ✓\n",
      " 35000  35% (  1m 42s)   1.29   |   0.12: .200 -> DECIMAL ✓\n",
      " 40000  40% (  1m 56s)   1.21   |   0.54: 16 -> CARDINAL ✓\n",
      " 45000  45% (  2m 11s)   1.25   |   0.06: . -> PUNCT ✓\n",
      " 50000  50% (  2m 26s)   1.26   |   4.00: Iouliana -> LETTERS ✗ (PLAIN)\n",
      " 55000  55% (  2m 40s)   1.27   |   0.83: , -> PLAIN ✗ (PUNCT)\n",
      " 60000  60% (  2m 54s)   1.18   |   2.13: 2011 -> PUNCT ✗ (DATE)\n",
      " 65000  65% (   3m 8s)   1.17   |   5.03: 100MB -> PUNCT ✗ (MEASURE)\n",
      " 70000  70% (  3m 22s)   1.19   |   3.04: 26 January 2012 -> LETTERS ✗ (DATE)\n",
      " 75000  75% (  3m 36s)   1.11   |   3.41: 1800 -> MEASURE ✗ (DATE)\n",
      " 80000  80% (  3m 50s)   1.17   |   1.01: the -> PLAIN ✓\n",
      " 85000  85% (   4m 4s)   1.18   |   0.52: .49 -> DECIMAL ✓\n",
      " 90000  90% (  4m 19s)   1.15   |   1.57: SH -> PUNCT ✗ (LETTERS)\n",
      " 95000  95% (  4m 33s)   1.19   |   0.60: 9 -> CARDINAL ✓\n",
      "100000 100% (  4m 48s)   1.18   |   2.07: D. -> PUNCT ✗ (LETTERS)\n",
      "Accuracy: 61.59% (    6159/   10000)\n"
     ]
    }
   ],
   "source": [
    "model = model.cuda()\n",
    "use_cuda = True\n",
    "loss_function = nn.NLLLoss()\n",
    "optimizer = torch.optim.Adam(model.parameters(), lr=0.001)\n",
    "all_losses = train_iterations()"
   ]
  },
  {
   "cell_type": "code",
   "execution_count": 1058,
   "metadata": {},
   "outputs": [
    {
     "name": "stdout",
     "output_type": "stream",
     "text": [
      "120000  10% (  0m 56s)   1.15   |   0.55: BAPH- -> LETTERS ✓\n",
      "140000  20% (  1m 53s)   1.14   |   0.78: Pechersky -> PLAIN ✓\n",
      "160000  30% (  2m 50s)   1.14   |   0.00: Oct. 22, 2007 -> DATE ✓\n",
      "180000  40% (  3m 48s)   1.14   |   1.48: Genuki.org.uk -> PLAIN ✗ (ELECTRONIC)\n",
      "200000  50% (  4m 44s)   1.12   |   3.94: 1992 -> LETTERS ✗ (DATE)\n",
      "220000  60% (  5m 40s)   1.13   |   0.28: 0.024 -> DECIMAL ✓\n",
      "240000  70% (  6m 36s)   1.11   |   0.36: £75,000 -> MONEY ✓\n",
      "260000  80% (  7m 34s)   1.12   |   1.30: AC -> LETTERS ✓\n",
      "280000  90% (  8m 31s)   1.17   |   0.01: 16 March 1965 -> DATE ✓\n",
      "300000 100% (  9m 27s)   1.18   |   0.90: ESPN -> LETTERS ✓\n",
      "Accuracy: 60.92% (    6092/   10000)\n"
     ]
    }
   ],
   "source": [
    "all_losses_2 = train_iterations(n_iters=200000, start_iter=100000, print_every=20000)"
   ]
  },
  {
   "cell_type": "code",
   "execution_count": 1063,
   "metadata": {},
   "outputs": [
    {
     "name": "stdout",
     "output_type": "stream",
     "text": [
      "Accuracy: 61.44% (    6144/   10000)\n"
     ]
    }
   ],
   "source": [
    "test_model_accuracy(model, n_sample=10000)"
   ]
  },
  {
   "cell_type": "code",
   "execution_count": null,
   "metadata": {
    "collapsed": true
   },
   "outputs": [],
   "source": []
  },
  {
   "cell_type": "markdown",
   "metadata": {},
   "source": [
    "### Results eval"
   ]
  },
  {
   "cell_type": "code",
   "execution_count": 1062,
   "metadata": {},
   "outputs": [
    {
     "data": {
      "image/png": "[encoded data removed]",
      "text/plain": [
       "<matplotlib.figure.Figure at 0x7f403415ee48>"
      ]
     },
     "metadata": {},
     "output_type": "display_data"
    }
   ],
   "source": [
    "# Keep track of correct guesses in a confusion matrix\n",
    "confusion = torch.zeros(len(categories_all), len(categories_all))\n",
    "n_confusion = 100000\n",
    "\n",
    "# Go through a bunch of examples and record which are correctly guessed\n",
    "for i in range(n_confusion):\n",
    "    s_bef, s_aft, s_class, s_word_vs = get_random_sample()\n",
    "    word_vects = Variable(torch.from_numpy(s_word_vs))\n",
    "    if use_cuda:\n",
    "        word_vects = word_vects.cuda()\n",
    "    output = model(word_vects)\n",
    "    guess, guess_i = category_from_output(output)\n",
    "    category_i = categories_index[s_class]\n",
    "    confusion[category_i][guess_i] += 1\n",
    "\n",
    "# Normalize by dividing every row by its sum\n",
    "for i in range(len(categories_all)):\n",
    "    confusion[i] = confusion[i] / confusion[i].sum()\n",
    "\n",
    "# Set up plot\n",
    "fig = plt.figure()\n",
    "ax = fig.add_subplot(111)\n",
    "cax = ax.matshow(confusion.numpy())\n",
    "fig.colorbar(cax)\n",
    "\n",
    "# Set up axes\n",
    "ax.set_xticklabels([''] + list(categories_all), rotation=90)\n",
    "ax.set_yticklabels([''] + list(categories_all))\n",
    "\n",
    "# Force label at every tick\n",
    "ax.xaxis.set_major_locator(matplotlib.ticker.MultipleLocator(1))\n",
    "ax.yaxis.set_major_locator(matplotlib.ticker.MultipleLocator(1))\n",
    "\n",
    "# sphinx_gallery_thumbnail_number = 2\n",
    "plt.show()"
   ]
  },
  {
   "cell_type": "code",
   "execution_count": null,
   "metadata": {
    "collapsed": true
   },
   "outputs": [],
   "source": []
  },
  {
   "cell_type": "code",
   "execution_count": null,
   "metadata": {
    "collapsed": true
   },
   "outputs": [],
   "source": []
  },
  {
   "cell_type": "code",
   "execution_count": null,
   "metadata": {
    "collapsed": true
   },
   "outputs": [],
   "source": []
  },
  {
   "cell_type": "code",
   "execution_count": null,
   "metadata": {
    "collapsed": true
   },
   "outputs": [],
   "source": []
  }
 ],
 "metadata": {
  "anaconda-cloud": {},
  "kernelspec": {
   "display_name": "Python [conda env:py3_pytorch_2]",
   "language": "python",
   "name": "conda-env-py3_pytorch_2-py"
  },
  "language_info": {
   "codemirror_mode": {
    "name": "ipython",
    "version": 3
   },
   "file_extension": ".py",
   "mimetype": "text/x-python",
   "name": "python",
   "nbconvert_exporter": "python",
   "pygments_lexer": "ipython3",
   "version": "3.6.1"
  }
 },
 "nbformat": 4,
 "nbformat_minor": 2
}
