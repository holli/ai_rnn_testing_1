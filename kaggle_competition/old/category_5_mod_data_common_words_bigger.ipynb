{
 "cells": [
  {
   "cell_type": "code",
   "execution_count": 1,
   "metadata": {},
   "outputs": [
    {
     "name": "stdout",
     "output_type": "stream",
     "text": [
      "Pytorch utils oh: pytorch_utils_oh_1.py\n",
      "Pytorch: 0.2.0_4\n"
     ]
    }
   ],
   "source": [
    "%matplotlib inline\n",
    "import importlib\n",
    "from pytorch_utils_oh_1 import *"
   ]
  },
  {
   "cell_type": "code",
   "execution_count": 2,
   "metadata": {
    "collapsed": true
   },
   "outputs": [],
   "source": [
    "MODEL_SAVE_PATH = 'category_5_mod_data_common_words'"
   ]
  },
  {
   "cell_type": "markdown",
   "metadata": {},
   "source": [
    "import pytorch_utils_oh_1; importlib.reload(pytorch_utils_oh_1); from pytorch_utils_oh_1 import *;"
   ]
  },
  {
   "cell_type": "markdown",
   "metadata": {},
   "source": [
    "# Data loading"
   ]
  },
  {
   "cell_type": "code",
   "execution_count": 3,
   "metadata": {
    "collapsed": true
   },
   "outputs": [],
   "source": [
    "all_data = pickle.load(open(\"data/en_train_not_changed_1.pkl\", \"rb\" ))\n",
    "all_data_sentence_index = all_data.set_index('sentence_id')"
   ]
  },
  {
   "cell_type": "code",
   "execution_count": 4,
   "metadata": {},
   "outputs": [
    {
     "data": {
      "text/html": [
       "<div>\n",
       "<style>\n",
       "    .dataframe thead tr:only-child th {\n",
       "        text-align: right;\n",
       "    }\n",
       "\n",
       "    .dataframe thead th {\n",
       "        text-align: left;\n",
       "    }\n",
       "\n",
       "    .dataframe tbody tr th {\n",
       "        vertical-align: top;\n",
       "    }\n",
       "</style>\n",
       "<table border=\"1\" class=\"dataframe\">\n",
       "  <thead>\n",
       "    <tr style=\"text-align: right;\">\n",
       "      <th></th>\n",
       "      <th>sentence_id</th>\n",
       "      <th>token_id</th>\n",
       "      <th>class</th>\n",
       "      <th>before</th>\n",
       "      <th>after</th>\n",
       "    </tr>\n",
       "  </thead>\n",
       "  <tbody>\n",
       "    <tr>\n",
       "      <th>5079179</th>\n",
       "      <td>388288</td>\n",
       "      <td>13</td>\n",
       "      <td>NOT_CHANGED</td>\n",
       "      <td>room</td>\n",
       "      <td>room</td>\n",
       "    </tr>\n",
       "    <tr>\n",
       "      <th>1242433</th>\n",
       "      <td>97921</td>\n",
       "      <td>4</td>\n",
       "      <td>NOT_CHANGED</td>\n",
       "      <td>the</td>\n",
       "      <td>the</td>\n",
       "    </tr>\n",
       "    <tr>\n",
       "      <th>6173874</th>\n",
       "      <td>470131</td>\n",
       "      <td>11</td>\n",
       "      <td>NOT_CHANGED</td>\n",
       "      <td>spam</td>\n",
       "      <td>spam</td>\n",
       "    </tr>\n",
       "    <tr>\n",
       "      <th>335986</th>\n",
       "      <td>26999</td>\n",
       "      <td>13</td>\n",
       "      <td>NOT_CHANGED</td>\n",
       "      <td>.</td>\n",
       "      <td>.</td>\n",
       "    </tr>\n",
       "    <tr>\n",
       "      <th>8865962</th>\n",
       "      <td>670065</td>\n",
       "      <td>6</td>\n",
       "      <td>NOT_CHANGED</td>\n",
       "      <td>Casas</td>\n",
       "      <td>Casas</td>\n",
       "    </tr>\n",
       "  </tbody>\n",
       "</table>\n",
       "</div>"
      ],
      "text/plain": [
       "         sentence_id  token_id        class before  after\n",
       "5079179       388288        13  NOT_CHANGED   room   room\n",
       "1242433        97921         4  NOT_CHANGED    the    the\n",
       "6173874       470131        11  NOT_CHANGED   spam   spam\n",
       "335986         26999        13  NOT_CHANGED      .      .\n",
       "8865962       670065         6  NOT_CHANGED  Casas  Casas"
      ]
     },
     "execution_count": 4,
     "metadata": {},
     "output_type": "execute_result"
    }
   ],
   "source": [
    "all_data.sample(5)"
   ]
  },
  {
   "cell_type": "code",
   "execution_count": 5,
   "metadata": {},
   "outputs": [
    {
     "name": "stdout",
     "output_type": "stream",
     "text": [
      "['NOT_CHANGED' 'NUMBERS' 'LETTERS' 'PLAIN' 'VERBATIM' 'ELECTRONIC']\n",
      "6\n"
     ]
    }
   ],
   "source": [
    "categories_all = all_data[\"class\"].unique()\n",
    "print(categories_all)\n",
    "print(len(categories_all))\n",
    "categories_index = dict((c, i) for i, c in enumerate(categories_all))"
   ]
  },
  {
   "cell_type": "markdown",
   "metadata": {},
   "source": [
    "### Letters all"
   ]
  },
  {
   "cell_type": "code",
   "execution_count": 6,
   "metadata": {},
   "outputs": [
    {
     "name": "stdout",
     "output_type": "stream",
     "text": [
      "<EOS><SOS> !\"#$%&'()+,-./0123456789:;?ABCDEFGHIJKLMNOPQRSTUVWXYZ[]_abcdefghijklmnopqrstuvwxyz|~¡£¥ª«²³µº»¼½¾¿éɒʻˈΩμ—€⅓⅔⅛⅝⅞☒\n",
      "115\n"
     ]
    }
   ],
   "source": [
    "tmp = sorted(list(set(''.join(all_data['before']))))\n",
    "characters_all = ['<EOS>', '<SOS>'] + sorted(list(set(tmp)))\n",
    "characters_all_index = dict((c, i) for i, c in enumerate(characters_all))\n",
    "print(''.join(characters_all))\n",
    "print(len(characters_all))"
   ]
  },
  {
   "cell_type": "code",
   "execution_count": null,
   "metadata": {
    "collapsed": true
   },
   "outputs": [],
   "source": []
  },
  {
   "cell_type": "code",
   "execution_count": 82,
   "metadata": {},
   "outputs": [
    {
     "data": {
      "text/plain": [
       "86"
      ]
     },
     "execution_count": 82,
     "metadata": {},
     "output_type": "execute_result"
    }
   ],
   "source": [
    "characters_all_index['~']"
   ]
  },
  {
   "cell_type": "code",
   "execution_count": 101,
   "metadata": {},
   "outputs": [
    {
     "name": "stdout",
     "output_type": "stream",
     "text": [
      "|\n"
     ]
    },
    {
     "data": {
      "text/html": [
       "<div>\n",
       "<style>\n",
       "    .dataframe thead tr:only-child th {\n",
       "        text-align: right;\n",
       "    }\n",
       "\n",
       "    .dataframe thead th {\n",
       "        text-align: left;\n",
       "    }\n",
       "\n",
       "    .dataframe tbody tr th {\n",
       "        vertical-align: top;\n",
       "    }\n",
       "</style>\n",
       "<table border=\"1\" class=\"dataframe\">\n",
       "  <thead>\n",
       "    <tr style=\"text-align: right;\">\n",
       "      <th></th>\n",
       "      <th>sentence_id</th>\n",
       "      <th>token_id</th>\n",
       "      <th>class</th>\n",
       "      <th>before</th>\n",
       "      <th>after</th>\n",
       "    </tr>\n",
       "  </thead>\n",
       "  <tbody>\n",
       "    <tr>\n",
       "      <th>0</th>\n",
       "      <td>0</td>\n",
       "      <td>0</td>\n",
       "      <td>NOT_CHANGED</td>\n",
       "      <td>Brillantaisia</td>\n",
       "      <td>Brillantaisia</td>\n",
       "    </tr>\n",
       "    <tr>\n",
       "      <th>1</th>\n",
       "      <td>0</td>\n",
       "      <td>1</td>\n",
       "      <td>NOT_CHANGED</td>\n",
       "      <td>is</td>\n",
       "      <td>is</td>\n",
       "    </tr>\n",
       "    <tr>\n",
       "      <th>2</th>\n",
       "      <td>0</td>\n",
       "      <td>2</td>\n",
       "      <td>NOT_CHANGED</td>\n",
       "      <td>a</td>\n",
       "      <td>a</td>\n",
       "    </tr>\n",
       "    <tr>\n",
       "      <th>3</th>\n",
       "      <td>0</td>\n",
       "      <td>3</td>\n",
       "      <td>NOT_CHANGED</td>\n",
       "      <td>genus</td>\n",
       "      <td>genus</td>\n",
       "    </tr>\n",
       "    <tr>\n",
       "      <th>4</th>\n",
       "      <td>0</td>\n",
       "      <td>4</td>\n",
       "      <td>NOT_CHANGED</td>\n",
       "      <td>of</td>\n",
       "      <td>of</td>\n",
       "    </tr>\n",
       "    <tr>\n",
       "      <th>5</th>\n",
       "      <td>0</td>\n",
       "      <td>5</td>\n",
       "      <td>NOT_CHANGED</td>\n",
       "      <td>plant</td>\n",
       "      <td>plant</td>\n",
       "    </tr>\n",
       "    <tr>\n",
       "      <th>6</th>\n",
       "      <td>0</td>\n",
       "      <td>6</td>\n",
       "      <td>NOT_CHANGED</td>\n",
       "      <td>in</td>\n",
       "      <td>in</td>\n",
       "    </tr>\n",
       "    <tr>\n",
       "      <th>7</th>\n",
       "      <td>0</td>\n",
       "      <td>7</td>\n",
       "      <td>NOT_CHANGED</td>\n",
       "      <td>family</td>\n",
       "      <td>family</td>\n",
       "    </tr>\n",
       "    <tr>\n",
       "      <th>8</th>\n",
       "      <td>0</td>\n",
       "      <td>8</td>\n",
       "      <td>NOT_CHANGED</td>\n",
       "      <td>Acanthaceae</td>\n",
       "      <td>Acanthaceae</td>\n",
       "    </tr>\n",
       "    <tr>\n",
       "      <th>9</th>\n",
       "      <td>0</td>\n",
       "      <td>9</td>\n",
       "      <td>NOT_CHANGED</td>\n",
       "      <td>.</td>\n",
       "      <td>.</td>\n",
       "    </tr>\n",
       "    <tr>\n",
       "      <th>10</th>\n",
       "      <td>1</td>\n",
       "      <td>0</td>\n",
       "      <td>NUMBERS</td>\n",
       "      <td>2006</td>\n",
       "      <td>two thousand six</td>\n",
       "    </tr>\n",
       "    <tr>\n",
       "      <th>11</th>\n",
       "      <td>1</td>\n",
       "      <td>1</td>\n",
       "      <td>LETTERS</td>\n",
       "      <td>IUCN</td>\n",
       "      <td>i u c n</td>\n",
       "    </tr>\n",
       "    <tr>\n",
       "      <th>12</th>\n",
       "      <td>1</td>\n",
       "      <td>2</td>\n",
       "      <td>NOT_CHANGED</td>\n",
       "      <td>Red</td>\n",
       "      <td>Red</td>\n",
       "    </tr>\n",
       "    <tr>\n",
       "      <th>13</th>\n",
       "      <td>1</td>\n",
       "      <td>3</td>\n",
       "      <td>NOT_CHANGED</td>\n",
       "      <td>List</td>\n",
       "      <td>List</td>\n",
       "    </tr>\n",
       "    <tr>\n",
       "      <th>14</th>\n",
       "      <td>1</td>\n",
       "      <td>4</td>\n",
       "      <td>NOT_CHANGED</td>\n",
       "      <td>of</td>\n",
       "      <td>of</td>\n",
       "    </tr>\n",
       "    <tr>\n",
       "      <th>15</th>\n",
       "      <td>1</td>\n",
       "      <td>5</td>\n",
       "      <td>NOT_CHANGED</td>\n",
       "      <td>Threatened</td>\n",
       "      <td>Threatened</td>\n",
       "    </tr>\n",
       "    <tr>\n",
       "      <th>16</th>\n",
       "      <td>1</td>\n",
       "      <td>6</td>\n",
       "      <td>NOT_CHANGED</td>\n",
       "      <td>Species</td>\n",
       "      <td>Species</td>\n",
       "    </tr>\n",
       "    <tr>\n",
       "      <th>17</th>\n",
       "      <td>1</td>\n",
       "      <td>7</td>\n",
       "      <td>NOT_CHANGED</td>\n",
       "      <td>.</td>\n",
       "      <td>.</td>\n",
       "    </tr>\n",
       "    <tr>\n",
       "      <th>18</th>\n",
       "      <td>2</td>\n",
       "      <td>0</td>\n",
       "      <td>NOT_CHANGED</td>\n",
       "      <td>Circa</td>\n",
       "      <td>Circa</td>\n",
       "    </tr>\n",
       "    <tr>\n",
       "      <th>19</th>\n",
       "      <td>2</td>\n",
       "      <td>1</td>\n",
       "      <td>NOT_CHANGED</td>\n",
       "      <td>Survive</td>\n",
       "      <td>Survive</td>\n",
       "    </tr>\n",
       "    <tr>\n",
       "      <th>20</th>\n",
       "      <td>2</td>\n",
       "      <td>2</td>\n",
       "      <td>NOT_CHANGED</td>\n",
       "      <td>draw</td>\n",
       "      <td>draw</td>\n",
       "    </tr>\n",
       "    <tr>\n",
       "      <th>21</th>\n",
       "      <td>2</td>\n",
       "      <td>3</td>\n",
       "      <td>NOT_CHANGED</td>\n",
       "      <td>influences</td>\n",
       "      <td>influences</td>\n",
       "    </tr>\n",
       "    <tr>\n",
       "      <th>22</th>\n",
       "      <td>2</td>\n",
       "      <td>4</td>\n",
       "      <td>NOT_CHANGED</td>\n",
       "      <td>from</td>\n",
       "      <td>from</td>\n",
       "    </tr>\n",
       "    <tr>\n",
       "      <th>23</th>\n",
       "      <td>2</td>\n",
       "      <td>5</td>\n",
       "      <td>NOT_CHANGED</td>\n",
       "      <td>soft</td>\n",
       "      <td>soft</td>\n",
       "    </tr>\n",
       "    <tr>\n",
       "      <th>24</th>\n",
       "      <td>2</td>\n",
       "      <td>6</td>\n",
       "      <td>NOT_CHANGED</td>\n",
       "      <td>rock</td>\n",
       "      <td>rock</td>\n",
       "    </tr>\n",
       "    <tr>\n",
       "      <th>25</th>\n",
       "      <td>2</td>\n",
       "      <td>7</td>\n",
       "      <td>NOT_CHANGED</td>\n",
       "      <td>,</td>\n",
       "      <td>,</td>\n",
       "    </tr>\n",
       "    <tr>\n",
       "      <th>26</th>\n",
       "      <td>2</td>\n",
       "      <td>8</td>\n",
       "      <td>NOT_CHANGED</td>\n",
       "      <td>post</td>\n",
       "      <td>post</td>\n",
       "    </tr>\n",
       "    <tr>\n",
       "      <th>27</th>\n",
       "      <td>2</td>\n",
       "      <td>9</td>\n",
       "      <td>NOT_CHANGED</td>\n",
       "      <td>hardcore</td>\n",
       "      <td>hardcore</td>\n",
       "    </tr>\n",
       "    <tr>\n",
       "      <th>28</th>\n",
       "      <td>2</td>\n",
       "      <td>10</td>\n",
       "      <td>NOT_CHANGED</td>\n",
       "      <td>,</td>\n",
       "      <td>,</td>\n",
       "    </tr>\n",
       "    <tr>\n",
       "      <th>29</th>\n",
       "      <td>2</td>\n",
       "      <td>11</td>\n",
       "      <td>NOT_CHANGED</td>\n",
       "      <td>experimental</td>\n",
       "      <td>experimental</td>\n",
       "    </tr>\n",
       "    <tr>\n",
       "      <th>...</th>\n",
       "      <td>...</td>\n",
       "      <td>...</td>\n",
       "      <td>...</td>\n",
       "      <td>...</td>\n",
       "      <td>...</td>\n",
       "    </tr>\n",
       "    <tr>\n",
       "      <th>9918360</th>\n",
       "      <td>748064</td>\n",
       "      <td>3</td>\n",
       "      <td>NOT_CHANGED</td>\n",
       "      <td>,</td>\n",
       "      <td>,</td>\n",
       "    </tr>\n",
       "    <tr>\n",
       "      <th>9918361</th>\n",
       "      <td>748064</td>\n",
       "      <td>4</td>\n",
       "      <td>NOT_CHANGED</td>\n",
       "      <td>initially</td>\n",
       "      <td>initially</td>\n",
       "    </tr>\n",
       "    <tr>\n",
       "      <th>9918362</th>\n",
       "      <td>748064</td>\n",
       "      <td>5</td>\n",
       "      <td>NOT_CHANGED</td>\n",
       "      <td>from</td>\n",
       "      <td>from</td>\n",
       "    </tr>\n",
       "    <tr>\n",
       "      <th>9918363</th>\n",
       "      <td>748064</td>\n",
       "      <td>6</td>\n",
       "      <td>NUMBERS</td>\n",
       "      <td>December 2008</td>\n",
       "      <td>december two thousand eight</td>\n",
       "    </tr>\n",
       "    <tr>\n",
       "      <th>9918364</th>\n",
       "      <td>748064</td>\n",
       "      <td>7</td>\n",
       "      <td>NOT_CHANGED</td>\n",
       "      <td>,</td>\n",
       "      <td>,</td>\n",
       "    </tr>\n",
       "    <tr>\n",
       "      <th>9918365</th>\n",
       "      <td>748064</td>\n",
       "      <td>8</td>\n",
       "      <td>NOT_CHANGED</td>\n",
       "      <td>almost</td>\n",
       "      <td>almost</td>\n",
       "    </tr>\n",
       "    <tr>\n",
       "      <th>9918366</th>\n",
       "      <td>748064</td>\n",
       "      <td>9</td>\n",
       "      <td>NOT_CHANGED</td>\n",
       "      <td>hourly</td>\n",
       "      <td>hourly</td>\n",
       "    </tr>\n",
       "    <tr>\n",
       "      <th>9918367</th>\n",
       "      <td>748064</td>\n",
       "      <td>10</td>\n",
       "      <td>NOT_CHANGED</td>\n",
       "      <td>services</td>\n",
       "      <td>services</td>\n",
       "    </tr>\n",
       "    <tr>\n",
       "      <th>9918368</th>\n",
       "      <td>748064</td>\n",
       "      <td>11</td>\n",
       "      <td>NOT_CHANGED</td>\n",
       "      <td>from</td>\n",
       "      <td>from</td>\n",
       "    </tr>\n",
       "    <tr>\n",
       "      <th>9918369</th>\n",
       "      <td>748064</td>\n",
       "      <td>12</td>\n",
       "      <td>NOT_CHANGED</td>\n",
       "      <td>Muhldorf</td>\n",
       "      <td>Muhldorf</td>\n",
       "    </tr>\n",
       "    <tr>\n",
       "      <th>9918370</th>\n",
       "      <td>748064</td>\n",
       "      <td>13</td>\n",
       "      <td>NOT_CHANGED</td>\n",
       "      <td>to</td>\n",
       "      <td>to</td>\n",
       "    </tr>\n",
       "    <tr>\n",
       "      <th>9918371</th>\n",
       "      <td>748064</td>\n",
       "      <td>14</td>\n",
       "      <td>NOT_CHANGED</td>\n",
       "      <td>Landshut</td>\n",
       "      <td>Landshut</td>\n",
       "    </tr>\n",
       "    <tr>\n",
       "      <th>9918372</th>\n",
       "      <td>748064</td>\n",
       "      <td>15</td>\n",
       "      <td>NOT_CHANGED</td>\n",
       "      <td>.</td>\n",
       "      <td>.</td>\n",
       "    </tr>\n",
       "    <tr>\n",
       "      <th>9918373</th>\n",
       "      <td>748065</td>\n",
       "      <td>0</td>\n",
       "      <td>NOT_CHANGED</td>\n",
       "      <td>The</td>\n",
       "      <td>The</td>\n",
       "    </tr>\n",
       "    <tr>\n",
       "      <th>9918374</th>\n",
       "      <td>748065</td>\n",
       "      <td>1</td>\n",
       "      <td>NOT_CHANGED</td>\n",
       "      <td>next</td>\n",
       "      <td>next</td>\n",
       "    </tr>\n",
       "    <tr>\n",
       "      <th>9918375</th>\n",
       "      <td>748065</td>\n",
       "      <td>2</td>\n",
       "      <td>NOT_CHANGED</td>\n",
       "      <td>perceptible</td>\n",
       "      <td>perceptible</td>\n",
       "    </tr>\n",
       "    <tr>\n",
       "      <th>9918376</th>\n",
       "      <td>748065</td>\n",
       "      <td>3</td>\n",
       "      <td>NOT_CHANGED</td>\n",
       "      <td>period</td>\n",
       "      <td>period</td>\n",
       "    </tr>\n",
       "    <tr>\n",
       "      <th>9918377</th>\n",
       "      <td>748065</td>\n",
       "      <td>4</td>\n",
       "      <td>NOT_CHANGED</td>\n",
       "      <td>of</td>\n",
       "      <td>of</td>\n",
       "    </tr>\n",
       "    <tr>\n",
       "      <th>9918378</th>\n",
       "      <td>748065</td>\n",
       "      <td>5</td>\n",
       "      <td>NOT_CHANGED</td>\n",
       "      <td>growth</td>\n",
       "      <td>growth</td>\n",
       "    </tr>\n",
       "    <tr>\n",
       "      <th>9918379</th>\n",
       "      <td>748065</td>\n",
       "      <td>6</td>\n",
       "      <td>NOT_CHANGED</td>\n",
       "      <td>did</td>\n",
       "      <td>did</td>\n",
       "    </tr>\n",
       "    <tr>\n",
       "      <th>9918380</th>\n",
       "      <td>748065</td>\n",
       "      <td>7</td>\n",
       "      <td>NOT_CHANGED</td>\n",
       "      <td>not</td>\n",
       "      <td>not</td>\n",
       "    </tr>\n",
       "    <tr>\n",
       "      <th>9918381</th>\n",
       "      <td>748065</td>\n",
       "      <td>8</td>\n",
       "      <td>NOT_CHANGED</td>\n",
       "      <td>occur</td>\n",
       "      <td>occur</td>\n",
       "    </tr>\n",
       "    <tr>\n",
       "      <th>9918382</th>\n",
       "      <td>748065</td>\n",
       "      <td>9</td>\n",
       "      <td>NOT_CHANGED</td>\n",
       "      <td>until</td>\n",
       "      <td>until</td>\n",
       "    </tr>\n",
       "    <tr>\n",
       "      <th>9918383</th>\n",
       "      <td>748065</td>\n",
       "      <td>10</td>\n",
       "      <td>NOT_CHANGED</td>\n",
       "      <td>the</td>\n",
       "      <td>the</td>\n",
       "    </tr>\n",
       "    <tr>\n",
       "      <th>9918384</th>\n",
       "      <td>748065</td>\n",
       "      <td>11</td>\n",
       "      <td>NOT_CHANGED</td>\n",
       "      <td>middle</td>\n",
       "      <td>middle</td>\n",
       "    </tr>\n",
       "    <tr>\n",
       "      <th>9918385</th>\n",
       "      <td>748065</td>\n",
       "      <td>12</td>\n",
       "      <td>NOT_CHANGED</td>\n",
       "      <td>of</td>\n",
       "      <td>of</td>\n",
       "    </tr>\n",
       "    <tr>\n",
       "      <th>9918386</th>\n",
       "      <td>748065</td>\n",
       "      <td>13</td>\n",
       "      <td>NOT_CHANGED</td>\n",
       "      <td>the</td>\n",
       "      <td>the</td>\n",
       "    </tr>\n",
       "    <tr>\n",
       "      <th>9918387</th>\n",
       "      <td>748065</td>\n",
       "      <td>14</td>\n",
       "      <td>NUMBERS</td>\n",
       "      <td>19th</td>\n",
       "      <td>nineteenth</td>\n",
       "    </tr>\n",
       "    <tr>\n",
       "      <th>9918388</th>\n",
       "      <td>748065</td>\n",
       "      <td>15</td>\n",
       "      <td>NOT_CHANGED</td>\n",
       "      <td>century</td>\n",
       "      <td>century</td>\n",
       "    </tr>\n",
       "    <tr>\n",
       "      <th>9918389</th>\n",
       "      <td>748065</td>\n",
       "      <td>16</td>\n",
       "      <td>NOT_CHANGED</td>\n",
       "      <td>.</td>\n",
       "      <td>.</td>\n",
       "    </tr>\n",
       "  </tbody>\n",
       "</table>\n",
       "<p>9918390 rows × 5 columns</p>\n",
       "</div>"
      ],
      "text/plain": [
       "         sentence_id  token_id        class         before  \\\n",
       "0                  0         0  NOT_CHANGED  Brillantaisia   \n",
       "1                  0         1  NOT_CHANGED             is   \n",
       "2                  0         2  NOT_CHANGED              a   \n",
       "3                  0         3  NOT_CHANGED          genus   \n",
       "4                  0         4  NOT_CHANGED             of   \n",
       "5                  0         5  NOT_CHANGED          plant   \n",
       "6                  0         6  NOT_CHANGED             in   \n",
       "7                  0         7  NOT_CHANGED         family   \n",
       "8                  0         8  NOT_CHANGED    Acanthaceae   \n",
       "9                  0         9  NOT_CHANGED              .   \n",
       "10                 1         0      NUMBERS           2006   \n",
       "11                 1         1      LETTERS           IUCN   \n",
       "12                 1         2  NOT_CHANGED            Red   \n",
       "13                 1         3  NOT_CHANGED           List   \n",
       "14                 1         4  NOT_CHANGED             of   \n",
       "15                 1         5  NOT_CHANGED     Threatened   \n",
       "16                 1         6  NOT_CHANGED        Species   \n",
       "17                 1         7  NOT_CHANGED              .   \n",
       "18                 2         0  NOT_CHANGED          Circa   \n",
       "19                 2         1  NOT_CHANGED        Survive   \n",
       "20                 2         2  NOT_CHANGED           draw   \n",
       "21                 2         3  NOT_CHANGED     influences   \n",
       "22                 2         4  NOT_CHANGED           from   \n",
       "23                 2         5  NOT_CHANGED           soft   \n",
       "24                 2         6  NOT_CHANGED           rock   \n",
       "25                 2         7  NOT_CHANGED              ,   \n",
       "26                 2         8  NOT_CHANGED           post   \n",
       "27                 2         9  NOT_CHANGED       hardcore   \n",
       "28                 2        10  NOT_CHANGED              ,   \n",
       "29                 2        11  NOT_CHANGED   experimental   \n",
       "...              ...       ...          ...            ...   \n",
       "9918360       748064         3  NOT_CHANGED              ,   \n",
       "9918361       748064         4  NOT_CHANGED      initially   \n",
       "9918362       748064         5  NOT_CHANGED           from   \n",
       "9918363       748064         6      NUMBERS  December 2008   \n",
       "9918364       748064         7  NOT_CHANGED              ,   \n",
       "9918365       748064         8  NOT_CHANGED         almost   \n",
       "9918366       748064         9  NOT_CHANGED         hourly   \n",
       "9918367       748064        10  NOT_CHANGED       services   \n",
       "9918368       748064        11  NOT_CHANGED           from   \n",
       "9918369       748064        12  NOT_CHANGED       Muhldorf   \n",
       "9918370       748064        13  NOT_CHANGED             to   \n",
       "9918371       748064        14  NOT_CHANGED       Landshut   \n",
       "9918372       748064        15  NOT_CHANGED              .   \n",
       "9918373       748065         0  NOT_CHANGED            The   \n",
       "9918374       748065         1  NOT_CHANGED           next   \n",
       "9918375       748065         2  NOT_CHANGED    perceptible   \n",
       "9918376       748065         3  NOT_CHANGED         period   \n",
       "9918377       748065         4  NOT_CHANGED             of   \n",
       "9918378       748065         5  NOT_CHANGED         growth   \n",
       "9918379       748065         6  NOT_CHANGED            did   \n",
       "9918380       748065         7  NOT_CHANGED            not   \n",
       "9918381       748065         8  NOT_CHANGED          occur   \n",
       "9918382       748065         9  NOT_CHANGED          until   \n",
       "9918383       748065        10  NOT_CHANGED            the   \n",
       "9918384       748065        11  NOT_CHANGED         middle   \n",
       "9918385       748065        12  NOT_CHANGED             of   \n",
       "9918386       748065        13  NOT_CHANGED            the   \n",
       "9918387       748065        14      NUMBERS           19th   \n",
       "9918388       748065        15  NOT_CHANGED        century   \n",
       "9918389       748065        16  NOT_CHANGED              .   \n",
       "\n",
       "                               after  \n",
       "0                      Brillantaisia  \n",
       "1                                 is  \n",
       "2                                  a  \n",
       "3                              genus  \n",
       "4                                 of  \n",
       "5                              plant  \n",
       "6                                 in  \n",
       "7                             family  \n",
       "8                        Acanthaceae  \n",
       "9                                  .  \n",
       "10                  two thousand six  \n",
       "11                           i u c n  \n",
       "12                               Red  \n",
       "13                              List  \n",
       "14                                of  \n",
       "15                        Threatened  \n",
       "16                           Species  \n",
       "17                                 .  \n",
       "18                             Circa  \n",
       "19                           Survive  \n",
       "20                              draw  \n",
       "21                        influences  \n",
       "22                              from  \n",
       "23                              soft  \n",
       "24                              rock  \n",
       "25                                 ,  \n",
       "26                              post  \n",
       "27                          hardcore  \n",
       "28                                 ,  \n",
       "29                      experimental  \n",
       "...                              ...  \n",
       "9918360                            ,  \n",
       "9918361                    initially  \n",
       "9918362                         from  \n",
       "9918363  december two thousand eight  \n",
       "9918364                            ,  \n",
       "9918365                       almost  \n",
       "9918366                       hourly  \n",
       "9918367                     services  \n",
       "9918368                         from  \n",
       "9918369                     Muhldorf  \n",
       "9918370                           to  \n",
       "9918371                     Landshut  \n",
       "9918372                            .  \n",
       "9918373                          The  \n",
       "9918374                         next  \n",
       "9918375                  perceptible  \n",
       "9918376                       period  \n",
       "9918377                           of  \n",
       "9918378                       growth  \n",
       "9918379                          did  \n",
       "9918380                          not  \n",
       "9918381                        occur  \n",
       "9918382                        until  \n",
       "9918383                          the  \n",
       "9918384                       middle  \n",
       "9918385                           of  \n",
       "9918386                          the  \n",
       "9918387                   nineteenth  \n",
       "9918388                      century  \n",
       "9918389                            .  \n",
       "\n",
       "[9918390 rows x 5 columns]"
      ]
     },
     "execution_count": 101,
     "metadata": {},
     "output_type": "execute_result"
    }
   ],
   "source": [
    "tmp = characters_all[characters_all_index['|']]\n",
    "print(tmp)\n",
    "all_data[all_data['before'].str.contains(tmp)]"
   ]
  },
  {
   "cell_type": "code",
   "execution_count": 72,
   "metadata": {},
   "outputs": [
    {
     "data": {
      "text/html": [
       "<div>\n",
       "<style>\n",
       "    .dataframe thead tr:only-child th {\n",
       "        text-align: right;\n",
       "    }\n",
       "\n",
       "    .dataframe thead th {\n",
       "        text-align: left;\n",
       "    }\n",
       "\n",
       "    .dataframe tbody tr th {\n",
       "        vertical-align: top;\n",
       "    }\n",
       "</style>\n",
       "<table border=\"1\" class=\"dataframe\">\n",
       "  <thead>\n",
       "    <tr style=\"text-align: right;\">\n",
       "      <th></th>\n",
       "      <th>sentence_id</th>\n",
       "      <th>token_id</th>\n",
       "      <th>class</th>\n",
       "      <th>before</th>\n",
       "      <th>after</th>\n",
       "    </tr>\n",
       "  </thead>\n",
       "  <tbody>\n",
       "    <tr>\n",
       "      <th>3611880</th>\n",
       "      <td>278101</td>\n",
       "      <td>4</td>\n",
       "      <td>VERBATIM</td>\n",
       "      <td>Ω</td>\n",
       "      <td>omega</td>\n",
       "    </tr>\n",
       "    <tr>\n",
       "      <th>6422501</th>\n",
       "      <td>488501</td>\n",
       "      <td>1</td>\n",
       "      <td>VERBATIM</td>\n",
       "      <td>Ω</td>\n",
       "      <td>omega</td>\n",
       "    </tr>\n",
       "    <tr>\n",
       "      <th>6883914</th>\n",
       "      <td>522809</td>\n",
       "      <td>0</td>\n",
       "      <td>NUMBERS</td>\n",
       "      <td>50 Ω</td>\n",
       "      <td>fifty ohms</td>\n",
       "    </tr>\n",
       "    <tr>\n",
       "      <th>8097483</th>\n",
       "      <td>613302</td>\n",
       "      <td>4</td>\n",
       "      <td>VERBATIM</td>\n",
       "      <td>Ω</td>\n",
       "      <td>omega</td>\n",
       "    </tr>\n",
       "  </tbody>\n",
       "</table>\n",
       "</div>"
      ],
      "text/plain": [
       "         sentence_id  token_id     class before       after\n",
       "3611880       278101         4  VERBATIM      Ω       omega\n",
       "6422501       488501         1  VERBATIM      Ω       omega\n",
       "6883914       522809         0   NUMBERS   50 Ω  fifty ohms\n",
       "8097483       613302         4  VERBATIM      Ω       omega"
      ]
     },
     "execution_count": 72,
     "metadata": {},
     "output_type": "execute_result"
    }
   ],
   "source": [
    "all_data[all_data['before'].str.contains('Ω')]"
   ]
  },
  {
   "cell_type": "markdown",
   "metadata": {},
   "source": [
    "### Common words"
   ]
  },
  {
   "cell_type": "code",
   "execution_count": 7,
   "metadata": {},
   "outputs": [
    {
     "data": {
      "text/plain": [
       "7381"
      ]
     },
     "execution_count": 7,
     "metadata": {},
     "output_type": "execute_result"
    }
   ],
   "source": [
    "common_words, common_words_index = load_common_words_100()\n",
    "len(common_words)"
   ]
  },
  {
   "cell_type": "markdown",
   "metadata": {},
   "source": [
    "### More balanced sample"
   ]
  },
  {
   "cell_type": "code",
   "execution_count": 8,
   "metadata": {},
   "outputs": [
    {
     "data": {
      "text/plain": [
       "class\n",
       "ELECTRONIC        4964\n",
       "LETTERS         144364\n",
       "NOT_CHANGED    9218584\n",
       "NUMBERS         448151\n",
       "PLAIN            36472\n",
       "VERBATIM         65855\n",
       "Name: class, dtype: int64"
      ]
     },
     "execution_count": 8,
     "metadata": {},
     "output_type": "execute_result"
    }
   ],
   "source": [
    "all_data.groupby(\"class\")[\"class\"].count()"
   ]
  },
  {
   "cell_type": "code",
   "execution_count": 51,
   "metadata": {
    "collapsed": true
   },
   "outputs": [],
   "source": [
    "balanced_data_classes_select = list(all_data.groupby('class'))\n",
    "\n",
    "balanced_data_accessed_counter = 0 \n",
    "balanced_data_length = 0\n",
    "def balanced_data_randomize(max_len=20000):\n",
    "    global balanced_data, balanced_data_length, balanced_data_accessed_counter\n",
    "    balanced_data = pd.concat([v.sample(min(max_len, len(v))) for k, v in balanced_data_classes_select])\n",
    "    balanced_data_length = len(balanced_data)\n",
    "    balanced_data_accessed_counter = 0\n",
    "\n",
    "def balanced_data_sample_row():\n",
    "    global balanced_data_accessed_counter\n",
    "    global balanced_data_last_sample\n",
    "    balanced_data_accessed_counter += 1\n",
    "    if balanced_data_accessed_counter/balanced_data_length > 0.2:\n",
    "        balanced_data_randomize()\n",
    "    balanced_data_last_sample = balanced_data.iloc[random.randint(1, balanced_data_length-1)]\n",
    "    return balanced_data_last_sample\n",
    "    \n",
    "balanced_data_randomize()"
   ]
  },
  {
   "cell_type": "code",
   "execution_count": 10,
   "metadata": {},
   "outputs": [
    {
     "data": {
      "text/plain": [
       "class\n",
       "ELECTRONIC      4964\n",
       "LETTERS        20000\n",
       "NOT_CHANGED    20000\n",
       "NUMBERS        20000\n",
       "PLAIN          20000\n",
       "VERBATIM       20000\n",
       "Name: class, dtype: int64"
      ]
     },
     "execution_count": 10,
     "metadata": {},
     "output_type": "execute_result"
    }
   ],
   "source": [
    "balanced_data.groupby(\"class\")[\"class\"].count()"
   ]
  },
  {
   "cell_type": "markdown",
   "metadata": {},
   "source": [
    "### Samples"
   ]
  },
  {
   "cell_type": "code",
   "execution_count": 14,
   "metadata": {},
   "outputs": [
    {
     "name": "stdout",
     "output_type": "stream",
     "text": [
      "LETTERS : M. -> m\n",
      "ISBN 1 - 579 - 58411- X . Berard , Jeanette <SAMPLE> ; Englund , Klaudia ( 2009 ) .\n",
      "['ISBN', '1', '-', '579', '-', '58411-', 'X', '.', 'Berard', ',', 'Jeanette', '<SAMPLE>', ';', 'Englund', ',', 'Klaudia', '(', '2009', ')', '.']\n",
      "torch.Size([1, 21, 7381])\n",
      "torch.Size([1, 3, 115])\n"
     ]
    }
   ],
   "source": [
    "def get_random_sample():\n",
    "    sample_row = balanced_data_sample_row()\n",
    "    sentence_id = sample_row['class']\n",
    "\n",
    "    rows = all_data_sentence_index.loc[sample_row['sentence_id']]\n",
    "    befores = list(rows.before)\n",
    "        \n",
    "    token_id_idx = list(rows['token_id']).index(sample_row['token_id'])\n",
    "    befores[token_id_idx] = SAMPLE_WORD_TOKEN\n",
    "    \n",
    "    return sample_row['before'], sample_row['after'], sample_row['class'], befores\n",
    "            \n",
    "def tmp():\n",
    "    s_bef, s_aft, s_class, s_sentence = get_random_sample()\n",
    "    print(s_class, ':', s_bef, '->', s_aft)\n",
    "    print(' '.join(s_sentence))\n",
    "    print(s_sentence)\n",
    "    print(words_to_tensor(list(s_sentence), common_words_index).shape)\n",
    "    print(string_to_tensor(s_bef, characters_all_index).shape)\n",
    "tmp()"
   ]
  },
  {
   "cell_type": "code",
   "execution_count": null,
   "metadata": {
    "collapsed": true
   },
   "outputs": [],
   "source": []
  },
  {
   "cell_type": "markdown",
   "metadata": {},
   "source": [
    "# Model"
   ]
  },
  {
   "cell_type": "code",
   "execution_count": 15,
   "metadata": {
    "collapsed": true
   },
   "outputs": [],
   "source": [
    "class CategorizeRNN(nn.Module):\n",
    "    def __init__(self, output_size, words_input_size, chars_input_size, words_hidden_size, chars_hidden_size,\n",
    "                 words_dropout=0, chars_dropout=0, words_layers=1, chars_layers=1):\n",
    "        super(CategorizeRNN, self).__init__()\n",
    "        \n",
    "        self.words_layers = words_layers\n",
    "        self.chars_layers = chars_layers\n",
    "        self.words_hidden_size = words_hidden_size\n",
    "        self.chars_hidden_size = chars_hidden_size\n",
    "\n",
    "        self.rnn_words = nn.LSTM(words_input_size, words_hidden_size // 2, words_layers,\n",
    "                                 dropout=words_dropout, batch_first=True, bidirectional=True)\n",
    "\n",
    "        self.rnn_chars = nn.LSTM(chars_input_size, chars_hidden_size // 2, chars_layers,\n",
    "                                 dropout=chars_dropout, batch_first=True, bidirectional=True)\n",
    "        \n",
    "        self.lin_output = nn.Linear(words_hidden_size+chars_hidden_size, output_size)\n",
    "        \n",
    "    def forward(self, words_tensor, string_tensor, init_hidden = True):\n",
    "        if init_hidden:\n",
    "            hidden_words, hidden_chars = self.init_hidden()\n",
    "        \n",
    "        all_outputs_words, hidden_words = self.rnn_words(words_tensor, hidden_words)\n",
    "        output_words = all_outputs_words[:, -1]\n",
    "        \n",
    "        all_outputs_chars, hidden_chars = self.rnn_chars(string_tensor, hidden_chars)\n",
    "        output_chars = all_outputs_chars[:, -1]\n",
    "        \n",
    "        output = torch.cat((output_words, output_chars), 1)\n",
    "        \n",
    "        #output = self.lin_1(output)\n",
    "        output = self.lin_output(output)\n",
    "        output = F.log_softmax(output)\n",
    "        \n",
    "        return output\n",
    "\n",
    "    def init_hidden(self):\n",
    "        var1_1 = Variable(torch.zeros(2 * self.words_layers, 1, self.words_hidden_size // 2))\n",
    "        var1_2 = Variable(torch.zeros(2 * self.words_layers, 1, self.words_hidden_size // 2))\n",
    "        var2_1 = Variable(torch.zeros(2 * self.chars_layers, 1, self.chars_hidden_size // 2))\n",
    "        var2_2 = Variable(torch.zeros(2 * self.chars_layers, 1, self.chars_hidden_size // 2))\n",
    "        var1_1 = var1_1.cuda(); var1_2 = var1_2.cuda()\n",
    "        var2_1 = var2_1.cuda(); var2_2 = var2_2.cuda()\n",
    "        return ((var1_1, var1_2), (var2_1, var2_2))"
   ]
  },
  {
   "cell_type": "code",
   "execution_count": 16,
   "metadata": {},
   "outputs": [
    {
     "name": "stdout",
     "output_type": "stream",
     "text": [
      "Save path: data/models/category_5_mod_data_common_words\n"
     ]
    },
    {
     "data": {
      "text/plain": [
       "CategorizeRNN (\n",
       "  (rnn_words): LSTM(7381, 64, num_layers=2, batch_first=True, dropout=0.2, bidirectional=True)\n",
       "  (rnn_chars): LSTM(115, 64, num_layers=2, batch_first=True, dropout=0.2, bidirectional=True)\n",
       "  (lin_output): Linear (256 -> 6)\n",
       ")"
      ]
     },
     "execution_count": 16,
     "metadata": {},
     "output_type": "execute_result"
    }
   ],
   "source": [
    "model = CategorizeRNN(len(categories_all), \n",
    "                      words_input_size=len(common_words), chars_input_size=len(characters_all),\n",
    "                      words_hidden_size=128, chars_hidden_size=128,\n",
    "                      words_layers=2, chars_layers=2,\n",
    "                      words_dropout=0.2, chars_dropout=0.2)\n",
    "model = model.cuda()\n",
    "\n",
    "model_training = ModelTraining(MODEL_SAVE_PATH, [model])\n",
    "\n",
    "model"
   ]
  },
  {
   "cell_type": "markdown",
   "metadata": {},
   "source": [
    "### Accuracy"
   ]
  },
  {
   "cell_type": "code",
   "execution_count": 17,
   "metadata": {},
   "outputs": [
    {
     "data": {
      "text/plain": [
       "(Variable containing:\n",
       " -1.7563 -1.8346 -1.8035 -1.7683 -1.8423 -1.7497\n",
       " [torch.cuda.FloatTensor of size 1x6 (GPU 0)],\n",
       " ('ELECTRONIC', 5),\n",
       " ('NOT_CHANGED', 0),\n",
       " ('in',\n",
       "  'in',\n",
       "  'NOT_CHANGED',\n",
       "  ['He',\n",
       "   'remained',\n",
       "   'at',\n",
       "   'Berne',\n",
       "   'until',\n",
       "   'December 1905',\n",
       "   'and',\n",
       "   'was',\n",
       "   'appointed',\n",
       "   'Minister',\n",
       "   'to',\n",
       "   'Romania',\n",
       "   '<SAMPLE>',\n",
       "   'January 1906',\n",
       "   '.']))"
      ]
     },
     "execution_count": 17,
     "metadata": {},
     "output_type": "execute_result"
    }
   ],
   "source": [
    "def test_model_single_sample(model):\n",
    "    s_bef, s_aft, s_class, s_sentence = sample = get_random_sample()\n",
    "    \n",
    "    words_t = words_to_tensor(list(s_sentence), common_words_index)\n",
    "    words_t = Variable(words_t).cuda()\n",
    "    \n",
    "    string_t = string_to_tensor(s_bef, characters_all_index)\n",
    "    string_t = Variable(string_t).cuda()\n",
    "    \n",
    "    output = model(words_t, string_t)\n",
    "    guess = category_from_output(output, categories_all)\n",
    "\n",
    "    return output, guess, (s_class, categories_index[s_class]), sample\n",
    "    \n",
    "tmp = test_model_single_sample(model)\n",
    "tmp"
   ]
  },
  {
   "cell_type": "code",
   "execution_count": 18,
   "metadata": {},
   "outputs": [
    {
     "name": "stdout",
     "output_type": "stream",
     "text": [
      "Accuracy: 4.52% (     452/   10000)\n",
      "CPU times: user 2min 44s, sys: 1.47 s, total: 2min 45s\n",
      "Wall time: 42.8 s\n"
     ]
    },
    {
     "data": {
      "text/plain": [
       "0.0452"
      ]
     },
     "execution_count": 18,
     "metadata": {},
     "output_type": "execute_result"
    }
   ],
   "source": [
    "%%time\n",
    "test_model_accuracy(model, test_model_single_sample)"
   ]
  },
  {
   "cell_type": "markdown",
   "metadata": {},
   "source": [
    "### Training"
   ]
  },
  {
   "cell_type": "code",
   "execution_count": 19,
   "metadata": {
    "collapsed": true
   },
   "outputs": [],
   "source": [
    "def train(model, s_category, s_sentence, s_bef, loss_function, optimizer):\n",
    "    \n",
    "    category_tensor = Variable(torch.LongTensor([categories_index[s_category]])).cuda()\n",
    "    \n",
    "    words_t = words_to_tensor(list(s_sentence), common_words_index)\n",
    "    words_t = Variable(words_t).cuda()\n",
    "    \n",
    "    string_t = string_to_tensor(s_bef, characters_all_index)\n",
    "    string_t = Variable(string_t).cuda()\n",
    "    \n",
    "    output = model(words_t, string_t)\n",
    "    loss = loss_function(output, category_tensor)\n",
    "    optimizer.zero_grad()\n",
    "    loss.backward()\n",
    "    optimizer.step()\n",
    "    \n",
    "    return output, loss.data[0]"
   ]
  },
  {
   "cell_type": "code",
   "execution_count": 20,
   "metadata": {
    "collapsed": true
   },
   "outputs": [],
   "source": [
    "def train_iterations(n_iters=100000, lr=0.001, print_every=10000, plot_every=1000):\n",
    "\n",
    "    start = time.time()\n",
    "    model.train()\n",
    "\n",
    "    current_loss = 0\n",
    "    current_loss_iter = 0\n",
    "\n",
    "    optimizer = torch.optim.Adam(model.parameters(), lr=lr)\n",
    "    loss_function = nn.NLLLoss()\n",
    "    \n",
    "    for iteration in range(1, n_iters + 1):\n",
    "        model_training.iterations += 1\n",
    "        \n",
    "        s_bef, s_aft, s_class, s_sentence = get_random_sample()\n",
    "        \n",
    "        result, loss = train(model=model, s_category=s_class, s_sentence=s_sentence,\n",
    "                             s_bef=s_bef, optimizer=optimizer, loss_function=loss_function)\n",
    "\n",
    "        current_loss += loss\n",
    "        current_loss_iter += 1\n",
    "\n",
    "        # Print iter number, loss, name and guess\n",
    "        if iteration % print_every == 0:\n",
    "            guess, guess_i = category_from_output(result, categories_all)\n",
    "            correct = '✓' if guess == s_class else \"✗ {}\".format(s_class)\n",
    "            print(\"{:>6d} {:>4.0%} ({:>8}) {:>7.3f}   | {:>6.2f}: {} -> {} ({})\".format(\n",
    "                      model_training.iterations, iteration/n_iters, time_since(start),\n",
    "                      current_loss/current_loss_iter, loss,\n",
    "                      s_bef, guess, correct))\n",
    "\n",
    "        # Add current loss avg to list of losses\n",
    "        if iteration % plot_every == 0:\n",
    "            model_training.losses.append(current_loss / plot_every)\n",
    "            model_training.learning_rates.append(lr)\n",
    "            current_loss = 0\n",
    "            current_loss_iter = 0\n",
    "            \n",
    "        if model_training.iterations % 50000 == 0 or model_training.iterations == 10:\n",
    "            model_training.save_models()\n",
    "            acc = test_model_accuracy(model, test_model_single_sample)\n",
    "            model_training.accuracy.append(acc)\n",
    "    \n",
    "    # test_model_accuracy(model, n_sample=10000)"
   ]
  },
  {
   "cell_type": "code",
   "execution_count": 21,
   "metadata": {
    "scrolled": true
   },
   "outputs": [
    {
     "name": "stdout",
     "output_type": "stream",
     "text": [
      "     9  18% (   0m 0s)   1.793   |   1.76: mr -> ELECTRONIC (✗ PLAIN)\n",
      "Saved model to data/models/category_5_mod_data_common_words/10_(CategorizeRNN)\n",
      "Accuracy: 4.42% (     442/   10000)\n",
      "    18  36% (  0m 42s)   1.795   |   1.81: AD -> PLAIN (✗ LETTERS)\n",
      "    27  54% (  0m 42s)   1.799   |   1.75: vol -> PLAIN (✓)\n",
      "    36  72% (  0m 43s)   1.799   |   1.78: Sofia -> PLAIN (✗ NOT_CHANGED)\n",
      "    45  90% (  0m 43s)   1.794   |   1.75: Elisabeth -> PLAIN (✓)\n"
     ]
    }
   ],
   "source": [
    "train_iterations(n_iters=50, print_every=9, lr=0.0001)"
   ]
  },
  {
   "cell_type": "code",
   "execution_count": 22,
   "metadata": {},
   "outputs": [
    {
     "name": "stdout",
     "output_type": "stream",
     "text": [
      "   550  53% (   0m 7s)   1.752   |   1.51: pp -> VERBATIM (✓)\n"
     ]
    }
   ],
   "source": [
    "train_iterations(n_iters=(1000-model_training.iterations), print_every=500, lr=0.0001)"
   ]
  },
  {
   "cell_type": "code",
   "execution_count": 37,
   "metadata": {},
   "outputs": [
    {
     "name": "stdout",
     "output_type": "stream",
     "text": [
      "  2000  10% (   0m 9s)   1.337   |   1.59: - -> LETTERS (✗ PLAIN)\n",
      "  3000  20% (  0m 19s)   1.105   |   0.41: September 22, 2012 -> NUMBERS (✓)\n",
      "  4000  30% (  0m 32s)   0.826   |   1.75: ) -> PLAIN (✗ NOT_CHANGED)\n",
      "  5000  40% (  0m 45s)   0.702   |   0.46: 80 -> NUMBERS (✓)\n",
      "  6000  50% (  0m 59s)   0.613   |   0.02: ☒ -> VERBATIM (✓)\n",
      "  7000  60% (  1m 12s)   0.604   |   0.74: : -> PLAIN (✓)\n",
      "  8000  70% (  1m 26s)   0.523   |   0.00: ☒ -> VERBATIM (✓)\n",
      "  9000  80% (  1m 39s)   0.499   |   0.06: ☒ -> VERBATIM (✓)\n",
      " 10000  90% (  1m 52s)   0.472   |   0.39: stabilisation -> PLAIN (✓)\n",
      " 11000 100% (   2m 5s)   0.489   |   0.50: one -> NOT_CHANGED (✓)\n"
     ]
    }
   ],
   "source": [
    "train_iterations(n_iters=10000, lr=0.0001, print_every=1000)"
   ]
  },
  {
   "cell_type": "code",
   "execution_count": 38,
   "metadata": {},
   "outputs": [
    {
     "name": "stdout",
     "output_type": "stream",
     "text": [
      "NOT_CHANGED ->       PLAIN (0.482) ||       in -> in == Non immune diseases with etiological origins <SAMPLE> inflammatory processes include cancer , atherosclerosis , and ischaemic heart disease .\n",
      "   VERBATIM ->       PLAIN (0.335) ||       Cr -> c r == The Mayor of the City is <SAMPLE> .\n",
      "      PLAIN -> NOT_CHANGED (0.505) ||      vol -> volume == \" Chassidic Sects Battle Each Other \" , Canadian Jewish News , April 1, 1977 Sichot Kodesh 5736 , <SAMPLE>\n",
      "NOT_CHANGED ->       PLAIN (0.508) ||       as -> as == 2007 : The Employees Provident Fund ( EPF ) emerged <SAMPLE> the single largest shareholder of RHB Capital .\n",
      "NOT_CHANGED ->       PLAIN (0.521) || appearances -> appearances == 15 Include 5 <SAMPLE> in 2010 Campeonato Cearense Segunda Divisao .\n",
      "NOT_CHANGED ->       PLAIN (0.466) ||        , -> , == On television , Rampling played the gunfighter Hana Wilde in \" The Superlative Seven \" <SAMPLE> a 1967 episode of The Avengers .\n",
      "      PLAIN -> NOT_CHANGED (0.703) || realises -> realizes == Due to this act , Indu <SAMPLE> that Bahattar is a nice person and develops and affection for him .\n",
      "      PLAIN -> NOT_CHANGED (0.542) ||      ltd -> limited == Schofield Publishing <SAMPLE>\n",
      " ELECTRONIC -> NOT_CHANGED (0.634) ||   kpn.dk -> k p n dot d k == \" Danish Dancehit is back \" on <SAMPLE> .\n",
      "    LETTERS ->       PLAIN (0.373) ||       F- -> f == Another attached component , actually a de facto squadron , was the <SAMPLE> 100 - equipped 612th Tactical Fighter Squadron .\n",
      "NOT_CHANGED ->       PLAIN (0.49) ||       in -> in == Blackwater's responsibilities include the United States embassy <SAMPLE> Iraq .\n"
     ]
    }
   ],
   "source": [
    "print_local_wrong_predictions()"
   ]
  },
  {
   "cell_type": "code",
   "execution_count": 39,
   "metadata": {},
   "outputs": [
    {
     "name": "stdout",
     "output_type": "stream",
     "text": [
      " 21000  11% (  2m 20s)   0.234   |   0.01: PDF -> LETTERS (✓)\n",
      " 31000  22% (  4m 41s)   0.153   |   0.07: : -> PLAIN (✓)\n",
      " 41000  34% (  6m 54s)   0.179   |   0.00: April 2001 -> NUMBERS (✓)\n",
      "Saved model to data/models/category_5_mod_data_common_words/50000_(CategorizeRNN)\n",
      "Accuracy: 96.59% (    9659/   10000)\n",
      " 51000  45% (  9m 55s)   0.133   |   0.01: US -> LETTERS (✓)\n",
      " 61000  56% ( 12m 10s)   0.105   |   0.02: - -> PLAIN (✓)\n",
      " 71000  67% ( 14m 25s)   0.132   |   0.00: indiestar.tv -> ELECTRONIC (✓)\n",
      " 81000  79% ( 16m 40s)   0.099   |   0.00: 1268 -> NUMBERS (✓)\n",
      " 91000  90% ( 18m 57s)   0.083   |   0.01: UPFA -> LETTERS (✓)\n",
      "Saved model to data/models/category_5_mod_data_common_words/100000_(CategorizeRNN)\n",
      "Accuracy: 97.63% (    9763/   10000)\n"
     ]
    }
   ],
   "source": [
    "train_iterations(n_iters=89000, print_every=10000)"
   ]
  },
  {
   "cell_type": "code",
   "execution_count": 40,
   "metadata": {},
   "outputs": [
    {
     "name": "stdout",
     "output_type": "stream",
     "text": [
      "110000  10% (  2m 15s)   0.079   |   0.02: R. -> LETTERS (✓)\n",
      "120000  20% (  4m 26s)   0.093   |   0.00: P. O. -> LETTERS (✓)\n",
      "130000  30% (  6m 34s)   0.071   |   0.00: 57 -> NUMBERS (✓)\n",
      "140000  40% (  8m 40s)   0.071   |   0.00: ☒ -> VERBATIM (✓)\n",
      "150000  50% ( 10m 52s)   0.092   |   0.02: advertising -> PLAIN (✓)\n",
      "Saved model to data/models/category_5_mod_data_common_words/150000_(CategorizeRNN)\n",
      "Accuracy: 97.51% (    9751/   10000)\n",
      "160000  60% ( 13m 45s)   0.085   |   0.00: http://www.nottinghamchurches.org/heritage/stm-heritage/stm-history/ -> ELECTRONIC (✓)\n",
      "170000  70% ( 15m 53s)   0.084   |   0.00: theatre -> PLAIN (✓)\n",
      "180000  80% (  18m 0s)   0.071   |   0.00: theatre -> PLAIN (✓)\n",
      "190000  90% (  20m 7s)   0.056   |   0.00: ☒ -> VERBATIM (✓)\n",
      "200000 100% ( 22m 13s)   0.071   |   0.23: No -> PLAIN (✓)\n",
      "Saved model to data/models/category_5_mod_data_common_words/200000_(CategorizeRNN)\n",
      "Accuracy: 98.37% (    9837/   10000)\n"
     ]
    }
   ],
   "source": [
    "train_iterations(n_iters=100000, print_every=10000)"
   ]
  },
  {
   "cell_type": "code",
   "execution_count": 41,
   "metadata": {},
   "outputs": [
    {
     "name": "stdout",
     "output_type": "stream",
     "text": [
      "   VERBATIM ->     LETTERS (0.726) ||      rpg -> r p g == The following season , he elevated his performance with 23.0 ppg , 7.5 <SAMPLE> , and 3.4 apg .\n",
      "NOT_CHANGED ->     LETTERS (0.594) ||    Upper -> Upper == To the south of it are the comparatively small <SAMPLE> Gardens ( Verhny Sad ) .\n",
      "      PLAIN ->     LETTERS (0.927) ||       LN -> lane == Smirnov <SAMPLE> , Ozhin FV ( July 1970 ) .\n",
      "   VERBATIM ->     LETTERS (0.981) ||     KMDb -> k m d b == <SAMPLE> Korean Movie Database .\n",
      "NOT_CHANGED ->     LETTERS (0.678) ||      des -> des == Mit einem Anhang : Die Satira <SAMPLE> Johannes Falkenberg , Gottingen 1975 ( Habilitation ) ISBN 3-525-35354-5 Der Deutsche Orden .\n",
      "NOT_CHANGED ->     LETTERS (0.999) ||      PAS -> PAS == \" VCD alleges DAP <SAMPLE> ' secret pact ' ( subscription required ) \" .\n",
      "      PLAIN -> NOT_CHANGED (0.586) ||    Elisa -> eliza == Errando , Manel ; Lindfors , Elina ; Mazin , Daniel ; Prandini , <SAMPLE> ; Tavecchio , Fabrizio .\n",
      "   VERBATIM ->     LETTERS (0.74) ||    SpVgg -> s p v g g == Source : \" TSV 1860 Munchen » Die Bilanz gegen <SAMPLE> Unterhachinglstadt \" .\n",
      "   VERBATIM ->     LETTERS (0.706) ||     Cmdr -> c m d r == Three retired generals were sentenced to aggravated life imprisonment : Cetin Dogan ( retired 1st Army <SAMPLE> .\n",
      "    NUMBERS ->     LETTERS (0.706) ||       IV -> four == \" United Nations Treaty Collection : Chapter <SAMPLE> : Human Rights : 15 .\n",
      "   VERBATIM ->     LETTERS (0.522) ||       tv -> t v == \" Nigerian woman launches <SAMPLE> network \" .\n"
     ]
    }
   ],
   "source": [
    "print_local_wrong_predictions()"
   ]
  },
  {
   "cell_type": "code",
   "execution_count": 42,
   "metadata": {},
   "outputs": [
    {
     "name": "stdout",
     "output_type": "stream",
     "text": [
      "210000   5% (   2m 7s)   0.073   |   0.00: st -> PLAIN (✓)\n",
      "220000  10% (  4m 16s)   0.040   |   0.00: ☒ -> VERBATIM (✓)\n",
      "230000  15% (  6m 21s)   0.036   |   0.00: gacivilwar.org -> ELECTRONIC (✓)\n",
      "240000  20% (  8m 29s)   0.037   |   0.00: 93 -> NUMBERS (✓)\n",
      "250000  25% ( 10m 36s)   0.034   |   0.00: ☒ -> VERBATIM (✓)\n",
      "Saved model to data/models/category_5_mod_data_common_words/250000_(CategorizeRNN)\n",
      "Accuracy: 98.67% (    9867/   10000)\n",
      "260000  30% ( 13m 18s)   0.038   |   0.08: size -> NOT_CHANGED (✓)\n",
      "270000  35% ( 15m 26s)   0.065   |   0.00: RFT -> LETTERS (✓)\n",
      "280000  40% ( 17m 33s)   0.068   |   0.00: Archived -> NOT_CHANGED (✓)\n",
      "290000  45% ( 19m 41s)   0.047   |   0.00: winning -> NOT_CHANGED (✓)\n",
      "300000  50% ( 21m 48s)   0.032   |   0.00: D. -> LETTERS (✓)\n",
      "Saved model to data/models/category_5_mod_data_common_words/300000_(CategorizeRNN)\n",
      "Accuracy: 98.73% (    9873/   10000)\n",
      "310000  55% ( 24m 35s)   0.047   |   0.00: - -> PLAIN (✓)\n",
      "320000  60% ( 26m 42s)   0.035   |   0.00: . -> NOT_CHANGED (✓)\n",
      "330000  65% ( 28m 48s)   0.027   |   0.04: ETEFs -> LETTERS (✓)\n",
      "340000  70% ( 30m 55s)   0.055   |   0.00: aerospacewb.org -> ELECTRONIC (✓)\n",
      "350000  75% (  33m 3s)   0.036   |   3.68: No -> PLAIN (✗ NOT_CHANGED)\n",
      "Saved model to data/models/category_5_mod_data_common_words/350000_(CategorizeRNN)\n",
      "Accuracy: 98.74% (    9874/   10000)\n",
      "360000  80% ( 35m 50s)   0.027   |   0.00: are -> NOT_CHANGED (✓)\n",
      "370000  85% ( 37m 58s)   0.032   |   0.00: dr -> PLAIN (✓)\n",
      "380000  90% (  40m 3s)   0.039   |   0.00: mechanisms -> NOT_CHANGED (✓)\n",
      "390000  95% (  42m 5s)   0.045   |   0.00: 221 -> NUMBERS (✓)\n",
      "400000 100% ( 44m 12s)   0.029   |   0.00: G. -> LETTERS (✓)\n",
      "Saved model to data/models/category_5_mod_data_common_words/400000_(CategorizeRNN)\n",
      "Accuracy: 98.86% (    9886/   10000)\n"
     ]
    }
   ],
   "source": [
    "train_iterations(n_iters=200000, lr=0.0001, print_every=10000)"
   ]
  },
  {
   "cell_type": "code",
   "execution_count": 43,
   "metadata": {},
   "outputs": [
    {
     "name": "stdout",
     "output_type": "stream",
     "text": [
      "NOT_CHANGED ->       PLAIN (0.875) ||        : -> : == Carrie Catt <SAMPLE> Feminist Politician .\n",
      "    LETTERS -> NOT_CHANGED (0.912) ||    oecus -> o e c u s == The <SAMPLE> , where the owner held meetings and banquets showing off his social status , was ended by a raised exedra .\n",
      "NOT_CHANGED ->     LETTERS (0.902) ||      Maj -> Maj == <SAMPLE> Gen Thomas B.L. Churchill , CB , CBE , MC ( 1986 ) .\n",
      "    NUMBERS -> NOT_CHANGED (0.607) ||        V -> five == \" Putting Your Personal Stamp On Grand Theft Auto <SAMPLE> \" .\n",
      "    LETTERS -> NOT_CHANGED (0.572) ||     Ayra -> a y r a == <SAMPLE> gets mad at Edwin .\n",
      "NOT_CHANGED ->     LETTERS (0.914) ||      Sec -> Sec == \" Full cast and crew for Les Aventures extraordinaires d'Adele Blanc <SAMPLE> \" .\n",
      "NOT_CHANGED ->       PLAIN (0.901) ||        : -> : == Duration <SAMPLE> 40 minutes .\n",
      "    LETTERS -> NOT_CHANGED (0.981) ||      bef -> b e f == 15 September 1358 ) A daughter ( b . <SAMPLE> .\n",
      "    LETTERS ->    VERBATIM (0.814) ||    msnbc -> m s n b c == \" Hadji Girl \" video <SAMPLE> article about video \" Hadji Girl \" song lyricsSheldon Rampton , \" Hadji Girl \" , June 22, 2006 .\n",
      "    LETTERS -> NOT_CHANGED (0.957) ||     pela -> p e l a == \" Boletim Informativo Diario Eletronico ( BID E ) Relacao <SAMPLE> data 02/03/2011 \" .\n",
      "NOT_CHANGED ->       PLAIN (0.914) ||        : -> : == Mechanicsville , PA <SAMPLE> Stackpole Books , 1997 ISBN 1-85367-480 - x kosar , Franz .\n"
     ]
    }
   ],
   "source": [
    "print_local_wrong_predictions()"
   ]
  },
  {
   "cell_type": "code",
   "execution_count": 44,
   "metadata": {},
   "outputs": [
    {
     "name": "stdout",
     "output_type": "stream",
     "text": [
      "410000   3% (   2m 8s)   0.028   |   0.00: favourable -> PLAIN (✓)\n",
      "420000   7% (  4m 16s)   0.044   |   0.00: 9.7 km -> NUMBERS (✓)\n",
      "430000  10% (  6m 22s)   0.056   |   0.00: dr -> PLAIN (✓)\n",
      "440000  13% (  8m 30s)   0.038   |   0.00: Retrieved -> NOT_CHANGED (✓)\n",
      "450000  17% ( 10m 36s)   0.045   |   0.00: which -> NOT_CHANGED (✓)\n",
      "Saved model to data/models/category_5_mod_data_common_words/450000_(CategorizeRNN)\n",
      "Accuracy: 98.97% (    9897/   10000)\n",
      "460000  20% ( 13m 23s)   0.073   |   0.01: does -> NOT_CHANGED (✓)\n",
      "470000  23% ( 15m 30s)   0.051   |   0.00: PlayNow.com -> ELECTRONIC (✓)\n",
      "480000  27% ( 17m 37s)   0.052   |   0.00: Although -> NOT_CHANGED (✓)\n",
      "490000  30% ( 19m 45s)   0.032   |   0.00: Turkey -> NOT_CHANGED (✓)\n",
      "500000  33% ( 21m 51s)   0.039   |   0.01: part -> NOT_CHANGED (✓)\n",
      "Saved model to data/models/category_5_mod_data_common_words/500000_(CategorizeRNN)\n",
      "Accuracy: 98.69% (    9869/   10000)\n",
      "510000  37% ( 24m 37s)   0.061   |   0.00: 1980 -> NUMBERS (✓)\n",
      "520000  40% ( 26m 38s)   0.047   |   0.00: 1930 -> NUMBERS (✓)\n",
      "530000  43% ( 28m 46s)   0.037   |   0.00: 2003 -> NUMBERS (✓)\n",
      "540000  47% ( 30m 53s)   0.013   |   0.00: SGU -> LETTERS (✓)\n",
      "550000  50% (  33m 1s)   0.045   |   0.01: - -> PLAIN (✓)\n",
      "Saved model to data/models/category_5_mod_data_common_words/550000_(CategorizeRNN)\n",
      "Accuracy: 98.84% (    9884/   10000)\n",
      "560000  53% ( 35m 49s)   0.033   |   0.11: ONB -> LETTERS (✓)\n",
      "570000  57% ( 37m 57s)   0.058   |   0.00: 1874 -> NUMBERS (✓)\n",
      "580000  60% (  40m 4s)   0.059   |   0.00: ☒ -> VERBATIM (✓)\n",
      "590000  63% ( 42m 11s)   0.019   |   0.00: Opponentssports-reference.com -> ELECTRONIC (✓)\n",
      "600000  67% ( 44m 17s)   0.024   |   0.00: Allmusic.com -> ELECTRONIC (✓)\n",
      "Saved model to data/models/category_5_mod_data_common_words/600000_(CategorizeRNN)\n",
      "Accuracy: 98.74% (    9874/   10000)\n",
      "610000  70% (  47m 4s)   0.056   |   0.00: Centre -> PLAIN (✓)\n",
      "620000  73% ( 49m 10s)   0.077   |   0.01: three -> NOT_CHANGED (✓)\n",
      "630000  77% ( 51m 17s)   0.043   |   0.00: pdf -> VERBATIM (✓)\n",
      "640000  80% ( 53m 23s)   0.060   |   0.19: MR -> PLAIN (✓)\n",
      "650000  83% ( 55m 28s)   0.032   |   0.00: 1079 -> NUMBERS (✓)\n",
      "Saved model to data/models/category_5_mod_data_common_words/650000_(CategorizeRNN)\n",
      "Accuracy: 98.73% (    9873/   10000)\n",
      "660000  87% ( 58m 14s)   0.044   |   0.00: ☒ -> VERBATIM (✓)\n",
      "670000  90% ( 60m 21s)   0.029   |   0.00: N. -> LETTERS (✓)\n",
      "680000  93% ( 62m 26s)   0.048   |   0.00: vol -> PLAIN (✓)\n",
      "690000  97% ( 64m 34s)   0.046   |   0.00: 1983 -> NUMBERS (✓)\n",
      "700000 100% ( 66m 42s)   0.068   |   0.00: & -> VERBATIM (✓)\n",
      "Saved model to data/models/category_5_mod_data_common_words/700000_(CategorizeRNN)\n",
      "Accuracy: 98.85% (    9885/   10000)\n"
     ]
    }
   ],
   "source": [
    "train_iterations(n_iters=300000, lr=0.001, print_every=10000)"
   ]
  },
  {
   "cell_type": "code",
   "execution_count": 45,
   "metadata": {},
   "outputs": [
    {
     "name": "stdout",
     "output_type": "stream",
     "text": [
      "    LETTERS -> NOT_CHANGED (0.981) ||     Cild -> c i l d == Cyril Hart suggested that Uhtred <SAMPLE> was Uhtred's son , and that Uhtred succeeded his father as ealdorman .\n",
      "      PLAIN ->    VERBATIM (0.85) ||       lb -> pound == Listed at 5' 5 \" , 115 <SAMPLE>\n",
      "NOT_CHANGED ->     LETTERS (0.915) ||      Vis -> Vis == Richard Lord <SAMPLE> Count Wenman deceased . '\n",
      "    LETTERS -> NOT_CHANGED (0.92) ||   Jiu'er -> j i u e r == Meanwhile , a group of bandits kidnap <SAMPLE> , forcing the distillery workers to pay a ransom for her freedom .\n",
      "NOT_CHANGED ->     LETTERS (0.932) ||       AM -> AM == He retired in 1995 as Vice President and General Manager of station WWRL- <SAMPLE> in New York City .\n",
      "   VERBATIM -> NOT_CHANGED (0.392) ||        ~ -> tilde == Rescue Drive ~ Car Navi tsuki <SAMPLE> Soreike !\n",
      "    NUMBERS ->     LETTERS (0.979) ||       V. -> the fifth == Robert <SAMPLE> Hine , John Mack Faragher ( 2000 ) .\n",
      "    NUMBERS ->     LETTERS (0.953) ||    XXXIV -> thirty four == \" Super Bowl <SAMPLE> Team Rosters \" .\n",
      "    LETTERS ->    VERBATIM (0.627) ||       gt -> g t == \" Isolation and characterization of a <SAMPLE> pase activating protein specific for the Rab 3 subfamily of small G proteins \" .\n",
      "NOT_CHANGED ->     LETTERS (0.929) ||      Abu -> Abu == 1935 - Director of lands settlement in <SAMPLE> Gharaq , Kafal and the Western Column .\n",
      "    LETTERS ->    VERBATIM (0.96) ||      jlk -> j l k == 1:09 - md- 2036 - <SAMPLE> bank of America Deposit AgreementKapner , Suzanne ( February 23, 2011 ) .\n"
     ]
    }
   ],
   "source": [
    "print_local_wrong_predictions()"
   ]
  },
  {
   "cell_type": "code",
   "execution_count": 46,
   "metadata": {},
   "outputs": [
    {
     "name": "stdout",
     "output_type": "stream",
     "text": [
      "725000   8% (  5m 16s)   0.036   |   0.00: on -> NOT_CHANGED (✓)\n",
      "750000  17% ( 10m 34s)   0.023   |   0.00: ☒ -> VERBATIM (✓)\n",
      "Saved model to data/models/category_5_mod_data_common_words/750000_(CategorizeRNN)\n",
      "Accuracy: 99.19% (    9919/   10000)\n",
      "775000  25% ( 16m 30s)   0.012   |   0.00: honour -> PLAIN (✓)\n",
      "800000  33% ( 21m 46s)   0.028   |   0.00: 58 -> NUMBERS (✓)\n",
      "Saved model to data/models/category_5_mod_data_common_words/800000_(CategorizeRNN)\n",
      "Accuracy: 99.22% (    9922/   10000)\n",
      "825000  42% ( 27m 45s)   0.016   |   0.00: 26 -> NUMBERS (✓)\n",
      "850000  50% (  33m 1s)   0.014   |   0.00: - -> PLAIN (✓)\n",
      "Saved model to data/models/category_5_mod_data_common_words/850000_(CategorizeRNN)\n",
      "Accuracy: 99.13% (    9913/   10000)\n",
      "875000  58% ( 38m 58s)   0.016   |   0.00: - -> PLAIN (✓)\n",
      "900000  67% ( 44m 14s)   0.020   |   0.00: vs -> PLAIN (✓)\n",
      "Saved model to data/models/category_5_mod_data_common_words/900000_(CategorizeRNN)\n",
      "Accuracy: 99.16% (    9916/   10000)\n",
      "925000  75% ( 50m 11s)   0.034   |   0.00: & -> VERBATIM (✓)\n",
      "950000  83% ( 55m 29s)   0.041   |   0.00: 2009 -> NUMBERS (✓)\n",
      "Saved model to data/models/category_5_mod_data_common_words/950000_(CategorizeRNN)\n",
      "Accuracy: 99.14% (    9914/   10000)\n",
      "975000  92% ( 61m 30s)   0.019   |   0.00: G. -> LETTERS (✓)\n",
      "1000000 100% ( 66m 46s)   0.021   |   0.00: . -> NOT_CHANGED (✓)\n",
      "Saved model to data/models/category_5_mod_data_common_words/1000000_(CategorizeRNN)\n",
      "Accuracy: 99.24% (    9924/   10000)\n"
     ]
    }
   ],
   "source": [
    "train_iterations(n_iters=300000, lr=0.0001, print_every=25000)"
   ]
  },
  {
   "cell_type": "code",
   "execution_count": 47,
   "metadata": {},
   "outputs": [
    {
     "name": "stdout",
     "output_type": "stream",
     "text": [
      "NOT_CHANGED ->     LETTERS (0.966) ||      Zhi -> Zhi == Eventually , Tao Hua , Yu Yi , <SAMPLE> Qiang , and Hui Qi are the four students selected to enter the school .\n",
      "      PLAIN ->     LETTERS (0.528) || S.H.I.E.L.D. -> shield == \" Tuesday Final Ratings : ' Marvel's Agents of <SAMPLE> ' , ' NCIS ' & ' Chicago Fire ' Adjusted Up ; ' Trophy Wife ' Adjusted Down \" .\n",
      "NOT_CHANGED ->     LETTERS (0.997) ||   BURDEN -> BURDEN == \" BEASTS OF <SAMPLE> RETURNS IN DARK HORSE PRESENTS # 4 \" .\n",
      "NOT_CHANGED ->     LETTERS (0.765) ||     Shri -> Shri == Gurudwara <SAMPLE> Toot Sahib is the historical Sikh temple situated in the Amritsar City of Punjab .\n",
      "      PLAIN ->     LETTERS (0.996) || CHVRCHES -> churches == \" Studio Brussel : <SAMPLE> — The Mother We Share ( Live ) \" .\n",
      "NOT_CHANGED ->     LETTERS (0.999) ||       WA -> WA == \" <SAMPLE> fires force evacuations , residents unable to return home \" .\n",
      "NOT_CHANGED ->     LETTERS (0.691) ||      Sir -> Sir == The race is named after the Australian military commander during the First World War , <SAMPLE> John Monash .\n",
      "NOT_CHANGED ->     LETTERS (0.864) ||      Air -> Air == Tonbridge , Kent , UK : <SAMPLE> Britain ( Historians ) ltd\n",
      "NOT_CHANGED ->       PLAIN (0.97) ||      Sun -> Sun == The <SAMPLE> News Pictorial ( Melbourne ) .\n",
      "NOT_CHANGED ->     LETTERS (0.625) ||     Ever -> Ever == \" Offspring the Fifth Best Punk Band <SAMPLE> ? \"\n",
      "   VERBATIM ->     LETTERS (0.992) ||     Zzzz -> z z z z == Minkow , Barry , Clean Sweep : The Inside Story of the <SAMPLE> Best Scam .\n"
     ]
    }
   ],
   "source": [
    "print_local_wrong_predictions()"
   ]
  },
  {
   "cell_type": "code",
   "execution_count": 49,
   "metadata": {},
   "outputs": [
    {
     "name": "stdout",
     "output_type": "stream",
     "text": [
      "1010000   3% (  1m 47s)   0.025   |   0.00: 2010 -> NUMBERS (✓)\n",
      "1020000   7% (  3m 39s)   0.015   |   0.00: - -> PLAIN (✓)\n",
      "1030000  10% (  5m 23s)   0.018   |   0.00: ☒ -> VERBATIM (✓)\n",
      "1040000  13% (   7m 7s)   0.034   |   0.00: grovemusic.com -> ELECTRONIC (✓)\n",
      "1050000  17% (  8m 46s)   0.021   |   0.00: RMP -> LETTERS (✓)\n",
      "Saved model to data/models/category_5_mod_data_common_words/1050000_(CategorizeRNN)\n",
      "Accuracy: 99.28% (    9928/   10000)\n",
      "1060000  20% ( 10m 57s)   0.015   |   0.00: metres -> PLAIN (✓)\n",
      "1070000  23% ( 12m 34s)   0.022   |   0.00: www.midwestbookreview.com -> ELECTRONIC (✓)\n",
      "1080000  27% ( 14m 18s)   0.020   |   0.00: The -> NOT_CHANGED (✓)\n",
      "1090000  30% ( 15m 57s)   0.029   |   0.00: - -> PLAIN (✓)\n",
      "1100000  33% ( 17m 37s)   0.018   |   0.00: pg -> VERBATIM (✓)\n",
      "Saved model to data/models/category_5_mod_data_common_words/1100000_(CategorizeRNN)\n",
      "Accuracy: 99.33% (    9933/   10000)\n",
      "1110000  37% ( 19m 53s)   0.025   |   0.00: PC -> LETTERS (✓)\n",
      "1120000  40% ( 21m 39s)   0.046   |   0.00: 318 -> NUMBERS (✓)\n",
      "1130000  43% ( 23m 23s)   0.026   |   0.00: ☒ -> VERBATIM (✓)\n",
      "1140000  47% (  25m 5s)   0.015   |   0.00: 2009 -> NUMBERS (✓)\n",
      "1150000  50% ( 26m 48s)   0.016   |   0.00: scored -> NOT_CHANGED (✓)\n",
      "Saved model to data/models/category_5_mod_data_common_words/1150000_(CategorizeRNN)\n",
      "Accuracy: 99.44% (    9944/   10000)\n",
      "1160000  53% (  29m 1s)   0.025   |   0.00: 2008 -> NUMBERS (✓)\n",
      "1170000  57% ( 30m 39s)   0.021   |   0.00: - -> PLAIN (✓)\n",
      "1180000  60% ( 32m 16s)   0.025   |   0.00: st -> PLAIN (✓)\n",
      "1190000  63% ( 33m 53s)   0.026   |   0.00: Decentralised -> PLAIN (✓)\n",
      "1200000  67% ( 35m 30s)   0.031   |   0.00: MLA -> LETTERS (✓)\n",
      "Saved model to data/models/category_5_mod_data_common_words/1200000_(CategorizeRNN)\n",
      "Accuracy: 99.35% (    9935/   10000)\n",
      "1210000  70% ( 37m 52s)   0.017   |   0.00: . -> NOT_CHANGED (✓)\n",
      "1220000  73% ( 39m 37s)   0.030   |   0.00: favourite -> PLAIN (✓)\n",
      "1230000  77% ( 41m 21s)   0.035   |   0.11: Li -> NOT_CHANGED (✓)\n",
      "1240000  80% ( 42m 58s)   0.022   |   0.00: 1950 -> NUMBERS (✓)\n",
      "1250000  83% ( 44m 40s)   0.017   |   0.00: CDP -> LETTERS (✓)\n",
      "Saved model to data/models/category_5_mod_data_common_words/1250000_(CategorizeRNN)\n",
      "Accuracy: 99.44% (    9944/   10000)\n",
      "1260000  87% ( 46m 55s)   0.029   |   0.00: 15th -> NUMBERS (✓)\n",
      "1270000  90% ( 48m 36s)   0.028   |   0.00: XXII -> NUMBERS (✓)\n",
      "1280000  93% ( 50m 17s)   0.024   |   0.00: III -> NUMBERS (✓)\n",
      "1290000  97% ( 51m 59s)   0.020   |   0.00: by -> NOT_CHANGED (✓)\n",
      "1300000 100% ( 53m 41s)   0.013   |   0.00: Rivals.com -> ELECTRONIC (✓)\n",
      "Saved model to data/models/category_5_mod_data_common_words/1300000_(CategorizeRNN)\n",
      "Accuracy: 99.24% (    9924/   10000)\n"
     ]
    }
   ],
   "source": [
    "train_iterations(n_iters=300000, lr=0.0001, print_every=10000)"
   ]
  },
  {
   "cell_type": "code",
   "execution_count": 50,
   "metadata": {},
   "outputs": [
    {
     "name": "stdout",
     "output_type": "stream",
     "text": [
      "NOT_CHANGED ->     LETTERS (0.795) ||      Oak -> Oak == <SAMPLE> View Mall is an enclosed shopping mall located at 3001  South 144th , Street in West Omaha Nebraska .\n",
      "   VERBATIM ->     LETTERS (0.536) ||       dx -> d x == Lushootseed ( AKA Puget Salish , Skagit Nisqually , <SAMPLE> ☒ lesucid ) NorthernSkagit ( AKA Skajet ) Snohomish ( AKA sdu hubs ) SouthernDuwamish Suquamish ( AKA Dx ☒ du ☒ abs ) Puyallup ( AKA Spuyalepubs ) Nisqually ( AKA sq ☒ ali ☒ abs ) 5 .\n",
      "   VERBATIM ->       PLAIN (0.845) ||       lh -> l h == In most Indigenous Australian languages , there is a series of \" dental \" consonants , written th , nh , and ( in some languages ) <SAMPLE> .\n",
      "      PLAIN ->     LETTERS (0.734) ||       BR -> bridge == Haskins J , Gu L , Wittchen ES , Hibbard J , Stevenson <SAMPLE> ( Apr 1998 ) .\n",
      "NOT_CHANGED ->     LETTERS (0.926) ||    BEMIS -> BEMIS == \" SETH <SAMPLE> ( 1775 - 1851 ) \" .\n",
      "      PLAIN ->     LETTERS (0.344) ||       pl -> place == The C.K. Norwid Theatre ( <SAMPLE> ) first opened as early as in 1904 , with performance staged ceremoniously .\n",
      "    LETTERS -> NOT_CHANGED (0.917) ||    Mpuun -> m p u u n == Dialects include Mpuono , <SAMPLE> ( Mbuun , Kimbuun , Gimbunda ) .\n",
      "NOT_CHANGED ->     LETTERS (0.822) || LITERARY -> LITERARY == \" MIDDLE AGES <SAMPLE> BACKGROUND \" .\n",
      "    LETTERS -> NOT_CHANGED (0.505) ||      sem -> s e m == \" Kannast ekki vith drauma pakkann <SAMPLE> Bjorgolfur sagthi fra \" .\n",
      "    LETTERS ->     NUMBERS (0.677) ||       IV -> i v == Deutsch Sudwestafrika ( SWA ) , <SAMPLE> .\n",
      "    LETTERS -> NOT_CHANGED (0.767) ||  srpskih -> s r p s k i h == Oslobodilacki rat <SAMPLE> ustanika , 1804 - 1806 .\n"
     ]
    }
   ],
   "source": [
    "print_local_wrong_predictions()"
   ]
  },
  {
   "cell_type": "code",
   "execution_count": 56,
   "metadata": {},
   "outputs": [
    {
     "name": "stdout",
     "output_type": "stream",
     "text": [
      "1310000   3% (  1m 45s)   0.020   |   0.00: 22 September -> NUMBERS (✓)\n",
      "1320000   7% (  3m 53s)   0.045   |   0.00: http://ifphc.org/pdf//Heritage/1996_04.pdfGlenn -> ELECTRONIC (✓)\n",
      "1330000  10% (  5m 56s)   0.038   |   0.00: televised -> PLAIN (✓)\n",
      "1340000  13% (   8m 8s)   0.024   |   0.00: 2011 -> NUMBERS (✓)\n",
      "1350000  17% ( 10m 17s)   0.034   |   0.00: - -> PLAIN (✓)\n",
      "Saved model to data/models/category_5_mod_data_common_words/1350000_(CategorizeRNN)\n",
      "Accuracy: 99.18% (    9918/   10000)\n",
      "1360000  20% ( 13m 12s)   0.019   |   0.00: 1912 -> NUMBERS (✓)\n",
      "1370000  23% ( 15m 29s)   0.049   |   0.00: W. -> LETTERS (✓)\n",
      "1380000  27% ( 17m 44s)   0.033   |   0.01: cf -> VERBATIM (✓)\n",
      "1390000  30% (  20m 2s)   0.017   |   0.00: & -> VERBATIM (✓)\n",
      "1400000  33% ( 22m 19s)   0.018   |   0.00: R.N. -> LETTERS (✓)\n",
      "Saved model to data/models/category_5_mod_data_common_words/1400000_(CategorizeRNN)\n",
      "Accuracy: 99.39% (    9939/   10000)\n",
      "1410000  37% ( 25m 20s)   0.020   |   0.00: st -> PLAIN (✓)\n",
      "1420000  40% ( 27m 37s)   0.021   |   0.00: ☒ -> VERBATIM (✓)\n",
      "1430000  43% ( 29m 56s)   0.044   |   0.00: LighthouseFriends.com -> ELECTRONIC (✓)\n",
      "1440000  47% ( 32m 20s)   0.031   |   0.00: ) -> NOT_CHANGED (✓)\n",
      "1450000  50% ( 34m 39s)   0.020   |   0.00: the -> NOT_CHANGED (✓)\n",
      "Saved model to data/models/category_5_mod_data_common_words/1450000_(CategorizeRNN)\n",
      "Accuracy: 99.35% (    9935/   10000)\n",
      "1460000  53% ( 37m 43s)   0.025   |   0.00: JUI- -> LETTERS (✓)\n",
      "1470000  57% ( 39m 58s)   0.019   |   0.00: 44% -> NUMBERS (✓)\n",
      "1480000  60% ( 42m 13s)   0.035   |   0.00: st -> PLAIN (✓)\n",
      "1490000  63% ( 44m 26s)   0.034   |   0.00: 1854 -> NUMBERS (✓)\n",
      "1500000  67% ( 46m 39s)   0.017   |   0.00: colour -> PLAIN (✓)\n",
      "Saved model to data/models/category_5_mod_data_common_words/1500000_(CategorizeRNN)\n",
      "Accuracy: 99.31% (    9931/   10000)\n",
      "1510000  70% ( 49m 32s)   0.019   |   0.00: ☒ -> VERBATIM (✓)\n",
      "1520000  73% ( 51m 41s)   0.015   |   0.00: ☒ -> VERBATIM (✓)\n",
      "1530000  77% ( 53m 56s)   0.026   |   0.00: 17 -> NUMBERS (✓)\n",
      "1540000  80% (  56m 9s)   0.049   |   0.01: TVXQ's -> LETTERS (✓)\n",
      "1550000  83% ( 58m 21s)   0.014   |   0.00: PDF -> LETTERS (✓)\n",
      "Saved model to data/models/category_5_mod_data_common_words/1550000_(CategorizeRNN)\n",
      "Accuracy: 99.31% (    9931/   10000)\n",
      "1560000  87% ( 61m 16s)   0.029   |   0.00: NorthJersey.com -> ELECTRONIC (✓)\n",
      "1570000  90% ( 63m 25s)   0.008   |   0.00: & -> VERBATIM (✓)\n",
      "1580000  93% ( 65m 38s)   0.026   |   0.00: 2011 -> NUMBERS (✓)\n",
      "1590000  97% ( 67m 53s)   0.020   |   0.00: WikivoyageGymlink.no -> ELECTRONIC (✓)\n",
      "1600000 100% ( 70m 10s)   0.025   |   0.00: April 15, 2004 -> NUMBERS (✓)\n",
      "Saved model to data/models/category_5_mod_data_common_words/1600000_(CategorizeRNN)\n",
      "Accuracy: 99.46% (    9946/   10000)\n"
     ]
    }
   ],
   "source": [
    "train_iterations(n_iters=300000, lr=0.00005, print_every=10000)"
   ]
  },
  {
   "cell_type": "code",
   "execution_count": 57,
   "metadata": {},
   "outputs": [
    {
     "name": "stdout",
     "output_type": "stream",
     "text": [
      "    NUMBERS ->     LETTERS (0.931) ||       IV -> the fourth == Robinson , Henry <SAMPLE> , p . 25 Robinson , Henry IV , pp .\n",
      "NOT_CHANGED ->     LETTERS (0.871) ||      Blu -> Blu == \" Immortals <SAMPLE> ray Sales \" .\n",
      "    LETTERS ->       PLAIN (0.993) || S.H.I.E.L.D.'s -> s h i e l d's == \" It's All Connected : Marvel's Agents of <SAMPLE> Alien Revealed \" .\n",
      "NOT_CHANGED ->     LETTERS (0.542) ||       Up -> Up == \" The Best Celebrity Cameos in Zoolander 2 , Ranked : How Does Justin Bieber Stack <SAMPLE> ? \"\n",
      "      PLAIN -> NOT_CHANGED (0.548) ||       no -> number == \" Jamie MacDonald can be <SAMPLE> 1 for years says John McGlynn \" .\n",
      "    LETTERS ->       PLAIN (0.659) || H.E.R.B.I.E. -> h e r b i e == <SAMPLE> appears in Marvel Heroes .\n",
      "      PLAIN ->     LETTERS (0.936) ||      COS -> cause == The Deputy Chief of Staff Support ( D <SAMPLE> Sp ) is tasked with military support matters .\n",
      "    LETTERS ->    VERBATIM (0.997) ||      pdf -> p d f == Threatened Swallowtail Butterflies of the World IUCN Red Data Book 1985 <SAMPLE> butler , A.G. ( 1872 ) .\n",
      "    LETTERS -> NOT_CHANGED (0.667) ||      Wim -> w i m == Learning from Developing Countries : An Inaugural Lecture , Institute of Education , University of London , 1988 Angela Little , <SAMPLE> Hoppers , Roy Gardner , ed .\n",
      "NOT_CHANGED ->     LETTERS (0.732) ||     Shri -> Shri == <SAMPLE> Narayanan was born in New Delhi , India ( 1967 ) , and grew up in Madras ( Chennai ) .\n",
      "    LETTERS -> NOT_CHANGED (0.523) ||     Reax -> r e a x == \" JAMES'S WWE NXT REPORT 1/9 : Big E. captures NXT Title , Shield involved , PAC debut promo , Overall <SAMPLE> \" .\n"
     ]
    }
   ],
   "source": [
    "print_local_wrong_predictions()"
   ]
  },
  {
   "cell_type": "code",
   "execution_count": null,
   "metadata": {
    "collapsed": true
   },
   "outputs": [],
   "source": []
  },
  {
   "cell_type": "code",
   "execution_count": null,
   "metadata": {
    "collapsed": true
   },
   "outputs": [],
   "source": []
  },
  {
   "cell_type": "code",
   "execution_count": null,
   "metadata": {
    "collapsed": true
   },
   "outputs": [],
   "source": []
  },
  {
   "cell_type": "markdown",
   "metadata": {},
   "source": [
    "# Results"
   ]
  },
  {
   "cell_type": "code",
   "execution_count": 52,
   "metadata": {},
   "outputs": [
    {
     "data": {
      "text/plain": [
       "[<matplotlib.lines.Line2D at 0x7f387565a2b0>]"
      ]
     },
     "execution_count": 52,
     "metadata": {},
     "output_type": "execute_result"
    },
    {
     "data": {
      "image/png": "[encoded data removed]",
      "text/plain": [
       "<matplotlib.figure.Figure at 0x7f38758c7a58>"
      ]
     },
     "metadata": {},
     "output_type": "display_data"
    }
   ],
   "source": [
    "plt.figure()\n",
    "plt.plot(model_training.losses)"
   ]
  },
  {
   "cell_type": "code",
   "execution_count": 53,
   "metadata": {},
   "outputs": [
    {
     "data": {
      "text/plain": [
       "[<matplotlib.lines.Line2D at 0x7f3873945d30>]"
      ]
     },
     "execution_count": 53,
     "metadata": {},
     "output_type": "execute_result"
    },
    {
     "data": {
      "image/png": "[encoded data removed]",
      "text/plain": [
       "<matplotlib.figure.Figure at 0x7f387570b710>"
      ]
     },
     "metadata": {},
     "output_type": "display_data"
    }
   ],
   "source": [
    "plt.figure()\n",
    "plt.plot(model_training.accuracy)"
   ]
  },
  {
   "cell_type": "code",
   "execution_count": 54,
   "metadata": {},
   "outputs": [
    {
     "data": {
      "image/png": "[encoded data removed]",
      "text/plain": [
       "<matplotlib.figure.Figure at 0x7f38757f6630>"
      ]
     },
     "metadata": {},
     "output_type": "display_data"
    },
    {
     "name": "stdout",
     "output_type": "stream",
     "text": [
      "Accuracy: 99.29% (   49644/   50000)\n",
      "CPU times: user 11min 18s, sys: 4.18 s, total: 11min 22s\n",
      "Wall time: 2min 51s\n"
     ]
    }
   ],
   "source": [
    "%%time\n",
    "plot_category_confusion_matrix(model, categories_all, test_model_single_sample, n_confusion=50000)"
   ]
  },
  {
   "cell_type": "code",
   "execution_count": 55,
   "metadata": {},
   "outputs": [
    {
     "data": {
      "image/png": "[encoded data removed]",
      "text/plain": [
       "<matplotlib.figure.Figure at 0x7f38757ac828>"
      ]
     },
     "metadata": {},
     "output_type": "display_data"
    },
    {
     "name": "stdout",
     "output_type": "stream",
     "text": [
      "Accuracy: 99.30% (   49649/   50000)\n",
      "CPU times: user 11min 15s, sys: 3.98 s, total: 11min 19s\n",
      "Wall time: 2min 50s\n"
     ]
    }
   ],
   "source": [
    "%%time\n",
    "plot_category_confusion_matrix(model, categories_all, test_model_single_sample,\n",
    "                               n_confusion=50000, remove_diagonal=True)"
   ]
  },
  {
   "cell_type": "code",
   "execution_count": null,
   "metadata": {
    "collapsed": true
   },
   "outputs": [],
   "source": []
  },
  {
   "cell_type": "code",
   "execution_count": null,
   "metadata": {
    "collapsed": true
   },
   "outputs": [],
   "source": []
  },
  {
   "cell_type": "code",
   "execution_count": null,
   "metadata": {
    "collapsed": true
   },
   "outputs": [],
   "source": []
  },
  {
   "cell_type": "code",
   "execution_count": 35,
   "metadata": {},
   "outputs": [],
   "source": [
    "def print_local_wrong_predictions(max_results=10):\n",
    "    arr = get_some_wrong_predictions(model, test_model_single_sample, max_iterations=10000, max_results=max_results)\n",
    "    for sample, predict, output in arr:\n",
    "        s_bef, s_aft, s_class, s_sentence = sample\n",
    "        m = torch.nn.functional.softmax(output).max().data[0]\n",
    "        print(\"{:>11} -> {:>11} ({:0.3}) || {:>8} -> {} == {}\".format(s_class, predict[0], m, s_bef, s_aft, ' '.join(s_sentence), ))\n"
   ]
  },
  {
   "cell_type": "code",
   "execution_count": null,
   "metadata": {
    "collapsed": true
   },
   "outputs": [],
   "source": []
  },
  {
   "cell_type": "code",
   "execution_count": null,
   "metadata": {
    "collapsed": true
   },
   "outputs": [],
   "source": []
  }
 ],
 "metadata": {
  "anaconda-cloud": {},
  "kernelspec": {
   "display_name": "Python [conda env:py3_pytorch_2]",
   "language": "python",
   "name": "conda-env-py3_pytorch_2-py"
  },
  "language_info": {
   "codemirror_mode": {
    "name": "ipython",
    "version": 3
   },
   "file_extension": ".py",
   "mimetype": "text/x-python",
   "name": "python",
   "nbconvert_exporter": "python",
   "pygments_lexer": "ipython3",
   "version": "3.6.1"
  }
 },
 "nbformat": 4,
 "nbformat_minor": 2
}
