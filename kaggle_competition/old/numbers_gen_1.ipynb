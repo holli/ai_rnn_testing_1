{
 "cells": [
  {
   "cell_type": "code",
   "execution_count": 1,
   "metadata": {
    "collapsed": true
   },
   "outputs": [],
   "source": [
    "%matplotlib inline\n",
    "import matplotlib.pyplot as plt\n",
    "import matplotlib.ticker\n",
    "import numpy as np\n",
    "import random\n",
    "import time\n",
    "import os\n",
    "import pandas as pd\n",
    "import math\n",
    "import bcolz\n",
    "import pickle\n",
    "import re"
   ]
  },
  {
   "cell_type": "code",
   "execution_count": 2,
   "metadata": {},
   "outputs": [
    {
     "name": "stdout",
     "output_type": "stream",
     "text": [
      "Pytorch: 0.2.0_4\n"
     ]
    }
   ],
   "source": [
    "import torch\n",
    "import torch.nn as nn\n",
    "import torch.nn.functional as F\n",
    "import torch.optim as optim\n",
    "from torch.autograd import Variable\n",
    "print(\"Pytorch: {}\".format(torch.__version__))"
   ]
  },
  {
   "cell_type": "markdown",
   "metadata": {},
   "source": [
    "# Data loading"
   ]
  },
  {
   "cell_type": "code",
   "execution_count": 3,
   "metadata": {
    "collapsed": true
   },
   "outputs": [],
   "source": [
    "all_data_org = pd.read_csv('data/en_train_org.csv')"
   ]
  },
  {
   "cell_type": "code",
   "execution_count": 4,
   "metadata": {},
   "outputs": [
    {
     "name": "stdout",
     "output_type": "stream",
     "text": [
      "Data rows: 9918390,  (dropped none rows: 51)\n"
     ]
    }
   ],
   "source": [
    "all_data_org[pd.isnull(all_data_org['before'])][:3]\n",
    "all_data = all_data_org.dropna()\n",
    "print(\"Data rows: {},  (dropped none rows: {})\".format(len(all_data), len(all_data_org)-len(all_data)))"
   ]
  },
  {
   "cell_type": "code",
   "execution_count": 5,
   "metadata": {},
   "outputs": [
    {
     "name": "stdout",
     "output_type": "stream",
     "text": [
      "Data rows: 9840282,  (dropped (verbatim) rows: 78159)\n"
     ]
    }
   ],
   "source": [
    "all_data = all_data[all_data['class'] != 'VERBATIM']\n",
    "print(\"Data rows: {},  (dropped (verbatim) rows: {})\".format(len(all_data), len(all_data_org)-len(all_data)))\n",
    "all_data = all_data.reset_index(drop=True)\n",
    "# Note we dropped VERBATIM class. Thats because it had so many weird characters."
   ]
  },
  {
   "cell_type": "code",
   "execution_count": 6,
   "metadata": {
    "collapsed": true
   },
   "outputs": [],
   "source": [
    "all_data_sentence_index = all_data.set_index('sentence_id')"
   ]
  },
  {
   "cell_type": "code",
   "execution_count": null,
   "metadata": {
    "collapsed": true
   },
   "outputs": [],
   "source": []
  },
  {
   "cell_type": "code",
   "execution_count": 7,
   "metadata": {
    "collapsed": true
   },
   "outputs": [],
   "source": [
    "number_classes = ['DATE','CARDINAL','MEASURE','ORDINAL','DECIMAL','MONEY', 'DIGIT', 'TELEPHONE', 'TIME', 'FRACTION', 'ADDRESS']"
   ]
  },
  {
   "cell_type": "code",
   "execution_count": 8,
   "metadata": {},
   "outputs": [
    {
     "name": "stdout",
     "output_type": "stream",
     "text": [
      "Data rows: 448176,  (dropped rows: 9470265)\n"
     ]
    }
   ],
   "source": [
    "number_data = all_data[all_data['class'].isin(number_classes)]\n",
    "print(\"Data rows: {},  (dropped rows: {})\".format(len(number_data), len(all_data_org)-len(number_data)))\n",
    "number_data = number_data.reset_index(drop=True)"
   ]
  },
  {
   "cell_type": "code",
   "execution_count": 9,
   "metadata": {},
   "outputs": [
    {
     "data": {
      "text/html": [
       "<div>\n",
       "<style>\n",
       "    .dataframe thead tr:only-child th {\n",
       "        text-align: right;\n",
       "    }\n",
       "\n",
       "    .dataframe thead th {\n",
       "        text-align: left;\n",
       "    }\n",
       "\n",
       "    .dataframe tbody tr th {\n",
       "        vertical-align: top;\n",
       "    }\n",
       "</style>\n",
       "<table border=\"1\" class=\"dataframe\">\n",
       "  <thead>\n",
       "    <tr style=\"text-align: right;\">\n",
       "      <th></th>\n",
       "      <th>sentence_id</th>\n",
       "      <th>token_id</th>\n",
       "      <th>class</th>\n",
       "      <th>before</th>\n",
       "      <th>after</th>\n",
       "    </tr>\n",
       "  </thead>\n",
       "  <tbody>\n",
       "    <tr>\n",
       "      <th>200641</th>\n",
       "      <td>335558</td>\n",
       "      <td>4</td>\n",
       "      <td>DATE</td>\n",
       "      <td>1998</td>\n",
       "      <td>nineteen ninety eight</td>\n",
       "    </tr>\n",
       "    <tr>\n",
       "      <th>339036</th>\n",
       "      <td>566585</td>\n",
       "      <td>7</td>\n",
       "      <td>CARDINAL</td>\n",
       "      <td>103</td>\n",
       "      <td>one hundred three</td>\n",
       "    </tr>\n",
       "    <tr>\n",
       "      <th>324061</th>\n",
       "      <td>542055</td>\n",
       "      <td>6</td>\n",
       "      <td>ORDINAL</td>\n",
       "      <td>12th</td>\n",
       "      <td>twelfth</td>\n",
       "    </tr>\n",
       "    <tr>\n",
       "      <th>414269</th>\n",
       "      <td>691284</td>\n",
       "      <td>4</td>\n",
       "      <td>DATE</td>\n",
       "      <td>28 June 1944</td>\n",
       "      <td>the twenty eighth of june nineteen forty four</td>\n",
       "    </tr>\n",
       "    <tr>\n",
       "      <th>327889</th>\n",
       "      <td>548472</td>\n",
       "      <td>14</td>\n",
       "      <td>MEASURE</td>\n",
       "      <td>1\"</td>\n",
       "      <td>one inch</td>\n",
       "    </tr>\n",
       "  </tbody>\n",
       "</table>\n",
       "</div>"
      ],
      "text/plain": [
       "        sentence_id  token_id     class        before  \\\n",
       "200641       335558         4      DATE          1998   \n",
       "339036       566585         7  CARDINAL           103   \n",
       "324061       542055         6   ORDINAL          12th   \n",
       "414269       691284         4      DATE  28 June 1944   \n",
       "327889       548472        14   MEASURE            1\"   \n",
       "\n",
       "                                                after  \n",
       "200641                          nineteen ninety eight  \n",
       "339036                              one hundred three  \n",
       "324061                                        twelfth  \n",
       "414269  the twenty eighth of june nineteen forty four  \n",
       "327889                                       one inch  "
      ]
     },
     "execution_count": 9,
     "metadata": {},
     "output_type": "execute_result"
    }
   ],
   "source": [
    "number_data.sample(5)"
   ]
  },
  {
   "cell_type": "code",
   "execution_count": 10,
   "metadata": {},
   "outputs": [
    {
     "data": {
      "text/plain": [
       "class\n",
       "ADDRESS         522\n",
       "CARDINAL     133744\n",
       "DATE         258348\n",
       "DECIMAL        9821\n",
       "DIGIT          5442\n",
       "FRACTION       1196\n",
       "MEASURE       14783\n",
       "MONEY          6128\n",
       "ORDINAL       12703\n",
       "TELEPHONE      4024\n",
       "TIME           1465\n",
       "Name: class, dtype: int64"
      ]
     },
     "execution_count": 10,
     "metadata": {},
     "output_type": "execute_result"
    }
   ],
   "source": [
    "number_data.groupby(\"class\")[\"class\"].count()"
   ]
  },
  {
   "cell_type": "markdown",
   "metadata": {},
   "source": [
    "### More balanced sample"
   ]
  },
  {
   "cell_type": "code",
   "execution_count": 11,
   "metadata": {
    "collapsed": true
   },
   "outputs": [],
   "source": [
    "balanced_data_classes_select = list(number_data.groupby('class'))\n",
    "def balanced_data_randomize(max_len=10000):\n",
    "    global balanced_data\n",
    "    balanced_data = pd.concat([v.sample(min(max_len, len(v))) for k, v in balanced_data_classes_select])"
   ]
  },
  {
   "cell_type": "code",
   "execution_count": 12,
   "metadata": {},
   "outputs": [
    {
     "name": "stdout",
     "output_type": "stream",
     "text": [
      "CPU times: user 0 ns, sys: 0 ns, total: 0 ns\n",
      "Wall time: 6.44 µs\n"
     ]
    }
   ],
   "source": [
    "%time\n",
    "balanced_data_randomize()"
   ]
  },
  {
   "cell_type": "code",
   "execution_count": 13,
   "metadata": {},
   "outputs": [
    {
     "data": {
      "text/plain": [
       "class\n",
       "ADDRESS        522\n",
       "CARDINAL     10000\n",
       "DATE         10000\n",
       "DECIMAL       9821\n",
       "DIGIT         5442\n",
       "FRACTION      1196\n",
       "MEASURE      10000\n",
       "MONEY         6128\n",
       "ORDINAL      10000\n",
       "TELEPHONE     4024\n",
       "TIME          1465\n",
       "Name: class, dtype: int64"
      ]
     },
     "execution_count": 13,
     "metadata": {},
     "output_type": "execute_result"
    }
   ],
   "source": [
    "balanced_data.groupby(\"class\")[\"class\"].count()"
   ]
  },
  {
   "cell_type": "code",
   "execution_count": 64,
   "metadata": {},
   "outputs": [
    {
     "data": {
      "text/html": [
       "<div>\n",
       "<style>\n",
       "    .dataframe thead tr:only-child th {\n",
       "        text-align: right;\n",
       "    }\n",
       "\n",
       "    .dataframe thead th {\n",
       "        text-align: left;\n",
       "    }\n",
       "\n",
       "    .dataframe tbody tr th {\n",
       "        vertical-align: top;\n",
       "    }\n",
       "</style>\n",
       "<table border=\"1\" class=\"dataframe\">\n",
       "  <thead>\n",
       "    <tr style=\"text-align: right;\">\n",
       "      <th></th>\n",
       "      <th>sentence_id</th>\n",
       "      <th>token_id</th>\n",
       "      <th>class</th>\n",
       "      <th>before</th>\n",
       "      <th>after</th>\n",
       "    </tr>\n",
       "  </thead>\n",
       "  <tbody>\n",
       "    <tr>\n",
       "      <th>205374</th>\n",
       "      <td>343553</td>\n",
       "      <td>12</td>\n",
       "      <td>CARDINAL</td>\n",
       "      <td>3,813</td>\n",
       "      <td>three thousand eight hundred thirteen</td>\n",
       "    </tr>\n",
       "    <tr>\n",
       "      <th>120708</th>\n",
       "      <td>200288</td>\n",
       "      <td>8</td>\n",
       "      <td>MONEY</td>\n",
       "      <td>$17,708</td>\n",
       "      <td>seventeen thousand seven hundred eight dollars</td>\n",
       "    </tr>\n",
       "    <tr>\n",
       "      <th>330851</th>\n",
       "      <td>553311</td>\n",
       "      <td>4</td>\n",
       "      <td>DATE</td>\n",
       "      <td>10 April 1970</td>\n",
       "      <td>the tenth of april nineteen seventy</td>\n",
       "    </tr>\n",
       "    <tr>\n",
       "      <th>117815</th>\n",
       "      <td>195285</td>\n",
       "      <td>1</td>\n",
       "      <td>DIGIT</td>\n",
       "      <td>1</td>\n",
       "      <td>one</td>\n",
       "    </tr>\n",
       "    <tr>\n",
       "      <th>101375</th>\n",
       "      <td>167088</td>\n",
       "      <td>6</td>\n",
       "      <td>DECIMAL</td>\n",
       "      <td>89.0</td>\n",
       "      <td>eighty nine point zero</td>\n",
       "    </tr>\n",
       "  </tbody>\n",
       "</table>\n",
       "</div>"
      ],
      "text/plain": [
       "        sentence_id  token_id     class         before  \\\n",
       "205374       343553        12  CARDINAL          3,813   \n",
       "120708       200288         8     MONEY        $17,708   \n",
       "330851       553311         4      DATE  10 April 1970   \n",
       "117815       195285         1     DIGIT              1   \n",
       "101375       167088         6   DECIMAL           89.0   \n",
       "\n",
       "                                                 after  \n",
       "205374           three thousand eight hundred thirteen  \n",
       "120708  seventeen thousand seven hundred eight dollars  \n",
       "330851             the tenth of april nineteen seventy  \n",
       "117815                                             one  \n",
       "101375                          eighty nine point zero  "
      ]
     },
     "execution_count": 64,
     "metadata": {},
     "output_type": "execute_result"
    }
   ],
   "source": [
    "balanced_data.sample(5)"
   ]
  },
  {
   "cell_type": "markdown",
   "metadata": {},
   "source": [
    "### Word vectors"
   ]
  },
  {
   "cell_type": "code",
   "execution_count": 15,
   "metadata": {
    "collapsed": true
   },
   "outputs": [],
   "source": [
    "def load_glove(name):\n",
    "    with open(name, 'r') as f: lines = [line.split() for line in f]\n",
    "    words = [d[0] for d in lines]\n",
    "    vecs = np.stack(np.array(d[1:], dtype=np.float32) for d in lines)\n",
    "    wordidx = {o:i for i,o in enumerate(words)}\n",
    "    return vecs, words, wordidx"
   ]
  },
  {
   "cell_type": "code",
   "execution_count": 16,
   "metadata": {
    "collapsed": true
   },
   "outputs": [],
   "source": [
    "wv_vecs, wv_words, wv_idx = load_glove('/home/ohu/koodi/data/glove_wordvec/glove.6B.50d.txt')"
   ]
  },
  {
   "cell_type": "code",
   "execution_count": 17,
   "metadata": {},
   "outputs": [
    {
     "data": {
      "text/plain": [
       "['asdf', \"'s\", 'asdf', '-', 'testaaa']"
      ]
     },
     "execution_count": 17,
     "metadata": {},
     "output_type": "execute_result"
    }
   ],
   "source": [
    "re_apos = re.compile(r\"(\\w)'s\\b\")         # make 's a separate word\n",
    "re_mw_punc = re.compile(r\"(\\w[’'])(\\w)\")  # other ' in a word creates 2 words\n",
    "re_punc = re.compile(\"([\\\"().,;:/_?!—])\") # add spaces around punctuation\n",
    "re_mult_space = re.compile(r\"  *\")        # replace multiple spaces with just one\n",
    "\n",
    "def simple_tokeniser(sent):\n",
    "    sent = re_apos.sub(r\"\\1 's\", sent)\n",
    "    sent = re_mw_punc.sub(r\"\\1 \\2\", sent)\n",
    "    sent = re_punc.sub(r\" \\1 \", sent).replace('-', ' - ')\n",
    "    sent = re_punc.sub(r\" \\1 \", sent)\n",
    "    sent = re_mult_space.sub(' ', sent)\n",
    "    return sent.lower().split()\n",
    "simple_tokeniser(\"asdf's   asdf   -testaaa\")"
   ]
  },
  {
   "cell_type": "markdown",
   "metadata": {},
   "source": [
    "### Number words"
   ]
  },
  {
   "cell_type": "code",
   "execution_count": 207,
   "metadata": {},
   "outputs": [
    {
     "data": {
      "text/plain": [
       "546"
      ]
     },
     "execution_count": 207,
     "metadata": {},
     "output_type": "execute_result"
    }
   ],
   "source": [
    "arr = list(set(list(number_data['after'])))\n",
    "arr = [s.split(' ') for s in arr]\n",
    "arr = np.concatenate(arr)\n",
    "arr = list(set(arr))\n",
    "number_words = ['<EOS>', '<SOS>'] + arr\n",
    "number_words_index = dict((c, i) for i, c in enumerate(number_words))\n",
    "len(number_words)"
   ]
  },
  {
   "cell_type": "code",
   "execution_count": 205,
   "metadata": {
    "collapsed": true
   },
   "outputs": [],
   "source": [
    "arr = list(number_data['after'])\n",
    "arr = [s.split(' ') for s in arr]\n",
    "arr = np.concatenate(arr)\n",
    "tmp = {}\n",
    "for s in arr:\n",
    "    tmp[s] = tmp.get(s, 0) + 1"
   ]
  },
  {
   "cell_type": "code",
   "execution_count": 206,
   "metadata": {},
   "outputs": [
    {
     "data": {
      "text/plain": [
       "544"
      ]
     },
     "execution_count": 206,
     "metadata": {},
     "output_type": "execute_result"
    }
   ],
   "source": [
    "len(tmp)"
   ]
  },
  {
   "cell_type": "code",
   "execution_count": 110,
   "metadata": {},
   "outputs": [
    {
     "data": {
      "text/plain": [
       "312"
      ]
     },
     "execution_count": 110,
     "metadata": {},
     "output_type": "execute_result"
    }
   ],
   "source": [
    "arr = []\n",
    "for a, b in tmp.items():\n",
    "    if b > 2:\n",
    "        arr.append(a)\n",
    "len(arr)"
   ]
  },
  {
   "cell_type": "code",
   "execution_count": 210,
   "metadata": {},
   "outputs": [
    {
     "name": "stdout",
     "output_type": "stream",
     "text": [
      "546\n",
      "en - records - e - wednesday - 12 - ag - caribbean - yrs - double - centimeter\n"
     ]
    }
   ],
   "source": [
    "print(len(number_words))\n",
    "print(' - '.join(random.sample(number_words, 10)))"
   ]
  },
  {
   "cell_type": "code",
   "execution_count": 20,
   "metadata": {
    "scrolled": true
   },
   "outputs": [
    {
     "name": "stdout",
     "output_type": "stream",
     "text": [
      "o six sil o nine sil o five sil gen sil re sil executive sil john sil houldsworth sil pleads sil guilty sil in sil fraud sil scheme\n"
     ]
    },
    {
     "data": {
      "text/html": [
       "<div>\n",
       "<style>\n",
       "    .dataframe thead tr:only-child th {\n",
       "        text-align: right;\n",
       "    }\n",
       "\n",
       "    .dataframe thead th {\n",
       "        text-align: left;\n",
       "    }\n",
       "\n",
       "    .dataframe tbody tr th {\n",
       "        vertical-align: top;\n",
       "    }\n",
       "</style>\n",
       "<table border=\"1\" class=\"dataframe\">\n",
       "  <thead>\n",
       "    <tr style=\"text-align: right;\">\n",
       "      <th></th>\n",
       "      <th>sentence_id</th>\n",
       "      <th>token_id</th>\n",
       "      <th>class</th>\n",
       "      <th>before</th>\n",
       "      <th>after</th>\n",
       "    </tr>\n",
       "  </thead>\n",
       "  <tbody>\n",
       "    <tr>\n",
       "      <th>406487</th>\n",
       "      <td>678277</td>\n",
       "      <td>4</td>\n",
       "      <td>TELEPHONE</td>\n",
       "      <td>06-09-05 GEN RE EXECUTIVE JOHN HOULDSWORTH PLE...</td>\n",
       "      <td>o six sil o nine sil o five sil gen sil re sil...</td>\n",
       "    </tr>\n",
       "  </tbody>\n",
       "</table>\n",
       "</div>"
      ],
      "text/plain": [
       "        sentence_id  token_id      class  \\\n",
       "406487       678277         4  TELEPHONE   \n",
       "\n",
       "                                                   before  \\\n",
       "406487  06-09-05 GEN RE EXECUTIVE JOHN HOULDSWORTH PLE...   \n",
       "\n",
       "                                                    after  \n",
       "406487  o six sil o nine sil o five sil gen sil re sil...  "
      ]
     },
     "execution_count": 20,
     "metadata": {},
     "output_type": "execute_result"
    }
   ],
   "source": [
    "tmp = number_data[number_data['after'].str.contains('guilty')]\n",
    "print(tmp['after'].iloc[0])\n",
    "tmp"
   ]
  },
  {
   "cell_type": "markdown",
   "metadata": {},
   "source": [
    "### Categories and Chars"
   ]
  },
  {
   "cell_type": "code",
   "execution_count": null,
   "metadata": {
    "collapsed": true
   },
   "outputs": [],
   "source": [
    "letters_before_all = sorted(list(set(''.join(all_data['before']))))\n",
    "print(len(letters_before_all))\n",
    "letters_after_all = sorted(list(set(''.join(all_data['after']))))\n",
    "print(len(letters_after_all))"
   ]
  },
  {
   "cell_type": "code",
   "execution_count": 112,
   "metadata": {},
   "outputs": [
    {
     "name": "stdout",
     "output_type": "stream",
     "text": [
      "112\n",
      " !\"#$%&'()+,-./0123456789:;?ABCDEFGHIJKLMNOPQRSTUVWXYZ[]_abcdefghijklmnopqrstuvwxyz|~¡£¥ª«²³µº»¼½¾¿éɒʻˈΩμ—€⅓⅔⅛⅝⅞\n"
     ]
    }
   ],
   "source": [
    "print(len(sorted(list(set(''.join(all_data['before']))))))\n",
    "print(''.join(sorted(list(set(''.join(all_data['before']))))))"
   ]
  },
  {
   "cell_type": "code",
   "execution_count": 113,
   "metadata": {},
   "outputs": [
    {
     "name": "stdout",
     "output_type": "stream",
     "text": [
      "92\n",
      " \"$%'(),-./0123456789:ABCDEFGHIJKLMNOPQRSTUVWXYZabcdefghijklmnopqrstuvwxyz£¥ª²³µº¼½¾Ωμ€⅓⅔⅛⅝⅞\n"
     ]
    }
   ],
   "source": [
    "print(len(sorted(list(set(''.join(number_data['before']))))))\n",
    "print(''.join(sorted(list(set(''.join(number_data['before']))))))"
   ]
  },
  {
   "cell_type": "code",
   "execution_count": 65,
   "metadata": {},
   "outputs": [
    {
     "name": "stdout",
     "output_type": "stream",
     "text": [
      "66\n",
      " \"$%'(),-./0123456789:abcdefghijklmnopqrstuvwxyz£¥ª²³µº¼½¾μω€⅓⅔⅛⅝⅞\n"
     ]
    }
   ],
   "source": [
    "print(len(sorted(list(set(''.join(number_data['before']).lower())))))\n",
    "print(''.join(sorted(list(set(''.join(number_data['before']).lower())))))"
   ]
  },
  {
   "cell_type": "code",
   "execution_count": 114,
   "metadata": {},
   "outputs": [
    {
     "name": "stdout",
     "output_type": "stream",
     "text": [
      "<EOS><SOS> \"$%'(),-./0123456789:ABCDEFGHIJKLMNOPQRSTUVWXYZabcdefghijklmnopqrstuvwxyz£¥ª²³µº¼½¾Ωμ€⅓⅔⅛⅝⅞\n",
      "94\n"
     ]
    }
   ],
   "source": [
    "tmp = sorted(list(set(''.join(number_data['before']))))\n",
    "letters_all = ['<EOS>', '<SOS>'] + sorted(list(set(tmp)))\n",
    "letters_all_index = dict((c, i) for i, c in enumerate(letters_all))\n",
    "print(''.join(letters_all))\n",
    "print(len(letters_all))"
   ]
  },
  {
   "cell_type": "code",
   "execution_count": 117,
   "metadata": {},
   "outputs": [
    {
     "name": "stdout",
     "output_type": "stream",
     "text": [
      "True\n"
     ]
    }
   ],
   "source": [
    "def char_to_tensor(char): # single onehot\n",
    "    tensor = torch.zeros(1, len(letters_all))\n",
    "    tensor[0, letters_all_index[char]] = 1\n",
    "    return tensor\n",
    "print(char_to_tensor('<EOS>')[0, 0] == 1)\n",
    "sos_variable = Variable(char_to_tensor('<SOS>')).cuda()"
   ]
  },
  {
   "cell_type": "code",
   "execution_count": 118,
   "metadata": {},
   "outputs": [
    {
     "name": "stdout",
     "output_type": "stream",
     "text": [
      "torch.Size([1, 6, 94])\n",
      "torch.Size([1, 7, 94])\n"
     ]
    }
   ],
   "source": [
    "def string_to_tensor(line, include_eos=True):\n",
    "    tensor_length = len(line)+1 if include_eos else len(line)\n",
    "    tensor = torch.zeros(1, tensor_length, len(letters_all))\n",
    "    for li, letter in enumerate(line):\n",
    "        tensor[0, li, letters_all_index[letter]] = 1\n",
    "    if include_eos:\n",
    "        tensor[0, -1, letters_all_index['<EOS>']] = 1\n",
    "    return tensor\n",
    "print(string_to_tensor('wordup', include_eos=False).size())\n",
    "print(string_to_tensor('wordup', include_eos=True).size())"
   ]
  },
  {
   "cell_type": "markdown",
   "metadata": {},
   "source": [
    "### Sample"
   ]
  },
  {
   "cell_type": "markdown",
   "metadata": {},
   "source": [
    "arr = [simple_tokeniser(s_)[0] for s_ in list(all_data.sample(1000)['before'])]\n",
    "[s in wv_idx for s in arr].count(True) / 1000"
   ]
  },
  {
   "cell_type": "code",
   "execution_count": 128,
   "metadata": {},
   "outputs": [
    {
     "data": {
      "text/plain": [
       "(1, 4, 50)"
      ]
     },
     "execution_count": 128,
     "metadata": {},
     "output_type": "execute_result"
    }
   ],
   "source": [
    "def sentence_word_vectorize(str_list):\n",
    "    word_vect = np.zeros((1, len(str_list), wv_vecs.shape[1]), dtype=np.float32)\n",
    "    for i, w in enumerate(str_list):\n",
    "        if w=='<SAMPLE>':\n",
    "            word_vect[0][i] = np.zeros((1, wv_vecs.shape[1]))\n",
    "        else:\n",
    "            try:\n",
    "                word_vect[0][i] = wv_vecs[wv_idx[w]]\n",
    "            except KeyError:\n",
    "                word_vect[0][i] = np.random.rand(1, wv_vecs.shape[1])\n",
    "    return word_vect\n",
    "sentence_word_vectorize(['and', 'here', 'she', '<SAMPLE>']).shape"
   ]
  },
  {
   "cell_type": "code",
   "execution_count": 220,
   "metadata": {},
   "outputs": [
    {
     "name": "stdout",
     "output_type": "stream",
     "text": [
      "True\n",
      "(1, 3, 546)\n",
      "(1, 2, 546)\n"
     ]
    }
   ],
   "source": [
    "def number_words_onehot(word_list, include_eos=True):\n",
    "    if type(word_list) != list: raise\n",
    "    tensor_length = len(word_list)+1 if include_eos else len(word_list)\n",
    "    tensor = np.zeros((1, tensor_length, len(number_words)), dtype=np.float32)\n",
    "    for i, w in enumerate(word_list):\n",
    "        tensor[0,i,number_words_index[w]]=1\n",
    "    if include_eos:\n",
    "        tensor[0, -1, letters_all_index['<EOS>']] = 1\n",
    "    return tensor\n",
    "tmp = ['one', 'hundred']\n",
    "print(number_words[np.argmax(numbers_words_onehot(tmp)[0][0])] == tmp[0])\n",
    "print(number_words_onehot(tmp).shape)\n",
    "print(number_words_onehot(tmp, include_eos=False).shape)\n",
    "# print(numbers_words_onehot('single').shape)"
   ]
  },
  {
   "cell_type": "code",
   "execution_count": 236,
   "metadata": {},
   "outputs": [
    {
     "data": {
      "text/plain": [
       "torch.Size([1, 1, 546])"
      ]
     },
     "execution_count": 236,
     "metadata": {},
     "output_type": "execute_result"
    }
   ],
   "source": [
    "number_words_onehot_sos = number_words_onehot(['<SOS>'], include_eos=False)\n",
    "number_words_onehot_sos = Variable(torch.from_numpy(number_words_onehot_sos)).cuda()\n",
    "number_words_onehot_sos.size()"
   ]
  },
  {
   "cell_type": "code",
   "execution_count": 221,
   "metadata": {},
   "outputs": [
    {
     "name": "stdout",
     "output_type": "stream",
     "text": [
      "MEASURE : 59 kg -> fifty nine kilograms\n",
      "She represented Australia at the 2010 Commonwealth Games in free style wrestling , finishing sixth in the U / <SAMPLE> division .\n",
      "(1, 22, 50)\n",
      "(1, 4, 546)\n"
     ]
    }
   ],
   "source": [
    "def get_random_sample():\n",
    "    sample_row = balanced_data.iloc[random.randint(1, len(balanced_data)-1)]\n",
    "    sentence_id = sample_row['class']\n",
    "\n",
    "    #rows = all_data[all_data['sentence_id']==sample_row['sentence_id']]\n",
    "    rows = all_data_sentence_index.loc[sample_row['sentence_id']]\n",
    "    befores = rows.before.values\n",
    "        \n",
    "    token_id_idx = list(rows['token_id']).index(sample_row['token_id'])\n",
    "    befores[token_id_idx] = '<SAMPLE>'\n",
    "    #sentence = ' '.join(befores)\n",
    "    #str_list = simple_tokeniser(sentence)\n",
    "    \n",
    "    #word_vect = word_vectorize(str_list)\n",
    "\n",
    "    return sample_row['before'], sample_row['after'], sample_row['class'], befores\n",
    "            \n",
    "def tmp():\n",
    "    # get_random_sample()\n",
    "    s_bef, s_aft, s_class, s_sentence = get_random_sample()\n",
    "    print(s_class, ':', s_bef, '->', s_aft)\n",
    "    print(' '.join(s_sentence))\n",
    "    print(sentence_word_vectorize(s_sentence).shape)\n",
    "    print(number_words_onehot(s_aft.split(' ')).shape)\n",
    "tmp()"
   ]
  },
  {
   "cell_type": "code",
   "execution_count": 123,
   "metadata": {},
   "outputs": [
    {
     "name": "stdout",
     "output_type": "stream",
     "text": [
      "427 µs ± 20.2 µs per loop (mean ± std. dev. of 7 runs, 1000 loops each)\n"
     ]
    }
   ],
   "source": [
    "%%timeit\n",
    "get_random_sample()"
   ]
  },
  {
   "cell_type": "markdown",
   "metadata": {},
   "source": [
    "# Model functions"
   ]
  },
  {
   "cell_type": "code",
   "execution_count": 124,
   "metadata": {
    "collapsed": true
   },
   "outputs": [],
   "source": [
    "use_cuda = True"
   ]
  },
  {
   "cell_type": "markdown",
   "metadata": {},
   "source": [
    "### Encoder"
   ]
  },
  {
   "cell_type": "code",
   "execution_count": 223,
   "metadata": {
    "collapsed": true
   },
   "outputs": [],
   "source": [
    "class EncoderRNN(nn.Module):\n",
    "    def __init__(self, wordvect_size, chars_input_size, words_hidden_size, chars_hidden_size,\n",
    "                 words_layers=1, chars_layers=1):\n",
    "        super(EncoderRNN, self).__init__()\n",
    "\n",
    "        #self.train_iterations = 0\n",
    "        #self.train_history = []\n",
    "        \n",
    "        self.words_layers = words_layers\n",
    "        self.chars_layers = chars_layers\n",
    "        self.words_hidden_size = words_hidden_size\n",
    "        self.chars_hidden_size = chars_hidden_size\n",
    "        # self.output_size = output_size\n",
    "\n",
    "        self.rnn_words = nn.LSTM(wordvect_size, words_hidden_size // 2, words_layers,\n",
    "                                 batch_first=True, bidirectional=True)\n",
    "\n",
    "        self.rnn_chars = nn.LSTM(chars_input_size, chars_hidden_size // 2, chars_layers,\n",
    "                                batch_first=True, bidirectional=True)\n",
    "        \n",
    "        # self.lin_output = nn.Linear(hidden_size*2, output_size)\n",
    "\n",
    "    def forward(self, word_vectors, string_tensor, hidden = None, init_hidden = True):\n",
    "        if init_hidden:\n",
    "            hidden_words, hidden_chars = self.init_hidden()\n",
    "        \n",
    "        all_outputs_words, hidden_words = self.rnn_words(word_vectors, hidden_words)\n",
    "        output_words = all_outputs_words[:, -1]\n",
    "        \n",
    "        all_outputs_chars, hidden_chars = self.rnn_chars(string_tensor, hidden_chars)\n",
    "        output_chars = all_outputs_chars[:, -1]\n",
    "        \n",
    "        output = torch.cat((output_words, output_chars), 1)\n",
    "        \n",
    "        # output = self.lin_output(output)\n",
    "        # output = F.log_softmax(output)\n",
    "        return output\n",
    "\n",
    "    def init_hidden(self):\n",
    "        var1_1 = Variable(torch.zeros(2 * self.words_layers, 1, self.words_hidden_size // 2))\n",
    "        var1_2 = Variable(torch.zeros(2 * self.words_layers, 1, self.words_hidden_size // 2))\n",
    "        var2_1 = Variable(torch.zeros(2 * self.chars_layers, 1, self.chars_hidden_size // 2))\n",
    "        var2_2 = Variable(torch.zeros(2 * self.chars_layers, 1, self.chars_hidden_size // 2))\n",
    "        if use_cuda:\n",
    "            var1_1 = var1_1.cuda(); var1_2 = var1_2.cuda()\n",
    "            var2_1 = var2_1.cuda(); var2_2 = var2_2.cuda()\n",
    "        return ((var1_1, var1_2), (var2_1, var2_2))"
   ]
  },
  {
   "cell_type": "code",
   "execution_count": 317,
   "metadata": {},
   "outputs": [
    {
     "name": "stdout",
     "output_type": "stream",
     "text": [
      "Word vect size: (1, 16, 50) . String vector size: torch.Size([1, 4, 94])\n",
      "Output: torch.Size([1, 192])\n"
     ]
    }
   ],
   "source": [
    "def get_encoder(debug=False):\n",
    "    # s_bef, s_aft, s_class, s_word_vs = get_random_sample()\n",
    "    s_bef, s_aft, s_class, s_sentence = get_random_sample()\n",
    "    \n",
    "    s_word_vs = sentence_word_vectorize(s_sentence)\n",
    "    s_string = string_to_tensor(s_bef)\n",
    "    target = number_words_onehot(s_aft.split(' '))\n",
    "    \n",
    "    encoder_rnn = EncoderRNN(wordvect_size=s_word_vs.shape[-1], chars_input_size=len(letters_all),\n",
    "                                      words_hidden_size=64, chars_hidden_size=128,\n",
    "                                      words_layers=1, chars_layers=1).cuda()\n",
    "    output_encoded = encoder_rnn(Variable(torch.from_numpy(s_word_vs)).cuda(), Variable(s_string).cuda())\n",
    "    if debug:\n",
    "        print('Word vect size:', s_word_vs.shape, '. String vector size:', s_string.size())\n",
    "        print('Output:', output_encoded.size())\n",
    "    return encoder_rnn, output_encoded;\n",
    "encoder_rnn, output_encoded = get_encoder(debug=True)"
   ]
  },
  {
   "cell_type": "code",
   "execution_count": null,
   "metadata": {
    "collapsed": true
   },
   "outputs": [],
   "source": []
  },
  {
   "cell_type": "markdown",
   "metadata": {},
   "source": [
    "### Decoder"
   ]
  },
  {
   "cell_type": "code",
   "execution_count": 288,
   "metadata": {
    "collapsed": true
   },
   "outputs": [],
   "source": [
    "class DecoderRNN(nn.Module):\n",
    "    def __init__(self, input_size, hidden_size, n_layers=1):\n",
    "        super(DecoderRNN, self).__init__()\n",
    "        self.n_layers = n_layers\n",
    "        self.hidden_size = hidden_size\n",
    "        \n",
    "        self.rnn = nn.GRU(input_size, hidden_size, n_layers,\n",
    "                                 batch_first=True, bidirectional=False)\n",
    "                         # LSTM would require own hidden included\n",
    "        \n",
    "        self.lin_out = nn.Linear(hidden_size, input_size)\n",
    "        #self.softmax = nn.LogSoftmax()\n",
    "\n",
    "    def forward(self, char, hidden):\n",
    "        #char = char.view(1,1,-1)\n",
    "        #hidden = hidden.view(1,1,-1)\n",
    "        output, hidden = self.rnn(char, hidden)\n",
    "        output = output[:, -1] # view(1,-1)\n",
    "        output = self.lin_out(output)\n",
    "        output = F.log_softmax(output)\n",
    "        return output, hidden\n",
    "\n",
    "decoder_rnn = DecoderRNN(input_size=len(number_words), hidden_size=output_encoded.size()[-1])\n",
    "decoder_rnn = decoder_rnn.cuda()\n"
   ]
  },
  {
   "cell_type": "code",
   "execution_count": 237,
   "metadata": {},
   "outputs": [
    {
     "name": "stdout",
     "output_type": "stream",
     "text": [
      "torch.Size([1, 546])\n",
      "Variable containing:\n",
      "-6.1277\n",
      "[torch.cuda.FloatTensor of size 1x1 (GPU 0)]\n",
      "\n"
     ]
    }
   ],
   "source": [
    "tmp_a, tmp_b = decoder_rnn(number_words_onehot_sos, output_encoded.view(1,1,-1))\n",
    "print(tmp_a.size())\n",
    "print(tmp_a.topk(1)[0])"
   ]
  },
  {
   "cell_type": "code",
   "execution_count": 240,
   "metadata": {},
   "outputs": [
    {
     "data": {
      "text/plain": [
       "[torch.Size([1, 546]), torch.Size([1, 1, 192])]"
      ]
     },
     "execution_count": 240,
     "metadata": {},
     "output_type": "execute_result"
    }
   ],
   "source": [
    "tmp_input = number_words_onehot([number_words[tmp_a.topk(1)[1].data[0][0]]])\n",
    "tmp_input = Variable(torch.from_numpy(tmp_input)).cuda()\n",
    "tmp = decoder_rnn(tmp_input, tmp_b)\n",
    "[t.size() for t in tmp]"
   ]
  },
  {
   "cell_type": "markdown",
   "metadata": {},
   "source": [
    "# Training etc"
   ]
  },
  {
   "cell_type": "markdown",
   "metadata": {},
   "source": [
    "### Accuracy"
   ]
  },
  {
   "cell_type": "markdown",
   "metadata": {},
   "source": [
    "### Training"
   ]
  },
  {
   "cell_type": "code",
   "execution_count": 241,
   "metadata": {
    "collapsed": true
   },
   "outputs": [],
   "source": [
    "def timeSince(since):\n",
    "    now = time.time()\n",
    "    s = now - since\n",
    "    m = math.floor(s / 60)\n",
    "    s -= m * 60\n",
    "    return '%dm %ds' % (m, s)"
   ]
  },
  {
   "cell_type": "code",
   "execution_count": 267,
   "metadata": {},
   "outputs": [
    {
     "data": {
      "text/plain": [
       "['one', 'hundred', '<EOS>']"
      ]
     },
     "execution_count": 267,
     "metadata": {},
     "output_type": "execute_result"
    }
   ],
   "source": [
    "\"one hundred\".split(' ') + ['<EOS>']"
   ]
  },
  {
   "cell_type": "code",
   "execution_count": 377,
   "metadata": {
    "collapsed": true
   },
   "outputs": [],
   "source": [
    "def train(s_bef, s_aft, s_sentence, encoder, decoder, encoder_optimizer, decoder_optimizer, loss_function,\n",
    "          use_teacher_forcing, max_length=20):\n",
    "\n",
    "    s_word_vs = sentence_word_vectorize(s_sentence)\n",
    "    s_bef_string = string_to_tensor(s_bef, include_eos=True)\n",
    "    target_arr = s_aft.split(' ') + ['<EOS>']\n",
    "    \n",
    "    encoder_optimizer.zero_grad()\n",
    "    decoder_optimizer.zero_grad()\n",
    "    loss = 0\n",
    "\n",
    "    encoder_output = encoder(Variable(torch.from_numpy(s_word_vs)).cuda(), Variable(s_bef_string).cuda())\n",
    "    encoder_output = encoder_output.view(1,1,-1)\n",
    "    decoder_hidden = encoder_output\n",
    "\n",
    "    decoder_input = number_words_onehot_sos\n",
    "\n",
    "    decoded_output = []\n",
    "    for i in range(len(target_arr)):\n",
    "        decoder_output, decoder_hidden = decoder(decoder_input, decoder_hidden)\n",
    "\n",
    "        decoder_target = number_words_index[target_arr[i]]\n",
    "        #print(decoder_target)\n",
    "        decoder_target = Variable(torch.LongTensor([decoder_target])).cuda()\n",
    "        \n",
    "        # import IPython; IPython.core.debugger.set_trace()\n",
    "        \n",
    "        loss += loss_function(decoder_output, decoder_target)\n",
    "\n",
    "        topv, topi = decoder_output.data.topk(1)\n",
    "        word_index = topi[0][0]\n",
    "        word = number_words[word_index] # Use own prediction as next input\n",
    "        decoded_output.append(word)\n",
    "        \n",
    "        if use_teacher_forcing:\n",
    "            word = target_arr[i] # replace input with right target\n",
    "        else:\n",
    "            # use output normally as input \n",
    "            if word == '<EOS>':\n",
    "                break\n",
    "\n",
    "        decoder_input = number_words_onehot([word], include_eos=False)\n",
    "        decoder_input = Variable(torch.from_numpy(decoder_input)).cuda()\n",
    "\n",
    "    loss.backward()\n",
    "\n",
    "    encoder_optimizer.step()\n",
    "    decoder_optimizer.step()\n",
    "\n",
    "    return((loss.data[0] / len(target_arr)), ' '.join(decoded_output))\n",
    "#print(train())"
   ]
  },
  {
   "cell_type": "code",
   "execution_count": 368,
   "metadata": {
    "collapsed": true
   },
   "outputs": [],
   "source": [
    "encoder_rnn, output_encoded = get_encoder()\n",
    "decoder_rnn = DecoderRNN(input_size=len(number_words), hidden_size=output_encoded.size()[-1]).cuda()"
   ]
  },
  {
   "cell_type": "code",
   "execution_count": 369,
   "metadata": {
    "collapsed": true
   },
   "outputs": [],
   "source": [
    "model_train_iterations = 0\n",
    "model_train_history = []"
   ]
  },
  {
   "cell_type": "code",
   "execution_count": 434,
   "metadata": {
    "collapsed": true
   },
   "outputs": [],
   "source": [
    "def train_iterations(n_iters=100000, lr=0.001, teacher_forcing_ratio=0.5,\n",
    "                     print_every=5000, plot_every=1000):\n",
    "    global model_train_iterations\n",
    "    global model_train_history\n",
    "    start = time.time()\n",
    "    decoder_rnn.train()\n",
    "    encoder_rnn.train()\n",
    "\n",
    "    current_loss = 0\n",
    "    current_loss_iter = 0\n",
    "\n",
    "    encoder_optimizer = torch.optim.Adam(encoder_rnn.parameters(), lr=lr)\n",
    "    decoder_optimizer = torch.optim.Adam(decoder_rnn.parameters(), lr=lr)\n",
    "    loss_function = nn.NLLLoss()\n",
    "    \n",
    "    for iteration in range(1, n_iters + 1):\n",
    "        model_train_iterations += 1\n",
    "\n",
    "        use_teacher_forcing = random.random() < teacher_forcing_ratio\n",
    "        \n",
    "        s_bef, s_aft, s_class, s_sentence = get_random_sample()\n",
    "        \n",
    "        #print(s_class, ':', s_bef, '->', s_aft, '('+str(len(s_aft))+')')\n",
    "        loss, result = train(s_bef=s_bef, s_aft=s_aft, s_sentence=s_sentence,\n",
    "                             encoder=encoder_rnn, decoder=decoder_rnn,\n",
    "                             encoder_optimizer=encoder_optimizer, decoder_optimizer=decoder_optimizer,\n",
    "                             loss_function=nn.NLLLoss(), use_teacher_forcing=use_teacher_forcing,\n",
    "                             max_length=40 )\n",
    "\n",
    "        current_loss += loss\n",
    "        current_loss_iter += 1\n",
    "\n",
    "        # Print iter number, loss, name and guess\n",
    "        if iteration % print_every == 0:\n",
    "            teacher_forcing_str = \"\"\n",
    "            if use_teacher_forcing:\n",
    "                teacher_forcing_str = \"(forcing)\"\n",
    "            print(\"{:>6d} {:>4.0%} ({:>8}) {:>7.3f}   | {:>6.2f}: {} -> {} {} ({})\".format(\n",
    "                      model_train_iterations, iteration/n_iters, timeSince(start),\n",
    "                      current_loss/current_loss_iter, loss,\n",
    "                      s_bef, teacher_forcing_str, result, s_aft))\n",
    "\n",
    "        # Add current loss avg to list of losses\n",
    "        if iteration % plot_every == 0:\n",
    "            model_train_history.append((current_loss / plot_every, lr))\n",
    "            current_loss = 0\n",
    "            current_loss_iter = 0\n",
    "            \n",
    "        if model_train_iterations % 10000 == 0:\n",
    "            balanced_data_randomize()\n",
    "            \n",
    "        if model_train_iterations % 10000 == 0:\n",
    "            save_model()\n",
    "    \n",
    "    # test_model_accuracy(model, n_sample=10000)\n",
    "    if model_train_iterations > 1000:\n",
    "        test_model_accuracy()"
   ]
  },
  {
   "cell_type": "code",
   "execution_count": null,
   "metadata": {
    "collapsed": true
   },
   "outputs": [],
   "source": []
  },
  {
   "cell_type": "code",
   "execution_count": 371,
   "metadata": {},
   "outputs": [
    {
     "name": "stdout",
     "output_type": "stream",
     "text": [
      "   100  10% (   0m 1s)   4.482   |   4.06: 1.16MW -> (forcing) <EOS> <EOS> <EOS> <EOS> <EOS> <EOS> (one point one six megawatts)\n",
      "   200  20% (   0m 2s)   3.988   |   2.88: .1574 -> (forcing) point <EOS> <EOS> <EOS> <EOS> <EOS> (point one five seven four)\n",
      "   300  30% (   0m 3s)   3.785   |   3.52: 92.1% -> (forcing) one point <EOS> <EOS> <EOS> <EOS> (ninety two point one percent)\n",
      "   400  40% (   0m 4s)   3.708   |   4.05: 13 -> (forcing) two <EOS> (thirteen)\n",
      "   500  50% (   0m 5s)   3.649   |   2.13: 2002 -> (forcing) one <EOS> <EOS> <EOS> (two thousand two)\n",
      "   600  60% (   0m 7s)   3.562   |   2.80: .201 -> (forcing) one <EOS> <EOS> <EOS> <EOS> (point two o one)\n",
      "   700  70% (   0m 8s)   3.486   |   2.76: 2.4 km -> (forcing) one hundred one <EOS> <EOS> (two point four kilometers)\n",
      "   800  80% (   0m 9s)   3.432   |   2.33: 1,300 -> (forcing) nineteen hundred <EOS> <EOS> <EOS> (one thousand three hundred)\n",
      "   900  90% (  0m 10s)   3.388   |   6.91: 75 hl -> (forcing) nineteen point <EOS> <EOS> <EOS> (seventy five hecto liters)\n",
      "  1000 100% (  0m 12s)   3.337   |   2.76: US$ 1.3 million -> (forcing) one sil one sil <EOS> <EOS> (one point three million dollars)\n"
     ]
    }
   ],
   "source": [
    "train_iterations(n_iters=1000, print_every=100, teacher_forcing_ratio=1)"
   ]
  },
  {
   "cell_type": "code",
   "execution_count": 378,
   "metadata": {},
   "outputs": [
    {
     "name": "stdout",
     "output_type": "stream",
     "text": [
      "  8239  36% (  0m 12s)   1.760   |   0.54: VIII -> (forcing) the third <EOS> (the eighth)\n",
      "  9239  72% (  0m 23s)   1.602   |   1.97: 64 ->  five hundred <EOS> (sixty four)\n"
     ]
    }
   ],
   "source": [
    "train_iterations(n_iters=(10000-model_train_iterations), print_every=1000, teacher_forcing_ratio=0.5)"
   ]
  },
  {
   "cell_type": "code",
   "execution_count": 379,
   "metadata": {},
   "outputs": [
    {
     "name": "stdout",
     "output_type": "stream",
     "text": [
      " 15000  17% (  0m 57s)   1.059   |   0.86: 84 -> (forcing) forty eight <EOS> (eight four)\n",
      " 20000  33% (  1m 55s)   0.902   |   0.25: 1997 -> (forcing) nineteen ninety seven <EOS> (nineteen ninety seven)\n",
      " 25000  50% (  2m 53s)   0.705   |   0.37: 8.9 km2 -> (forcing) eight point nine square kilometers <EOS> (eight point nine square kilometers)\n"
     ]
    },
    {
     "ename": "NameError",
     "evalue": "name 'data_balance_randomize_classes' is not defined",
     "output_type": "error",
     "traceback": [
      "\u001b[0;31m---------------------------------------------------------------------------\u001b[0m",
      "\u001b[0;31mNameError\u001b[0m                                 Traceback (most recent call last)",
      "\u001b[0;32m<ipython-input-379-2620bd0ec660>\u001b[0m in \u001b[0;36m<module>\u001b[0;34m()\u001b[0m\n\u001b[0;32m----> 1\u001b[0;31m \u001b[0mtrain_iterations\u001b[0m\u001b[0;34m(\u001b[0m\u001b[0mn_iters\u001b[0m\u001b[0;34m=\u001b[0m\u001b[0;36m30000\u001b[0m\u001b[0;34m,\u001b[0m \u001b[0mprint_every\u001b[0m\u001b[0;34m=\u001b[0m\u001b[0;36m5000\u001b[0m\u001b[0;34m,\u001b[0m \u001b[0mteacher_forcing_ratio\u001b[0m\u001b[0;34m=\u001b[0m\u001b[0;36m0.5\u001b[0m\u001b[0;34m)\u001b[0m\u001b[0;34m\u001b[0m\u001b[0m\n\u001b[0m",
      "\u001b[0;32m<ipython-input-370-4c9b0fd29182>\u001b[0m in \u001b[0;36mtrain_iterations\u001b[0;34m(n_iters, lr, teacher_forcing_ratio, print_every, plot_every)\u001b[0m\n\u001b[1;32m     48\u001b[0m \u001b[0;34m\u001b[0m\u001b[0m\n\u001b[1;32m     49\u001b[0m         \u001b[0;32mif\u001b[0m \u001b[0mmodel_train_iterations\u001b[0m \u001b[0;34m%\u001b[0m \u001b[0;36m25000\u001b[0m \u001b[0;34m==\u001b[0m \u001b[0;36m0\u001b[0m\u001b[0;34m:\u001b[0m\u001b[0;34m\u001b[0m\u001b[0m\n\u001b[0;32m---> 50\u001b[0;31m             \u001b[0mdata_balance_randomize_classes\u001b[0m\u001b[0;34m(\u001b[0m\u001b[0;34m)\u001b[0m\u001b[0;34m\u001b[0m\u001b[0m\n\u001b[0m\u001b[1;32m     51\u001b[0m \u001b[0;34m\u001b[0m\u001b[0m\n\u001b[1;32m     52\u001b[0m         \u001b[0;32mif\u001b[0m \u001b[0mmodel_train_iterations\u001b[0m \u001b[0;34m%\u001b[0m \u001b[0;36m25000\u001b[0m \u001b[0;34m==\u001b[0m \u001b[0;36m0\u001b[0m\u001b[0;34m:\u001b[0m\u001b[0;34m\u001b[0m\u001b[0m\n",
      "\u001b[0;31mNameError\u001b[0m: name 'data_balance_randomize_classes' is not defined"
     ]
    }
   ],
   "source": [
    "train_iterations(n_iters=30000, print_every=5000, teacher_forcing_ratio=0.5)"
   ]
  },
  {
   "cell_type": "code",
   "execution_count": 381,
   "metadata": {},
   "outputs": [
    {
     "name": "stdout",
     "output_type": "stream",
     "text": [
      " 26000  20% (  0m 11s)   0.738   |   1.11: 1900 ->  nineteen o <EOS> (nineteen hundred)\n",
      " 27000  40% (  0m 22s)   0.768   |   0.15: 0.5/km² -> (forcing) zero point five per square kilometers <EOS> (zero point five per square kilometers)\n",
      " 28000  60% (  0m 34s)   0.733   |   0.02: 44% ->  forty four percent <EOS> (forty four percent)\n",
      " 29000  80% (  0m 45s)   0.710   |   0.78: 1896 ->  nineteen eighty six <EOS> (eighteen ninety six)\n",
      " 30000 100% (  0m 57s)   0.683   |   2.43: $17,054 ->  seventeen thousand five hundred fifty dollars (seventeen thousand fifty four dollars)\n"
     ]
    }
   ],
   "source": [
    "train_iterations(n_iters=(30000-model_train_iterations), print_every=1000, teacher_forcing_ratio=0.4)"
   ]
  },
  {
   "cell_type": "code",
   "execution_count": 386,
   "metadata": {},
   "outputs": [
    {
     "name": "stdout",
     "output_type": "stream",
     "text": [
      "Saving: data/models/numbers_gen_1_rnn_30120\n",
      "Saving: data/models/numbers_gen_1_rnn_30130\n",
      "Saving: data/models/numbers_gen_1_rnn_30140\n",
      "Saving: data/models/numbers_gen_1_rnn_30150\n",
      " 30160  50% (   0m 0s)   0.696   |   2.87: 03 - 24 ->  three sil two sil sil sil (o three sil two four)\n",
      "Saving: data/models/numbers_gen_1_rnn_30160\n",
      "Saving: data/models/numbers_gen_1_rnn_30170\n",
      "Saving: data/models/numbers_gen_1_rnn_30180\n",
      "Saving: data/models/numbers_gen_1_rnn_30190\n",
      "Saving: data/models/numbers_gen_1_rnn_30200\n",
      " 30210 100% (   0m 1s)   0.611   |   0.01: 3.0 ->  three point zero <EOS> (three point zero)\n",
      "Saving: data/models/numbers_gen_1_rnn_30210\n"
     ]
    }
   ],
   "source": [
    "train_iterations(n_iters=100, print_every=50, teacher_forcing_ratio=0.2)"
   ]
  },
  {
   "cell_type": "code",
   "execution_count": 389,
   "metadata": {},
   "outputs": [
    {
     "name": "stdout",
     "output_type": "stream",
     "text": [
      " 35210  25% (  0m 58s)   0.615   |   0.00: .8 ->  point eight <EOS> (point eight)\n",
      "Saving: data/models/numbers_gen_1_rnn_40000\n",
      " 40210  51% (  1m 55s)   0.607   |   0.06: 2003 ->  two thousand three <EOS> (two thousand three)\n",
      " 45210  76% (  2m 52s)   0.536   |   0.72: $87,498 ->  eighty four thousand eight hundred ninety eight dollars <EOS> (eighty seven thousand four hundred ninety eight dollars)\n",
      "Saving: data/models/numbers_gen_1_rnn_50000\n"
     ]
    }
   ],
   "source": [
    "train_iterations(n_iters=(20000-(model_train_iterations%10000)), print_every=5000, teacher_forcing_ratio=0.2)"
   ]
  },
  {
   "cell_type": "code",
   "execution_count": 390,
   "metadata": {},
   "outputs": [
    {
     "name": "stdout",
     "output_type": "stream",
     "text": [
      " 55000  25% (  0m 58s)   0.488   |   0.00: 3rd ->  third <EOS> (third)\n",
      " 60000  50% (  1m 56s)   0.510   |   0.09: 1870 ->  eighteen seventy <EOS> (eighteen seventy)\n",
      "Saving: data/models/numbers_gen_1_rnn_60000\n",
      " 65000  75% (  2m 54s)   0.403   |   0.09: $21,118 ->  twenty one thousand one hundred eighteen dollars <EOS> (twenty one thousand one hundred eighteen dollars)\n",
      " 70000 100% (  3m 51s)   0.395   |   0.01: 30 ->  thirty <EOS> (thirty)\n",
      "Saving: data/models/numbers_gen_1_rnn_70000\n"
     ]
    }
   ],
   "source": [
    "train_iterations(n_iters=20000, print_every=5000, teacher_forcing_ratio=0.3, lr=0.001)"
   ]
  },
  {
   "cell_type": "code",
   "execution_count": 391,
   "metadata": {},
   "outputs": [
    {
     "name": "stdout",
     "output_type": "stream",
     "text": [
      " 75000  25% (  0m 57s)   0.317   |   0.00: 9.1 ->  nine point one <EOS> (nine point one)\n",
      " 80000  50% (  1m 55s)   0.324   |   0.06: 100 million ->  one hundred million <EOS> (one hundred million)\n",
      "Saving: data/models/numbers_gen_1_rnn_80000\n",
      " 85000  75% (  2m 53s)   0.295   |   0.26: 5:36pm ->  five thirty six p m <EOS> (five thirty six p m)\n",
      " 90000 100% (  3m 51s)   0.292   |   0.13: $25,481 ->  twenty five thousand four hundred eighty one dollars <EOS> (twenty five thousand four hundred eighty one dollars)\n",
      "Saving: data/models/numbers_gen_1_rnn_90000\n"
     ]
    }
   ],
   "source": [
    "train_iterations(n_iters=20000, print_every=5000, teacher_forcing_ratio=0.3, lr=0.0001)"
   ]
  },
  {
   "cell_type": "code",
   "execution_count": 392,
   "metadata": {},
   "outputs": [
    {
     "name": "stdout",
     "output_type": "stream",
     "text": [
      " 95000  25% (  0m 57s)   0.421   |   0.66: 30 Apr. 2013 ->  the thirtieth of march twenty thirteen <EOS> (the thirtieth of april twenty thirteen)\n",
      "100000  50% (  1m 55s)   0.380   |   0.00: 5th ->  fifth <EOS> (fifth)\n",
      "Saving: data/models/numbers_gen_1_rnn_100000\n",
      "105000  75% (  2m 53s)   0.375   |   0.22: 2011 ->  twenty eleven <EOS> (twenty eleven)\n",
      "110000 100% (  3m 50s)   0.345   |   0.09: $38,485 ->  thirty eight thousand four hundred eighty five dollars <EOS> (thirty eight thousand four hundred eighty five dollars)\n",
      "Saving: data/models/numbers_gen_1_rnn_110000\n"
     ]
    }
   ],
   "source": [
    "train_iterations(n_iters=20000, print_every=5000, teacher_forcing_ratio=0.1, lr=0.001)"
   ]
  },
  {
   "cell_type": "code",
   "execution_count": 393,
   "metadata": {},
   "outputs": [
    {
     "name": "stdout",
     "output_type": "stream",
     "text": [
      "115000  25% (  0m 57s)   0.317   |   0.01: 2 million ->  two million <EOS> (two million)\n",
      "120000  50% (  1m 54s)   0.299   |   0.03: $3,990 ->  three thousand nine hundred ninety dollars <EOS> (three thousand nine hundred ninety dollars)\n",
      "Saving: data/models/numbers_gen_1_rnn_120000\n",
      "125000  75% (  2m 52s)   0.284   |   0.28: $18,031 ->  eighteen thousand thirty one dollars <EOS> (eighteen thousand thirty one dollars)\n",
      "130000 100% (  3m 49s)   0.303   |   0.01: 24 ->  twenty four <EOS> (twenty four)\n",
      "Saving: data/models/numbers_gen_1_rnn_130000\n"
     ]
    }
   ],
   "source": [
    "train_iterations(n_iters=20000, print_every=5000, teacher_forcing_ratio=0, lr=0.0001)"
   ]
  },
  {
   "cell_type": "code",
   "execution_count": 396,
   "metadata": {},
   "outputs": [
    {
     "name": "stdout",
     "output_type": "stream",
     "text": [
      "135000  10% (   1m 1s)   0.400   |   0.05: 0.23% -> (forcing) zero point two three percent <EOS> (zero point two three percent)\n",
      "140000  20% (  1m 59s)   0.328   |   0.02: 20 ->  twenty <EOS> (twenty)\n",
      "Saving: data/models/numbers_gen_1_rnn_140000\n",
      "145000  30% (  2m 58s)   0.321   |   0.03: 2005 ->  two thousand five <EOS> (two thousand five)\n",
      "150000  40% (  3m 57s)   0.306   |   0.09: $10.05 million ->  ten point o five million dollars <EOS> (ten point o five million dollars)\n",
      "Saving: data/models/numbers_gen_1_rnn_150000\n",
      "155000  50% (  4m 56s)   0.290   |   0.01: 10,000m -> (forcing) ten thousand meters <EOS> (ten thousand meters)\n",
      "160000  60% (  5m 54s)   0.283   |   1.90: 47Gs -> (forcing) four seven giga hours <EOS> (forty seven giga seconds)\n",
      "Saving: data/models/numbers_gen_1_rnn_160000\n",
      "165000  70% (  6m 53s)   0.322   |   1.48: 978-2-04-019820-61992 -> (forcing) nine seven eight sil o sil eight eight two two two two two two nine sil nine <EOS> sil two sil sil (nine seven eight sil two sil o four sil o one nine eight two o sil six one nine nine two)\n",
      "170000  80% (  7m 51s)   0.324   |   0.75: 2010 -> (forcing) twenty o <EOS> (twenty ten)\n",
      "Saving: data/models/numbers_gen_1_rnn_170000\n",
      "175000  90% (  8m 52s)   0.262   |   0.11: 2,477 ft ->  two thousand four hundred seventy seven feet <EOS> (two thousand four hundred seventy seven feet)\n",
      "180000 100% (  9m 53s)   0.242   |   0.00: 1% ->  one percent <EOS> (one percent)\n",
      "Saving: data/models/numbers_gen_1_rnn_180000\n"
     ]
    }
   ],
   "source": [
    "train_iterations(n_iters=50000, print_every=5000, teacher_forcing_ratio=0.3, lr=0.001)"
   ]
  },
  {
   "cell_type": "code",
   "execution_count": 417,
   "metadata": {},
   "outputs": [
    {
     "name": "stdout",
     "output_type": "stream",
     "text": [
      "Accuracy: 81.16% (    8116/   10000)\n"
     ]
    }
   ],
   "source": [
    "test_model_accuracy()"
   ]
  },
  {
   "cell_type": "code",
   "execution_count": 418,
   "metadata": {},
   "outputs": [
    {
     "name": "stdout",
     "output_type": "stream",
     "text": [
      "185000  10% (  0m 58s)   0.337   |   1.47: £6,247,200 ->  six million two hundred seventy two thousand seven hundred twenty pounds (six million two hundred forty seven thousand two hundred pounds)\n",
      "190000  20% (  1m 57s)   0.316   |   0.55: 2006 ->  two thousand o six (two thousand six)\n",
      "Saving: data/models/numbers_gen_1_rnn_190000\n",
      "195000  30% (  2m 56s)   0.280   |   0.00: 20th -> (forcing) twentieth <EOS> (twentieth)\n",
      "200000  40% (  3m 54s)   0.258   |   0.10: May 13, 1919 ->  may thirteenth nineteen nineteen <EOS> (may thirteenth nineteen nineteen)\n",
      "Saving: data/models/numbers_gen_1_rnn_200000\n",
      "205000  50% (  4m 53s)   0.306   |   0.02: £15 ->  fifteen pounds <EOS> (fifteen pounds)\n",
      "210000  60% (  5m 53s)   0.315   |   0.02: 0.00 -> (forcing) zero point o o <EOS> (zero point o o)\n",
      "Saving: data/models/numbers_gen_1_rnn_210000\n",
      "215000  70% (  6m 51s)   0.260   |   0.00: 1 ->  one <EOS> (one)\n",
      "220000  80% (  7m 50s)   0.265   |   0.00: 1st ->  first <EOS> (first)\n",
      "Saving: data/models/numbers_gen_1_rnn_220000\n",
      "225000  90% (  8m 49s)   0.242   |   0.02: $600 million ->  six hundred million dollars <EOS> (six hundred million dollars)\n",
      "230000 100% (  9m 48s)   0.236   |   0.07: 1163 m ->  one thousand one hundred sixty three meters <EOS> (one thousand one hundred sixty three meters)\n",
      "Saving: data/models/numbers_gen_1_rnn_230000\n"
     ]
    }
   ],
   "source": [
    "train_iterations(n_iters=50000, print_every=5000, teacher_forcing_ratio=0.2, lr=0.001)"
   ]
  },
  {
   "cell_type": "code",
   "execution_count": 419,
   "metadata": {},
   "outputs": [
    {
     "name": "stdout",
     "output_type": "stream",
     "text": [
      "235000  10% (  0m 57s)   0.234   |   0.03: 1:25 ->  one twenty five <EOS> (one twenty five)\n",
      "240000  20% (  1m 57s)   0.225   |   0.86: 1965 ->  nineteen nine five five <EOS> (one nine six five)\n",
      "Saving: data/models/numbers_gen_1_rnn_240000\n",
      "245000  30% (  2m 55s)   0.174   |   0.03: $19,755 ->  nineteen thousand seven hundred fifty five dollars <EOS> (nineteen thousand seven hundred fifty five dollars)\n",
      "250000  40% (  3m 54s)   0.189   |   0.01: $27,262 -> (forcing) twenty seven thousand two hundred sixty two dollars <EOS> (twenty seven thousand two hundred sixty two dollars)\n",
      "Saving: data/models/numbers_gen_1_rnn_250000\n",
      "255000  50% (  4m 52s)   0.170   |   0.00: 59th ->  fifty ninth <EOS> (fifty ninth)\n",
      "260000  60% (  5m 52s)   0.177   |   0.26: 3112th -> (forcing) three thousand one hundred twelfth <EOS> (three thousand one hundred twelfth)\n",
      "Saving: data/models/numbers_gen_1_rnn_260000\n",
      "265000  70% (  6m 52s)   0.180   |   0.01: 17.3% ->  seventeen point three percent <EOS> (seventeen point three percent)\n",
      "270000  80% (  7m 51s)   0.189   |   0.05: October 31, 2015 ->  october thirty first twenty fifteen <EOS> (october thirty first twenty fifteen)\n",
      "Saving: data/models/numbers_gen_1_rnn_270000\n",
      "275000  90% (  8m 50s)   0.148   |   0.01: 1979 -> (forcing) nineteen seventy nine <EOS> (nineteen seventy nine)\n",
      "280000 100% (  9m 49s)   0.208   |   1.26: 2009-05-23 ->  the twenty of of two thousand nine sil <EOS> (the twenty third of may two thousand nine)\n",
      "Saving: data/models/numbers_gen_1_rnn_280000\n"
     ]
    }
   ],
   "source": [
    "train_iterations(n_iters=50000, print_every=5000, teacher_forcing_ratio=0.2, lr=0.0001)\n",
    "test_model_accuracy()"
   ]
  },
  {
   "cell_type": "code",
   "execution_count": 420,
   "metadata": {},
   "outputs": [
    {
     "name": "stdout",
     "output_type": "stream",
     "text": [
      "285000  10% (  0m 58s)   0.257   |   1.51: 24.403 km² ->  twenty four point four o square kilometers <EOS> (twenty four point four o three square kilometers)\n",
      "290000  20% (  1m 58s)   0.279   |   0.00: 2 ->  two <EOS> (two)\n",
      "Saving: data/models/numbers_gen_1_rnn_290000\n",
      "295000  30% (  2m 57s)   0.235   |   0.00: 30% ->  thirty percent <EOS> (thirty percent)\n",
      "300000  40% (  3m 56s)   0.246   |   0.00: .166 -> (forcing) point one six six <EOS> (point one six six)\n",
      "Saving: data/models/numbers_gen_1_rnn_300000\n",
      "305000  50% (  4m 55s)   0.214   |   0.00: 2.09 ->  two point o nine <EOS> (two point o nine)\n",
      "310000  60% (  5m 54s)   0.235   |   0.02: 8,000 ->  eight thousand <EOS> (eight thousand)\n",
      "Saving: data/models/numbers_gen_1_rnn_310000\n",
      "315000  70% (  6m 54s)   0.254   |   0.12: II -> (forcing) the second <EOS> (the second)\n",
      "320000  80% (  7m 54s)   0.264   |   0.00: 1 ->  one <EOS> (one)\n",
      "Saving: data/models/numbers_gen_1_rnn_320000\n",
      "325000  90% (  8m 52s)   0.239   |   0.01: 90.31% -> (forcing) ninety point three one percent <EOS> (ninety point three one percent)\n",
      "330000 100% (  9m 50s)   0.255   |   0.02: £12.7 million -> (forcing) twelve point seven million pounds <EOS> (twelve point seven million pounds)\n",
      "Saving: data/models/numbers_gen_1_rnn_330000\n"
     ]
    }
   ],
   "source": [
    "train_iterations(n_iters=50000, print_every=5000, teacher_forcing_ratio=0.3, lr=0.001)\n",
    "test_model_accuracy()"
   ]
  },
  {
   "cell_type": "code",
   "execution_count": 421,
   "metadata": {},
   "outputs": [
    {
     "name": "stdout",
     "output_type": "stream",
     "text": [
      "335000  10% (  0m 58s)   0.196   |   0.01: $4,000 ->  four thousand dollars <EOS> (four thousand dollars)\n",
      "340000  20% (  1m 58s)   0.177   |   0.01: 1879 ->  eighteen seventy nine <EOS> (eighteen seventy nine)\n",
      "Saving: data/models/numbers_gen_1_rnn_340000\n",
      "345000  30% (  2m 57s)   0.183   |   0.38: A5 -> (forcing) a five <EOS> (a five)\n",
      "350000  40% (  3m 56s)   0.230   |   0.01: 1975 -> (forcing) nineteen seventy five <EOS> (nineteen seventy five)\n",
      "Saving: data/models/numbers_gen_1_rnn_350000\n",
      "355000  50% (  4m 55s)   0.197   |   0.05: $368,000 ->  three hundred sixty eight thousand dollars <EOS> (three hundred sixty eight thousand dollars)\n",
      "360000  60% (  5m 55s)   0.218   |   0.02: 7 July ->  the seventh of july <EOS> (the seventh of july)\n",
      "Saving: data/models/numbers_gen_1_rnn_360000\n",
      "365000  70% (  6m 54s)   0.205   |   0.17: Jul 2015 -> (forcing) july twenty fifteen <EOS> (july twenty fifteen)\n",
      "370000  80% (  7m 52s)   0.197   |   0.00: .38 ->  point three eight <EOS> (point three eight)\n",
      "Saving: data/models/numbers_gen_1_rnn_370000\n",
      "375000  90% (  8m 54s)   0.215   |   0.34: 978-0-571-22005-2 -> (forcing) nine seven eight sil o sil seven seven one sil two two o o two sil two <EOS> (nine seven eight sil o sil five seven one sil two two o o five sil two)\n",
      "380000 100% (  9m 55s)   0.214   |   0.00: 2nd ->  second <EOS> (second)\n",
      "Saving: data/models/numbers_gen_1_rnn_380000\n"
     ]
    }
   ],
   "source": [
    "train_iterations(n_iters=50000, print_every=10000, teacher_forcing_ratio=0.3, lr=0.001)"
   ]
  },
  {
   "cell_type": "code",
   "execution_count": 422,
   "metadata": {},
   "outputs": [
    {
     "name": "stdout",
     "output_type": "stream",
     "text": [
      "Accuracy: 84.52% (    8452/   10000)\n"
     ]
    }
   ],
   "source": [
    "test_model_accuracy()"
   ]
  },
  {
   "cell_type": "code",
   "execution_count": 424,
   "metadata": {},
   "outputs": [
    {
     "name": "stdout",
     "output_type": "stream",
     "text": [
      "440000  20% (  2m 10s)   0.183   |   0.01: 45 ->  forty five <EOS> (forty five)\n",
      "Saving: data/models/numbers_gen_1_rnn_440000\n",
      "450000  40% (  4m 21s)   0.175   |   0.06: 24 ->  two four <EOS> (two four)\n",
      "Saving: data/models/numbers_gen_1_rnn_450000\n",
      "460000  60% (  6m 35s)   0.178   |   0.00: 3 ->  three <EOS> (three)\n",
      "Saving: data/models/numbers_gen_1_rnn_460000\n",
      "470000  80% (  8m 50s)   0.141   |   2.02: 200921 ->  two o o nine two two <EOS> (two hundred thousand nine hundred twenty one)\n",
      "Saving: data/models/numbers_gen_1_rnn_470000\n",
      "480000 100% (  11m 3s)   0.142   |   0.00: $250,000 ->  two hundred fifty thousand dollars <EOS> (two hundred fifty thousand dollars)\n",
      "Saving: data/models/numbers_gen_1_rnn_480000\n",
      "Accuracy: 88.91% (    8891/   10000)\n"
     ]
    }
   ],
   "source": [
    "train_iterations(n_iters=50000, print_every=10000, teacher_forcing_ratio=0, lr=0.0001)\n",
    "test_model_accuracy()"
   ]
  },
  {
   "cell_type": "code",
   "execution_count": 425,
   "metadata": {},
   "outputs": [
    {
     "name": "stdout",
     "output_type": "stream",
     "text": [
      "490000  20% (   2m 9s)   0.145   |   0.00: 4.61 ->  four point six one <EOS> (four point six one)\n",
      "Saving: data/models/numbers_gen_1_rnn_490000\n",
      "500000  40% (  4m 20s)   0.125   |   0.06: A404 ->  a four o four <EOS> (a four o four)\n",
      "Saving: data/models/numbers_gen_1_rnn_500000\n",
      "510000  60% (  6m 31s)   0.188   |   0.00: 30 million ->  thirty million <EOS> (thirty million)\n",
      "Saving: data/models/numbers_gen_1_rnn_510000\n",
      "520000  80% (  8m 43s)   0.174   |   0.00: 69 ->  sixty nine <EOS> (sixty nine)\n",
      "Saving: data/models/numbers_gen_1_rnn_520000\n",
      "530000 100% ( 10m 53s)   0.137   |   0.00: 14 mm ->  fourteen millimeters <EOS> (fourteen millimeters)\n",
      "Saving: data/models/numbers_gen_1_rnn_530000\n",
      "Accuracy: 89.81% (    8981/   10000)\n"
     ]
    }
   ],
   "source": [
    "train_iterations(n_iters=50000, print_every=10000, teacher_forcing_ratio=0, lr=0.0001)\n",
    "test_model_accuracy()"
   ]
  },
  {
   "cell_type": "code",
   "execution_count": 426,
   "metadata": {},
   "outputs": [
    {
     "name": "stdout",
     "output_type": "stream",
     "text": [
      "540000  20% (   2m 2s)   0.132   |   0.01: 10.5 cm ->  ten point five centimeters <EOS> (ten point five centimeters)\n",
      "Saving: data/models/numbers_gen_1_rnn_540000\n",
      "550000  40% (   4m 3s)   0.149   |   0.01: July 17, 2012 ->  july seventeenth twenty twelve <EOS> (july seventeenth twenty twelve)\n",
      "Saving: data/models/numbers_gen_1_rnn_550000\n",
      "560000  60% (   6m 9s)   0.132   |   0.12: 28 April ->  the twenty eighth of april <EOS> (the twenty eighth of april)\n",
      "Saving: data/models/numbers_gen_1_rnn_560000\n",
      "570000  80% (  8m 11s)   0.124   |   0.00: $9,321 ->  nine thousand three hundred twenty one dollars <EOS> (nine thousand three hundred twenty one dollars)\n",
      "Saving: data/models/numbers_gen_1_rnn_570000\n",
      "580000 100% ( 10m 10s)   0.117   |   0.00: 2nd ->  second <EOS> (second)\n",
      "Saving: data/models/numbers_gen_1_rnn_580000\n",
      "Accuracy: 90.01% (    9001/   10000)\n"
     ]
    }
   ],
   "source": [
    "train_iterations(n_iters=50000, print_every=10000, teacher_forcing_ratio=0, lr=0.0001)\n",
    "test_model_accuracy()"
   ]
  },
  {
   "cell_type": "code",
   "execution_count": 429,
   "metadata": {},
   "outputs": [
    {
     "name": "stdout",
     "output_type": "stream",
     "text": [
      "Accuracy: 90.29% (    9029/   10000)\n"
     ]
    }
   ],
   "source": [
    "test_model_accuracy()"
   ]
  },
  {
   "cell_type": "code",
   "execution_count": 435,
   "metadata": {},
   "outputs": [
    {
     "name": "stdout",
     "output_type": "stream",
     "text": [
      "Saving: data/models/numbers_gen_1_rnn_640000\n",
      "650000  40% (  3m 59s)   0.175   |   0.01: 8,047 ->  eight thousand forty seven <EOS> (eight thousand forty seven)\n",
      "Saving: data/models/numbers_gen_1_rnn_650000\n",
      "Saving: data/models/numbers_gen_1_rnn_660000\n",
      "670000  80% (   8m 2s)   0.165   |   0.00: 1999 ->  nineteen ninety nine <EOS> (nineteen ninety nine)\n",
      "Saving: data/models/numbers_gen_1_rnn_670000\n",
      "Saving: data/models/numbers_gen_1_rnn_680000\n",
      "Accuracy: 84.72% (    8472/   10000)\n"
     ]
    }
   ],
   "source": [
    "train_iterations(n_iters=50000, print_every=20000, teacher_forcing_ratio=0, lr=0.001)"
   ]
  },
  {
   "cell_type": "code",
   "execution_count": 436,
   "metadata": {},
   "outputs": [
    {
     "name": "stdout",
     "output_type": "stream",
     "text": [
      "Saving: data/models/numbers_gen_1_rnn_690000\n",
      "700000  40% (   4m 2s)   0.160   |   0.01: 95.3 ->  ninety five point three <EOS> (ninety five point three)\n",
      "Saving: data/models/numbers_gen_1_rnn_700000\n",
      "Saving: data/models/numbers_gen_1_rnn_710000\n",
      "720000  80% (  7m 58s)   0.122   |   0.00: 3 ->  three <EOS> (three)\n",
      "Saving: data/models/numbers_gen_1_rnn_720000\n",
      "Saving: data/models/numbers_gen_1_rnn_730000\n",
      "Accuracy: 89.26% (    8926/   10000)\n"
     ]
    }
   ],
   "source": [
    "train_iterations(n_iters=50000, print_every=20000, teacher_forcing_ratio=0, lr=0.0001)"
   ]
  },
  {
   "cell_type": "code",
   "execution_count": 438,
   "metadata": {},
   "outputs": [
    {
     "name": "stdout",
     "output_type": "stream",
     "text": [
      "Saving: data/models/numbers_gen_1_rnn_740000\n",
      "750000  40% (  3m 59s)   0.135   |   0.00: 8.5% ->  eight point five percent <EOS> (eight point five percent)\n",
      "Saving: data/models/numbers_gen_1_rnn_750000\n",
      "Saving: data/models/numbers_gen_1_rnn_760000\n",
      "770000  80% (  7m 57s)   0.135   |   0.00: 10.4 ->  ten point four <EOS> (ten point four)\n",
      "Saving: data/models/numbers_gen_1_rnn_770000\n",
      "Saving: data/models/numbers_gen_1_rnn_780000\n",
      "Accuracy: 90.05% (    9005/   10000)\n"
     ]
    }
   ],
   "source": [
    "train_iterations(n_iters=50000, print_every=20000, teacher_forcing_ratio=0, lr=0.0001)"
   ]
  },
  {
   "cell_type": "code",
   "execution_count": 439,
   "metadata": {},
   "outputs": [
    {
     "name": "stdout",
     "output_type": "stream",
     "text": [
      "Saving: data/models/numbers_gen_1_rnn_790000\n",
      "800000  40% (   4m 1s)   0.137   |   1.46: $640 b ->  six hundred forty pounds <EOS> (six hundred forty billion dollars)\n",
      "Saving: data/models/numbers_gen_1_rnn_800000\n",
      "Saving: data/models/numbers_gen_1_rnn_810000\n",
      "820000  80% (   8m 9s)   0.087   |   0.00: £100,000 ->  one hundred thousand pounds <EOS> (one hundred thousand pounds)\n",
      "Saving: data/models/numbers_gen_1_rnn_820000\n",
      "Saving: data/models/numbers_gen_1_rnn_830000\n",
      "Accuracy: 90.85% (    9085/   10000)\n"
     ]
    }
   ],
   "source": [
    "train_iterations(n_iters=50000, print_every=20000, teacher_forcing_ratio=0, lr=0.0001)"
   ]
  },
  {
   "cell_type": "code",
   "execution_count": 440,
   "metadata": {},
   "outputs": [
    {
     "name": "stdout",
     "output_type": "stream",
     "text": [
      "Saving: data/models/numbers_gen_1_rnn_840000\n",
      "850000  40% (  3m 54s)   0.109   |   1.48: I ->  the first (one)\n",
      "Saving: data/models/numbers_gen_1_rnn_850000\n",
      "Saving: data/models/numbers_gen_1_rnn_860000\n",
      "870000  80% (   8m 0s)   0.135   |   0.00: 1/3 ->  one third <EOS> (one third)\n",
      "Saving: data/models/numbers_gen_1_rnn_870000\n",
      "Saving: data/models/numbers_gen_1_rnn_880000\n",
      "Accuracy: 90.84% (    9084/   10000)\n"
     ]
    }
   ],
   "source": [
    "train_iterations(n_iters=50000, print_every=20000, teacher_forcing_ratio=0, lr=0.0001)"
   ]
  },
  {
   "cell_type": "markdown",
   "metadata": {},
   "source": [
    "# Accuracy"
   ]
  },
  {
   "cell_type": "code",
   "execution_count": 405,
   "metadata": {},
   "outputs": [
    {
     "data": {
      "text/plain": [
       "'twelfth'"
      ]
     },
     "execution_count": 405,
     "metadata": {},
     "output_type": "execute_result"
    }
   ],
   "source": [
    "def evaluate(encoder, decoder, s_bef, s_sentence, max_length=20):\n",
    "    encoder.eval()\n",
    "    decoder.eval()\n",
    "    s_word_vs = sentence_word_vectorize(s_sentence)\n",
    "    s_bef_string = string_to_tensor(s_bef, include_eos=True)\n",
    "\n",
    "    encoder_output = encoder(Variable(torch.from_numpy(s_word_vs)).cuda(), Variable(s_bef_string).cuda())\n",
    "    encoder_output = encoder_output.view(1,1,-1)\n",
    "    \n",
    "    decoder_hidden = encoder_output\n",
    "    decoder_input = number_words_onehot_sos\n",
    "\n",
    "    decoded_output = []\n",
    "    for _ in range(max_length):\n",
    "        decoder_output, decoder_hidden = decoder(decoder_input, decoder_hidden)\n",
    "\n",
    "        topv, topi = decoder_output.data.topk(1)\n",
    "        word_index = topi[0][0]\n",
    "        word = number_words[word_index] # Use own prediction as next input\n",
    "                \n",
    "        if word == '<EOS>':\n",
    "            break\n",
    "\n",
    "        decoded_output.append(word)\n",
    "        \n",
    "        decoder_input = number_words_onehot([word], include_eos=False)\n",
    "        decoder_input = Variable(torch.from_numpy(decoder_input)).cuda()\n",
    "\n",
    "    return ' '.join(decoded_output)\n",
    "\n",
    "evaluate(encoder_rnn, decoder_rnn, '12th', 'he was <SAMPLE>')"
   ]
  },
  {
   "cell_type": "code",
   "execution_count": 432,
   "metadata": {},
   "outputs": [
    {
     "name": "stdout",
     "output_type": "stream",
     "text": [
      "2000-07-02           ---> the twenty of july two thousand seven \n",
      "                       != the second of july two thousand\n",
      "1998-                ---> nineteen nine eight eight \n",
      "                       != one nine nine eight\n",
      "Accuracy: 80.00% (       8/      10)\n"
     ]
    }
   ],
   "source": [
    "def test_model_accuracy(n_sample=10000, print_wrongs=False):\n",
    "    balanced_data_randomize()\n",
    "    n_correct = 0\n",
    "    for iteration in range(n_sample):\n",
    "        s_bef, s_aft, s_class, s_sentence = get_random_sample()\n",
    "        output = evaluate(encoder_rnn, decoder_rnn, s_bef, s_sentence)\n",
    "        if s_aft == output:\n",
    "            n_correct += 1\n",
    "        else:\n",
    "            if print_wrongs:\n",
    "                print(\"{:<20} ---> {} \\n{:<22} != {}\".format(s_bef, output, '', s_aft))\n",
    "                \n",
    "\n",
    "    print(\"Accuracy: {:>4.2%} ({:>8d}/{:>8d})\".format(\n",
    "            n_correct/n_sample, n_correct, n_sample))\n",
    "\n",
    "test_model_accuracy(10, print_wrongs=True)"
   ]
  },
  {
   "cell_type": "code",
   "execution_count": 437,
   "metadata": {},
   "outputs": [
    {
     "name": "stdout",
     "output_type": "stream",
     "text": [
      "91-85884-52-9        ---> nine one sil eight five eight five five sil five five sil nine \n",
      "                       != nine one sil eight five eight eight four sil five two sil nine\n",
      "US 420               ---> s r two forty \n",
      "                       != u s four twenty\n",
      "1930                 ---> nineteen thirty \n",
      "                       != one nine three o\n",
      "2001-08-24           ---> the twenty fourth of april two thousand \n",
      "                       != the twenty fourth of august two thousand one\n",
      "1998                 ---> nineteen thousand nine hundred ninety eight \n",
      "                       != one thousand nine hundred ninety eight\n",
      "0066 - EN            ---> o o six six sil \n",
      "                       != o o six six sil en\n",
      "0000 UTC             ---> o o o o u u c \n",
      "                       != o o o o sil u t c\n",
      "Accuracy: 93.00% (      93/     100)\n"
     ]
    }
   ],
   "source": [
    "test_model_accuracy(100, print_wrongs=True)"
   ]
  },
  {
   "cell_type": "markdown",
   "metadata": {},
   "source": [
    "# Saving the model"
   ]
  },
  {
   "cell_type": "code",
   "execution_count": 385,
   "metadata": {
    "collapsed": true
   },
   "outputs": [],
   "source": [
    "def save_model():\n",
    "    saved_model_path = 'data/models/numbers_gen_1_rnn_' + str(model_train_iterations)\n",
    "    print(\"Saving:\", saved_model_path)\n",
    "    torch.save(decoder_rnn.state_dict(), saved_model_path+'_decoder')\n",
    "    torch.save(encoder_rnn.state_dict(), saved_model_path+'_encoder')"
   ]
  },
  {
   "cell_type": "code",
   "execution_count": 449,
   "metadata": {},
   "outputs": [
    {
     "data": {
      "text/plain": [
       "[<matplotlib.lines.Line2D at 0x7f147bc59e48>]"
      ]
     },
     "execution_count": 449,
     "metadata": {},
     "output_type": "execute_result"
    },
    {
     "data": {
      "image/png": "[encoded data removed]",
      "text/plain": [
       "<matplotlib.figure.Figure at 0x7f147bdcb630>"
      ]
     },
     "metadata": {},
     "output_type": "display_data"
    }
   ],
   "source": [
    "plt.figure()\n",
    "plt.plot(np.array(model_train_history)[:, 0][50:])"
   ]
  },
  {
   "cell_type": "code",
   "execution_count": null,
   "metadata": {
    "collapsed": true
   },
   "outputs": [],
   "source": []
  }
 ],
 "metadata": {
  "anaconda-cloud": {},
  "kernelspec": {
   "display_name": "Python [conda env:py3_pytorch_2]",
   "language": "python",
   "name": "conda-env-py3_pytorch_2-py"
  },
  "language_info": {
   "codemirror_mode": {
    "name": "ipython",
    "version": 3
   },
   "file_extension": ".py",
   "mimetype": "text/x-python",
   "name": "python",
   "nbconvert_exporter": "python",
   "pygments_lexer": "ipython3",
   "version": "3.6.1"
  }
 },
 "nbformat": 4,
 "nbformat_minor": 2
}
