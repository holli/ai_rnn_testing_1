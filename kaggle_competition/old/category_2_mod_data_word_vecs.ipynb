{
 "cells": [
  {
   "cell_type": "markdown",
   "metadata": {},
   "source": [
    "# HERE WAS A PROBLEM WITH SAMPLE LOADING"
   ]
  },
  {
   "cell_type": "markdown",
   "metadata": {},
   "source": [
    "**word vectors had words changed to sample quite often by mistake**"
   ]
  },
  {
   "cell_type": "markdown",
   "metadata": {},
   "source": [
    "# HERE WAS A PROBLEM WITH SAMPLE LOADING, DO NOT USE"
   ]
  },
  {
   "cell_type": "markdown",
   "metadata": {},
   "source": [
    "# HERE WAS A PROBLEM WITH SAMPLE LOADING, DO NOT USE"
   ]
  },
  {
   "cell_type": "code",
   "execution_count": null,
   "metadata": {
    "collapsed": true
   },
   "outputs": [],
   "source": []
  },
  {
   "cell_type": "code",
   "execution_count": 1,
   "metadata": {},
   "outputs": [
    {
     "name": "stdout",
     "output_type": "stream",
     "text": [
      "Pytorch utils oh: pytorch_utils_oh_1.py\n",
      "Pytorch: 0.2.0_4\n"
     ]
    }
   ],
   "source": [
    "%matplotlib inline\n",
    "import importlib\n",
    "from pytorch_utils_oh_1 import *"
   ]
  },
  {
   "cell_type": "code",
   "execution_count": null,
   "metadata": {
    "collapsed": true
   },
   "outputs": [],
   "source": []
  },
  {
   "cell_type": "code",
   "execution_count": 2,
   "metadata": {
    "collapsed": true
   },
   "outputs": [],
   "source": [
    "MODEL_SAVE_PATH = 'category_2_mod_data_word_vecs'"
   ]
  },
  {
   "cell_type": "code",
   "execution_count": null,
   "metadata": {
    "collapsed": true
   },
   "outputs": [],
   "source": []
  },
  {
   "cell_type": "code",
   "execution_count": 38,
   "metadata": {},
   "outputs": [
    {
     "name": "stdout",
     "output_type": "stream",
     "text": [
      "Pytorch utils oh: pytorch_utils_oh_1.py\n",
      "Pytorch: 0.2.0_4\n"
     ]
    }
   ],
   "source": [
    "import pytorch_utils_oh_1; importlib.reload(pytorch_utils_oh_1); from pytorch_utils_oh_1 import *;"
   ]
  },
  {
   "cell_type": "markdown",
   "metadata": {},
   "source": [
    "# Data loading"
   ]
  },
  {
   "cell_type": "code",
   "execution_count": 4,
   "metadata": {},
   "outputs": [],
   "source": [
    "all_data = pickle.load(open(\"data/en_train_not_changed_1.pkl\", \"rb\" ))\n",
    "all_data_sentence_index = all_data.set_index('sentence_id')"
   ]
  },
  {
   "cell_type": "code",
   "execution_count": 5,
   "metadata": {},
   "outputs": [
    {
     "data": {
      "text/html": [
       "<div>\n",
       "<style>\n",
       "    .dataframe thead tr:only-child th {\n",
       "        text-align: right;\n",
       "    }\n",
       "\n",
       "    .dataframe thead th {\n",
       "        text-align: left;\n",
       "    }\n",
       "\n",
       "    .dataframe tbody tr th {\n",
       "        vertical-align: top;\n",
       "    }\n",
       "</style>\n",
       "<table border=\"1\" class=\"dataframe\">\n",
       "  <thead>\n",
       "    <tr style=\"text-align: right;\">\n",
       "      <th></th>\n",
       "      <th>sentence_id</th>\n",
       "      <th>token_id</th>\n",
       "      <th>class</th>\n",
       "      <th>before</th>\n",
       "      <th>after</th>\n",
       "    </tr>\n",
       "  </thead>\n",
       "  <tbody>\n",
       "    <tr>\n",
       "      <th>4832931</th>\n",
       "      <td>369780</td>\n",
       "      <td>13</td>\n",
       "      <td>NOT_CHANGED</td>\n",
       "      <td>on</td>\n",
       "      <td>on</td>\n",
       "    </tr>\n",
       "    <tr>\n",
       "      <th>6057854</th>\n",
       "      <td>461517</td>\n",
       "      <td>3</td>\n",
       "      <td>NOT_CHANGED</td>\n",
       "      <td>was</td>\n",
       "      <td>was</td>\n",
       "    </tr>\n",
       "    <tr>\n",
       "      <th>3008411</th>\n",
       "      <td>232431</td>\n",
       "      <td>2</td>\n",
       "      <td>NOT_CHANGED</td>\n",
       "      <td>Olga</td>\n",
       "      <td>Olga</td>\n",
       "    </tr>\n",
       "    <tr>\n",
       "      <th>1189637</th>\n",
       "      <td>93851</td>\n",
       "      <td>9</td>\n",
       "      <td>NOT_CHANGED</td>\n",
       "      <td>in</td>\n",
       "      <td>in</td>\n",
       "    </tr>\n",
       "    <tr>\n",
       "      <th>1659951</th>\n",
       "      <td>129912</td>\n",
       "      <td>7</td>\n",
       "      <td>ELECTRONIC</td>\n",
       "      <td>whitney.orgGeorgina</td>\n",
       "      <td>w h i t n e y dot o r g g e o r g i n a</td>\n",
       "    </tr>\n",
       "  </tbody>\n",
       "</table>\n",
       "</div>"
      ],
      "text/plain": [
       "         sentence_id  token_id        class               before  \\\n",
       "4832931       369780        13  NOT_CHANGED                   on   \n",
       "6057854       461517         3  NOT_CHANGED                  was   \n",
       "3008411       232431         2  NOT_CHANGED                 Olga   \n",
       "1189637        93851         9  NOT_CHANGED                   in   \n",
       "1659951       129912         7   ELECTRONIC  whitney.orgGeorgina   \n",
       "\n",
       "                                           after  \n",
       "4832931                                       on  \n",
       "6057854                                      was  \n",
       "3008411                                     Olga  \n",
       "1189637                                       in  \n",
       "1659951  w h i t n e y dot o r g g e o r g i n a  "
      ]
     },
     "execution_count": 5,
     "metadata": {},
     "output_type": "execute_result"
    }
   ],
   "source": [
    "all_data.sample(5)"
   ]
  },
  {
   "cell_type": "code",
   "execution_count": 6,
   "metadata": {},
   "outputs": [
    {
     "name": "stdout",
     "output_type": "stream",
     "text": [
      "['NOT_CHANGED' 'NUMBERS' 'LETTERS' 'PLAIN' 'VERBATIM' 'ELECTRONIC']\n",
      "6\n"
     ]
    }
   ],
   "source": [
    "categories_all = all_data[\"class\"].unique()\n",
    "print(categories_all)\n",
    "print(len(categories_all))\n",
    "categories_index = dict((c, i) for i, c in enumerate(categories_all))"
   ]
  },
  {
   "cell_type": "markdown",
   "metadata": {},
   "source": [
    "### More balanced sample"
   ]
  },
  {
   "cell_type": "code",
   "execution_count": 7,
   "metadata": {},
   "outputs": [
    {
     "data": {
      "text/plain": [
       "class\n",
       "ELECTRONIC        4964\n",
       "LETTERS         144364\n",
       "NOT_CHANGED    9218584\n",
       "NUMBERS         448151\n",
       "PLAIN            36472\n",
       "VERBATIM         65855\n",
       "Name: class, dtype: int64"
      ]
     },
     "execution_count": 7,
     "metadata": {},
     "output_type": "execute_result"
    }
   ],
   "source": [
    "all_data.groupby(\"class\")[\"class\"].count()"
   ]
  },
  {
   "cell_type": "code",
   "execution_count": 8,
   "metadata": {
    "collapsed": true
   },
   "outputs": [],
   "source": [
    "balanced_data_classes_select = list(all_data.groupby('class'))\n",
    "def balanced_data_randomize(max_len=20000):\n",
    "    global balanced_data\n",
    "    balanced_data = pd.concat([v.sample(min(max_len, len(v))) for k, v in balanced_data_classes_select])\n",
    "balanced_data_randomize()"
   ]
  },
  {
   "cell_type": "code",
   "execution_count": 9,
   "metadata": {},
   "outputs": [
    {
     "data": {
      "text/plain": [
       "class\n",
       "ELECTRONIC      4964\n",
       "LETTERS        20000\n",
       "NOT_CHANGED    20000\n",
       "NUMBERS        20000\n",
       "PLAIN          20000\n",
       "VERBATIM       20000\n",
       "Name: class, dtype: int64"
      ]
     },
     "execution_count": 9,
     "metadata": {},
     "output_type": "execute_result"
    }
   ],
   "source": [
    "balanced_data.groupby(\"class\")[\"class\"].count()"
   ]
  },
  {
   "cell_type": "markdown",
   "metadata": {},
   "source": [
    "### Letters all"
   ]
  },
  {
   "cell_type": "code",
   "execution_count": 10,
   "metadata": {},
   "outputs": [
    {
     "name": "stdout",
     "output_type": "stream",
     "text": [
      "<EOS><SOS> !\"#$%&'()+,-./0123456789:;?ABCDEFGHIJKLMNOPQRSTUVWXYZ[]_abcdefghijklmnopqrstuvwxyz|~¡£¥ª«²³µº»¼½¾¿éɒʻˈΩμ—€⅓⅔⅛⅝⅞☒\n",
      "115\n"
     ]
    }
   ],
   "source": [
    "tmp = sorted(list(set(''.join(all_data['before']))))\n",
    "characters_all = ['<EOS>', '<SOS>'] + sorted(list(set(tmp)))\n",
    "characters_all_index = dict((c, i) for i, c in enumerate(characters_all))\n",
    "print(''.join(characters_all))\n",
    "print(len(characters_all))"
   ]
  },
  {
   "cell_type": "markdown",
   "metadata": {},
   "source": [
    "### Word vectors"
   ]
  },
  {
   "cell_type": "code",
   "execution_count": 11,
   "metadata": {
    "collapsed": true
   },
   "outputs": [],
   "source": [
    "wv_vecs, wv_words, wv_idx = load_glove('/home/ohu/koodi/data/glove_wordvec/glove.6B.50d.txt')"
   ]
  },
  {
   "cell_type": "code",
   "execution_count": null,
   "metadata": {
    "collapsed": true
   },
   "outputs": [],
   "source": []
  },
  {
   "cell_type": "markdown",
   "metadata": {},
   "source": [
    "# Samples"
   ]
  },
  {
   "cell_type": "code",
   "execution_count": 12,
   "metadata": {},
   "outputs": [
    {
     "name": "stdout",
     "output_type": "stream",
     "text": [
      "NOT_CHANGED : Michael -> Michael\n",
      "He grew up in a terraced house along with his brother , <SAMPLE> .\n",
      "['He' 'grew' 'up' 'in' 'a' 'terraced' 'house' 'along' 'with' 'his'\n",
      " 'brother' ',' '<SAMPLE>' '.']\n",
      "torch.Size([1, 14, 50])\n",
      "torch.Size([1, 8, 115])\n"
     ]
    }
   ],
   "source": [
    "def get_random_sample():\n",
    "    sample_row = balanced_data.iloc[random.randint(1, len(balanced_data)-1)]\n",
    "    sentence_id = sample_row['class']\n",
    "\n",
    "    rows = all_data_sentence_index.loc[sample_row['sentence_id']]\n",
    "    befores = rows.before.values\n",
    "        \n",
    "    token_id_idx = list(rows['token_id']).index(sample_row['token_id'])\n",
    "    befores[token_id_idx] = SAMPLE_WORD_TOKEN\n",
    "\n",
    "    return sample_row['before'], sample_row['after'], sample_row['class'], befores\n",
    "            \n",
    "def tmp():\n",
    "    s_bef, s_aft, s_class, s_sentence = get_random_sample()\n",
    "    print(s_class, ':', s_bef, '->', s_aft)\n",
    "    print(' '.join(s_sentence))\n",
    "    print(s_sentence)\n",
    "    print(words_to_word_vectors_tensor(list(s_sentence), wv_vecs, wv_idx).shape)\n",
    "    print(string_to_tensor(s_bef, characters_all_index).shape)\n",
    "tmp()"
   ]
  },
  {
   "cell_type": "markdown",
   "metadata": {},
   "source": [
    "# Model"
   ]
  },
  {
   "cell_type": "code",
   "execution_count": 13,
   "metadata": {
    "collapsed": true
   },
   "outputs": [],
   "source": [
    "class CategorizeRNN(nn.Module):\n",
    "    def __init__(self, output_size, words_input_size, chars_input_size, words_hidden_size, chars_hidden_size,\n",
    "                 words_layers=1, chars_layers=1):\n",
    "        super(CategorizeRNN, self).__init__()\n",
    "        \n",
    "        self.words_layers = words_layers\n",
    "        self.chars_layers = chars_layers\n",
    "        self.words_hidden_size = words_hidden_size\n",
    "        self.chars_hidden_size = chars_hidden_size\n",
    "\n",
    "        self.rnn_words = nn.LSTM(words_input_size, words_hidden_size // 2, words_layers,\n",
    "                                 batch_first=True, bidirectional=True)\n",
    "\n",
    "        self.rnn_chars = nn.LSTM(chars_input_size, chars_hidden_size // 2, chars_layers,\n",
    "                                batch_first=True, bidirectional=True)\n",
    "        \n",
    "        self.lin_output = nn.Linear(words_hidden_size+chars_hidden_size, output_size)\n",
    "        \n",
    "    def forward(self, words_tensor, string_tensor, init_hidden = True):\n",
    "        if init_hidden:\n",
    "            hidden_words, hidden_chars = self.init_hidden()\n",
    "        \n",
    "        all_outputs_words, hidden_words = self.rnn_words(words_tensor, hidden_words)\n",
    "        output_words = all_outputs_words[:, -1]\n",
    "        \n",
    "        all_outputs_chars, hidden_chars = self.rnn_chars(string_tensor, hidden_chars)\n",
    "        output_chars = all_outputs_chars[:, -1]\n",
    "        \n",
    "        output = torch.cat((output_words, output_chars), 1)\n",
    "        \n",
    "        #output = self.lin_1(output)\n",
    "        output = self.lin_output(output)\n",
    "        output = F.log_softmax(output)\n",
    "        \n",
    "        return output\n",
    "\n",
    "    def init_hidden(self):\n",
    "        var1_1 = Variable(torch.zeros(2 * self.words_layers, 1, self.words_hidden_size // 2))\n",
    "        var1_2 = Variable(torch.zeros(2 * self.words_layers, 1, self.words_hidden_size // 2))\n",
    "        var2_1 = Variable(torch.zeros(2 * self.chars_layers, 1, self.chars_hidden_size // 2))\n",
    "        var2_2 = Variable(torch.zeros(2 * self.chars_layers, 1, self.chars_hidden_size // 2))\n",
    "        var1_1 = var1_1.cuda(); var1_2 = var1_2.cuda()\n",
    "        var2_1 = var2_1.cuda(); var2_2 = var2_2.cuda()\n",
    "        return ((var1_1, var1_2), (var2_1, var2_2))"
   ]
  },
  {
   "cell_type": "code",
   "execution_count": 14,
   "metadata": {},
   "outputs": [
    {
     "name": "stdout",
     "output_type": "stream",
     "text": [
      "Save path: data/models/category_2_mod_data_word_vecs\n"
     ]
    },
    {
     "data": {
      "text/plain": [
       "CategorizeRNN (\n",
       "  (rnn_words): LSTM(50, 64, batch_first=True, bidirectional=True)\n",
       "  (rnn_chars): LSTM(115, 64, batch_first=True, bidirectional=True)\n",
       "  (lin_output): Linear (256 -> 6)\n",
       ")"
      ]
     },
     "execution_count": 14,
     "metadata": {},
     "output_type": "execute_result"
    }
   ],
   "source": [
    "model = CategorizeRNN(len(categories_all), \n",
    "                      words_input_size=wv_vecs.shape[-1], chars_input_size=len(characters_all),\n",
    "                      words_hidden_size=128, chars_hidden_size=128,\n",
    "                      words_layers=1, chars_layers=1)\n",
    "model = model.cuda()\n",
    "\n",
    "model_training = ModelTraining(MODEL_SAVE_PATH, [model])\n",
    "\n",
    "model"
   ]
  },
  {
   "cell_type": "code",
   "execution_count": 15,
   "metadata": {
    "collapsed": true
   },
   "outputs": [],
   "source": [
    "models_save_path = 'category_2_word_vecs'"
   ]
  },
  {
   "cell_type": "code",
   "execution_count": 16,
   "metadata": {},
   "outputs": [
    {
     "name": "stdout",
     "output_type": "stream",
     "text": [
      "Save path: data/models/category_2_word_vecs\n"
     ]
    }
   ],
   "source": [
    "model_training = ModelTraining(models_save_path, [model])"
   ]
  },
  {
   "cell_type": "markdown",
   "metadata": {},
   "source": [
    "### Accuracy"
   ]
  },
  {
   "cell_type": "code",
   "execution_count": 22,
   "metadata": {},
   "outputs": [
    {
     "data": {
      "text/plain": [
       "(Variable containing:\n",
       " -1.7417 -1.8090 -1.8414 -1.7969 -1.7989 -1.7658\n",
       " [torch.cuda.FloatTensor of size 1x6 (GPU 0)],\n",
       " ('NOT_CHANGED', 0),\n",
       " ('VERBATIM', 4))"
      ]
     },
     "execution_count": 22,
     "metadata": {},
     "output_type": "execute_result"
    }
   ],
   "source": [
    "def test_model_single_sample(model):\n",
    "    s_bef, s_aft, s_class, s_sentence = get_random_sample()\n",
    "    words_t = words_to_word_vectors_tensor(list(s_sentence), wv_vecs, wv_idx)\n",
    "    string_t = string_to_tensor(s_bef, characters_all_index)\n",
    "    \n",
    "    words_t = Variable(words_t).cuda()\n",
    "    string_t = Variable(string_t).cuda()\n",
    "    \n",
    "    output = model(words_t, string_t)\n",
    "    guess = category_from_output(output, categories_all)\n",
    "    return output, guess, (s_class, categories_index[s_class])\n",
    "    \n",
    "tmp = test_model_single_sample(model)\n",
    "tmp"
   ]
  },
  {
   "cell_type": "code",
   "execution_count": 23,
   "metadata": {},
   "outputs": [
    {
     "name": "stdout",
     "output_type": "stream",
     "text": [
      "Accuracy: 17.28% (    1728/   10000)\n",
      "CPU times: user 28 s, sys: 960 ms, total: 29 s\n",
      "Wall time: 27.8 s\n"
     ]
    },
    {
     "data": {
      "text/plain": [
       "0.1728"
      ]
     },
     "execution_count": 23,
     "metadata": {},
     "output_type": "execute_result"
    }
   ],
   "source": [
    "%%time\n",
    "test_model_accuracy(model, test_model_single_sample)"
   ]
  },
  {
   "cell_type": "markdown",
   "metadata": {},
   "source": [
    "### Training"
   ]
  },
  {
   "cell_type": "code",
   "execution_count": 24,
   "metadata": {
    "collapsed": true
   },
   "outputs": [],
   "source": [
    "def train(model, s_category, s_sentence, s_bef, loss_function, optimizer):\n",
    "    \n",
    "    category_tensor = Variable(torch.LongTensor([categories_index[s_category]])).cuda()\n",
    "    \n",
    "    words_t = words_to_word_vectors_tensor(list(s_sentence), wv_vecs, wv_idx)\n",
    "    string_t = string_to_tensor(s_bef, characters_all_index)\n",
    "\n",
    "    words_t = Variable(words_t).cuda()\n",
    "    string_t = Variable(string_t).cuda()\n",
    "    \n",
    "    output = model(words_t, string_t)\n",
    "    loss = loss_function(output, category_tensor)\n",
    "    optimizer.zero_grad()\n",
    "    loss.backward()\n",
    "    optimizer.step()\n",
    "    \n",
    "    return output, loss.data[0]"
   ]
  },
  {
   "cell_type": "code",
   "execution_count": 25,
   "metadata": {
    "collapsed": true
   },
   "outputs": [],
   "source": [
    "def train_iterations(n_iters=100000, lr=0.001, print_every=10000, plot_every=1000):\n",
    "\n",
    "    start = time.time()\n",
    "    model.train()\n",
    "\n",
    "    current_loss = 0\n",
    "    current_loss_iter = 0\n",
    "\n",
    "    optimizer = torch.optim.Adam(model.parameters(), lr=lr)\n",
    "    loss_function = nn.NLLLoss()\n",
    "    \n",
    "    for iteration in range(1, n_iters + 1):\n",
    "        model_training.iterations += 1\n",
    "        \n",
    "        s_bef, s_aft, s_class, s_sentence = get_random_sample()\n",
    "        \n",
    "        result, loss = train(model=model, s_category=s_class, s_sentence=s_sentence,\n",
    "                             s_bef=s_bef, optimizer=optimizer, loss_function=loss_function)\n",
    "\n",
    "        current_loss += loss\n",
    "        current_loss_iter += 1\n",
    "\n",
    "        # Print iter number, loss, name and guess\n",
    "        if iteration % print_every == 0:\n",
    "            guess, guess_i = category_from_output(result, categories_all)\n",
    "            correct = '✓' if guess == s_class else \"✗ {}\".format(s_class)\n",
    "            print(\"{:>6d} {:>4.0%} ({:>8}) {:>7.3f}   | {:>6.2f}: {} -> {} ({})\".format(\n",
    "                      model_training.iterations, iteration/n_iters, time_since(start),\n",
    "                      current_loss/current_loss_iter, loss,\n",
    "                      s_bef, guess, correct))\n",
    "\n",
    "        # Add current loss avg to list of losses\n",
    "        if iteration % plot_every == 0:\n",
    "            model_training.losses.append(current_loss / plot_every)\n",
    "            model_training.learning_rates.append(lr)\n",
    "            current_loss = 0\n",
    "            current_loss_iter = 0\n",
    "            \n",
    "        if model_training.iterations % 10000 == 0 or model_training.iterations == 10:\n",
    "            balanced_data_randomize()\n",
    "            \n",
    "        if model_training.iterations % 50000 == 0 or model_training.iterations == 10:\n",
    "            model_training.save_models()\n",
    "            acc = test_model_accuracy(model, test_model_single_sample)\n",
    "            model.train()\n",
    "            model_training.accuracy.append(acc)\n",
    "    \n",
    "    # test_model_accuracy(model, n_sample=10000)"
   ]
  },
  {
   "cell_type": "code",
   "execution_count": 26,
   "metadata": {
    "scrolled": true
   },
   "outputs": [
    {
     "name": "stdout",
     "output_type": "stream",
     "text": [
      "    19  18% (   0m 0s)   1.816   |   1.84: DJs -> NOT_CHANGED (✗ LETTERS)\n",
      "    28  36% (   0m 0s)   1.798   |   1.84: CVS -> NOT_CHANGED (✗ LETTERS)\n",
      "    37  54% (   0m 0s)   1.797   |   1.80: 3.86 -> NOT_CHANGED (✗ NUMBERS)\n",
      "    46  72% (   0m 0s)   1.802   |   1.83: enfranchised -> NOT_CHANGED (✗ PLAIN)\n",
      "    55  90% (   0m 0s)   1.802   |   1.83: - -> NOT_CHANGED (✗ PLAIN)\n"
     ]
    }
   ],
   "source": [
    "train_iterations(n_iters=50, print_every=9, lr=0.0001)"
   ]
  },
  {
   "cell_type": "code",
   "execution_count": 27,
   "metadata": {},
   "outputs": [
    {
     "name": "stdout",
     "output_type": "stream",
     "text": [
      "   560  53% (   0m 3s)   1.744   |   1.83: CDL -> NOT_CHANGED (✗ LETTERS)\n"
     ]
    }
   ],
   "source": [
    "train_iterations(n_iters=(1000-model_training.iterations), print_every=500, lr=0.0001)"
   ]
  },
  {
   "cell_type": "code",
   "execution_count": 28,
   "metadata": {},
   "outputs": [
    {
     "name": "stdout",
     "output_type": "stream",
     "text": [
      "  2000  10% (   0m 7s)   1.516   |   2.89: CpGs -> NOT_CHANGED (✗ VERBATIM)\n",
      "  3000  20% (  0m 13s)   1.247   |   0.50: 1950 -> NUMBERS (✓)\n",
      "  4000  30% (  0m 20s)   1.048   |   0.26: 1857 -> NUMBERS (✓)\n",
      "  5000  40% (  0m 27s)   0.914   |   0.65: single -> NOT_CHANGED (✓)\n",
      "  6000  50% (  0m 33s)   0.827   |   0.81: Laughing -> NOT_CHANGED (✓)\n",
      "  7000  60% (  0m 40s)   0.809   |   1.86: Capturing -> PLAIN (✗ NOT_CHANGED)\n",
      "  8000  70% (  0m 46s)   0.764   |   1.64: cand.theol -> PLAIN (✗ ELECTRONIC)\n",
      "  9000  80% (  0m 53s)   0.668   |   0.03: ☒ -> VERBATIM (✓)\n",
      " 10000  90% (   1m 0s)   0.664   |   1.42: of -> PLAIN (✗ NOT_CHANGED)\n",
      " 11000 100% (   1m 7s)   0.606   |   1.22: es -> PLAIN (✗ LETTERS)\n"
     ]
    }
   ],
   "source": [
    "train_iterations(n_iters=10000, lr=0.0001, print_every=1000)"
   ]
  },
  {
   "cell_type": "code",
   "execution_count": 29,
   "metadata": {},
   "outputs": [
    {
     "name": "stdout",
     "output_type": "stream",
     "text": [
      " 21000  10% (   1m 6s)   0.270   |   1.15: etc -> NOT_CHANGED (✗ PLAIN)\n",
      " 31000  20% (  2m 13s)   0.156   |   0.00: ☒ -> VERBATIM (✓)\n",
      " 41000  30% (  3m 20s)   0.153   |   0.03: writing -> NOT_CHANGED (✓)\n",
      "Saved model to data/models/category_2_word_vecs/50000_(CategorizeRNN)\n",
      "Accuracy: 96.09% (    9609/   10000)\n",
      " 51000  40% (  4m 52s)   0.135   |   0.03: against -> NOT_CHANGED (✓)\n",
      " 61000  50% (  5m 59s)   0.121   |   0.00: , -> NOT_CHANGED (✓)\n",
      " 71000  60% (   7m 5s)   0.093   |   0.02: Organisation -> PLAIN (✓)\n",
      " 81000  70% (  8m 11s)   0.110   |   0.00: dialogue -> PLAIN (✓)\n",
      " 91000  80% (  9m 17s)   0.097   |   0.00: ☒ -> VERBATIM (✓)\n",
      "Saved model to data/models/category_2_word_vecs/100000_(CategorizeRNN)\n",
      "Accuracy: 97.77% (    9777/   10000)\n",
      "101000  90% ( 10m 52s)   0.076   |   0.00: 1973 -> NUMBERS (✓)\n",
      "111000 100% ( 11m 56s)   0.057   |   0.02: : -> PLAIN (✓)\n"
     ]
    }
   ],
   "source": [
    "train_iterations(n_iters=100000, print_every=10000)"
   ]
  },
  {
   "cell_type": "code",
   "execution_count": 30,
   "metadata": {},
   "outputs": [
    {
     "name": "stdout",
     "output_type": "stream",
     "text": [
      "121000  10% (   1m 8s)   0.047   |   0.00: ☒ -> VERBATIM (✓)\n",
      "131000  20% (  2m 17s)   0.093   |   0.00: ☒ -> VERBATIM (✓)\n",
      "141000  30% (  3m 23s)   0.054   |   0.02: rd -> PLAIN (✓)\n",
      "Saved model to data/models/category_2_word_vecs/150000_(CategorizeRNN)\n",
      "Accuracy: 98.23% (    9823/   10000)\n",
      "151000  40% (  4m 56s)   0.057   |   0.00: PM -> LETTERS (✓)\n",
      "161000  50% (   6m 1s)   0.066   |   0.00: ☒ -> VERBATIM (✓)\n",
      "171000  60% (   7m 6s)   0.050   |   0.00: & -> VERBATIM (✓)\n",
      "181000  70% (  8m 10s)   0.069   |   0.01: SC -> LETTERS (✓)\n",
      "191000  80% (  9m 12s)   0.060   |   0.00: IOC -> LETTERS (✓)\n",
      "Saved model to data/models/category_2_word_vecs/200000_(CategorizeRNN)\n",
      "Accuracy: 98.41% (    9841/   10000)\n",
      "201000  90% ( 10m 38s)   0.064   |   0.00: pp -> VERBATIM (✓)\n",
      "211000 100% ( 11m 39s)   0.048   |   0.00: Gay.com -> ELECTRONIC (✓)\n"
     ]
    }
   ],
   "source": [
    "train_iterations(n_iters=100000, print_every=10000)"
   ]
  },
  {
   "cell_type": "code",
   "execution_count": 37,
   "metadata": {},
   "outputs": [
    {
     "name": "stdout",
     "output_type": "stream",
     "text": [
      "236000   8% (  3m 30s)   0.051   |   0.00: ☒ -> VERBATIM (✓)\n",
      "Saved model to data/models/category_2_word_vecs/250000_(CategorizeRNN)\n",
      "Accuracy: 98.85% (    9885/   10000)\n",
      "261000  17% (  7m 35s)   0.044   |   0.00: D. -> LETTERS (✓)\n",
      "286000  25% (  11m 9s)   0.026   |   0.00: 2009 -> NUMBERS (✓)\n",
      "Saved model to data/models/category_2_word_vecs/300000_(CategorizeRNN)\n",
      "Accuracy: 98.86% (    9886/   10000)\n",
      "311000  33% ( 14m 50s)   0.032   |   0.00: # -> VERBATIM (✓)\n",
      "336000  42% ( 17m 50s)   0.029   |   0.00: jr -> PLAIN (✓)\n",
      "Saved model to data/models/category_2_word_vecs/350000_(CategorizeRNN)\n",
      "Accuracy: 98.95% (    9895/   10000)\n",
      "361000  50% ( 21m 17s)   0.034   |   0.00: dr -> PLAIN (✓)\n",
      "386000  58% ( 24m 17s)   0.038   |   0.00: be -> NOT_CHANGED (✓)\n",
      "Saved model to data/models/category_2_word_vecs/400000_(CategorizeRNN)\n",
      "Accuracy: 98.98% (    9898/   10000)\n",
      "411000  67% ( 27m 51s)   0.029   |   0.00: metres -> PLAIN (✓)\n",
      "436000  75% ( 30m 49s)   0.019   |   0.00: Edge.org -> ELECTRONIC (✓)\n",
      "Saved model to data/models/category_2_word_vecs/450000_(CategorizeRNN)\n",
      "Accuracy: 98.92% (    9892/   10000)\n",
      "461000  83% ( 34m 15s)   0.029   |   0.00: UK -> LETTERS (✓)\n",
      "486000  92% ( 37m 10s)   0.037   |   0.00: metres -> PLAIN (✓)\n",
      "Saved model to data/models/category_2_word_vecs/500000_(CategorizeRNN)\n",
      "Accuracy: 98.78% (    9878/   10000)\n",
      "511000 100% ( 40m 38s)   0.033   |   0.00: of -> NOT_CHANGED (✓)\n"
     ]
    }
   ],
   "source": [
    "train_iterations(n_iters=300000, lr=0.0001, print_every=25000)"
   ]
  },
  {
   "cell_type": "code",
   "execution_count": null,
   "metadata": {
    "collapsed": true
   },
   "outputs": [],
   "source": []
  },
  {
   "cell_type": "markdown",
   "metadata": {},
   "source": [
    "# Results"
   ]
  },
  {
   "cell_type": "code",
   "execution_count": 39,
   "metadata": {},
   "outputs": [
    {
     "data": {
      "text/plain": [
       "[<matplotlib.lines.Line2D at 0x7fa15a5596d8>]"
      ]
     },
     "execution_count": 39,
     "metadata": {},
     "output_type": "execute_result"
    },
    {
     "data": {
      "image/png": "[encoded data removed]",
      "text/plain": [
       "<matplotlib.figure.Figure at 0x7fa15a51c5c0>"
      ]
     },
     "metadata": {},
     "output_type": "display_data"
    }
   ],
   "source": [
    "plt.figure()\n",
    "plt.plot(model_training.losses)"
   ]
  },
  {
   "cell_type": "code",
   "execution_count": 40,
   "metadata": {},
   "outputs": [
    {
     "data": {
      "text/plain": [
       "[<matplotlib.lines.Line2D at 0x7fa15a56ba90>]"
      ]
     },
     "execution_count": 40,
     "metadata": {},
     "output_type": "execute_result"
    },
    {
     "data": {
      "image/png": "[encoded data removed]",
      "text/plain": [
       "<matplotlib.figure.Figure at 0x7fa15a506f28>"
      ]
     },
     "metadata": {},
     "output_type": "display_data"
    }
   ],
   "source": [
    "plt.figure()\n",
    "plt.plot(model_training.accuracy)"
   ]
  },
  {
   "cell_type": "code",
   "execution_count": 41,
   "metadata": {},
   "outputs": [
    {
     "data": {
      "image/png": "[encoded data removed]",
      "text/plain": [
       "<matplotlib.figure.Figure at 0x7fa15a5aa0b8>"
      ]
     },
     "metadata": {},
     "output_type": "display_data"
    },
    {
     "name": "stdout",
     "output_type": "stream",
     "text": [
      "Accuracy: 99.03% (   49513/   50000)\n",
      "CPU times: user 2min 12s, sys: 2.63 s, total: 2min 14s\n",
      "Wall time: 2min 15s\n"
     ]
    }
   ],
   "source": [
    "%%time\n",
    "plot_category_confusion_matrix(model, categories_all, test_model_single_sample, n_confusion=50000)"
   ]
  },
  {
   "cell_type": "code",
   "execution_count": 42,
   "metadata": {},
   "outputs": [
    {
     "data": {
      "image/png": "[encoded data removed]",
      "text/plain": [
       "<matplotlib.figure.Figure at 0x7fa15a5dab38>"
      ]
     },
     "metadata": {},
     "output_type": "display_data"
    },
    {
     "name": "stdout",
     "output_type": "stream",
     "text": [
      "Accuracy: 99.08% (   49539/   50000)\n",
      "CPU times: user 2min 4s, sys: 2.38 s, total: 2min 7s\n",
      "Wall time: 2min 6s\n"
     ]
    }
   ],
   "source": [
    "%%time\n",
    "plot_category_confusion_matrix(model, categories_all, test_model_single_sample,\n",
    "                               n_confusion=50000, remove_diagonal=True)"
   ]
  },
  {
   "cell_type": "code",
   "execution_count": null,
   "metadata": {
    "collapsed": true
   },
   "outputs": [],
   "source": []
  },
  {
   "cell_type": "code",
   "execution_count": null,
   "metadata": {
    "collapsed": true
   },
   "outputs": [],
   "source": []
  }
 ],
 "metadata": {
  "anaconda-cloud": {},
  "kernelspec": {
   "display_name": "Python [conda env:py3_pytorch_2]",
   "language": "python",
   "name": "conda-env-py3_pytorch_2-py"
  },
  "language_info": {
   "codemirror_mode": {
    "name": "ipython",
    "version": 3
   },
   "file_extension": ".py",
   "mimetype": "text/x-python",
   "name": "python",
   "nbconvert_exporter": "python",
   "pygments_lexer": "ipython3",
   "version": "3.6.1"
  }
 },
 "nbformat": 4,
 "nbformat_minor": 2
}
