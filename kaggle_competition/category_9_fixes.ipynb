{
 "cells": [
  {
   "cell_type": "code",
   "execution_count": 1,
   "metadata": {},
   "outputs": [
    {
     "name": "stdout",
     "output_type": "stream",
     "text": [
      "Pytorch utils oh: pytorch_utils_oh_2.py\n",
      "Pytorch: 0.2.0_4\n"
     ]
    }
   ],
   "source": [
    "%matplotlib inline\n",
    "import importlib\n",
    "from pytorch_utils_oh_2 import *"
   ]
  },
  {
   "cell_type": "code",
   "execution_count": 2,
   "metadata": {
    "collapsed": true
   },
   "outputs": [],
   "source": [
    "from IPython.core.interactiveshell import InteractiveShell\n",
    "InteractiveShell.ast_node_interactivity = \"all\""
   ]
  },
  {
   "cell_type": "code",
   "execution_count": 3,
   "metadata": {
    "collapsed": true
   },
   "outputs": [],
   "source": [
    "MODEL_SAVE_PATH = 'category_9_fixes'"
   ]
  },
  {
   "cell_type": "code",
   "execution_count": 4,
   "metadata": {},
   "outputs": [
    {
     "name": "stdout",
     "output_type": "stream",
     "text": [
      "Pytorch utils oh: pytorch_utils_oh_2.py\n",
      "Pytorch: 0.2.0_4\n"
     ]
    }
   ],
   "source": [
    "import pytorch_utils_oh_2; importlib.reload(pytorch_utils_oh_2); from pytorch_utils_oh_2 import *;"
   ]
  },
  {
   "cell_type": "markdown",
   "metadata": {},
   "source": [
    "# Data loading"
   ]
  },
  {
   "cell_type": "code",
   "execution_count": 5,
   "metadata": {
    "collapsed": true
   },
   "outputs": [],
   "source": [
    "all_data = pickle.load(open(\"data/en_train_fixed_5_manual.pkl\", \"rb\" ))\n",
    "sample_data = all_data[all_data['class'] != 'MANUAL']\n",
    "del(all_data)"
   ]
  },
  {
   "cell_type": "code",
   "execution_count": 6,
   "metadata": {},
   "outputs": [
    {
     "name": "stdout",
     "output_type": "stream",
     "text": [
      "['ELECTRONIC', 'LETTERS', 'NOT_CHANGED', 'NUMBERS', 'PLAIN', 'VERBATIM']\n",
      "6\n"
     ]
    }
   ],
   "source": [
    "categories_all = sorted(sample_data[\"class\"].unique())\n",
    "print(categories_all)\n",
    "print(len(categories_all))\n",
    "categories_index = dict((c, i) for i, c in enumerate(categories_all))"
   ]
  },
  {
   "cell_type": "markdown",
   "metadata": {},
   "source": [
    "### Utils stuff"
   ]
  },
  {
   "cell_type": "code",
   "execution_count": 7,
   "metadata": {},
   "outputs": [
    {
     "name": "stdout",
     "output_type": "stream",
     "text": [
      "<SOS><EOS>☒ !\"#$%&'(),-./0123456789:;ABCDEFGHIJKLMNOPQRSTUVWXYZ_abcdefghijklmnopqrstuvwxyz~£¥ª²³µº¼½¾éɒʻˈΩμ—€⅓⅔⅛\n"
     ]
    }
   ],
   "source": [
    "chars_normal, chars_normal_index = load_characters_pkl('data/en_features/chars_normal.pkl')\n",
    "print(''.join(chars_normal))"
   ]
  },
  {
   "cell_type": "code",
   "execution_count": 8,
   "metadata": {},
   "outputs": [
    {
     "data": {
      "text/plain": [
       "8192"
      ]
     },
     "execution_count": 8,
     "metadata": {},
     "output_type": "execute_result"
    },
    {
     "data": {
      "text/plain": [
       "['<EOS>', '<SOS>', '<UNK>', '<0000>', '<SAMPLE>', '.', ',', 'the', '\"', 'of']"
      ]
     },
     "execution_count": 8,
     "metadata": {},
     "output_type": "execute_result"
    }
   ],
   "source": [
    "common_words, common_words_index = load_common_words_10k()\n",
    "len(common_words)\n",
    "common_words[0:10]"
   ]
  },
  {
   "cell_type": "markdown",
   "metadata": {},
   "source": [
    "### More balanced sample"
   ]
  },
  {
   "cell_type": "code",
   "execution_count": 9,
   "metadata": {
    "collapsed": true
   },
   "outputs": [],
   "source": [
    "balanced_data_classes_select = list(sample_data.groupby('class'))\n",
    "\n",
    "balanced_data_accessed_counter = 0 \n",
    "balanced_data_randomize_freq = False\n",
    "balanced_data_length = 0\n",
    "\n",
    "def balanced_data_randomize_org(max_len=20000):\n",
    "    global balanced_data, balanced_data_length, balanced_data_accessed_counter, balanced_data_randomize_freq\n",
    "    balanced_data = pd.concat([v.sample(min(max_len, len(v))) for k, v in balanced_data_classes_select])\n",
    "    balanced_data_length = len(balanced_data)\n",
    "    balanced_data_randomize_freq = balanced_data_length * 0.2\n",
    "    balanced_data_accessed_counter = 0\n",
    "balanced_data_randomize = balanced_data_randomize_org\n",
    "\n",
    "def balanced_data_sample_row():\n",
    "    global balanced_data_accessed_counter\n",
    "    global balanced_data_last_sample\n",
    "    balanced_data_accessed_counter += 1\n",
    "    if balanced_data_randomize_freq and balanced_data_accessed_counter > balanced_data_randomize_freq:\n",
    "        balanced_data_randomize()\n",
    "    balanced_data_last_sample = balanced_data.iloc[random.randint(1, balanced_data_length-1)]\n",
    "    return balanced_data_last_sample\n",
    "    \n",
    "balanced_data_randomize()"
   ]
  },
  {
   "cell_type": "code",
   "execution_count": 10,
   "metadata": {},
   "outputs": [
    {
     "data": {
      "text/plain": [
       "class\n",
       "ELECTRONIC      4964\n",
       "LETTERS        20000\n",
       "NOT_CHANGED    20000\n",
       "NUMBERS        20000\n",
       "PLAIN          20000\n",
       "VERBATIM       11741\n",
       "Name: class, dtype: int64"
      ]
     },
     "execution_count": 10,
     "metadata": {},
     "output_type": "execute_result"
    }
   ],
   "source": [
    "balanced_data.groupby(\"class\")[\"class\"].count()"
   ]
  },
  {
   "cell_type": "markdown",
   "metadata": {},
   "source": [
    "### Samples"
   ]
  },
  {
   "cell_type": "code",
   "execution_count": 11,
   "metadata": {},
   "outputs": [
    {
     "name": "stdout",
     "output_type": "stream",
     "text": [
      "LETTERS : TV -> t v\n",
      "['news', 'is', 'people', ':', 'the', 'rise', 'of', 'local', '<SAMPLE>', 'news', 'and', 'the', 'fall', 'of', 'news', 'from', 'new', 'york', '.']\n",
      "torch.Size([1, 3, 104])\n",
      "torch.Size([1, 20, 8192])\n",
      "['news', 'is', 'people', ':', 'the', 'rise', 'of', 'local', '<SAMPLE>', 'news', 'and', 'the', 'fall', 'of', 'news', 'from', 'new', 'york', '.', '<EOS>']\n"
     ]
    }
   ],
   "source": [
    "def get_random_sample():\n",
    "    sample_row = balanced_data_sample_row()   \n",
    "    return sample_row['before'], sample_row['after'], sample_row['class'], sample_row['sentence'].split(' ')\n",
    "\n",
    "def tmp():\n",
    "    s_bef, s_aft, s_class, s_sentence = get_random_sample()\n",
    "    print(s_class, ':', s_bef, '->', s_aft)\n",
    "    print(s_sentence)\n",
    "    print(string_to_tensor(s_bef, chars_normal_index).shape)\n",
    "    words_t = words_to_tensor(list(s_sentence), common_words_index)\n",
    "    print(words_t.size())\n",
    "    #return words_t[0]\n",
    "    print([common_words[w[0]] for w in words_t[0].topk(1)[1]])\n",
    "    \n",
    "tmp = tmp()"
   ]
  },
  {
   "cell_type": "code",
   "execution_count": null,
   "metadata": {
    "collapsed": true
   },
   "outputs": [],
   "source": []
  },
  {
   "cell_type": "markdown",
   "metadata": {},
   "source": [
    "# Model"
   ]
  },
  {
   "cell_type": "code",
   "execution_count": 12,
   "metadata": {
    "collapsed": true
   },
   "outputs": [],
   "source": [
    "class CategorizeRNN(nn.Module):\n",
    "    def __init__(self, output_size, words_input_size, chars_input_size, words_hidden_size, chars_hidden_size,\n",
    "                 words_dropout=0, chars_dropout=0, words_layers=1, chars_layers=1):\n",
    "        super(CategorizeRNN, self).__init__()\n",
    "        \n",
    "        self.words_layers = words_layers\n",
    "        self.chars_layers = chars_layers\n",
    "        self.words_hidden_size = words_hidden_size\n",
    "        self.chars_hidden_size = chars_hidden_size\n",
    "\n",
    "        self.rnn_words = nn.LSTM(words_input_size, words_hidden_size // 2, words_layers,\n",
    "                                 dropout=words_dropout, batch_first=True, bidirectional=True)\n",
    "\n",
    "        self.rnn_chars = nn.LSTM(chars_input_size, chars_hidden_size // 2, chars_layers,\n",
    "                                 dropout=chars_dropout, batch_first=True, bidirectional=True)\n",
    "        \n",
    "        self.lin_output = nn.Linear(words_hidden_size+chars_hidden_size, output_size)\n",
    "        \n",
    "    def forward(self, words_tensor, string_tensor, init_hidden = True):\n",
    "        if init_hidden:\n",
    "            hidden_words, hidden_chars = self.init_hidden()\n",
    "        \n",
    "        all_outputs_words, hidden_words = self.rnn_words(words_tensor, hidden_words)\n",
    "        output_words = all_outputs_words[:, -1]\n",
    "        \n",
    "        all_outputs_chars, hidden_chars = self.rnn_chars(string_tensor, hidden_chars)\n",
    "        output_chars = all_outputs_chars[:, -1]\n",
    "        \n",
    "        output = torch.cat((output_words, output_chars), 1)\n",
    "        \n",
    "        output = self.lin_output(output)\n",
    "        output = F.log_softmax(output)\n",
    "        \n",
    "        return output\n",
    "\n",
    "    def init_hidden(self):\n",
    "        var1_1 = Variable(torch.zeros(2 * self.words_layers, 1, self.words_hidden_size // 2))\n",
    "        var1_2 = Variable(torch.zeros(2 * self.words_layers, 1, self.words_hidden_size // 2))\n",
    "        var2_1 = Variable(torch.zeros(2 * self.chars_layers, 1, self.chars_hidden_size // 2))\n",
    "        var2_2 = Variable(torch.zeros(2 * self.chars_layers, 1, self.chars_hidden_size // 2))\n",
    "        var1_1 = var1_1.cuda(); var1_2 = var1_2.cuda()\n",
    "        var2_1 = var2_1.cuda(); var2_2 = var2_2.cuda()\n",
    "        return ((var1_1, var1_2), (var2_1, var2_2))"
   ]
  },
  {
   "cell_type": "code",
   "execution_count": 13,
   "metadata": {},
   "outputs": [
    {
     "name": "stdout",
     "output_type": "stream",
     "text": [
      "Save path: data/models/category_9_fixes\n"
     ]
    },
    {
     "data": {
      "text/plain": [
       "CategorizeRNN (\n",
       "  (rnn_words): LSTM(8192, 128, num_layers=2, batch_first=True, dropout=0.2, bidirectional=True)\n",
       "  (rnn_chars): LSTM(104, 192, num_layers=2, batch_first=True, dropout=0.2, bidirectional=True)\n",
       "  (lin_output): Linear (640 -> 6)\n",
       ")"
      ]
     },
     "execution_count": 13,
     "metadata": {},
     "output_type": "execute_result"
    }
   ],
   "source": [
    "model = CategorizeRNN(len(categories_all), \n",
    "                      words_input_size=len(common_words), chars_input_size=len(chars_normal),\n",
    "                      words_hidden_size=256, chars_hidden_size=384,\n",
    "                      words_layers=2, chars_layers=2,\n",
    "                      words_dropout=0.2, chars_dropout=0.2)\n",
    "model = model.cuda()\n",
    "\n",
    "model_training = ModelTraining(MODEL_SAVE_PATH, [model])\n",
    "\n",
    "model"
   ]
  },
  {
   "cell_type": "markdown",
   "metadata": {},
   "source": [
    "### Accuracy"
   ]
  },
  {
   "cell_type": "code",
   "execution_count": 25,
   "metadata": {},
   "outputs": [
    {
     "data": {
      "text/plain": [
       "(Variable containing:\n",
       " -1.8007 -1.7389 -1.8102 -1.8169 -1.8332 -1.7542\n",
       " [torch.cuda.FloatTensor of size 1x6 (GPU 0)],\n",
       " ('LETTERS', 1),\n",
       " ('PLAIN', 4),\n",
       " ('jr', 'junior', 'PLAIN', ['\"', 'richard', 'blood', '<SAMPLE>', '\"', '.']))"
      ]
     },
     "execution_count": 25,
     "metadata": {},
     "output_type": "execute_result"
    }
   ],
   "source": [
    "def test_model_single_sample(model):\n",
    "    s_bef, s_aft, s_class, s_sentence = sample = get_random_sample()\n",
    "    \n",
    "    words_t = words_to_tensor(s_sentence, common_words_index)\n",
    "    words_t = Variable(words_t).cuda()\n",
    "    \n",
    "    string_t = string_to_tensor(s_bef, chars_normal_index)\n",
    "    string_t = Variable(string_t).cuda()\n",
    "    \n",
    "    output = model(words_t, string_t)\n",
    "    guess = category_from_output(output, categories_all)\n",
    "\n",
    "    return output, guess, (s_class, categories_index[s_class]), sample\n",
    "    \n",
    "tmp = test_model_single_sample(model)\n",
    "tmp"
   ]
  },
  {
   "cell_type": "code",
   "execution_count": 26,
   "metadata": {
    "collapsed": true
   },
   "outputs": [],
   "source": [
    "def print_local_wrong_predictions(max_results=10):\n",
    "    arr = get_some_wrong_predictions(model, test_model_single_sample, max_iterations=10000, max_results=max_results)\n",
    "    for sample, predict, output in arr:\n",
    "        s_bef, s_aft, s_class, s_sentence = sample\n",
    "        m = torch.nn.functional.softmax(output).max().data[0]\n",
    "        print(\"{:>11} -> {:>11} ({:0.3}) || {:>8} -> {} == {}\".format(s_class, predict[0], m, s_bef, s_aft, ' '.join(s_sentence), ))"
   ]
  },
  {
   "cell_type": "code",
   "execution_count": 27,
   "metadata": {},
   "outputs": [
    {
     "name": "stdout",
     "output_type": "stream",
     "text": [
      "NOT_CHANGED ->     LETTERS (0.176) ||        , -> , == \" distinguiran al presidente de soka gakkai de japon \" <SAMPLE> el deber .\n"
     ]
    }
   ],
   "source": [
    "print_local_wrong_predictions(max_results=1)"
   ]
  },
  {
   "cell_type": "markdown",
   "metadata": {},
   "source": [
    "### Training"
   ]
  },
  {
   "cell_type": "code",
   "execution_count": 28,
   "metadata": {
    "collapsed": true
   },
   "outputs": [],
   "source": [
    "def train(model, s_category, s_sentence, s_bef, loss_function, optimizer):\n",
    "    \n",
    "    category_tensor = Variable(torch.LongTensor([categories_index[s_category]])).cuda()\n",
    "    \n",
    "    words_t = words_to_tensor(s_sentence, common_words_index)\n",
    "    words_t = Variable(words_t).cuda()\n",
    "    \n",
    "    string_t = string_to_tensor(s_bef, chars_normal_index)\n",
    "    string_t = Variable(string_t).cuda()\n",
    "    \n",
    "    output = model(words_t, string_t)\n",
    "    loss = loss_function(output, category_tensor)\n",
    "    optimizer.zero_grad()\n",
    "    loss.backward()\n",
    "    optimizer.step()\n",
    "    \n",
    "    return output, loss.data[0]"
   ]
  },
  {
   "cell_type": "code",
   "execution_count": 29,
   "metadata": {
    "collapsed": true
   },
   "outputs": [],
   "source": [
    "def train_iterations(n_iters=100000, lr=0.001, print_every=10000, plot_every=1000):\n",
    "\n",
    "    start = time.time()\n",
    "    model.train()\n",
    "\n",
    "    current_loss = 0\n",
    "    current_loss_iter = 0\n",
    "\n",
    "    optimizer = torch.optim.Adam(model.parameters(), lr=lr)\n",
    "    loss_function = nn.NLLLoss()\n",
    "    \n",
    "    for iteration in range(1, n_iters + 1):\n",
    "        model_training.iterations += 1\n",
    "        \n",
    "        s_bef, s_aft, s_class, s_sentence = get_random_sample()\n",
    "        \n",
    "        result, loss = train(model=model, s_category=s_class, s_sentence=s_sentence,\n",
    "                             s_bef=s_bef, optimizer=optimizer, loss_function=loss_function)\n",
    "\n",
    "        current_loss += loss\n",
    "        current_loss_iter += 1\n",
    "\n",
    "        # Print iter number, loss, name and guess\n",
    "        if iteration % print_every == 0:\n",
    "            guess, guess_i = category_from_output(result, categories_all)\n",
    "            correct = '✓' if guess == s_class else \"✗ {}\".format(s_class)\n",
    "            print(\"{:>6d} {:>4.0%} ({:>8}) {:>7.3f}   | {:>6.2f}: {} -> {} ({})\".format(\n",
    "                      model_training.iterations, iteration/n_iters, time_since(start),\n",
    "                      current_loss/current_loss_iter, loss,\n",
    "                      s_bef, guess, correct))\n",
    "\n",
    "        # Add current loss avg to list of losses\n",
    "        if iteration % plot_every == 0:\n",
    "            model_training.losses.append(current_loss / plot_every)\n",
    "            model_training.learning_rates.append(lr)\n",
    "            current_loss = 0\n",
    "            current_loss_iter = 0\n",
    "            \n",
    "        if model_training.iterations % 50000 == 0 or model_training.iterations == 10:\n",
    "            model_training.save_models()\n",
    "            acc = test_model_accuracy(model, test_model_single_sample)\n",
    "            model_training.accuracy.append(acc)\n",
    "    \n",
    "    # test_model_accuracy(model, n_sample=10000)"
   ]
  },
  {
   "cell_type": "code",
   "execution_count": 30,
   "metadata": {
    "scrolled": true
   },
   "outputs": [
    {
     "name": "stdout",
     "output_type": "stream",
     "text": [
      "     9  18% (   0m 0s)   1.805   |   1.81: \" -> LETTERS (✗ NOT_CHANGED)\n",
      "Saved model to data/models/category_9_fixes/10_(CategorizeRNN)\n",
      "Accuracy: 20.40% (    2040/   10000)\n",
      "    18  36% (  0m 28s)   1.805   |   1.80: March 18, 2015 -> LETTERS (✗ NUMBERS)\n",
      "    27  54% (  0m 28s)   1.795   |   1.77: & -> LETTERS (✗ VERBATIM)\n",
      "    36  72% (  0m 28s)   1.794   |   1.81: - -> LETTERS (✗ PLAIN)\n",
      "    45  90% (  0m 28s)   1.791   |   1.88: http://www.carwashmag.com/issues/sept-2011/marketing.cfmCar -> LETTERS (✗ ELECTRONIC)\n"
     ]
    }
   ],
   "source": [
    "train_iterations(n_iters=50, print_every=9, lr=0.0001)"
   ]
  },
  {
   "cell_type": "code",
   "execution_count": 31,
   "metadata": {},
   "outputs": [
    {
     "name": "stdout",
     "output_type": "stream",
     "text": [
      "   550  53% (   0m 5s)   1.679   |   2.98: Jobberman.com -> NUMBERS (✗ ELECTRONIC)\n"
     ]
    }
   ],
   "source": [
    "train_iterations(n_iters=(1000-model_training.iterations), print_every=500, lr=0.0001)"
   ]
  },
  {
   "cell_type": "code",
   "execution_count": 32,
   "metadata": {},
   "outputs": [
    {
     "name": "stdout",
     "output_type": "stream",
     "text": [
      "  2000  10% (  0m 10s)   1.080   |   0.40: Générale -> NOT_CHANGED (✓)\n",
      "  3000  20% (  0m 21s)   0.785   |   0.05: 20 May 1990 -> NUMBERS (✓)\n",
      "  4000  30% (  0m 32s)   0.620   |   0.41: the -> NOT_CHANGED (✓)\n",
      "  5000  40% (  0m 42s)   0.492   |   0.10: glamourgirlsofthesilverscreen.com -> ELECTRONIC (✓)\n",
      "  6000  50% (  0m 54s)   0.456   |   0.18: US -> LETTERS (✓)\n",
      "  7000  60% (   1m 5s)   0.460   |   0.03: June 15, 1969 -> NUMBERS (✓)\n",
      "  8000  70% (  1m 17s)   0.423   |   1.00: \" -> PLAIN (✗ NOT_CHANGED)\n",
      "  9000  80% (  1m 29s)   0.324   |   0.32: Smt -> LETTERS (✓)\n",
      " 10000  90% (  1m 39s)   0.372   |   0.49: LR21.com.uy -> ELECTRONIC (✓)\n",
      " 11000 100% (  1m 50s)   0.307   |   0.05: KK -> LETTERS (✓)\n"
     ]
    }
   ],
   "source": [
    "train_iterations(n_iters=10000, lr=0.0001, print_every=1000)"
   ]
  },
  {
   "cell_type": "code",
   "execution_count": 33,
   "metadata": {},
   "outputs": [
    {
     "name": "stdout",
     "output_type": "stream",
     "text": [
      " 21000  11% (  1m 44s)   0.259   |   0.00: & -> VERBATIM (✓)\n",
      " 31000  22% (  3m 25s)   0.116   |   0.00: # -> VERBATIM (✓)\n",
      " 41000  34% (   5m 5s)   0.157   |   0.03: wider -> NOT_CHANGED (✓)\n",
      "Saved model to data/models/category_9_fixes/50000_(CategorizeRNN)\n",
      "Accuracy: 96.69% (    9669/   10000)\n",
      " 51000  45% (  7m 12s)   0.113   |   0.02: Organisation -> PLAIN (✓)\n",
      " 61000  56% (  8m 52s)   0.089   |   0.00: & -> VERBATIM (✓)\n",
      " 71000  67% ( 10m 32s)   0.076   |   0.00: programme -> PLAIN (✓)\n",
      " 81000  79% ( 12m 12s)   0.087   |   0.00: Centre -> PLAIN (✓)\n",
      " 91000  90% ( 13m 52s)   0.088   |   0.00: programme -> PLAIN (✓)\n",
      "Saved model to data/models/category_9_fixes/100000_(CategorizeRNN)\n",
      "Accuracy: 97.92% (    9792/   10000)\n"
     ]
    }
   ],
   "source": [
    "train_iterations(n_iters=89000, print_every=10000)"
   ]
  },
  {
   "cell_type": "code",
   "execution_count": 34,
   "metadata": {},
   "outputs": [
    {
     "name": "stdout",
     "output_type": "stream",
     "text": [
      "      PLAIN ->     LETTERS (0.424) ||     Bros -> brothers == \" english bread and yeast cookery \" , penguin : middlesex 1977 ( p . 139 ) \" sugar : a handbook for planters and refiners \" , lock & newlands <SAMPLE> , pub .\n",
      " ELECTRONIC ->     NUMBERS (1.0) || 2009-11-25Visitmexico.com -> t w o o o n i n e d a s h e l e v e n d a s h t w e n t y f i v e v i s i t m e x i c o dot c o m == retrieved <SAMPLE> , retrieved 2009 - 11 - 25lakedistrict . gov . uk , retrieved 2009 - 11 - 25winecountry . com , retrieved 2009 - 11 - 25 farmer , cjq ; fotheringham , as ( 2011 ) .\n",
      "      PLAIN ->     LETTERS (0.491) ||     Bros -> brothers == warner <SAMPLE> eventually bought schlesinger 's cartoon unit in 1944 and renamed it warner bros cartoons .\n",
      "    LETTERS -> NOT_CHANGED (0.612) ||    Hemsl -> h e m s l == \" author query for ' <SAMPLE> . '\n",
      "NOT_CHANGED ->     LETTERS (0.962) ||    UNDER -> UNDER == he has also represented pakistan under 19s , averaging 37 . 20 in <SAMPLE> 19 test matches , and 45 . 40 in under 19 one day internationals .\n",
      "    LETTERS -> NOT_CHANGED (1.0) ||   Ysbyty -> y s b y t y == saint cadoc 's hospital ( welsh : <SAMPLE> sant cadog ) is located in caerleon on the northern outskirts of the city of newport .\n",
      " ELECTRONIC ->     NUMBERS (1.0) || 10.0.0.10host2.example.net -> t e n dot o dot o dot t e n h o s t t w o dot e x a m p l e dot n e t == in a <SAMPLE> .\n",
      "NOT_CHANGED ->       PLAIN (0.915) ||        : -> : == another two museums are due to open <SAMPLE> casa do pescador ( fisherman home ) and farol de regufe ( regufe lighthouse ) .\n",
      "      PLAIN ->     LETTERS (0.528) ||       pl -> place == part 3 ( 1881 ) : 693 - 724 <SAMPLE>\n",
      "    LETTERS -> NOT_CHANGED (0.983) ||    Sabce -> s a b c e == noh , burkina faso is a town in the <SAMPLE> department of bam province in northern central burkina faso .\n"
     ]
    }
   ],
   "source": [
    "print_local_wrong_predictions()"
   ]
  },
  {
   "cell_type": "code",
   "execution_count": 35,
   "metadata": {},
   "outputs": [
    {
     "name": "stdout",
     "output_type": "stream",
     "text": [
      "110000  10% (  1m 39s)   0.061   |   0.00: 6 March 1945 -> NUMBERS (✓)\n",
      "120000  20% (  3m 19s)   0.069   |   0.01: PG -> LETTERS (✓)\n",
      "130000  30% (  4m 59s)   0.058   |   0.00: vol -> PLAIN (✓)\n",
      "140000  40% (  6m 39s)   0.047   |   0.00: born -> NOT_CHANGED (✓)\n",
      "150000  50% (  8m 19s)   0.051   |   0.00: USNews.com -> ELECTRONIC (✓)\n",
      "Saved model to data/models/category_9_fixes/150000_(CategorizeRNN)\n",
      "Accuracy: 98.65% (    9865/   10000)\n",
      "160000  60% ( 10m 26s)   0.073   |   0.00: 2011 -> NUMBERS (✓)\n",
      "170000  70% (  12m 5s)   0.049   |   0.00: 1997 -> NUMBERS (✓)\n",
      "180000  80% ( 13m 45s)   0.047   |   0.00: & -> VERBATIM (✓)\n",
      "190000  90% ( 15m 26s)   0.057   |   0.00: & -> VERBATIM (✓)\n",
      "200000 100% (  17m 7s)   0.056   |   0.00: AFC -> LETTERS (✓)\n",
      "Saved model to data/models/category_9_fixes/200000_(CategorizeRNN)\n",
      "Accuracy: 98.48% (    9848/   10000)\n"
     ]
    }
   ],
   "source": [
    "train_iterations(n_iters=100000, lr=0.0005, print_every=10000)"
   ]
  },
  {
   "cell_type": "code",
   "execution_count": 36,
   "metadata": {},
   "outputs": [
    {
     "name": "stdout",
     "output_type": "stream",
     "text": [
      "NOT_CHANGED ->     LETTERS (0.749) ||      Act -> Act == congress responded with the naval <SAMPLE> of 1794 .\n",
      "    LETTERS -> NOT_CHANGED (0.652) ||      Yby -> y b y == once there , take the exit to <SAMPLE> yau city .\n",
      "      PLAIN ->    VERBATIM (0.999) ||        ~ -> to == \" genetic dissection of the mir 17 <SAMPLE> 92 cluster of micrornas in myc induced b - cell lymphomas \" .\n",
      "    LETTERS -> NOT_CHANGED (0.406) ||     Misr -> m i s r == \" bint <SAMPLE> \" means \" egyptian girl \" in arabic .\n",
      "    NUMBERS ->     LETTERS (0.805) ||       V. -> five == mark <SAMPLE> wetherington ( 1 september 2001 ) .\n",
      "    NUMBERS -> NOT_CHANGED (0.43) ||        X -> ten == \" final fantasy <SAMPLE> scenario writer on the possibility of final fantasy x - 3 \" .\n",
      "NOT_CHANGED ->       PLAIN (0.997) ||        - -> - == december 2006 , p . 12 <SAMPLE> 13 .\n",
      "NOT_CHANGED ->       PLAIN (0.964) ||        : -> : == beijing <SAMPLE> renmin weisheng chubanshe .\n",
      "NOT_CHANGED ->       PLAIN (0.92) ||    three -> three == he married polly pierce gochenour ( born 1924 ) , and they had <SAMPLE> sons .\n",
      "NOT_CHANGED ->       PLAIN (0.815) ||      von -> von == these were selected by the clouds commission , which also included julius <SAMPLE> hann , henrik mohn , and abbott lawrence rotch .\n"
     ]
    }
   ],
   "source": [
    "print_local_wrong_predictions()"
   ]
  },
  {
   "cell_type": "code",
   "execution_count": 37,
   "metadata": {},
   "outputs": [
    {
     "name": "stdout",
     "output_type": "stream",
     "text": [
      "210000  10% (  1m 40s)   0.072   |   0.00: & -> VERBATIM (✓)\n",
      "220000  20% (  3m 22s)   0.086   |   0.00: have -> NOT_CHANGED (✓)\n",
      "230000  30% (   5m 2s)   0.051   |   0.00: & -> VERBATIM (✓)\n",
      "240000  40% (  6m 43s)   0.078   |   0.00: 10 -> NUMBERS (✓)\n",
      "250000  50% (  8m 24s)   0.054   |   0.00: st -> PLAIN (✓)\n",
      "Saved model to data/models/category_9_fixes/250000_(CategorizeRNN)\n",
      "Accuracy: 98.32% (    9832/   10000)\n",
      "260000  60% ( 10m 31s)   0.041   |   0.00: - -> PLAIN (✓)\n",
      "270000  70% ( 12m 11s)   0.030   |   0.00: ISBN -> LETTERS (✓)\n",
      "280000  80% ( 13m 50s)   0.037   |   0.00: III -> NUMBERS (✓)\n",
      "290000  90% ( 15m 31s)   0.053   |   0.04: MK -> LETTERS (✓)\n",
      "300000 100% ( 17m 11s)   0.039   |   0.00: - -> PLAIN (✓)\n",
      "Saved model to data/models/category_9_fixes/300000_(CategorizeRNN)\n",
      "Accuracy: 98.55% (    9855/   10000)\n"
     ]
    }
   ],
   "source": [
    "train_iterations(n_iters=100000, lr=0.001, print_every=10000)"
   ]
  },
  {
   "cell_type": "code",
   "execution_count": 38,
   "metadata": {},
   "outputs": [
    {
     "name": "stdout",
     "output_type": "stream",
     "text": [
      "    LETTERS -> NOT_CHANGED (0.816) ||     Omul -> o m u l == « <SAMPLE> de otel » impotriva garzii de fier \" ( \" armand calinescu : a sacrifice for the country 's peace and security .\n",
      "NOT_CHANGED ->     LETTERS (0.48) ||     Paul -> Paul == <SAMPLE> menard was the polesitter .\n",
      "    LETTERS -> NOT_CHANGED (0.974) ||      Vit -> v i t == 25 ; porphyry , <SAMPLE> .\n",
      "    NUMBERS ->     LETTERS (1.0) ||       I. -> one == vol <SAMPLE> london : richard bentley .\n",
      "NOT_CHANGED ->     LETTERS (0.896) ||      Las -> Las == this was to provide a direct interstate link between the <SAMPLE> vegas and phoenix metropolitan areas .\n",
      "NOT_CHANGED ->     LETTERS (0.875) ||       us -> us == your kings should expect nothing from <SAMPLE> except humiliation .\n",
      "NOT_CHANGED ->     LETTERS (0.684) ||     Navy -> Navy == all of this , including the striking of her name from the <SAMPLE> list , occurred on 15 august 1973 .\n",
      "    LETTERS -> NOT_CHANGED (0.648) ||     caos -> c a o s == author of the prose story frammenti dal <SAMPLE> , published as a prize for all his distinctions achieved in literary field .\n",
      "    LETTERS -> NOT_CHANGED (0.63) ||      Det -> d e t == charles napier as <SAMPLE> .\n",
      "    NUMBERS ->  ELECTRONIC (0.946) || 01.09.2011 -> the ninth of january twenty eleven == \" super street fighter iv 3 d edition impressions ( andriasang . com , <SAMPLE> ) \" .\n"
     ]
    }
   ],
   "source": [
    "print_local_wrong_predictions()"
   ]
  },
  {
   "cell_type": "code",
   "execution_count": 39,
   "metadata": {},
   "outputs": [
    {
     "name": "stdout",
     "output_type": "stream",
     "text": [
      "310000   5% (  1m 39s)   0.055   |   0.00: 1887 -> NUMBERS (✓)\n",
      "320000  10% (  3m 19s)   0.043   |   0.00: with -> NOT_CHANGED (✓)\n",
      "330000  15% (  4m 59s)   0.043   |   0.00: x -> PLAIN (✓)\n",
      "340000  20% (  6m 40s)   0.041   |   0.00: December 7, 2008 -> NUMBERS (✓)\n",
      "350000  25% (  8m 20s)   0.054   |   0.00: Facebookwww.bachatamovie.com -> ELECTRONIC (✓)\n",
      "Saved model to data/models/category_9_fixes/350000_(CategorizeRNN)\n",
      "Accuracy: 98.85% (    9885/   10000)\n",
      "360000  30% ( 10m 27s)   0.066   |   0.00: during -> NOT_CHANGED (✓)\n",
      "370000  35% (  12m 7s)   0.035   |   0.00: unveiled -> NOT_CHANGED (✓)\n",
      "380000  40% ( 13m 46s)   0.055   |   0.00: Theatre -> PLAIN (✓)\n",
      "390000  45% ( 15m 27s)   0.042   |   0.00: Deadline.com -> ELECTRONIC (✓)\n",
      "400000  50% (  17m 7s)   0.028   |   0.02: eki -> LETTERS (✓)\n",
      "Saved model to data/models/category_9_fixes/400000_(CategorizeRNN)\n",
      "Accuracy: 99.15% (    9915/   10000)\n",
      "410000  55% ( 19m 13s)   0.040   |   0.00: 12 -> NUMBERS (✓)\n",
      "420000  60% ( 20m 54s)   0.041   |   0.04: nut -> NOT_CHANGED (✓)\n",
      "430000  65% ( 22m 34s)   0.067   |   0.00: MP -> LETTERS (✓)\n",
      "440000  70% ( 24m 14s)   0.069   |   0.00: vol -> PLAIN (✓)\n",
      "450000  75% ( 25m 55s)   0.050   |   0.00: \" -> NOT_CHANGED (✓)\n",
      "Saved model to data/models/category_9_fixes/450000_(CategorizeRNN)\n",
      "Accuracy: 98.67% (    9867/   10000)\n",
      "460000  80% (  28m 3s)   0.098   |   0.06: Zelda -> NOT_CHANGED (✓)\n",
      "470000  85% ( 29m 43s)   0.027   |   2.40: kr -> PLAIN (✗ LETTERS)\n",
      "480000  90% ( 31m 25s)   0.020   |   0.00: sp -> LETTERS (✓)\n",
      "490000  95% (  33m 5s)   0.021   |   0.00: boys -> NOT_CHANGED (✓)\n",
      "500000 100% ( 34m 46s)   0.042   |   0.01: var -> LETTERS (✓)\n",
      "Saved model to data/models/category_9_fixes/500000_(CategorizeRNN)\n",
      "Accuracy: 99.07% (    9907/   10000)\n"
     ]
    }
   ],
   "source": [
    "train_iterations(n_iters=200000, lr=0.0005, print_every=10000)"
   ]
  },
  {
   "cell_type": "code",
   "execution_count": 40,
   "metadata": {},
   "outputs": [
    {
     "name": "stdout",
     "output_type": "stream",
     "text": [
      "NOT_CHANGED ->     LETTERS (0.95) ||     camp -> camp == it was named by sgt neil felver of the 122 civil engineering squadron in a name the <SAMPLE> contest .\n",
      "      PLAIN -> NOT_CHANGED (0.956) || specialising -> specializing == from 1979 to 1986 he studied economics at the vienna university of economics and business administration , <SAMPLE> in environmental economics .\n",
      "    LETTERS -> NOT_CHANGED (0.534) ||   aaseae -> a a s e a e == field investigation of allium <SAMPLE> ( aase 's onion ) on the boise national forest .\n",
      "NOT_CHANGED ->     LETTERS (0.997) ||      MAC -> MAC == also , central michigan received 18 votes to win the <SAMPLE> championship game .\n",
      "      PLAIN ->     LETTERS (0.449) ||      Vol -> volume == american anthropologist , <SAMPLE> 76 , pp 890 , oct . 1974 turner , terence 1992 .\n",
      " ELECTRONIC ->     LETTERS (0.968) ||      www -> w w w == eight specific internet terms may not be registered ( ftp , localhost , whois , <SAMPLE> , no , nic , internet and internett ) .\n",
      "NOT_CHANGED ->     LETTERS (0.74) ||    Bronx -> Bronx == she would later move to the <SAMPLE> zoo in 1982 , where she would remain until her death in 2013 .\n",
      "      PLAIN ->     LETTERS (0.77) ||    AlCl3 -> aluminium chloride == for the purposes of discussion , even complex compounds such as et 3 al2cl3 and <SAMPLE> are treated as trigonal planar lewis acids .\n",
      "      PLAIN ->     LETTERS (0.948) ||      sqn -> squadron == 2 47 <SAMPLE> , tempest f 2 / typhoon ib , arrived 20 august 1945 , departed 7 january 1946 .\n",
      "NOT_CHANGED ->     LETTERS (0.519) ||      Ion -> Ion == paintings by georghe petrascu , stefan popescu , eustatiu stoenescu , ion theodorescu sion ; sculptures by oscar han , <SAMPLE> jalea , cornel medrea .\n"
     ]
    }
   ],
   "source": [
    "print_local_wrong_predictions()"
   ]
  },
  {
   "cell_type": "code",
   "execution_count": 41,
   "metadata": {},
   "outputs": [
    {
     "name": "stdout",
     "output_type": "stream",
     "text": [
      "525000  12% (  4m 11s)   0.040   |   0.00: etc -> PLAIN (✓)\n",
      "550000  25% (  8m 23s)   0.025   |   0.00: bxn -> LETTERS (✓)\n",
      "Saved model to data/models/category_9_fixes/550000_(CategorizeRNN)\n",
      "Accuracy: 99.13% (    9913/   10000)\n",
      "575000  38% (  13m 0s)   0.042   |   0.00: 879 -> NUMBERS (✓)\n",
      "600000  50% ( 17m 11s)   0.015   |   0.00: & -> VERBATIM (✓)\n",
      "Saved model to data/models/category_9_fixes/600000_(CategorizeRNN)\n",
      "Accuracy: 99.30% (    9930/   10000)\n",
      "625000  62% ( 21m 46s)   0.019   |   0.00: - -> PLAIN (✓)\n",
      "650000  75% ( 25m 57s)   0.022   |   0.00: January 27, 2003 -> NUMBERS (✓)\n",
      "Saved model to data/models/category_9_fixes/650000_(CategorizeRNN)\n",
      "Accuracy: 99.15% (    9915/   10000)\n",
      "675000  88% ( 30m 35s)   0.044   |   0.00: associated -> NOT_CHANGED (✓)\n",
      "700000 100% ( 34m 46s)   0.034   |   0.00: # -> VERBATIM (✓)\n",
      "Saved model to data/models/category_9_fixes/700000_(CategorizeRNN)\n",
      "Accuracy: 99.17% (    9917/   10000)\n"
     ]
    }
   ],
   "source": [
    "train_iterations(n_iters=200000, lr=0.0001, print_every=25000)"
   ]
  },
  {
   "cell_type": "code",
   "execution_count": 42,
   "metadata": {},
   "outputs": [
    {
     "name": "stdout",
     "output_type": "stream",
     "text": [
      "      PLAIN ->     LETTERS (0.703) ||       OO -> oxygen monoxide == \" <SAMPLE> reference desk : real names list \" .\n",
      "    LETTERS ->       PLAIN (0.981) ||       ST -> s t == lokomotywa spalinowa serii <SAMPLE> 48 , \" ś wiat kolei \" nr .\n",
      "NOT_CHANGED ->       PLAIN (0.62) ||    arise -> arise == as rex brings the torchwood team to america , problems <SAMPLE> on the plane .\n",
      "NOT_CHANGED ->       PLAIN (0.819) ||        : -> : == \" timeline <SAMPLE> crisis at wrexham fc \" .\n",
      "NOT_CHANGED ->     LETTERS (1.0) ||      byl -> byl == \" to <SAMPLE> ostatni mecz bieniuka \" .\n",
      "    LETTERS -> NOT_CHANGED (0.996) ||    Cibao -> c i b a o == juan played winter ball for gigantes del <SAMPLE> of the dominican winter baseball league .\n",
      "NOT_CHANGED ->     LETTERS (0.922) ||  LAURELS -> LAURELS == \" lutz , grayson only coast stars on a . p . all american : four southern aces given <SAMPLE> \" .\n",
      "    LETTERS -> NOT_CHANGED (0.44) ||    ReOCl -> r e o c l == the oxychlorides are most common , and include <SAMPLE> 4 , reocl 3 .\n",
      "NOT_CHANGED ->       PLAIN (0.813) ||        : -> : == lanham , maryland <SAMPLE> rowman & littlefield publishers .\n",
      "NOT_CHANGED ->     NUMBERS (0.889) ||        I -> I == no means <SAMPLE> find to rid him from my breast , till by the end of things it be suppressed .\n"
     ]
    }
   ],
   "source": [
    "print_local_wrong_predictions()"
   ]
  },
  {
   "cell_type": "code",
   "execution_count": null,
   "metadata": {
    "collapsed": true
   },
   "outputs": [],
   "source": []
  },
  {
   "cell_type": "code",
   "execution_count": 46,
   "metadata": {
    "collapsed": true
   },
   "outputs": [],
   "source": [
    "time.sleep(40*60*60)"
   ]
  },
  {
   "cell_type": "code",
   "execution_count": 47,
   "metadata": {},
   "outputs": [
    {
     "name": "stdout",
     "output_type": "stream",
     "text": [
      "710000   3% (  2m 26s)   0.025   |   0.00: -382 -> NUMBERS (✓)\n",
      "720000   7% (  4m 39s)   0.067   |   0.00: mission -> NOT_CHANGED (✓)\n",
      "730000  10% (  6m 25s)   0.025   |   0.00: USA- -> LETTERS (✓)\n",
      "740000  13% (   8m 5s)   0.022   |   0.33: Zod -> LETTERS (✓)\n",
      "750000  17% (  9m 49s)   0.043   |   0.00: 5ms -> NUMBERS (✓)\n",
      "Saved model to data/models/category_9_fixes/750000_(CategorizeRNN)\n",
      "Accuracy: 99.31% (    9931/   10000)\n",
      "760000  20% ( 11m 57s)   0.036   |   0.00: www.rock -> ELECTRONIC (✓)\n",
      "770000  23% ( 13m 37s)   0.035   |   0.00: 2015 -> NUMBERS (✓)\n",
      "780000  27% ( 15m 19s)   0.015   |   0.00: 26 July -> NUMBERS (✓)\n",
      "790000  30% ( 16m 58s)   0.024   |   0.00: specialises -> PLAIN (✓)\n",
      "800000  33% ( 18m 39s)   0.024   |   0.00: J. -> LETTERS (✓)\n",
      "Saved model to data/models/category_9_fixes/800000_(CategorizeRNN)\n",
      "Accuracy: 99.21% (    9921/   10000)\n",
      "810000  37% ( 20m 46s)   0.023   |   0.00: pp -> LETTERS (✓)\n",
      "820000  40% ( 22m 26s)   0.040   |   0.00: HTTPS -> LETTERS (✓)\n",
      "830000  43% (  24m 8s)   0.037   |   0.00: 1769 -> NUMBERS (✓)\n",
      "840000  47% ( 25m 49s)   0.031   |   0.00: , -> NOT_CHANGED (✓)\n",
      "850000  50% ( 27m 28s)   0.051   |   0.00: defend -> NOT_CHANGED (✓)\n",
      "Saved model to data/models/category_9_fixes/850000_(CategorizeRNN)\n",
      "Accuracy: 99.23% (    9923/   10000)\n",
      "860000  53% ( 29m 36s)   0.023   |   0.00: 2012/ 1 -> NUMBERS (✓)\n",
      "870000  57% ( 31m 17s)   0.039   |   0.00: G.A. -> LETTERS (✓)\n",
      "880000  60% ( 32m 57s)   0.029   |   0.00: 1501 -> NUMBERS (✓)\n",
      "890000  63% ( 34m 39s)   0.026   |   0.00: hideously -> NOT_CHANGED (✓)\n",
      "900000  67% ( 36m 20s)   0.026   |   0.00: blouinartinfo.com -> ELECTRONIC (✓)\n",
      "Saved model to data/models/category_9_fixes/900000_(CategorizeRNN)\n",
      "Accuracy: 99.26% (    9926/   10000)\n",
      "910000  70% ( 38m 29s)   0.029   |   0.00: speedway365.com -> ELECTRONIC (✓)\n",
      "920000  73% ( 40m 11s)   0.016   |   0.00: with -> NOT_CHANGED (✓)\n",
      "930000  77% ( 41m 50s)   0.041   |   0.00: & -> VERBATIM (✓)\n",
      "940000  80% ( 43m 31s)   0.026   |   0.00: vol -> PLAIN (✓)\n",
      "950000  83% ( 45m 12s)   0.010   |   0.00: N. -> LETTERS (✓)\n",
      "Saved model to data/models/category_9_fixes/950000_(CategorizeRNN)\n",
      "Accuracy: 99.26% (    9926/   10000)\n",
      "960000  87% ( 47m 20s)   0.015   |   0.00: - -> PLAIN (✓)\n",
      "970000  90% (  49m 1s)   0.021   |   0.00: their -> NOT_CHANGED (✓)\n",
      "980000  93% ( 50m 41s)   0.023   |   0.00: US$10,000 -> NUMBERS (✓)\n",
      "990000  97% ( 52m 22s)   0.011   |   0.00: & -> VERBATIM (✓)\n",
      "1000000 100% (  54m 2s)   0.014   |   0.00: & -> VERBATIM (✓)\n",
      "Saved model to data/models/category_9_fixes/1000000_(CategorizeRNN)\n",
      "Accuracy: 99.41% (    9941/   10000)\n"
     ]
    }
   ],
   "source": [
    "train_iterations(n_iters=300000, lr=0.0001, print_every=10000)"
   ]
  },
  {
   "cell_type": "code",
   "execution_count": 48,
   "metadata": {},
   "outputs": [
    {
     "name": "stdout",
     "output_type": "stream",
     "text": [
      "NOT_CHANGED ->    VERBATIM (0.547) ||        m -> m == <SAMPLE> wape miti ( born 24 may 1973 ) is a former zambian football ( soccer ) striker .\n",
      "    LETTERS -> NOT_CHANGED (1.0) ||     igen -> i g e n == in 1998 , she released a book on theatre history , om <SAMPLE> , herr molander !\n",
      "    LETTERS ->       PLAIN (0.997) ||      bvl -> b v l == aspen boasts ralph lauren , dior , louis vuitton , prada , gucci , fendi , <SAMPLE> gari , burberry , brioni , theory and ermenegildo zegna boutiques .\n",
      "NOT_CHANGED ->     LETTERS (0.946) ||      SET -> SET == \" indian hero' s burial <SAMPLE> for wednesday \" .\n",
      "NOT_CHANGED ->       PLAIN (0.959) ||        : -> : == new dehli <SAMPLE> anmol publications , 1997 .\n",
      "    LETTERS ->     NUMBERS (0.964) ||    III's -> i i i's == son frankie christian followed a year later in los angeles on november 16 , 1975 , a day before marvin <SAMPLE> birthday .\n",
      "NOT_CHANGED ->     LETTERS (0.997) ||     BAND -> BAND == often wears a band shirt that reads \" <SAMPLE> \" .\n",
      "NOT_CHANGED ->       PLAIN (0.992) ||        - -> - == \" the crow ( 1994 ) <SAMPLE> soundtracks \" .\n",
      "    NUMBERS ->     LETTERS (0.906) ||       A8 -> a eight == \" entrez gene : ugt 1 a 8 udp glucuronosyltransferase 1 family , polypeptide <SAMPLE> \" .\n",
      "NOT_CHANGED ->     LETTERS (0.956) ||      BOX -> BOX == \" a study of socio economic issues facing traditional indonesian fishers who access the mou <SAMPLE> \" ( pdf ) .\n"
     ]
    }
   ],
   "source": [
    "print_local_wrong_predictions()"
   ]
  },
  {
   "cell_type": "code",
   "execution_count": 49,
   "metadata": {},
   "outputs": [
    {
     "name": "stdout",
     "output_type": "stream",
     "text": [
      "1010000   3% (  1m 40s)   0.021   |   0.00: Current -> NOT_CHANGED (✓)\n",
      "1020000   7% (  3m 20s)   0.022   |   0.00: the -> NOT_CHANGED (✓)\n",
      "1030000  10% (   5m 1s)   0.030   |   0.00: , -> NOT_CHANGED (✓)\n",
      "1040000  13% (  6m 42s)   0.038   |   0.00: 200 -> NUMBERS (✓)\n",
      "1050000  17% (  8m 22s)   0.039   |   0.00: medterms.comOverview -> ELECTRONIC (✓)\n",
      "Saved model to data/models/category_9_fixes/1050000_(CategorizeRNN)\n",
      "Accuracy: 99.27% (    9927/   10000)\n",
      "1060000  20% ( 10m 29s)   0.055   |   0.00: & -> VERBATIM (✓)\n",
      "1070000  23% ( 12m 10s)   0.061   |   0.00: M. L. -> LETTERS (✓)\n",
      "1080000  27% ( 13m 50s)   0.020   |   0.00: Organised -> PLAIN (✓)\n",
      "1090000  30% ( 15m 30s)   0.043   |   0.00: Indiana -> NOT_CHANGED (✓)\n",
      "1100000  33% ( 17m 11s)   0.014   |   0.00: PS -> LETTERS (✓)\n",
      "Saved model to data/models/category_9_fixes/1100000_(CategorizeRNN)\n",
      "Accuracy: 99.35% (    9935/   10000)\n",
      "1110000  37% ( 19m 19s)   0.036   |   0.00: C. -> LETTERS (✓)\n",
      "1120000  40% ( 20m 59s)   0.025   |   0.00: - -> PLAIN (✓)\n",
      "1130000  43% ( 22m 40s)   0.041   |   0.00: & -> VERBATIM (✓)\n",
      "1140000  47% ( 24m 19s)   0.062   |   0.00: from -> NOT_CHANGED (✓)\n",
      "1150000  50% (  26m 0s)   0.021   |   0.00: theatre -> PLAIN (✓)\n",
      "Saved model to data/models/category_9_fixes/1150000_(CategorizeRNN)\n",
      "Accuracy: 99.44% (    9944/   10000)\n",
      "1160000  53% (  28m 8s)   0.031   |   0.00: 1898 -> NUMBERS (✓)\n",
      "1170000  57% ( 29m 49s)   0.032   |   0.00: R. -> LETTERS (✓)\n",
      "1180000  60% ( 31m 30s)   0.053   |   0.00: blvd -> PLAIN (✓)\n",
      "1190000  63% ( 33m 10s)   0.034   |   0.00: Pele.net -> ELECTRONIC (✓)\n",
      "1200000  67% ( 34m 50s)   0.030   |   0.00: broke -> NOT_CHANGED (✓)\n",
      "Saved model to data/models/category_9_fixes/1200000_(CategorizeRNN)\n",
      "Accuracy: 99.31% (    9931/   10000)\n",
      "1210000  70% ( 36m 57s)   0.031   |   0.00: vol -> PLAIN (✓)\n",
      "1220000  73% ( 38m 37s)   0.037   |   0.00: & -> VERBATIM (✓)\n",
      "1230000  77% ( 40m 18s)   0.035   |   0.00: Ph -> LETTERS (✓)\n",
      "1240000  80% ( 41m 57s)   0.017   |   0.00: 0-8047-3641-3 -> NUMBERS (✓)\n",
      "1250000  83% ( 43m 38s)   0.028   |   0.00: 1999 -> NUMBERS (✓)\n",
      "Saved model to data/models/category_9_fixes/1250000_(CategorizeRNN)\n",
      "Accuracy: 99.41% (    9941/   10000)\n",
      "1260000  87% ( 45m 45s)   0.018   |   0.00: 1.2.4.21 -> ELECTRONIC (✓)\n",
      "1270000  90% ( 47m 25s)   0.043   |   0.00: & -> VERBATIM (✓)\n",
      "1280000  93% (  49m 6s)   0.026   |   0.00: dr -> PLAIN (✓)\n",
      "1290000  97% ( 50m 46s)   0.037   |   0.00: - -> PLAIN (✓)\n",
      "1300000 100% ( 52m 26s)   0.024   |   0.00: 90s -> NUMBERS (✓)\n",
      "Saved model to data/models/category_9_fixes/1300000_(CategorizeRNN)\n",
      "Accuracy: 99.43% (    9943/   10000)\n"
     ]
    }
   ],
   "source": [
    "train_iterations(n_iters=300000, lr=0.00005, print_every=10000)"
   ]
  },
  {
   "cell_type": "code",
   "execution_count": 50,
   "metadata": {},
   "outputs": [
    {
     "name": "stdout",
     "output_type": "stream",
     "text": [
      "    LETTERS -> NOT_CHANGED (0.81) ||      Cey -> c e y == morgan lester <SAMPLE> ( born october 27 , 1981 ) is a canadian former professional ice hockey goaltender .\n",
      "NOT_CHANGED ->     LETTERS (1.0) ||       IF -> IF == he was an honorary member of both nesodden <SAMPLE> and kolbotn il .\n",
      "NOT_CHANGED ->     LETTERS (0.996) ||    TURBO -> TURBO == \" xbox 3 60 live arcade : super street fighter ii <SAMPLE> — hd remix \" .\n",
      "NOT_CHANGED ->     LETTERS (0.699) ||     Pion -> Pion == \" cassetta telegrafica cample , officine pio — <SAMPLE> \" .\n",
      "NOT_CHANGED ->     LETTERS (0.829) ||       Un -> Un == <SAMPLE> algorithme optimal pour la ligne de partage des eaux .\n",
      "NOT_CHANGED ->     LETTERS (0.753) ||      Lac -> Lac == fond du <SAMPLE> .\n",
      "NOT_CHANGED ->     LETTERS (0.999) || SASKATCHEWAN -> SASKATCHEWAN == \" encyclopedia of <SAMPLE> ( list of forts in northern saskatchewan ) \" .\n",
      "    LETTERS -> NOT_CHANGED (0.714) ||      Rac -> r a c == adaptor protein xb 130 is a <SAMPLE> controlled component of lamellipodia that regulates cell motility and invasion .\n",
      "NOT_CHANGED ->       PLAIN (0.81) ||        : -> : == key lines of business <SAMPLE> regulations , economic development , trade , permits / licenses , grants / loans , and asset management .\n",
      "NOT_CHANGED ->     LETTERS (0.986) ||      ski -> ski == an all day lift ticket at ski cooper cost $50 . 00 during the 2015 / 16 <SAMPLE> season .\n"
     ]
    }
   ],
   "source": [
    "print_local_wrong_predictions()"
   ]
  },
  {
   "cell_type": "code",
   "execution_count": null,
   "metadata": {
    "collapsed": true
   },
   "outputs": [],
   "source": []
  },
  {
   "cell_type": "code",
   "execution_count": null,
   "metadata": {
    "collapsed": true
   },
   "outputs": [],
   "source": []
  },
  {
   "cell_type": "code",
   "execution_count": null,
   "metadata": {
    "collapsed": true
   },
   "outputs": [],
   "source": []
  },
  {
   "cell_type": "markdown",
   "metadata": {},
   "source": [
    "# Results"
   ]
  },
  {
   "cell_type": "code",
   "execution_count": 51,
   "metadata": {},
   "outputs": [
    {
     "data": {
      "text/plain": [
       "<matplotlib.figure.Figure at 0x7f7524b27320>"
      ]
     },
     "execution_count": 51,
     "metadata": {},
     "output_type": "execute_result"
    },
    {
     "data": {
      "text/plain": [
       "[<matplotlib.lines.Line2D at 0x7f752489e470>]"
      ]
     },
     "execution_count": 51,
     "metadata": {},
     "output_type": "execute_result"
    },
    {
     "data": {
      "image/png": "[encoded data removed]",
      "text/plain": [
       "<matplotlib.figure.Figure at 0x7f7524b27320>"
      ]
     },
     "metadata": {},
     "output_type": "display_data"
    }
   ],
   "source": [
    "plt.figure()\n",
    "plt.plot(model_training.losses[7:])"
   ]
  },
  {
   "cell_type": "code",
   "execution_count": 52,
   "metadata": {},
   "outputs": [
    {
     "data": {
      "text/plain": [
       "<matplotlib.figure.Figure at 0x7f74bd9d6b00>"
      ]
     },
     "execution_count": 52,
     "metadata": {},
     "output_type": "execute_result"
    },
    {
     "data": {
      "text/plain": [
       "[<matplotlib.lines.Line2D at 0x7f7524ac52b0>]"
      ]
     },
     "execution_count": 52,
     "metadata": {},
     "output_type": "execute_result"
    },
    {
     "data": {
      "image/png": "[encoded data removed]",
      "text/plain": [
       "<matplotlib.figure.Figure at 0x7f74bd9d6b00>"
      ]
     },
     "metadata": {},
     "output_type": "display_data"
    }
   ],
   "source": [
    "plt.figure()\n",
    "plt.plot(model_training.accuracy[5:])"
   ]
  },
  {
   "cell_type": "code",
   "execution_count": 53,
   "metadata": {},
   "outputs": [
    {
     "data": {
      "image/png": "[encoded data removed]",
      "text/plain": [
       "<matplotlib.figure.Figure at 0x7f750bb3c240>"
      ]
     },
     "metadata": {},
     "output_type": "display_data"
    },
    {
     "name": "stdout",
     "output_type": "stream",
     "text": [
      "Accuracy: 99.35% (   49675/   50000)\n",
      "CPU times: user 9min 39s, sys: 3.74 s, total: 9min 42s\n",
      "Wall time: 2min 26s\n"
     ]
    }
   ],
   "source": [
    "%%time\n",
    "plot_category_confusion_matrix(model, categories_all, test_model_single_sample, n_confusion=50000)"
   ]
  },
  {
   "cell_type": "code",
   "execution_count": 54,
   "metadata": {},
   "outputs": [
    {
     "data": {
      "image/png": "[encoded data removed]",
      "text/plain": [
       "<matplotlib.figure.Figure at 0x7f7524a77f60>"
      ]
     },
     "metadata": {},
     "output_type": "display_data"
    },
    {
     "name": "stdout",
     "output_type": "stream",
     "text": [
      "Accuracy: 99.30% (   49651/   50000)\n",
      "CPU times: user 10min 5s, sys: 4.08 s, total: 10min 9s\n",
      "Wall time: 2min 33s\n"
     ]
    }
   ],
   "source": [
    "%%time\n",
    "plot_category_confusion_matrix(model, categories_all, test_model_single_sample,\n",
    "                               n_confusion=50000, remove_diagonal=True)"
   ]
  },
  {
   "cell_type": "code",
   "execution_count": null,
   "metadata": {
    "collapsed": true
   },
   "outputs": [],
   "source": []
  },
  {
   "cell_type": "code",
   "execution_count": null,
   "metadata": {
    "collapsed": true
   },
   "outputs": [],
   "source": []
  },
  {
   "cell_type": "code",
   "execution_count": null,
   "metadata": {
    "collapsed": true
   },
   "outputs": [],
   "source": []
  },
  {
   "cell_type": "code",
   "execution_count": null,
   "metadata": {
    "collapsed": true
   },
   "outputs": [],
   "source": []
  },
  {
   "cell_type": "code",
   "execution_count": null,
   "metadata": {
    "collapsed": true
   },
   "outputs": [],
   "source": []
  }
 ],
 "metadata": {
  "anaconda-cloud": {},
  "kernelspec": {
   "display_name": "Python [conda env:py3_pytorch_2]",
   "language": "python",
   "name": "conda-env-py3_pytorch_2-py"
  },
  "language_info": {
   "codemirror_mode": {
    "name": "ipython",
    "version": 3
   },
   "file_extension": ".py",
   "mimetype": "text/x-python",
   "name": "python",
   "nbconvert_exporter": "python",
   "pygments_lexer": "ipython3",
   "version": "3.6.1"
  }
 },
 "nbformat": 4,
 "nbformat_minor": 2
}
